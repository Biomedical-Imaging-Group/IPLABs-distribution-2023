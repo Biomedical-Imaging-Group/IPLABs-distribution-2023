{
 "cells": [
  {
   "cell_type": "markdown",
   "metadata": {
    "deletable": false,
    "editable": false,
    "kernel": "SoS",
    "nbgrader": {
     "cell_type": "markdown",
     "checksum": "ab0b43872e548cbfe9a4534376479c96",
     "grade": false,
     "grade_id": "cell-2e535e03686402e2_2022",
     "locked": true,
     "schema_version": 3,
     "solution": false,
     "task": false
    },
    "tags": [],
    "user_expressions": []
   },
   "source": [
    "```{image} https://www.epfl.ch/about/overview/wp-content/uploads/2020/07/logo-epfl-1024x576.png \n",
    ":width: 140px\n",
    ":align: left\n",
    "```\n",
    "## Image Processing Laboratory Notebooks\n",
    "---\n",
    "\n",
    "This Juypter notebook is part of a series of computer laboratories which are designed\n",
    "to teach image-processing programming; they are running on the EPFL's Noto server. They are the practical complement of the theoretical lectures of the EPFL's Master course \n",
    "[**MICRO-511 Image Processing I**](https://moodle.epfl.ch/course/view.php?id=522) taught by Prof. M. Unser and Prof. D. Van de Ville.\n",
    "\n",
    "The project is funded by the Center for Digital Education and the School of Engineering. It is owned by the [Biomedical Imaging Group](http://bigwww.epfl.ch/). \n",
    "The distribution or the reproduction of the notebook is strictly prohibited without the written consent of the authors.  &copy; EPFL 2023.\n",
    "\n",
    "**Authors**: \n",
    "    [Pol del Aguila Pla](mailto:pol.delaguilapla@epfl.ch), \n",
    "    [Kay Lächler](mailto:kay.lachler@epfl.ch),\n",
    "    [Alejandro Noguerón Arámburu](mailto:alejandro.nogueronaramburu@epfl.ch),\n",
    "    [Yan Liu](mailto:yan.liu@epfl.ch), and\n",
    "    [Daniel Sage](mailto:daniel.sage@epfl.ch).\n",
    "    \n",
    "---\n",
    "# Lab 0: Introduction\n",
    "**Released**: Thursday September 21, 2023"
   ]
  },
  {
   "cell_type": "markdown",
   "metadata": {
    "kernel": "SoS",
    "user_expressions": []
   },
   "source": [
    "Double-click on this cell, fill your name and SCIPER number above, and run the cell below to verify your identity in Noto and set the seed for random results."
   ]
  },
  {
   "cell_type": "code",
   "execution_count": null,
   "metadata": {
    "deletable": false,
    "editable": false,
    "kernel": "Python3",
    "nbgrader": {
     "cell_type": "code",
     "checksum": "93eaae65954b538c67983964a171e0a9",
     "grade": true,
     "grade_id": "cell-136865f50e6e2d19_2022",
     "locked": true,
     "points": 0,
     "schema_version": 3,
     "solution": false,
     "task": false
    },
    "tags": []
   },
   "outputs": [],
   "source": [
    "import getpass\n",
    "# This line recovers your camipro number to mark the images with your ID\n",
    "uid = int(getpass.getuser().split('-')[2]) if len(getpass.getuser().split('-')) > 2 else ord(getpass.getuser()[0])\n",
    "print(f'SCIPER: {uid}')"
   ]
  },
  {
   "cell_type": "markdown",
   "metadata": {
    "deletable": false,
    "editable": false,
    "kernel": "SoS",
    "nbgrader": {
     "cell_type": "markdown",
     "checksum": "3c82213c659e264b64fa22ff3853dbe3",
     "grade": false,
     "grade_id": "cell-b9a8b7f1d8e767c8_2022",
     "locked": true,
     "schema_version": 3,
     "solution": false,
     "task": false
    },
    "user_expressions": []
   },
   "source": [
    "# Introduction \n",
    "\n",
    "This introductory lab will guide you through the tools that you will need for the labs. \n",
    "\n",
    "## Table of contents\n",
    "1. [Introduction to Jupyter notebooks](#intro-to-notebooks) \n",
    "2. [Elements of Python](#python)\n",
    "    1. [Basic Python programming](#basic-python)\n",
    "    2. [NumPy](#numpy)\n",
    "    3. [Matplotlib](#matplotlib)\n",
    "3. [Python Image Viewer](#python-image-viewer)\n",
    "    1. [Creation of a viewer](#creation-of-a-viewer)\n",
    "    2. [Using widgets](#using-widgets) \n",
    "    3. [User-defined widgets](#user-defined-widgets)\n",
    "    4. [Programmatic customization](#programmatic-customization)\n",
    "    5. [Try it yourself!](#3.5-try-it-yourself) \n",
    "4. [Image processing in Python](#image-processing-in-python)\n",
    "    1. [Examples](#examples)\n",
    "    2. [Try it yourself!](#4.2-try-it-yourself) \n"
   ]
  },
  {
   "cell_type": "markdown",
   "metadata": {
    "deletable": false,
    "editable": false,
    "kernel": "SoS",
    "nbgrader": {
     "cell_type": "markdown",
     "checksum": "89ede50886f2165d028a3b87c97cbe67",
     "grade": false,
     "grade_id": "cell-a9911fea2f23c3ab_2022",
     "locked": true,
     "schema_version": 3,
     "solution": false,
     "task": false
    },
    "user_expressions": []
   },
   "source": [
    "(intro-to-notebooks)=\n",
    "# 1. Introduction to Jupyter notebooks\n",
    "\n",
    "[Back to table of contents](#Table-of-contents)\n",
    "\n",
    "A Jupyter notebook consists of cells that contain either code snippets with their results or text. The cellular structure of Jupyter notebooks allows us to run small snippets of code one after the other, go back and forth between, or check intermediate results between them. \n",
    "\n",
    "<b>Note</b>: If you declare some variable in a cell, this variable will be available in all other cells that use the same programming language, irrespective of the location of the cell. Let's look at an example. Read the description of the cells below and run them as instructed."
   ]
  },
  {
   "cell_type": "markdown",
   "metadata": {
    "deletable": false,
    "editable": false,
    "kernel": "SoS",
    "nbgrader": {
     "cell_type": "markdown",
     "checksum": "0c8958238ac8659091e53c4394cf05d3",
     "grade": false,
     "grade_id": "cell-5e1dff4a7d4037af_2022",
     "locked": true,
     "schema_version": 3,
     "solution": false,
     "task": false
    },
    "user_expressions": []
   },
   "source": [
    "In this first cell we declare a variable `a` and assign it the value $5$. Run it."
   ]
  },
  {
   "cell_type": "code",
   "execution_count": null,
   "metadata": {
    "deletable": false,
    "editable": false,
    "kernel": "Python3",
    "nbgrader": {
     "cell_type": "code",
     "checksum": "413c93dcd216fee2ee52818512ffd6a3",
     "grade": false,
     "grade_id": "cell-d3eece0ac887379b_2022",
     "locked": true,
     "schema_version": 3,
     "solution": false,
     "task": false
    },
    "tags": []
   },
   "outputs": [],
   "source": [
    "# cell 1\n",
    "# this is our variable\n",
    "a = 5"
   ]
  },
  {
   "cell_type": "markdown",
   "metadata": {
    "deletable": false,
    "editable": false,
    "kernel": "Python3",
    "nbgrader": {
     "cell_type": "markdown",
     "checksum": "932b5b1491f988b84e4a411cf06f0d1a",
     "grade": false,
     "grade_id": "cell-5674e519bb6533a8_2022",
     "locked": true,
     "schema_version": 3,
     "solution": false,
     "task": false
    },
    "user_expressions": []
   },
   "source": [
    "In the second cell we print the value of `a`. If you run it just after the cell above, it should print \"The value of a is 5\". Run it."
   ]
  },
  {
   "cell_type": "code",
   "execution_count": null,
   "metadata": {
    "deletable": false,
    "editable": false,
    "kernel": "Python3",
    "nbgrader": {
     "cell_type": "code",
     "checksum": "18363733e5fb57c62186efbdc2643d18",
     "grade": false,
     "grade_id": "cell-0b3e58366b94423b_2022",
     "locked": true,
     "schema_version": 3,
     "solution": false,
     "task": false
    },
    "tags": []
   },
   "outputs": [],
   "source": [
    "# cell 2\n",
    "# here we print the value of a\n",
    "print(f\"The value of a is {a}\")"
   ]
  },
  {
   "cell_type": "markdown",
   "metadata": {
    "deletable": false,
    "editable": false,
    "kernel": "Python3",
    "nbgrader": {
     "cell_type": "markdown",
     "checksum": "d350d0450e737e3e46df21159bef5aa4",
     "grade": false,
     "grade_id": "cell-e21122a5c72a1c66_2022",
     "locked": true,
     "schema_version": 3,
     "solution": false,
     "task": false
    },
    "user_expressions": []
   },
   "source": [
    "Then, in the third cell, we modify `a` by adding $2$ to it. Run it."
   ]
  },
  {
   "cell_type": "code",
   "execution_count": null,
   "metadata": {
    "deletable": false,
    "editable": false,
    "kernel": "Python3",
    "nbgrader": {
     "cell_type": "code",
     "checksum": "fbe5c3c54a9b748bb4a0138521987afc",
     "grade": false,
     "grade_id": "cell-b64be8c1a57a3151_2022",
     "locked": true,
     "schema_version": 3,
     "solution": false,
     "task": false
    },
    "tags": []
   },
   "outputs": [],
   "source": [
    "# cell 3\n",
    "# add two to a\n",
    "a = a + 2"
   ]
  },
  {
   "cell_type": "markdown",
   "metadata": {
    "deletable": false,
    "editable": false,
    "kernel": "Python3",
    "nbgrader": {
     "cell_type": "markdown",
     "checksum": "fbbae9c22206b2edee3ab7d1a5fca4b3",
     "grade": false,
     "grade_id": "cell-1eb9f7b8a262e747_2022",
     "locked": true,
     "schema_version": 3,
     "solution": false,
     "task": false
    },
    "user_expressions": []
   },
   "source": [
    "Now run _cell 2_ again: the value of `a` has been modified, even though _cell 2_ is located above _cell 3_ in our notebook. Now run _cell 1_ again, where we set `a=5`, and `a` will be $5$ in all cells again. \n",
    "This shows the **global** impact every single cell has on the notebook. "
   ]
  },
  {
   "cell_type": "markdown",
   "metadata": {
    "deletable": false,
    "editable": false,
    "kernel": "SoS",
    "nbgrader": {
     "cell_type": "markdown",
     "checksum": "dd7fb2a1417e989214ead896b351d05c",
     "grade": false,
     "grade_id": "cell-0630236608fb807a_2022",
     "locked": true,
     "schema_version": 3,
     "solution": false,
     "task": false
    },
    "user_expressions": []
   },
   "source": [
    "<div class=\"alert alert-info\">\n",
    "\n",
    "**Note:** If at any point the kernel should crash for whatever reason, you can restart it by clicking on the button `Kernel` in the toolbar on top and then click on `Restart Kernel...`. Once the kernel is restarted, you will need to run all necessary cells again to regain the working environment you had before. A good practice to test that there are no errors in the notebook is to click `Restart and Run All Cells...` once you have finished a notebook. This will run all the cells from top to bottom and only stop if an error occurs.\n",
    "</div>"
   ]
  },
  {
   "cell_type": "markdown",
   "metadata": {
    "kernel": "Python3",
    "tags": [],
    "user_expressions": []
   },
   "source": [
    "(python)=\n",
    "# 2. Elements of Python\n",
    "\n",
    "[Back to table of contents](#Table-of-contents)\n",
    "\n",
    "_Python_ is a high-level language with many great libraries with built-in image processing algorithms. You will learn how to apply the different image processing methods to images using the fastest and most standard tools and visualize the results. \n",
    "\n",
    "    \n",
    "**Note:** If you are already familiar with [Python](python.org) and the [NumPy](numpy.org) and [Matplotlib](matplotlib.org) libraries, you can jump to the next section.\n",
    "</div>\n",
    "\n",
    "(basic-python)=\n",
    "## 2.1. Basic Python programming\n",
    "[Back to table of contents](#Table-of-contents)\n",
    "\n",
    "There are three basic types of variables  in Python:\n",
    "```python\n",
    "# Numbers\n",
    "my_var = 2\n",
    "my_var = 5.2\n",
    "# Strings\n",
    "my_var = 'Either use single quotes'\n",
    "my_var = \"or use double quotes\"\n",
    "# Boolean\n",
    "my_var = True\n",
    "my_var = False\n",
    "```\n",
    "Every variable can hold every type of data, so we don't need to specify the type at initialization.\n",
    "\n",
    "We can have lists of several items:\n",
    "```python\n",
    "# List of numbers\n",
    "my_list = [2.5, 7, 3.3]\n",
    "# List of strings\n",
    "my_list = ['E.T.', 'phone', 'home']\n",
    "# List of booleans\n",
    "my_list = [True, True, False]\n",
    "```\n",
    "Lists are 0-indexed and can be accessed with square brackets:\n",
    "```python\n",
    "# Set the 3rd element of my_list to 5\n",
    "my_list[2] = 5\n",
    "# Retrieve the 2nd element of my_list\n",
    "new_var = my_list[1]\n",
    "```\n",
    "Similarly we can make tuples, which are just like lists, but their values cannot be modified after they have been initialized:\n",
    "```python\n",
    "# This is a tuple of three numbers\n",
    "my_tuple = (3, 8.6, 4)\n",
    "# Access to a tuple is similar to lists\n",
    "new_var = my_tuple[1]\n",
    "# But we cannot write to a tuple!\n",
    "```\n",
    "For numbers we have the following basic operators:\n",
    "```python\n",
    "# Define the two variables\n",
    "a = 5\n",
    "b = 2\n",
    "# Addition\n",
    "a + b\n",
    ">> 7\n",
    "# Subtraction\n",
    "a - b\n",
    ">> 3\n",
    "# Multiplication\n",
    "a * b\n",
    ">> 10\n",
    "# Division\n",
    "a / b\n",
    ">> 2.5\n",
    "# Integer division\n",
    "a // b\n",
    ">> 2\n",
    "# Modulo (remainder of integer division)\n",
    "a % b\n",
    ">> 1\n",
    "# Power\n",
    "a ** b\n",
    ">> 25\n",
    "```\n",
    "We can have conditional statements\n",
    "```python\n",
    "if a < b:\n",
    "    # printing is done with the print function\n",
    "    print('a is smaller than b')\n",
    "else:\n",
    "    print('a is bigger than or equal to b')\n",
    "```\n",
    "<div class=\"alert alert-info\">\n",
    "\n",
    "**Note:** Indentation is important in Python. Writing a conditional statement, a loop, a function, etc., without an indent (`Tab`) raises an error.\n",
    "</div>\n",
    "\n",
    "with the following comparison operators:\n",
    "```python\n",
    "<  # Smaller than\n",
    "<= # Smaller or equal\n",
    ">  # Bigger than\n",
    ">= # Bigger than or equal to\n",
    "== # Equal to\n",
    "!= # Not equal to\n",
    "```\n",
    "A `for` loop is declared as:\n",
    "```python\n",
    "# Note: range(n) creates numbers from 0 to n-1\n",
    "for i in range(10):\n",
    "    # Another for loop inside the for loop - we call this 'nested for loops'\n",
    "    for j in range(10):\n",
    "        # We can also have formatted strings indicated by a preceeding 'f', where the number i is inserted into the string\n",
    "        print(f'Loop iteration number {j}')\n",
    "```\n",
    "\n",
    "Similarly a `while` loop:\n",
    "```python\n",
    "i = 0\n",
    "while i < 10:\n",
    "    print(f'Loop iteration number {i}')\n",
    "    i = i + 1\n",
    "```\n",
    "And finally, a function can be defined using the `def` keyword:\n",
    "```python\n",
    "# A function that adds two numbers and returns the result\n",
    "def addition(a, b):\n",
    "    # Add the numbers\n",
    "    result = a + b\n",
    "    # Return the result\n",
    "    return result\n",
    "\n",
    "# Run the function\n",
    "addition(5, 10)\n",
    ">> 15\n",
    "```\n",
    "\n",
    "Experiment with Python in the cell below. Learn to do the simple things that come to mind and take the chance to explore all of the options above."
   ]
  },
  {
   "cell_type": "code",
   "execution_count": null,
   "metadata": {
    "kernel": "Python3"
   },
   "outputs": [],
   "source": []
  },
  {
   "cell_type": "markdown",
   "metadata": {
    "deletable": false,
    "editable": false,
    "kernel": "Python3",
    "nbgrader": {
     "cell_type": "markdown",
     "checksum": "b257a6dc84968d6372646eec34b38b7b",
     "grade": false,
     "grade_id": "cell-e4d90f9cb5c796d2_2022",
     "locked": true,
     "schema_version": 3,
     "solution": false,
     "task": false
    },
    "user_expressions": []
   },
   "source": [
    "(numpy)=\n",
    "### 2.2. NumPy\n",
    "[Back to table of contents](#Table-of-contents)\n",
    "\n",
    "[NumPy](https://NumPy.org/) library provides multidimensional matrix/array processing tools. Most image processing libraries in Python use NumPy arrays to represent images. \n",
    "\n",
    "It is best practice to import the NumPy library as `np`, to avoid typing `numpy` every time. This also makes the code more readable. Run the cell below to import NumPy."
   ]
  },
  {
   "cell_type": "code",
   "execution_count": null,
   "metadata": {
    "deletable": false,
    "editable": false,
    "kernel": "Python3",
    "nbgrader": {
     "cell_type": "code",
     "checksum": "420b4051b3a5bc51835db3bdb8f61f09",
     "grade": false,
     "grade_id": "cell-ce837d96b7456876_2022",
     "locked": true,
     "schema_version": 3,
     "solution": false,
     "task": false
    },
    "tags": []
   },
   "outputs": [],
   "source": [
    "# Import the NumPy library\n",
    "import numpy as np"
   ]
  },
  {
   "cell_type": "markdown",
   "metadata": {
    "deletable": false,
    "editable": false,
    "kernel": "Python3",
    "nbgrader": {
     "cell_type": "markdown",
     "checksum": "c03ec74406b15edc2c158b363d0e9778",
     "grade": false,
     "grade_id": "cell-30b31e8a8d08364c_2022",
     "locked": true,
     "schema_version": 3,
     "solution": false,
     "task": false
    },
    "user_expressions": []
   },
   "source": [
    "To create a new NumPy array filled with zeros we can use `np.zeros`. It requires the size of the array we want to get as a tuple `(height, width)`. Run the cell below to see an example.\n",
    "\n",
    "Optionally, we can specify the internal numerical [type](https://NumPy.org/devdocs/user/basics.types.html) of the array. For example, one can use 8-bit unsigned integers (`np.uint8`). This type is convenient for 8-bit images, as the resulting array will occupy less memory than with other types, such as `np.float32` or `np.float64`. For most of the labs, you will not need to mind the numerical type of your variables: it adapts automatically to represent what you are storing in each instance."
   ]
  },
  {
   "cell_type": "code",
   "execution_count": null,
   "metadata": {
    "deletable": false,
    "editable": false,
    "kernel": "Python3",
    "nbgrader": {
     "cell_type": "code",
     "checksum": "d7a689ec9eda4b820d3ab0e7db1591bd",
     "grade": false,
     "grade_id": "cell-f077efe2cb4faf8c_2022",
     "locked": true,
     "schema_version": 3,
     "solution": false,
     "task": false
    },
    "tags": []
   },
   "outputs": [],
   "source": [
    "# A NumPy array of size 5x10 with numerical type \"unsigned 8-bit integer\"\n",
    "my_arr = np.zeros((5,10), dtype=np.uint8)\n",
    "# Print the result\n",
    "print(my_arr)"
   ]
  },
  {
   "cell_type": "markdown",
   "metadata": {
    "deletable": false,
    "editable": false,
    "kernel": "Python3",
    "nbgrader": {
     "cell_type": "markdown",
     "checksum": "9a784af2e47aaaa0d2cabd1901f5879b",
     "grade": false,
     "grade_id": "cell-4796a0e2be34dab4_2022",
     "locked": true,
     "schema_version": 3,
     "solution": false,
     "task": false
    },
    "user_expressions": []
   },
   "source": [
    "NumPy arrays can be accessed using the same notation used for lists, but with an index for every dimension. \n",
    "<div class=\"alert alert-warning\">\n",
    "    \n",
    "**Beware:** In NumPy arrays, the first index specifies the row (y-axis location), not the x-axis location, while the second index specifies the column (x-axis location), not the y-axis location.\n",
    "</div>"
   ]
  },
  {
   "cell_type": "code",
   "execution_count": null,
   "metadata": {
    "deletable": false,
    "editable": false,
    "kernel": "Python3",
    "nbgrader": {
     "cell_type": "code",
     "checksum": "d30fb96a8f108db16399684597fb2fd4",
     "grade": false,
     "grade_id": "cell-da2800ea53561941_2022",
     "locked": true,
     "schema_version": 3,
     "solution": false,
     "task": false
    },
    "tags": []
   },
   "outputs": [],
   "source": [
    "# Set the value at the Yth row, Xth column to 1\n",
    "my_arr[3, 7] = 1\n",
    "print(my_arr)"
   ]
  },
  {
   "cell_type": "markdown",
   "metadata": {
    "deletable": false,
    "editable": false,
    "kernel": "Python3",
    "nbgrader": {
     "cell_type": "markdown",
     "checksum": "1945ce2b6b397bd2773f491a2ef416c6",
     "grade": false,
     "grade_id": "cell-53ef809fcb84d0a5_2022",
     "locked": true,
     "schema_version": 3,
     "solution": false,
     "task": false
    },
    "user_expressions": []
   },
   "source": [
    "We can also use *slicing* `:` to determine whole regions of the array to read or assign. "
   ]
  },
  {
   "cell_type": "code",
   "execution_count": null,
   "metadata": {
    "deletable": false,
    "editable": false,
    "kernel": "Python3",
    "nbgrader": {
     "cell_type": "code",
     "checksum": "06e1001d4431492cb8f7601d9aa486a0",
     "grade": false,
     "grade_id": "cell-49d3e13d428598d2_2022",
     "locked": true,
     "schema_version": 3,
     "solution": false,
     "task": false
    },
    "tags": []
   },
   "outputs": [],
   "source": [
    "# Insert a rectangle with the upper left corner at (Y_1,X_1) and the lower right corner at (Y_2,X_2)\n",
    "my_arr[:3, 2:6] = 1\n",
    "print(my_arr)"
   ]
  },
  {
   "cell_type": "markdown",
   "metadata": {
    "deletable": false,
    "editable": false,
    "kernel": "Python3",
    "nbgrader": {
     "cell_type": "markdown",
     "checksum": "08ebcc127d566e5341bfbbca5c1c1405",
     "grade": false,
     "grade_id": "cell-bf84faf67987733f_2022",
     "locked": true,
     "schema_version": 3,
     "solution": false,
     "task": false
    },
    "user_expressions": []
   },
   "source": [
    "As you can see in the code, in slicing, we define an interval of numbers by `<lower_limit>:<upper_limit + 1>`. If one of the limits is not specified, it is interpreted as _from the beginning_ or _to the end_. Note that the lower limit is inclusive, while the upper limit is exclusive.\n",
    "\n",
    "Using slicing we can also extract patches of an array to create new arrays. Run the example below and see its effect."
   ]
  },
  {
   "cell_type": "code",
   "execution_count": null,
   "metadata": {
    "deletable": false,
    "editable": false,
    "kernel": "Python3",
    "nbgrader": {
     "cell_type": "code",
     "checksum": "0cc0a0e45cc76aa5b1d947193a99ab9e",
     "grade": false,
     "grade_id": "cell-eae2626368bd79a4_2022",
     "locked": true,
     "schema_version": 3,
     "solution": false,
     "task": false
    },
    "tags": []
   },
   "outputs": [],
   "source": [
    "# Let's extract the rectangle that we created\n",
    "my_rect = my_arr[:3, 2:6]\n",
    "# Note: '\\n' creates a new line when printing\n",
    "print(f'Original array: \\n{my_arr}\\n\\nExtracted patch: \\n{my_rect}')"
   ]
  },
  {
   "cell_type": "markdown",
   "metadata": {
    "deletable": false,
    "editable": false,
    "kernel": "Python3",
    "nbgrader": {
     "cell_type": "markdown",
     "checksum": "0635b8db42efa41dcde10286c58c5948",
     "grade": false,
     "grade_id": "cell-5a5a1dcc6cfa9a76_2022",
     "locked": true,
     "schema_version": 3,
     "solution": false,
     "task": false
    },
    "user_expressions": []
   },
   "source": [
    "Using NumPy arrays, we can easily perform the basic operations element-wise on all elements of one or several arrays (). Run the cell below to define a random array to work with."
   ]
  },
  {
   "cell_type": "code",
   "execution_count": null,
   "metadata": {
    "deletable": false,
    "editable": false,
    "kernel": "Python3",
    "nbgrader": {
     "cell_type": "code",
     "checksum": "07c658c647aa11fcd696dc1168cf69b2",
     "grade": false,
     "grade_id": "cell-a2f9f9b6b634798d_2022",
     "locked": true,
     "schema_version": 3,
     "solution": false,
     "task": false
    },
    "tags": []
   },
   "outputs": [],
   "source": [
    "# First we define an array of size 5x5 filled with random integers from 0 to 10\n",
    "np.random.seed(uid)\n",
    "rand_array = np.random.randint(low=0, high=10, size=(5,5))\n",
    "print(f'Initial array:\\n{rand_array}')"
   ]
  },
  {
   "cell_type": "markdown",
   "metadata": {
    "deletable": false,
    "editable": false,
    "kernel": "Python3",
    "nbgrader": {
     "cell_type": "markdown",
     "checksum": "b521b36348cb8fa80cb5f93b2156829d",
     "grade": false,
     "grade_id": "cell-d7e238fb8cd255eb_2022",
     "locked": true,
     "schema_version": 3,
     "solution": false,
     "task": false
    },
    "user_expressions": []
   },
   "source": [
    "We can perform any operation with a scalar for all elements of the array at the same time by using the array as if it was a variable with a single number. Run the example below and make sure you understand its results."
   ]
  },
  {
   "cell_type": "code",
   "execution_count": null,
   "metadata": {
    "deletable": false,
    "editable": false,
    "kernel": "Python3",
    "nbgrader": {
     "cell_type": "code",
     "checksum": "c359d6b185f91c8f78f0369d724bf5c9",
     "grade": false,
     "grade_id": "cell-2ca351336e812cdb_2022",
     "locked": true,
     "schema_version": 3,
     "solution": false,
     "task": false
    },
    "tags": []
   },
   "outputs": [],
   "source": [
    "# Add 2 to all elements\n",
    "rand_array = rand_array + 2\n",
    "print(f'rand_array + 2:\\n{rand_array}\\n')\n",
    "# Divide all elements of the resulting array by 2\n",
    "rand_array = rand_array / 2\n",
    "print(f'rand_array / 2:\\n{rand_array}')"
   ]
  },
  {
   "cell_type": "markdown",
   "metadata": {
    "deletable": false,
    "editable": false,
    "kernel": "Python3",
    "nbgrader": {
     "cell_type": "markdown",
     "checksum": "19e590541c6076667223ec4a1dbb0884",
     "grade": false,
     "grade_id": "cell-866f1219a1f9eeae_2022",
     "locked": true,
     "schema_version": 3,
     "solution": false,
     "task": false
    },
    "user_expressions": []
   },
   "source": [
    "Similarly, we can use expressions with multiple arrays of the same size and any of the basic operators: the calculation will be made on the co-positioned elements of the different arrays. Run the example below and make sure you understand its results."
   ]
  },
  {
   "cell_type": "code",
   "execution_count": null,
   "metadata": {
    "deletable": false,
    "editable": false,
    "kernel": "Python3",
    "nbgrader": {
     "cell_type": "code",
     "checksum": "27e6b806816b9be30ab4a416ad788a29",
     "grade": false,
     "grade_id": "cell-b97066e03289b821_2022",
     "locked": true,
     "schema_version": 3,
     "solution": false,
     "task": false
    },
    "tags": []
   },
   "outputs": [],
   "source": [
    "# Let's initialize two new random arrays\n",
    "rand_array_1 = np.random.randint(low=0, high=10, size=(5,5))\n",
    "rand_array_2 = np.random.randint(low=0, high=10, size=(5,5))\n",
    "print(f'Array 1:\\n{rand_array_1}\\n\\nArray 2:\\n{rand_array_2}')\n",
    "# We can for example add them together\n",
    "added_arrays = rand_array_1 + rand_array_2\n",
    "print(f'\\nArray 1 + Array 2:\\n{added_arrays}')\n",
    "# Or multiply them\n",
    "multiplied_arrays = rand_array_1 * rand_array_2\n",
    "print(f'\\nArray 1 * Array 2:\\n{multiplied_arrays}')"
   ]
  },
  {
   "cell_type": "markdown",
   "metadata": {
    "deletable": false,
    "editable": false,
    "kernel": "Python3",
    "nbgrader": {
     "cell_type": "markdown",
     "checksum": "15b9deaaac6f2c834d9ac0a8451a2323",
     "grade": false,
     "grade_id": "cell-47e447e5bdfa224c_2022",
     "locked": true,
     "schema_version": 3,
     "solution": false,
     "task": false
    },
    "user_expressions": []
   },
   "source": [
    "We can also perform _advanced indexing_ of NumPy arrays: we can provide a [boolean](https://en.wikipedia.org/wiki/Boolean_data_type) array as the index and extract/modify only the values that are specified as `True`. An application of this form of indexing could be to take the multiplied array from the previous cell and set all its elements that are larger than $25$ to $100$. Run the example below and make sure you understand its results."
   ]
  },
  {
   "cell_type": "code",
   "execution_count": null,
   "metadata": {
    "deletable": false,
    "editable": false,
    "kernel": "Python3",
    "nbgrader": {
     "cell_type": "code",
     "checksum": "c265c740216036a97b6195f3254cb96b",
     "grade": false,
     "grade_id": "cell-973825d59429848c_2022",
     "locked": true,
     "schema_version": 3,
     "solution": false,
     "task": false
    },
    "tags": []
   },
   "outputs": [],
   "source": [
    "# First print the multiplied array as a reference\n",
    "print(f'Multiplied array:\\n{multiplied_arrays}')\n",
    "# Create the boolean array that contains true at every location, where the multiplied array has a value bigger than 25\n",
    "boolean_array = multiplied_arrays > 25\n",
    "print(f'\\nBoolean array:\\t(Multiplied array > 25)\\n{boolean_array}')\n",
    "# Now we can use this array to index the multiplied array and set all elements indicated by True to 100\n",
    "multiplied_arrays[boolean_array] = 100\n",
    "print(f'\\nMultiplied array with all elements > 25 set to 100:\\n{multiplied_arrays}')"
   ]
  },
  {
   "cell_type": "markdown",
   "metadata": {
    "deletable": false,
    "editable": false,
    "kernel": "SoS",
    "nbgrader": {
     "cell_type": "markdown",
     "checksum": "e39fd7cea2e629a5e89a3eab3acc779d",
     "grade": false,
     "grade_id": "cell-4712f202350db163_2022",
     "locked": true,
     "schema_version": 3,
     "solution": false,
     "task": false
    },
    "user_expressions": []
   },
   "source": [
    "Note that you can also create the boolean array in place, without explicitly declaring an additional variable. Run the cell below and see the difference with the preceeding cell. We will reuse the variable `multiplied_arrays`, and set all elements smaller than $20$ to $1$."
   ]
  },
  {
   "cell_type": "code",
   "execution_count": null,
   "metadata": {
    "deletable": false,
    "editable": false,
    "kernel": "Python3",
    "nbgrader": {
     "cell_type": "code",
     "checksum": "09569e718acd072573a75c520c4a490a",
     "grade": false,
     "grade_id": "cell-747e1bc2df5df1ea_2022",
     "locked": true,
     "schema_version": 3,
     "solution": false,
     "task": false
    },
    "tags": []
   },
   "outputs": [],
   "source": [
    "# We get the array we have, and index only the elements smaller than 20.\n",
    "multiplied_arrays[multiplied_arrays < 20] = 1\n",
    "print(f'\\nMultiplied array with all elements < 20 set to 1:\\n{multiplied_arrays}')"
   ]
  },
  {
   "cell_type": "markdown",
   "metadata": {
    "deletable": false,
    "editable": false,
    "kernel": "Python3",
    "nbgrader": {
     "cell_type": "markdown",
     "checksum": "82ff6e9b862bd4bded12b51354dc5ae4",
     "grade": false,
     "grade_id": "cell-be7bf7e3189461ba_2022",
     "locked": true,
     "schema_version": 3,
     "solution": false,
     "task": false
    },
    "user_expressions": []
   },
   "source": [
    "(matplotlib)=\n",
    "### 2.3. Matplotlib\n",
    "[Back to table of contents](#Table-of-contents)\n",
    "\n",
    "[Matplotlib](https://matplotlib.org/), specifically, [PyPlot module](https://matplotlib.org/stable/api/_as_gen/matplotlib.pyplot.html#module-matplotlib.pyplot) allows us to load images as NumPy arrays, and visualize NumPy arrays as images. \n",
    " \n",
    "\n",
    "It is best practice to import the module as `plt`."
   ]
  },
  {
   "cell_type": "code",
   "execution_count": null,
   "metadata": {
    "deletable": false,
    "editable": false,
    "kernel": "Python3",
    "nbgrader": {
     "cell_type": "code",
     "checksum": "ea814e461a8d03ee286a369067320008",
     "grade": false,
     "grade_id": "cell-b188c66487c5d957_2022",
     "locked": true,
     "schema_version": 3,
     "solution": false,
     "task": false
    },
    "tags": []
   },
   "outputs": [],
   "source": [
    "# Set the image display to be interactive \n",
    "%matplotlib widget\n",
    "# Import pyplot\n",
    "import matplotlib.pyplot as plt"
   ]
  },
  {
   "cell_type": "markdown",
   "metadata": {
    "deletable": false,
    "editable": false,
    "kernel": "Python3",
    "nbgrader": {
     "cell_type": "markdown",
     "checksum": "03cecb027014dca4ccff362312f72088",
     "grade": false,
     "grade_id": "cell-058c6f8138099c92_2022",
     "locked": true,
     "schema_version": 3,
     "solution": false,
     "task": false
    },
    "user_expressions": []
   },
   "source": [
    "The only functionality you really need to know is how to load images using `plt.imread`:"
   ]
  },
  {
   "cell_type": "code",
   "execution_count": null,
   "metadata": {
    "deletable": false,
    "editable": false,
    "kernel": "Python3",
    "nbgrader": {
     "cell_type": "code",
     "checksum": "f73c58b4c9805919e971d041cc6d210b",
     "grade": false,
     "grade_id": "cell-587750934f09ea2b_2022",
     "locked": true,
     "schema_version": 3,
     "solution": false,
     "task": false
    },
    "tags": []
   },
   "outputs": [],
   "source": [
    "# Load an example image located at 'images/epfl.tif'\n",
    "example_img = plt.imread('images/epfl.tif')\n",
    "# Then, we can check the image is really a NumPy array\n",
    "type(example_img)"
   ]
  },
  {
   "cell_type": "markdown",
   "metadata": {
    "deletable": false,
    "editable": false,
    "kernel": "Python3",
    "nbgrader": {
     "cell_type": "markdown",
     "checksum": "caba9281d02c5aee7490c71525e11802",
     "grade": false,
     "grade_id": "cell-aca8d89f9fcfb961_2022",
     "locked": true,
     "schema_version": 3,
     "solution": false,
     "task": false
    },
    "user_expressions": []
   },
   "source": [
    "To see the image, use `plt.imshow`. In these labs, however, you will use the [imviewer](#4.-Python-Image-Viewer) class provided by us, which adds extra functionality on top of `plt.imshow`."
   ]
  },
  {
   "cell_type": "code",
   "execution_count": null,
   "metadata": {
    "deletable": false,
    "editable": false,
    "kernel": "Python3",
    "nbgrader": {
     "cell_type": "code",
     "checksum": "5867b2c6dc6bbd9d073a3c173b667afc",
     "grade": false,
     "grade_id": "cell-61e6c4d19aa3190f_2022",
     "locked": true,
     "schema_version": 3,
     "solution": false,
     "task": false
    },
    "tags": []
   },
   "outputs": [],
   "source": [
    "# When using plt.imshow we first need to declare a new figure\n",
    "plt.figure()\n",
    "# Then we add the image to the figure\n",
    "plt.imshow(example_img, cmap='gray')\n",
    "# Give it a title\n",
    "plt.title(f\"Example Image - SCIPER: {int(getpass.getuser().split('-')[2]) if len(getpass.getuser().split('-')) > 2 else ord(getpass.getuser()[0])}\")\n",
    "# And finally we make sure it is displayed on the screen\n",
    "plt.show()"
   ]
  },
  {
   "cell_type": "markdown",
   "metadata": {
    "deletable": false,
    "editable": false,
    "kernel": "Python3",
    "nbgrader": {
     "cell_type": "markdown",
     "checksum": "6aaeeb9ea6035323c229ac386d5bd019",
     "grade": false,
     "grade_id": "cell-7fc8419efb7f6993_2022",
     "locked": true,
     "schema_version": 3,
     "solution": false,
     "task": false
    },
    "user_expressions": []
   },
   "source": [
    "Experiment with Python, NumPy and Matplotlib in the empty cell below. Learn to do the simple things that come to mind and take the chance to explore all of the options above. If you need some inspiration, run the next cell to follow the instructional video by Kay."
   ]
  },
  {
   "cell_type": "code",
   "execution_count": null,
   "metadata": {
    "deletable": false,
    "editable": false,
    "kernel": "Python3",
    "nbgrader": {
     "cell_type": "code",
     "checksum": "99c452ee62cec61bcb7241c93d950daa",
     "grade": false,
     "grade_id": "KayYouTube-2_2022",
     "locked": true,
     "schema_version": 3,
     "solution": false,
     "task": false
    },
    "tags": []
   },
   "outputs": [],
   "source": [
    "from IPython.display import IFrame\n",
    "IFrame(width=\"800\", height=\"450\", src=\"https://www.youtube-nocookie.com/embed/oewtZoQb2gY\")"
   ]
  },
  {
   "cell_type": "markdown",
   "metadata": {
    "deletable": false,
    "editable": false,
    "kernel": "SoS",
    "nbgrader": {
     "cell_type": "markdown",
     "checksum": "0b0afb8d15c3e5982082953fc2ed013a",
     "grade": false,
     "grade_id": "cell-53a3a2270cb0e9e9_2022",
     "locked": true,
     "schema_version": 3,
     "solution": false,
     "task": false
    },
    "user_expressions": []
   },
   "source": [
    "(python-image-viewer)=\n",
    "# 3. Python Image Viewer\n",
    "[Back to table of contents](#Table-of-contents)\n",
    "\n",
    "To ease image visualization and manipulation, we have developed a library, the `imviewer` class, which you will use throughout the labs.\n",
    "Before using the class, be sure to check the documentation [wiki](https://github.com/Biomedical-Imaging-Group/interactive-kit/wiki/Image-Viewer). \n",
    "\n",
    "The `imviewer` runs without explicitly importing any external libraries. However, we will import the library `Ipywidgets` ([see documentation](https://ipywidgets.readthedocs.io/en/latest/)) to allow for interactive visualization. You will even use it to add your own functions to the viewer's interface! \n",
    "\n",
    "How to import`imviewer`: \n",
    "```python\n",
    "%matplotlib widget\n",
    "from interactive_kit import imviewer as viewer\n",
    "```\n",
    "  \n",
    "Run the cell below to import the viewer and load the images we will work with."
   ]
  },
  {
   "cell_type": "code",
   "execution_count": null,
   "metadata": {
    "deletable": false,
    "editable": false,
    "kernel": "Python3",
    "nbgrader": {
     "cell_type": "code",
     "checksum": "952e195b7b9be542e6088499008a8839",
     "grade": false,
     "grade_id": "cell-7428d86ca38a5846_2022",
     "locked": true,
     "schema_version": 3,
     "solution": false,
     "task": false
    },
    "tags": []
   },
   "outputs": [],
   "source": [
    "# Configure plotting as dynamic\n",
    "%matplotlib widget\n",
    "# Import required packages for this exercise\n",
    "import numpy as np\n",
    "import matplotlib.pyplot as plt\n",
    "import ipywidgets as widgets\n",
    "# Import imviewer\n",
    "from interactive_kit import imviewer as viewer\n",
    "\n",
    "# Import images\n",
    "car   = plt.imread('images/car_pad.tif')\n",
    "hrct  = plt.imread('images/hrct.tif')\n",
    "hands = plt.imread('images/hands.tif')\n",
    "plate = plt.imread('images/plate.tif')\n",
    "boats = plt.imread('images/boats.tif')"
   ]
  },
  {
   "cell_type": "markdown",
   "metadata": {
    "deletable": false,
    "editable": false,
    "kernel": "SoS",
    "nbgrader": {
     "cell_type": "markdown",
     "checksum": "01821b42de11b7c633e3802cfd08b386",
     "grade": false,
     "grade_id": "cell-657e3cbdc0448d7f_2022",
     "locked": true,
     "schema_version": 3,
     "solution": false,
     "task": false
    },
    "user_expressions": []
   },
   "source": [
    "(creation-of-a-viewer)=\n",
    "## 3.1. Creation of a viewer\n",
    "[Back to table of contents](#Table-of-contents)\n",
    "\n",
    "Run the cell below to follow an instructional video by Alejandro Noguerón Arámburu, one of the student developers. He will guide you and exemplify the use of the viewer."
   ]
  },
  {
   "cell_type": "code",
   "execution_count": null,
   "metadata": {
    "deletable": false,
    "editable": false,
    "kernel": "Python3",
    "nbgrader": {
     "cell_type": "code",
     "checksum": "cc55d67e76e11252e83fbebd177ae62e",
     "grade": false,
     "grade_id": "AlejandroYouTube-1_2022",
     "locked": true,
     "schema_version": 3,
     "solution": false,
     "task": false
    },
    "tags": []
   },
   "outputs": [],
   "source": [
    "from IPython.display import IFrame\n",
    "IFrame(width=\"800\", height=\"450\", src=\"https://www.youtube-nocookie.com/embed/OKYy3C0MCm0\")"
   ]
  },
  {
   "cell_type": "code",
   "execution_count": null,
   "metadata": {
    "deletable": false,
    "editable": false,
    "kernel": "Python3",
    "nbgrader": {
     "cell_type": "code",
     "checksum": "8840d55eedf3dbc5a735c528bb1d1387",
     "grade": false,
     "grade_id": "cell-8c66520f78de83a7_2022",
     "locked": true,
     "schema_version": 3,
     "solution": false,
     "task": false
    },
    "tags": []
   },
   "outputs": [],
   "source": [
    "# Declare image list\n",
    "first_list = [hands, plate, car, hrct]\n",
    "# Declare titles (only two)\n",
    "title_list = ['Hands', 'Plate']\n",
    "# First we close all matplotlib existing figures to improve performance\n",
    "plt.close('all')\n",
    "# Call the image viewer with the image list as first argument. The rest of the arguments are optional\n",
    "first_viewer = viewer(first_list, title=title_list, widgets=True, hist=True, axis=True, cmap='gray')"
   ]
  },
  {
   "cell_type": "markdown",
   "metadata": {
    "deletable": false,
    "editable": false,
    "kernel": "Python3",
    "nbgrader": {
     "cell_type": "markdown",
     "checksum": "7f94703912a9fdab19ca965896db5ed4",
     "grade": false,
     "grade_id": "cell-a5e4b682445f2497_2022",
     "locked": true,
     "schema_version": 3,
     "solution": false,
     "task": false
    },
    "user_expressions": []
   },
   "source": [
    "To create an `imviewer` object, you simply call the function `viewer` and assign it a variable name. Ideally, the variable should be self-explanatory and end with the word *viewer* to avoid confusion (for example, `first_viewer` as above). Some of the most importante features of a `viewer` are:\n",
    "\n",
    "**The colorbar option of the viewer is currently not working**\n",
    "\n",
    "* **Images**: The same viewer can load many images at once. In this example, it was created with $4$ images. By default, you can switch between the images using the buttons `Prev` and `Next` on the widgets panel.\n",
    "* **Titles**: You can give the viewer titles for each image, which will be shown immediately above it. If you do not provide a title for some images, the variable name will be shown by default. In this example, only $2$ were given.\n",
    "* **Customization**: Several of the class' functionalities (e.g., `widgets`, `hist`, `axis`) can be enabled from the beginning. A user can later turn them off using the widgets or calling methods of the object.\n",
    "* **Colormap**: The colormap to be used can be set from the start with the parameter `cmap = colormap`, where `colormap` is a string that specifies the desired colormap. It can be dynamically changed using `Options` and choosing one of the supported colormaps in the drop-down menu. \n",
    "* **Statistics**: On the lower part of the widget panel, the image statistics of the area of the image being displayed are shown. If you use the button with a little square at the left of the images to zoom into a selected region, you will see the statistics are updated in real time. You can also use the button with crossed double-arrows to pan through the image at a specific level of zoom. You can always use the button *Reset* to see the whole image again.\n",
    "\n",
    "<div class=\"alert alert-warning\">\n",
    "    \n",
    "<b>Beware: </b> The statistics displayed in the `imviewer` objects are rounded to the second decimal. If you need an exact statistic, use the functions `np.mean` or `np.std`on the images (NumPy arrays) directly.\n",
    "</div>\n",
    "\n",
    "* **Histogram**: Besides the normal *counts* vs *value* bars in a histogram, you will see a black line. This line represents *input* vs *output* intensity values. This line changes its position and slope if you change the brightness and contrast of the image. All pixel values that are to the left of the point where the line touches the bottom have the minimum intensity, and all that are to the right of the point where the line touches the top have the maximum intensity, and the ones that are in-between those two points have an intensity that is linearly scaled between the maximum and minumum value.\n",
    "\n",
    "* **Display mode**: There are several options to display a list of images\n",
    "    * Default display: Display only one image at a time, and use the buttons `Next` and `Prev` to browse the different images. \n",
    "    * Set `subplots=(m, n)`: Arrange the images in an $m \\times n$ grid."
   ]
  },
  {
   "cell_type": "markdown",
   "metadata": {
    "deletable": false,
    "editable": false,
    "kernel": "SoS",
    "nbgrader": {
     "cell_type": "markdown",
     "checksum": "ae35a7b6e4bf30d759642e148a6dcebb",
     "grade": false,
     "grade_id": "cell-8968f2ec659eabd8_2022",
     "locked": true,
     "schema_version": 3,
     "solution": false,
     "task": false
    },
    "user_expressions": []
   },
   "source": [
    "(using-widgets)=\n",
    "## 3.2. Using widgets\n",
    "[Back to table of contents](#Table-of-contents)\n",
    "\n",
    "If you just want a quick visualization, you can call the `imviewer` with the image you want to display (or list of images). All the parameters will be set to their default values (`cmap = 'gray'`, single image mode, all the features set to off), but you can use the widgets to change this. Run the next cell to see all the default values. Go through all the widgets and explore their options while going through the explanatory cell below."
   ]
  },
  {
   "cell_type": "code",
   "execution_count": null,
   "metadata": {
    "deletable": false,
    "editable": false,
    "kernel": "Python3",
    "nbgrader": {
     "cell_type": "code",
     "checksum": "4f28df5a4cb588327f80ed34fc3eb68a",
     "grade": false,
     "grade_id": "cell-4c9a9ee49d9b0563_2022",
     "locked": true,
     "schema_version": 3,
     "solution": false,
     "task": false
    },
    "tags": []
   },
   "outputs": [],
   "source": [
    "# In order to keep the memory load on Noto low, we will generally close all figures before continuing.\n",
    "# This means that the previous viewers are no longer interactive!\n",
    "# But you can run their cell again if you need to.\n",
    "plt.close('all')\n",
    "\n",
    "# Declare image list\n",
    "second_list = [hrct, hands, car]\n",
    "# Call the image viewer with minimal arguments\n",
    "second_viewer = viewer(second_list)"
   ]
  },
  {
   "cell_type": "markdown",
   "metadata": {
    "deletable": false,
    "editable": false,
    "kernel": "SoS",
    "nbgrader": {
     "cell_type": "markdown",
     "checksum": "a879391458482ae687cc8c9c6097e7c7",
     "grade": false,
     "grade_id": "cell-84bfec4cb677badb_2022",
     "locked": true,
     "schema_version": 3,
     "solution": false,
     "task": false
    },
    "user_expressions": []
   },
   "source": [
    "Your first view consists of:\n",
    "* A **toolbar** with series of buttons at the left, which serve to control the dynamic environment. If you hover your mouse in the buttons, wou will see what each button does:\n",
    "    * *Three horizontal lines*: Hide the toolbar\n",
    "    * *House*: Reset the zoom of the images. \n",
    "    * *Cross with arrows*: Pan through an image. Click on it, then click on the image, hold and drag to pan through the axis.\n",
    "    * *Square*: Zoom. Click on it, then click on the image, hold and drag to create a rectangular area. Release to zoom to the region.\n",
    "    * *Floppy disk*: Take screenshot of figure and save in PNG format. \n",
    "* The **figure** holding the images (one figure is holding all the images). You can change the size of a figure using the small gray triangle (bottom-right corner). If you hover your cursor over the triangle, you will see it change to a two-sided arrow. By clicking on it you will be able to adjust the figure size.\n",
    "* A **button** with the legend *Show Widgets*. Click on it and it will take you to the widget main menu. \n",
    "\n",
    "In the widgets main menu you will see the following widgets:\n",
    "* **Brightness and Contrast** Slider: In this menu you will be able to change the color scaling of the image through a slider, given in percentages of the original maximum and minimum intensities.\n",
    "* **Show Histogram** Button: Show or hide the histograms of the images.\n",
    "* **Options** Button: It will take you to the options menu, where you will be able to show or hide the axis and change the colormap.\n",
    "* **Reset** Button: This will reset the all the parameters to the default state (colormap, brightness/contrast ect.), while the _House Button_ on the top left only resets the display area of the viewer and doesn't change any parameters.\n",
    "* **Stats** Textbox: Here you will see the mean, the standard deviation, the range of values and the size of the image. Mean, standard deviation and range of values will be updated when you zoom to a region. "
   ]
  },
  {
   "cell_type": "markdown",
   "metadata": {
    "deletable": false,
    "editable": false,
    "kernel": "SoS",
    "nbgrader": {
     "cell_type": "markdown",
     "checksum": "817845ee7aa2929b26775a7ffe2a04bc",
     "grade": false,
     "grade_id": "cell-9ea67aac7563d95e_2022",
     "locked": true,
     "schema_version": 3,
     "solution": false,
     "task": false
    },
    "user_expressions": []
   },
   "source": [
    "### Multiple choice question\n",
    "\n",
    "Answer the following question using the viewer that you just defined.\n",
    "\n",
    "In the image `car`, what is the mean value of **the carpet that the car is standing on**? \n",
    "Hint: Zoom into several regions that are not too close to the edge nor to the car.\n",
    "\n",
    "1. Around 40\n",
    "2. Around 60 \n",
    "3. Around 80\n",
    "\n",
    "In the following cell, modify the variable `answer` to your actual answer, e.g., `answer=1`, `answer=2`, or `answer=3`."
   ]
  },
  {
   "cell_type": "code",
   "execution_count": null,
   "metadata": {
    "deletable": false,
    "kernel": "Python3",
    "nbgrader": {
     "cell_type": "code",
     "checksum": "e8f35c12a2d4c237ef084667ee2bc807",
     "grade": false,
     "grade_id": "cell-40970ade3d3b9d3e_2022",
     "locked": false,
     "schema_version": 3,
     "solution": true,
     "task": false
    },
    "tags": []
   },
   "outputs": [],
   "source": [
    "# Assign your answer to this variable\n",
    "answer = None\n",
    "\n",
    "# YOUR CODE HERE"
   ]
  },
  {
   "cell_type": "code",
   "execution_count": null,
   "metadata": {
    "deletable": false,
    "editable": false,
    "kernel": "Python3",
    "nbgrader": {
     "cell_type": "code",
     "checksum": "05892a0b54fc32c887b51190a90dc59a",
     "grade": true,
     "grade_id": "cell-9db1b31c6c9f4ebb_2022",
     "locked": true,
     "points": 1,
     "schema_version": 3,
     "solution": false,
     "task": false
    },
    "tags": []
   },
   "outputs": [],
   "source": [
    "# Let's do a sanity check - check that the answer is one of the possible choices\n",
    "assert answer in [1, 2, 3], \"Select one of the answers: 1, 2 or 3.\"\n"
   ]
  },
  {
   "cell_type": "markdown",
   "metadata": {
    "deletable": false,
    "editable": false,
    "kernel": "Python3",
    "nbgrader": {
     "cell_type": "markdown",
     "checksum": "1c4d66c3bfd5d3afb5ea398d413caa8b",
     "grade": false,
     "grade_id": "cell-cadfd7977fd0c514_2022",
     "locked": true,
     "schema_version": 3,
     "solution": false,
     "task": false
    },
    "user_expressions": []
   },
   "source": [
    "(user-defined-widgets)=\n",
    "## 3.3. User defined widgets\n",
    "[Back to table of contents](#Table-of-contents)\n",
    "\n",
    "`imviewer` allows you to create a function in a Jupyter notebook, and apply it simultaneously to all images within your `imviewer` object for a set of slider values. The function you create will take as parameters:\n",
    "* an image (`NumPy array`), and \n",
    "* one or more numerical values.\n",
    "\n",
    "\n",
    "In the next cells, you will see a very basic example. We will apply a pixel-wise operation on the image `car`: all the pixels with a value below a treshold (given in $\\%$) will be set to the *maximum* value. \n",
    "\n",
    "First, we define the thresholding function `your_function`. Run the next cell to define it."
   ]
  },
  {
   "cell_type": "code",
   "execution_count": null,
   "metadata": {
    "deletable": false,
    "editable": false,
    "kernel": "Python3",
    "nbgrader": {
     "cell_type": "code",
     "checksum": "0da69b309e3cb4f84acf55c317f657bf",
     "grade": false,
     "grade_id": "cell-55a5bc0c6ea1421e_2022",
     "locked": true,
     "schema_version": 3,
     "solution": false,
     "task": false
    },
    "tags": []
   },
   "outputs": [],
   "source": [
    "# Define your function\n",
    "def your_function(image, threshold):    \n",
    "    # We make a copy of the original, where we will apply our threshold.\n",
    "    output = np.copy(image)\n",
    "    # For greater flexibility, we will get the value as a percentage of the maximum\n",
    "    value = threshold * 0.01 * np.amax(image)\n",
    "    # Apply threshold\n",
    "    output[image < value] = np.amax(image)\n",
    "    return output"
   ]
  },
  {
   "cell_type": "markdown",
   "metadata": {
    "deletable": false,
    "editable": false,
    "kernel": "Python3",
    "nbgrader": {
     "cell_type": "markdown",
     "checksum": "9771ec7533abd987c2c7e0411906bd42",
     "grade": false,
     "grade_id": "cell-14964870466b5936_2022",
     "locked": true,
     "schema_version": 3,
     "solution": false,
     "task": false
    },
    "user_expressions": []
   },
   "source": [
    "Besides defining your function, you need to define the corresponding slider(s), a button to run `your_function` with the sliders' values, and the specific function that will run `your_function` i.e., the slider's _callback_ function.\n",
    "\n",
    "<div class = \"alert alert-info\">\n",
    "    \n",
    "<b>Note</b>: Although this is rather abstract, the example will make it clear. We will use an integer slider in the range $[0,100]$ (`widgets.IntSlider`), a button that clearly specifies what our function does (`widgets.Button`), and a callback function `callback` that calls `your_function` with the slider's value as threshold. Run the next cell, click the button *Extra Widgets*, and try different values. Remember to click on `Apply Threshold`!\n",
    "</div>\n",
    "    \n",
    "If you want some guidance, run the next cell to follow an instructional video by Alejandro."
   ]
  },
  {
   "cell_type": "code",
   "execution_count": null,
   "metadata": {
    "deletable": false,
    "editable": false,
    "kernel": "Python3",
    "nbgrader": {
     "cell_type": "code",
     "checksum": "5cf6d490a761c4343b816f8e041bf59c",
     "grade": false,
     "grade_id": "AlejandroYouTube-2_2022",
     "locked": true,
     "schema_version": 3,
     "solution": false,
     "task": false
    },
    "tags": []
   },
   "outputs": [],
   "source": [
    "from IPython.display import IFrame\n",
    "IFrame(width=\"800\", height=\"450\", src=\"https://www.youtube-nocookie.com/embed/__JXopJPLxQ\")"
   ]
  },
  {
   "cell_type": "code",
   "execution_count": null,
   "metadata": {
    "deletable": false,
    "editable": false,
    "kernel": "Python3",
    "nbgrader": {
     "cell_type": "code",
     "checksum": "7edf8cd724de8afdff1c5bd0fcde21a6",
     "grade": false,
     "grade_id": "cell-e2ea67738f143d53_2022",
     "locked": true,
     "schema_version": 3,
     "solution": false,
     "task": false
    },
    "tags": []
   },
   "outputs": [],
   "source": [
    "# close all open figures\n",
    "plt.close('all')\n",
    "\n",
    "# Declare slider\n",
    "threshold_slider = widgets.IntSlider(value=0, min=0, max=100, step=1, \n",
    "                                     description='Threshold', continuous_update=False)\n",
    "\n",
    "# Declare button with meaningful description\n",
    "activation_button = widgets.Button(description='Apply Threshold')\n",
    "\n",
    "# Declare callback\n",
    "def callback(img):\n",
    "    # Get slider value\n",
    "    threshold = threshold_slider.value\n",
    "    # Call your function\n",
    "    output = your_function(img, threshold)\n",
    "    return output\n",
    "\n",
    "# Call viewer, passing the widget and callback separately as lists\n",
    "threshold_viewer = viewer(car, new_widgets=[threshold_slider, activation_button], callbacks=[callback], widgets=True)"
   ]
  },
  {
   "cell_type": "markdown",
   "metadata": {
    "deletable": false,
    "editable": false,
    "kernel": "SoS",
    "nbgrader": {
     "cell_type": "markdown",
     "checksum": "483b6ddddee29a152dd1b06de56db50b",
     "grade": false,
     "grade_id": "cell-0804c94b19bd4813_2022",
     "locked": true,
     "schema_version": 3,
     "solution": false,
     "task": false
    },
    "user_expressions": []
   },
   "source": [
    "(programmatic-customization)=\n",
    "## 3.4. Programmatic customization\n",
    "[Back to table of contents](#Table-of-contents)\n",
    "\n",
    "Most options can be modified either through widgets or in code. Run the following cells. In the first one, we will create the object `car_viewer`, which displays the image `car`. By running the next cells, one by one, we will produce changes on the `car_viewer` without interacting with it directly. "
   ]
  },
  {
   "cell_type": "code",
   "execution_count": null,
   "metadata": {
    "deletable": false,
    "editable": false,
    "kernel": "Python3",
    "nbgrader": {
     "cell_type": "code",
     "checksum": "93a1277df94dd6e7ef2b0e9779a06c37",
     "grade": false,
     "grade_id": "cell-0adc06240b7fb8f6_2022",
     "locked": true,
     "schema_version": 3,
     "solution": false,
     "task": false
    },
    "tags": []
   },
   "outputs": [],
   "source": [
    "plt.close('all')\n",
    "car_viewer = viewer(car)"
   ]
  },
  {
   "cell_type": "code",
   "execution_count": null,
   "metadata": {
    "deletable": false,
    "editable": false,
    "kernel": "Python3",
    "nbgrader": {
     "cell_type": "code",
     "checksum": "86deebc73451c5d31b84dd58be9c9668",
     "grade": false,
     "grade_id": "cell-1b8d66f801e17ad6_2022",
     "locked": true,
     "schema_version": 3,
     "solution": false,
     "task": false
    },
    "tags": []
   },
   "outputs": [],
   "source": [
    "car_viewer.set_axis(axis=True)"
   ]
  },
  {
   "cell_type": "code",
   "execution_count": null,
   "metadata": {
    "deletable": false,
    "editable": false,
    "kernel": "Python3",
    "nbgrader": {
     "cell_type": "code",
     "checksum": "437516011a9e9a0f9e8454c26f3a7eac",
     "grade": false,
     "grade_id": "cell-0e6236013e5c3ce0_2022",
     "locked": true,
     "schema_version": 3,
     "solution": false,
     "task": false
    },
    "tags": []
   },
   "outputs": [],
   "source": [
    "car_viewer.set_widgets(widgets=True)"
   ]
  },
  {
   "cell_type": "code",
   "execution_count": null,
   "metadata": {
    "deletable": false,
    "editable": false,
    "kernel": "Python3",
    "nbgrader": {
     "cell_type": "code",
     "checksum": "b56d6ea12e1a18e64d565985a484f84e",
     "grade": false,
     "grade_id": "cell-a207084db8f17ffe_2022",
     "locked": true,
     "schema_version": 3,
     "solution": false,
     "task": false
    },
    "tags": []
   },
   "outputs": [],
   "source": [
    "car_viewer.set_colormap(colormap='viridis')"
   ]
  },
  {
   "cell_type": "code",
   "execution_count": null,
   "metadata": {
    "deletable": false,
    "editable": false,
    "kernel": "Python3",
    "nbgrader": {
     "cell_type": "code",
     "checksum": "1819643ae30017ac604b473214f8cd88",
     "grade": false,
     "grade_id": "cell-1421c5cef26871ee_2022",
     "locked": true,
     "schema_version": 3,
     "solution": false,
     "task": false
    },
    "tags": []
   },
   "outputs": [],
   "source": [
    "car_viewer.show_histogram(hist=True)"
   ]
  },
  {
   "cell_type": "code",
   "execution_count": null,
   "metadata": {
    "deletable": false,
    "editable": false,
    "kernel": "Python3",
    "nbgrader": {
     "cell_type": "code",
     "checksum": "f40c5d85fe311db7dbaa08afe689ab80",
     "grade": false,
     "grade_id": "cell-2de4a3a7d51d3081_2022",
     "locked": true,
     "schema_version": 3,
     "solution": false,
     "task": false
    },
    "tags": []
   },
   "outputs": [],
   "source": [
    "car_viewer.set_axis(axis=False)"
   ]
  },
  {
   "cell_type": "markdown",
   "metadata": {
    "deletable": false,
    "editable": false,
    "kernel": "SoS",
    "nbgrader": {
     "cell_type": "markdown",
     "checksum": "24516967c09971165af4e01954fdc24c",
     "grade": false,
     "grade_id": "cell-c3d11e9258b772d6_2022",
     "locked": true,
     "schema_version": 3,
     "solution": false,
     "task": false
    },
    "user_expressions": []
   },
   "source": [
    "(3.5-try-it-yourself)=\n",
    "## 3.5. Try it yourself!\n",
    "[Back to table of contents](#Table-of-contents)\n",
    "\n",
    "### Creating an imviewer\n",
    "Create in the next cell a viewer object with the following characteristics (do it with code, on one or several lines):\n",
    "* The first image should be `hrct` and the second `plate`,\n",
    "* The titles are left as default,\n",
    "* The colormap is set to `'inferno'`,\n",
    "* The axis are set to `False`,\n",
    "* Only a single image at a time is displayed.\n",
    "\n",
    "Store your object in the variable `exercise_viewer`."
   ]
  },
  {
   "cell_type": "code",
   "execution_count": null,
   "metadata": {
    "deletable": false,
    "kernel": "Python3",
    "nbgrader": {
     "cell_type": "code",
     "checksum": "2667b34fb1fb4d8d783ba8fab1206d22",
     "grade": false,
     "grade_id": "cell-7c287f72627b42ee_2022",
     "locked": false,
     "schema_version": 3,
     "solution": true,
     "task": false
    },
    "tags": []
   },
   "outputs": [],
   "source": [
    "plt.close('all')\n",
    "exercise_viewer = None\n",
    "# YOUR CODE HERE"
   ]
  },
  {
   "cell_type": "markdown",
   "metadata": {
    "deletable": false,
    "editable": false,
    "kernel": "SoS",
    "nbgrader": {
     "cell_type": "markdown",
     "checksum": "589ae283fb6c08900ea5447462284813",
     "grade": false,
     "grade_id": "cell-2bdd59455d4932c7_2022",
     "locked": true,
     "schema_version": 3,
     "solution": false,
     "task": false
    },
    "user_expressions": []
   },
   "source": [
    "If you want to check the state of your `imviewer` object, you can check [the documentation](https://github.com/Biomedical-Imaging-Group/interactive-kit/wiki/Image-Viewer) and explore the attributes. See the two examples in the next cell. Both should show that there are indeed two images. The second one is in the form of an assertion (it will produce an error if the condition is not met), to let you know if your viewer is in the right direction."
   ]
  },
  {
   "cell_type": "code",
   "execution_count": null,
   "metadata": {
    "deletable": false,
    "editable": false,
    "kernel": "Python3",
    "nbgrader": {
     "cell_type": "code",
     "checksum": "a768fc892d34b3cc8979dc7ee79dda03",
     "grade": true,
     "grade_id": "cell-18c524bc087e7f47_2022",
     "locked": true,
     "points": 1,
     "schema_version": 3,
     "solution": false,
     "task": false
    },
    "tags": []
   },
   "outputs": [],
   "source": [
    "# Sanity check\n",
    "assert exercise_viewer.number_images == 2, f'Your viewer should have 2 images! Instead it has {exercise_viewer.number_images}.'\n",
    "print('Well done! Your viewer seems to be working.')"
   ]
  },
  {
   "cell_type": "markdown",
   "metadata": {
    "deletable": false,
    "editable": false,
    "kernel": "Python3",
    "nbgrader": {
     "cell_type": "markdown",
     "checksum": "257b14d6a8385e6f5f099924f914883d",
     "grade": false,
     "grade_id": "cell-c9740827ae01cf09_2022",
     "locked": true,
     "schema_version": 3,
     "solution": false,
     "task": false
    },
    "user_expressions": []
   },
   "source": [
    "### Threshold operation \n",
    "\n",
    "Now you will program a function and add a slider to apply this function to the image (see Section [4.C.](#4.C.-User-defined-widgets)).\n",
    "\n",
    "Your first task is to define a function `range_function(img, rmin, rmax)` that will only **keep** pixel values inside a range of values $[r_{\\mathrm{min}}, r_{\\mathrm{max}}]$ ($r_{\\mathrm{min}}$ and $r_{\\mathrm{max}}$ included), while the values outside this range will be set to $0$.\n",
    "You will apply it on the image `car`, so `rmin` and `rmax` should be between $0$ and $255$. Define this function in the following cell. \n",
    "\n",
    "<div class=\"alert alert-info\">\n",
    "  \n",
    "<b>Note: </b> Use boolean indexing of the NumPy array `img`, as in the thresholding example, to perform the necessary operations.\n",
    "</div>"
   ]
  },
  {
   "cell_type": "code",
   "execution_count": null,
   "metadata": {
    "deletable": false,
    "kernel": "Python3",
    "nbgrader": {
     "cell_type": "code",
     "checksum": "e25a93349dbb0559802b9924b545460c",
     "grade": false,
     "grade_id": "cell-f7d3dd947484c706_2022",
     "locked": false,
     "schema_version": 3,
     "solution": true,
     "task": false
    },
    "tags": []
   },
   "outputs": [],
   "source": [
    "# Define your function\n",
    "def range_function(img, rmin, rmax):    \n",
    "    # Best practices are creating a copy. You don't wanna mess the original.\n",
    "    output = np.copy(img)\n",
    "    # set the pixels of output that are smaller than rmin or bigger than rmax to 0\n",
    "    # YOUR CODE HERE\n",
    "    return output"
   ]
  },
  {
   "cell_type": "markdown",
   "metadata": {
    "deletable": false,
    "editable": false,
    "kernel": "Python3",
    "nbgrader": {
     "cell_type": "markdown",
     "checksum": "67e6064e10a88952435102a7b8a09ff1",
     "grade": false,
     "grade_id": "cell-3be6645cb0bdcfa7_2022",
     "locked": true,
     "schema_version": 3,
     "solution": false,
     "task": false
    },
    "user_expressions": []
   },
   "source": [
    "You can test your function with the following cell. In it, we define a linear array `test_array` that is formed by the integers from 0 to 255 in ascending order, using the method [NumPy.arange](https://NumPy.org/doc/stable/reference/generated/NumPy.arange.html). Then, we apply your function with the range $[100, 199]$ to it. There should be exactly $100$ elements that were not set to $0$. If the cell runs smoothly, your implementation is probably correct.\n",
    "<div class=\"alert alert-info\">\n",
    "    \n",
    "**Note:** The function `np.count_nonzero(arr)` counts the number of elements in `arr` that are not zero.\n",
    "</div>"
   ]
  },
  {
   "cell_type": "code",
   "execution_count": null,
   "metadata": {
    "deletable": false,
    "editable": false,
    "kernel": "Python3",
    "nbgrader": {
     "cell_type": "code",
     "checksum": "3794a0d07c58ddc8c6c8236c6a6ed127",
     "grade": true,
     "grade_id": "cell-d32bcff0667c88a9_2022",
     "locked": true,
     "points": 1,
     "schema_version": 3,
     "solution": false,
     "task": false
    },
    "tags": []
   },
   "outputs": [],
   "source": [
    "test_array = np.arange(0, 256)\n",
    "assert np.count_nonzero(range_function(test_array, 100, 199)) == 100, 'Your implementation is not yet correct.'\n",
    "print('Congratulations! Your function is correct.')\n"
   ]
  },
  {
   "cell_type": "markdown",
   "metadata": {
    "deletable": false,
    "editable": false,
    "kernel": "Python3",
    "nbgrader": {
     "cell_type": "markdown",
     "checksum": "0f6121260fbcb366badbdb91cfca54a4",
     "grade": false,
     "grade_id": "cell-3f34bb973b3d4d00_2022",
     "locked": true,
     "schema_version": 3,
     "solution": false,
     "task": false
    },
    "user_expressions": []
   },
   "source": [
    "Declare the necessary widgets to control this function (slider(s) and a button, as well as the button's callback function). Use one `IntRangeSlider` ([see doc](https://ipywidgets.readthedocs.io/en/latest/examples/Widget%20List.html#IntRangeSlider)). When you get the value of this slider (by calling `IntRangeSlider.value`), you get a list with two elements corresponding to the minimum and the maximum value of the range. You can use these values to call your function (`range_slider.value[0]` and `range_slider.value[1]` if `range_slider` has been defined as an `IntRangeSlider` widget). \n",
    "\n",
    "Use the next cell to declare your widgets (store the slider in the variable `range_slider`, your button on `range_button` and your callback on `range_callback(img)`)"
   ]
  },
  {
   "cell_type": "code",
   "execution_count": null,
   "metadata": {
    "deletable": false,
    "kernel": "Python3",
    "nbgrader": {
     "cell_type": "code",
     "checksum": "9c45727b1635171ae874aa224daa3465",
     "grade": false,
     "grade_id": "cell-a4cde69b86b888bf_2022",
     "locked": false,
     "schema_version": 3,
     "solution": true,
     "task": false
    },
    "tags": []
   },
   "outputs": [],
   "source": [
    "# Declare the slider \n",
    "range_slider = None\n",
    "# YOUR CODE HERE\n",
    "\n",
    "# Declare the button\n",
    "range_button = None\n",
    "# YOUR CODE HERE\n",
    "\n",
    "# Declare the callback\n",
    "def range_callback(img):\n",
    "    # Define output\n",
    "    output = None\n",
    "    \n",
    "    # Get slider value\n",
    "    # YOUR CODE HERE\n",
    "    \n",
    "    # Call your function, e.g., output = range_function(img, ...)\n",
    "    # YOUR CODE HERE\n",
    "    \n",
    "    return output"
   ]
  },
  {
   "cell_type": "markdown",
   "metadata": {
    "deletable": false,
    "editable": false,
    "kernel": "Python3",
    "nbgrader": {
     "cell_type": "markdown",
     "checksum": "a738f9f8183912a8a41968c823d0747f",
     "grade": false,
     "grade_id": "cell-abf2c178c0bb354b_2022",
     "locked": true,
     "schema_version": 3,
     "solution": false,
     "task": false
    },
    "user_expressions": []
   },
   "source": [
    "Now we will create an `imviewer` using your widgets. Explore the results of your function (click the button *Extra Widgets*), explore different values and see if you implemented it correctly."
   ]
  },
  {
   "cell_type": "code",
   "execution_count": null,
   "metadata": {
    "deletable": false,
    "editable": false,
    "kernel": "Python3",
    "nbgrader": {
     "cell_type": "code",
     "checksum": "46c9bc5a12c570b1ae23a7c729d5886a",
     "grade": true,
     "grade_id": "cell-fa45b07997e9a3be_2022",
     "locked": true,
     "points": 1,
     "schema_version": 3,
     "solution": false,
     "task": false
    },
    "tags": []
   },
   "outputs": [],
   "source": [
    "# Call viewer, passing the widget and callback separately as lists, e.g., range_viewer = viewer(car, ...)\n",
    "plt.close('all')\n",
    "range_viewer = viewer(car, new_widgets=[range_slider, range_button], callbacks=[range_callback], widgets=True)"
   ]
  },
  {
   "cell_type": "markdown",
   "metadata": {
    "deletable": false,
    "editable": false,
    "kernel": "Python3",
    "nbgrader": {
     "cell_type": "markdown",
     "checksum": "ac51e5b31ca89535c5963670d06d651f",
     "grade": false,
     "grade_id": "cell-664b2e3212e77d83_2022",
     "locked": true,
     "schema_version": 3,
     "solution": false,
     "task": false
    },
    "tags": [],
    "user_expressions": []
   },
   "source": [
    "(image-processing-in-python)=\n",
    "# 4. Image processing in Python \n",
    "[Back to table of contents](#Table-of-contents)\n",
    "\n",
    "Throughout this course we will focus on one most common image processing library\n",
    "[**`scikit-image`**](https://scikit-image.org/).\n",
    "\n",
    "Scikit stands for SciPy Toolkits, it is developed specifically for image-processing tasks. These toolkits are add-on packages for SciPy. They have become very well known and have a large community of users and developers. \n",
    "\n",
    "For a short instructional video by Alejandro and Stan on how to check the documentation this library run the cell below."
   ]
  },
  {
   "cell_type": "code",
   "execution_count": null,
   "metadata": {
    "deletable": false,
    "editable": false,
    "kernel": "Python3",
    "nbgrader": {
     "cell_type": "code",
     "checksum": "b19f3b059866455ebfb1c03f4d55add1",
     "grade": false,
     "grade_id": "AlejandroYouTube-3_2022",
     "locked": true,
     "schema_version": 3,
     "solution": false,
     "task": false
    },
    "tags": []
   },
   "outputs": [],
   "source": [
    "from IPython.display import IFrame\n",
    "IFrame(width=\"800\", height=\"450\", src=\"https://www.youtube-nocookie.com/embed/e1rsEUgDDko\")"
   ]
  },
  {
   "cell_type": "markdown",
   "metadata": {
    "deletable": false,
    "editable": false,
    "kernel": "SoS",
    "nbgrader": {
     "cell_type": "markdown",
     "checksum": "da82e1e80591c81a3abf8f14eed4e46b",
     "grade": false,
     "grade_id": "cell-5ab320cdc58bb6a4_2022",
     "locked": true,
     "schema_version": 3,
     "solution": false,
     "task": false
    },
    "user_expressions": []
   },
   "source": [
    "Just as with `NumPy` (`np`) or `matplotlib.pyplot` (`plt`), there is a standard abbreviation to import this library. "
   ]
  },
  {
   "cell_type": "code",
   "execution_count": null,
   "metadata": {
    "deletable": false,
    "editable": false,
    "kernel": "Python3",
    "nbgrader": {
     "cell_type": "code",
     "checksum": "a55ea723356175ab9920c4d6ad976be4",
     "grade": false,
     "grade_id": "cell-b6c2cf1a70404c3c_2022",
     "locked": true,
     "schema_version": 3,
     "solution": false,
     "task": false
    },
    "tags": []
   },
   "outputs": [],
   "source": [
    "# Scikit-image\n",
    "import skimage"
   ]
  },
  {
   "cell_type": "markdown",
   "metadata": {
    "deletable": false,
    "editable": false,
    "kernel": "Python3",
    "nbgrader": {
     "cell_type": "markdown",
     "checksum": "fa2f495a78ed4a8f49d198aa8a989016",
     "grade": false,
     "grade_id": "cell-0cb660a1ec41ba44_2022",
     "locked": true,
     "schema_version": 3,
     "solution": false,
     "task": false
    },
    "user_expressions": []
   },
   "source": [
    "(examples)=\n",
    "# 4.1. Examples\n",
    "[Back to table of contents](#Table-of-contents)\n",
    "\n",
    "Now we will go through two very basic operations: rotation and edge detection for you to get familiar with scikit-image. We will show you the basic syntax. For the full list of parameters and options, go to the official documentation of each function. \n"
   ]
  },
  {
   "cell_type": "markdown",
   "metadata": {
    "deletable": false,
    "editable": false,
    "kernel": "Python3",
    "nbgrader": {
     "cell_type": "markdown",
     "checksum": "4c4ebe9f85c9abe085b9f2725108cebc",
     "grade": false,
     "grade_id": "cell-79ce99f7a56c697c_2022",
     "locked": true,
     "schema_version": 3,
     "solution": false,
     "task": false
    },
    "user_expressions": []
   },
   "source": [
    "### Rotation in Scikit Image\n",
    "\n",
    "The basic syntax of the function for grayscale images is  (see [the documentation](https://scikit-image.org/docs/stable/api/skimage.transform.html?highlight=rotate#skimage.transform.rotate)):\n",
    "```python\n",
    "output = skimage.transform.rotate(image, angle, resize=False, center=None, mode='reflect', preserve_range=True)\n",
    "```\n",
    "\n",
    "The parameters are:\n",
    "* `input`: The source image, \n",
    "* `angle`: Rotation angle in degrees,\n",
    "* `resize`: Specify whether to resize the image to contain the full original. Defaults to `False`,\n",
    "* `center`: Specifies the center of rotation. The order is (columns, rows),\n",
    "* `mode`: Specify boundary conditions (see the last example). \n",
    "\n",
    "\n",
    "We will apply sciki-image's rotation to `car` for an angle of $60^\\circ$ with the center of rotation at $(50, 50)$. Run the next cell to see the result. Modify the cell and experiment with the different parameters."
   ]
  },
  {
   "cell_type": "code",
   "execution_count": null,
   "metadata": {
    "kernel": "Python3",
    "tags": []
   },
   "outputs": [],
   "source": [
    "# First, we import the module transform\n",
    "from skimage import transform\n",
    "\n",
    "# Now we apply operation\n",
    "rot_car_skimage = skimage.transform.rotate(car, angle=60, resize=False, center=(50, 50), mode='reflect', preserve_range=True)\n",
    "\n",
    "# And visualize\n",
    "plt.close('all')\n",
    "skimage_rotate_viewer = viewer([car, rot_car_skimage], title=['Original', 'Rotated'], subplots=(1,2))"
   ]
  },
  {
   "cell_type": "markdown",
   "metadata": {
    "deletable": false,
    "editable": false,
    "kernel": "Python3",
    "nbgrader": {
     "cell_type": "markdown",
     "checksum": "ba6c7dcb5a3e0d1ed6a0973dd51f3a5f",
     "grade": false,
     "grade_id": "cell-733a7afa84c2df9c_2022",
     "locked": true,
     "schema_version": 3,
     "solution": false,
     "task": false
    },
    "user_expressions": []
   },
   "source": [
    "### Edge Detection in Scikit Image\n",
    "\n",
    "The basic syntax of the Sobel filter for grayscale images is  (see [the documentation](https://scikit-image.org/docs/dev/api/skimage.filters.html#skimage.filters.sobel)):\n",
    "\n",
    "```python\n",
    "output = skimage.filters.sobel(image, axis=None, mode='reflect')\n",
    "```\n",
    "\n",
    "The parameters are:\n",
    "* `image`: The source image, \n",
    "* `axis`: If given, compute the axis in the specified direction. If `None`, the magnitude of the gradient is calculated,\n",
    "* `mode`: Specify boundary conditions (see example above). \n",
    "\n",
    "\n",
    "Run the next cell to apply Scikit-Image Sobel filter on the image `plate`. Modify the cell and play with the different values and with different images."
   ]
  },
  {
   "cell_type": "code",
   "execution_count": null,
   "metadata": {
    "kernel": "Python3",
    "tags": []
   },
   "outputs": [],
   "source": [
    "# First, we import the module filters\n",
    "from skimage import filters\n",
    "\n",
    "# Apply filter\n",
    "plate_edges_skimage = skimage.filters.sobel(plate, axis=None, mode='reflect')\n",
    "\n",
    "# Visualize\n",
    "plt.close('all')\n",
    "skimage_edge_viewer = viewer([plate, plate_edges_skimage], title=['Original', 'Edges'], subplots=(1,2))"
   ]
  },
  {
   "cell_type": "markdown",
   "metadata": {
    "deletable": false,
    "editable": false,
    "kernel": "Python3",
    "nbgrader": {
     "cell_type": "markdown",
     "checksum": "c8dc12e8ebeb7b1a1a28061b2587d978",
     "grade": false,
     "grade_id": "cell-0ba867cc74367641_2022",
     "locked": true,
     "schema_version": 3,
     "solution": false,
     "task": false
    },
    "user_expressions": []
   },
   "source": [
    "(4.2-try-it-yourself)= \n",
    "## 4.2. Try it yourself! \n",
    "[Back to table of contents](#Table-of-contents)\n",
    "\n",
    "Complete the function `gaussian_blur`, which implements a **Gaussian smoothing** on the given input image. Set\n",
    "* the standard deviation of the Gaussian kernel to be $5$,\n",
    "* boundary conditions to be reflective, and\n",
    "* keep the original range of values.\n",
    "\n",
    "<div class='alert alert-warning'>\n",
    "    <b>Note:</b> In python it's important to always specify the parameter names when using a function. Only this way, you can be sure that you set the correct parameters. For example, don't use <code>skimage.filters.sobel(plate, None, 'reflect')</code>, but instead use <code>skimage.filters.sobel(plate, axis=None, mode='reflect')</code>.\n",
    "</div>"
   ]
  },
  {
   "cell_type": "code",
   "execution_count": null,
   "metadata": {
    "deletable": false,
    "kernel": "Python3",
    "nbgrader": {
     "cell_type": "code",
     "checksum": "6ddd92929d76f95f24d6b11fe8e90937",
     "grade": false,
     "grade_id": "cell-3aad12f740231a32_2022",
     "locked": false,
     "schema_version": 3,
     "solution": true,
     "task": false
    },
    "tags": []
   },
   "outputs": [],
   "source": [
    "# Function that applies a Gaussian blur\n",
    "def gaussian_blur(img):\n",
    "    out = np.zeros(img.shape)\n",
    "    \n",
    "    # YOUR CODE HERE\n",
    "    \n",
    "    return out"
   ]
  },
  {
   "cell_type": "code",
   "execution_count": null,
   "metadata": {
    "deletable": false,
    "editable": false,
    "kernel": "Python3",
    "nbgrader": {
     "cell_type": "code",
     "checksum": "1d6dd350621fe2120787ed797a4e96aa",
     "grade": true,
     "grade_id": "cell-1919408b3ba0b1c7_2022",
     "locked": true,
     "points": 2,
     "schema_version": 3,
     "solution": false,
     "task": false
    },
    "tags": []
   },
   "outputs": [],
   "source": [
    "# Visualize \n",
    "plt.close('all')\n",
    "gaussian_viewer = viewer([boats, gaussian_blur(boats)], title=['Original', 'Blurred'], subplots=(1,2))"
   ]
  },
  {
   "cell_type": "markdown",
   "metadata": {
    "deletable": false,
    "editable": false,
    "kernel": "SoS",
    "nbgrader": {
     "cell_type": "markdown",
     "checksum": "0cd584a7a18dd5df75ab8d420b1fee10",
     "grade": false,
     "grade_id": "cell-f73b5f5675b1f46e_2022",
     "locked": true,
     "schema_version": 3,
     "solution": false,
     "task": false
    },
    "user_expressions": []
   },
   "source": [
    "<div class=\"alert alert-success\">\n",
    "\n",
    "Congratulations on finishing this first lab of IP1!\n",
    "</div>"
   ]
  }
 ],
 "metadata": {
  "kernelspec": {
   "display_name": "Python3",
   "language": "python",
   "name": "python3"
  },
  "language_info": {
   "codemirror_mode": {
    "name": "ipython",
    "version": 3
   },
   "file_extension": ".py",
   "mimetype": "text/x-python",
   "name": "python",
   "nbconvert_exporter": "python",
   "pygments_lexer": "ipython3",
   "version": "3.11.5"
  },
  "sos": {
   "kernels": [
    [
     "JavaScript",
     "javascript",
     "JavaScript",
     "#c8e1ae",
     ""
    ],
    [
     "SoS",
     "sos",
     "",
     "",
     "sos"
    ]
   ],
   "panel": {
    "displayed": false,
    "height": 0
   },
   "version": "0.24.3"
  }
 },
 "nbformat": 4,
 "nbformat_minor": 4
}
