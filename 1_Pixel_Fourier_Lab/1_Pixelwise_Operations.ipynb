{
 "cells": [
  {
   "cell_type": "markdown",
   "metadata": {
    "deletable": false,
    "editable": false,
    "kernel": "SoS",
    "nbgrader": {
     "cell_type": "markdown",
     "checksum": "c0de8612419cf7166ac42ad952cb983e",
     "grade": false,
     "grade_id": "cell-87ef5277e6904d04",
     "locked": true,
     "schema_version": 3,
     "solution": false,
     "task": false
    },
    "user_expressions": []
   },
   "source": [
    "```{image} https://www.epfl.ch/about/overview/wp-content/uploads/2020/07/logo-epfl-1024x576.png \n",
    ":width: 140px\n",
    ":align: left\n",
    "```\n",
    "## Image Processing Laboratory Notebooks\n",
    "---\n",
    "\n",
    "This Juypter notebook is part of a series of computer laboratories which are designed\n",
    "to teach image-processing programming; they are running on the EPFL's Noto server. They are the practical complement of the theoretical lectures of the EPFL's Master course \n",
    "[**MICRO-511 Image Processing I**](https://moodle.epfl.ch/course/view.php?id=522) taught by Prof. M. Unser and Prof. D. Van de Ville.\n",
    "\n",
    "The project is funded by the Center for Digital Education and the School of Engineering. It is owned by the [Biomedical Imaging Group](http://bigwww.epfl.ch/). \n",
    "The distribution or the reproduction of the notebook is strictly prohibited without the written consent of the authors.  &copy; EPFL 2023.\n",
    "\n",
    "**Authors**: \n",
    "    [Pol del Aguila Pla](mailto:pol.delaguilapla@epfl.ch), \n",
    "    [Kay Lächler](mailto:kay.lachler@epfl.ch),\n",
    "    [Alejandro Noguerón Arámburu](mailto:alejandro.nogueronaramburu@epfl.ch),\n",
    "    [Yan Liu](mailto:yan.liu@epfl.ch), and\n",
    "    [Daniel Sage](mailto:daniel.sage@epfl.ch).\n",
    "    \n",
    "---\n",
    "\n",
    "# Lab 1.1: Pixel-wise operations\n",
    "**Released**: Thursday October 5, 2023\n",
    "\n",
    "**Submission**: Friday October 13, 2023 before 23:59 on [Moodle](https://moodle.epfl.ch/course/view.php?id=522)\n",
    "\n",
    "**Grade weight**: Lab 1 (15 points), 10% of the overall grade\n",
    "\n",
    "**Related lectures**: Chapters 1 and 2"
   ]
  },
  {
   "cell_type": "markdown",
   "metadata": {
    "kernel": "SoS",
    "user_expressions": []
   },
   "source": [
    "Double-click on this cell, fill your name and SCIPER number below to verify your identity in Noto and set the seed for random results.\n",
    ":::{attention} Please write down your name and SCIPER! \n",
    "### Student Name: \n",
    "### SCIPER: \n",
    ":::"
   ]
  },
  {
   "cell_type": "code",
   "execution_count": null,
   "metadata": {
    "deletable": false,
    "editable": false,
    "kernel": "SoS",
    "nbgrader": {
     "cell_type": "code",
     "checksum": "8f4802af2c3f145d847b68c1cfddc319",
     "grade": true,
     "grade_id": "cell-2f6633932108c60f",
     "locked": true,
     "points": 0,
     "schema_version": 3,
     "solution": false,
     "task": false
    },
    "tags": []
   },
   "outputs": [],
   "source": [
    "%use sos\n",
    "import getpass\n",
    "# This line recovers your camipro number to mark the images with your ID\n",
    "uid = int(getpass.getuser().split('-')[2]) if len(getpass.getuser().split('-')) > 2 else ord(getpass.getuser()[0])\n",
    "print(f'SCIPER: {uid}')"
   ]
  },
  {
   "cell_type": "markdown",
   "metadata": {
    "deletable": false,
    "editable": false,
    "kernel": "SoS",
    "nbgrader": {
     "cell_type": "markdown",
     "checksum": "f74041968416ca54b7d33eacf2cfe9b1",
     "grade": false,
     "grade_id": "cell-9f52138bd6524e0b",
     "locked": true,
     "schema_version": 3,
     "solution": false,
     "task": false
    },
    "user_expressions": []
   },
   "source": [
    "### Imports\n",
    "In the next cell we import the python libraries that we will use throughout the lab, as well as the `ImageViewer` class (Python package developed specifically for these laboratories, see documentation [here](https://github.com/Biomedical-Imaging-Group/interactive-kit/wiki/Image-Viewer), or run the python command `help(viewer)` after loading the class):\n",
    "* [`matplotlib.pyplot`](https://matplotlib.org), to display images,\n",
    "* [`ipywidgets`](https://ipywidgets.readthedocs.io/en/latest/), to make the image display interactive, and\n",
    "* [`numpy`](https://numpy.org/doc/stable/reference/), for mathematical operations on arrays.\n",
    "\n",
    "Finally, we load the images used in this lab and make sure that it is of type `float64`, for higher accuracy during operations.\n",
    "\n",
    "Run the next cell to get your notebook ready.\n",
    "\n",
    ":::{attention}Always run the two import cells below before starting to work on the notebook.    \n",
    ":::"
   ]
  },
  {
   "cell_type": "code",
   "execution_count": null,
   "metadata": {
    "deletable": false,
    "editable": false,
    "kernel": "SoS",
    "nbgrader": {
     "cell_type": "code",
     "checksum": "f624d2ab71267444a3a8e3a68a57eab9",
     "grade": false,
     "grade_id": "cell-7ebcf2f0631aad5a",
     "locked": true,
     "schema_version": 3,
     "solution": false,
     "task": false
    },
    "tags": []
   },
   "outputs": [],
   "source": [
    "%use sos\n",
    "# Configure plotting as dynamic\n",
    "%matplotlib widget\n",
    "\n",
    "# Import required packages for this lab\n",
    "import matplotlib.pyplot as plt\n",
    "import ipywidgets as widgets\n",
    "import numpy as np\n",
    "from skimage import io\n",
    "from interactive_kit import imviewer as viewer\n",
    "\n",
    "# Loading images\n",
    "c_elegans = io.imread( \"images/c-elegans.tif\" )\n",
    "pier = io.imread(\"images/pier.jpg\").astype(np.float64)"
   ]
  },
  {
   "cell_type": "markdown",
   "metadata": {
    "deletable": false,
    "editable": false,
    "kernel": "SoS",
    "nbgrader": {
     "cell_type": "markdown",
     "checksum": "ed59b733928fc9101817dedd38d5b7ab",
     "grade": false,
     "grade_id": "cell-c68b35dfa4eeaa5d",
     "locked": true,
     "schema_version": 3,
     "solution": false,
     "task": false
    }
   },
   "source": [
    "In the following cell we import the JS `ImageAccess` class and put the images into the JavaScript kernel. You can find the documentation of the `ImageAccess` [here](https://biomedical-imaging-group.github.io/image-access/)."
   ]
  },
  {
   "cell_type": "code",
   "execution_count": null,
   "metadata": {
    "deletable": false,
    "editable": false,
    "kernel": "JavaScript",
    "nbgrader": {
     "cell_type": "code",
     "checksum": "79db6638c20b05643ea9111abde8d828",
     "grade": true,
     "grade_id": "cell-c6c746246d09f0e7",
     "locked": true,
     "points": 0,
     "schema_version": 3,
     "solution": false,
     "task": false
    },
    "tags": []
   },
   "outputs": [],
   "source": [
    "%use javascript\n",
    "%get pier c_elegans\n",
    "// import image-access as Image\n",
    "var Image = require('image-access')"
   ]
  },
  {
   "cell_type": "markdown",
   "metadata": {
    "deletable": false,
    "editable": false,
    "kernel": "SoS",
    "nbgrader": {
     "cell_type": "markdown",
     "checksum": "a917599888034168dcf1a6b716de8928",
     "grade": false,
     "grade_id": "cell-9584117c30781c3d",
     "locked": true,
     "schema_version": 3,
     "solution": false,
     "task": false
    },
    "user_expressions": []
   },
   "source": [
    "# Pixel-wise operations (8 points)\n",
    "\n",
    "In this laboratory you will learn the basics of pixel-wise image processing by performing simple operations at a pixel level. This has many practical applications such as image normalization, colorization, and just to get information of an image. However, part of the goal of this laboratory is for you to feel comfortable with the process of accessing pixels of an image in both a high-level and a low-level language. Therefore, the laboratory will be mostly in *JavaScript*, and then we will use *Python* for a few applications.\n",
    "\n",
    "(ToC_1_Pixelwise_operations)=\n",
    "## Table of contents\n",
    "\n",
    "1. [Image normalization](#image-formation) \n",
    "    1. [Pixelwise normalization](#pixelwise-normalization) **(4 points)**\n",
    "    2. [Normalization in Python](#normalization-in-python) **(2 points)**\n",
    "2. [Solarization](#solarization) **(2 points)**\n",
    "\n",
    ":::{important} Each cell that contains code begins with `%use sos` or `%use javascript`. This indicates if the code in this specific cell should be executed in Python or JavaScript. Do not change or remove any lines of code that begin with an `%`. They need to be on the first line of each cell!\n",
    ":::"
   ]
  },
  {
   "cell_type": "markdown",
   "metadata": {
    "deletable": false,
    "editable": false,
    "kernel": "JavaScript",
    "nbgrader": {
     "cell_type": "markdown",
     "checksum": "9e52e2e0203d75c8d57886906aa2818f",
     "grade": false,
     "grade_id": "cell-1e29212eb53ac688",
     "locked": true,
     "schema_version": 3,
     "solution": false,
     "task": false
    }
   },
   "source": [
    "### Image visualization\n",
    "Run the next cell and use the slider to cycle through the images to get familiar with them."
   ]
  },
  {
   "cell_type": "code",
   "execution_count": null,
   "metadata": {
    "deletable": false,
    "editable": false,
    "kernel": "SoS",
    "nbgrader": {
     "cell_type": "code",
     "checksum": "b8139e2a07097aa317612a01e7bfab90",
     "grade": false,
     "grade_id": "cell-e2787a7e2ba6b0ff",
     "locked": true,
     "schema_version": 3,
     "solution": false,
     "task": false
    },
    "tags": []
   },
   "outputs": [],
   "source": [
    "%use sos\n",
    "plt.close(\"all\")\n",
    "pier_viewer = viewer([pier] + list(c_elegans), title=['pier'] + [f'C Elegans {i}' for i in range(c_elegans.shape[0])], \n",
    "                     hist=True, widgets=True)"
   ]
  },
  {
   "cell_type": "markdown",
   "metadata": {
    "deletable": false,
    "editable": false,
    "kernel": "Python3",
    "nbgrader": {
     "cell_type": "markdown",
     "checksum": "d25a7798f8fa5a27649b47399b4d34c3",
     "grade": false,
     "grade_id": "cell-d963c49ec94a8613",
     "locked": true,
     "schema_version": 3,
     "solution": false,
     "task": false
    },
    "user_expressions": []
   },
   "source": [
    "(image-normalization)=\n",
    "# 1. Image normalization (6 points)\n",
    "[Back to table of contents](#ToC_1_Pixelwise_operations)\n",
    "\n",
    "Normalization is one of the key preprocessing steps in image processing. In this section, you will learn different ways to normalize an image.\n",
    "(pixelwise-normalization)=\n",
    "## 1.A. Pixelwise normalization (4 points)\n",
    "[Back to table of contents](#ToC_1_Pixelwise_operations)\n",
    "\n",
    "**For a total of 3 points**, complete the three functions below (**1 point each**), which output images normalized with respect to different statistics:\n",
    "\n",
    "* `makeZeroMean(img)`: Normalizes the image so that the **sample mean of the pixel values is zero**. The standard deviation remains the same.\n",
    "* `stretchContrast(img)`: Normalizes the image so that the **minimum value is $0$ and the maximum value is $1$ (the ratio $\\frac{\\sigma}{range}$ should not change)**. \n",
    "* `normalize2ndOrderStatistics(img)`: Normalizes the image so that the **sample mean of the pixel values is zero** and the **sample standard deviation is $1$**. \n",
    "\n",
    "JS, unlike Python, **does not** have a function to calculate the mean or the standard deviation. Thus, you will need to code them yourself explicitly.\n",
    "\n",
    ":::{hint}You can use `img.getMin()` and `img.getMax()` to get the min an max value of a JavaScript image `img`. Remeber also that you can access a wide range of mathematical functions through the Math library in JS (e.g., `Math.sqrt()`). You can read more about it [here](https://developer.mozilla.org/en-US/docs/Web/JavaScript/Reference/Global_Objects/Math).\n",
    ":::\n",
    "\n",
    ":::{attention} Make sure to calculate the mean and standart deviation outside of the two for loops that iterate through the pixels of the image, otherwise the operation takes much too long to compute for real images!\n",
    ":::\n",
    "\n",
    "First, implement the function `makeZeroMean` in the cell below."
   ]
  },
  {
   "cell_type": "code",
   "execution_count": null,
   "metadata": {
    "deletable": false,
    "kernel": "JavaScript",
    "nbgrader": {
     "cell_type": "code",
     "checksum": "438bae08f1a39178c8b12fc70eb8edf5",
     "grade": false,
     "grade_id": "ans-900a75999b25ebb5",
     "locked": false,
     "schema_version": 3,
     "solution": true,
     "task": false
    },
    "tags": []
   },
   "outputs": [],
   "source": [
    "%use javascript\n",
    "// function that normalizes the image so that the sample mean of the pixel values is zero.\n",
    "function makeZeroMean(img){\n",
    "    // declare the output image\n",
    "    var output = new Image(img.shape());\n",
    "    \n",
    "    // YOUR CODE HERE\n",
    "    \n",
    "    // return the output image\n",
    "    return output;\n",
    "}"
   ]
  },
  {
   "cell_type": "markdown",
   "metadata": {
    "deletable": false,
    "editable": false,
    "kernel": "JavaScript",
    "nbgrader": {
     "cell_type": "markdown",
     "checksum": "0b3e704a5906f1e6075f7afbe8d50969",
     "grade": false,
     "grade_id": "cell-bd10a14dc73fc1fa",
     "locked": true,
     "schema_version": 3,
     "solution": false,
     "task": false
    }
   },
   "source": [
    "Great! Now it's time to test your implementation. We will do two parallel tests: one on a simple $3×3$ array, one on a real image `pier`. If an error is thrown in any of the tests, you implementation is not yet correct. We will also test the execution time of your function, to tell you if you made a mistake. In future labs you will be responsible by yourself to check that you coded an efficient solution."
   ]
  },
  {
   "cell_type": "code",
   "execution_count": null,
   "metadata": {
    "deletable": false,
    "editable": false,
    "kernel": "JavaScript",
    "nbgrader": {
     "cell_type": "code",
     "checksum": "2d1a48552c55c9d1f0ac911a5aa2361c",
     "grade": true,
     "grade_id": "grad-35f8575ea043e141",
     "locked": true,
     "points": 1,
     "schema_version": 3,
     "solution": false,
     "task": false
    },
    "tags": []
   },
   "outputs": [],
   "source": [
    "%use javascript\n",
    "%get pier\n",
    "\n",
    "// declare the test image\n",
    "test_img = new Image([[0, 1, 2], [3, 4, 5], [6, 7, 8]]);\n",
    "var pier_img = new Image(pier)\n",
    "\n",
    "// run the zero mean function on the test image and on 'pier'\n",
    "var test_zero_mean = makeZeroMean(test_img);\n",
    "var pier_zero_mean = makeZeroMean(pier_img);\n",
    "var start = Date.now();\n",
    "var duration = Date.now() - start;\n",
    "\n",
    "//Check the duration of your function (note that the unit of duration is ms)\n",
    "if (duration > 10000){\n",
    "    console.log('WARNING!\\nThe function `makeZeroMean`  is taking way too long. Make sure to optimize your code. In particular, check that you are not iterating the image an unnecessary number of times.');\n",
    "}\n",
    "\n",
    "// Check if the output is as expected \n",
    "if(!(test_zero_mean.imageCompare(new Image([[-4, -3, -2], [-1, 0, 1], [2, 3, 4]])))){\n",
    "    console.log(\"WARNING!\\n The function `makeZeroMean` is not yet correct\");\n",
    "}else{// print victory message\n",
    "    console.log('Nice, the function `makeZeroMean` seems to substract the mean!');}\n",
    "\n",
    "// Check if the image has the correct behaviour\n",
    "if (pier_img.getPixel(100, 100) - pier_zero_mean.getPixel(100, 100) > 152.14){\n",
    "    console.log(\"WARNING!\\nThe function `makeZeroMean` is not yet correct\");\n",
    "}else{// print victory message\n",
    "    console.log('Nice, the function `makeZeroMean` seems to work on real images!');}"
   ]
  },
  {
   "cell_type": "markdown",
   "metadata": {
    "deletable": false,
    "editable": false,
    "kernel": "JavaScript",
    "nbgrader": {
     "cell_type": "markdown",
     "checksum": "263133d1604e855128598897f5ece957",
     "grade": false,
     "grade_id": "cell-d6b3560707f58a30",
     "locked": true,
     "schema_version": 3,
     "solution": false,
     "task": false
    }
   },
   "source": [
    "Now, implement `stretchContrast`."
   ]
  },
  {
   "cell_type": "code",
   "execution_count": null,
   "metadata": {
    "deletable": false,
    "kernel": "JavaScript",
    "nbgrader": {
     "cell_type": "code",
     "checksum": "02dabdb934c3ce07ef39f49103d4369a",
     "grade": false,
     "grade_id": "ans-00581def5a41cfb0",
     "locked": false,
     "schema_version": 3,
     "solution": true,
     "task": false
    },
    "tags": []
   },
   "outputs": [],
   "source": [
    "%use javascript\n",
    "\n",
    "// function that normalizes the image so that all pixels have values between 0 and 1.\n",
    "function stretchContrast(img){\n",
    "    // declare the output image\n",
    "    var output = new Image(img.shape());\n",
    "    \n",
    "    // YOUR CODE HERE\n",
    "    \n",
    "    // return the output image\n",
    "    return output;\n",
    "}"
   ]
  },
  {
   "cell_type": "markdown",
   "metadata": {
    "deletable": false,
    "editable": false,
    "kernel": "JavaScript",
    "nbgrader": {
     "cell_type": "markdown",
     "checksum": "789949df092056c6ed176fe4c2461c46",
     "grade": false,
     "grade_id": "cell-97589d90a96488fd",
     "locked": true,
     "schema_version": 3,
     "solution": false,
     "task": false
    }
   },
   "source": [
    "Run the next cell to run a simple sanity check. Again, we will test on a simple $3\\times 3$ image and then on `pier`."
   ]
  },
  {
   "cell_type": "code",
   "execution_count": null,
   "metadata": {
    "deletable": false,
    "editable": false,
    "kernel": "JavaScript",
    "nbgrader": {
     "cell_type": "code",
     "checksum": "09b8fb0c6da88f1b4cca65d2dbd9c555",
     "grade": true,
     "grade_id": "grad-190f791354a73164",
     "locked": true,
     "points": 1,
     "schema_version": 3,
     "solution": false,
     "task": false
    },
    "tags": []
   },
   "outputs": [],
   "source": [
    "%use javascript\n",
    "\n",
    "// declare the test image\n",
    "test_img = new Image([[0, 1, 2], [3, 4, 5], [6, 7, 8]]);\n",
    "var pier_img = new Image(pier)\n",
    "\n",
    "// run the stretch contrast function on the test image\n",
    "var test_stretch = stretchContrast(test_img);\n",
    "var start = Date.now();\n",
    "var pier_stretch = stretchContrast(pier_img);\n",
    "var duration = Date.now() - start;\n",
    "\n",
    "//Check the duration of your function (note that the unit of duration is ms)\n",
    "if (duration > 10000){\n",
    "    console.log('WARNING!\\nThe function `stretchConstrast` is taking way too long. Make sure to optimize your code. In particular, check that you are not iterating the image an unnecessary number of times.');\n",
    "}\n",
    "\n",
    "// compare the result to the correct result\n",
    "if(!(test_stretch.imageCompare(new Image([[0, 0.125, 0.25], [0.375, 0.5, 0.625], [0.75, 0.875, 1]])))){\n",
    "    console.log(\"WARNING!\\nThe function `stretchConstrast` is not yet correct.\");\n",
    "}else{\n",
    "    console.log('Nice, The function `stretchConstrast` seems to produce the correct output!');}\n",
    "\n",
    "if(pier_stretch.getMax() != 1){\n",
    "    console.log(\"WARNING!\\nThe function `stretchConstrast` does not work on real images.\");\n",
    "}else{\n",
    "    console.log('Nice, the function `stretchConstrast` is working on real images!');}"
   ]
  },
  {
   "cell_type": "markdown",
   "metadata": {
    "deletable": false,
    "editable": false,
    "kernel": "JavaScript",
    "nbgrader": {
     "cell_type": "markdown",
     "checksum": "e06102e83e485dbb88e3dfbb48fbba09",
     "grade": false,
     "grade_id": "cell-94ba3952742124b7",
     "locked": true,
     "schema_version": 3,
     "solution": false,
     "task": false
    }
   },
   "source": [
    "Finally, implement the function `normalize2ndOrderStatistics`."
   ]
  },
  {
   "cell_type": "code",
   "execution_count": null,
   "metadata": {
    "deletable": false,
    "kernel": "JavaScript",
    "nbgrader": {
     "cell_type": "code",
     "checksum": "01042d588dc42bcb30f45a447c04cb2e",
     "grade": false,
     "grade_id": "ans-47afab53a15e1b2b",
     "locked": false,
     "schema_version": 3,
     "solution": true,
     "task": false
    },
    "tags": []
   },
   "outputs": [],
   "source": [
    "%use javascript\n",
    "\n",
    "// function that normalizes the image so that the sample mean of the pixel values is 0 and the sample standard deviation is 1.\n",
    "function normalize2ndOrderStatistics(img){\n",
    "    // declare the output image\n",
    "    var output = new Image(img.shape());\n",
    "    \n",
    "    // YOUR CODE HERE\n",
    "    \n",
    "    // return the output image\n",
    "    return output;\n",
    "}"
   ]
  },
  {
   "cell_type": "markdown",
   "metadata": {
    "deletable": false,
    "editable": false,
    "kernel": "JavaScript",
    "nbgrader": {
     "cell_type": "markdown",
     "checksum": "7b5b433eafb00ba24606b54ae1b52fa5",
     "grade": false,
     "grade_id": "cell-008e6cfad20a7e48",
     "locked": true,
     "schema_version": 3,
     "solution": false,
     "task": false
    }
   },
   "source": [
    "And run the next cell for a quick test again."
   ]
  },
  {
   "cell_type": "code",
   "execution_count": null,
   "metadata": {
    "deletable": false,
    "editable": false,
    "kernel": "JavaScript",
    "nbgrader": {
     "cell_type": "code",
     "checksum": "8b3ac91c3226da89577e70d44d84263d",
     "grade": true,
     "grade_id": "grad-6e5e2b291291267a",
     "locked": true,
     "points": 1,
     "schema_version": 3,
     "solution": false,
     "task": false
    },
    "tags": []
   },
   "outputs": [],
   "source": [
    "%use javascript\n",
    "\n",
    "// declare the test image\n",
    "test_img = new Image([[0, 1, 2], [3, 4, 5], [6, 7, 8]]);\n",
    "var pier_img = new Image(pier)\n",
    "\n",
    "// run the function on test_img\n",
    "var test_normalize = normalize2ndOrderStatistics(test_img).toArray();\n",
    "var start = Date.now();\n",
    "var pier_normalize = normalize2ndOrderStatistics(pier_img);\n",
    "var duration = Date.now() - start;\n",
    "\n",
    "//Check the duration of your function (note that the unit of duration is ms)\n",
    "if (duration > 10000){\n",
    "    console.log('WARNING!\\nThe function `normalize2ndOrderStatistics` is taking way too long. Make sure to optimize your code. In particular, check that you are not iterating the image an unnecessary number of times.');\n",
    "}\n",
    "\n",
    "// compare the result to the correct result\n",
    "// test for unbiased estimator of variance\n",
    "if(!(Image.arrayCompare(test_normalize, [[ -1.4605934866804429, -1.0954451150103321, -0.7302967433402214 ],\n",
    "                                         [ -0.3651483716701107, 0, 0.3651483716701107 ],\n",
    "                                         [ 0.7302967433402214, 1.0954451150103321, 1.4605934866804429 ]]))){\n",
    "    // test for biased estimator of variance\n",
    "    if(!(Image.arrayCompare(test_normalize, [[ -1.5491933384829668, -1.161895003862225, -0.7745966692414834 ],\n",
    "                                             [ -0.3872983346207417, 0, 0.3872983346207417 ],\n",
    "                                             [ 0.7745966692414834, 1.161895003862225, 1.5491933384829668 ]]))){\n",
    "        console.log(\"WARNING!\\nThe function `normalize2ndOrderStatistics` is not yet correct!\");\n",
    "    }else{\n",
    "        // print victory message\n",
    "        console.log('Good job! The function `normalize2ndOrderStatistics` seems to produce the correct output! You\\'re using the biased estimator of the variance.');\n",
    "    }\n",
    "}else{\n",
    "    // print victory message\n",
    "    console.log('Good job! The function `normalize2ndOrderStatistics` seems to produce the correct output! You\\'re using the unbiased estimator of the variance.');\n",
    "}\n",
    "//console.log(pier_normalize.getMax()) = 1.18950\n",
    "//console.log(pier_normalize.getMin()) = -1.75930\n",
    "if (Math.abs(pier_normalize.getMax() - 1.18950) > 0.01 || Math.abs(pier_normalize.getMin() + 1.75930) > 0.01){\n",
    "    console.log(\"WARNING!\\nThe function `normalize2ndOrderStatistics` is not working on real images!\");\n",
    "}else{\n",
    "    console.log('Good job! The function `normalize2ndOrderStatistics` seems to be working on real images.')\n",
    "}"
   ]
  },
  {
   "cell_type": "markdown",
   "metadata": {
    "deletable": false,
    "editable": false,
    "kernel": "JavaScript",
    "nbgrader": {
     "cell_type": "markdown",
     "checksum": "4020fd0f1b52976489b4e36242518c36",
     "grade": false,
     "grade_id": "cell-a5b6fa8961824ffa",
     "locked": true,
     "schema_version": 3,
     "solution": false,
     "task": false
    },
    "user_expressions": []
   },
   "source": [
    "In order for you to see the relevance of image normalization, we provide a sequence of fluorescence microscopy images (see more [here](https://en.wikipedia.org/wiki/Fluorescence_microscope)), named `c_elegans`. These are consecutive slices of the same 3D volume, but appear darker over time due to photobleaching (the loss of fluorescence, read more [here](https://en.wikipedia.org/wiki/Photobleaching)). Of course, this is a huge problem for the application, and to solve it we absolutely need to normalize these images.\n",
    "\n",
    "Run the next cell to load the `c_elegans` series, and display it. We will use the module [io](https://scikit-image.org/docs/0.8.0/api/skimage.io.html) of SciKit-Image, which allows us to read all the slices of a `.tif` file at once. Furthermore, we will pass it to JS so that we can use the functions you defined above.\n",
    "\n",
    ":::{note} In the next cell, you will see the original images, and a graph that shows the effect of photobleaching on the mean value of each image. Make sure you explore the images and their histogram by clicking on the `Prev` and `Next` buttons! \n",
    ":::"
   ]
  },
  {
   "cell_type": "code",
   "execution_count": null,
   "metadata": {
    "deletable": false,
    "editable": false,
    "kernel": "SoS",
    "nbgrader": {
     "cell_type": "code",
     "checksum": "e2b3dfd3e62ec0160ff5b9f3305c1432",
     "grade": false,
     "grade_id": "cell-cc6d8187de5feefb",
     "locked": true,
     "schema_version": 3,
     "solution": false,
     "task": false
    },
    "tags": []
   },
   "outputs": [],
   "source": [
    "%use sos\n",
    "%put c_elegans --to javascript\n",
    " \n",
    "# Show c_elegans images\n",
    "plt.close(\"all\")\n",
    "viewer([c_elegans[ind,:,:] for ind in range(12)], normalize=False, clip_range=[0, 255], title=[f\"c_elegans {ind+1}\" for ind in range(12)], hist=True)\n",
    "# Show decay of the mean value through time due to photobleaching\n",
    "fig = plt.figure(num=f\"SCIPER: {uid}\",figsize=(6,4))\n",
    "plt.plot([ind+1 for ind in range(12)], [np.mean(c_elegans[ind,:,:]) for ind in range(12)])\n",
    "plt.xticks([ind+1 for ind in range(12)]); plt.xlabel(\"Image number\"); plt.ylabel(\"Mean value\"); \n",
    "plt.grid('both'); plt.show();"
   ]
  },
  {
   "cell_type": "markdown",
   "metadata": {
    "deletable": false,
    "editable": false,
    "kernel": "Python3",
    "nbgrader": {
     "cell_type": "markdown",
     "checksum": "7ba8510f2247552f9e1c190e48fef3bd",
     "grade": false,
     "grade_id": "cell-a9c5d66d7c677fe2",
     "locked": true,
     "schema_version": 3,
     "solution": false,
     "task": false
    }
   },
   "source": [
    "Now we are going to visualize the effect of each of your normalizing functions on `c_elegans`. For this purpose, we provide with you the function `make_montage(img_arr, mode, cols)`. It performs the operation specified by `mode` (1: zero mean, 2: stretch contrast, 3: normalize statistics) on each image, then places the result in the right place inside the montage `out`.\n",
    "\n",
    "Now run the next cell to declare the function `makeMontage()`."
   ]
  },
  {
   "cell_type": "code",
   "execution_count": null,
   "metadata": {
    "deletable": false,
    "editable": false,
    "kernel": "JavaScript",
    "nbgrader": {
     "cell_type": "code",
     "checksum": "d7bd8bdf4948267d29c6d30e50770f5f",
     "grade": false,
     "grade_id": "cell-bfcf756e6846fb2a",
     "locked": true,
     "schema_version": 3,
     "solution": false,
     "task": false
    },
    "tags": []
   },
   "outputs": [],
   "source": [
    "%use javascript\n",
    "\n",
    "// function that creates a single image from multiple images (slices) and performs the specified function on the images\n",
    "function makeMontage(img_arr, mode, cols) {\n",
    "    // get dimensions of each image\n",
    "    var w = img_arr[0].nx;\n",
    "    var h = img_arr[0].ny;\n",
    "    // determine the number of rows \n",
    "    var rows = img_arr.length/cols;\n",
    "    // initialize output image \n",
    "    var out = new Image(h*rows, w*cols);    \n",
    "    // iterate through each image in img_arr\n",
    "    for(t=0; t<rows*cols; t++){\n",
    "        // extract the corresponding image \n",
    "        var img = img_arr[t].copy();\n",
    "        // check requested operation \n",
    "        //(note that any mode other than 1, 2 or 3 simply copies the original images in the montage)\n",
    "        if(mode == 1){ \n",
    "            img = makeZeroMean(img);\n",
    "        }             \n",
    "        if(mode == 2){\n",
    "            img = stretchContrast(img);\n",
    "        }\n",
    "        if(mode == 3){\n",
    "            img = normalize2ndOrderStatistics(img);\n",
    "        }            \n",
    "        // put result in the corresponding place\n",
    "        out.putSubImage(Math.floor(t%cols)*w, Math.floor(t/cols)*h, img);\n",
    "    }\n",
    "    // return output image\n",
    "    return out;\n",
    "}"
   ]
  },
  {
   "cell_type": "markdown",
   "metadata": {
    "deletable": false,
    "editable": false,
    "kernel": "JavaScript",
    "nbgrader": {
     "cell_type": "markdown",
     "checksum": "ad67f8210342294ffbc0d57664799d00",
     "grade": false,
     "grade_id": "cell-6cb32370ab6a4ede",
     "locked": true,
     "schema_version": 3,
     "solution": false,
     "task": false
    }
   },
   "source": [
    "Now, we are going apply your methods to the image slices we just loaded. First, we convert each element in the array `c_elegans`  to an `Image` object. Then, we call the function on the array with each of the three modes to visualize the result of the functions that you implemented above."
   ]
  },
  {
   "cell_type": "code",
   "execution_count": null,
   "metadata": {
    "deletable": false,
    "editable": false,
    "kernel": "JavaScript",
    "nbgrader": {
     "cell_type": "code",
     "checksum": "25bc4a0e32999270f66442a65fdedaa4",
     "grade": false,
     "grade_id": "cell-09e95f64e85124ce",
     "locked": true,
     "schema_version": 3,
     "solution": false,
     "task": false
    },
    "tags": []
   },
   "outputs": [],
   "source": [
    "%use javascript\n",
    "%put montage_original montage_zero_mean_js montage_normalize_statistics_js montage_stretch_contrast_js \n",
    "\n",
    "// convert each element in the c_elegans array to an Image object\n",
    "var c_elegans_imgs = new Array();\n",
    "for(x = 0; x < c_elegans.length; x++){\n",
    "    var tmp = c_elegans_imgs.push(new Image(c_elegans[x]));\n",
    "}\n",
    "\n",
    "// run makeMontage with all four functions (modes)\n",
    "var montage_original = makeMontage(c_elegans_imgs, 0, 3).toArray();\n",
    "var montage_zero_mean_js = makeMontage(c_elegans_imgs, 1, 3).toArray();\n",
    "var montage_stretch_contrast_js = makeMontage(c_elegans_imgs, 2, 3).toArray();\n",
    "var montage_normalize_statistics_js = makeMontage(c_elegans_imgs, 3, 3).toArray();"
   ]
  },
  {
   "cell_type": "markdown",
   "metadata": {
    "deletable": false,
    "editable": false,
    "kernel": "JavaScript",
    "nbgrader": {
     "cell_type": "markdown",
     "checksum": "ecdd98dfc4e83b0ce913a530ae153dbe",
     "grade": false,
     "grade_id": "cell-431ae3ac67dd5645",
     "locked": true,
     "schema_version": 3,
     "solution": false,
     "task": false
    }
   },
   "source": [
    "Now that we have applied your functions and that we have the variables in Python, let's visualize them. Run the following cell to do so. Use the buttons `Next` and `Prev` to browse through the three images. If your implementations passed the previous tests, you should see the correct result. Look carefully at the images and solve the two MCQs coming next."
   ]
  },
  {
   "cell_type": "code",
   "execution_count": null,
   "metadata": {
    "deletable": false,
    "editable": false,
    "kernel": "SoS",
    "nbgrader": {
     "cell_type": "code",
     "checksum": "53c26a1c36d946ccb484bbebf76f7d13",
     "grade": false,
     "grade_id": "cell-884909364cd99acf",
     "locked": true,
     "schema_version": 3,
     "solution": false,
     "task": false
    },
    "tags": []
   },
   "outputs": [],
   "source": [
    "%use sos\n",
    "# Define the lists of images and titles\n",
    "image_list = [np.array(montage_original), np.array(montage_zero_mean_js), np.array(montage_stretch_contrast_js), np.array(montage_normalize_statistics_js)]\n",
    "title_list = ['Original c_elegans', 'Zero Mean c_elegans', 'Stretch Contrast c_elegans', 'Normalize Statistics c_elegans']\n",
    "\n",
    "# Display the montages\n",
    "plt.close('all')\n",
    "normalization_viewer = viewer(image_list, title=title_list, widgets=True)"
   ]
  },
  {
   "cell_type": "markdown",
   "metadata": {
    "deletable": false,
    "editable": false,
    "kernel": "Python3",
    "nbgrader": {
     "cell_type": "markdown",
     "checksum": "285871ac6f3b12d9cad4b806a78594cb",
     "grade": false,
     "grade_id": "cell-d06bb9e45c40c9d6",
     "locked": true,
     "schema_version": 3,
     "solution": false,
     "task": false
    }
   },
   "source": [
    "### Multiple choice questions\n",
    "\n",
    "Why does the bottom-right corner of the **Zero Mean Montage** have lower contrast than the top-left corner? (**0.5 points**)\n",
    "\n",
    "1. Because the different subimages in the montage have different spreads of values around their mean.\n",
    "2. It is an illumination effect.\n",
    "3. The bottom-right subimages of the montage are defective.\n",
    "\n",
    "Modify the variable `answer` in the next cell to reflect your choices. "
   ]
  },
  {
   "cell_type": "code",
   "execution_count": null,
   "metadata": {
    "deletable": false,
    "kernel": "SoS",
    "nbgrader": {
     "cell_type": "code",
     "checksum": "3c2c0e8d623383e7a6cec9ceffbb884e",
     "grade": false,
     "grade_id": "ans-376291a90e1ea6c5",
     "locked": false,
     "schema_version": 3,
     "solution": true,
     "task": false
    }
   },
   "outputs": [],
   "source": [
    "%use sos\n",
    "# Assign your answer to this variable\n",
    "answer = None\n",
    "# YOUR CODE HERE"
   ]
  },
  {
   "cell_type": "code",
   "execution_count": null,
   "metadata": {
    "deletable": false,
    "editable": false,
    "kernel": "SoS",
    "nbgrader": {
     "cell_type": "code",
     "checksum": "e7e0652448cc0df4383b5641500d38fc",
     "grade": true,
     "grade_id": "grad-6695b3233dbda1e7",
     "locked": true,
     "points": 0.5,
     "schema_version": 3,
     "solution": false,
     "task": false
    }
   },
   "outputs": [],
   "source": [
    "%use sos\n",
    "if not answer in [1, 2, 3]: \n",
    "    print('WARNING!\\nPossible answers are 1, 2 or 3.')"
   ]
  },
  {
   "cell_type": "markdown",
   "metadata": {
    "deletable": false,
    "editable": false,
    "kernel": "Python3",
    "nbgrader": {
     "cell_type": "markdown",
     "checksum": "443955debfb23ac3b03a11f9ae6e9ac5",
     "grade": false,
     "grade_id": "cell-7fc1d797c0aac343",
     "locked": true,
     "schema_version": 3,
     "solution": false,
     "task": false
    }
   },
   "source": [
    "Why is this not the case for the other two montages? (**0.5 points**)\n",
    "\n",
    "1. Becuase the images already had zero mean.\n",
    "2. Because the other two functions modify the contrast by adjusting the range of intensities.\n",
    "\n",
    "Modify the variable `answer` in the next cell to reflect your choices. As usual, there is another cell that will remind you to select a valid choice if you haven't."
   ]
  },
  {
   "cell_type": "code",
   "execution_count": null,
   "metadata": {
    "deletable": false,
    "kernel": "SoS",
    "nbgrader": {
     "cell_type": "code",
     "checksum": "269ec7482f7ed10a09a574e9baaf36c3",
     "grade": false,
     "grade_id": "ans-213796640f2a5768",
     "locked": false,
     "schema_version": 3,
     "solution": true,
     "task": false
    }
   },
   "outputs": [],
   "source": [
    "%use sos\n",
    "# assign your answer to this variable\n",
    "answer = None\n",
    "# YOUR CODE HERE"
   ]
  },
  {
   "cell_type": "code",
   "execution_count": null,
   "metadata": {
    "deletable": false,
    "editable": false,
    "kernel": "SoS",
    "nbgrader": {
     "cell_type": "code",
     "checksum": "91c74fdd85abadaf0653e80a4a4a93e1",
     "grade": true,
     "grade_id": "grad-4cab3b4c7570a201",
     "locked": true,
     "points": 0.5,
     "schema_version": 3,
     "solution": false,
     "task": false
    }
   },
   "outputs": [],
   "source": [
    "%use sos\n",
    "if not answer in [1, 2]: \n",
    "    print('WARNING!\\nPossible answers are 1 and 2.')"
   ]
  },
  {
   "cell_type": "markdown",
   "metadata": {
    "deletable": false,
    "editable": false,
    "kernel": "Python3",
    "nbgrader": {
     "cell_type": "markdown",
     "checksum": "6ff54061d4b859df2ce76c3c59ab0cc8",
     "grade": false,
     "grade_id": "cell-f96b682d6cdf0ff5",
     "locked": true,
     "schema_version": 3,
     "solution": false,
     "task": false
    },
    "user_expressions": []
   },
   "source": [
    "(normalization-in-python)=\n",
    "## 1.B. Normalization in Python (2 points)\n",
    "[Back to table of contents](#ToC_1_Pixelwise_operations)\n",
    "\n",
    "As you have probably realized by now, low level languages can get tedious. You can do the same thing you did in JavaScript in less lines in Python, by using NumPy arrays, so let's do it! \n",
    "\n",
    "As an example, we have implemented the function `make_zero_mean`. **For a total of 2 points**, implement the other two methods (`stretch_contrast` and `normalize_2nd_order_statistics`) in Python in the following cells (**1 point each**). \n",
    "\n",
    ":::{hint}\n",
    "It's possible to complete every function with only one line of code using Numpy built-in functions, so **for-loops are not accepted!**\n",
    ":::"
   ]
  },
  {
   "cell_type": "code",
   "execution_count": null,
   "metadata": {
    "deletable": false,
    "editable": false,
    "kernel": "SoS",
    "nbgrader": {
     "cell_type": "code",
     "checksum": "bb29b24d8a0160cf301d74edabba10b0",
     "grade": false,
     "grade_id": "ans-83302634006f5760",
     "locked": true,
     "schema_version": 3,
     "solution": false,
     "task": false
    }
   },
   "outputs": [],
   "source": [
    "%use sos\n",
    "# Function that normalizes the image so that the sample mean of the pixel values is zero.\n",
    "def make_zero_mean(img):\n",
    "    # Declare the output image\n",
    "    output = np.zeros(img.shape)\n",
    "    # Subtract the mean from the input image\n",
    "    output = img-np.mean(img)\n",
    "    # Return the output image\n",
    "    return output"
   ]
  },
  {
   "cell_type": "code",
   "execution_count": null,
   "metadata": {
    "deletable": false,
    "kernel": "SoS",
    "nbgrader": {
     "cell_type": "code",
     "checksum": "ded1bf0f56b9b04eecf838feed086c4a",
     "grade": false,
     "grade_id": "cell-16bbad30541a7719",
     "locked": false,
     "schema_version": 3,
     "solution": true,
     "task": false
    }
   },
   "outputs": [],
   "source": [
    "# Function that normalizes the image so that all pixels have values between 0 and 1.\n",
    "def stretch_contrast(img):\n",
    "    # Declare the output image\n",
    "    output = np.zeros(img.shape)\n",
    "    \n",
    "    # YOUR CODE HERE\n",
    "    \n",
    "    # Return the output image\n",
    "    return output"
   ]
  },
  {
   "cell_type": "code",
   "execution_count": null,
   "metadata": {
    "deletable": false,
    "kernel": "SoS",
    "nbgrader": {
     "cell_type": "code",
     "checksum": "193bbc47912eb3cda03761625a08dc9b",
     "grade": false,
     "grade_id": "cell-1b0c8bab36202f3d",
     "locked": false,
     "schema_version": 3,
     "solution": true,
     "task": false
    }
   },
   "outputs": [],
   "source": [
    "# Function that normalizes the image so that the sample mean of the pixel values is 0 and the sample standard deviation is 1.\n",
    "def normalize_2nd_order_statistics(img):\n",
    "    # Declare the output image\n",
    "    output = np.zeros(img.shape)\n",
    "    \n",
    "    # YOUR CODE HERE\n",
    "    \n",
    "    # Return the output image\n",
    "    return output"
   ]
  },
  {
   "cell_type": "markdown",
   "metadata": {
    "deletable": false,
    "editable": false,
    "kernel": "Python3",
    "nbgrader": {
     "cell_type": "markdown",
     "checksum": "76b81b3e253d9d497977e68244778f9e",
     "grade": false,
     "grade_id": "cell-5a6cb7268418986b",
     "locked": true,
     "schema_version": 3,
     "solution": false,
     "task": false
    }
   },
   "source": [
    "Use the next two cells for a quick test on your functions. This cell tests the two characteristics requested for each function:\n",
    "* that the result of `stretch_contrast` is in the range $[0, 1]$, and\n",
    "* that the result of `normalize_2nd_order_statistics` has zero mean and unit variance. \n",
    "\n",
    "Run them, and if your implementations are correct, they shouldn't raise any errors."
   ]
  },
  {
   "cell_type": "code",
   "execution_count": null,
   "metadata": {
    "deletable": false,
    "editable": false,
    "kernel": "SoS",
    "nbgrader": {
     "cell_type": "code",
     "checksum": "2f05bcdb5735f1bd4cc5faf61ba62cde",
     "grade": true,
     "grade_id": "grad-925b5b8cd5ffa921",
     "locked": true,
     "points": 1,
     "schema_version": 3,
     "solution": false,
     "task": false
    }
   },
   "outputs": [],
   "source": [
    "%use sos\n",
    "# This cell tests your method stretch contrast\n",
    "# Here we run your function on the first slice of c_elegans\n",
    "test_stretch_contrast = stretch_contrast(c_elegans[0])\n",
    "\n",
    "# And we check that stretch_contrast effectively maps the pixels to the range [0,1]\n",
    "if np.min(test_stretch_contrast) != 0: \n",
    "    print('WARNING!!\\nThe minimum value in the result of stretch_contrast is not 0')\n",
    "elif np.max(test_stretch_contrast) != 1: \n",
    "    print('WARNING!!\\nThe maximum value in the result of stretch_contrast is not 1')\n",
    "else :\n",
    "    print(\"Well done! Your stretch_contrast function seems to be correct.\")"
   ]
  },
  {
   "cell_type": "code",
   "execution_count": null,
   "metadata": {
    "deletable": false,
    "editable": false,
    "kernel": "SoS",
    "nbgrader": {
     "cell_type": "code",
     "checksum": "9e93027ad3dc42a0218fadeea654ee53",
     "grade": true,
     "grade_id": "grad-2e62d034adec415e",
     "locked": true,
     "points": 1,
     "schema_version": 3,
     "solution": false,
     "task": false
    }
   },
   "outputs": [],
   "source": [
    "%use sos\n",
    "# This cell tests your method normalize statistics\n",
    "# Here we run the method on the first slice of c_elegans\n",
    "test_normalize_statistics = normalize_2nd_order_statistics(c_elegans[0])\n",
    "\n",
    "# Now we check that normalize_statistics returns an image with mean = 0, \n",
    "if np.abs(np.mean(test_normalize_statistics)) > 1e-10: \n",
    "    print('WARNING!!\\nYour mean in normalize_2nd_order_statistics is not 0')\n",
    "# And with std = 1 \n",
    "elif np.abs(np.std(test_normalize_statistics) - 1) > 1e-4 or np.abs(np.std(test_normalize_statistics, ddof=1) - 1) > 1e-4: \n",
    "    print('WARNING!!\\nYour standard deviation in normalize_2nd_order_statistics is not 1')\n",
    "else :\n",
    "    print('Well done! Your normalization of 2nd order statistics seems to be correct.')"
   ]
  },
  {
   "cell_type": "markdown",
   "metadata": {
    "deletable": false,
    "editable": false,
    "kernel": "SoS",
    "nbgrader": {
     "cell_type": "markdown",
     "checksum": "2cac32d7ef2e49bc41725fdf39a1256d",
     "grade": false,
     "grade_id": "cell-600d5c1df433fc27",
     "locked": true,
     "schema_version": 3,
     "solution": false,
     "task": false
    },
    "user_expressions": []
   },
   "source": [
    "(solarization)=\n",
    "# 2. Solarization (2 points)\n",
    "[Back to table of contents](#ToC_1_Pixelwise_operations)\n",
    "\n",
    "[Solarization](https://en.wikipedia.org/wiki/Solarization_(photography)) is one of the oldest effects known in photography. It refers to the *tone reversal* effect that is achieved by over exposure of certain photographic papers during the development process. In this context, *tone reversal* means that the brightest objects (e.g. the sun) appear darker than the rest of the image. After its discovery, the solarization effect was used for artistic purposes. Of course when digital photography came in, it stopped being an over-exposure effect, but it can still be artificially provoked for artistic purposes. \n",
    "\n",
    "Solarization can be expressed mathematically (assuming that our photo has a range of $[0, 255]$) as \n",
    "$$h[k, l] = \\begin{cases}\n",
    "    255 - (255 - T)*\\frac{g[k, l]}{T},& \\text{if } g[k, l] < T\\\\\n",
    "    g[k, l],              & \\text{if } g[k, l] \\geq T.\n",
    "\\end{cases}$$\n",
    "Where $g$ is the input image, $h$ is the solarized output image, and $T$ is the threshold defining the strength of the solarization.\n",
    "\n",
    "In the next cell, **for 1 point**, Complete the function `solarize` in JS that implements the formula above. "
   ]
  },
  {
   "cell_type": "code",
   "execution_count": null,
   "metadata": {
    "deletable": false,
    "kernel": "JavaScript",
    "nbgrader": {
     "cell_type": "code",
     "checksum": "0af9a9a95bc4e685cfc918e66d364afa",
     "grade": false,
     "grade_id": "cell-edf641aa7d8ac75c",
     "locked": false,
     "schema_version": 3,
     "solution": true,
     "task": false
    }
   },
   "outputs": [],
   "source": [
    "%use javascript\n",
    "// function that applies the solarization effect to an image\n",
    "function solarize(img, T){\n",
    "    // Declare output variable\n",
    "    var output = new Image(img.shape());\n",
    "    \n",
    "    // YOUR CODE HERE\n",
    "    \n",
    "    return output; \n",
    "}"
   ]
  },
  {
   "cell_type": "markdown",
   "metadata": {
    "deletable": false,
    "editable": false,
    "kernel": "JavaScript",
    "nbgrader": {
     "cell_type": "markdown",
     "checksum": "e3ab2fa64fdaaca3d0b58b467b1782d4",
     "grade": false,
     "grade_id": "cell-bb26aac22ebf8d71",
     "locked": true,
     "schema_version": 3,
     "solution": false,
     "task": false
    }
   },
   "source": [
    "Now let's apply your function to the image `pier` with a threshold of $150$."
   ]
  },
  {
   "cell_type": "code",
   "execution_count": null,
   "metadata": {
    "deletable": false,
    "editable": false,
    "kernel": "JavaScript",
    "nbgrader": {
     "cell_type": "code",
     "checksum": "ba6b11d3751fdc412f05036aa2c09ffa",
     "grade": false,
     "grade_id": "cell-13e5e5b740fd8d0c",
     "locked": true,
     "schema_version": 3,
     "solution": false,
     "task": false
    }
   },
   "outputs": [],
   "source": [
    "%use javascript\n",
    "%get pier\n",
    "%put solarized_pier\n",
    "\n",
    "var solarized_pier = solarize(new Image(pier), 150).toArray();"
   ]
  },
  {
   "cell_type": "markdown",
   "metadata": {
    "deletable": false,
    "editable": false,
    "kernel": "JavaScript",
    "nbgrader": {
     "cell_type": "markdown",
     "checksum": "66b10ff23ed4aeef884fdad4b575b495",
     "grade": false,
     "grade_id": "cell-330cf3abfc94d333",
     "locked": true,
     "schema_version": 3,
     "solution": false,
     "task": false
    }
   },
   "source": [
    "In order to check your function and to be able to explore the effect more interactively, run the next cell, where we define the Python equivalent of the `solarize` function and compare it to your JavaScript function. The Python function also takes an original image `img` and a threshold `T` as inputs, and returns the solarized version. Make sure to understand the code, and if you have any doubts, go back to the [introductory lab](../0_Introductory_lab/Introductory.ipynb) or read more about [boolean indexing](https://numpy.org/doc/stable/reference/arrays.indexing.html#boolean-array-indexing). Look at the two images and check if they're the same. If you are unsure, you can go to the `Options` menu of the viewer and click `Compare`. If there is a difference between the two images it will be highlighted in red."
   ]
  },
  {
   "cell_type": "code",
   "execution_count": null,
   "metadata": {
    "deletable": false,
    "editable": false,
    "kernel": "SoS",
    "nbgrader": {
     "cell_type": "code",
     "checksum": "9d613d210041cf76c662d9f4376aa094",
     "grade": true,
     "grade_id": "cell-91b71a741dd30a85",
     "locked": true,
     "points": 1,
     "schema_version": 3,
     "solution": false,
     "task": false
    }
   },
   "outputs": [],
   "source": [
    "%use sos\n",
    "%get solarized_pier --from javascript\n",
    "# Define solarize\n",
    "def solarize(img, T=None):\n",
    "    output = np.copy(img)\n",
    "    if T == None:\n",
    "        T = T_slider.value\n",
    "    output[output < T] = 255 - (255-T) * output[output<T] / T\n",
    "    return output\n",
    "\n",
    "plt.close('all')\n",
    "view = viewer([solarize(pier, T=150), np.array(solarized_pier) ], title=['Solarized Python', 'Solarized JavaScript'], \n",
    "              subplots=[1, 2], widgets=True)"
   ]
  },
  {
   "cell_type": "markdown",
   "metadata": {
    "deletable": false,
    "editable": false,
    "kernel": "SoS",
    "nbgrader": {
     "cell_type": "markdown",
     "checksum": "e93b25566732a2c23d35d940283813d9",
     "grade": false,
     "grade_id": "cell-0fd002e0d4eb2ad9",
     "locked": true,
     "schema_version": 3,
     "solution": false,
     "task": false
    },
    "user_expressions": []
   },
   "source": [
    "In the next cell, we provide with you an interactive viewer, where you can play around with the threshold value $T$ to see the different effects this can have on the image. To do so, go to the menu `Extra Widgets`, change the threshold `T`, and click on the `Solarize` button. If you want to see the original image again, just click `Reset`."
   ]
  },
  {
   "cell_type": "code",
   "execution_count": null,
   "metadata": {
    "deletable": false,
    "editable": false,
    "kernel": "SoS",
    "nbgrader": {
     "cell_type": "code",
     "checksum": "98ed8a844f8065c8a6a0a921f2dd8a61",
     "grade": false,
     "grade_id": "cell-fe425c9082965cfc",
     "locked": true,
     "schema_version": 3,
     "solution": false,
     "task": false
    }
   },
   "outputs": [],
   "source": [
    "%use sos\n",
    "# Declare extra widgets\n",
    "T_slider = widgets.IntSlider(value=150, min=0, max=255, step=1, description='T')\n",
    "button = widgets.Button(description='Solarize')\n",
    "\n",
    "plt.close('all')\n",
    "view = viewer(pier, title=['Solarized pier'], new_widgets=[T_slider, button], callbacks=[solarize], widgets=True)"
   ]
  },
  {
   "cell_type": "markdown",
   "metadata": {
    "deletable": false,
    "editable": false,
    "kernel": "SoS",
    "nbgrader": {
     "cell_type": "markdown",
     "checksum": "7e0aaa2055e8c98b9cd7db24c3bc6844",
     "grade": false,
     "grade_id": "cell-27410351281ced6e",
     "locked": true,
     "schema_version": 3,
     "solution": false,
     "task": false
    }
   },
   "source": [
    "### Multiple Choice Questions\n",
    "\n",
    "Answer the following two questions, worth **0.5 each**, assuming a fixed parameter $T$. Think of the function `solarize` as an operator.\n",
    "\n",
    "Q1. Is `solarize` a linear operator?\n",
    "\n",
    "Q2. Is `solarize` a shift-invariant operator?\n",
    "\n",
    "In the following cell, change the values of `q1_ans` and `q2_ans` to reflect your answers. **Assign a boolean (`True` or `False`)** to the corresponding variables. Then, run the following two cells to check if your choices are valid. "
   ]
  },
  {
   "cell_type": "code",
   "execution_count": null,
   "metadata": {
    "deletable": false,
    "kernel": "SoS",
    "nbgrader": {
     "cell_type": "code",
     "checksum": "44c8e233d8e8e3966fc0e4764d9f0495",
     "grade": false,
     "grade_id": "cell-3ac708d87ed8fa9d",
     "locked": false,
     "schema_version": 3,
     "solution": true,
     "task": false
    }
   },
   "outputs": [],
   "source": [
    "%use sos\n",
    "\n",
    "# Change the values of the following variables\n",
    "q1_ans = None\n",
    "q2_ans = None\n",
    "# YOUR CODE HERE"
   ]
  },
  {
   "cell_type": "code",
   "execution_count": null,
   "metadata": {
    "deletable": false,
    "editable": false,
    "kernel": "SoS",
    "nbgrader": {
     "cell_type": "code",
     "checksum": "ac913f2e65257963cea703254b1a799b",
     "grade": true,
     "grade_id": "cell-3c4a10d1145cdaa6",
     "locked": true,
     "points": 0.5,
     "schema_version": 3,
     "solution": false,
     "task": false
    }
   },
   "outputs": [],
   "source": [
    "%use sos\n",
    "if not isinstance(q1_ans, bool):\n",
    "    print('WARNING!\\nq1_ans should be a boolean variable (True or False)')"
   ]
  },
  {
   "cell_type": "code",
   "execution_count": null,
   "metadata": {
    "deletable": false,
    "editable": false,
    "kernel": "SoS",
    "nbgrader": {
     "cell_type": "code",
     "checksum": "2e22e0097a813c040be4ab872b76a812",
     "grade": true,
     "grade_id": "cell-3b5d7e4f2e4459b3",
     "locked": true,
     "points": 0.5,
     "schema_version": 3,
     "solution": false,
     "task": false
    }
   },
   "outputs": [],
   "source": [
    "%use sos\n",
    "if not isinstance(q2_ans, bool):\n",
    "    print('WARNING!\\nq2_ans should be a boolean variable (True or False)')"
   ]
  },
  {
   "cell_type": "markdown",
   "metadata": {
    "deletable": false,
    "editable": false,
    "kernel": "SoS",
    "nbgrader": {
     "cell_type": "markdown",
     "checksum": "471033596907e326b23ec63246dbb437",
     "grade": false,
     "grade_id": "cell-c0b688fbfadebddd",
     "locked": true,
     "schema_version": 3,
     "solution": false,
     "task": false
    },
    "user_expressions": []
   },
   "source": [
    "Congratulations on finishing the first part of the Pixel-Fourier lab!</b></p>\n",
    "\n",
    ":::{attention}\n",
    "Make sure to save your notebook (you might want to keep a copy on your personal computer) and upload it to [Moodle](https://moodle.epfl.ch/mod/assign/view.php?id=1157357), in a zip file with the other notebook of this lab.\n",
    "\n",
    "* Keep the name of the notebook as: *1_Pixelwise_Operations.ipynb*,\n",
    "* Name the zip file: *Pixel_Fourier_lab.zip*.\n",
    ":::"
   ]
  }
 ],
 "metadata": {
  "kernelspec": {
   "display_name": "SoS",
   "language": "sos",
   "name": "sos"
  },
  "language_info": {
   "codemirror_mode": "sos",
   "file_extension": ".sos",
   "mimetype": "text/x-sos",
   "name": "sos",
   "nbconvert_exporter": "sos_notebook.converter.SoS_Exporter",
   "pygments_lexer": "sos"
  },
  "sos": {
   "kernels": [
    [
     "JavaScript",
     "javascript",
     "JavaScript",
     "#c8e1ae",
     ""
    ],
    [
     "SoS",
     "sos",
     "",
     "",
     "sos"
    ]
   ],
   "panel": {
    "displayed": false,
    "height": 0
   },
   "version": "0.24.4"
  }
 },
 "nbformat": 4,
 "nbformat_minor": 4
}
