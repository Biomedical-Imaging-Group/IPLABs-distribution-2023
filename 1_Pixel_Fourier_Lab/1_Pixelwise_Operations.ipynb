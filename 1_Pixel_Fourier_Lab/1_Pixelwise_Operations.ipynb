{
 "cells": [
  {
   "cell_type": "markdown",
   "metadata": {
    "deletable": false,
    "editable": false,
    "kernel": "SoS",
    "nbgrader": {
     "cell_type": "markdown",
     "checksum": "c0de8612419cf7166ac42ad952cb983e",
     "grade": false,
     "grade_id": "cell-87ef5277e6904d04",
     "locked": true,
     "schema_version": 3,
     "solution": false,
     "task": false
    },
    "user_expressions": []
   },
   "source": [
    "```{image} https://www.epfl.ch/about/overview/wp-content/uploads/2020/07/logo-epfl-1024x576.png \n",
    ":width: 140px\n",
    ":align: left\n",
    "```\n",
    "## Image Processing Laboratory Notebooks\n",
    "---\n",
    "\n",
    "This Juypter notebook is part of a series of computer laboratories which are designed\n",
    "to teach image-processing programming; they are running on the EPFL's Noto server. They are the practical complement of the theoretical lectures of the EPFL's Master course \n",
    "[**MICRO-511 Image Processing I**](https://moodle.epfl.ch/course/view.php?id=522) taught by Prof. M. Unser and Prof. D. Van de Ville.\n",
    "\n",
    "The project is funded by the Center for Digital Education and the School of Engineering. It is owned by the [Biomedical Imaging Group](http://bigwww.epfl.ch/). \n",
    "The distribution or the reproduction of the notebook is strictly prohibited without the written consent of the authors.  &copy; EPFL 2023.\n",
    "\n",
    "**Authors**: \n",
    "    [Pol del Aguila Pla](mailto:pol.delaguilapla@epfl.ch), \n",
    "    [Kay Lächler](mailto:kay.lachler@epfl.ch),\n",
    "    [Alejandro Noguerón Arámburu](mailto:alejandro.nogueronaramburu@epfl.ch),\n",
    "    [Yan Liu](mailto:yan.liu@epfl.ch), and\n",
    "    [Daniel Sage](mailto:daniel.sage@epfl.ch).\n",
    "    \n",
    "---\n",
    "\n",
    "# Lab 1.1: Pixel-wise operations\n",
    "**Released**: Thursday October 5, 2023\n",
    "\n",
    "**Submission**: Friday October 13, 2023 before 23:59 on [Moodle](https://moodle.epfl.ch/course/view.php?id=522)\n",
    "\n",
    "**Grade weight**: Lab 1 (15 points), 10% of the overall grade\n",
    "\n",
    "**Related lectures**: Chapters 1 and 2"
   ]
  },
  {
   "cell_type": "markdown",
   "metadata": {
    "kernel": "SoS",
    "user_expressions": []
   },
   "source": [
    "Double-click on this cell, fill your name and SCIPER number below to verify your identity in Noto and set the seed for random results.\n",
    ":::{attention} Please write down your name and SCIPER! \n",
    "### Student Name: \n",
    "### SCIPER: \n",
    ":::"
   ]
  },
  {
   "cell_type": "code",
   "execution_count": 1,
   "metadata": {
    "deletable": false,
    "editable": false,
    "kernel": "SoS",
    "nbgrader": {
     "cell_type": "code",
     "checksum": "8f4802af2c3f145d847b68c1cfddc319",
     "grade": true,
     "grade_id": "cell-2f6633932108c60f",
     "locked": true,
     "points": 0,
     "schema_version": 3,
     "solution": false,
     "task": false
    },
    "tags": []
   },
   "outputs": [
    {
     "name": "stdout",
     "output_type": "stream",
     "text": [
      "SCIPER: 262377\n"
     ]
    }
   ],
   "source": [
    "%use sos\n",
    "import getpass\n",
    "# This line recovers your camipro number to mark the images with your ID\n",
    "uid = int(getpass.getuser().split('-')[2]) if len(getpass.getuser().split('-')) > 2 else ord(getpass.getuser()[0])\n",
    "print(f'SCIPER: {uid}')"
   ]
  },
  {
   "cell_type": "markdown",
   "metadata": {
    "deletable": false,
    "editable": false,
    "kernel": "SoS",
    "nbgrader": {
     "cell_type": "markdown",
     "checksum": "f74041968416ca54b7d33eacf2cfe9b1",
     "grade": false,
     "grade_id": "cell-9f52138bd6524e0b",
     "locked": true,
     "schema_version": 3,
     "solution": false,
     "task": false
    },
    "user_expressions": []
   },
   "source": [
    "### Imports\n",
    "In the next cell we import the python libraries that we will use throughout the lab, as well as the `ImageViewer` class (Python package developed specifically for these laboratories, see documentation [here](https://github.com/Biomedical-Imaging-Group/interactive-kit/wiki/Image-Viewer), or run the python command `help(viewer)` after loading the class):\n",
    "* [`matplotlib.pyplot`](https://matplotlib.org), to display images,\n",
    "* [`ipywidgets`](https://ipywidgets.readthedocs.io/en/latest/), to make the image display interactive, and\n",
    "* [`numpy`](https://numpy.org/doc/stable/reference/), for mathematical operations on arrays.\n",
    "\n",
    "Finally, we load the images used in this lab and make sure that it is of type `float64`, for higher accuracy during operations.\n",
    "\n",
    "Run the next cell to get your notebook ready.\n",
    "\n",
    ":::{attention}Always run the two import cells below before starting to work on the notebook.    \n",
    ":::"
   ]
  },
  {
   "cell_type": "code",
   "execution_count": 2,
   "metadata": {
    "deletable": false,
    "editable": false,
    "kernel": "SoS",
    "nbgrader": {
     "cell_type": "code",
     "checksum": "f624d2ab71267444a3a8e3a68a57eab9",
     "grade": false,
     "grade_id": "cell-7ebcf2f0631aad5a",
     "locked": true,
     "schema_version": 3,
     "solution": false,
     "task": false
    },
    "tags": []
   },
   "outputs": [],
   "source": [
    "%use sos\n",
    "# Configure plotting as dynamic\n",
    "%matplotlib widget\n",
    "\n",
    "# Import required packages for this lab\n",
    "import matplotlib.pyplot as plt\n",
    "import ipywidgets as widgets\n",
    "import numpy as np\n",
    "from skimage import io\n",
    "from interactive_kit import imviewer as viewer\n",
    "\n",
    "# Loading images\n",
    "c_elegans = io.imread( \"images/c-elegans.tif\" )\n",
    "pier = io.imread(\"images/pier.jpg\").astype(np.float64)"
   ]
  },
  {
   "cell_type": "markdown",
   "metadata": {
    "deletable": false,
    "editable": false,
    "kernel": "SoS",
    "nbgrader": {
     "cell_type": "markdown",
     "checksum": "ed59b733928fc9101817dedd38d5b7ab",
     "grade": false,
     "grade_id": "cell-c68b35dfa4eeaa5d",
     "locked": true,
     "schema_version": 3,
     "solution": false,
     "task": false
    }
   },
   "source": [
    "In the following cell we import the JS `ImageAccess` class and put the images into the JavaScript kernel. You can find the documentation of the `ImageAccess` [here](https://biomedical-imaging-group.github.io/image-access/)."
   ]
  },
  {
   "cell_type": "code",
   "execution_count": 3,
   "metadata": {
    "deletable": false,
    "editable": false,
    "kernel": "JavaScript",
    "nbgrader": {
     "cell_type": "code",
     "checksum": "79db6638c20b05643ea9111abde8d828",
     "grade": true,
     "grade_id": "cell-c6c746246d09f0e7",
     "locked": true,
     "points": 0,
     "schema_version": 3,
     "solution": false,
     "task": false
    },
    "tags": []
   },
   "outputs": [],
   "source": [
    "%use javascript\n",
    "%get pier c_elegans\n",
    "// import image-access as Image\n",
    "var Image = require('image-access')"
   ]
  },
  {
   "cell_type": "markdown",
   "metadata": {
    "deletable": false,
    "editable": false,
    "kernel": "SoS",
    "nbgrader": {
     "cell_type": "markdown",
     "checksum": "a917599888034168dcf1a6b716de8928",
     "grade": false,
     "grade_id": "cell-9584117c30781c3d",
     "locked": true,
     "schema_version": 3,
     "solution": false,
     "task": false
    },
    "user_expressions": []
   },
   "source": [
    "# Pixel-wise operations (8 points)\n",
    "\n",
    "In this laboratory you will learn the basics of pixel-wise image processing by performing simple operations at a pixel level. This has many practical applications such as image normalization, colorization, and just to get information of an image. However, part of the goal of this laboratory is for you to feel comfortable with the process of accessing pixels of an image in both a high-level and a low-level language. Therefore, the laboratory will be mostly in *JavaScript*, and then we will use *Python* for a few applications.\n",
    "\n",
    "(ToC_1_Pixelwise_operations)=\n",
    "## Table of contents\n",
    "\n",
    "1. [Image normalization](#image-formation) \n",
    "    1. [Pixelwise normalization](#pixelwise-normalization) **(4 points)**\n",
    "    2. [Normalization in Python](#normalization-in-python) **(2 points)**\n",
    "2. [Solarization](#solarization) **(2 points)**\n",
    "\n",
    ":::{important} Each cell that contains code begins with `%use sos` or `%use javascript`. This indicates if the code in this specific cell should be executed in Python or JavaScript. Do not change or remove any lines of code that begin with an `%`. They need to be on the first line of each cell!\n",
    ":::"
   ]
  },
  {
   "cell_type": "markdown",
   "metadata": {
    "deletable": false,
    "editable": false,
    "kernel": "JavaScript",
    "nbgrader": {
     "cell_type": "markdown",
     "checksum": "9e52e2e0203d75c8d57886906aa2818f",
     "grade": false,
     "grade_id": "cell-1e29212eb53ac688",
     "locked": true,
     "schema_version": 3,
     "solution": false,
     "task": false
    }
   },
   "source": [
    "### Image visualization\n",
    "Run the next cell and use the slider to cycle through the images to get familiar with them."
   ]
  },
  {
   "cell_type": "code",
   "execution_count": 4,
   "metadata": {
    "deletable": false,
    "editable": false,
    "kernel": "SoS",
    "nbgrader": {
     "cell_type": "code",
     "checksum": "b8139e2a07097aa317612a01e7bfab90",
     "grade": false,
     "grade_id": "cell-e2787a7e2ba6b0ff",
     "locked": true,
     "schema_version": 3,
     "solution": false,
     "task": false
    },
    "tags": []
   },
   "outputs": [
    {
     "data": {
      "application/vnd.jupyter.widget-view+json": {
       "model_id": "283df01bdce943dd8c5e39f868398ec0",
       "version_major": 2,
       "version_minor": 0
      },
      "text/plain": [
       "HBox(children=(Output(layout=Layout(width='80%')), Output(), Output(layout=Layout(width='25%'))))"
      ]
     },
     "metadata": {},
     "output_type": "display_data"
    }
   ],
   "source": [
    "%use sos\n",
    "plt.close(\"all\")\n",
    "pier_viewer = viewer([pier] + list(c_elegans), title=['pier'] + [f'C Elegans {i}' for i in range(c_elegans.shape[0])], \n",
    "                     hist=True, widgets=True)"
   ]
  },
  {
   "cell_type": "markdown",
   "metadata": {
    "deletable": false,
    "editable": false,
    "kernel": "Python3",
    "nbgrader": {
     "cell_type": "markdown",
     "checksum": "d25a7798f8fa5a27649b47399b4d34c3",
     "grade": false,
     "grade_id": "cell-d963c49ec94a8613",
     "locked": true,
     "schema_version": 3,
     "solution": false,
     "task": false
    },
    "user_expressions": []
   },
   "source": [
    "(image-normalization)=\n",
    "# 1. Image normalization (6 points)\n",
    "[Back to table of contents](#ToC_1_Pixelwise_operations)\n",
    "\n",
    "Normalization is one of the key preprocessing steps in image processing. In this section, you will learn different ways to normalize an image.\n",
    "(pixelwise-normalization)=\n",
    "## 1.A. Pixelwise normalization (4 points)\n",
    "[Back to table of contents](#ToC_1_Pixelwise_operations)\n",
    "\n",
    "**For a total of 3 points**, complete the three functions below (**1 point each**), which output images normalized with respect to different statistics:\n",
    "\n",
    "* `makeZeroMean(img)`: Normalizes the image so that the **sample mean of the pixel values is zero**. The standard deviation remains the same.\n",
    "* `stretchContrast(img)`: Normalizes the image so that the **minimum value is $0$ and the maximum value is $1$ (the ratio $\\frac{\\sigma}{range}$ should not change)**. \n",
    "* `normalize2ndOrderStatistics(img)`: Normalizes the image so that the **sample mean of the pixel values is zero** and the **sample standard deviation is $1$**. \n",
    "\n",
    "JS, unlike Python, **does not** have a function to calculate the mean or the standard deviation. Thus, you will need to code them yourself explicitly.\n",
    "\n",
    ":::{hint}You can use `img.getMin()` and `img.getMax()` to get the min an max value of a JavaScript image `img`. Remeber also that you can access a wide range of mathematical functions through the Math library in JS (e.g., `Math.sqrt()`). You can read more about it [here](https://developer.mozilla.org/en-US/docs/Web/JavaScript/Reference/Global_Objects/Math).\n",
    ":::\n",
    "\n",
    ":::{attention} Make sure to calculate the mean and standart deviation outside of the two for loops that iterate through the pixels of the image, otherwise the operation takes much too long to compute for real images!\n",
    ":::\n",
    "\n",
    "First, implement the function `makeZeroMean` in the cell below."
   ]
  },
  {
   "cell_type": "code",
   "execution_count": 5,
   "metadata": {
    "deletable": false,
    "kernel": "JavaScript",
    "nbgrader": {
     "cell_type": "code",
     "checksum": "438bae08f1a39178c8b12fc70eb8edf5",
     "grade": false,
     "grade_id": "ans-900a75999b25ebb5",
     "locked": false,
     "schema_version": 3,
     "solution": true,
     "task": false
    },
    "tags": []
   },
   "outputs": [],
   "source": [
    "%use javascript\n",
    "// function that normalizes the image so that the sample mean of the pixel values is zero.\n",
    "function makeZeroMean(img){\n",
    "    // declare the output image\n",
    "    var output = new Image(img.shape());\n",
    "    mean = 0\n",
    "    \n",
    "    // YOUR CODE HERE\n",
    "    for(x = 0; x < img.nx; x++){\n",
    "        for (y = 0; y < img.ny; y++){\n",
    "            mean = mean + img.getPixel(x, y)\n",
    "        }\n",
    "    }\n",
    "    mean = mean / (img.nx * img.ny)\n",
    "    \n",
    "    for(x = 0; x < img.nx; x++){\n",
    "        for (y = 0; y < img.ny; y++){\n",
    "            output.setPixel(x, y, img.getPixel(x, y) - mean)\n",
    "        }\n",
    "    }\n",
    "    \n",
    "    // return the output image\n",
    "    return output;\n",
    "}"
   ]
  },
  {
   "cell_type": "markdown",
   "metadata": {
    "deletable": false,
    "editable": false,
    "kernel": "JavaScript",
    "nbgrader": {
     "cell_type": "markdown",
     "checksum": "0b3e704a5906f1e6075f7afbe8d50969",
     "grade": false,
     "grade_id": "cell-bd10a14dc73fc1fa",
     "locked": true,
     "schema_version": 3,
     "solution": false,
     "task": false
    }
   },
   "source": [
    "Great! Now it's time to test your implementation. We will do two parallel tests: one on a simple $3×3$ array, one on a real image `pier`. If an error is thrown in any of the tests, you implementation is not yet correct. We will also test the execution time of your function, to tell you if you made a mistake. In future labs you will be responsible by yourself to check that you coded an efficient solution."
   ]
  },
  {
   "cell_type": "code",
   "execution_count": 6,
   "metadata": {
    "deletable": false,
    "editable": false,
    "kernel": "JavaScript",
    "nbgrader": {
     "cell_type": "code",
     "checksum": "2d1a48552c55c9d1f0ac911a5aa2361c",
     "grade": true,
     "grade_id": "grad-35f8575ea043e141",
     "locked": true,
     "points": 1,
     "schema_version": 3,
     "solution": false,
     "task": false
    },
    "tags": []
   },
   "outputs": [
    {
     "name": "stdout",
     "output_type": "stream",
     "text": [
      "Nice, the function `makeZeroMean` seems to substract the mean!\n",
      "Nice, the function `makeZeroMean` seems to work on real images!\n"
     ]
    }
   ],
   "source": [
    "%use javascript\n",
    "%get pier\n",
    "\n",
    "// declare the test image\n",
    "test_img = new Image([[0, 1, 2], [3, 4, 5], [6, 7, 8]]);\n",
    "var pier_img = new Image(pier)\n",
    "\n",
    "// run the zero mean function on the test image and on 'pier'\n",
    "var test_zero_mean = makeZeroMean(test_img);\n",
    "var pier_zero_mean = makeZeroMean(pier_img);\n",
    "var start = Date.now();\n",
    "var duration = Date.now() - start;\n",
    "\n",
    "//Check the duration of your function (note that the unit of duration is ms)\n",
    "if (duration > 10000){\n",
    "    console.log('WARNING!\\nThe function `makeZeroMean`  is taking way too long. Make sure to optimize your code. In particular, check that you are not iterating the image an unnecessary number of times.');\n",
    "}\n",
    "\n",
    "// Check if the output is as expected \n",
    "if(!(test_zero_mean.imageCompare(new Image([[-4, -3, -2], [-1, 0, 1], [2, 3, 4]])))){\n",
    "    console.log(\"WARNING!\\n The function `makeZeroMean` is not yet correct\");\n",
    "}else{// print victory message\n",
    "    console.log('Nice, the function `makeZeroMean` seems to substract the mean!');}\n",
    "\n",
    "// Check if the image has the correct behaviour\n",
    "if (pier_img.getPixel(100, 100) - pier_zero_mean.getPixel(100, 100) > 152.14){\n",
    "    console.log(\"WARNING!\\nThe function `makeZeroMean` is not yet correct\");\n",
    "}else{// print victory message\n",
    "    console.log('Nice, the function `makeZeroMean` seems to work on real images!');}"
   ]
  },
  {
   "cell_type": "markdown",
   "metadata": {
    "deletable": false,
    "editable": false,
    "kernel": "JavaScript",
    "nbgrader": {
     "cell_type": "markdown",
     "checksum": "263133d1604e855128598897f5ece957",
     "grade": false,
     "grade_id": "cell-d6b3560707f58a30",
     "locked": true,
     "schema_version": 3,
     "solution": false,
     "task": false
    }
   },
   "source": [
    "Now, implement `stretchContrast`."
   ]
  },
  {
   "cell_type": "code",
   "execution_count": 7,
   "metadata": {
    "deletable": false,
    "kernel": "JavaScript",
    "nbgrader": {
     "cell_type": "code",
     "checksum": "02dabdb934c3ce07ef39f49103d4369a",
     "grade": false,
     "grade_id": "ans-00581def5a41cfb0",
     "locked": false,
     "schema_version": 3,
     "solution": true,
     "task": false
    },
    "tags": []
   },
   "outputs": [],
   "source": [
    "%use javascript\n",
    "\n",
    "// function that normalizes the image so that all pixels have values between 0 and 1.\n",
    "function stretchContrast(img){\n",
    "    // declare the output image\n",
    "    var output = new Image(img.shape());\n",
    "    \n",
    "    // YOUR CODE HERE\n",
    "    for(x = 0; x < img.nx; x++){\n",
    "        for (y = 0; y < img.ny; y++){\n",
    "            output.setPixel(x, y, (img.getPixel(x, y) - img.getMin()) / (img.getMax() - img.getMin()))\n",
    "        }\n",
    "    }\n",
    "    \n",
    "    // return the output image\n",
    "    return output;\n",
    "}"
   ]
  },
  {
   "cell_type": "markdown",
   "metadata": {
    "deletable": false,
    "editable": false,
    "kernel": "JavaScript",
    "nbgrader": {
     "cell_type": "markdown",
     "checksum": "789949df092056c6ed176fe4c2461c46",
     "grade": false,
     "grade_id": "cell-97589d90a96488fd",
     "locked": true,
     "schema_version": 3,
     "solution": false,
     "task": false
    }
   },
   "source": [
    "Run the next cell to run a simple sanity check. Again, we will test on a simple $3\\times 3$ image and then on `pier`."
   ]
  },
  {
   "cell_type": "code",
   "execution_count": 8,
   "metadata": {
    "deletable": false,
    "editable": false,
    "kernel": "JavaScript",
    "nbgrader": {
     "cell_type": "code",
     "checksum": "09b8fb0c6da88f1b4cca65d2dbd9c555",
     "grade": true,
     "grade_id": "grad-190f791354a73164",
     "locked": true,
     "points": 1,
     "schema_version": 3,
     "solution": false,
     "task": false
    },
    "tags": []
   },
   "outputs": [
    {
     "name": "stdout",
     "output_type": "stream",
     "text": [
      "Nice, The function `stretchConstrast` seems to produce the correct output!\n",
      "Nice, the function `stretchConstrast` is working on real images!\n"
     ]
    }
   ],
   "source": [
    "%use javascript\n",
    "\n",
    "// declare the test image\n",
    "test_img = new Image([[0, 1, 2], [3, 4, 5], [6, 7, 8]]);\n",
    "var pier_img = new Image(pier)\n",
    "\n",
    "// run the stretch contrast function on the test image\n",
    "var test_stretch = stretchContrast(test_img);\n",
    "var start = Date.now();\n",
    "var pier_stretch = stretchContrast(pier_img);\n",
    "var duration = Date.now() - start;\n",
    "\n",
    "//Check the duration of your function (note that the unit of duration is ms)\n",
    "if (duration > 10000){\n",
    "    console.log('WARNING!\\nThe function `stretchConstrast` is taking way too long. Make sure to optimize your code. In particular, check that you are not iterating the image an unnecessary number of times.');\n",
    "}\n",
    "\n",
    "// compare the result to the correct result\n",
    "if(!(test_stretch.imageCompare(new Image([[0, 0.125, 0.25], [0.375, 0.5, 0.625], [0.75, 0.875, 1]])))){\n",
    "    console.log(\"WARNING!\\nThe function `stretchConstrast` is not yet correct.\");\n",
    "}else{\n",
    "    console.log('Nice, The function `stretchConstrast` seems to produce the correct output!');}\n",
    "\n",
    "if(pier_stretch.getMax() != 1){\n",
    "    console.log(\"WARNING!\\nThe function `stretchConstrast` does not work on real images.\");\n",
    "}else{\n",
    "    console.log('Nice, the function `stretchConstrast` is working on real images!');}"
   ]
  },
  {
   "cell_type": "markdown",
   "metadata": {
    "deletable": false,
    "editable": false,
    "kernel": "JavaScript",
    "nbgrader": {
     "cell_type": "markdown",
     "checksum": "e06102e83e485dbb88e3dfbb48fbba09",
     "grade": false,
     "grade_id": "cell-94ba3952742124b7",
     "locked": true,
     "schema_version": 3,
     "solution": false,
     "task": false
    }
   },
   "source": [
    "Finally, implement the function `normalize2ndOrderStatistics`."
   ]
  },
  {
   "cell_type": "code",
   "execution_count": 9,
   "metadata": {
    "deletable": false,
    "kernel": "JavaScript",
    "nbgrader": {
     "cell_type": "code",
     "checksum": "01042d588dc42bcb30f45a447c04cb2e",
     "grade": false,
     "grade_id": "ans-47afab53a15e1b2b",
     "locked": false,
     "schema_version": 3,
     "solution": true,
     "task": false
    },
    "tags": []
   },
   "outputs": [],
   "source": [
    "%use javascript\n",
    "\n",
    "// function that normalizes the image so that the sample mean of the pixel values is 0 and the sample standard deviation is 1.\n",
    "function normalize2ndOrderStatistics(img){\n",
    "    // declare the output image\n",
    "    var output = new Image(img.shape());\n",
    "    \n",
    "    // YOUR CODE HERE\n",
    "    var centered_img = makeZeroMean(img);\n",
    "    var std = 0;\n",
    "    for(x = 0; x < img.nx; x++){\n",
    "        for (y = 0; y < img.ny; y++){\n",
    "            std = std + centered_img.getPixel(x, y)*centered_img.getPixel(x, y)\n",
    "        }\n",
    "    }\n",
    "    std = Math.sqrt(std / (img.nx * img.ny))\n",
    "    \n",
    "    for(x = 0; x < img.nx; x++){\n",
    "        for (y = 0; y < img.ny; y++){\n",
    "            output.setPixel(x, y, centered_img.getPixel(x, y) / std)\n",
    "        }\n",
    "    }\n",
    "    \n",
    "    // return the output image\n",
    "    return output;\n",
    "}"
   ]
  },
  {
   "cell_type": "markdown",
   "metadata": {
    "deletable": false,
    "editable": false,
    "kernel": "JavaScript",
    "nbgrader": {
     "cell_type": "markdown",
     "checksum": "7b5b433eafb00ba24606b54ae1b52fa5",
     "grade": false,
     "grade_id": "cell-008e6cfad20a7e48",
     "locked": true,
     "schema_version": 3,
     "solution": false,
     "task": false
    }
   },
   "source": [
    "And run the next cell for a quick test again."
   ]
  },
  {
   "cell_type": "code",
   "execution_count": 10,
   "metadata": {
    "deletable": false,
    "editable": false,
    "kernel": "JavaScript",
    "nbgrader": {
     "cell_type": "code",
     "checksum": "8b3ac91c3226da89577e70d44d84263d",
     "grade": true,
     "grade_id": "grad-6e5e2b291291267a",
     "locked": true,
     "points": 1,
     "schema_version": 3,
     "solution": false,
     "task": false
    },
    "tags": []
   },
   "outputs": [
    {
     "name": "stdout",
     "output_type": "stream",
     "text": [
      "Good job! The function `normalize2ndOrderStatistics` seems to produce the correct output! You're using the biased estimator of the variance.\n",
      "Good job! The function `normalize2ndOrderStatistics` seems to be working on real images.\n"
     ]
    }
   ],
   "source": [
    "%use javascript\n",
    "\n",
    "// declare the test image\n",
    "test_img = new Image([[0, 1, 2], [3, 4, 5], [6, 7, 8]]);\n",
    "var pier_img = new Image(pier)\n",
    "\n",
    "// run the function on test_img\n",
    "var test_normalize = normalize2ndOrderStatistics(test_img).toArray();\n",
    "var start = Date.now();\n",
    "var pier_normalize = normalize2ndOrderStatistics(pier_img);\n",
    "var duration = Date.now() - start;\n",
    "\n",
    "//Check the duration of your function (note that the unit of duration is ms)\n",
    "if (duration > 10000){\n",
    "    console.log('WARNING!\\nThe function `normalize2ndOrderStatistics` is taking way too long. Make sure to optimize your code. In particular, check that you are not iterating the image an unnecessary number of times.');\n",
    "}\n",
    "\n",
    "// compare the result to the correct result\n",
    "// test for unbiased estimator of variance\n",
    "if(!(Image.arrayCompare(test_normalize, [[ -1.4605934866804429, -1.0954451150103321, -0.7302967433402214 ],\n",
    "                                         [ -0.3651483716701107, 0, 0.3651483716701107 ],\n",
    "                                         [ 0.7302967433402214, 1.0954451150103321, 1.4605934866804429 ]]))){\n",
    "    // test for biased estimator of variance\n",
    "    if(!(Image.arrayCompare(test_normalize, [[ -1.5491933384829668, -1.161895003862225, -0.7745966692414834 ],\n",
    "                                             [ -0.3872983346207417, 0, 0.3872983346207417 ],\n",
    "                                             [ 0.7745966692414834, 1.161895003862225, 1.5491933384829668 ]]))){\n",
    "        console.log(\"WARNING!\\nThe function `normalize2ndOrderStatistics` is not yet correct!\");\n",
    "    }else{\n",
    "        // print victory message\n",
    "        console.log('Good job! The function `normalize2ndOrderStatistics` seems to produce the correct output! You\\'re using the biased estimator of the variance.');\n",
    "    }\n",
    "}else{\n",
    "    // print victory message\n",
    "    console.log('Good job! The function `normalize2ndOrderStatistics` seems to produce the correct output! You\\'re using the unbiased estimator of the variance.');\n",
    "}\n",
    "//console.log(pier_normalize.getMax()) = 1.18950\n",
    "//console.log(pier_normalize.getMin()) = -1.75930\n",
    "if (Math.abs(pier_normalize.getMax() - 1.18950) > 0.01 || Math.abs(pier_normalize.getMin() + 1.75930) > 0.01){\n",
    "    console.log(\"WARNING!\\nThe function `normalize2ndOrderStatistics` is not working on real images!\");\n",
    "}else{\n",
    "    console.log('Good job! The function `normalize2ndOrderStatistics` seems to be working on real images.')\n",
    "}"
   ]
  },
  {
   "cell_type": "markdown",
   "metadata": {
    "deletable": false,
    "editable": false,
    "kernel": "JavaScript",
    "nbgrader": {
     "cell_type": "markdown",
     "checksum": "4020fd0f1b52976489b4e36242518c36",
     "grade": false,
     "grade_id": "cell-a5b6fa8961824ffa",
     "locked": true,
     "schema_version": 3,
     "solution": false,
     "task": false
    },
    "user_expressions": []
   },
   "source": [
    "In order for you to see the relevance of image normalization, we provide a sequence of fluorescence microscopy images (see more [here](https://en.wikipedia.org/wiki/Fluorescence_microscope)), named `c_elegans`. These are consecutive slices of the same 3D volume, but appear darker over time due to photobleaching (the loss of fluorescence, read more [here](https://en.wikipedia.org/wiki/Photobleaching)). Of course, this is a huge problem for the application, and to solve it we absolutely need to normalize these images.\n",
    "\n",
    "Run the next cell to load the `c_elegans` series, and display it. We will use the module [io](https://scikit-image.org/docs/0.8.0/api/skimage.io.html) of SciKit-Image, which allows us to read all the slices of a `.tif` file at once. Furthermore, we will pass it to JS so that we can use the functions you defined above.\n",
    "\n",
    ":::{note} In the next cell, you will see the original images, and a graph that shows the effect of photobleaching on the mean value of each image. Make sure you explore the images and their histogram by clicking on the `Prev` and `Next` buttons! \n",
    ":::"
   ]
  },
  {
   "cell_type": "code",
   "execution_count": 11,
   "metadata": {
    "deletable": false,
    "editable": false,
    "kernel": "SoS",
    "nbgrader": {
     "cell_type": "code",
     "checksum": "e2b3dfd3e62ec0160ff5b9f3305c1432",
     "grade": false,
     "grade_id": "cell-cc6d8187de5feefb",
     "locked": true,
     "schema_version": 3,
     "solution": false,
     "task": false
    },
    "tags": []
   },
   "outputs": [
    {
     "data": {
      "application/vnd.jupyter.widget-view+json": {
       "model_id": "b209aaca6d604c838e4e8c9d2ae3922f",
       "version_major": 2,
       "version_minor": 0
      },
      "text/plain": [
       "HBox(children=(Output(layout=Layout(width='80%')), Output(), Output(layout=Layout(width='25%'))))"
      ]
     },
     "metadata": {},
     "output_type": "display_data"
    },
    {
     "data": {
      "application/vnd.jupyter.widget-view+json": {
       "model_id": "43db3091a1324770929cffdd756997c4",
       "version_major": 2,
       "version_minor": 0
      },
      "image/png": "[encoded data removed]",
      "text/html": [
       "\n",
       "            <div style=\"display: inline-block;\">\n",
       "                <div class=\"jupyter-widgets widget-label\" style=\"text-align: center;\">\n",
       "                    SCIPER: 262377\n",
       "                </div>\n",
       "                <img src='data:image/png;base64,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' width=600.0/>\n",
       "            </div>\n",
       "        "
      ],
      "text/plain": [
       "Canvas(toolbar=Toolbar(toolitems=[('Home', 'Reset original view', 'home', 'home'), ('Pan', 'Pan axes with left…"
      ]
     },
     "metadata": {},
     "output_type": "display_data"
    }
   ],
   "source": [
    "%use sos\n",
    "%put c_elegans --to javascript\n",
    " \n",
    "# Show c_elegans images\n",
    "plt.close(\"all\")\n",
    "viewer([c_elegans[ind,:,:] for ind in range(12)], normalize=False, clip_range=[0, 255], title=[f\"c_elegans {ind+1}\" for ind in range(12)], hist=True)\n",
    "# Show decay of the mean value through time due to photobleaching\n",
    "fig = plt.figure(num=f\"SCIPER: {uid}\",figsize=(6,4))\n",
    "plt.plot([ind+1 for ind in range(12)], [np.mean(c_elegans[ind,:,:]) for ind in range(12)])\n",
    "plt.xticks([ind+1 for ind in range(12)]); plt.xlabel(\"Image number\"); plt.ylabel(\"Mean value\"); \n",
    "plt.grid('both'); plt.show();"
   ]
  },
  {
   "cell_type": "markdown",
   "metadata": {
    "deletable": false,
    "editable": false,
    "kernel": "Python3",
    "nbgrader": {
     "cell_type": "markdown",
     "checksum": "7ba8510f2247552f9e1c190e48fef3bd",
     "grade": false,
     "grade_id": "cell-a9c5d66d7c677fe2",
     "locked": true,
     "schema_version": 3,
     "solution": false,
     "task": false
    }
   },
   "source": [
    "Now we are going to visualize the effect of each of your normalizing functions on `c_elegans`. For this purpose, we provide with you the function `make_montage(img_arr, mode, cols)`. It performs the operation specified by `mode` (1: zero mean, 2: stretch contrast, 3: normalize statistics) on each image, then places the result in the right place inside the montage `out`.\n",
    "\n",
    "Now run the next cell to declare the function `makeMontage()`."
   ]
  },
  {
   "cell_type": "code",
   "execution_count": 12,
   "metadata": {
    "deletable": false,
    "editable": false,
    "kernel": "JavaScript",
    "nbgrader": {
     "cell_type": "code",
     "checksum": "d7bd8bdf4948267d29c6d30e50770f5f",
     "grade": false,
     "grade_id": "cell-bfcf756e6846fb2a",
     "locked": true,
     "schema_version": 3,
     "solution": false,
     "task": false
    },
    "tags": []
   },
   "outputs": [],
   "source": [
    "%use javascript\n",
    "\n",
    "// function that creates a single image from multiple images (slices) and performs the specified function on the images\n",
    "function makeMontage(img_arr, mode, cols) {\n",
    "    // get dimensions of each image\n",
    "    var w = img_arr[0].nx;\n",
    "    var h = img_arr[0].ny;\n",
    "    // determine the number of rows \n",
    "    var rows = img_arr.length/cols;\n",
    "    // initialize output image \n",
    "    var out = new Image(h*rows, w*cols);    \n",
    "    // iterate through each image in img_arr\n",
    "    for(t=0; t<rows*cols; t++){\n",
    "        // extract the corresponding image \n",
    "        var img = img_arr[t].copy();\n",
    "        // check requested operation \n",
    "        //(note that any mode other than 1, 2 or 3 simply copies the original images in the montage)\n",
    "        if(mode == 1){ \n",
    "            img = makeZeroMean(img);\n",
    "        }             \n",
    "        if(mode == 2){\n",
    "            img = stretchContrast(img);\n",
    "        }\n",
    "        if(mode == 3){\n",
    "            img = normalize2ndOrderStatistics(img);\n",
    "        }            \n",
    "        // put result in the corresponding place\n",
    "        out.putSubImage(Math.floor(t%cols)*w, Math.floor(t/cols)*h, img);\n",
    "    }\n",
    "    // return output image\n",
    "    return out;\n",
    "}"
   ]
  },
  {
   "cell_type": "markdown",
   "metadata": {
    "deletable": false,
    "editable": false,
    "kernel": "JavaScript",
    "nbgrader": {
     "cell_type": "markdown",
     "checksum": "ad67f8210342294ffbc0d57664799d00",
     "grade": false,
     "grade_id": "cell-6cb32370ab6a4ede",
     "locked": true,
     "schema_version": 3,
     "solution": false,
     "task": false
    }
   },
   "source": [
    "Now, we are going apply your methods to the image slices we just loaded. First, we convert each element in the array `c_elegans`  to an `Image` object. Then, we call the function on the array with each of the three modes to visualize the result of the functions that you implemented above."
   ]
  },
  {
   "cell_type": "code",
   "execution_count": 13,
   "metadata": {
    "deletable": false,
    "editable": false,
    "kernel": "JavaScript",
    "nbgrader": {
     "cell_type": "code",
     "checksum": "25bc4a0e32999270f66442a65fdedaa4",
     "grade": false,
     "grade_id": "cell-09e95f64e85124ce",
     "locked": true,
     "schema_version": 3,
     "solution": false,
     "task": false
    },
    "tags": []
   },
   "outputs": [],
   "source": [
    "%use javascript\n",
    "%put montage_original montage_zero_mean_js montage_normalize_statistics_js montage_stretch_contrast_js \n",
    "\n",
    "// convert each element in the c_elegans array to an Image object\n",
    "var c_elegans_imgs = new Array();\n",
    "for(x = 0; x < c_elegans.length; x++){\n",
    "    var tmp = c_elegans_imgs.push(new Image(c_elegans[x]));\n",
    "}\n",
    "\n",
    "// run makeMontage with all four functions (modes)\n",
    "var montage_original = makeMontage(c_elegans_imgs, 0, 3).toArray();\n",
    "var montage_zero_mean_js = makeMontage(c_elegans_imgs, 1, 3).toArray();\n",
    "var montage_stretch_contrast_js = makeMontage(c_elegans_imgs, 2, 3).toArray();\n",
    "var montage_normalize_statistics_js = makeMontage(c_elegans_imgs, 3, 3).toArray();"
   ]
  },
  {
   "cell_type": "markdown",
   "metadata": {
    "deletable": false,
    "editable": false,
    "kernel": "JavaScript",
    "nbgrader": {
     "cell_type": "markdown",
     "checksum": "ecdd98dfc4e83b0ce913a530ae153dbe",
     "grade": false,
     "grade_id": "cell-431ae3ac67dd5645",
     "locked": true,
     "schema_version": 3,
     "solution": false,
     "task": false
    }
   },
   "source": [
    "Now that we have applied your functions and that we have the variables in Python, let's visualize them. Run the following cell to do so. Use the buttons `Next` and `Prev` to browse through the three images. If your implementations passed the previous tests, you should see the correct result. Look carefully at the images and solve the two MCQs coming next."
   ]
  },
  {
   "cell_type": "code",
   "execution_count": 14,
   "metadata": {
    "deletable": false,
    "editable": false,
    "kernel": "SoS",
    "nbgrader": {
     "cell_type": "code",
     "checksum": "53c26a1c36d946ccb484bbebf76f7d13",
     "grade": false,
     "grade_id": "cell-884909364cd99acf",
     "locked": true,
     "schema_version": 3,
     "solution": false,
     "task": false
    },
    "tags": []
   },
   "outputs": [
    {
     "data": {
      "application/vnd.jupyter.widget-view+json": {
       "model_id": "496d26a099094c208c2ff62acbee0de8",
       "version_major": 2,
       "version_minor": 0
      },
      "text/plain": [
       "HBox(children=(Output(layout=Layout(width='80%')), Output(), Output(layout=Layout(width='25%'))))"
      ]
     },
     "metadata": {},
     "output_type": "display_data"
    }
   ],
   "source": [
    "%use sos\n",
    "# Define the lists of images and titles\n",
    "image_list = [np.array(montage_original), np.array(montage_zero_mean_js), np.array(montage_stretch_contrast_js), np.array(montage_normalize_statistics_js)]\n",
    "title_list = ['Original c_elegans', 'Zero Mean c_elegans', 'Stretch Contrast c_elegans', 'Normalize Statistics c_elegans']\n",
    "\n",
    "# Display the montages\n",
    "plt.close('all')\n",
    "normalization_viewer = viewer(image_list, title=title_list, widgets=True)"
   ]
  },
  {
   "cell_type": "markdown",
   "metadata": {
    "deletable": false,
    "editable": false,
    "kernel": "Python3",
    "nbgrader": {
     "cell_type": "markdown",
     "checksum": "285871ac6f3b12d9cad4b806a78594cb",
     "grade": false,
     "grade_id": "cell-d06bb9e45c40c9d6",
     "locked": true,
     "schema_version": 3,
     "solution": false,
     "task": false
    }
   },
   "source": [
    "### Multiple choice questions\n",
    "\n",
    "Why does the bottom-right corner of the **Zero Mean Montage** have lower contrast than the top-left corner? (**0.5 points**)\n",
    "\n",
    "1. Because the different subimages in the montage have different spreads of values around their mean.\n",
    "2. It is an illumination effect.\n",
    "3. The bottom-right subimages of the montage are defective.\n",
    "\n",
    "Modify the variable `answer` in the next cell to reflect your choices. "
   ]
  },
  {
   "cell_type": "code",
   "execution_count": 15,
   "metadata": {
    "deletable": false,
    "kernel": "SoS",
    "nbgrader": {
     "cell_type": "code",
     "checksum": "3c2c0e8d623383e7a6cec9ceffbb884e",
     "grade": false,
     "grade_id": "ans-376291a90e1ea6c5",
     "locked": false,
     "schema_version": 3,
     "solution": true,
     "task": false
    }
   },
   "outputs": [],
   "source": [
    "%use sos\n",
    "# Assign your answer to this variable\n",
    "answer = None\n",
    "# YOUR CODE HERE\n",
    "answer = 1"
   ]
  },
  {
   "cell_type": "code",
   "execution_count": 16,
   "metadata": {
    "deletable": false,
    "editable": false,
    "kernel": "SoS",
    "nbgrader": {
     "cell_type": "code",
     "checksum": "e7e0652448cc0df4383b5641500d38fc",
     "grade": true,
     "grade_id": "grad-6695b3233dbda1e7",
     "locked": true,
     "points": 0.5,
     "schema_version": 3,
     "solution": false,
     "task": false
    }
   },
   "outputs": [],
   "source": [
    "%use sos\n",
    "if not answer in [1, 2, 3]: \n",
    "    print('WARNING!\\nPossible answers are 1, 2 or 3.')"
   ]
  },
  {
   "cell_type": "markdown",
   "metadata": {
    "deletable": false,
    "editable": false,
    "kernel": "Python3",
    "nbgrader": {
     "cell_type": "markdown",
     "checksum": "443955debfb23ac3b03a11f9ae6e9ac5",
     "grade": false,
     "grade_id": "cell-7fc1d797c0aac343",
     "locked": true,
     "schema_version": 3,
     "solution": false,
     "task": false
    }
   },
   "source": [
    "Why is this not the case for the other two montages? (**0.5 points**)\n",
    "\n",
    "1. Becuase the images already had zero mean.\n",
    "2. Because the other two functions modify the contrast by adjusting the range of intensities.\n",
    "\n",
    "Modify the variable `answer` in the next cell to reflect your choices. As usual, there is another cell that will remind you to select a valid choice if you haven't."
   ]
  },
  {
   "cell_type": "code",
   "execution_count": 17,
   "metadata": {
    "deletable": false,
    "kernel": "SoS",
    "nbgrader": {
     "cell_type": "code",
     "checksum": "269ec7482f7ed10a09a574e9baaf36c3",
     "grade": false,
     "grade_id": "ans-213796640f2a5768",
     "locked": false,
     "schema_version": 3,
     "solution": true,
     "task": false
    }
   },
   "outputs": [],
   "source": [
    "%use sos\n",
    "# assign your answer to this variable\n",
    "answer = None\n",
    "# YOUR CODE HERE\n",
    "answer = 2"
   ]
  },
  {
   "cell_type": "code",
   "execution_count": 18,
   "metadata": {
    "deletable": false,
    "editable": false,
    "kernel": "SoS",
    "nbgrader": {
     "cell_type": "code",
     "checksum": "91c74fdd85abadaf0653e80a4a4a93e1",
     "grade": true,
     "grade_id": "grad-4cab3b4c7570a201",
     "locked": true,
     "points": 0.5,
     "schema_version": 3,
     "solution": false,
     "task": false
    }
   },
   "outputs": [],
   "source": [
    "%use sos\n",
    "if not answer in [1, 2]: \n",
    "    print('WARNING!\\nPossible answers are 1 and 2.')"
   ]
  },
  {
   "cell_type": "markdown",
   "metadata": {
    "deletable": false,
    "editable": false,
    "kernel": "Python3",
    "nbgrader": {
     "cell_type": "markdown",
     "checksum": "6ff54061d4b859df2ce76c3c59ab0cc8",
     "grade": false,
     "grade_id": "cell-f96b682d6cdf0ff5",
     "locked": true,
     "schema_version": 3,
     "solution": false,
     "task": false
    },
    "user_expressions": []
   },
   "source": [
    "(normalization-in-python)=\n",
    "## 1.B. Normalization in Python (2 points)\n",
    "[Back to table of contents](#ToC_1_Pixelwise_operations)\n",
    "\n",
    "As you have probably realized by now, low level languages can get tedious. You can do the same thing you did in JavaScript in less lines in Python, by using NumPy arrays, so let's do it! \n",
    "\n",
    "As an example, we have implemented the function `make_zero_mean`. **For a total of 2 points**, implement the other two methods (`stretch_contrast` and `normalize_2nd_order_statistics`) in Python in the following cells (**1 point each**). \n",
    "\n",
    ":::{hint}\n",
    "It's possible to complete every function with only one line of code using Numpy built-in functions, so **for-loops are not accepted!**\n",
    ":::"
   ]
  },
  {
   "cell_type": "code",
   "execution_count": 19,
   "metadata": {
    "deletable": false,
    "editable": false,
    "kernel": "SoS",
    "nbgrader": {
     "cell_type": "code",
     "checksum": "bb29b24d8a0160cf301d74edabba10b0",
     "grade": false,
     "grade_id": "ans-83302634006f5760",
     "locked": true,
     "schema_version": 3,
     "solution": false,
     "task": false
    }
   },
   "outputs": [],
   "source": [
    "%use sos\n",
    "# Function that normalizes the image so that the sample mean of the pixel values is zero.\n",
    "def make_zero_mean(img):\n",
    "    # Declare the output image\n",
    "    output = np.zeros(img.shape)\n",
    "    # Subtract the mean from the input image\n",
    "    output = img-np.mean(img)\n",
    "    # Return the output image\n",
    "    return output"
   ]
  },
  {
   "cell_type": "code",
   "execution_count": 20,
   "metadata": {
    "deletable": false,
    "kernel": "SoS",
    "nbgrader": {
     "cell_type": "code",
     "checksum": "ded1bf0f56b9b04eecf838feed086c4a",
     "grade": false,
     "grade_id": "cell-16bbad30541a7719",
     "locked": false,
     "schema_version": 3,
     "solution": true,
     "task": false
    }
   },
   "outputs": [],
   "source": [
    "# Function that normalizes the image so that all pixels have values between 0 and 1.\n",
    "def stretch_contrast(img):\n",
    "    # Declare the output image\n",
    "    output = np.zeros(img.shape)\n",
    "    \n",
    "    # YOUR CODE HERE\n",
    "    output = (img - np.min(img)) / (np.max(img) - np.min(img))\n",
    "    \n",
    "    # Return the output image\n",
    "    return output"
   ]
  },
  {
   "cell_type": "code",
   "execution_count": 21,
   "metadata": {
    "deletable": false,
    "kernel": "SoS",
    "nbgrader": {
     "cell_type": "code",
     "checksum": "193bbc47912eb3cda03761625a08dc9b",
     "grade": false,
     "grade_id": "cell-1b0c8bab36202f3d",
     "locked": false,
     "schema_version": 3,
     "solution": true,
     "task": false
    }
   },
   "outputs": [],
   "source": [
    "# Function that normalizes the image so that the sample mean of the pixel values is 0 and the sample standard deviation is 1.\n",
    "def normalize_2nd_order_statistics(img):\n",
    "    # Declare the output image\n",
    "    output = np.zeros(img.shape)\n",
    "    \n",
    "    # YOUR CODE HERE\n",
    "    output = (img - np.mean(img)) / np.std(img)\n",
    "    \n",
    "    # Return the output image\n",
    "    return output"
   ]
  },
  {
   "cell_type": "markdown",
   "metadata": {
    "deletable": false,
    "editable": false,
    "kernel": "Python3",
    "nbgrader": {
     "cell_type": "markdown",
     "checksum": "76b81b3e253d9d497977e68244778f9e",
     "grade": false,
     "grade_id": "cell-5a6cb7268418986b",
     "locked": true,
     "schema_version": 3,
     "solution": false,
     "task": false
    }
   },
   "source": [
    "Use the next two cells for a quick test on your functions. This cell tests the two characteristics requested for each function:\n",
    "* that the result of `stretch_contrast` is in the range $[0, 1]$, and\n",
    "* that the result of `normalize_2nd_order_statistics` has zero mean and unit variance. \n",
    "\n",
    "Run them, and if your implementations are correct, they shouldn't raise any errors."
   ]
  },
  {
   "cell_type": "code",
   "execution_count": 22,
   "metadata": {
    "deletable": false,
    "editable": false,
    "kernel": "SoS",
    "nbgrader": {
     "cell_type": "code",
     "checksum": "2f05bcdb5735f1bd4cc5faf61ba62cde",
     "grade": true,
     "grade_id": "grad-925b5b8cd5ffa921",
     "locked": true,
     "points": 1,
     "schema_version": 3,
     "solution": false,
     "task": false
    }
   },
   "outputs": [
    {
     "name": "stdout",
     "output_type": "stream",
     "text": [
      "Well done! Your stretch_contrast function seems to be correct.\n"
     ]
    }
   ],
   "source": [
    "%use sos\n",
    "# This cell tests your method stretch contrast\n",
    "# Here we run your function on the first slice of c_elegans\n",
    "test_stretch_contrast = stretch_contrast(c_elegans[0])\n",
    "\n",
    "# And we check that stretch_contrast effectively maps the pixels to the range [0,1]\n",
    "if np.min(test_stretch_contrast) != 0: \n",
    "    print('WARNING!!\\nThe minimum value in the result of stretch_contrast is not 0')\n",
    "elif np.max(test_stretch_contrast) != 1: \n",
    "    print('WARNING!!\\nThe maximum value in the result of stretch_contrast is not 1')\n",
    "else :\n",
    "    print(\"Well done! Your stretch_contrast function seems to be correct.\")"
   ]
  },
  {
   "cell_type": "code",
   "execution_count": 23,
   "metadata": {
    "deletable": false,
    "editable": false,
    "kernel": "SoS",
    "nbgrader": {
     "cell_type": "code",
     "checksum": "9e93027ad3dc42a0218fadeea654ee53",
     "grade": true,
     "grade_id": "grad-2e62d034adec415e",
     "locked": true,
     "points": 1,
     "schema_version": 3,
     "solution": false,
     "task": false
    }
   },
   "outputs": [
    {
     "name": "stdout",
     "output_type": "stream",
     "text": [
      "Well done! Your normalization of 2nd order statistics seems to be correct.\n"
     ]
    }
   ],
   "source": [
    "%use sos\n",
    "# This cell tests your method normalize statistics\n",
    "# Here we run the method on the first slice of c_elegans\n",
    "test_normalize_statistics = normalize_2nd_order_statistics(c_elegans[0])\n",
    "\n",
    "# Now we check that normalize_statistics returns an image with mean = 0, \n",
    "if np.abs(np.mean(test_normalize_statistics)) > 1e-10: \n",
    "    print('WARNING!!\\nYour mean in normalize_2nd_order_statistics is not 0')\n",
    "# And with std = 1 \n",
    "elif np.abs(np.std(test_normalize_statistics) - 1) > 1e-4 or np.abs(np.std(test_normalize_statistics, ddof=1) - 1) > 1e-4: \n",
    "    print('WARNING!!\\nYour standard deviation in normalize_2nd_order_statistics is not 1')\n",
    "else :\n",
    "    print('Well done! Your normalization of 2nd order statistics seems to be correct.')"
   ]
  },
  {
   "cell_type": "markdown",
   "metadata": {
    "deletable": false,
    "editable": false,
    "kernel": "SoS",
    "nbgrader": {
     "cell_type": "markdown",
     "checksum": "2cac32d7ef2e49bc41725fdf39a1256d",
     "grade": false,
     "grade_id": "cell-600d5c1df433fc27",
     "locked": true,
     "schema_version": 3,
     "solution": false,
     "task": false
    },
    "user_expressions": []
   },
   "source": [
    "(solarization)=\n",
    "# 2. Solarization (2 points)\n",
    "[Back to table of contents](#ToC_1_Pixelwise_operations)\n",
    "\n",
    "[Solarization](https://en.wikipedia.org/wiki/Solarization_(photography)) is one of the oldest effects known in photography. It refers to the *tone reversal* effect that is achieved by over exposure of certain photographic papers during the development process. In this context, *tone reversal* means that the brightest objects (e.g. the sun) appear darker than the rest of the image. After its discovery, the solarization effect was used for artistic purposes. Of course when digital photography came in, it stopped being an over-exposure effect, but it can still be artificially provoked for artistic purposes. \n",
    "\n",
    "Solarization can be expressed mathematically (assuming that our photo has a range of $[0, 255]$) as \n",
    "$$h[k, l] = \\begin{cases}\n",
    "    255 - (255 - T)*\\frac{g[k, l]}{T},& \\text{if } g[k, l] < T\\\\\n",
    "    g[k, l],              & \\text{if } g[k, l] \\geq T.\n",
    "\\end{cases}$$\n",
    "Where $g$ is the input image, $h$ is the solarized output image, and $T$ is the threshold defining the strength of the solarization.\n",
    "\n",
    "In the next cell, **for 1 point**, Complete the function `solarize` in JS that implements the formula above. "
   ]
  },
  {
   "cell_type": "code",
   "execution_count": 24,
   "metadata": {
    "deletable": false,
    "kernel": "JavaScript",
    "nbgrader": {
     "cell_type": "code",
     "checksum": "0af9a9a95bc4e685cfc918e66d364afa",
     "grade": false,
     "grade_id": "cell-edf641aa7d8ac75c",
     "locked": false,
     "schema_version": 3,
     "solution": true,
     "task": false
    }
   },
   "outputs": [],
   "source": [
    "%use javascript\n",
    "// function that applies the solarization effect to an image\n",
    "function solarize(img, T){\n",
    "    // Declare output variable\n",
    "    var output = new Image(img.shape());\n",
    "    \n",
    "    // YOUR CODE HERE\n",
    "    for(x = 0; x < img.nx; x++){\n",
    "        for (y = 0; y < img.ny; y++){\n",
    "            if (img.getPixel(x, y) < T){\n",
    "                output.setPixel(x, y, 255 - (255 - T) * img.getPixel(x, y) / T)\n",
    "            }\n",
    "            else {\n",
    "                output.setPixel(x, y, img.getPixel(x, y))\n",
    "            }\n",
    "        }\n",
    "    }\n",
    "    \n",
    "    return output; \n",
    "}"
   ]
  },
  {
   "cell_type": "markdown",
   "metadata": {
    "deletable": false,
    "editable": false,
    "kernel": "JavaScript",
    "nbgrader": {
     "cell_type": "markdown",
     "checksum": "e3ab2fa64fdaaca3d0b58b467b1782d4",
     "grade": false,
     "grade_id": "cell-bb26aac22ebf8d71",
     "locked": true,
     "schema_version": 3,
     "solution": false,
     "task": false
    }
   },
   "source": [
    "Now let's apply your function to the image `pier` with a threshold of $150$."
   ]
  },
  {
   "cell_type": "code",
   "execution_count": 25,
   "metadata": {
    "deletable": false,
    "editable": false,
    "kernel": "JavaScript",
    "nbgrader": {
     "cell_type": "code",
     "checksum": "ba6b11d3751fdc412f05036aa2c09ffa",
     "grade": false,
     "grade_id": "cell-13e5e5b740fd8d0c",
     "locked": true,
     "schema_version": 3,
     "solution": false,
     "task": false
    }
   },
   "outputs": [],
   "source": [
    "%use javascript\n",
    "%get pier\n",
    "%put solarized_pier\n",
    "\n",
    "var solarized_pier = solarize(new Image(pier), 150).toArray();"
   ]
  },
  {
   "cell_type": "markdown",
   "metadata": {
    "deletable": false,
    "editable": false,
    "kernel": "JavaScript",
    "nbgrader": {
     "cell_type": "markdown",
     "checksum": "66b10ff23ed4aeef884fdad4b575b495",
     "grade": false,
     "grade_id": "cell-330cf3abfc94d333",
     "locked": true,
     "schema_version": 3,
     "solution": false,
     "task": false
    }
   },
   "source": [
    "In order to check your function and to be able to explore the effect more interactively, run the next cell, where we define the Python equivalent of the `solarize` function and compare it to your JavaScript function. The Python function also takes an original image `img` and a threshold `T` as inputs, and returns the solarized version. Make sure to understand the code, and if you have any doubts, go back to the [introductory lab](../0_Introductory_lab/Introductory.ipynb) or read more about [boolean indexing](https://numpy.org/doc/stable/reference/arrays.indexing.html#boolean-array-indexing). Look at the two images and check if they're the same. If you are unsure, you can go to the `Options` menu of the viewer and click `Compare`. If there is a difference between the two images it will be highlighted in red."
   ]
  },
  {
   "cell_type": "code",
   "execution_count": 29,
   "metadata": {
    "deletable": false,
    "editable": false,
    "kernel": "SoS",
    "nbgrader": {
     "cell_type": "code",
     "checksum": "9d613d210041cf76c662d9f4376aa094",
     "grade": true,
     "grade_id": "cell-91b71a741dd30a85",
     "locked": true,
     "points": 1,
     "schema_version": 3,
     "solution": false,
     "task": false
    }
   },
   "outputs": [
    {
     "data": {
      "application/vnd.jupyter.widget-view+json": {
       "model_id": "ba56e35cb1274b2b9449d29109252682",
       "version_major": 2,
       "version_minor": 0
      },
      "text/plain": [
       "HBox(children=(Output(layout=Layout(width='80%')), Output(), Output(layout=Layout(width='25%'))))"
      ]
     },
     "metadata": {},
     "output_type": "display_data"
    }
   ],
   "source": [
    "%use sos\n",
    "%get solarized_pier --from javascript\n",
    "# Define solarize\n",
    "def solarize(img, T=None):\n",
    "    output = np.copy(img)\n",
    "    if T == None:\n",
    "        T = T_slider.value\n",
    "    output[output < T] = 255 - (255-T) * output[output<T] / T\n",
    "    return output\n",
    "\n",
    "plt.close('all')\n",
    "view = viewer([solarize(pier, T=150), np.array(solarized_pier) ], title=['Solarized Python', 'Solarized JavaScript'], \n",
    "              subplots=[1, 2], widgets=True)"
   ]
  },
  {
   "cell_type": "markdown",
   "metadata": {
    "deletable": false,
    "editable": false,
    "kernel": "SoS",
    "nbgrader": {
     "cell_type": "markdown",
     "checksum": "e93b25566732a2c23d35d940283813d9",
     "grade": false,
     "grade_id": "cell-0fd002e0d4eb2ad9",
     "locked": true,
     "schema_version": 3,
     "solution": false,
     "task": false
    },
    "user_expressions": []
   },
   "source": [
    "In the next cell, we provide with you an interactive viewer, where you can play around with the threshold value $T$ to see the different effects this can have on the image. To do so, go to the menu `Extra Widgets`, change the threshold `T`, and click on the `Solarize` button. If you want to see the original image again, just click `Reset`."
   ]
  },
  {
   "cell_type": "code",
   "execution_count": 27,
   "metadata": {
    "deletable": false,
    "editable": false,
    "kernel": "SoS",
    "nbgrader": {
     "cell_type": "code",
     "checksum": "98ed8a844f8065c8a6a0a921f2dd8a61",
     "grade": false,
     "grade_id": "cell-fe425c9082965cfc",
     "locked": true,
     "schema_version": 3,
     "solution": false,
     "task": false
    }
   },
   "outputs": [
    {
     "data": {
      "application/vnd.jupyter.widget-view+json": {
       "model_id": "116ae5762f8a40bebc3f2b3b7889e53e",
       "version_major": 2,
       "version_minor": 0
      },
      "text/plain": [
       "HBox(children=(Output(layout=Layout(width='80%')), Output(), Output(layout=Layout(width='25%'))))"
      ]
     },
     "metadata": {},
     "output_type": "display_data"
    }
   ],
   "source": [
    "%use sos\n",
    "# Declare extra widgets\n",
    "T_slider = widgets.IntSlider(value=150, min=0, max=255, step=1, description='T')\n",
    "button = widgets.Button(description='Solarize')\n",
    "\n",
    "plt.close('all')\n",
    "view = viewer(pier, title=['Solarized pier'], new_widgets=[T_slider, button], callbacks=[solarize], widgets=True)"
   ]
  },
  {
   "cell_type": "markdown",
   "metadata": {
    "deletable": false,
    "editable": false,
    "kernel": "SoS",
    "nbgrader": {
     "cell_type": "markdown",
     "checksum": "7e0aaa2055e8c98b9cd7db24c3bc6844",
     "grade": false,
     "grade_id": "cell-27410351281ced6e",
     "locked": true,
     "schema_version": 3,
     "solution": false,
     "task": false
    }
   },
   "source": [
    "### Multiple Choice Questions\n",
    "\n",
    "Answer the following two questions, worth **0.5 each**, assuming a fixed parameter $T$. Think of the function `solarize` as an operator.\n",
    "\n",
    "Q1. Is `solarize` a linear operator?\n",
    "\n",
    "Q2. Is `solarize` a shift-invariant operator?\n",
    "\n",
    "In the following cell, change the values of `q1_ans` and `q2_ans` to reflect your answers. **Assign a boolean (`True` or `False`)** to the corresponding variables. Then, run the following two cells to check if your choices are valid. "
   ]
  },
  {
   "cell_type": "code",
   "execution_count": 51,
   "metadata": {
    "deletable": false,
    "kernel": "SoS",
    "nbgrader": {
     "cell_type": "code",
     "checksum": "44c8e233d8e8e3966fc0e4764d9f0495",
     "grade": false,
     "grade_id": "cell-3ac708d87ed8fa9d",
     "locked": false,
     "schema_version": 3,
     "solution": true,
     "task": false
    }
   },
   "outputs": [],
   "source": [
    "%use sos\n",
    "\n",
    "# Change the values of the following variables\n",
    "q1_ans = None\n",
    "q2_ans = None\n",
    "# YOUR CODE HERE\n",
    "q1_ans = False\n",
    "q2_ans = True"
   ]
  },
  {
   "cell_type": "code",
   "execution_count": 52,
   "metadata": {
    "deletable": false,
    "editable": false,
    "kernel": "SoS",
    "nbgrader": {
     "cell_type": "code",
     "checksum": "ac913f2e65257963cea703254b1a799b",
     "grade": true,
     "grade_id": "cell-3c4a10d1145cdaa6",
     "locked": true,
     "points": 0.5,
     "schema_version": 3,
     "solution": false,
     "task": false
    }
   },
   "outputs": [],
   "source": [
    "%use sos\n",
    "if not isinstance(q1_ans, bool):\n",
    "    print('WARNING!\\nq1_ans should be a boolean variable (True or False)')"
   ]
  },
  {
   "cell_type": "code",
   "execution_count": 53,
   "metadata": {
    "deletable": false,
    "editable": false,
    "kernel": "SoS",
    "nbgrader": {
     "cell_type": "code",
     "checksum": "2e22e0097a813c040be4ab872b76a812",
     "grade": true,
     "grade_id": "cell-3b5d7e4f2e4459b3",
     "locked": true,
     "points": 0.5,
     "schema_version": 3,
     "solution": false,
     "task": false
    }
   },
   "outputs": [],
   "source": [
    "%use sos\n",
    "if not isinstance(q2_ans, bool):\n",
    "    print('WARNING!\\nq2_ans should be a boolean variable (True or False)')"
   ]
  },
  {
   "cell_type": "markdown",
   "metadata": {
    "deletable": false,
    "editable": false,
    "kernel": "SoS",
    "nbgrader": {
     "cell_type": "markdown",
     "checksum": "471033596907e326b23ec63246dbb437",
     "grade": false,
     "grade_id": "cell-c0b688fbfadebddd",
     "locked": true,
     "schema_version": 3,
     "solution": false,
     "task": false
    },
    "user_expressions": []
   },
   "source": [
    "Congratulations on finishing the first part of the Pixel-Fourier lab!</b></p>\n",
    "\n",
    ":::{attention}\n",
    "Make sure to save your notebook (you might want to keep a copy on your personal computer) and upload it to [Moodle](https://moodle.epfl.ch/mod/assign/view.php?id=1157357), in a zip file with the other notebook of this lab.\n",
    "\n",
    "* Keep the name of the notebook as: *1_Pixelwise_Operations.ipynb*,\n",
    "* Name the zip file: *Pixel_Fourier_lab.zip*.\n",
    ":::"
   ]
  }
 ],
 "metadata": {
  "kernelspec": {
   "display_name": "SoS",
   "language": "sos",
   "name": "sos"
  },
  "language_info": {
   "codemirror_mode": "sos",
   "file_extension": ".sos",
   "mimetype": "text/x-sos",
   "name": "sos",
   "nbconvert_exporter": "sos_notebook.converter.SoS_Exporter",
   "pygments_lexer": "sos"
  },
  "sos": {
   "kernels": [
    [
     "JavaScript",
     "javascript",
     "JavaScript",
     "#c8e1ae",
     ""
    ],
    [
     "SoS",
     "sos",
     "",
     "",
     "sos"
    ]
   ],
   "panel": {
    "displayed": false,
    "height": 0
   },
   "version": "0.24.4"
  }
 },
 "nbformat": 4,
 "nbformat_minor": 4
}
