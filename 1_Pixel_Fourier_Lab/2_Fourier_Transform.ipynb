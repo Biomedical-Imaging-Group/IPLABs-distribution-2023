{
 "cells": [
  {
   "cell_type": "markdown",
   "metadata": {
    "deletable": false,
    "editable": false,
    "kernel": "SoS",
    "nbgrader": {
     "cell_type": "markdown",
     "checksum": "41da9238dd1c21009ca0a63f0d3ea9f4",
     "grade": false,
     "grade_id": "cell-87ef5277e6904d04",
     "locked": true,
     "schema_version": 3,
     "solution": false,
     "task": false
    },
    "user_expressions": []
   },
   "source": [
    "```{image} https://www.epfl.ch/about/overview/wp-content/uploads/2020/07/logo-epfl-1024x576.png \n",
    ":width: 140px\n",
    ":align: left\n",
    "```\n",
    "## Image Processing Laboratory Notebooks\n",
    "---\n",
    "\n",
    "This Juypter notebook is part of a series of computer laboratories which are designed\n",
    "to teach image-processing programming; they are running on the EPFL's Noto server. They are the practical complement of the theoretical lectures of the EPFL's Master course \n",
    "[**MICRO-511 Image Processing I**](https://moodle.epfl.ch/course/view.php?id=522) taught by Prof. M. Unser and Prof. D. Van de Ville.\n",
    "\n",
    "The project is funded by the Center for Digital Education and the School of Engineering. It is owned by the [Biomedical Imaging Group](http://bigwww.epfl.ch/). \n",
    "The distribution or the reproduction of the notebook is strictly prohibited without the written consent of the authors.  &copy; EPFL 2023.\n",
    "\n",
    "**Authors**: \n",
    "    [Pol del Aguila Pla](mailto:pol.delaguilapla@epfl.ch), \n",
    "    [Kay Lächler](mailto:kay.lachler@epfl.ch),\n",
    "    [Alejandro Noguerón Arámburu](mailto:alejandro.nogueronaramburu@epfl.ch),\n",
    "    [Yan Liu](mailto:yan.liu@epfl.ch), and\n",
    "    [Daniel Sage](mailto:daniel.sage@epfl.ch).\n",
    "    \n",
    "---\n",
    "\n",
    "# Lab 1.2: Fourier Transform\n",
    "**Released**: Thursday October 5, 2023\n",
    "\n",
    "**Submission**: Friday October 13, 2023 before 23:59 on [Moodle](https://moodle.epfl.ch/course/view.php?id=522)\n",
    "\n",
    "**Grade weight**: Lab 1 (15 points), 10% of the overall grade\n",
    "\n",
    "**Related lectures**: Chapters 1 and 2"
   ]
  },
  {
   "cell_type": "markdown",
   "metadata": {
    "kernel": "SoS",
    "user_expressions": []
   },
   "source": [
    "Double-click on this cell, fill your name and SCIPER number below to verify your identity in Noto and set the seed for random results.\n",
    ":::{attention} Please write down your name and SCIPER! \n",
    "### Student Name: \n",
    "### SCIPER: \n",
    ":::"
   ]
  },
  {
   "cell_type": "code",
   "execution_count": 1,
   "metadata": {
    "deletable": false,
    "editable": false,
    "kernel": "SoS",
    "nbgrader": {
     "cell_type": "code",
     "checksum": "813503e599ff1f5d567993e83e7499ca",
     "grade": true,
     "grade_id": "cell-2f6633932108c60f",
     "locked": true,
     "points": 0,
     "schema_version": 3,
     "solution": false,
     "task": false
    },
    "tags": []
   },
   "outputs": [
    {
     "name": "stdout",
     "output_type": "stream",
     "text": [
      "SCIPER: 262377\n"
     ]
    }
   ],
   "source": [
    "import getpass\n",
    "# This line recovers your camipro number to mark the images with your ID\n",
    "uid = int(getpass.getuser().split('-')[2]) if len(getpass.getuser().split('-')) > 2 else ord(getpass.getuser()[0])\n",
    "print(f'SCIPER: {uid}')"
   ]
  },
  {
   "cell_type": "markdown",
   "metadata": {
    "deletable": false,
    "editable": false,
    "kernel": "SoS",
    "nbgrader": {
     "cell_type": "markdown",
     "checksum": "70b1e60fc8930c5a7545187a238d9ae3",
     "grade": false,
     "grade_id": "cell-9f52138bd6524e0b",
     "locked": true,
     "schema_version": 3,
     "solution": false,
     "task": false
    },
    "user_expressions": []
   },
   "source": [
    "### Imports\n",
    "In the next cell we import the python libraries and load the images that we will use throughout the lab similar to the previous notebook. Run the next cell to get your notebook ready.\n",
    "\n",
    ":::{note}\n",
    "While in the pixelwise operations lab we didn't need high accuracy, for transforms like the Fourier transform, as well as other transforms, it is essential to have the highest accuracy available.\n",
    ":::"
   ]
  },
  {
   "cell_type": "code",
   "execution_count": 2,
   "metadata": {
    "deletable": false,
    "editable": false,
    "kernel": "SoS",
    "nbgrader": {
     "cell_type": "code",
     "checksum": "d5d963c0d84d001ca143db6bdb0476fd",
     "grade": false,
     "grade_id": "cell-7ebcf2f0631aad5a",
     "locked": true,
     "schema_version": 3,
     "solution": false,
     "task": false
    },
    "tags": []
   },
   "outputs": [],
   "source": [
    "# Configure plotting as dynamic\n",
    "%matplotlib widget\n",
    "\n",
    "# Import required packages for this lab\n",
    "import matplotlib.pyplot as plt\n",
    "import ipywidgets as widgets\n",
    "import numpy as np\n",
    "from skimage import io\n",
    " \n",
    "from interactive_kit import imviewer as viewer\n",
    "\n",
    "# Loading images\n",
    "car = io.imread(\"images/car_pad.tif\").astype(np.float64)\n",
    "pens = io.imread(\"images/pens.tif\").astype(np.float64)\n",
    "zebra = io.imread(\"images/zebra.tif\").astype('float64')\n",
    "\n",
    "# Create the impulse image\n",
    "impulse = np.zeros((65,65)); impulse[32,32] = 1;"
   ]
  },
  {
   "cell_type": "markdown",
   "metadata": {
    "deletable": false,
    "editable": false,
    "kernel": "SoS",
    "nbgrader": {
     "cell_type": "markdown",
     "checksum": "e33bfe56c35daab98403eb22c57d79fb",
     "grade": false,
     "grade_id": "cell-9584117c30781c3d",
     "locked": true,
     "schema_version": 3,
     "solution": false,
     "task": false
    },
    "user_expressions": []
   },
   "source": [
    "# The Fourier transform (7 points)\n",
    "\n",
    "In this second part we will look at the 2D discrete Fourier transform (*DFT*).\n",
    "\n",
    "You are going to:\n",
    " * understand the effects of the elements in an image on its Fourier transform (*FT*), and then\n",
    " * understand how an image is reconstructed from its FT using the inverse Fourier transform (*iFT*). \n",
    "\n",
    "In this part of the lab we will only use Python. To compute the FT in Python, we will use the [`fft` module](https://numpy.org/doc/stable/reference/routines.fft.html) in NumPy, which implements the *FT* using a [fast Fourier transform (FFT)](https://en.wikipedia.org/wiki/Fast_Fourier_transform) algorithm.\n",
    "\n",
    "(ToC_2_Fourier_transform)=\n",
    "## Table of contents\n",
    "1. [Sinusoidal plane waves and their Fourier Transform](#sinusoidal-plane-waves) **(1 point)**\n",
    "2. [Understanding the Fourier transform](#understanding-the-fourier-transform) **(3 points)**\n",
    "    1. [Modulation](#modulation)\n",
    "3. [Reconstruction of an image](#reconstruction-of-an-image) **(3 points)**\n",
    "    1. [Reconstruction error](#reconstruction-error)\n",
    "    2. [Fourier components](#fourier-components)"
   ]
  },
  {
   "cell_type": "markdown",
   "metadata": {},
   "source": [
    "Run the next cell to display the images and get familiar with them."
   ]
  },
  {
   "cell_type": "code",
   "execution_count": 3,
   "metadata": {
    "deletable": false,
    "editable": false,
    "kernel": "SoS",
    "nbgrader": {
     "cell_type": "code",
     "checksum": "b0d3ded23713dd59bc4473a83bd3299b",
     "grade": false,
     "grade_id": "cell-40e70c87a9f21f8b",
     "locked": true,
     "schema_version": 3,
     "solution": false,
     "task": false
    },
    "tags": []
   },
   "outputs": [
    {
     "data": {
      "application/vnd.jupyter.widget-view+json": {
       "model_id": "e361dae9888f4a1fb410ee8f335f50be",
       "version_major": 2,
       "version_minor": 0
      },
      "text/plain": [
       "HBox(children=(Output(layout=Layout(width='80%')), Output(), Output(layout=Layout(width='25%'))))"
      ]
     },
     "metadata": {},
     "output_type": "display_data"
    }
   ],
   "source": [
    "# Define the list of images\n",
    "image_list = [car, pens, zebra]\n",
    "# Display all images used in this lab\n",
    "initial_viewer = viewer(image_list, hist=True)"
   ]
  },
  {
   "cell_type": "markdown",
   "metadata": {
    "deletable": false,
    "editable": false,
    "nbgrader": {
     "cell_type": "markdown",
     "checksum": "7d95df01161fd69cac1f16805a541957",
     "grade": false,
     "grade_id": "cell-2ae0d9df89d15097",
     "locked": true,
     "schema_version": 3,
     "solution": false,
     "task": false
    },
    "user_expressions": []
   },
   "source": [
    "(sinusoidal-plane-waves)=\n",
    "# 1. Sinusoidal plane waves and their Fourier Transform (1 point)\n",
    "[Back to table of contents](#ToC_2_Fourier_transform)\n",
    "\n",
    "By now you have studied all the math in the lecture, but let's be honest, it is hard to believe that everything you see is really constructed from plane waves. So let's go back to basics, and make sure that we understand what is the Fourier Transform of a sinusoidal plane wave. To start off this section and **for 0.5 points**, answer the MCQ below.\n",
    "\n",
    "* Q1: What is the mathematical expression for a 2D sinusoidal plane wave, given an amplitude $A$, period $T$, phase $\\phi$ and angle $\\alpha$?\n",
    "\n",
    "1. $s(x, y) = A\\cos(2\\pi T[x\\sin(\\alpha) + y\\cos(\\alpha)] + \\phi)$\n",
    "2. $s(x, y) = A\\cos(2\\pi T[x\\cos(\\alpha) + y\\sin(\\alpha)] + \\phi)$\n",
    "3. $s(x, y) = A\\cos(\\frac{2\\pi}{T}[x\\cos(\\alpha) + y\\sin(\\alpha)] + \\phi)$\n",
    "4. $s(x, y) = A\\cos(\\frac{2\\pi}{T}[x\\sin(\\alpha) + y\\cos(\\alpha)] + \\phi)$\n",
    "\n",
    ":::{hint}\n",
    "$\\alpha$ is defined as the angle between the wave vector $(\\omega_x, \\omega_y)$ and the $x$-axis.\n",
    ":::\n",
    "\n",
    "In the next cell, assign your choice to the variable `answer`. "
   ]
  },
  {
   "cell_type": "code",
   "execution_count": 4,
   "metadata": {
    "deletable": false,
    "nbgrader": {
     "cell_type": "code",
     "checksum": "7342c958e30a2538de8e0520d3a13118",
     "grade": false,
     "grade_id": "cell-29608b395dca5bf5",
     "locked": false,
     "schema_version": 3,
     "solution": true,
     "task": false
    },
    "tags": []
   },
   "outputs": [],
   "source": [
    "# Modify the variable below to reflect your choice\n",
    "answer = None\n",
    "# YOUR CODE HERE"
   ]
  },
  {
   "cell_type": "code",
   "execution_count": 5,
   "metadata": {
    "deletable": false,
    "editable": false,
    "nbgrader": {
     "cell_type": "code",
     "checksum": "f73ead466dfeb35fe91132107e010932",
     "grade": true,
     "grade_id": "cell-4a8bb74a033e44b7",
     "locked": true,
     "points": 0.5,
     "schema_version": 3,
     "solution": false,
     "task": false
    },
    "tags": []
   },
   "outputs": [
    {
     "name": "stdout",
     "output_type": "stream",
     "text": [
      "WARNING:\n",
      "Possible values are 1, 2, 3 or 4.\n"
     ]
    }
   ],
   "source": [
    "# Check that the answer is in the correct range\n",
    "if not answer in [1, 2, 3, 4]: \n",
    "    print('WARNING:\\nPossible values are 1, 2, 3 or 4.')"
   ]
  },
  {
   "cell_type": "markdown",
   "metadata": {
    "deletable": false,
    "editable": false,
    "nbgrader": {
     "cell_type": "markdown",
     "checksum": "5f605534c40645d77708d997cfd85a45",
     "grade": false,
     "grade_id": "cell-7237a357cc7dfe02",
     "locked": true,
     "schema_version": 3,
     "solution": false,
     "task": false
    },
    "user_expressions": []
   },
   "source": [
    "In the cell below, **for 0.5 points**, implement the function `cos2D` that calculates $s(x,y)$ given the location (`x`, `y`) and the parameters `A`, `T` and `alpha` according to the equation you selected above.\n",
    "\n",
    ":::{note}\n",
    "We assume that $\\phi=0$.\n",
    ":::"
   ]
  },
  {
   "cell_type": "code",
   "execution_count": 6,
   "metadata": {
    "deletable": false,
    "nbgrader": {
     "cell_type": "code",
     "checksum": "a2238ad5db11ee43e9f3276d7b2d9115",
     "grade": false,
     "grade_id": "cell-f87a04a92f41dedf",
     "locked": false,
     "schema_version": 3,
     "solution": true,
     "task": false
    },
    "tags": []
   },
   "outputs": [],
   "source": [
    "# Function that computes the 2D sinusoidal plane wave at location (x, y) given the parameters A, T and alpha\n",
    "def cos2D(x, y, A, T, alpha):\n",
    "    s = 0\n",
    "    \n",
    "    # YOUR CODE HERE\n",
    "    \n",
    "    return s"
   ]
  },
  {
   "cell_type": "markdown",
   "metadata": {
    "deletable": false,
    "editable": false,
    "nbgrader": {
     "cell_type": "markdown",
     "checksum": "36170cb4e29dba21061b58892e11ad30",
     "grade": false,
     "grade_id": "cell-0a054a59330a6158",
     "locked": true,
     "schema_version": 3,
     "solution": false,
     "task": false
    }
   },
   "source": [
    "Run the next cell for a sanity check."
   ]
  },
  {
   "cell_type": "code",
   "execution_count": 7,
   "metadata": {
    "deletable": false,
    "editable": false,
    "nbgrader": {
     "cell_type": "code",
     "checksum": "dc594248f16f0f83fde03fc625b7836e",
     "grade": true,
     "grade_id": "cell-6f4ff2576cfb87b8",
     "locked": true,
     "points": 0.5,
     "schema_version": 3,
     "solution": false,
     "task": false
    },
    "tags": []
   },
   "outputs": [
    {
     "name": "stdout",
     "output_type": "stream",
     "text": [
      "WARNING: The value at (x=0, y=0) should be 0.5 when using A=0.5, T=32 and alpha=0. Your result is 0.000\n",
      "WARNING: The value at (x=8, y=16) should be -0.8 when using A=0.5, T=32 and alpha=90°. Your result is 0.000\n"
     ]
    }
   ],
   "source": [
    "if not np.allclose(cos2D(0, 0, 0.5, 32, 0), 0.5):\n",
    "    print(f'WARNING: The value at (x=0, y=0) should be 0.5 when using A=0.5, T=32 and alpha=0. Your result is {cos2D(0, 0, 0.5, 32, 0):.3f}')\n",
    "if not np.allclose(cos2D(8, 16, 1, 32, 0), 0):\n",
    "    print(f'WARNING: The value at (x=8, y=0) should be 0 when using A=1, T=32 and alpha=0. Your result is {cos2D(8, 0, 1, 32, 0):.3f}')\n",
    "if not np.allclose(cos2D(8, 16, 0.8, 32, np.pi/2), -0.8):\n",
    "    print(f'WARNING: The value at (x=8, y=16) should be -0.8 when using A=0.5, T=32 and alpha=90°. Your result is {cos2D(8, 16, 0.8, 32, np.pi/2):.3f}')\n",
    "if not np.allclose(cos2D(24, 24, 0.3, 32, np.pi/2), 0):\n",
    "    print(f'WARNING: The value at (x=24, y=24) should be 0 when using A=0.3, T=32 and alpha=90°. Your result is {cos2D(24, 24, 0.3, 32, np.pi/2):.3f}')\n",
    "if (np.allclose(cos2D(0, 0, 0.5, 32, 0), 0.5) and np.allclose(cos2D(8, 16, 1, 32, 0), 0) \n",
    "    and np.allclose(cos2D(8, 16, 0.8, 32, np.pi/2), -0.8) and np.allclose(cos2D(24, 24, 0.3, 32, np.pi/2), 0)):\n",
    "    print('Nice, your function passed the sanity check. That does not guarantee that it is correct though.')"
   ]
  },
  {
   "cell_type": "markdown",
   "metadata": {
    "deletable": false,
    "editable": false,
    "nbgrader": {
     "cell_type": "markdown",
     "checksum": "3d37829bc5d75efbba3e6bcac01c67da",
     "grade": false,
     "grade_id": "cell-bbff731c945b0792",
     "locked": true,
     "schema_version": 3,
     "solution": false,
     "task": false
    },
    "user_expressions": []
   },
   "source": [
    "Now, before we do a visual test, we will declare the 2 functions `fourier` and `inverse_fourier`. which calculate the FT and the iFT respectively.\n",
    "Make sure to understand how we use the `numpy.fft` module.\n",
    "\n",
    "Run the next cell to declare this two functions."
   ]
  },
  {
   "cell_type": "code",
   "execution_count": 8,
   "metadata": {
    "deletable": false,
    "editable": false,
    "nbgrader": {
     "cell_type": "code",
     "checksum": "d7441419753442a0c1e219f3fc268d18",
     "grade": false,
     "grade_id": "cell-095fe2f3faa82fff",
     "locked": true,
     "schema_version": 3,
     "solution": false,
     "task": false
    },
    "tags": []
   },
   "outputs": [],
   "source": [
    "# Function that returns the FT\n",
    "def fourier(img):\n",
    "    # Generate the FT\n",
    "    ft = np.fft.fft2(img)\n",
    "    # Shift the frequency range to [-pi/2, pi/2] \n",
    "    shift_ft = np.fft.fftshift(ft)\n",
    "    return shift_ft\n",
    "\n",
    "# Function that return the inverse FT\n",
    "def inverse_fourier(ft):\n",
    "    # Shift the FT back to [0, pi]\n",
    "    ft = np.fft.ifftshift(ft)\n",
    "    # Get the inverse FT\n",
    "    ift = np.fft.ifft2(ft)\n",
    "    # Clip the imaginary part of the reconstruction\n",
    "    # (should be approximately zero anyway)\n",
    "    ift = np.real(ift)\n",
    "    return ift"
   ]
  },
  {
   "cell_type": "markdown",
   "metadata": {
    "deletable": false,
    "editable": false,
    "nbgrader": {
     "cell_type": "markdown",
     "checksum": "2d2cf5b8a1b1fd67f5e9691d1407c72e",
     "grade": false,
     "grade_id": "cell-1df4483d34cc0a89",
     "locked": true,
     "schema_version": 3,
     "solution": false,
     "task": false
    },
    "user_expressions": []
   },
   "source": [
    "Now it's time for the visual test. Run the next cell and see what is there. In the image on the left you should see $8$ periods of a $\\cos$ in the horizontal direction, and the image should be constant in the vertical direction. If you see this, your function is most probably working fine. On the image on the right, you should see two horizontal dots (the FT of a sinusoidal plane wave). \n",
    "\n",
    "Now we want you to be convinced that sinusoidal waves can create patterns. Go to the menu `Extra Widgets`. Play with the parameters of the sine wave, and click on `Add 2D sin`. A new sinusoidal wave with the parameters that you have chosen will be added to the previous pattern. The Fourier Transform will update automatically. \n",
    "\n",
    ":::{attention} \n",
    "Spend a few minutes playing with the following widget! It will give you a great intuition of how superposition of plane waves can create real patterns. Play with the different parameteres to get different effects. Ask yourself, how can you create periodic patterns? How can you create a non-periodic pattern? Of course you will not get a Monet from the following widget (if you try hard enough, you might get one in black and white though), but we hope you will understand how everything is formed of sinusoidal plane waves.\n",
    ":::\n",
    "\n",
    ":::{note} \n",
    "If you want to start from the beginning again, you have to re-run the cell.\n",
    ":::"
   ]
  },
  {
   "cell_type": "code",
   "execution_count": 9,
   "metadata": {
    "deletable": false,
    "editable": false,
    "nbgrader": {
     "cell_type": "code",
     "checksum": "2b65af79d6c83fb35d1351978a7ac736",
     "grade": false,
     "grade_id": "cell-f7307c0e37e1cc2c",
     "locked": true,
     "schema_version": 3,
     "solution": false,
     "task": false
    },
    "tags": []
   },
   "outputs": [
    {
     "ename": "TypeError",
     "evalue": "Make sure that all your images are numpy arrays. Use the method np.array(object).",
     "output_type": "error",
     "traceback": [
      "\u001b[0;31m---------------------------------------------------------------------------\u001b[0m",
      "\u001b[0;31mTypeError\u001b[0m                                 Traceback (most recent call last)",
      "Cell \u001b[0;32mIn[9], line 30\u001b[0m\n\u001b[1;32m     27\u001b[0m plane_wave \u001b[38;5;241m=\u001b[39m create_wave(A\u001b[38;5;241m=\u001b[39m\u001b[38;5;241m1\u001b[39m, T\u001b[38;5;241m=\u001b[39m\u001b[38;5;241m32\u001b[39m, alpha\u001b[38;5;241m=\u001b[39m\u001b[38;5;241m0\u001b[39m, deg\u001b[38;5;241m=\u001b[39m\u001b[38;5;28;01mTrue\u001b[39;00m)\n\u001b[1;32m     29\u001b[0m plt\u001b[38;5;241m.\u001b[39mclose(\u001b[38;5;124m'\u001b[39m\u001b[38;5;124mall\u001b[39m\u001b[38;5;124m'\u001b[39m)\n\u001b[0;32m---> 30\u001b[0m view \u001b[38;5;241m=\u001b[39m \u001b[43mviewer\u001b[49m\u001b[43m(\u001b[49m\u001b[43m[\u001b[49m\u001b[43mplane_wave\u001b[49m\u001b[43m,\u001b[49m\u001b[43m \u001b[49m\u001b[43mplane_wave\u001b[49m\u001b[43m]\u001b[49m\u001b[43m,\u001b[49m\u001b[43m \u001b[49m\u001b[43mtitle\u001b[49m\u001b[38;5;241;43m=\u001b[39;49m\u001b[43m[\u001b[49m\u001b[38;5;124;43m'\u001b[39;49m\u001b[38;5;124;43mSum of patterns\u001b[39;49m\u001b[38;5;124;43m'\u001b[39;49m\u001b[43m,\u001b[49m\u001b[43m \u001b[49m\u001b[38;5;124;43m'\u001b[39;49m\u001b[38;5;124;43mFourier Transform\u001b[39;49m\u001b[38;5;124;43m'\u001b[39;49m\u001b[43m]\u001b[49m\u001b[43m,\u001b[49m\n\u001b[1;32m     31\u001b[0m \u001b[43m              \u001b[49m\u001b[43mnew_widgets\u001b[49m\u001b[38;5;241;43m=\u001b[39;49m\u001b[43m[\u001b[49m\u001b[43mA_slider\u001b[49m\u001b[43m,\u001b[49m\u001b[43m \u001b[49m\u001b[43mT_slider\u001b[49m\u001b[43m,\u001b[49m\u001b[43m \u001b[49m\u001b[43malpha_slider\u001b[49m\u001b[43m,\u001b[49m\u001b[43m \u001b[49m\u001b[43mbutton\u001b[49m\u001b[43m]\u001b[49m\u001b[43m,\u001b[49m\u001b[43m \u001b[49m\n\u001b[1;32m     32\u001b[0m \u001b[43m              \u001b[49m\u001b[43mcallbacks\u001b[49m\u001b[38;5;241;43m=\u001b[39;49m\u001b[43m[\u001b[49m\u001b[43msin2D_callback\u001b[49m\u001b[43m,\u001b[49m\u001b[43m \u001b[49m\u001b[43mft_callback\u001b[49m\u001b[43m]\u001b[49m\u001b[43m,\u001b[49m\u001b[43m \u001b[49m\u001b[43mwidgets\u001b[49m\u001b[38;5;241;43m=\u001b[39;49m\u001b[38;5;28;43;01mTrue\u001b[39;49;00m\u001b[43m,\u001b[49m\u001b[43m \u001b[49m\u001b[43msubplots\u001b[49m\u001b[38;5;241;43m=\u001b[39;49m\u001b[43m(\u001b[49m\u001b[38;5;241;43m1\u001b[39;49m\u001b[43m,\u001b[49m\u001b[43m \u001b[49m\u001b[38;5;241;43m2\u001b[39;49m\u001b[43m)\u001b[49m\u001b[43m)\u001b[49m\n\u001b[1;32m     33\u001b[0m button\u001b[38;5;241m.\u001b[39mclick()\n",
      "File \u001b[0;32m/opt/jlab-env/lib/python3.11/site-packages/interactive_kit/imageviewer.py:331\u001b[0m, in \u001b[0;36mImageViewer.__init__\u001b[0;34m(self, image_list, **kwargs)\u001b[0m\n\u001b[1;32m    329\u001b[0m         \u001b[38;5;28mself\u001b[39m\u001b[38;5;241m.\u001b[39mmultiple_lists \u001b[38;5;241m=\u001b[39m \u001b[38;5;28;01mTrue\u001b[39;00m\n\u001b[1;32m    330\u001b[0m     \u001b[38;5;28;01melif\u001b[39;00m \u001b[38;5;129;01mnot\u001b[39;00m(\u001b[38;5;28mall\u001b[39m(\u001b[38;5;28misinstance\u001b[39m(img, np\u001b[38;5;241m.\u001b[39mndarray) \u001b[38;5;28;01mfor\u001b[39;00m img \u001b[38;5;129;01min\u001b[39;00m image_list)):\n\u001b[0;32m--> 331\u001b[0m         \u001b[38;5;28;01mraise\u001b[39;00m \u001b[38;5;167;01mTypeError\u001b[39;00m(\u001b[38;5;124m'\u001b[39m\u001b[38;5;124mMake sure that all your images are numpy arrays. Use the method np.array(object).\u001b[39m\u001b[38;5;124m'\u001b[39m)\n\u001b[1;32m    332\u001b[0m \u001b[38;5;66;03m# Raise exception otherwise. if object type not numpy array nor list.\u001b[39;00m\n\u001b[1;32m    333\u001b[0m \u001b[38;5;28;01melse\u001b[39;00m:\n\u001b[1;32m    334\u001b[0m     \u001b[38;5;28;01mraise\u001b[39;00m \u001b[38;5;167;01mException\u001b[39;00m(\u001b[38;5;124m'\u001b[39m\u001b[38;5;124mPlease give the first argument as a list of numpy arrays.\u001b[39m\u001b[38;5;124m'\u001b[39m)\n",
      "\u001b[0;31mTypeError\u001b[0m: Make sure that all your images are numpy arrays. Use the method np.array(object)."
     ]
    }
   ],
   "source": [
    "# Creates a 2D sinusoidal plane wave of a given size and with given parameters\n",
    "def create_wave(A, T, alpha, shape=(256, 256), deg=False):\n",
    "    # Convert degrees to radians\n",
    "    alpha = alpha/180 * np.pi if deg else alpha\n",
    "    # Apply sin2D to the whole image\n",
    "    return np.fromfunction(lambda y, x: cos2D(x, y, A=A, T=T, alpha=alpha), shape=shape)\n",
    "\n",
    "# Define sliders and button\n",
    "A_slider = widgets.FloatSlider(value=1, min=0, max=1, step=0.01, description='A')\n",
    "T_slider = widgets.IntSlider(value=32, min=3, max=256, step=1, description='T')\n",
    "alpha_slider = widgets.IntSlider(value=0, min=-90, max=90, step=1, description=r'$\\alpha [deg]$')\n",
    "button = widgets.Button(description='Add 2D sin')\n",
    "\n",
    "# Callback function that adds a plane wave to the original img\n",
    "def sin2D_callback(img):\n",
    "    img = img + create_wave(A_slider.value, T_slider.value, alpha_slider.value, deg=True)\n",
    "    # Ignore these lines\n",
    "    view.original[0] = img\n",
    "    view.original[1] = img\n",
    "    return img\n",
    "\n",
    "# Callback function that gets the absolute value of the FT, and takes its log for better visualization\n",
    "def ft_callback(img):\n",
    "    return 10*np.log10(np.abs(fourier(img))+1e-5)\n",
    "\n",
    "# Declare initial plane wave\n",
    "plane_wave = create_wave(A=1, T=32, alpha=0, deg=True)\n",
    "\n",
    "plt.close('all')\n",
    "view = viewer([plane_wave, plane_wave], title=['Sum of patterns', 'Fourier Transform'],\n",
    "              new_widgets=[A_slider, T_slider, alpha_slider, button], \n",
    "              callbacks=[sin2D_callback, ft_callback], widgets=True, subplots=(1, 2))\n",
    "button.click()"
   ]
  },
  {
   "cell_type": "markdown",
   "metadata": {
    "deletable": false,
    "editable": false,
    "kernel": "SoS",
    "nbgrader": {
     "cell_type": "markdown",
     "checksum": "37e6f5685ad641274656968c5bf01be8",
     "grade": false,
     "grade_id": "cell-9f1d3140cb97f16b",
     "locked": true,
     "schema_version": 3,
     "solution": false,
     "task": false
    },
    "user_expressions": []
   },
   "source": [
    "(understanding-the-fourier-transform)=\n",
    "# 2. Understanding the Fourier transform (3 points)\n",
    "[Back to table of contents](#ToC_2_Fourier_transform)\n",
    "\n",
    "Now that we have learned how images are formed and the equivalence of the spatial and the Fourier components, it's time to dig deeper into the FT. As you know, calculating the FT of an image generates a two-dimensional array (image) of complex values, which makes it challenging to find a good visualization. Therefore, we usually extract the **magnitude** and **phase** of the complex numbers, which are much easier to deal with and present useful information. Remember that the magnitude of a complex number $z\\in\\mathbb{C}$ is given by\n",
    "$$|z| = \\sqrt{\\operatorname{Re}(z)^2+\\operatorname{Im}(z)^2}.$$\n",
    "\n",
    "Furthermore, we usually visualize this magnitude in dB, i.e., \n",
    "\n",
    "$$|z|~[\\mathrm{dB}] = 10\\log_{10}\\left(|z|^2\\right).$$\n",
    "\n",
    "One of the reasons for this is that the variations in the magnitude of the Fourier transform generally span very different ranges, from the very small to the very large, and the $\\log(\\cdot)$ transformation allows us to visualize both in the same image.\n",
    "\n",
    "To do this, you will first define the function `magnitude(ft)`, which should return **the magnitude in decibels (`dB`)** of a FT given as an input parameter. For **0.5 points**, complete the function `magnitude(ft)` in the cell below according to the equation given above.\n",
    "\n",
    ":::{hint}\n",
    "Check the Numpy built-in functions for complex numbers, pay attention to the base of the log function you use.\n",
    ":::\n",
    "\n",
    ":::{warning} \n",
    "Using `np.absolute` in this exercise will give you **0 points**! We want you to implement the function yourself.\n",
    ":::"
   ]
  },
  {
   "cell_type": "code",
   "execution_count": 10,
   "metadata": {
    "deletable": false,
    "kernel": "SoS",
    "nbgrader": {
     "cell_type": "code",
     "checksum": "e396de6d27009d2c599756739385d40d",
     "grade": false,
     "grade_id": "ans-7078161896540164",
     "locked": false,
     "schema_version": 3,
     "solution": true,
     "task": false
    },
    "tags": []
   },
   "outputs": [],
   "source": [
    "# Function that returns the magnitude of the FT in dB\n",
    "def magnitude(ft):\n",
    "    # Initialize the output to 0\n",
    "    output = None\n",
    "    \n",
    "    # YOUR CODE HERE\n",
    "    \n",
    "    # Return the output\n",
    "    return output"
   ]
  },
  {
   "cell_type": "code",
   "execution_count": 11,
   "metadata": {
    "deletable": false,
    "editable": false,
    "kernel": "SoS",
    "nbgrader": {
     "cell_type": "code",
     "checksum": "00e805345db77359473174c568368273",
     "grade": true,
     "grade_id": "grad-aab6c96c21ed9da9",
     "locked": true,
     "points": 0.5,
     "schema_version": 3,
     "solution": false,
     "task": false
    },
    "tags": []
   },
   "outputs": [
    {
     "ename": "TypeError",
     "evalue": "unsupported operand type(s) for *: 'NoneType' and 'float'",
     "output_type": "error",
     "traceback": [
      "\u001b[0;31m---------------------------------------------------------------------------\u001b[0m",
      "\u001b[0;31mTypeError\u001b[0m                                 Traceback (most recent call last)",
      "Cell \u001b[0;32mIn[11], line 5\u001b[0m\n\u001b[1;32m      3\u001b[0m z \u001b[38;5;241m=\u001b[39m \u001b[38;5;241m1\u001b[39m \u001b[38;5;241m+\u001b[39m \u001b[38;5;241m1\u001b[39mj\n\u001b[1;32m      4\u001b[0m \u001b[38;5;66;03m# Check that the magnitude function is correct\u001b[39;00m\n\u001b[0;32m----> 5\u001b[0m \u001b[38;5;28;01mif\u001b[39;00m \u001b[43mnp\u001b[49m\u001b[38;5;241;43m.\u001b[39;49m\u001b[43mround\u001b[49m\u001b[43m(\u001b[49m\u001b[43mmagnitude\u001b[49m\u001b[43m(\u001b[49m\u001b[43mz\u001b[49m\u001b[43m)\u001b[49m\u001b[43m,\u001b[49m\u001b[43m \u001b[49m\u001b[43mdecimals\u001b[49m\u001b[38;5;241;43m=\u001b[39;49m\u001b[38;5;241;43m1\u001b[39;49m\u001b[43m)\u001b[49m \u001b[38;5;241m==\u001b[39m \u001b[38;5;241m3.0\u001b[39m:\n\u001b[1;32m      6\u001b[0m     \u001b[38;5;28mprint\u001b[39m(\u001b[38;5;124m\"\u001b[39m\u001b[38;5;124mNice, your magnitude function passed the basic sanity check!\u001b[39m\u001b[38;5;124m\"\u001b[39m)\n\u001b[1;32m      7\u001b[0m \u001b[38;5;28;01melse\u001b[39;00m:\n",
      "File \u001b[0;32m<__array_function__ internals>:200\u001b[0m, in \u001b[0;36mround_\u001b[0;34m(*args, **kwargs)\u001b[0m\n",
      "File \u001b[0;32m/opt/jlab-env/lib/python3.11/site-packages/numpy/core/fromnumeric.py:3763\u001b[0m, in \u001b[0;36mround_\u001b[0;34m(a, decimals, out)\u001b[0m\n\u001b[1;32m   3754\u001b[0m \u001b[38;5;129m@array_function_dispatch\u001b[39m(_around_dispatcher)\n\u001b[1;32m   3755\u001b[0m \u001b[38;5;28;01mdef\u001b[39;00m \u001b[38;5;21mround_\u001b[39m(a, decimals\u001b[38;5;241m=\u001b[39m\u001b[38;5;241m0\u001b[39m, out\u001b[38;5;241m=\u001b[39m\u001b[38;5;28;01mNone\u001b[39;00m):\n\u001b[1;32m   3756\u001b[0m \u001b[38;5;250m    \u001b[39m\u001b[38;5;124;03m\"\"\"\u001b[39;00m\n\u001b[1;32m   3757\u001b[0m \u001b[38;5;124;03m    Round an array to the given number of decimals.\u001b[39;00m\n\u001b[1;32m   3758\u001b[0m \n\u001b[0;32m   (...)\u001b[0m\n\u001b[1;32m   3761\u001b[0m \u001b[38;5;124;03m    around : equivalent function; see for details.\u001b[39;00m\n\u001b[1;32m   3762\u001b[0m \u001b[38;5;124;03m    \"\"\"\u001b[39;00m\n\u001b[0;32m-> 3763\u001b[0m     \u001b[38;5;28;01mreturn\u001b[39;00m \u001b[43maround\u001b[49m\u001b[43m(\u001b[49m\u001b[43ma\u001b[49m\u001b[43m,\u001b[49m\u001b[43m \u001b[49m\u001b[43mdecimals\u001b[49m\u001b[38;5;241;43m=\u001b[39;49m\u001b[43mdecimals\u001b[49m\u001b[43m,\u001b[49m\u001b[43m \u001b[49m\u001b[43mout\u001b[49m\u001b[38;5;241;43m=\u001b[39;49m\u001b[43mout\u001b[49m\u001b[43m)\u001b[49m\n",
      "File \u001b[0;32m<__array_function__ internals>:200\u001b[0m, in \u001b[0;36maround\u001b[0;34m(*args, **kwargs)\u001b[0m\n",
      "File \u001b[0;32m/opt/jlab-env/lib/python3.11/site-packages/numpy/core/fromnumeric.py:3337\u001b[0m, in \u001b[0;36maround\u001b[0;34m(a, decimals, out)\u001b[0m\n\u001b[1;32m   3245\u001b[0m \u001b[38;5;129m@array_function_dispatch\u001b[39m(_around_dispatcher)\n\u001b[1;32m   3246\u001b[0m \u001b[38;5;28;01mdef\u001b[39;00m \u001b[38;5;21maround\u001b[39m(a, decimals\u001b[38;5;241m=\u001b[39m\u001b[38;5;241m0\u001b[39m, out\u001b[38;5;241m=\u001b[39m\u001b[38;5;28;01mNone\u001b[39;00m):\n\u001b[1;32m   3247\u001b[0m \u001b[38;5;250m    \u001b[39m\u001b[38;5;124;03m\"\"\"\u001b[39;00m\n\u001b[1;32m   3248\u001b[0m \u001b[38;5;124;03m    Evenly round to the given number of decimals.\u001b[39;00m\n\u001b[1;32m   3249\u001b[0m \n\u001b[0;32m   (...)\u001b[0m\n\u001b[1;32m   3335\u001b[0m \n\u001b[1;32m   3336\u001b[0m \u001b[38;5;124;03m    \"\"\"\u001b[39;00m\n\u001b[0;32m-> 3337\u001b[0m     \u001b[38;5;28;01mreturn\u001b[39;00m \u001b[43m_wrapfunc\u001b[49m\u001b[43m(\u001b[49m\u001b[43ma\u001b[49m\u001b[43m,\u001b[49m\u001b[43m \u001b[49m\u001b[38;5;124;43m'\u001b[39;49m\u001b[38;5;124;43mround\u001b[39;49m\u001b[38;5;124;43m'\u001b[39;49m\u001b[43m,\u001b[49m\u001b[43m \u001b[49m\u001b[43mdecimals\u001b[49m\u001b[38;5;241;43m=\u001b[39;49m\u001b[43mdecimals\u001b[49m\u001b[43m,\u001b[49m\u001b[43m \u001b[49m\u001b[43mout\u001b[49m\u001b[38;5;241;43m=\u001b[39;49m\u001b[43mout\u001b[49m\u001b[43m)\u001b[49m\n",
      "File \u001b[0;32m/opt/jlab-env/lib/python3.11/site-packages/numpy/core/fromnumeric.py:54\u001b[0m, in \u001b[0;36m_wrapfunc\u001b[0;34m(obj, method, *args, **kwds)\u001b[0m\n\u001b[1;32m     52\u001b[0m bound \u001b[38;5;241m=\u001b[39m \u001b[38;5;28mgetattr\u001b[39m(obj, method, \u001b[38;5;28;01mNone\u001b[39;00m)\n\u001b[1;32m     53\u001b[0m \u001b[38;5;28;01mif\u001b[39;00m bound \u001b[38;5;129;01mis\u001b[39;00m \u001b[38;5;28;01mNone\u001b[39;00m:\n\u001b[0;32m---> 54\u001b[0m     \u001b[38;5;28;01mreturn\u001b[39;00m \u001b[43m_wrapit\u001b[49m\u001b[43m(\u001b[49m\u001b[43mobj\u001b[49m\u001b[43m,\u001b[49m\u001b[43m \u001b[49m\u001b[43mmethod\u001b[49m\u001b[43m,\u001b[49m\u001b[43m \u001b[49m\u001b[38;5;241;43m*\u001b[39;49m\u001b[43margs\u001b[49m\u001b[43m,\u001b[49m\u001b[43m \u001b[49m\u001b[38;5;241;43m*\u001b[39;49m\u001b[38;5;241;43m*\u001b[39;49m\u001b[43mkwds\u001b[49m\u001b[43m)\u001b[49m\n\u001b[1;32m     56\u001b[0m \u001b[38;5;28;01mtry\u001b[39;00m:\n\u001b[1;32m     57\u001b[0m     \u001b[38;5;28;01mreturn\u001b[39;00m bound(\u001b[38;5;241m*\u001b[39margs, \u001b[38;5;241m*\u001b[39m\u001b[38;5;241m*\u001b[39mkwds)\n",
      "File \u001b[0;32m/opt/jlab-env/lib/python3.11/site-packages/numpy/core/fromnumeric.py:43\u001b[0m, in \u001b[0;36m_wrapit\u001b[0;34m(obj, method, *args, **kwds)\u001b[0m\n\u001b[1;32m     41\u001b[0m \u001b[38;5;28;01mexcept\u001b[39;00m \u001b[38;5;167;01mAttributeError\u001b[39;00m:\n\u001b[1;32m     42\u001b[0m     wrap \u001b[38;5;241m=\u001b[39m \u001b[38;5;28;01mNone\u001b[39;00m\n\u001b[0;32m---> 43\u001b[0m result \u001b[38;5;241m=\u001b[39m \u001b[38;5;28;43mgetattr\u001b[39;49m\u001b[43m(\u001b[49m\u001b[43masarray\u001b[49m\u001b[43m(\u001b[49m\u001b[43mobj\u001b[49m\u001b[43m)\u001b[49m\u001b[43m,\u001b[49m\u001b[43m \u001b[49m\u001b[43mmethod\u001b[49m\u001b[43m)\u001b[49m\u001b[43m(\u001b[49m\u001b[38;5;241;43m*\u001b[39;49m\u001b[43margs\u001b[49m\u001b[43m,\u001b[49m\u001b[43m \u001b[49m\u001b[38;5;241;43m*\u001b[39;49m\u001b[38;5;241;43m*\u001b[39;49m\u001b[43mkwds\u001b[49m\u001b[43m)\u001b[49m\n\u001b[1;32m     44\u001b[0m \u001b[38;5;28;01mif\u001b[39;00m wrap:\n\u001b[1;32m     45\u001b[0m     \u001b[38;5;28;01mif\u001b[39;00m \u001b[38;5;129;01mnot\u001b[39;00m \u001b[38;5;28misinstance\u001b[39m(result, mu\u001b[38;5;241m.\u001b[39mndarray):\n",
      "\u001b[0;31mTypeError\u001b[0m: unsupported operand type(s) for *: 'NoneType' and 'float'"
     ]
    }
   ],
   "source": [
    "# Let's do a sanity check\n",
    "# The complex number used for the test which has a magnitude of ~3 dB\n",
    "z = 1 + 1j\n",
    "# Check that the magnitude function is correct\n",
    "if np.round(magnitude(z), decimals=1) == 3.0:\n",
    "    print(\"Nice, your magnitude function passed the basic sanity check!\")\n",
    "else:\n",
    "    print(\"Something isn't quite right yet.\")"
   ]
  },
  {
   "cell_type": "markdown",
   "metadata": {
    "deletable": false,
    "editable": false,
    "kernel": "SoS",
    "nbgrader": {
     "cell_type": "markdown",
     "checksum": "10d5c7756834a5d1a14359aeb8b0a1e3",
     "grade": false,
     "grade_id": "cell-e83793b000b52116",
     "locked": true,
     "schema_version": 3,
     "solution": false,
     "task": false
    },
    "user_expressions": []
   },
   "source": [
    "Now, we will define a function to calculate the phase of the *FT*. For this we define the function `phase(ft)`, which takes as argument an *FT* and returns its phase.\n",
    "\n",
    "Remember that the phase of a complex number $z$ is given by\n",
    "$$\\angle(z)=\\arctan\\left(\\frac{\\operatorname{Im}(z)}{\\operatorname{Re}(z)}\\right)\\,.$$\n",
    "\n",
    "For **0.5 points**, complete the function `phase(ft)` in the cell below according to the equation given above.\n",
    "\n",
    ":::{hint}\n",
    "Compare [`np.arctan2`](https://numpy.org/doc/stable/reference/generated/numpy.arctan2.html) and [`np.arctan`](https://numpy.org/doc/stable/reference/generated/numpy.arctan.html#numpy.arctan), which one is more convenient to calculate $\\angle(z)$? \n",
    ":::\n",
    "\n",
    ":::{warning}\n",
    "Using `np.angle` in this exercise will give you **0 points**! Implement the function yourself.\n",
    ":::"
   ]
  },
  {
   "cell_type": "code",
   "execution_count": 12,
   "metadata": {
    "deletable": false,
    "kernel": "SoS",
    "nbgrader": {
     "cell_type": "code",
     "checksum": "e442f3dd7e813afd8363f146dfee6cc6",
     "grade": false,
     "grade_id": "ans-63a15ac76c7b5d69",
     "locked": false,
     "schema_version": 3,
     "solution": true,
     "task": false
    },
    "tags": []
   },
   "outputs": [],
   "source": [
    "# Function that calculates the phase of complex numbers\n",
    "def phase(ft):\n",
    "    # Initialize output variable\n",
    "    output = None\n",
    "    \n",
    "    # YOUR CODE HERE\n",
    "    \n",
    "    return output"
   ]
  },
  {
   "cell_type": "code",
   "execution_count": 13,
   "metadata": {
    "deletable": false,
    "editable": false,
    "kernel": "SoS",
    "nbgrader": {
     "cell_type": "code",
     "checksum": "4750466cf5944962a43a3f987ad678d9",
     "grade": true,
     "grade_id": "grad-9ae7daa14c45d818",
     "locked": true,
     "points": 0.5,
     "schema_version": 3,
     "solution": false,
     "task": false
    },
    "tags": []
   },
   "outputs": [
    {
     "name": "stdout",
     "output_type": "stream",
     "text": [
      "Something isn't quite right yet.\n"
     ]
    }
   ],
   "source": [
    "# Let's do a sanity check\n",
    "# The complex number used for the test which has a phase of pi/4\n",
    "z = 1 + 1j\n",
    "# Check that the magnitude function is correct\n",
    "if phase(z) == np.pi/4:\n",
    "    print(\"Nice, your phase function passed the sanity check!\")\n",
    "else:\n",
    "    print(\"Something isn't quite right yet.\")"
   ]
  },
  {
   "cell_type": "markdown",
   "metadata": {
    "deletable": false,
    "editable": false,
    "kernel": "SoS",
    "nbgrader": {
     "cell_type": "markdown",
     "checksum": "4a89f7dba038a85b4464b599414780cd",
     "grade": false,
     "grade_id": "cell-133e10af0d745e6b",
     "locked": true,
     "schema_version": 3,
     "solution": false,
     "task": false
    },
    "user_expressions": []
   },
   "source": [
    "Now, let's look at the results of the functions you just coded. For this we will apply the *FT* to the image `car`, calculate its magnitude and phase, and visualize the results. \n",
    "\n",
    "Run the next cell to see the magnitude and phase of the *FT* of `car`.\n",
    "\n",
    ":::{tip}\n",
    "If you don't see the phase of the image (or only part of it), use `Ctrl + b` to hide the left sidebar of JupyterLab or lower the zoom of your browser. \n",
    ":::\n",
    "\n",
    "If everything went well you should see:\n",
    "* For the magnitude: a diagonal cross in the center with stars spread over the image, and\n",
    "* For the phase: seemingly random noise, cut by a near vertical line and a few other straight lines."
   ]
  },
  {
   "cell_type": "code",
   "execution_count": 14,
   "metadata": {
    "deletable": false,
    "editable": false,
    "kernel": "SoS",
    "nbgrader": {
     "cell_type": "code",
     "checksum": "53d9aa74a2f70e9674d35ca0d2f061e2",
     "grade": false,
     "grade_id": "cell-eaa553653ffc69a1",
     "locked": true,
     "schema_version": 3,
     "solution": false,
     "task": false
    },
    "tags": []
   },
   "outputs": [
    {
     "ename": "TypeError",
     "evalue": "Make sure that all your images are numpy arrays. Use the method np.array(object).",
     "output_type": "error",
     "traceback": [
      "\u001b[0;31m---------------------------------------------------------------------------\u001b[0m",
      "\u001b[0;31mTypeError\u001b[0m                                 Traceback (most recent call last)",
      "Cell \u001b[0;32mIn[14], line 9\u001b[0m\n\u001b[1;32m      7\u001b[0m \u001b[38;5;66;03m# Visualize the two together with the original image\u001b[39;00m\n\u001b[1;32m      8\u001b[0m plt\u001b[38;5;241m.\u001b[39mclose(\u001b[38;5;124m'\u001b[39m\u001b[38;5;124mall\u001b[39m\u001b[38;5;124m'\u001b[39m)\n\u001b[0;32m----> 9\u001b[0m ft_vis \u001b[38;5;241m=\u001b[39m \u001b[43mviewer\u001b[49m\u001b[43m(\u001b[49m\u001b[43m[\u001b[49m\u001b[43mcar\u001b[49m\u001b[43m,\u001b[49m\u001b[43m \u001b[49m\u001b[43mcar_ft_mag\u001b[49m\u001b[43m,\u001b[49m\u001b[43m \u001b[49m\u001b[43mcar_ft_ph\u001b[49m\u001b[43m]\u001b[49m\u001b[43m,\u001b[49m\u001b[43m \u001b[49m\u001b[43mtitle\u001b[49m\u001b[38;5;241;43m=\u001b[39;49m\u001b[43m[\u001b[49m\u001b[38;5;124;43m'\u001b[39;49m\u001b[38;5;124;43mCar\u001b[39;49m\u001b[38;5;124;43m'\u001b[39;49m\u001b[43m,\u001b[49m\u001b[43m \u001b[49m\u001b[38;5;124;43m'\u001b[39;49m\u001b[38;5;124;43mCar FT magnitude\u001b[39;49m\u001b[38;5;124;43m'\u001b[39;49m\u001b[43m,\u001b[49m\u001b[43m \u001b[49m\u001b[38;5;124;43m'\u001b[39;49m\u001b[38;5;124;43mCar FT phase\u001b[39;49m\u001b[38;5;124;43m'\u001b[39;49m\u001b[43m]\u001b[49m\u001b[43m,\u001b[49m\u001b[43m \u001b[49m\u001b[43msubplots\u001b[49m\u001b[38;5;241;43m=\u001b[39;49m\u001b[43m(\u001b[49m\u001b[38;5;241;43m1\u001b[39;49m\u001b[43m,\u001b[49m\u001b[38;5;241;43m3\u001b[39;49m\u001b[43m)\u001b[49m\u001b[43m)\u001b[49m\n",
      "File \u001b[0;32m/opt/jlab-env/lib/python3.11/site-packages/interactive_kit/imageviewer.py:331\u001b[0m, in \u001b[0;36mImageViewer.__init__\u001b[0;34m(self, image_list, **kwargs)\u001b[0m\n\u001b[1;32m    329\u001b[0m         \u001b[38;5;28mself\u001b[39m\u001b[38;5;241m.\u001b[39mmultiple_lists \u001b[38;5;241m=\u001b[39m \u001b[38;5;28;01mTrue\u001b[39;00m\n\u001b[1;32m    330\u001b[0m     \u001b[38;5;28;01melif\u001b[39;00m \u001b[38;5;129;01mnot\u001b[39;00m(\u001b[38;5;28mall\u001b[39m(\u001b[38;5;28misinstance\u001b[39m(img, np\u001b[38;5;241m.\u001b[39mndarray) \u001b[38;5;28;01mfor\u001b[39;00m img \u001b[38;5;129;01min\u001b[39;00m image_list)):\n\u001b[0;32m--> 331\u001b[0m         \u001b[38;5;28;01mraise\u001b[39;00m \u001b[38;5;167;01mTypeError\u001b[39;00m(\u001b[38;5;124m'\u001b[39m\u001b[38;5;124mMake sure that all your images are numpy arrays. Use the method np.array(object).\u001b[39m\u001b[38;5;124m'\u001b[39m)\n\u001b[1;32m    332\u001b[0m \u001b[38;5;66;03m# Raise exception otherwise. if object type not numpy array nor list.\u001b[39;00m\n\u001b[1;32m    333\u001b[0m \u001b[38;5;28;01melse\u001b[39;00m:\n\u001b[1;32m    334\u001b[0m     \u001b[38;5;28;01mraise\u001b[39;00m \u001b[38;5;167;01mException\u001b[39;00m(\u001b[38;5;124m'\u001b[39m\u001b[38;5;124mPlease give the first argument as a list of numpy arrays.\u001b[39m\u001b[38;5;124m'\u001b[39m)\n",
      "\u001b[0;31mTypeError\u001b[0m: Make sure that all your images are numpy arrays. Use the method np.array(object)."
     ]
    }
   ],
   "source": [
    "# Generate the FT of car\n",
    "car_ft = fourier(car)\n",
    "# Calculate the magnitude\n",
    "car_ft_mag = magnitude(car_ft)\n",
    "# Calculate the phase\n",
    "car_ft_ph = phase(car_ft)\n",
    "# Visualize the two together with the original image\n",
    "plt.close('all')\n",
    "ft_vis = viewer([car, car_ft_mag, car_ft_ph], title=['Car', 'Car FT magnitude', 'Car FT phase'], subplots=(1,3))"
   ]
  },
  {
   "cell_type": "markdown",
   "metadata": {
    "deletable": false,
    "editable": false,
    "nbgrader": {
     "cell_type": "markdown",
     "checksum": "730fcab5017680b1e97dfcb27abc8fb9",
     "grade": false,
     "grade_id": "cell-b50103bf3c82ef43",
     "locked": true,
     "schema_version": 3,
     "solution": false,
     "task": false
    }
   },
   "source": [
    "### Multiple Choice Question\n",
    "\n",
    "The following MCQs will test your understanding of the relationship of an image with its FT **magnitude**. Each is worth **0.5 points**.\n",
    "\n",
    "* Q1: Where do the little stars at different distances from the center in the FT of `car` come from?\n",
    "    1. From the contour of the car.\n",
    "    2. From the driver.\n",
    "    3. From the carpet under the car.\n",
    "    4. From the details of the car (JAGUAR text, doors, steering wheel, etc).\n",
    "    5. From the size of the image.\n",
    "    \n",
    "    \n",
    "* Q2: Where do the two big intersecting lines in the FT of `car` come from? \n",
    "    1. From the contour of the car.\n",
    "    2. From the driver.\n",
    "    3. From the carpet under the car.\n",
    "    4. From the details of the car (JAGUAR text, doors, steering wheel, etc).\n",
    "    5. From the size of the image.\n",
    "\n",
    "In the next cell, modify the variables `answer_one` and `answer_two` to reflect your choices. Then run the cells after that one for a quick sanity check."
   ]
  },
  {
   "cell_type": "code",
   "execution_count": 15,
   "metadata": {
    "deletable": false,
    "nbgrader": {
     "cell_type": "code",
     "checksum": "c3534f1021c42c444accecdcf5b220f1",
     "grade": false,
     "grade_id": "cell-55468dd82be1a2e5",
     "locked": false,
     "schema_version": 3,
     "solution": true,
     "task": false
    },
    "tags": []
   },
   "outputs": [],
   "source": [
    "# Assign your answer to this variable\n",
    "answer_one = None\n",
    "answer_two = None\n",
    "# YOUR CODE HERE"
   ]
  },
  {
   "cell_type": "code",
   "execution_count": 16,
   "metadata": {
    "deletable": false,
    "editable": false,
    "nbgrader": {
     "cell_type": "code",
     "checksum": "8ed96be61499d85c685b0fa3fcde2b1b",
     "grade": true,
     "grade_id": "cell-f9bea0c2c54031a4",
     "locked": true,
     "points": 0.5,
     "schema_version": 3,
     "solution": false,
     "task": false
    },
    "tags": []
   },
   "outputs": [
    {
     "name": "stdout",
     "output_type": "stream",
     "text": [
      "WARNING!\n",
      "Possible answers are 1, 2, 3, 4 and 5.\n"
     ]
    }
   ],
   "source": [
    "if not answer_one in [1, 2, 3, 4, 5]: \n",
    "    print('WARNING!\\nPossible answers are 1, 2, 3, 4 and 5.')"
   ]
  },
  {
   "cell_type": "code",
   "execution_count": 17,
   "metadata": {
    "deletable": false,
    "editable": false,
    "nbgrader": {
     "cell_type": "code",
     "checksum": "cd80f60edfbc12dc8d8a8feab63314a4",
     "grade": true,
     "grade_id": "cell-a0936b6732ff8396",
     "locked": true,
     "points": 0.5,
     "schema_version": 3,
     "solution": false,
     "task": false
    },
    "tags": []
   },
   "outputs": [
    {
     "name": "stdout",
     "output_type": "stream",
     "text": [
      "WARNING!\n",
      "Possible answers are 1, 2, 3, 4 and 5.\n"
     ]
    }
   ],
   "source": [
    "if not answer_two in [1, 2, 3, 4, 5]: \n",
    "    print('WARNING!\\nPossible answers are 1, 2, 3, 4 and 5.')"
   ]
  },
  {
   "cell_type": "markdown",
   "metadata": {
    "deletable": false,
    "editable": false,
    "nbgrader": {
     "cell_type": "markdown",
     "checksum": "b532e829ecfc74add333ca4b2b61b64b",
     "grade": false,
     "grade_id": "cell-bd6188f82a7ed79d",
     "locked": true,
     "schema_version": 3,
     "solution": false,
     "task": false
    },
    "user_expressions": []
   },
   "source": [
    "(modulation)=\n",
    "## 2.A. Modulation (1 point)\n",
    "[Back to table of contents](#ToC_2_Fourier_transform)\n",
    "\n",
    "\n",
    "In this section we will explore the modulation property of the FT, a property that has wide applications in digital communications. Modulation is mathematically expressed as:\n",
    "\n",
    "$$e^{j\\langle\\textbf{w}_0,\\textbf{x}\\rangle}f(\\textbf{x})\\stackrel{\\mathcal{F}}{\\longleftrightarrow}\\hat{f}(\\textbf{w}-\\textbf{w}_0).$$\n",
    "\n",
    "Basically, performing an element-wise multiplication of an image with a plane wave of frequency $\\textbf{w}_0=\\frac{2\\pi}{T}[\\cos(\\alpha), \\sin(\\alpha)]$, will shift the frequencies of the image by $\\textbf{w}_0$. This is very useful in digital communications, as the image can be encoded and transmitted using $\\textbf{w}_0$, and then decoded back into the original. \n",
    "\n",
    "We already implemented the wave creation. In the next cell, **for 1 point**, you only need to implement the multiplication and Fourier tranformation to finish this function. \n",
    "\n",
    "The input parameters:\n",
    "\n",
    " * `img` : input image,\n",
    " * `T` : the period of the plane wave,\n",
    " * `alpha` : the angle of the plane wave.\n",
    "\n",
    "The function outputs `mod_img` and `mag_ft`, which correspond to the modulated image in the spatial domain and the **magnitude** of its *FT* in dB, respectively. "
   ]
  },
  {
   "cell_type": "code",
   "execution_count": 18,
   "metadata": {
    "deletable": false,
    "nbgrader": {
     "cell_type": "code",
     "checksum": "a65136bb13317eedea33c4c47d766ee4",
     "grade": false,
     "grade_id": "cell-4b3229b8b2c360e8",
     "locked": false,
     "schema_version": 3,
     "solution": true,
     "task": false
    },
    "tags": []
   },
   "outputs": [],
   "source": [
    "def modulate(img, T, alpha):\n",
    "    # Declare outputs \n",
    "    mod_img = np.zeros(img.shape)\n",
    "    mag_ft = np.zeros(img.shape)\n",
    "    \n",
    "    # Generate plane wave\n",
    "    plane_wave = create_wave(img.max(), T, alpha, deg=True)\n",
    "    \n",
    "    # YOUR CODE HERE\n",
    "    \n",
    "    return mod_img, mag_ft "
   ]
  },
  {
   "cell_type": "markdown",
   "metadata": {
    "deletable": false,
    "editable": false,
    "nbgrader": {
     "cell_type": "markdown",
     "checksum": "721860104499d14356427c4ed80498dc",
     "grade": false,
     "grade_id": "cell-a27980501c82cc3b",
     "locked": true,
     "schema_version": 3,
     "solution": false,
     "task": false
    }
   },
   "source": [
    "Now run the next cell for a sanity check on your function. Do you realize why the two values we are testing should be $\\pm 255\\times255$?"
   ]
  },
  {
   "cell_type": "code",
   "execution_count": 19,
   "metadata": {
    "deletable": false,
    "editable": false,
    "nbgrader": {
     "cell_type": "code",
     "checksum": "e92adfdf53b8e8fcb5cce4403b6edab4",
     "grade": true,
     "grade_id": "cell-ee9658da56294150",
     "locked": true,
     "points": 1,
     "schema_version": 3,
     "solution": false,
     "task": false
    },
    "tags": []
   },
   "outputs": [
    {
     "name": "stdout",
     "output_type": "stream",
     "text": [
      "WARNING!\n",
      "The value in the pixel [32, 168] is not correct!\n"
     ]
    }
   ],
   "source": [
    "mod_img, mag_ft = modulate(car, 64, 90)\n",
    "if mod_img[32, 168] != -255*255:\n",
    "    print('WARNING!\\nThe value in the pixel [32, 168] is not correct!')\n",
    "elif mod_img[64, 147] != 255*255:\n",
    "    print('WARNING!\\nThe value in the pixel [64, 147] is not correct!')\n",
    "else:\n",
    "    print('Good job! Your function passed this initial sanity check.')"
   ]
  },
  {
   "cell_type": "markdown",
   "metadata": {
    "deletable": false,
    "editable": false,
    "nbgrader": {
     "cell_type": "markdown",
     "checksum": "cee3b1d02b3414a11ec05181528cef82",
     "grade": false,
     "grade_id": "cell-21e016a01eebdbde",
     "locked": true,
     "schema_version": 3,
     "solution": false,
     "task": false
    }
   },
   "source": [
    "Great, if you passed the previous sanity check, your function is probably correct. Now it's time for the visual test. In the next cell we have declared 2 sliders, one for the period `T` and one for the angle `alpha` that will define the modulation plane wave. \n",
    "\n",
    "Run the next cell, and make sure that the experimental results match the equation presented in section [2.A. Modulation](#2.A.-Modulation-(1-point)). Go to the menu `Extra Widgets` to play with $T$ and $\\alpha$."
   ]
  },
  {
   "cell_type": "code",
   "execution_count": 20,
   "metadata": {
    "deletable": false,
    "editable": false,
    "nbgrader": {
     "cell_type": "code",
     "checksum": "fe93edc4769f94c1f085d520f1061dfe",
     "grade": false,
     "grade_id": "cell-b5885b2ec8cd35d8",
     "locked": true,
     "schema_version": 3,
     "solution": false,
     "task": false
    },
    "tags": []
   },
   "outputs": [
    {
     "data": {
      "application/vnd.jupyter.widget-view+json": {
       "model_id": "50ae5891c2c24c43b5ec4764e80cf21a",
       "version_major": 2,
       "version_minor": 0
      },
      "text/plain": [
       "HBox(children=(Output(layout=Layout(width='80%')), Output(), Output(layout=Layout(width='25%'))))"
      ]
     },
     "metadata": {},
     "output_type": "display_data"
    }
   ],
   "source": [
    "# Declare necessary widgets\n",
    "T_slider = widgets.IntSlider(value=64, min=0, max=128, step=2, description='T')\n",
    "alpha_slider = widgets.IntSlider(value=90, min=-90, max=90, step=5, description='\\u03b1')\n",
    "button = widgets.Button(description='Modulate')\n",
    "\n",
    "# declare the button callback\n",
    "def modulation_callback(img):\n",
    "    T = T_slider.value\n",
    "    alpha = alpha_slider.value\n",
    "    mod_img, _ = modulate(img, T, alpha)\n",
    "    return mod_img\n",
    "\n",
    "def ft_callback(img):\n",
    "    T = T_slider.value\n",
    "    alpha = alpha_slider.value\n",
    "    _, mag_ft = modulate(img, T, alpha)\n",
    "    return mag_ft\n",
    "\n",
    "# Visualize\n",
    "plt.close('all')\n",
    "mod_viewer = viewer([car, car], title=['Modulated car', 'Modulated car FT'], new_widgets=[T_slider, alpha_slider, button], \n",
    "                    callbacks=[modulation_callback, ft_callback], widgets=True, subplots=(1,2))\n",
    "button.click()"
   ]
  },
  {
   "cell_type": "markdown",
   "metadata": {
    "deletable": false,
    "editable": false,
    "kernel": "Python3",
    "nbgrader": {
     "cell_type": "markdown",
     "checksum": "499041d32699ba08506bc3cd5dc1157f",
     "grade": false,
     "grade_id": "cell-fa915af9bcffb903",
     "locked": true,
     "schema_version": 3,
     "solution": false,
     "task": false
    },
    "user_expressions": []
   },
   "source": [
    "(reconstruction-of-an-image)=\n",
    "# 3. Reconstruction of an image (3 points)\n",
    "[Back to table of contents](#ToC_2_Fourier_transform)\n",
    "\n",
    "As you learned in the course, it is possible to reconstruct an image from its Fourier transform by performing the inverse Fourier transform. In the next exercise we will investigate the role that the magnitude and phase of the *FT* has on the reconstruction of an image. For this we first need to create a function that reconstructs an image from its *FT* magnitude (in $\\mathrm{dB}$) and phase. Run the next cell to define the function `reconstruct` and make sure that you understand every line of the code."
   ]
  },
  {
   "cell_type": "code",
   "execution_count": 21,
   "metadata": {
    "deletable": false,
    "editable": false,
    "kernel": "SoS",
    "nbgrader": {
     "cell_type": "code",
     "checksum": "6a474ac4f92693ec17714d8dfd280196",
     "grade": false,
     "grade_id": "cell-135e619da9bddb99",
     "locked": true,
     "schema_version": 3,
     "solution": false,
     "task": false
    },
    "tags": []
   },
   "outputs": [],
   "source": [
    "# Function that reconstructs an image from its FT magnitude (in dB) and phase\n",
    "def reconstruct(mag, ph):\n",
    "    # Since the magnitude is in dB we first need to convert it back\n",
    "    mag = 10 ** (mag / 20)\n",
    "    # Now we can restore the complex FT from the magnitude and phase using the polar representation\n",
    "    ft = mag * np.exp(1j * ph)\n",
    "    # Having the complex FT we can simply use the inverse_fourier function that we defined above to reconstruct the image\n",
    "    return inverse_fourier(ft)"
   ]
  },
  {
   "cell_type": "markdown",
   "metadata": {
    "deletable": false,
    "editable": false,
    "kernel": "SoS",
    "nbgrader": {
     "cell_type": "markdown",
     "checksum": "88b8150094cfae8997a791648aa849b1",
     "grade": false,
     "grade_id": "cell-760695d66a5c92a8",
     "locked": true,
     "schema_version": 3,
     "solution": false,
     "task": false
    },
    "user_expressions": []
   },
   "source": [
    "Let's see if the function works. Run the cell below to reconstruct the car image from its magnitude and phase, and visualize the result. \n",
    "\n",
    ":::{important}\n",
    "If the reconstruction is not near perfect, check again your functions `magnitude` and `phase`. You will need both functions to answer the next questions. \n",
    ":::"
   ]
  },
  {
   "cell_type": "code",
   "execution_count": 22,
   "metadata": {
    "deletable": false,
    "editable": false,
    "kernel": "SoS",
    "nbgrader": {
     "cell_type": "code",
     "checksum": "fdd0a4b53487acc7de6a592d63306fb7",
     "grade": false,
     "grade_id": "cell-d3de1befc78e32cc",
     "locked": true,
     "schema_version": 3,
     "solution": false,
     "task": false
    },
    "tags": []
   },
   "outputs": [
    {
     "ename": "TypeError",
     "evalue": "unsupported operand type(s) for /: 'NoneType' and 'int'",
     "output_type": "error",
     "traceback": [
      "\u001b[0;31m---------------------------------------------------------------------------\u001b[0m",
      "\u001b[0;31mTypeError\u001b[0m                                 Traceback (most recent call last)",
      "Cell \u001b[0;32mIn[22], line 2\u001b[0m\n\u001b[1;32m      1\u001b[0m \u001b[38;5;66;03m# Reconstruct the car image\u001b[39;00m\n\u001b[0;32m----> 2\u001b[0m car_reconstructed \u001b[38;5;241m=\u001b[39m \u001b[43mreconstruct\u001b[49m\u001b[43m(\u001b[49m\u001b[43mcar_ft_mag\u001b[49m\u001b[43m,\u001b[49m\u001b[43m \u001b[49m\u001b[43mcar_ft_ph\u001b[49m\u001b[43m)\u001b[49m\n\u001b[1;32m      3\u001b[0m \u001b[38;5;66;03m# Display the result\u001b[39;00m\n\u001b[1;32m      4\u001b[0m plt\u001b[38;5;241m.\u001b[39mclose(\u001b[38;5;124m'\u001b[39m\u001b[38;5;124mall\u001b[39m\u001b[38;5;124m'\u001b[39m)\n",
      "Cell \u001b[0;32mIn[21], line 4\u001b[0m, in \u001b[0;36mreconstruct\u001b[0;34m(mag, ph)\u001b[0m\n\u001b[1;32m      2\u001b[0m \u001b[38;5;28;01mdef\u001b[39;00m \u001b[38;5;21mreconstruct\u001b[39m(mag, ph):\n\u001b[1;32m      3\u001b[0m     \u001b[38;5;66;03m# Since the magnitude is in dB we first need to convert it back\u001b[39;00m\n\u001b[0;32m----> 4\u001b[0m     mag \u001b[38;5;241m=\u001b[39m \u001b[38;5;241m10\u001b[39m \u001b[38;5;241m*\u001b[39m\u001b[38;5;241m*\u001b[39m (\u001b[43mmag\u001b[49m\u001b[43m \u001b[49m\u001b[38;5;241;43m/\u001b[39;49m\u001b[43m \u001b[49m\u001b[38;5;241;43m20\u001b[39;49m)\n\u001b[1;32m      5\u001b[0m     \u001b[38;5;66;03m# Now we can restore the complex FT from the magnitude and phase using the polar representation\u001b[39;00m\n\u001b[1;32m      6\u001b[0m     ft \u001b[38;5;241m=\u001b[39m mag \u001b[38;5;241m*\u001b[39m np\u001b[38;5;241m.\u001b[39mexp(\u001b[38;5;241m1\u001b[39mj \u001b[38;5;241m*\u001b[39m ph)\n",
      "\u001b[0;31mTypeError\u001b[0m: unsupported operand type(s) for /: 'NoneType' and 'int'"
     ]
    }
   ],
   "source": [
    "# Reconstruct the car image\n",
    "car_reconstructed = reconstruct(car_ft_mag, car_ft_ph)\n",
    "# Display the result\n",
    "plt.close('all')\n",
    "ft_rec_vis = viewer([car, car_reconstructed], title=['Original car', 'Reconstructed car'], subplots=(1,2))\n",
    "np.testing.assert_array_almost_equal(car, car_reconstructed, err_msg='Check again your magnitude and phase functions!')"
   ]
  },
  {
   "cell_type": "markdown",
   "metadata": {
    "deletable": false,
    "editable": false,
    "kernel": "SoS",
    "nbgrader": {
     "cell_type": "markdown",
     "checksum": "8e9bd20e43de531dc9d8d26b85a25508",
     "grade": false,
     "grade_id": "cell-725bb93760893450",
     "locked": true,
     "schema_version": 3,
     "solution": false,
     "task": false
    }
   },
   "source": [
    "Since we didn't make any changes to the *FT* before the reconstruction, the reconstructed image should be (almost) identical to the original image (if it's not, you should have seen an error message). \n",
    "\n",
    "For the next excercise we will use the `pens` image in addition to the car image. Run the next cell to visualize it again. Moreover, we will plot its *FT*'s magnitude and phase (browse through the images with the buttons `Next` & `Prev`). This will help you to answer the upcoming questions."
   ]
  },
  {
   "cell_type": "code",
   "execution_count": 23,
   "metadata": {
    "deletable": false,
    "editable": false,
    "kernel": "SoS",
    "nbgrader": {
     "cell_type": "code",
     "checksum": "51e991a37294ad90cb1851ca0bbca2a7",
     "grade": false,
     "grade_id": "cell-f2671c4dcbeb39a8",
     "locked": true,
     "schema_version": 3,
     "solution": false,
     "task": false
    }
   },
   "outputs": [
    {
     "ename": "TypeError",
     "evalue": "Make sure that all your images are numpy arrays. Use the method np.array(object).",
     "output_type": "error",
     "traceback": [
      "\u001b[0;31m---------------------------------------------------------------------------\u001b[0m",
      "\u001b[0;31mTypeError\u001b[0m                                 Traceback (most recent call last)",
      "Cell \u001b[0;32mIn[23], line 9\u001b[0m\n\u001b[1;32m      7\u001b[0m \u001b[38;5;66;03m# Visualize\u001b[39;00m\n\u001b[1;32m      8\u001b[0m plt\u001b[38;5;241m.\u001b[39mclose(\u001b[38;5;124m'\u001b[39m\u001b[38;5;124mall\u001b[39m\u001b[38;5;124m'\u001b[39m)\n\u001b[0;32m----> 9\u001b[0m pens_vis \u001b[38;5;241m=\u001b[39m \u001b[43mviewer\u001b[49m\u001b[43m(\u001b[49m\u001b[43m[\u001b[49m\u001b[43mpens\u001b[49m\u001b[43m,\u001b[49m\u001b[43m \u001b[49m\u001b[43mpens_ft_mag\u001b[49m\u001b[43m,\u001b[49m\u001b[43m \u001b[49m\u001b[43mpens_ft_ph\u001b[49m\u001b[43m]\u001b[49m\u001b[43m,\u001b[49m\u001b[43m \u001b[49m\u001b[43mwidgets\u001b[49m\u001b[38;5;241;43m=\u001b[39;49m\u001b[38;5;28;43;01mTrue\u001b[39;49;00m\u001b[43m)\u001b[49m\n",
      "File \u001b[0;32m/opt/jlab-env/lib/python3.11/site-packages/interactive_kit/imageviewer.py:331\u001b[0m, in \u001b[0;36mImageViewer.__init__\u001b[0;34m(self, image_list, **kwargs)\u001b[0m\n\u001b[1;32m    329\u001b[0m         \u001b[38;5;28mself\u001b[39m\u001b[38;5;241m.\u001b[39mmultiple_lists \u001b[38;5;241m=\u001b[39m \u001b[38;5;28;01mTrue\u001b[39;00m\n\u001b[1;32m    330\u001b[0m     \u001b[38;5;28;01melif\u001b[39;00m \u001b[38;5;129;01mnot\u001b[39;00m(\u001b[38;5;28mall\u001b[39m(\u001b[38;5;28misinstance\u001b[39m(img, np\u001b[38;5;241m.\u001b[39mndarray) \u001b[38;5;28;01mfor\u001b[39;00m img \u001b[38;5;129;01min\u001b[39;00m image_list)):\n\u001b[0;32m--> 331\u001b[0m         \u001b[38;5;28;01mraise\u001b[39;00m \u001b[38;5;167;01mTypeError\u001b[39;00m(\u001b[38;5;124m'\u001b[39m\u001b[38;5;124mMake sure that all your images are numpy arrays. Use the method np.array(object).\u001b[39m\u001b[38;5;124m'\u001b[39m)\n\u001b[1;32m    332\u001b[0m \u001b[38;5;66;03m# Raise exception otherwise. if object type not numpy array nor list.\u001b[39;00m\n\u001b[1;32m    333\u001b[0m \u001b[38;5;28;01melse\u001b[39;00m:\n\u001b[1;32m    334\u001b[0m     \u001b[38;5;28;01mraise\u001b[39;00m \u001b[38;5;167;01mException\u001b[39;00m(\u001b[38;5;124m'\u001b[39m\u001b[38;5;124mPlease give the first argument as a list of numpy arrays.\u001b[39m\u001b[38;5;124m'\u001b[39m)\n",
      "\u001b[0;31mTypeError\u001b[0m: Make sure that all your images are numpy arrays. Use the method np.array(object)."
     ]
    }
   ],
   "source": [
    "# Generate FT of the pens image\n",
    "pens_ft = fourier(pens)\n",
    "# Extract the magnitude and phase\n",
    "pens_ft_mag = magnitude(pens_ft)\n",
    "pens_ft_ph = phase(pens_ft)\n",
    "\n",
    "# Visualize\n",
    "plt.close('all')\n",
    "pens_vis = viewer([pens, pens_ft_mag, pens_ft_ph], widgets=True)"
   ]
  },
  {
   "cell_type": "markdown",
   "metadata": {
    "deletable": false,
    "editable": false,
    "kernel": "SoS",
    "nbgrader": {
     "cell_type": "markdown",
     "checksum": "b1a155e102d048242ca24085147f8022",
     "grade": false,
     "grade_id": "cell-3632f02d41668d81",
     "locked": true,
     "schema_version": 3,
     "solution": false,
     "task": false
    }
   },
   "source": [
    "Now lets see what happens if we use the magnitude of one image and the phase of another image to do the reconstruction. What do you think will happen? Run the cell below and observe the results. Try to make a conclusion on what type of information is stored in the phase of the *FT*."
   ]
  },
  {
   "cell_type": "code",
   "execution_count": 24,
   "metadata": {
    "deletable": false,
    "editable": false,
    "kernel": "SoS",
    "nbgrader": {
     "cell_type": "code",
     "checksum": "c27942798e0d825b27d479d55623f2b7",
     "grade": false,
     "grade_id": "cell-edfa23d685d4fef9",
     "locked": true,
     "schema_version": 3,
     "solution": false,
     "task": false
    }
   },
   "outputs": [
    {
     "ename": "TypeError",
     "evalue": "unsupported operand type(s) for /: 'NoneType' and 'int'",
     "output_type": "error",
     "traceback": [
      "\u001b[0;31m---------------------------------------------------------------------------\u001b[0m",
      "\u001b[0;31mTypeError\u001b[0m                                 Traceback (most recent call last)",
      "Cell \u001b[0;32mIn[24], line 2\u001b[0m\n\u001b[1;32m      1\u001b[0m \u001b[38;5;66;03m# Reconstruct an image with the magnitude of car and phase of pens\u001b[39;00m\n\u001b[0;32m----> 2\u001b[0m car_pens \u001b[38;5;241m=\u001b[39m \u001b[43mreconstruct\u001b[49m\u001b[43m(\u001b[49m\u001b[43mcar_ft_mag\u001b[49m\u001b[43m,\u001b[49m\u001b[43m \u001b[49m\u001b[43mpens_ft_ph\u001b[49m\u001b[43m)\u001b[49m\n\u001b[1;32m      3\u001b[0m \u001b[38;5;66;03m# Reconstruct an image with the magnitude of pens and phase of car\u001b[39;00m\n\u001b[1;32m      4\u001b[0m pens_car \u001b[38;5;241m=\u001b[39m reconstruct(pens_ft_mag, car_ft_ph)\n",
      "Cell \u001b[0;32mIn[21], line 4\u001b[0m, in \u001b[0;36mreconstruct\u001b[0;34m(mag, ph)\u001b[0m\n\u001b[1;32m      2\u001b[0m \u001b[38;5;28;01mdef\u001b[39;00m \u001b[38;5;21mreconstruct\u001b[39m(mag, ph):\n\u001b[1;32m      3\u001b[0m     \u001b[38;5;66;03m# Since the magnitude is in dB we first need to convert it back\u001b[39;00m\n\u001b[0;32m----> 4\u001b[0m     mag \u001b[38;5;241m=\u001b[39m \u001b[38;5;241m10\u001b[39m \u001b[38;5;241m*\u001b[39m\u001b[38;5;241m*\u001b[39m (\u001b[43mmag\u001b[49m\u001b[43m \u001b[49m\u001b[38;5;241;43m/\u001b[39;49m\u001b[43m \u001b[49m\u001b[38;5;241;43m20\u001b[39;49m)\n\u001b[1;32m      5\u001b[0m     \u001b[38;5;66;03m# Now we can restore the complex FT from the magnitude and phase using the polar representation\u001b[39;00m\n\u001b[1;32m      6\u001b[0m     ft \u001b[38;5;241m=\u001b[39m mag \u001b[38;5;241m*\u001b[39m np\u001b[38;5;241m.\u001b[39mexp(\u001b[38;5;241m1\u001b[39mj \u001b[38;5;241m*\u001b[39m ph)\n",
      "\u001b[0;31mTypeError\u001b[0m: unsupported operand type(s) for /: 'NoneType' and 'int'"
     ]
    }
   ],
   "source": [
    "# Reconstruct an image with the magnitude of car and phase of pens\n",
    "car_pens = reconstruct(car_ft_mag, pens_ft_ph)\n",
    "# Reconstruct an image with the magnitude of pens and phase of car\n",
    "pens_car = reconstruct(pens_ft_mag, car_ft_ph)\n",
    "# Visualize the results\n",
    "plt.close('all')\n",
    "rec_comp_vis = viewer([car_pens, pens_car], title=['Magn. = car, Phase = pens', 'Magn. = pens, Phase = car'], subplots=(1,2))"
   ]
  },
  {
   "cell_type": "markdown",
   "metadata": {
    "deletable": false,
    "editable": false,
    "kernel": "SoS",
    "nbgrader": {
     "cell_type": "markdown",
     "checksum": "1c0412e4461e10fb89132ea83a3e9eed",
     "grade": false,
     "grade_id": "cell-ba7b60defd1c42b0",
     "locked": true,
     "schema_version": 3,
     "solution": false,
     "task": false
    },
    "user_expressions": []
   },
   "source": [
    "### Multiple choice question\n",
    "\n",
    "For **0.5 points**, what type of information of the image is stored in the **phase** of the FT that is **not stored** in the magnitude? \n",
    "\n",
    "\n",
    "1. The spatial frequencies contained in the image.\n",
    "2. The light intensity of each pixel.\n",
    "3. The location of objects (i.e. sinusoids) in the image.\n",
    "\n",
    "Modify the variable `answer`in the next cell to reflect your choice. The second cell is for you to check that you have entered a valid answer.\n",
    "\n",
    ":::{hint}\n",
    "If you have doubts, you can go back to the widget right before [section 2](#understanding-the-fourier-transform). Moreover, look carefully at the *periodic patterns* in the two images above.\n",
    ":::"
   ]
  },
  {
   "cell_type": "code",
   "execution_count": 25,
   "metadata": {
    "deletable": false,
    "kernel": "SoS",
    "nbgrader": {
     "cell_type": "code",
     "checksum": "1669be8b9f5cd78fa45b864af90576c1",
     "grade": false,
     "grade_id": "ans-7e7c03216cfd90a0",
     "locked": false,
     "schema_version": 3,
     "solution": true,
     "task": false
    }
   },
   "outputs": [],
   "source": [
    "# Assign your answer to this variable\n",
    "answer = None\n",
    "# YOUR CODE HERE"
   ]
  },
  {
   "cell_type": "code",
   "execution_count": 26,
   "metadata": {
    "deletable": false,
    "editable": false,
    "kernel": "SoS",
    "nbgrader": {
     "cell_type": "code",
     "checksum": "db9d1a31a20d9bb4fe0cae9322f074b9",
     "grade": true,
     "grade_id": "grad-5da443479b1400ff",
     "locked": true,
     "points": 1,
     "schema_version": 3,
     "solution": false,
     "task": false
    }
   },
   "outputs": [
    {
     "name": "stdout",
     "output_type": "stream",
     "text": [
      "WARNING!\n",
      "Valid answers are 1, 2 or 3.\n"
     ]
    }
   ],
   "source": [
    "# Sanity check\n",
    "if not answer in [1, 2, 3]:\n",
    "    print('WARNING!\\nValid answers are 1, 2 or 3.')"
   ]
  },
  {
   "cell_type": "markdown",
   "metadata": {
    "deletable": false,
    "editable": false,
    "kernel": "Python3",
    "nbgrader": {
     "cell_type": "markdown",
     "checksum": "6227e3814c09423e549957fcd0a31bd0",
     "grade": false,
     "grade_id": "cell-9a92d5cbd8420331",
     "locked": true,
     "schema_version": 3,
     "solution": false,
     "task": false
    },
    "user_expressions": []
   },
   "source": [
    "(reconstruction-error)=\n",
    "## 3.A. Reconstruction error (1 point)\n",
    "[Back to table of contents](#ToC_2_Fourier_transform)\n",
    "\n",
    "How many Fourier coefficients do we really need to keep to still have the basic information present in an image? Do all coefficients contribute the same? In order to quantify _how good_ a certain reconstruction is, we will use a metric to assess the quality of the reconstruction.\n",
    "\n",
    "The metric we use is the normalized mean square error (NMSE) in dB. It calculates the difference between an image $f$ of size $K\\times L$ and its reconstruction $g$ normalizes by the total power of $f$.\n",
    "\n",
    "$$\\operatorname{NMSE}_f(g) =  \\frac{\\sum_{k=1}^{K} \\sum_{l=1}^L (g[k,l] - f[k,l])^2}{\\sum_{m=1}^{K} \\sum_{n=1}^L f[m,n]^2}\\mbox{, and } \\operatorname{NMSE}_f(g)~[\\mathrm{dB}] = 10 \\log_{10}\\left(\\operatorname{NMSE}_f(g)\\right).$$\n",
    "\n",
    "This makes it easier for one to observe, for example, when the error has doubled ($+3~\\mathrm{dB}$) or halved ($-3~\\mathrm{dB}$) in plots.\n",
    "\n",
    "For **1 point**, complete the function `nmse(f, g)` in the cell below according to the equation given above, where `f` and `g` are two NumPy arrays of the same shape.\n",
    "\n",
    ":::{warning}\n",
    "Remember that your function should **not use `for` loops** to iterate through images (this will give you $0$ points), and should work for NumPy arrays of any shape.\n",
    ":::"
   ]
  },
  {
   "cell_type": "code",
   "execution_count": 27,
   "metadata": {
    "deletable": false,
    "kernel": "SoS",
    "nbgrader": {
     "cell_type": "code",
     "checksum": "38fd67ee7d129dbeb60270ebe95c11b1",
     "grade": false,
     "grade_id": "ans-8dded687cf67f4f1",
     "locked": false,
     "schema_version": 3,
     "solution": true,
     "task": false
    }
   },
   "outputs": [],
   "source": [
    "# Function that calculates the Normalized Mean Square Error in dB\n",
    "def nmse(f, g):\n",
    "    # Declare the output variable\n",
    "    output = None\n",
    "    \n",
    "    # YOUR CODE HERE\n",
    "    \n",
    "    # Return MSE\n",
    "    return output"
   ]
  },
  {
   "cell_type": "code",
   "execution_count": 28,
   "metadata": {
    "deletable": false,
    "editable": false,
    "kernel": "SoS",
    "nbgrader": {
     "cell_type": "code",
     "checksum": "8eb99e614626a8f48a45e7367729ff96",
     "grade": true,
     "grade_id": "grad-f43f5970d01e3a71",
     "locked": true,
     "points": 1,
     "schema_version": 3,
     "solution": false,
     "task": false
    }
   },
   "outputs": [
    {
     "name": "stdout",
     "output_type": "stream",
     "text": [
      "The error between two equal images should be zero. In dB -infinity.\n"
     ]
    }
   ],
   "source": [
    "# Sanity check (do not worry about the divide by zero note)\n",
    "if  nmse(impulse, impulse) != -np.infty: \n",
    "    print('The error between two equal images should be zero. In dB -infinity.')\n",
    "# Check your function on the hrct image\n",
    "elif nmse(impulse, 0) != 0:\n",
    "    print('The error of any image and a zero-image should be 1. In dB, 0.')\n",
    "else:\n",
    "    print('Nice, your function seems to work! Do not worry about the divide by zero warning!')"
   ]
  },
  {
   "cell_type": "markdown",
   "metadata": {
    "deletable": false,
    "editable": false,
    "kernel": "SoS",
    "nbgrader": {
     "cell_type": "markdown",
     "checksum": "0407ac4b588a1d64a3f6cbd1595e8bb0",
     "grade": false,
     "grade_id": "cell-0a2def51f8d1b167",
     "locked": true,
     "schema_version": 3,
     "solution": false,
     "task": false
    },
    "user_expressions": []
   },
   "source": [
    "(fourier-components)=\n",
    "## 3.B. Fourier components (1 point)\n",
    "[Back to table of contents](#ToC_2_Fourier_transform)\n",
    "\n",
    "In this section we look into the reconstruction process of an image from part of its Fourier components. This touches a topic that will continue to appear in IP1 and IP2: how much does a given transform compress an image? \n",
    "\n",
    "We define a function `clip_fourier(img, percent)` that reconstructs an image for only `percent`$\\%$ of its Fourier coefficients. If `largest=True`, only the largest are kept, while \n",
    "if `largest=False`, they are excluded and only all the rest are kept. This will illustrate the uneven distribution of information contained in the Fourier components.\n",
    "\n",
    "Run the next cell to define the function `clip_fourier`."
   ]
  },
  {
   "cell_type": "code",
   "execution_count": 29,
   "metadata": {
    "deletable": false,
    "editable": false,
    "kernel": "SoS",
    "nbgrader": {
     "cell_type": "code",
     "checksum": "9b35cc3d2e031d16fd585da529da36dc",
     "grade": false,
     "grade_id": "cell-f35ca285f774a8b7",
     "locked": true,
     "schema_version": 3,
     "solution": false,
     "task": false
    }
   },
   "outputs": [],
   "source": [
    " def clip_fourier(img, percent, largest=True, perc=True):\n",
    "    # Get number of coefficients to keep\n",
    "    if perc:\n",
    "        # Extract from percentage\n",
    "        n = np.round(np.prod(img.shape) * percent / 100).astype(int)\n",
    "    else: \n",
    "        # Pass directly\n",
    "        n = percent\n",
    "    # Get ft of img\n",
    "    img_ft = np.fft.fft2(img)\n",
    "    # Get the threshold value. To do this, we order the Fourier coefficients \n",
    "    # from low to high and select the n-to-last ([-n]) coefficient\n",
    "    threshold = np.sort(np.abs(img_ft.flatten()))[-n]\n",
    "    if largest == True:\n",
    "        # Get the inverse Fourier transform of the thresholded Fourier transform\n",
    "        clipped_ift = np.real(np.fft.ifft2((np.abs(img_ft) >= threshold) * img_ft))\n",
    "    else:\n",
    "        # Get the inverse Fourier transform of the thresholded Fourier transform\n",
    "        clipped_ift = np.real(np.fft.ifft2((np.abs(img_ft) < threshold) * img_ft))\n",
    "    return clipped_ift"
   ]
  },
  {
   "cell_type": "markdown",
   "metadata": {
    "deletable": false,
    "editable": false,
    "kernel": "SoS",
    "nbgrader": {
     "cell_type": "markdown",
     "checksum": "9f33cddbab02fab2d64ece089435afb3",
     "grade": false,
     "grade_id": "cell-9445799bbeb15ffe",
     "locked": true,
     "schema_version": 3,
     "solution": false,
     "task": false
    }
   },
   "source": [
    "Let's use the error metric `nmse` defined before to illustrate the difference in information contained in the few largest Fourier components compared to the information contained in the rest. In the cell below we will reconstruct the image `zebra` using: \n",
    " * only the `percent` largest Fourier components, and \n",
    " * using the `100-percent` smallest components. \n",
    "\n",
    "Then we will compare the reconstruction error by applying the `nmse` function defined above with both reconstructions. Run the cell below to see the different reconstruction errors. Play with the variable `percent` and see what happens."
   ]
  },
  {
   "cell_type": "code",
   "execution_count": 30,
   "metadata": {
    "kernel": "SoS"
   },
   "outputs": [
    {
     "ename": "TypeError",
     "evalue": "unsupported format string passed to NoneType.__format__",
     "output_type": "error",
     "traceback": [
      "\u001b[0;31m---------------------------------------------------------------------------\u001b[0m",
      "\u001b[0;31mTypeError\u001b[0m                                 Traceback (most recent call last)",
      "Cell \u001b[0;32mIn[30], line 14\u001b[0m\n\u001b[1;32m     12\u001b[0m error_s \u001b[38;5;241m=\u001b[39m nmse(zebra, zebra_smallest)\n\u001b[1;32m     13\u001b[0m \u001b[38;5;66;03m# Compare the error\u001b[39;00m\n\u001b[0;32m---> 14\u001b[0m \u001b[38;5;28mprint\u001b[39m(\u001b[38;5;124mf\u001b[39m\u001b[38;5;124m'\u001b[39m\u001b[38;5;124mThe reconstruction error when using the \u001b[39m\u001b[38;5;132;01m{\u001b[39;00mpercent\u001b[38;5;132;01m}\u001b[39;00m\u001b[38;5;124m% largest  components: NMSE = \u001b[39m\u001b[38;5;132;01m{\u001b[39;00merror_l\u001b[38;5;132;01m:\u001b[39;00m\u001b[38;5;124m.4f\u001b[39m\u001b[38;5;132;01m}\u001b[39;00m\u001b[38;5;124m'\u001b[39m)\n\u001b[1;32m     15\u001b[0m \u001b[38;5;28mprint\u001b[39m(\u001b[38;5;124mf\u001b[39m\u001b[38;5;124m\"\u001b[39m\u001b[38;5;124mThe reconstruction error when using the \u001b[39m\u001b[38;5;132;01m{\u001b[39;00m\u001b[38;5;241m100\u001b[39m\u001b[38;5;250m \u001b[39m\u001b[38;5;241m-\u001b[39m\u001b[38;5;250m \u001b[39mpercent\u001b[38;5;132;01m}\u001b[39;00m\u001b[38;5;124m% smallest components: NMSE = \u001b[39m\u001b[38;5;132;01m{\u001b[39;00merror_s\u001b[38;5;132;01m:\u001b[39;00m\u001b[38;5;124m6.4f\u001b[39m\u001b[38;5;132;01m}\u001b[39;00m\u001b[38;5;124m\"\u001b[39m)\n\u001b[1;32m     16\u001b[0m \u001b[38;5;66;03m# Visualize images\u001b[39;00m\n",
      "\u001b[0;31mTypeError\u001b[0m: unsupported format string passed to NoneType.__format__"
     ]
    }
   ],
   "source": [
    "import warnings\n",
    "# Suppress traitlets deprecation warning - do not modify\n",
    "warnings.simplefilter(\"ignore\")\n",
    "\n",
    "percent = 20\n",
    "# First, reconstruct zebra using the largest components\n",
    "zebra_largest = clip_fourier(zebra, percent)\n",
    "# Reconstruct zebra using the smallest components\n",
    "zebra_smallest = clip_fourier(zebra, percent, largest=False)\n",
    "# Calculate the errors\n",
    "error_l = nmse(zebra, zebra_largest )\n",
    "error_s = nmse(zebra, zebra_smallest)\n",
    "# Compare the error\n",
    "print(f'The reconstruction error when using the {percent}% largest  components: NMSE = {error_l:.4f}')\n",
    "print(f\"The reconstruction error when using the {100 - percent}% smallest components: NMSE = {error_s:6.4f}\")\n",
    "# Visualize images\n",
    "view = viewer([zebra, zebra_largest, zebra_smallest], \n",
    "              title=['Original', f'{percent}% Largest Components', f'{100-percent}% Smallest Components'], \n",
    "              widgets=True)"
   ]
  },
  {
   "cell_type": "markdown",
   "metadata": {
    "deletable": false,
    "editable": false,
    "kernel": "SoS",
    "nbgrader": {
     "cell_type": "markdown",
     "checksum": "ab028d52c9cd1ba12e48e384a23b27aa",
     "grade": false,
     "grade_id": "cell-af1dad6c7d299b33",
     "locked": true,
     "schema_version": 3,
     "solution": false,
     "task": false
    }
   },
   "source": [
    "In the long run, this type of characteristics of transforms are explored using graphs like the one below, where the NMSE can be seen as a function of the percentage of the largest coefficients kept."
   ]
  },
  {
   "cell_type": "code",
   "execution_count": 31,
   "metadata": {
    "deletable": false,
    "editable": false,
    "kernel": "SoS",
    "nbgrader": {
     "cell_type": "code",
     "checksum": "42a398134d662067074ed05990c41398",
     "grade": false,
     "grade_id": "cell-9ee60b5808fea24d",
     "locked": true,
     "schema_version": 3,
     "solution": false,
     "task": false
    }
   },
   "outputs": [
    {
     "data": {
      "application/vnd.jupyter.widget-view+json": {
       "model_id": "e8a555617a1e4cfabec39660439dce7b",
       "version_major": 2,
       "version_minor": 0
      },
      "image/png": "[encoded data removed]",
      "text/html": [
       "\n",
       "            <div style=\"display: inline-block;\">\n",
       "                <div class=\"jupyter-widgets widget-label\" style=\"text-align: center;\">\n",
       "                    SCIPER: 262377\n",
       "                </div>\n",
       "                <img src='data:image/png;base64,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' width=800.0/>\n",
       "            </div>\n",
       "        "
      ],
      "text/plain": [
       "Canvas(toolbar=Toolbar(toolitems=[('Home', 'Reset original view', 'home', 'home'), ('Pan', 'Pan axes with left…"
      ]
     },
     "metadata": {},
     "output_type": "display_data"
    }
   ],
   "source": [
    "plt.close(\"all\")\n",
    "# Create figure\n",
    "fig = plt.figure(num=f\"SCIPER: {uid}\",figsize=(8,5));\n",
    "# Plot the NMSE vs kept coefficients curve\n",
    "plt.plot(np.arange(.5, 100, 5), [nmse(zebra, clip_fourier(zebra, perc)) for perc in np.arange(.5, 100, 5)], 'bo-');\n",
    "# Labels and titles for clear plotting\n",
    "plt.xlabel(\"Percentage of coefficients kept\"); plt.ylabel(\"NMSE [dB]\"); \n",
    "plt.xticks([0, 20, 40, 60, 80, 100], [f\"{perc}%\" for perc in [0, 20, 40, 60, 80, 100]]);\n",
    "plt.title(\"Reconstructing zebra with the largest Fourier coefs.\")\n",
    "plt.show()"
   ]
  },
  {
   "cell_type": "markdown",
   "metadata": {
    "deletable": false,
    "editable": false,
    "kernel": "Python3",
    "nbgrader": {
     "cell_type": "markdown",
     "checksum": "592e2bbc14e2f2f60c06adfe3bf2c612",
     "grade": false,
     "grade_id": "cell-aca9c2e4d2518fc6",
     "locked": true,
     "schema_version": 3,
     "solution": false,
     "task": false
    },
    "user_expressions": []
   },
   "source": [
    "Now we are going to create a widget to apply the function to an image and dynamically visualize its effect. \n",
    "\n",
    "We will define a slider to choose an integer `n` such that **the number of largest coefficients kept is $2^n$**. \n",
    "\n",
    ":::{note}\n",
    "The visual difference between the reconstructions is only apparent for percentages between $0\\%$ and $2\\%$, and very small steps would be needed. Keep in mind that you are not working with percentages anymore.\n",
    ":::\n",
    "\n",
    "We will also provide a checkbox to switch between the two modes of operation (keeping the largest, or keeping all the rest). Click the button `Apply` to apply `clip_fourier()` with the chosen parameter on the image. Run the next cell and click on `Extra Widgets` to use the widget. Explore the results carefuly."
   ]
  },
  {
   "cell_type": "code",
   "execution_count": null,
   "metadata": {
    "deletable": false,
    "editable": false,
    "kernel": "SoS",
    "nbgrader": {
     "cell_type": "code",
     "checksum": "1bb4c5fdedf4374af232bc3e8cbdb4a7",
     "grade": false,
     "grade_id": "cell-c4b7a812e25017e1",
     "locked": true,
     "schema_version": 3,
     "solution": false,
     "task": false
    }
   },
   "outputs": [],
   "source": [
    "# Declare slider and checkbox\n",
    "n_slider = widgets.IntSlider(value=16, min=0, max=16, step=1, description='n')\n",
    "checkbox = widgets.Checkbox(value=True, description='Use largest components')\n",
    "\n",
    "# Declare btutton\n",
    "button = widgets.Button(description='Apply')\n",
    "\n",
    "# declare the button callback\n",
    "def button_callback(image):\n",
    "    n      = n_slider.value\n",
    "    check  = checkbox.value\n",
    "    output = clip_fourier(image, 2**n, largest=check, perc=False)\n",
    "    return output\n",
    "\n",
    "# declare the button callback\n",
    "def button_callback_fourier(image):\n",
    "    n      = n_slider.value\n",
    "    check  = checkbox.value\n",
    "    output = clip_fourier(image, 2**n, largest=check, perc=False)\n",
    "    output = 10*np.log10(np.abs(np.fft.fftshift(np.fft.fft2(output)))+1e-3)\n",
    "    return output\n",
    "\n",
    "# visualize\n",
    "plt.close('all')\n",
    "cfourier_viewer = viewer([zebra, zebra], title=[\"Clipping the FT\", 'FT of the clipped image'], new_widgets=[n_slider, checkbox, button], callbacks = [button_callback, button_callback_fourier], widgets=True, normalize=True, subplots=(1,2))\n",
    "button.click()"
   ]
  },
  {
   "cell_type": "markdown",
   "metadata": {
    "deletable": false,
    "editable": false,
    "kernel": "Python3",
    "nbgrader": {
     "cell_type": "markdown",
     "checksum": "8b720fada328e8e47c1ad6b4ace700da",
     "grade": false,
     "grade_id": "cell-167b4895c49676c8",
     "locked": true,
     "schema_version": 3,
     "solution": false,
     "task": false
    }
   },
   "source": [
    "### Multiple Choice Question\n",
    "Congratulations! You made it to the end of the notebook. Now you just need to answer these last two MCQ questions (**0.5 points** each).\n",
    "\n",
    "* Q1: How many largest Fourier coefficients are required to start **clearly** noting a zebra in the image?\n",
    "    1. $2^{1}$\n",
    "    2. $2^{4}$\n",
    "    3. $2^{11}$\n",
    "    4. $2^{16}$\n",
    "\n",
    "Modify the variable `answer` to reflect your choice. The second cell will raise an error if you have not answered."
   ]
  },
  {
   "cell_type": "code",
   "execution_count": null,
   "metadata": {
    "deletable": false,
    "kernel": "SoS",
    "nbgrader": {
     "cell_type": "code",
     "checksum": "8876a88072894f67b27f315c31e7338e",
     "grade": false,
     "grade_id": "ans-ee040ab2d1398a93",
     "locked": false,
     "schema_version": 3,
     "solution": true,
     "task": false
    }
   },
   "outputs": [],
   "source": [
    "# assign your answer to this variable\n",
    "answer = None\n",
    "# YOUR CODE HERE"
   ]
  },
  {
   "cell_type": "code",
   "execution_count": null,
   "metadata": {
    "deletable": false,
    "editable": false,
    "kernel": "SoS",
    "nbgrader": {
     "cell_type": "code",
     "checksum": "203a4e079922d52ec2a91415a58aa95f",
     "grade": true,
     "grade_id": "grad-614f5700675a0260",
     "locked": true,
     "points": 0.5,
     "schema_version": 3,
     "solution": false,
     "task": false
    }
   },
   "outputs": [],
   "source": [
    "if not answer in [1, 2, 3, 4]: \n",
    "    print('WARNING!\\nPossible answers are 1, 2, 3 and 4.')"
   ]
  },
  {
   "cell_type": "markdown",
   "metadata": {
    "deletable": false,
    "editable": false,
    "kernel": "Python3",
    "nbgrader": {
     "cell_type": "markdown",
     "checksum": "4afd7e39cf02b4d7bdca943f890d20a4",
     "grade": false,
     "grade_id": "cell-fea792cc3a05b29b",
     "locked": true,
     "schema_version": 3,
     "solution": false,
     "task": false
    }
   },
   "source": [
    "* Q2: How is it possible to reconstruct a non-periodic object such as the zebra (there is only one zebra in the image) in an image from only periodic components?\n",
    "    1. The black and white stripes in the zebra make it possible.\n",
    "    2. The FT assumes that the image is periodic in space.\n",
    "    3. The biggest components of the FT are non-periodic, to account for such features in an image.\n",
    "\n",
    "Modify the variable `answer` to reflect your choice. The second cell will raise an error if you have not answered."
   ]
  },
  {
   "cell_type": "code",
   "execution_count": null,
   "metadata": {
    "deletable": false,
    "kernel": "SoS",
    "nbgrader": {
     "cell_type": "code",
     "checksum": "e02cbb923865a1c12ad140a428731c00",
     "grade": false,
     "grade_id": "ans-9a7c38e4ea3a4322",
     "locked": false,
     "schema_version": 3,
     "solution": true,
     "task": false
    }
   },
   "outputs": [],
   "source": [
    "# Assign your answer to this variable\n",
    "answer = None\n",
    "# YOUR CODE HERE"
   ]
  },
  {
   "cell_type": "code",
   "execution_count": null,
   "metadata": {
    "deletable": false,
    "editable": false,
    "kernel": "SoS",
    "nbgrader": {
     "cell_type": "code",
     "checksum": "bafc5041bfb196b0af8dad218c70fde9",
     "grade": true,
     "grade_id": "grad-08af35ecf1d0b4b8",
     "locked": true,
     "points": 0.5,
     "schema_version": 3,
     "solution": false,
     "task": false
    }
   },
   "outputs": [],
   "source": [
    "if not answer in [1, 2, 3]: \n",
    "    print('WARNING!\\nPossible answers are 1, 2 and 3.')"
   ]
  },
  {
   "cell_type": "markdown",
   "metadata": {
    "deletable": false,
    "editable": false,
    "kernel": "SoS",
    "nbgrader": {
     "cell_type": "markdown",
     "checksum": "dcf0e6de2d06b6994fbc9da4a4eca4bf",
     "grade": false,
     "grade_id": "cell-6deaf74b6ab1ae1f",
     "locked": true,
     "schema_version": 3,
     "solution": false,
     "task": false
    },
    "user_expressions": []
   },
   "source": [
    "Congratulations on finishing the second part of the Pixel-Fourier lab!\n",
    "\n",
    ":::{attention}\n",
    "Make sure to save your notebook (you might want to keep a copy on your personal computer) and upload it to [Moodle](https://moodle.epfl.ch/mod/assign/view.php?id=1157357), in a zip file with the other notebook of this lab.\n",
    "\n",
    "* Keep the name of the notebook as: *2_Fourier_Transform.ipynb*,\n",
    "* Name the zip file: *Pixel_Fourier_lab.zip*.\n",
    ":::"
   ]
  }
 ],
 "metadata": {
  "kernelspec": {
   "display_name": "Python3",
   "language": "python",
   "name": "python3"
  },
  "language_info": {
   "codemirror_mode": {
    "name": "ipython",
    "version": 3
   },
   "file_extension": ".py",
   "mimetype": "text/x-python",
   "name": "python",
   "nbconvert_exporter": "python",
   "pygments_lexer": "ipython3",
   "version": "3.11.5"
  },
  "sos": {
   "kernels": [
    [
     "JavaScript",
     "javascript",
     "JavaScript",
     "#c8e1ae",
     ""
    ],
    [
     "SoS",
     "sos",
     "",
     "",
     "sos"
    ]
   ],
   "panel": {
    "displayed": false,
    "height": 0
   },
   "version": "0.21.9"
  }
 },
 "nbformat": 4,
 "nbformat_minor": 4
}
