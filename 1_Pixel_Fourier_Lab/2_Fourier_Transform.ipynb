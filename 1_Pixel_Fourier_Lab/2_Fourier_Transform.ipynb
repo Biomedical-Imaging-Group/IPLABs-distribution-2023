{
 "cells": [
  {
   "cell_type": "markdown",
   "metadata": {
    "deletable": false,
    "editable": false,
    "kernel": "SoS",
    "nbgrader": {
     "cell_type": "markdown",
     "checksum": "41da9238dd1c21009ca0a63f0d3ea9f4",
     "grade": false,
     "grade_id": "cell-87ef5277e6904d04",
     "locked": true,
     "schema_version": 3,
     "solution": false,
     "task": false
    },
    "user_expressions": []
   },
   "source": [
    "```{image} https://www.epfl.ch/about/overview/wp-content/uploads/2020/07/logo-epfl-1024x576.png \n",
    ":width: 140px\n",
    ":align: left\n",
    "```\n",
    "## Image Processing Laboratory Notebooks\n",
    "---\n",
    "\n",
    "This Juypter notebook is part of a series of computer laboratories which are designed\n",
    "to teach image-processing programming; they are running on the EPFL's Noto server. They are the practical complement of the theoretical lectures of the EPFL's Master course \n",
    "[**MICRO-511 Image Processing I**](https://moodle.epfl.ch/course/view.php?id=522) taught by Prof. M. Unser and Prof. D. Van de Ville.\n",
    "\n",
    "The project is funded by the Center for Digital Education and the School of Engineering. It is owned by the [Biomedical Imaging Group](http://bigwww.epfl.ch/). \n",
    "The distribution or the reproduction of the notebook is strictly prohibited without the written consent of the authors.  &copy; EPFL 2023.\n",
    "\n",
    "**Authors**: \n",
    "    [Pol del Aguila Pla](mailto:pol.delaguilapla@epfl.ch), \n",
    "    [Kay Lächler](mailto:kay.lachler@epfl.ch),\n",
    "    [Alejandro Noguerón Arámburu](mailto:alejandro.nogueronaramburu@epfl.ch),\n",
    "    [Yan Liu](mailto:yan.liu@epfl.ch), and\n",
    "    [Daniel Sage](mailto:daniel.sage@epfl.ch).\n",
    "    \n",
    "---\n",
    "\n",
    "# Lab 1.2: Fourier Transform\n",
    "**Released**: Thursday October 5, 2023\n",
    "\n",
    "**Submission**: Friday October 13, 2023 before 23:59 on [Moodle](https://moodle.epfl.ch/course/view.php?id=522)\n",
    "\n",
    "**Grade weight**: Lab 1 (15 points), 10% of the overall grade\n",
    "\n",
    "**Related lectures**: Chapters 1 and 2"
   ]
  },
  {
   "cell_type": "markdown",
   "metadata": {
    "kernel": "SoS",
    "user_expressions": []
   },
   "source": [
    "Double-click on this cell, fill your name and SCIPER number below to verify your identity in Noto and set the seed for random results.\n",
    ":::{attention} Please write down your name and SCIPER! \n",
    "### Student Name: \n",
    "### SCIPER: \n",
    ":::"
   ]
  },
  {
   "cell_type": "code",
   "execution_count": 1,
   "metadata": {
    "deletable": false,
    "editable": false,
    "kernel": "SoS",
    "nbgrader": {
     "cell_type": "code",
     "checksum": "813503e599ff1f5d567993e83e7499ca",
     "grade": true,
     "grade_id": "cell-2f6633932108c60f",
     "locked": true,
     "points": 0,
     "schema_version": 3,
     "solution": false,
     "task": false
    },
    "tags": []
   },
   "outputs": [
    {
     "name": "stdout",
     "output_type": "stream",
     "text": [
      "SCIPER: 262377\n"
     ]
    }
   ],
   "source": [
    "import getpass\n",
    "# This line recovers your camipro number to mark the images with your ID\n",
    "uid = int(getpass.getuser().split('-')[2]) if len(getpass.getuser().split('-')) > 2 else ord(getpass.getuser()[0])\n",
    "print(f'SCIPER: {uid}')"
   ]
  },
  {
   "cell_type": "markdown",
   "metadata": {
    "deletable": false,
    "editable": false,
    "kernel": "SoS",
    "nbgrader": {
     "cell_type": "markdown",
     "checksum": "70b1e60fc8930c5a7545187a238d9ae3",
     "grade": false,
     "grade_id": "cell-9f52138bd6524e0b",
     "locked": true,
     "schema_version": 3,
     "solution": false,
     "task": false
    },
    "user_expressions": []
   },
   "source": [
    "### Imports\n",
    "In the next cell we import the python libraries and load the images that we will use throughout the lab similar to the previous notebook. Run the next cell to get your notebook ready.\n",
    "\n",
    ":::{note}\n",
    "While in the pixelwise operations lab we didn't need high accuracy, for transforms like the Fourier transform, as well as other transforms, it is essential to have the highest accuracy available.\n",
    ":::"
   ]
  },
  {
   "cell_type": "code",
   "execution_count": 2,
   "metadata": {
    "deletable": false,
    "editable": false,
    "kernel": "SoS",
    "nbgrader": {
     "cell_type": "code",
     "checksum": "d5d963c0d84d001ca143db6bdb0476fd",
     "grade": false,
     "grade_id": "cell-7ebcf2f0631aad5a",
     "locked": true,
     "schema_version": 3,
     "solution": false,
     "task": false
    },
    "tags": []
   },
   "outputs": [],
   "source": [
    "# Configure plotting as dynamic\n",
    "%matplotlib widget\n",
    "\n",
    "# Import required packages for this lab\n",
    "import matplotlib.pyplot as plt\n",
    "import ipywidgets as widgets\n",
    "import numpy as np\n",
    "from skimage import io\n",
    " \n",
    "from interactive_kit import imviewer as viewer\n",
    "\n",
    "# Loading images\n",
    "car = io.imread(\"images/car_pad.tif\").astype(np.float64)\n",
    "pens = io.imread(\"images/pens.tif\").astype(np.float64)\n",
    "zebra = io.imread(\"images/zebra.tif\").astype('float64')\n",
    "\n",
    "# Create the impulse image\n",
    "impulse = np.zeros((65,65)); impulse[32,32] = 1;"
   ]
  },
  {
   "cell_type": "markdown",
   "metadata": {
    "deletable": false,
    "editable": false,
    "kernel": "SoS",
    "nbgrader": {
     "cell_type": "markdown",
     "checksum": "e33bfe56c35daab98403eb22c57d79fb",
     "grade": false,
     "grade_id": "cell-9584117c30781c3d",
     "locked": true,
     "schema_version": 3,
     "solution": false,
     "task": false
    },
    "user_expressions": []
   },
   "source": [
    "# The Fourier transform (7 points)\n",
    "\n",
    "In this second part we will look at the 2D discrete Fourier transform (*DFT*).\n",
    "\n",
    "You are going to:\n",
    " * understand the effects of the elements in an image on its Fourier transform (*FT*), and then\n",
    " * understand how an image is reconstructed from its FT using the inverse Fourier transform (*iFT*). \n",
    "\n",
    "In this part of the lab we will only use Python. To compute the FT in Python, we will use the [`fft` module](https://numpy.org/doc/stable/reference/routines.fft.html) in NumPy, which implements the *FT* using a [fast Fourier transform (FFT)](https://en.wikipedia.org/wiki/Fast_Fourier_transform) algorithm.\n",
    "\n",
    "(ToC_2_Fourier_transform)=\n",
    "## Table of contents\n",
    "1. [Sinusoidal plane waves and their Fourier Transform](#sinusoidal-plane-waves) **(1 point)**\n",
    "2. [Understanding the Fourier transform](#understanding-the-fourier-transform) **(3 points)**\n",
    "    1. [Modulation](#modulation)\n",
    "3. [Reconstruction of an image](#reconstruction-of-an-image) **(3 points)**\n",
    "    1. [Reconstruction error](#reconstruction-error)\n",
    "    2. [Fourier components](#fourier-components)"
   ]
  },
  {
   "cell_type": "markdown",
   "metadata": {},
   "source": [
    "Run the next cell to display the images and get familiar with them."
   ]
  },
  {
   "cell_type": "code",
   "execution_count": 3,
   "metadata": {
    "deletable": false,
    "editable": false,
    "kernel": "SoS",
    "nbgrader": {
     "cell_type": "code",
     "checksum": "b0d3ded23713dd59bc4473a83bd3299b",
     "grade": false,
     "grade_id": "cell-40e70c87a9f21f8b",
     "locked": true,
     "schema_version": 3,
     "solution": false,
     "task": false
    },
    "tags": []
   },
   "outputs": [
    {
     "data": {
      "application/vnd.jupyter.widget-view+json": {
       "model_id": "9ed8ff6bd3c84cc68eca22f272d832f2",
       "version_major": 2,
       "version_minor": 0
      },
      "text/plain": [
       "HBox(children=(Output(layout=Layout(width='80%')), Output(), Output(layout=Layout(width='25%'))))"
      ]
     },
     "metadata": {},
     "output_type": "display_data"
    }
   ],
   "source": [
    "# Define the list of images\n",
    "image_list = [car, pens, zebra]\n",
    "# Display all images used in this lab\n",
    "initial_viewer = viewer(image_list, hist=True)"
   ]
  },
  {
   "cell_type": "markdown",
   "metadata": {
    "deletable": false,
    "editable": false,
    "nbgrader": {
     "cell_type": "markdown",
     "checksum": "7d95df01161fd69cac1f16805a541957",
     "grade": false,
     "grade_id": "cell-2ae0d9df89d15097",
     "locked": true,
     "schema_version": 3,
     "solution": false,
     "task": false
    },
    "user_expressions": []
   },
   "source": [
    "(sinusoidal-plane-waves)=\n",
    "# 1. Sinusoidal plane waves and their Fourier Transform (1 point)\n",
    "[Back to table of contents](#ToC_2_Fourier_transform)\n",
    "\n",
    "By now you have studied all the math in the lecture, but let's be honest, it is hard to believe that everything you see is really constructed from plane waves. So let's go back to basics, and make sure that we understand what is the Fourier Transform of a sinusoidal plane wave. To start off this section and **for 0.5 points**, answer the MCQ below.\n",
    "\n",
    "* Q1: What is the mathematical expression for a 2D sinusoidal plane wave, given an amplitude $A$, period $T$, phase $\\phi$ and angle $\\alpha$?\n",
    "\n",
    "1. $s(x, y) = A\\cos(2\\pi T[x\\sin(\\alpha) + y\\cos(\\alpha)] + \\phi)$\n",
    "2. $s(x, y) = A\\cos(2\\pi T[x\\cos(\\alpha) + y\\sin(\\alpha)] + \\phi)$\n",
    "3. $s(x, y) = A\\cos(\\frac{2\\pi}{T}[x\\cos(\\alpha) + y\\sin(\\alpha)] + \\phi)$\n",
    "4. $s(x, y) = A\\cos(\\frac{2\\pi}{T}[x\\sin(\\alpha) + y\\cos(\\alpha)] + \\phi)$\n",
    "\n",
    ":::{hint}\n",
    "$\\alpha$ is defined as the angle between the wave vector $(\\omega_x, \\omega_y)$ and the $x$-axis.\n",
    ":::\n",
    "\n",
    "In the next cell, assign your choice to the variable `answer`. "
   ]
  },
  {
   "cell_type": "code",
   "execution_count": 4,
   "metadata": {
    "deletable": false,
    "nbgrader": {
     "cell_type": "code",
     "checksum": "7342c958e30a2538de8e0520d3a13118",
     "grade": false,
     "grade_id": "cell-29608b395dca5bf5",
     "locked": false,
     "schema_version": 3,
     "solution": true,
     "task": false
    },
    "tags": []
   },
   "outputs": [],
   "source": [
    "# Modify the variable below to reflect your choice\n",
    "answer = None\n",
    "# YOUR CODE HERE\n",
    "answer = 3"
   ]
  },
  {
   "cell_type": "code",
   "execution_count": 5,
   "metadata": {
    "deletable": false,
    "editable": false,
    "nbgrader": {
     "cell_type": "code",
     "checksum": "f73ead466dfeb35fe91132107e010932",
     "grade": true,
     "grade_id": "cell-4a8bb74a033e44b7",
     "locked": true,
     "points": 0.5,
     "schema_version": 3,
     "solution": false,
     "task": false
    },
    "tags": []
   },
   "outputs": [],
   "source": [
    "# Check that the answer is in the correct range\n",
    "if not answer in [1, 2, 3, 4]: \n",
    "    print('WARNING:\\nPossible values are 1, 2, 3 or 4.')"
   ]
  },
  {
   "cell_type": "markdown",
   "metadata": {
    "deletable": false,
    "editable": false,
    "nbgrader": {
     "cell_type": "markdown",
     "checksum": "5f605534c40645d77708d997cfd85a45",
     "grade": false,
     "grade_id": "cell-7237a357cc7dfe02",
     "locked": true,
     "schema_version": 3,
     "solution": false,
     "task": false
    },
    "user_expressions": []
   },
   "source": [
    "In the cell below, **for 0.5 points**, implement the function `cos2D` that calculates $s(x,y)$ given the location (`x`, `y`) and the parameters `A`, `T` and `alpha` according to the equation you selected above.\n",
    "\n",
    ":::{note}\n",
    "We assume that $\\phi=0$.\n",
    ":::"
   ]
  },
  {
   "cell_type": "code",
   "execution_count": 6,
   "metadata": {
    "deletable": false,
    "nbgrader": {
     "cell_type": "code",
     "checksum": "a2238ad5db11ee43e9f3276d7b2d9115",
     "grade": false,
     "grade_id": "cell-f87a04a92f41dedf",
     "locked": false,
     "schema_version": 3,
     "solution": true,
     "task": false
    },
    "tags": []
   },
   "outputs": [],
   "source": [
    "# Function that computes the 2D sinusoidal plane wave at location (x, y) given the parameters A, T and alpha\n",
    "def cos2D(x, y, A, T, alpha):\n",
    "    s = 0\n",
    "    \n",
    "    # YOUR CODE HERE\n",
    "    s = A * np.cos(2*np.pi * (x*np.cos(alpha) + y*np.sin(alpha)) / T)\n",
    "    \n",
    "    return s"
   ]
  },
  {
   "cell_type": "markdown",
   "metadata": {
    "deletable": false,
    "editable": false,
    "nbgrader": {
     "cell_type": "markdown",
     "checksum": "36170cb4e29dba21061b58892e11ad30",
     "grade": false,
     "grade_id": "cell-0a054a59330a6158",
     "locked": true,
     "schema_version": 3,
     "solution": false,
     "task": false
    }
   },
   "source": [
    "Run the next cell for a sanity check."
   ]
  },
  {
   "cell_type": "code",
   "execution_count": 7,
   "metadata": {
    "deletable": false,
    "editable": false,
    "nbgrader": {
     "cell_type": "code",
     "checksum": "dc594248f16f0f83fde03fc625b7836e",
     "grade": true,
     "grade_id": "cell-6f4ff2576cfb87b8",
     "locked": true,
     "points": 0.5,
     "schema_version": 3,
     "solution": false,
     "task": false
    },
    "tags": []
   },
   "outputs": [
    {
     "name": "stdout",
     "output_type": "stream",
     "text": [
      "Nice, your function passed the sanity check. That does not guarantee that it is correct though.\n"
     ]
    }
   ],
   "source": [
    "if not np.allclose(cos2D(0, 0, 0.5, 32, 0), 0.5):\n",
    "    print(f'WARNING: The value at (x=0, y=0) should be 0.5 when using A=0.5, T=32 and alpha=0. Your result is {cos2D(0, 0, 0.5, 32, 0):.3f}')\n",
    "if not np.allclose(cos2D(8, 16, 1, 32, 0), 0):\n",
    "    print(f'WARNING: The value at (x=8, y=0) should be 0 when using A=1, T=32 and alpha=0. Your result is {cos2D(8, 0, 1, 32, 0):.3f}')\n",
    "if not np.allclose(cos2D(8, 16, 0.8, 32, np.pi/2), -0.8):\n",
    "    print(f'WARNING: The value at (x=8, y=16) should be -0.8 when using A=0.5, T=32 and alpha=90°. Your result is {cos2D(8, 16, 0.8, 32, np.pi/2):.3f}')\n",
    "if not np.allclose(cos2D(24, 24, 0.3, 32, np.pi/2), 0):\n",
    "    print(f'WARNING: The value at (x=24, y=24) should be 0 when using A=0.3, T=32 and alpha=90°. Your result is {cos2D(24, 24, 0.3, 32, np.pi/2):.3f}')\n",
    "if (np.allclose(cos2D(0, 0, 0.5, 32, 0), 0.5) and np.allclose(cos2D(8, 16, 1, 32, 0), 0) \n",
    "    and np.allclose(cos2D(8, 16, 0.8, 32, np.pi/2), -0.8) and np.allclose(cos2D(24, 24, 0.3, 32, np.pi/2), 0)):\n",
    "    print('Nice, your function passed the sanity check. That does not guarantee that it is correct though.')"
   ]
  },
  {
   "cell_type": "markdown",
   "metadata": {
    "deletable": false,
    "editable": false,
    "nbgrader": {
     "cell_type": "markdown",
     "checksum": "3d37829bc5d75efbba3e6bcac01c67da",
     "grade": false,
     "grade_id": "cell-bbff731c945b0792",
     "locked": true,
     "schema_version": 3,
     "solution": false,
     "task": false
    },
    "user_expressions": []
   },
   "source": [
    "Now, before we do a visual test, we will declare the 2 functions `fourier` and `inverse_fourier`. which calculate the FT and the iFT respectively.\n",
    "Make sure to understand how we use the `numpy.fft` module.\n",
    "\n",
    "Run the next cell to declare this two functions."
   ]
  },
  {
   "cell_type": "code",
   "execution_count": 8,
   "metadata": {
    "deletable": false,
    "editable": false,
    "nbgrader": {
     "cell_type": "code",
     "checksum": "d7441419753442a0c1e219f3fc268d18",
     "grade": false,
     "grade_id": "cell-095fe2f3faa82fff",
     "locked": true,
     "schema_version": 3,
     "solution": false,
     "task": false
    },
    "tags": []
   },
   "outputs": [],
   "source": [
    "# Function that returns the FT\n",
    "def fourier(img):\n",
    "    # Generate the FT\n",
    "    ft = np.fft.fft2(img)\n",
    "    # Shift the frequency range to [-pi/2, pi/2] \n",
    "    shift_ft = np.fft.fftshift(ft)\n",
    "    return shift_ft\n",
    "\n",
    "# Function that return the inverse FT\n",
    "def inverse_fourier(ft):\n",
    "    # Shift the FT back to [0, pi]\n",
    "    ft = np.fft.ifftshift(ft)\n",
    "    # Get the inverse FT\n",
    "    ift = np.fft.ifft2(ft)\n",
    "    # Clip the imaginary part of the reconstruction\n",
    "    # (should be approximately zero anyway)\n",
    "    ift = np.real(ift)\n",
    "    return ift"
   ]
  },
  {
   "cell_type": "markdown",
   "metadata": {
    "deletable": false,
    "editable": false,
    "nbgrader": {
     "cell_type": "markdown",
     "checksum": "2d2cf5b8a1b1fd67f5e9691d1407c72e",
     "grade": false,
     "grade_id": "cell-1df4483d34cc0a89",
     "locked": true,
     "schema_version": 3,
     "solution": false,
     "task": false
    },
    "user_expressions": []
   },
   "source": [
    "Now it's time for the visual test. Run the next cell and see what is there. In the image on the left you should see $8$ periods of a $\\cos$ in the horizontal direction, and the image should be constant in the vertical direction. If you see this, your function is most probably working fine. On the image on the right, you should see two horizontal dots (the FT of a sinusoidal plane wave). \n",
    "\n",
    "Now we want you to be convinced that sinusoidal waves can create patterns. Go to the menu `Extra Widgets`. Play with the parameters of the sine wave, and click on `Add 2D sin`. A new sinusoidal wave with the parameters that you have chosen will be added to the previous pattern. The Fourier Transform will update automatically. \n",
    "\n",
    ":::{attention} \n",
    "Spend a few minutes playing with the following widget! It will give you a great intuition of how superposition of plane waves can create real patterns. Play with the different parameteres to get different effects. Ask yourself, how can you create periodic patterns? How can you create a non-periodic pattern? Of course you will not get a Monet from the following widget (if you try hard enough, you might get one in black and white though), but we hope you will understand how everything is formed of sinusoidal plane waves.\n",
    ":::\n",
    "\n",
    ":::{note} \n",
    "If you want to start from the beginning again, you have to re-run the cell.\n",
    ":::"
   ]
  },
  {
   "cell_type": "code",
   "execution_count": 10,
   "metadata": {
    "deletable": false,
    "editable": false,
    "nbgrader": {
     "cell_type": "code",
     "checksum": "2b65af79d6c83fb35d1351978a7ac736",
     "grade": false,
     "grade_id": "cell-f7307c0e37e1cc2c",
     "locked": true,
     "schema_version": 3,
     "solution": false,
     "task": false
    },
    "tags": []
   },
   "outputs": [
    {
     "data": {
      "application/vnd.jupyter.widget-view+json": {
       "model_id": "f177a8b0b184447e8e21e15c26147b46",
       "version_major": 2,
       "version_minor": 0
      },
      "text/plain": [
       "HBox(children=(Output(layout=Layout(width='80%')), Output(), Output(layout=Layout(width='25%'))))"
      ]
     },
     "metadata": {},
     "output_type": "display_data"
    }
   ],
   "source": [
    "# Creates a 2D sinusoidal plane wave of a given size and with given parameters\n",
    "def create_wave(A, T, alpha, shape=(256, 256), deg=False):\n",
    "    # Convert degrees to radians\n",
    "    alpha = alpha/180 * np.pi if deg else alpha\n",
    "    # Apply sin2D to the whole image\n",
    "    return np.fromfunction(lambda y, x: cos2D(x, y, A=A, T=T, alpha=alpha), shape=shape)\n",
    "\n",
    "# Define sliders and button\n",
    "A_slider = widgets.FloatSlider(value=1, min=0, max=1, step=0.01, description='A')\n",
    "T_slider = widgets.IntSlider(value=32, min=3, max=256, step=1, description='T')\n",
    "alpha_slider = widgets.IntSlider(value=0, min=-90, max=90, step=1, description=r'$\\alpha [deg]$')\n",
    "button = widgets.Button(description='Add 2D sin')\n",
    "\n",
    "# Callback function that adds a plane wave to the original img\n",
    "def sin2D_callback(img):\n",
    "    img = img + create_wave(A_slider.value, T_slider.value, alpha_slider.value, deg=True)\n",
    "    # Ignore these lines\n",
    "    view.original[0] = img\n",
    "    view.original[1] = img\n",
    "    return img\n",
    "\n",
    "# Callback function that gets the absolute value of the FT, and takes its log for better visualization\n",
    "def ft_callback(img):\n",
    "    return 10*np.log10(np.abs(fourier(img))+1e-5)\n",
    "\n",
    "# Declare initial plane wave\n",
    "plane_wave = create_wave(A=1, T=32, alpha=0, deg=True)\n",
    "\n",
    "plt.close('all')\n",
    "view = viewer([plane_wave, plane_wave], title=['Sum of patterns', 'Fourier Transform'],\n",
    "              new_widgets=[A_slider, T_slider, alpha_slider, button], \n",
    "              callbacks=[sin2D_callback, ft_callback], widgets=True, subplots=(1, 2))\n",
    "button.click()"
   ]
  },
  {
   "cell_type": "markdown",
   "metadata": {
    "deletable": false,
    "editable": false,
    "kernel": "SoS",
    "nbgrader": {
     "cell_type": "markdown",
     "checksum": "37e6f5685ad641274656968c5bf01be8",
     "grade": false,
     "grade_id": "cell-9f1d3140cb97f16b",
     "locked": true,
     "schema_version": 3,
     "solution": false,
     "task": false
    },
    "user_expressions": []
   },
   "source": [
    "(understanding-the-fourier-transform)=\n",
    "# 2. Understanding the Fourier transform (3 points)\n",
    "[Back to table of contents](#ToC_2_Fourier_transform)\n",
    "\n",
    "Now that we have learned how images are formed and the equivalence of the spatial and the Fourier components, it's time to dig deeper into the FT. As you know, calculating the FT of an image generates a two-dimensional array (image) of complex values, which makes it challenging to find a good visualization. Therefore, we usually extract the **magnitude** and **phase** of the complex numbers, which are much easier to deal with and present useful information. Remember that the magnitude of a complex number $z\\in\\mathbb{C}$ is given by\n",
    "$$|z| = \\sqrt{\\operatorname{Re}(z)^2+\\operatorname{Im}(z)^2}.$$\n",
    "\n",
    "Furthermore, we usually visualize this magnitude in dB, i.e., \n",
    "\n",
    "$$|z|~[\\mathrm{dB}] = 10\\log_{10}\\left(|z|^2\\right).$$\n",
    "\n",
    "One of the reasons for this is that the variations in the magnitude of the Fourier transform generally span very different ranges, from the very small to the very large, and the $\\log(\\cdot)$ transformation allows us to visualize both in the same image.\n",
    "\n",
    "To do this, you will first define the function `magnitude(ft)`, which should return **the magnitude in decibels (`dB`)** of a FT given as an input parameter. For **0.5 points**, complete the function `magnitude(ft)` in the cell below according to the equation given above.\n",
    "\n",
    ":::{hint}\n",
    "Check the Numpy built-in functions for complex numbers, pay attention to the base of the log function you use.\n",
    ":::\n",
    "\n",
    ":::{warning} \n",
    "Using `np.absolute` in this exercise will give you **0 points**! We want you to implement the function yourself.\n",
    ":::"
   ]
  },
  {
   "cell_type": "code",
   "execution_count": 13,
   "metadata": {
    "deletable": false,
    "kernel": "SoS",
    "nbgrader": {
     "cell_type": "code",
     "checksum": "e396de6d27009d2c599756739385d40d",
     "grade": false,
     "grade_id": "ans-7078161896540164",
     "locked": false,
     "schema_version": 3,
     "solution": true,
     "task": false
    },
    "tags": []
   },
   "outputs": [],
   "source": [
    "# Function that returns the magnitude of the FT in dB\n",
    "def magnitude(ft):\n",
    "    # Initialize the output to 0\n",
    "    output = None\n",
    "    \n",
    "    # YOUR CODE HERE\n",
    "    output = 20*np.log10(np.abs(ft))\n",
    "    \n",
    "    # Return the output\n",
    "    return output"
   ]
  },
  {
   "cell_type": "code",
   "execution_count": 14,
   "metadata": {
    "deletable": false,
    "editable": false,
    "kernel": "SoS",
    "nbgrader": {
     "cell_type": "code",
     "checksum": "00e805345db77359473174c568368273",
     "grade": true,
     "grade_id": "grad-aab6c96c21ed9da9",
     "locked": true,
     "points": 0.5,
     "schema_version": 3,
     "solution": false,
     "task": false
    },
    "tags": []
   },
   "outputs": [
    {
     "name": "stdout",
     "output_type": "stream",
     "text": [
      "Nice, your magnitude function passed the basic sanity check!\n"
     ]
    }
   ],
   "source": [
    "# Let's do a sanity check\n",
    "# The complex number used for the test which has a magnitude of ~3 dB\n",
    "z = 1 + 1j\n",
    "# Check that the magnitude function is correct\n",
    "if np.round(magnitude(z), decimals=1) == 3.0:\n",
    "    print(\"Nice, your magnitude function passed the basic sanity check!\")\n",
    "else:\n",
    "    print(\"Something isn't quite right yet.\")"
   ]
  },
  {
   "cell_type": "markdown",
   "metadata": {
    "deletable": false,
    "editable": false,
    "kernel": "SoS",
    "nbgrader": {
     "cell_type": "markdown",
     "checksum": "10d5c7756834a5d1a14359aeb8b0a1e3",
     "grade": false,
     "grade_id": "cell-e83793b000b52116",
     "locked": true,
     "schema_version": 3,
     "solution": false,
     "task": false
    },
    "user_expressions": []
   },
   "source": [
    "Now, we will define a function to calculate the phase of the *FT*. For this we define the function `phase(ft)`, which takes as argument an *FT* and returns its phase.\n",
    "\n",
    "Remember that the phase of a complex number $z$ is given by\n",
    "$$\\angle(z)=\\arctan\\left(\\frac{\\operatorname{Im}(z)}{\\operatorname{Re}(z)}\\right)\\,.$$\n",
    "\n",
    "For **0.5 points**, complete the function `phase(ft)` in the cell below according to the equation given above.\n",
    "\n",
    ":::{hint}\n",
    "Compare [`np.arctan2`](https://numpy.org/doc/stable/reference/generated/numpy.arctan2.html) and [`np.arctan`](https://numpy.org/doc/stable/reference/generated/numpy.arctan.html#numpy.arctan), which one is more convenient to calculate $\\angle(z)$? \n",
    ":::\n",
    "\n",
    ":::{warning}\n",
    "Using `np.angle` in this exercise will give you **0 points**! Implement the function yourself.\n",
    ":::"
   ]
  },
  {
   "cell_type": "code",
   "execution_count": 15,
   "metadata": {
    "deletable": false,
    "kernel": "SoS",
    "nbgrader": {
     "cell_type": "code",
     "checksum": "e442f3dd7e813afd8363f146dfee6cc6",
     "grade": false,
     "grade_id": "ans-63a15ac76c7b5d69",
     "locked": false,
     "schema_version": 3,
     "solution": true,
     "task": false
    },
    "tags": []
   },
   "outputs": [],
   "source": [
    "# Function that calculates the phase of complex numbers\n",
    "def phase(ft):\n",
    "    # Initialize output variable\n",
    "    output = None\n",
    "    \n",
    "    # YOUR CODE HERE\n",
    "    output = np.angle(ft)\n",
    "    \n",
    "    return output"
   ]
  },
  {
   "cell_type": "code",
   "execution_count": 16,
   "metadata": {
    "deletable": false,
    "editable": false,
    "kernel": "SoS",
    "nbgrader": {
     "cell_type": "code",
     "checksum": "4750466cf5944962a43a3f987ad678d9",
     "grade": true,
     "grade_id": "grad-9ae7daa14c45d818",
     "locked": true,
     "points": 0.5,
     "schema_version": 3,
     "solution": false,
     "task": false
    },
    "tags": []
   },
   "outputs": [
    {
     "name": "stdout",
     "output_type": "stream",
     "text": [
      "Nice, your phase function passed the sanity check!\n"
     ]
    }
   ],
   "source": [
    "# Let's do a sanity check\n",
    "# The complex number used for the test which has a phase of pi/4\n",
    "z = 1 + 1j\n",
    "# Check that the magnitude function is correct\n",
    "if phase(z) == np.pi/4:\n",
    "    print(\"Nice, your phase function passed the sanity check!\")\n",
    "else:\n",
    "    print(\"Something isn't quite right yet.\")"
   ]
  },
  {
   "cell_type": "markdown",
   "metadata": {
    "deletable": false,
    "editable": false,
    "kernel": "SoS",
    "nbgrader": {
     "cell_type": "markdown",
     "checksum": "4a89f7dba038a85b4464b599414780cd",
     "grade": false,
     "grade_id": "cell-133e10af0d745e6b",
     "locked": true,
     "schema_version": 3,
     "solution": false,
     "task": false
    },
    "user_expressions": []
   },
   "source": [
    "Now, let's look at the results of the functions you just coded. For this we will apply the *FT* to the image `car`, calculate its magnitude and phase, and visualize the results. \n",
    "\n",
    "Run the next cell to see the magnitude and phase of the *FT* of `car`.\n",
    "\n",
    ":::{tip}\n",
    "If you don't see the phase of the image (or only part of it), use `Ctrl + b` to hide the left sidebar of JupyterLab or lower the zoom of your browser. \n",
    ":::\n",
    "\n",
    "If everything went well you should see:\n",
    "* For the magnitude: a diagonal cross in the center with stars spread over the image, and\n",
    "* For the phase: seemingly random noise, cut by a near vertical line and a few other straight lines."
   ]
  },
  {
   "cell_type": "code",
   "execution_count": 17,
   "metadata": {
    "deletable": false,
    "editable": false,
    "kernel": "SoS",
    "nbgrader": {
     "cell_type": "code",
     "checksum": "53d9aa74a2f70e9674d35ca0d2f061e2",
     "grade": false,
     "grade_id": "cell-eaa553653ffc69a1",
     "locked": true,
     "schema_version": 3,
     "solution": false,
     "task": false
    },
    "tags": []
   },
   "outputs": [
    {
     "data": {
      "application/vnd.jupyter.widget-view+json": {
       "model_id": "5fba201afc02499297c1256ab4d925dc",
       "version_major": 2,
       "version_minor": 0
      },
      "text/plain": [
       "HBox(children=(Output(layout=Layout(width='80%')), Output(), Output(layout=Layout(width='25%'))))"
      ]
     },
     "metadata": {},
     "output_type": "display_data"
    },
    {
     "data": {
      "application/vnd.jupyter.widget-view+json": {
       "model_id": "",
       "version_major": 2,
       "version_minor": 0
      },
      "text/plain": [
       "Button(description='Show Widgets', style=ButtonStyle())"
      ]
     },
     "metadata": {},
     "output_type": "display_data"
    }
   ],
   "source": [
    "# Generate the FT of car\n",
    "car_ft = fourier(car)\n",
    "# Calculate the magnitude\n",
    "car_ft_mag = magnitude(car_ft)\n",
    "# Calculate the phase\n",
    "car_ft_ph = phase(car_ft)\n",
    "# Visualize the two together with the original image\n",
    "plt.close('all')\n",
    "ft_vis = viewer([car, car_ft_mag, car_ft_ph], title=['Car', 'Car FT magnitude', 'Car FT phase'], subplots=(1,3))"
   ]
  },
  {
   "cell_type": "markdown",
   "metadata": {
    "deletable": false,
    "editable": false,
    "nbgrader": {
     "cell_type": "markdown",
     "checksum": "730fcab5017680b1e97dfcb27abc8fb9",
     "grade": false,
     "grade_id": "cell-b50103bf3c82ef43",
     "locked": true,
     "schema_version": 3,
     "solution": false,
     "task": false
    }
   },
   "source": [
    "### Multiple Choice Question\n",
    "\n",
    "The following MCQs will test your understanding of the relationship of an image with its FT **magnitude**. Each is worth **0.5 points**.\n",
    "\n",
    "* Q1: Where do the little stars at different distances from the center in the FT of `car` come from?\n",
    "    1. From the contour of the car.\n",
    "    2. From the driver.\n",
    "    3. From the carpet under the car.\n",
    "    4. From the details of the car (JAGUAR text, doors, steering wheel, etc).\n",
    "    5. From the size of the image.\n",
    "    \n",
    "    \n",
    "* Q2: Where do the two big intersecting lines in the FT of `car` come from? \n",
    "    1. From the contour of the car.\n",
    "    2. From the driver.\n",
    "    3. From the carpet under the car.\n",
    "    4. From the details of the car (JAGUAR text, doors, steering wheel, etc).\n",
    "    5. From the size of the image.\n",
    "\n",
    "In the next cell, modify the variables `answer_one` and `answer_two` to reflect your choices. Then run the cells after that one for a quick sanity check."
   ]
  },
  {
   "cell_type": "code",
   "execution_count": 18,
   "metadata": {
    "deletable": false,
    "nbgrader": {
     "cell_type": "code",
     "checksum": "c3534f1021c42c444accecdcf5b220f1",
     "grade": false,
     "grade_id": "cell-55468dd82be1a2e5",
     "locked": false,
     "schema_version": 3,
     "solution": true,
     "task": false
    },
    "tags": []
   },
   "outputs": [],
   "source": [
    "# Assign your answer to this variable\n",
    "answer_one = None\n",
    "answer_two = None\n",
    "# YOUR CODE HERE\n",
    "answer_one = 3\n",
    "answer_two = 1"
   ]
  },
  {
   "cell_type": "code",
   "execution_count": 19,
   "metadata": {
    "deletable": false,
    "editable": false,
    "nbgrader": {
     "cell_type": "code",
     "checksum": "8ed96be61499d85c685b0fa3fcde2b1b",
     "grade": true,
     "grade_id": "cell-f9bea0c2c54031a4",
     "locked": true,
     "points": 0.5,
     "schema_version": 3,
     "solution": false,
     "task": false
    },
    "tags": []
   },
   "outputs": [],
   "source": [
    "if not answer_one in [1, 2, 3, 4, 5]: \n",
    "    print('WARNING!\\nPossible answers are 1, 2, 3, 4 and 5.')"
   ]
  },
  {
   "cell_type": "code",
   "execution_count": 20,
   "metadata": {
    "deletable": false,
    "editable": false,
    "nbgrader": {
     "cell_type": "code",
     "checksum": "cd80f60edfbc12dc8d8a8feab63314a4",
     "grade": true,
     "grade_id": "cell-a0936b6732ff8396",
     "locked": true,
     "points": 0.5,
     "schema_version": 3,
     "solution": false,
     "task": false
    },
    "tags": []
   },
   "outputs": [],
   "source": [
    "if not answer_two in [1, 2, 3, 4, 5]: \n",
    "    print('WARNING!\\nPossible answers are 1, 2, 3, 4 and 5.')"
   ]
  },
  {
   "cell_type": "markdown",
   "metadata": {
    "deletable": false,
    "editable": false,
    "nbgrader": {
     "cell_type": "markdown",
     "checksum": "b532e829ecfc74add333ca4b2b61b64b",
     "grade": false,
     "grade_id": "cell-bd6188f82a7ed79d",
     "locked": true,
     "schema_version": 3,
     "solution": false,
     "task": false
    },
    "user_expressions": []
   },
   "source": [
    "(modulation)=\n",
    "## 2.A. Modulation (1 point)\n",
    "[Back to table of contents](#ToC_2_Fourier_transform)\n",
    "\n",
    "\n",
    "In this section we will explore the modulation property of the FT, a property that has wide applications in digital communications. Modulation is mathematically expressed as:\n",
    "\n",
    "$$e^{j\\langle\\textbf{w}_0,\\textbf{x}\\rangle}f(\\textbf{x})\\stackrel{\\mathcal{F}}{\\longleftrightarrow}\\hat{f}(\\textbf{w}-\\textbf{w}_0).$$\n",
    "\n",
    "Basically, performing an element-wise multiplication of an image with a plane wave of frequency $\\textbf{w}_0=\\frac{2\\pi}{T}[\\cos(\\alpha), \\sin(\\alpha)]$, will shift the frequencies of the image by $\\textbf{w}_0$. This is very useful in digital communications, as the image can be encoded and transmitted using $\\textbf{w}_0$, and then decoded back into the original. \n",
    "\n",
    "We already implemented the wave creation. In the next cell, **for 1 point**, you only need to implement the multiplication and Fourier tranformation to finish this function. \n",
    "\n",
    "The input parameters:\n",
    "\n",
    " * `img` : input image,\n",
    " * `T` : the period of the plane wave,\n",
    " * `alpha` : the angle of the plane wave.\n",
    "\n",
    "The function outputs `mod_img` and `mag_ft`, which correspond to the modulated image in the spatial domain and the **magnitude** of its *FT* in dB, respectively. "
   ]
  },
  {
   "cell_type": "code",
   "execution_count": 21,
   "metadata": {
    "deletable": false,
    "nbgrader": {
     "cell_type": "code",
     "checksum": "a65136bb13317eedea33c4c47d766ee4",
     "grade": false,
     "grade_id": "cell-4b3229b8b2c360e8",
     "locked": false,
     "schema_version": 3,
     "solution": true,
     "task": false
    },
    "tags": []
   },
   "outputs": [],
   "source": [
    "def modulate(img, T, alpha):\n",
    "    # Declare outputs \n",
    "    mod_img = np.zeros(img.shape)\n",
    "    mag_ft = np.zeros(img.shape)\n",
    "    \n",
    "    # Generate plane wave\n",
    "    plane_wave = create_wave(img.max(), T, alpha, deg=True)\n",
    "    \n",
    "    # YOUR CODE HERE\n",
    "    mod_img = img * plane_wave\n",
    "    mag_ft = magnitude(fourier(mod_img))\n",
    "    \n",
    "    return mod_img, mag_ft "
   ]
  },
  {
   "cell_type": "markdown",
   "metadata": {
    "deletable": false,
    "editable": false,
    "nbgrader": {
     "cell_type": "markdown",
     "checksum": "721860104499d14356427c4ed80498dc",
     "grade": false,
     "grade_id": "cell-a27980501c82cc3b",
     "locked": true,
     "schema_version": 3,
     "solution": false,
     "task": false
    }
   },
   "source": [
    "Now run the next cell for a sanity check on your function. Do you realize why the two values we are testing should be $\\pm 255\\times255$?"
   ]
  },
  {
   "cell_type": "code",
   "execution_count": 22,
   "metadata": {
    "deletable": false,
    "editable": false,
    "nbgrader": {
     "cell_type": "code",
     "checksum": "e92adfdf53b8e8fcb5cce4403b6edab4",
     "grade": true,
     "grade_id": "cell-ee9658da56294150",
     "locked": true,
     "points": 1,
     "schema_version": 3,
     "solution": false,
     "task": false
    },
    "tags": []
   },
   "outputs": [
    {
     "name": "stdout",
     "output_type": "stream",
     "text": [
      "Good job! Your function passed this initial sanity check.\n"
     ]
    }
   ],
   "source": [
    "mod_img, mag_ft = modulate(car, 64, 90)\n",
    "if mod_img[32, 168] != -255*255:\n",
    "    print('WARNING!\\nThe value in the pixel [32, 168] is not correct!')\n",
    "elif mod_img[64, 147] != 255*255:\n",
    "    print('WARNING!\\nThe value in the pixel [64, 147] is not correct!')\n",
    "else:\n",
    "    print('Good job! Your function passed this initial sanity check.')"
   ]
  },
  {
   "cell_type": "markdown",
   "metadata": {
    "deletable": false,
    "editable": false,
    "nbgrader": {
     "cell_type": "markdown",
     "checksum": "cee3b1d02b3414a11ec05181528cef82",
     "grade": false,
     "grade_id": "cell-21e016a01eebdbde",
     "locked": true,
     "schema_version": 3,
     "solution": false,
     "task": false
    }
   },
   "source": [
    "Great, if you passed the previous sanity check, your function is probably correct. Now it's time for the visual test. In the next cell we have declared 2 sliders, one for the period `T` and one for the angle `alpha` that will define the modulation plane wave. \n",
    "\n",
    "Run the next cell, and make sure that the experimental results match the equation presented in section [2.A. Modulation](#2.A.-Modulation-(1-point)). Go to the menu `Extra Widgets` to play with $T$ and $\\alpha$."
   ]
  },
  {
   "cell_type": "code",
   "execution_count": 23,
   "metadata": {
    "deletable": false,
    "editable": false,
    "nbgrader": {
     "cell_type": "code",
     "checksum": "fe93edc4769f94c1f085d520f1061dfe",
     "grade": false,
     "grade_id": "cell-b5885b2ec8cd35d8",
     "locked": true,
     "schema_version": 3,
     "solution": false,
     "task": false
    },
    "tags": []
   },
   "outputs": [
    {
     "data": {
      "application/vnd.jupyter.widget-view+json": {
       "model_id": "1ed0cb73c3064ea99b33db036ffd2c86",
       "version_major": 2,
       "version_minor": 0
      },
      "text/plain": [
       "HBox(children=(Output(layout=Layout(width='80%')), Output(), Output(layout=Layout(width='25%'))))"
      ]
     },
     "metadata": {},
     "output_type": "display_data"
    }
   ],
   "source": [
    "# Declare necessary widgets\n",
    "T_slider = widgets.IntSlider(value=64, min=0, max=128, step=2, description='T')\n",
    "alpha_slider = widgets.IntSlider(value=90, min=-90, max=90, step=5, description='\\u03b1')\n",
    "button = widgets.Button(description='Modulate')\n",
    "\n",
    "# declare the button callback\n",
    "def modulation_callback(img):\n",
    "    T = T_slider.value\n",
    "    alpha = alpha_slider.value\n",
    "    mod_img, _ = modulate(img, T, alpha)\n",
    "    return mod_img\n",
    "\n",
    "def ft_callback(img):\n",
    "    T = T_slider.value\n",
    "    alpha = alpha_slider.value\n",
    "    _, mag_ft = modulate(img, T, alpha)\n",
    "    return mag_ft\n",
    "\n",
    "# Visualize\n",
    "plt.close('all')\n",
    "mod_viewer = viewer([car, car], title=['Modulated car', 'Modulated car FT'], new_widgets=[T_slider, alpha_slider, button], \n",
    "                    callbacks=[modulation_callback, ft_callback], widgets=True, subplots=(1,2))\n",
    "button.click()"
   ]
  },
  {
   "cell_type": "markdown",
   "metadata": {
    "deletable": false,
    "editable": false,
    "kernel": "Python3",
    "nbgrader": {
     "cell_type": "markdown",
     "checksum": "499041d32699ba08506bc3cd5dc1157f",
     "grade": false,
     "grade_id": "cell-fa915af9bcffb903",
     "locked": true,
     "schema_version": 3,
     "solution": false,
     "task": false
    },
    "user_expressions": []
   },
   "source": [
    "(reconstruction-of-an-image)=\n",
    "# 3. Reconstruction of an image (3 points)\n",
    "[Back to table of contents](#ToC_2_Fourier_transform)\n",
    "\n",
    "As you learned in the course, it is possible to reconstruct an image from its Fourier transform by performing the inverse Fourier transform. In the next exercise we will investigate the role that the magnitude and phase of the *FT* has on the reconstruction of an image. For this we first need to create a function that reconstructs an image from its *FT* magnitude (in $\\mathrm{dB}$) and phase. Run the next cell to define the function `reconstruct` and make sure that you understand every line of the code."
   ]
  },
  {
   "cell_type": "code",
   "execution_count": 24,
   "metadata": {
    "deletable": false,
    "editable": false,
    "kernel": "SoS",
    "nbgrader": {
     "cell_type": "code",
     "checksum": "6a474ac4f92693ec17714d8dfd280196",
     "grade": false,
     "grade_id": "cell-135e619da9bddb99",
     "locked": true,
     "schema_version": 3,
     "solution": false,
     "task": false
    },
    "tags": []
   },
   "outputs": [],
   "source": [
    "# Function that reconstructs an image from its FT magnitude (in dB) and phase\n",
    "def reconstruct(mag, ph):\n",
    "    # Since the magnitude is in dB we first need to convert it back\n",
    "    mag = 10 ** (mag / 20)\n",
    "    # Now we can restore the complex FT from the magnitude and phase using the polar representation\n",
    "    ft = mag * np.exp(1j * ph)\n",
    "    # Having the complex FT we can simply use the inverse_fourier function that we defined above to reconstruct the image\n",
    "    return inverse_fourier(ft)"
   ]
  },
  {
   "cell_type": "markdown",
   "metadata": {
    "deletable": false,
    "editable": false,
    "kernel": "SoS",
    "nbgrader": {
     "cell_type": "markdown",
     "checksum": "88b8150094cfae8997a791648aa849b1",
     "grade": false,
     "grade_id": "cell-760695d66a5c92a8",
     "locked": true,
     "schema_version": 3,
     "solution": false,
     "task": false
    },
    "user_expressions": []
   },
   "source": [
    "Let's see if the function works. Run the cell below to reconstruct the car image from its magnitude and phase, and visualize the result. \n",
    "\n",
    ":::{important}\n",
    "If the reconstruction is not near perfect, check again your functions `magnitude` and `phase`. You will need both functions to answer the next questions. \n",
    ":::"
   ]
  },
  {
   "cell_type": "code",
   "execution_count": 25,
   "metadata": {
    "deletable": false,
    "editable": false,
    "kernel": "SoS",
    "nbgrader": {
     "cell_type": "code",
     "checksum": "fdd0a4b53487acc7de6a592d63306fb7",
     "grade": false,
     "grade_id": "cell-d3de1befc78e32cc",
     "locked": true,
     "schema_version": 3,
     "solution": false,
     "task": false
    },
    "tags": []
   },
   "outputs": [
    {
     "data": {
      "application/vnd.jupyter.widget-view+json": {
       "model_id": "689328215e6a43edbaa5f1b8de0ab253",
       "version_major": 2,
       "version_minor": 0
      },
      "text/plain": [
       "HBox(children=(Output(layout=Layout(width='80%')), Output(), Output(layout=Layout(width='25%'))))"
      ]
     },
     "metadata": {},
     "output_type": "display_data"
    },
    {
     "data": {
      "application/vnd.jupyter.widget-view+json": {
       "model_id": "719532588a7b4284afd7c0f218acd9bf",
       "version_major": 2,
       "version_minor": 0
      },
      "text/plain": [
       "Button(description='Show Widgets', style=ButtonStyle())"
      ]
     },
     "metadata": {},
     "output_type": "display_data"
    }
   ],
   "source": [
    "# Reconstruct the car image\n",
    "car_reconstructed = reconstruct(car_ft_mag, car_ft_ph)\n",
    "# Display the result\n",
    "plt.close('all')\n",
    "ft_rec_vis = viewer([car, car_reconstructed], title=['Original car', 'Reconstructed car'], subplots=(1,2))\n",
    "np.testing.assert_array_almost_equal(car, car_reconstructed, err_msg='Check again your magnitude and phase functions!')"
   ]
  },
  {
   "cell_type": "markdown",
   "metadata": {
    "deletable": false,
    "editable": false,
    "kernel": "SoS",
    "nbgrader": {
     "cell_type": "markdown",
     "checksum": "8e9bd20e43de531dc9d8d26b85a25508",
     "grade": false,
     "grade_id": "cell-725bb93760893450",
     "locked": true,
     "schema_version": 3,
     "solution": false,
     "task": false
    }
   },
   "source": [
    "Since we didn't make any changes to the *FT* before the reconstruction, the reconstructed image should be (almost) identical to the original image (if it's not, you should have seen an error message). \n",
    "\n",
    "For the next excercise we will use the `pens` image in addition to the car image. Run the next cell to visualize it again. Moreover, we will plot its *FT*'s magnitude and phase (browse through the images with the buttons `Next` & `Prev`). This will help you to answer the upcoming questions."
   ]
  },
  {
   "cell_type": "code",
   "execution_count": 26,
   "metadata": {
    "deletable": false,
    "editable": false,
    "kernel": "SoS",
    "nbgrader": {
     "cell_type": "code",
     "checksum": "51e991a37294ad90cb1851ca0bbca2a7",
     "grade": false,
     "grade_id": "cell-f2671c4dcbeb39a8",
     "locked": true,
     "schema_version": 3,
     "solution": false,
     "task": false
    }
   },
   "outputs": [
    {
     "data": {
      "application/vnd.jupyter.widget-view+json": {
       "model_id": "cd1a6a30783547fd9f20bef7b4ead60b",
       "version_major": 2,
       "version_minor": 0
      },
      "text/plain": [
       "HBox(children=(Output(layout=Layout(width='80%')), Output(), Output(layout=Layout(width='25%'))))"
      ]
     },
     "metadata": {},
     "output_type": "display_data"
    }
   ],
   "source": [
    "# Generate FT of the pens image\n",
    "pens_ft = fourier(pens)\n",
    "# Extract the magnitude and phase\n",
    "pens_ft_mag = magnitude(pens_ft)\n",
    "pens_ft_ph = phase(pens_ft)\n",
    "\n",
    "# Visualize\n",
    "plt.close('all')\n",
    "pens_vis = viewer([pens, pens_ft_mag, pens_ft_ph], widgets=True)"
   ]
  },
  {
   "cell_type": "markdown",
   "metadata": {
    "deletable": false,
    "editable": false,
    "kernel": "SoS",
    "nbgrader": {
     "cell_type": "markdown",
     "checksum": "b1a155e102d048242ca24085147f8022",
     "grade": false,
     "grade_id": "cell-3632f02d41668d81",
     "locked": true,
     "schema_version": 3,
     "solution": false,
     "task": false
    }
   },
   "source": [
    "Now lets see what happens if we use the magnitude of one image and the phase of another image to do the reconstruction. What do you think will happen? Run the cell below and observe the results. Try to make a conclusion on what type of information is stored in the phase of the *FT*."
   ]
  },
  {
   "cell_type": "code",
   "execution_count": 27,
   "metadata": {
    "deletable": false,
    "editable": false,
    "kernel": "SoS",
    "nbgrader": {
     "cell_type": "code",
     "checksum": "c27942798e0d825b27d479d55623f2b7",
     "grade": false,
     "grade_id": "cell-edfa23d685d4fef9",
     "locked": true,
     "schema_version": 3,
     "solution": false,
     "task": false
    }
   },
   "outputs": [
    {
     "data": {
      "application/vnd.jupyter.widget-view+json": {
       "model_id": "3dba55ba1a7e4c5383cabef5a8cdd204",
       "version_major": 2,
       "version_minor": 0
      },
      "text/plain": [
       "HBox(children=(Output(layout=Layout(width='80%')), Output(), Output(layout=Layout(width='25%'))))"
      ]
     },
     "metadata": {},
     "output_type": "display_data"
    },
    {
     "data": {
      "application/vnd.jupyter.widget-view+json": {
       "model_id": "d15e4301d8194eb5aeede9d01907ba85",
       "version_major": 2,
       "version_minor": 0
      },
      "text/plain": [
       "Button(description='Show Widgets', style=ButtonStyle())"
      ]
     },
     "metadata": {},
     "output_type": "display_data"
    }
   ],
   "source": [
    "# Reconstruct an image with the magnitude of car and phase of pens\n",
    "car_pens = reconstruct(car_ft_mag, pens_ft_ph)\n",
    "# Reconstruct an image with the magnitude of pens and phase of car\n",
    "pens_car = reconstruct(pens_ft_mag, car_ft_ph)\n",
    "# Visualize the results\n",
    "plt.close('all')\n",
    "rec_comp_vis = viewer([car_pens, pens_car], title=['Magn. = car, Phase = pens', 'Magn. = pens, Phase = car'], subplots=(1,2))"
   ]
  },
  {
   "cell_type": "markdown",
   "metadata": {
    "deletable": false,
    "editable": false,
    "kernel": "SoS",
    "nbgrader": {
     "cell_type": "markdown",
     "checksum": "1c0412e4461e10fb89132ea83a3e9eed",
     "grade": false,
     "grade_id": "cell-ba7b60defd1c42b0",
     "locked": true,
     "schema_version": 3,
     "solution": false,
     "task": false
    },
    "user_expressions": []
   },
   "source": [
    "### Multiple choice question\n",
    "\n",
    "For **0.5 points**, what type of information of the image is stored in the **phase** of the FT that is **not stored** in the magnitude? \n",
    "\n",
    "\n",
    "1. The spatial frequencies contained in the image.\n",
    "2. The light intensity of each pixel.\n",
    "3. The location of objects (i.e. sinusoids) in the image.\n",
    "\n",
    "Modify the variable `answer`in the next cell to reflect your choice. The second cell is for you to check that you have entered a valid answer.\n",
    "\n",
    ":::{hint}\n",
    "If you have doubts, you can go back to the widget right before [section 2](#understanding-the-fourier-transform). Moreover, look carefully at the *periodic patterns* in the two images above.\n",
    ":::"
   ]
  },
  {
   "cell_type": "code",
   "execution_count": 28,
   "metadata": {
    "deletable": false,
    "kernel": "SoS",
    "nbgrader": {
     "cell_type": "code",
     "checksum": "1669be8b9f5cd78fa45b864af90576c1",
     "grade": false,
     "grade_id": "ans-7e7c03216cfd90a0",
     "locked": false,
     "schema_version": 3,
     "solution": true,
     "task": false
    }
   },
   "outputs": [],
   "source": [
    "# Assign your answer to this variable\n",
    "answer = None\n",
    "# YOUR CODE HERE\n",
    "answer = 3"
   ]
  },
  {
   "cell_type": "code",
   "execution_count": 29,
   "metadata": {
    "deletable": false,
    "editable": false,
    "kernel": "SoS",
    "nbgrader": {
     "cell_type": "code",
     "checksum": "db9d1a31a20d9bb4fe0cae9322f074b9",
     "grade": true,
     "grade_id": "grad-5da443479b1400ff",
     "locked": true,
     "points": 1,
     "schema_version": 3,
     "solution": false,
     "task": false
    }
   },
   "outputs": [],
   "source": [
    "# Sanity check\n",
    "if not answer in [1, 2, 3]:\n",
    "    print('WARNING!\\nValid answers are 1, 2 or 3.')"
   ]
  },
  {
   "cell_type": "markdown",
   "metadata": {
    "deletable": false,
    "editable": false,
    "kernel": "Python3",
    "nbgrader": {
     "cell_type": "markdown",
     "checksum": "6227e3814c09423e549957fcd0a31bd0",
     "grade": false,
     "grade_id": "cell-9a92d5cbd8420331",
     "locked": true,
     "schema_version": 3,
     "solution": false,
     "task": false
    },
    "user_expressions": []
   },
   "source": [
    "(reconstruction-error)=\n",
    "## 3.A. Reconstruction error (1 point)\n",
    "[Back to table of contents](#ToC_2_Fourier_transform)\n",
    "\n",
    "How many Fourier coefficients do we really need to keep to still have the basic information present in an image? Do all coefficients contribute the same? In order to quantify _how good_ a certain reconstruction is, we will use a metric to assess the quality of the reconstruction.\n",
    "\n",
    "The metric we use is the normalized mean square error (NMSE) in dB. It calculates the difference between an image $f$ of size $K\\times L$ and its reconstruction $g$ normalizes by the total power of $f$.\n",
    "\n",
    "$$\\operatorname{NMSE}_f(g) =  \\frac{\\sum_{k=1}^{K} \\sum_{l=1}^L (g[k,l] - f[k,l])^2}{\\sum_{m=1}^{K} \\sum_{n=1}^L f[m,n]^2}\\mbox{, and } \\operatorname{NMSE}_f(g)~[\\mathrm{dB}] = 10 \\log_{10}\\left(\\operatorname{NMSE}_f(g)\\right).$$\n",
    "\n",
    "This makes it easier for one to observe, for example, when the error has doubled ($+3~\\mathrm{dB}$) or halved ($-3~\\mathrm{dB}$) in plots.\n",
    "\n",
    "For **1 point**, complete the function `nmse(f, g)` in the cell below according to the equation given above, where `f` and `g` are two NumPy arrays of the same shape.\n",
    "\n",
    ":::{warning}\n",
    "Remember that your function should **not use `for` loops** to iterate through images (this will give you $0$ points), and should work for NumPy arrays of any shape.\n",
    ":::"
   ]
  },
  {
   "cell_type": "code",
   "execution_count": 32,
   "metadata": {
    "deletable": false,
    "kernel": "SoS",
    "nbgrader": {
     "cell_type": "code",
     "checksum": "38fd67ee7d129dbeb60270ebe95c11b1",
     "grade": false,
     "grade_id": "ans-8dded687cf67f4f1",
     "locked": false,
     "schema_version": 3,
     "solution": true,
     "task": false
    }
   },
   "outputs": [],
   "source": [
    "# Function that calculates the Normalized Mean Square Error in dB\n",
    "def nmse(f, g):\n",
    "    # Declare the output variable\n",
    "    output = None\n",
    "    \n",
    "    # YOUR CODE HERE\n",
    "    output = 10*np.log10(((f-g)**2).sum() / (f**2).sum())\n",
    "    \n",
    "    # Return MSE\n",
    "    return output"
   ]
  },
  {
   "cell_type": "code",
   "execution_count": 33,
   "metadata": {
    "deletable": false,
    "editable": false,
    "kernel": "SoS",
    "nbgrader": {
     "cell_type": "code",
     "checksum": "8eb99e614626a8f48a45e7367729ff96",
     "grade": true,
     "grade_id": "grad-f43f5970d01e3a71",
     "locked": true,
     "points": 1,
     "schema_version": 3,
     "solution": false,
     "task": false
    }
   },
   "outputs": [
    {
     "name": "stdout",
     "output_type": "stream",
     "text": [
      "Nice, your function seems to work! Do not worry about the divide by zero warning!\n"
     ]
    },
    {
     "name": "stderr",
     "output_type": "stream",
     "text": [
      "/tmp/ipykernel_298/3664661597.py:7: RuntimeWarning: divide by zero encountered in log10\n",
      "  output = 10*np.log10(((f-g)**2).sum() / (f**2).sum())\n"
     ]
    }
   ],
   "source": [
    "# Sanity check (do not worry about the divide by zero note)\n",
    "if  nmse(impulse, impulse) != -np.infty: \n",
    "    print('The error between two equal images should be zero. In dB -infinity.')\n",
    "# Check your function on the hrct image\n",
    "elif nmse(impulse, 0) != 0:\n",
    "    print('The error of any image and a zero-image should be 1. In dB, 0.')\n",
    "else:\n",
    "    print('Nice, your function seems to work! Do not worry about the divide by zero warning!')"
   ]
  },
  {
   "cell_type": "markdown",
   "metadata": {
    "deletable": false,
    "editable": false,
    "kernel": "SoS",
    "nbgrader": {
     "cell_type": "markdown",
     "checksum": "0407ac4b588a1d64a3f6cbd1595e8bb0",
     "grade": false,
     "grade_id": "cell-0a2def51f8d1b167",
     "locked": true,
     "schema_version": 3,
     "solution": false,
     "task": false
    },
    "user_expressions": []
   },
   "source": [
    "(fourier-components)=\n",
    "## 3.B. Fourier components (1 point)\n",
    "[Back to table of contents](#ToC_2_Fourier_transform)\n",
    "\n",
    "In this section we look into the reconstruction process of an image from part of its Fourier components. This touches a topic that will continue to appear in IP1 and IP2: how much does a given transform compress an image? \n",
    "\n",
    "We define a function `clip_fourier(img, percent)` that reconstructs an image for only `percent`$\\%$ of its Fourier coefficients. If `largest=True`, only the largest are kept, while \n",
    "if `largest=False`, they are excluded and only all the rest are kept. This will illustrate the uneven distribution of information contained in the Fourier components.\n",
    "\n",
    "Run the next cell to define the function `clip_fourier`."
   ]
  },
  {
   "cell_type": "code",
   "execution_count": 34,
   "metadata": {
    "deletable": false,
    "editable": false,
    "kernel": "SoS",
    "nbgrader": {
     "cell_type": "code",
     "checksum": "9b35cc3d2e031d16fd585da529da36dc",
     "grade": false,
     "grade_id": "cell-f35ca285f774a8b7",
     "locked": true,
     "schema_version": 3,
     "solution": false,
     "task": false
    }
   },
   "outputs": [],
   "source": [
    " def clip_fourier(img, percent, largest=True, perc=True):\n",
    "    # Get number of coefficients to keep\n",
    "    if perc:\n",
    "        # Extract from percentage\n",
    "        n = np.round(np.prod(img.shape) * percent / 100).astype(int)\n",
    "    else: \n",
    "        # Pass directly\n",
    "        n = percent\n",
    "    # Get ft of img\n",
    "    img_ft = np.fft.fft2(img)\n",
    "    # Get the threshold value. To do this, we order the Fourier coefficients \n",
    "    # from low to high and select the n-to-last ([-n]) coefficient\n",
    "    threshold = np.sort(np.abs(img_ft.flatten()))[-n]\n",
    "    if largest == True:\n",
    "        # Get the inverse Fourier transform of the thresholded Fourier transform\n",
    "        clipped_ift = np.real(np.fft.ifft2((np.abs(img_ft) >= threshold) * img_ft))\n",
    "    else:\n",
    "        # Get the inverse Fourier transform of the thresholded Fourier transform\n",
    "        clipped_ift = np.real(np.fft.ifft2((np.abs(img_ft) < threshold) * img_ft))\n",
    "    return clipped_ift"
   ]
  },
  {
   "cell_type": "markdown",
   "metadata": {
    "deletable": false,
    "editable": false,
    "kernel": "SoS",
    "nbgrader": {
     "cell_type": "markdown",
     "checksum": "9f33cddbab02fab2d64ece089435afb3",
     "grade": false,
     "grade_id": "cell-9445799bbeb15ffe",
     "locked": true,
     "schema_version": 3,
     "solution": false,
     "task": false
    }
   },
   "source": [
    "Let's use the error metric `nmse` defined before to illustrate the difference in information contained in the few largest Fourier components compared to the information contained in the rest. In the cell below we will reconstruct the image `zebra` using: \n",
    " * only the `percent` largest Fourier components, and \n",
    " * using the `100-percent` smallest components. \n",
    "\n",
    "Then we will compare the reconstruction error by applying the `nmse` function defined above with both reconstructions. Run the cell below to see the different reconstruction errors. Play with the variable `percent` and see what happens."
   ]
  },
  {
   "cell_type": "code",
   "execution_count": 35,
   "metadata": {
    "kernel": "SoS"
   },
   "outputs": [
    {
     "name": "stdout",
     "output_type": "stream",
     "text": [
      "The reconstruction error when using the 20% largest  components: NMSE = -23.7228\n",
      "The reconstruction error when using the 80% smallest components: NMSE = -0.0185\n"
     ]
    },
    {
     "data": {
      "application/vnd.jupyter.widget-view+json": {
       "model_id": "1290a49884fc49c091204854e010c7d4",
       "version_major": 2,
       "version_minor": 0
      },
      "text/plain": [
       "HBox(children=(Output(layout=Layout(width='80%')), Output(), Output(layout=Layout(width='25%'))))"
      ]
     },
     "metadata": {},
     "output_type": "display_data"
    }
   ],
   "source": [
    "import warnings\n",
    "# Suppress traitlets deprecation warning - do not modify\n",
    "warnings.simplefilter(\"ignore\")\n",
    "\n",
    "percent = 20\n",
    "# First, reconstruct zebra using the largest components\n",
    "zebra_largest = clip_fourier(zebra, percent)\n",
    "# Reconstruct zebra using the smallest components\n",
    "zebra_smallest = clip_fourier(zebra, percent, largest=False)\n",
    "# Calculate the errors\n",
    "error_l = nmse(zebra, zebra_largest )\n",
    "error_s = nmse(zebra, zebra_smallest)\n",
    "# Compare the error\n",
    "print(f'The reconstruction error when using the {percent}% largest  components: NMSE = {error_l:.4f}')\n",
    "print(f\"The reconstruction error when using the {100 - percent}% smallest components: NMSE = {error_s:6.4f}\")\n",
    "# Visualize images\n",
    "view = viewer([zebra, zebra_largest, zebra_smallest], \n",
    "              title=['Original', f'{percent}% Largest Components', f'{100-percent}% Smallest Components'], \n",
    "              widgets=True)"
   ]
  },
  {
   "cell_type": "markdown",
   "metadata": {
    "deletable": false,
    "editable": false,
    "kernel": "SoS",
    "nbgrader": {
     "cell_type": "markdown",
     "checksum": "ab028d52c9cd1ba12e48e384a23b27aa",
     "grade": false,
     "grade_id": "cell-af1dad6c7d299b33",
     "locked": true,
     "schema_version": 3,
     "solution": false,
     "task": false
    }
   },
   "source": [
    "In the long run, this type of characteristics of transforms are explored using graphs like the one below, where the NMSE can be seen as a function of the percentage of the largest coefficients kept."
   ]
  },
  {
   "cell_type": "code",
   "execution_count": 36,
   "metadata": {
    "deletable": false,
    "editable": false,
    "kernel": "SoS",
    "nbgrader": {
     "cell_type": "code",
     "checksum": "42a398134d662067074ed05990c41398",
     "grade": false,
     "grade_id": "cell-9ee60b5808fea24d",
     "locked": true,
     "schema_version": 3,
     "solution": false,
     "task": false
    }
   },
   "outputs": [
    {
     "data": {
      "application/vnd.jupyter.widget-view+json": {
       "model_id": "3e9a04abdc7443d9a1b64792d92f5845",
       "version_major": 2,
       "version_minor": 0
      },
      "image/png": "[encoded data removed]",
      "text/html": [
       "\n",
       "            <div style=\"display: inline-block;\">\n",
       "                <div class=\"jupyter-widgets widget-label\" style=\"text-align: center;\">\n",
       "                    SCIPER: 262377\n",
       "                </div>\n",
       "                <img src='data:image/png;base64,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' width=800.0/>\n",
       "            </div>\n",
       "        "
      ],
      "text/plain": [
       "Canvas(toolbar=Toolbar(toolitems=[('Home', 'Reset original view', 'home', 'home'), ('Pan', 'Pan axes with left…"
      ]
     },
     "metadata": {},
     "output_type": "display_data"
    }
   ],
   "source": [
    "plt.close(\"all\")\n",
    "# Create figure\n",
    "fig = plt.figure(num=f\"SCIPER: {uid}\",figsize=(8,5));\n",
    "# Plot the NMSE vs kept coefficients curve\n",
    "plt.plot(np.arange(.5, 100, 5), [nmse(zebra, clip_fourier(zebra, perc)) for perc in np.arange(.5, 100, 5)], 'bo-');\n",
    "# Labels and titles for clear plotting\n",
    "plt.xlabel(\"Percentage of coefficients kept\"); plt.ylabel(\"NMSE [dB]\"); \n",
    "plt.xticks([0, 20, 40, 60, 80, 100], [f\"{perc}%\" for perc in [0, 20, 40, 60, 80, 100]]);\n",
    "plt.title(\"Reconstructing zebra with the largest Fourier coefs.\")\n",
    "plt.show()"
   ]
  },
  {
   "cell_type": "markdown",
   "metadata": {
    "deletable": false,
    "editable": false,
    "kernel": "Python3",
    "nbgrader": {
     "cell_type": "markdown",
     "checksum": "592e2bbc14e2f2f60c06adfe3bf2c612",
     "grade": false,
     "grade_id": "cell-aca9c2e4d2518fc6",
     "locked": true,
     "schema_version": 3,
     "solution": false,
     "task": false
    },
    "user_expressions": []
   },
   "source": [
    "Now we are going to create a widget to apply the function to an image and dynamically visualize its effect. \n",
    "\n",
    "We will define a slider to choose an integer `n` such that **the number of largest coefficients kept is $2^n$**. \n",
    "\n",
    ":::{note}\n",
    "The visual difference between the reconstructions is only apparent for percentages between $0\\%$ and $2\\%$, and very small steps would be needed. Keep in mind that you are not working with percentages anymore.\n",
    ":::\n",
    "\n",
    "We will also provide a checkbox to switch between the two modes of operation (keeping the largest, or keeping all the rest). Click the button `Apply` to apply `clip_fourier()` with the chosen parameter on the image. Run the next cell and click on `Extra Widgets` to use the widget. Explore the results carefuly."
   ]
  },
  {
   "cell_type": "code",
   "execution_count": 37,
   "metadata": {
    "deletable": false,
    "editable": false,
    "kernel": "SoS",
    "nbgrader": {
     "cell_type": "code",
     "checksum": "1bb4c5fdedf4374af232bc3e8cbdb4a7",
     "grade": false,
     "grade_id": "cell-c4b7a812e25017e1",
     "locked": true,
     "schema_version": 3,
     "solution": false,
     "task": false
    }
   },
   "outputs": [
    {
     "data": {
      "application/vnd.jupyter.widget-view+json": {
       "model_id": "90336af8022d4eb6bd8ba6e0aa438e90",
       "version_major": 2,
       "version_minor": 0
      },
      "text/plain": [
       "HBox(children=(Output(layout=Layout(width='80%')), Output(), Output(layout=Layout(width='25%'))))"
      ]
     },
     "metadata": {},
     "output_type": "display_data"
    }
   ],
   "source": [
    "# Declare slider and checkbox\n",
    "n_slider = widgets.IntSlider(value=16, min=0, max=16, step=1, description='n')\n",
    "checkbox = widgets.Checkbox(value=True, description='Use largest components')\n",
    "\n",
    "# Declare btutton\n",
    "button = widgets.Button(description='Apply')\n",
    "\n",
    "# declare the button callback\n",
    "def button_callback(image):\n",
    "    n      = n_slider.value\n",
    "    check  = checkbox.value\n",
    "    output = clip_fourier(image, 2**n, largest=check, perc=False)\n",
    "    return output\n",
    "\n",
    "# declare the button callback\n",
    "def button_callback_fourier(image):\n",
    "    n      = n_slider.value\n",
    "    check  = checkbox.value\n",
    "    output = clip_fourier(image, 2**n, largest=check, perc=False)\n",
    "    output = 10*np.log10(np.abs(np.fft.fftshift(np.fft.fft2(output)))+1e-3)\n",
    "    return output\n",
    "\n",
    "# visualize\n",
    "plt.close('all')\n",
    "cfourier_viewer = viewer([zebra, zebra], title=[\"Clipping the FT\", 'FT of the clipped image'], new_widgets=[n_slider, checkbox, button], callbacks = [button_callback, button_callback_fourier], widgets=True, normalize=True, subplots=(1,2))\n",
    "button.click()"
   ]
  },
  {
   "cell_type": "markdown",
   "metadata": {
    "deletable": false,
    "editable": false,
    "kernel": "Python3",
    "nbgrader": {
     "cell_type": "markdown",
     "checksum": "8b720fada328e8e47c1ad6b4ace700da",
     "grade": false,
     "grade_id": "cell-167b4895c49676c8",
     "locked": true,
     "schema_version": 3,
     "solution": false,
     "task": false
    }
   },
   "source": [
    "### Multiple Choice Question\n",
    "Congratulations! You made it to the end of the notebook. Now you just need to answer these last two MCQ questions (**0.5 points** each).\n",
    "\n",
    "* Q1: How many largest Fourier coefficients are required to start **clearly** noting a zebra in the image?\n",
    "    1. $2^{1}$\n",
    "    2. $2^{4}$\n",
    "    3. $2^{11}$\n",
    "    4. $2^{16}$\n",
    "\n",
    "Modify the variable `answer` to reflect your choice. The second cell will raise an error if you have not answered."
   ]
  },
  {
   "cell_type": "code",
   "execution_count": 38,
   "metadata": {
    "deletable": false,
    "kernel": "SoS",
    "nbgrader": {
     "cell_type": "code",
     "checksum": "8876a88072894f67b27f315c31e7338e",
     "grade": false,
     "grade_id": "ans-ee040ab2d1398a93",
     "locked": false,
     "schema_version": 3,
     "solution": true,
     "task": false
    }
   },
   "outputs": [],
   "source": [
    "# assign your answer to this variable\n",
    "answer = None\n",
    "# YOUR CODE HERE\n",
    "answer = 3"
   ]
  },
  {
   "cell_type": "code",
   "execution_count": 39,
   "metadata": {
    "deletable": false,
    "editable": false,
    "kernel": "SoS",
    "nbgrader": {
     "cell_type": "code",
     "checksum": "203a4e079922d52ec2a91415a58aa95f",
     "grade": true,
     "grade_id": "grad-614f5700675a0260",
     "locked": true,
     "points": 0.5,
     "schema_version": 3,
     "solution": false,
     "task": false
    }
   },
   "outputs": [],
   "source": [
    "if not answer in [1, 2, 3, 4]: \n",
    "    print('WARNING!\\nPossible answers are 1, 2, 3 and 4.')"
   ]
  },
  {
   "cell_type": "markdown",
   "metadata": {
    "deletable": false,
    "editable": false,
    "kernel": "Python3",
    "nbgrader": {
     "cell_type": "markdown",
     "checksum": "4afd7e39cf02b4d7bdca943f890d20a4",
     "grade": false,
     "grade_id": "cell-fea792cc3a05b29b",
     "locked": true,
     "schema_version": 3,
     "solution": false,
     "task": false
    }
   },
   "source": [
    "* Q2: How is it possible to reconstruct a non-periodic object such as the zebra (there is only one zebra in the image) in an image from only periodic components?\n",
    "    1. The black and white stripes in the zebra make it possible.\n",
    "    2. The FT assumes that the image is periodic in space.\n",
    "    3. The biggest components of the FT are non-periodic, to account for such features in an image.\n",
    "\n",
    "Modify the variable `answer` to reflect your choice. The second cell will raise an error if you have not answered."
   ]
  },
  {
   "cell_type": "code",
   "execution_count": 40,
   "metadata": {
    "deletable": false,
    "kernel": "SoS",
    "nbgrader": {
     "cell_type": "code",
     "checksum": "e02cbb923865a1c12ad140a428731c00",
     "grade": false,
     "grade_id": "ans-9a7c38e4ea3a4322",
     "locked": false,
     "schema_version": 3,
     "solution": true,
     "task": false
    }
   },
   "outputs": [],
   "source": [
    "# Assign your answer to this variable\n",
    "answer = None\n",
    "# YOUR CODE HERE\n",
    "answer = 2"
   ]
  },
  {
   "cell_type": "code",
   "execution_count": 41,
   "metadata": {
    "deletable": false,
    "editable": false,
    "kernel": "SoS",
    "nbgrader": {
     "cell_type": "code",
     "checksum": "bafc5041bfb196b0af8dad218c70fde9",
     "grade": true,
     "grade_id": "grad-08af35ecf1d0b4b8",
     "locked": true,
     "points": 0.5,
     "schema_version": 3,
     "solution": false,
     "task": false
    }
   },
   "outputs": [],
   "source": [
    "if not answer in [1, 2, 3]: \n",
    "    print('WARNING!\\nPossible answers are 1, 2 and 3.')"
   ]
  },
  {
   "cell_type": "markdown",
   "metadata": {
    "deletable": false,
    "editable": false,
    "kernel": "SoS",
    "nbgrader": {
     "cell_type": "markdown",
     "checksum": "dcf0e6de2d06b6994fbc9da4a4eca4bf",
     "grade": false,
     "grade_id": "cell-6deaf74b6ab1ae1f",
     "locked": true,
     "schema_version": 3,
     "solution": false,
     "task": false
    },
    "user_expressions": []
   },
   "source": [
    "Congratulations on finishing the second part of the Pixel-Fourier lab!\n",
    "\n",
    ":::{attention}\n",
    "Make sure to save your notebook (you might want to keep a copy on your personal computer) and upload it to [Moodle](https://moodle.epfl.ch/mod/assign/view.php?id=1157357), in a zip file with the other notebook of this lab.\n",
    "\n",
    "* Keep the name of the notebook as: *2_Fourier_Transform.ipynb*,\n",
    "* Name the zip file: *Pixel_Fourier_lab.zip*.\n",
    ":::"
   ]
  }
 ],
 "metadata": {
  "kernelspec": {
   "display_name": "Python3",
   "language": "python",
   "name": "python3"
  },
  "language_info": {
   "codemirror_mode": {
    "name": "ipython",
    "version": 3
   },
   "file_extension": ".py",
   "mimetype": "text/x-python",
   "name": "python",
   "nbconvert_exporter": "python",
   "pygments_lexer": "ipython3",
   "version": "3.11.5"
  },
  "sos": {
   "kernels": [
    [
     "JavaScript",
     "javascript",
     "JavaScript",
     "#c8e1ae",
     ""
    ],
    [
     "SoS",
     "sos",
     "",
     "",
     "sos"
    ]
   ],
   "panel": {
    "displayed": false,
    "height": 0
   },
   "version": "0.21.9"
  }
 },
 "nbformat": 4,
 "nbformat_minor": 4
}
