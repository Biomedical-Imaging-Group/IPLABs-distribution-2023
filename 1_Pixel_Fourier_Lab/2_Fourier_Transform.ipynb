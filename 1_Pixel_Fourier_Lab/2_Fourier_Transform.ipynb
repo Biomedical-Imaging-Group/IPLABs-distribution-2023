{
 "cells": [
  {
   "cell_type": "markdown",
   "metadata": {
    "deletable": false,
    "editable": false,
    "kernel": "SoS",
    "nbgrader": {
     "cell_type": "markdown",
     "checksum": "41da9238dd1c21009ca0a63f0d3ea9f4",
     "grade": false,
     "grade_id": "cell-87ef5277e6904d04",
     "locked": true,
     "schema_version": 3,
     "solution": false,
     "task": false
    },
    "user_expressions": []
   },
   "source": [
    "```{image} https://www.epfl.ch/about/overview/wp-content/uploads/2020/07/logo-epfl-1024x576.png \n",
    ":width: 140px\n",
    ":align: left\n",
    "```\n",
    "## Image Processing Laboratory Notebooks\n",
    "---\n",
    "\n",
    "This Juypter notebook is part of a series of computer laboratories which are designed\n",
    "to teach image-processing programming; they are running on the EPFL's Noto server. They are the practical complement of the theoretical lectures of the EPFL's Master course \n",
    "[**MICRO-511 Image Processing I**](https://moodle.epfl.ch/course/view.php?id=522) taught by Prof. M. Unser and Prof. D. Van de Ville.\n",
    "\n",
    "The project is funded by the Center for Digital Education and the School of Engineering. It is owned by the [Biomedical Imaging Group](http://bigwww.epfl.ch/). \n",
    "The distribution or the reproduction of the notebook is strictly prohibited without the written consent of the authors.  &copy; EPFL 2023.\n",
    "\n",
    "**Authors**: \n",
    "    [Pol del Aguila Pla](mailto:pol.delaguilapla@epfl.ch), \n",
    "    [Kay Lächler](mailto:kay.lachler@epfl.ch),\n",
    "    [Alejandro Noguerón Arámburu](mailto:alejandro.nogueronaramburu@epfl.ch),\n",
    "    [Yan Liu](mailto:yan.liu@epfl.ch), and\n",
    "    [Daniel Sage](mailto:daniel.sage@epfl.ch).\n",
    "    \n",
    "---\n",
    "\n",
    "# Lab 1.2: Fourier Transform\n",
    "**Released**: Thursday October 5, 2023\n",
    "\n",
    "**Submission**: Friday October 13, 2023 before 23:59 on [Moodle](https://moodle.epfl.ch/course/view.php?id=522)\n",
    "\n",
    "**Grade weight**: Lab 1 (15 points), 10% of the overall grade\n",
    "\n",
    "**Related lectures**: Chapters 1 and 2"
   ]
  },
  {
   "cell_type": "markdown",
   "metadata": {
    "kernel": "SoS",
    "user_expressions": []
   },
   "source": [
    "Double-click on this cell, fill your name and SCIPER number below to verify your identity in Noto and set the seed for random results.\n",
    ":::{attention} Please write down your name and SCIPER! \n",
    "### Student Name: \n",
    "### SCIPER: \n",
    ":::"
   ]
  },
  {
   "cell_type": "code",
   "execution_count": null,
   "metadata": {
    "deletable": false,
    "editable": false,
    "kernel": "SoS",
    "nbgrader": {
     "cell_type": "code",
     "checksum": "813503e599ff1f5d567993e83e7499ca",
     "grade": true,
     "grade_id": "cell-2f6633932108c60f",
     "locked": true,
     "points": 0,
     "schema_version": 3,
     "solution": false,
     "task": false
    },
    "tags": []
   },
   "outputs": [],
   "source": [
    "import getpass\n",
    "# This line recovers your camipro number to mark the images with your ID\n",
    "uid = int(getpass.getuser().split('-')[2]) if len(getpass.getuser().split('-')) > 2 else ord(getpass.getuser()[0])\n",
    "print(f'SCIPER: {uid}')"
   ]
  },
  {
   "cell_type": "markdown",
   "metadata": {
    "deletable": false,
    "editable": false,
    "kernel": "SoS",
    "nbgrader": {
     "cell_type": "markdown",
     "checksum": "70b1e60fc8930c5a7545187a238d9ae3",
     "grade": false,
     "grade_id": "cell-9f52138bd6524e0b",
     "locked": true,
     "schema_version": 3,
     "solution": false,
     "task": false
    },
    "user_expressions": []
   },
   "source": [
    "### Imports\n",
    "In the next cell we import the python libraries and load the images that we will use throughout the lab similar to the previous notebook. Run the next cell to get your notebook ready.\n",
    "\n",
    ":::{note}\n",
    "While in the pixelwise operations lab we didn't need high accuracy, for transforms like the Fourier transform, as well as other transforms, it is essential to have the highest accuracy available.\n",
    ":::"
   ]
  },
  {
   "cell_type": "code",
   "execution_count": null,
   "metadata": {
    "deletable": false,
    "editable": false,
    "kernel": "SoS",
    "nbgrader": {
     "cell_type": "code",
     "checksum": "d5d963c0d84d001ca143db6bdb0476fd",
     "grade": false,
     "grade_id": "cell-7ebcf2f0631aad5a",
     "locked": true,
     "schema_version": 3,
     "solution": false,
     "task": false
    },
    "tags": []
   },
   "outputs": [],
   "source": [
    "# Configure plotting as dynamic\n",
    "%matplotlib widget\n",
    "\n",
    "# Import required packages for this lab\n",
    "import matplotlib.pyplot as plt\n",
    "import ipywidgets as widgets\n",
    "import numpy as np\n",
    "from skimage import io\n",
    " \n",
    "from interactive_kit import imviewer as viewer\n",
    "\n",
    "# Loading images\n",
    "car = io.imread(\"images/car_pad.tif\").astype(np.float64)\n",
    "pens = io.imread(\"images/pens.tif\").astype(np.float64)\n",
    "zebra = io.imread(\"images/zebra.tif\").astype('float64')\n",
    "\n",
    "# Create the impulse image\n",
    "impulse = np.zeros((65,65)); impulse[32,32] = 1;"
   ]
  },
  {
   "cell_type": "markdown",
   "metadata": {
    "deletable": false,
    "editable": false,
    "kernel": "SoS",
    "nbgrader": {
     "cell_type": "markdown",
     "checksum": "e33bfe56c35daab98403eb22c57d79fb",
     "grade": false,
     "grade_id": "cell-9584117c30781c3d",
     "locked": true,
     "schema_version": 3,
     "solution": false,
     "task": false
    },
    "user_expressions": []
   },
   "source": [
    "# The Fourier transform (7 points)\n",
    "\n",
    "In this second part we will look at the 2D discrete Fourier transform (*DFT*).\n",
    "\n",
    "You are going to:\n",
    " * understand the effects of the elements in an image on its Fourier transform (*FT*), and then\n",
    " * understand how an image is reconstructed from its FT using the inverse Fourier transform (*iFT*). \n",
    "\n",
    "In this part of the lab we will only use Python. To compute the FT in Python, we will use the [`fft` module](https://numpy.org/doc/stable/reference/routines.fft.html) in NumPy, which implements the *FT* using a [fast Fourier transform (FFT)](https://en.wikipedia.org/wiki/Fast_Fourier_transform) algorithm.\n",
    "\n",
    "(ToC_2_Fourier_transform)=\n",
    "## Table of contents\n",
    "1. [Sinusoidal plane waves and their Fourier Transform](#sinusoidal-plane-waves) **(1 point)**\n",
    "2. [Understanding the Fourier transform](#understanding-the-fourier-transform) **(3 points)**\n",
    "    1. [Modulation](#modulation)\n",
    "3. [Reconstruction of an image](#reconstruction-of-an-image) **(3 points)**\n",
    "    1. [Reconstruction error](#reconstruction-error)\n",
    "    2. [Fourier components](#fourier-components)"
   ]
  },
  {
   "cell_type": "markdown",
   "metadata": {},
   "source": [
    "Run the next cell to display the images and get familiar with them."
   ]
  },
  {
   "cell_type": "code",
   "execution_count": null,
   "metadata": {
    "deletable": false,
    "editable": false,
    "kernel": "SoS",
    "nbgrader": {
     "cell_type": "code",
     "checksum": "b0d3ded23713dd59bc4473a83bd3299b",
     "grade": false,
     "grade_id": "cell-40e70c87a9f21f8b",
     "locked": true,
     "schema_version": 3,
     "solution": false,
     "task": false
    },
    "tags": []
   },
   "outputs": [],
   "source": [
    "# Define the list of images\n",
    "image_list = [car, pens, zebra]\n",
    "# Display all images used in this lab\n",
    "initial_viewer = viewer(image_list, hist=True)"
   ]
  },
  {
   "cell_type": "markdown",
   "metadata": {
    "deletable": false,
    "editable": false,
    "nbgrader": {
     "cell_type": "markdown",
     "checksum": "7d95df01161fd69cac1f16805a541957",
     "grade": false,
     "grade_id": "cell-2ae0d9df89d15097",
     "locked": true,
     "schema_version": 3,
     "solution": false,
     "task": false
    },
    "user_expressions": []
   },
   "source": [
    "(sinusoidal-plane-waves)=\n",
    "# 1. Sinusoidal plane waves and their Fourier Transform (1 point)\n",
    "[Back to table of contents](#ToC_2_Fourier_transform)\n",
    "\n",
    "By now you have studied all the math in the lecture, but let's be honest, it is hard to believe that everything you see is really constructed from plane waves. So let's go back to basics, and make sure that we understand what is the Fourier Transform of a sinusoidal plane wave. To start off this section and **for 0.5 points**, answer the MCQ below.\n",
    "\n",
    "* Q1: What is the mathematical expression for a 2D sinusoidal plane wave, given an amplitude $A$, period $T$, phase $\\phi$ and angle $\\alpha$?\n",
    "\n",
    "1. $s(x, y) = A\\cos(2\\pi T[x\\sin(\\alpha) + y\\cos(\\alpha)] + \\phi)$\n",
    "2. $s(x, y) = A\\cos(2\\pi T[x\\cos(\\alpha) + y\\sin(\\alpha)] + \\phi)$\n",
    "3. $s(x, y) = A\\cos(\\frac{2\\pi}{T}[x\\cos(\\alpha) + y\\sin(\\alpha)] + \\phi)$\n",
    "4. $s(x, y) = A\\cos(\\frac{2\\pi}{T}[x\\sin(\\alpha) + y\\cos(\\alpha)] + \\phi)$\n",
    "\n",
    ":::{hint}\n",
    "$\\alpha$ is defined as the angle between the wave vector $(\\omega_x, \\omega_y)$ and the $x$-axis.\n",
    ":::\n",
    "\n",
    "In the next cell, assign your choice to the variable `answer`. "
   ]
  },
  {
   "cell_type": "code",
   "execution_count": null,
   "metadata": {
    "deletable": false,
    "nbgrader": {
     "cell_type": "code",
     "checksum": "7342c958e30a2538de8e0520d3a13118",
     "grade": false,
     "grade_id": "cell-29608b395dca5bf5",
     "locked": false,
     "schema_version": 3,
     "solution": true,
     "task": false
    },
    "tags": []
   },
   "outputs": [],
   "source": [
    "# Modify the variable below to reflect your choice\n",
    "answer = None\n",
    "# YOUR CODE HERE"
   ]
  },
  {
   "cell_type": "code",
   "execution_count": null,
   "metadata": {
    "deletable": false,
    "editable": false,
    "nbgrader": {
     "cell_type": "code",
     "checksum": "f73ead466dfeb35fe91132107e010932",
     "grade": true,
     "grade_id": "cell-4a8bb74a033e44b7",
     "locked": true,
     "points": 0.5,
     "schema_version": 3,
     "solution": false,
     "task": false
    },
    "tags": []
   },
   "outputs": [],
   "source": [
    "# Check that the answer is in the correct range\n",
    "if not answer in [1, 2, 3, 4]: \n",
    "    print('WARNING:\\nPossible values are 1, 2, 3 or 4.')"
   ]
  },
  {
   "cell_type": "markdown",
   "metadata": {
    "deletable": false,
    "editable": false,
    "nbgrader": {
     "cell_type": "markdown",
     "checksum": "5f605534c40645d77708d997cfd85a45",
     "grade": false,
     "grade_id": "cell-7237a357cc7dfe02",
     "locked": true,
     "schema_version": 3,
     "solution": false,
     "task": false
    },
    "user_expressions": []
   },
   "source": [
    "In the cell below, **for 0.5 points**, implement the function `cos2D` that calculates $s(x,y)$ given the location (`x`, `y`) and the parameters `A`, `T` and `alpha` according to the equation you selected above.\n",
    "\n",
    ":::{note}\n",
    "We assume that $\\phi=0$.\n",
    ":::"
   ]
  },
  {
   "cell_type": "code",
   "execution_count": null,
   "metadata": {
    "deletable": false,
    "nbgrader": {
     "cell_type": "code",
     "checksum": "a2238ad5db11ee43e9f3276d7b2d9115",
     "grade": false,
     "grade_id": "cell-f87a04a92f41dedf",
     "locked": false,
     "schema_version": 3,
     "solution": true,
     "task": false
    },
    "tags": []
   },
   "outputs": [],
   "source": [
    "# Function that computes the 2D sinusoidal plane wave at location (x, y) given the parameters A, T and alpha\n",
    "def cos2D(x, y, A, T, alpha):\n",
    "    s = 0\n",
    "    \n",
    "    # YOUR CODE HERE\n",
    "    \n",
    "    return s"
   ]
  },
  {
   "cell_type": "markdown",
   "metadata": {
    "deletable": false,
    "editable": false,
    "nbgrader": {
     "cell_type": "markdown",
     "checksum": "36170cb4e29dba21061b58892e11ad30",
     "grade": false,
     "grade_id": "cell-0a054a59330a6158",
     "locked": true,
     "schema_version": 3,
     "solution": false,
     "task": false
    }
   },
   "source": [
    "Run the next cell for a sanity check."
   ]
  },
  {
   "cell_type": "code",
   "execution_count": null,
   "metadata": {
    "deletable": false,
    "editable": false,
    "nbgrader": {
     "cell_type": "code",
     "checksum": "dc594248f16f0f83fde03fc625b7836e",
     "grade": true,
     "grade_id": "cell-6f4ff2576cfb87b8",
     "locked": true,
     "points": 0.5,
     "schema_version": 3,
     "solution": false,
     "task": false
    },
    "tags": []
   },
   "outputs": [],
   "source": [
    "if not np.allclose(cos2D(0, 0, 0.5, 32, 0), 0.5):\n",
    "    print(f'WARNING: The value at (x=0, y=0) should be 0.5 when using A=0.5, T=32 and alpha=0. Your result is {cos2D(0, 0, 0.5, 32, 0):.3f}')\n",
    "if not np.allclose(cos2D(8, 16, 1, 32, 0), 0):\n",
    "    print(f'WARNING: The value at (x=8, y=0) should be 0 when using A=1, T=32 and alpha=0. Your result is {cos2D(8, 0, 1, 32, 0):.3f}')\n",
    "if not np.allclose(cos2D(8, 16, 0.8, 32, np.pi/2), -0.8):\n",
    "    print(f'WARNING: The value at (x=8, y=16) should be -0.8 when using A=0.5, T=32 and alpha=90°. Your result is {cos2D(8, 16, 0.8, 32, np.pi/2):.3f}')\n",
    "if not np.allclose(cos2D(24, 24, 0.3, 32, np.pi/2), 0):\n",
    "    print(f'WARNING: The value at (x=24, y=24) should be 0 when using A=0.3, T=32 and alpha=90°. Your result is {cos2D(24, 24, 0.3, 32, np.pi/2):.3f}')\n",
    "if (np.allclose(cos2D(0, 0, 0.5, 32, 0), 0.5) and np.allclose(cos2D(8, 16, 1, 32, 0), 0) \n",
    "    and np.allclose(cos2D(8, 16, 0.8, 32, np.pi/2), -0.8) and np.allclose(cos2D(24, 24, 0.3, 32, np.pi/2), 0)):\n",
    "    print('Nice, your function passed the sanity check. That does not guarantee that it is correct though.')"
   ]
  },
  {
   "cell_type": "markdown",
   "metadata": {
    "deletable": false,
    "editable": false,
    "nbgrader": {
     "cell_type": "markdown",
     "checksum": "3d37829bc5d75efbba3e6bcac01c67da",
     "grade": false,
     "grade_id": "cell-bbff731c945b0792",
     "locked": true,
     "schema_version": 3,
     "solution": false,
     "task": false
    },
    "user_expressions": []
   },
   "source": [
    "Now, before we do a visual test, we will declare the 2 functions `fourier` and `inverse_fourier`. which calculate the FT and the iFT respectively.\n",
    "Make sure to understand how we use the `numpy.fft` module.\n",
    "\n",
    "Run the next cell to declare this two functions."
   ]
  },
  {
   "cell_type": "code",
   "execution_count": null,
   "metadata": {
    "deletable": false,
    "editable": false,
    "nbgrader": {
     "cell_type": "code",
     "checksum": "d7441419753442a0c1e219f3fc268d18",
     "grade": false,
     "grade_id": "cell-095fe2f3faa82fff",
     "locked": true,
     "schema_version": 3,
     "solution": false,
     "task": false
    },
    "tags": []
   },
   "outputs": [],
   "source": [
    "# Function that returns the FT\n",
    "def fourier(img):\n",
    "    # Generate the FT\n",
    "    ft = np.fft.fft2(img)\n",
    "    # Shift the frequency range to [-pi/2, pi/2] \n",
    "    shift_ft = np.fft.fftshift(ft)\n",
    "    return shift_ft\n",
    "\n",
    "# Function that return the inverse FT\n",
    "def inverse_fourier(ft):\n",
    "    # Shift the FT back to [0, pi]\n",
    "    ft = np.fft.ifftshift(ft)\n",
    "    # Get the inverse FT\n",
    "    ift = np.fft.ifft2(ft)\n",
    "    # Clip the imaginary part of the reconstruction\n",
    "    # (should be approximately zero anyway)\n",
    "    ift = np.real(ift)\n",
    "    return ift"
   ]
  },
  {
   "cell_type": "markdown",
   "metadata": {
    "deletable": false,
    "editable": false,
    "nbgrader": {
     "cell_type": "markdown",
     "checksum": "2d2cf5b8a1b1fd67f5e9691d1407c72e",
     "grade": false,
     "grade_id": "cell-1df4483d34cc0a89",
     "locked": true,
     "schema_version": 3,
     "solution": false,
     "task": false
    },
    "user_expressions": []
   },
   "source": [
    "Now it's time for the visual test. Run the next cell and see what is there. In the image on the left you should see $8$ periods of a $\\cos$ in the horizontal direction, and the image should be constant in the vertical direction. If you see this, your function is most probably working fine. On the image on the right, you should see two horizontal dots (the FT of a sinusoidal plane wave). \n",
    "\n",
    "Now we want you to be convinced that sinusoidal waves can create patterns. Go to the menu `Extra Widgets`. Play with the parameters of the sine wave, and click on `Add 2D sin`. A new sinusoidal wave with the parameters that you have chosen will be added to the previous pattern. The Fourier Transform will update automatically. \n",
    "\n",
    ":::{attention} \n",
    "Spend a few minutes playing with the following widget! It will give you a great intuition of how superposition of plane waves can create real patterns. Play with the different parameteres to get different effects. Ask yourself, how can you create periodic patterns? How can you create a non-periodic pattern? Of course you will not get a Monet from the following widget (if you try hard enough, you might get one in black and white though), but we hope you will understand how everything is formed of sinusoidal plane waves.\n",
    ":::\n",
    "\n",
    ":::{note} \n",
    "If you want to start from the beginning again, you have to re-run the cell.\n",
    ":::"
   ]
  },
  {
   "cell_type": "code",
   "execution_count": null,
   "metadata": {
    "deletable": false,
    "editable": false,
    "nbgrader": {
     "cell_type": "code",
     "checksum": "2b65af79d6c83fb35d1351978a7ac736",
     "grade": false,
     "grade_id": "cell-f7307c0e37e1cc2c",
     "locked": true,
     "schema_version": 3,
     "solution": false,
     "task": false
    },
    "tags": []
   },
   "outputs": [],
   "source": [
    "# Creates a 2D sinusoidal plane wave of a given size and with given parameters\n",
    "def create_wave(A, T, alpha, shape=(256, 256), deg=False):\n",
    "    # Convert degrees to radians\n",
    "    alpha = alpha/180 * np.pi if deg else alpha\n",
    "    # Apply sin2D to the whole image\n",
    "    return np.fromfunction(lambda y, x: cos2D(x, y, A=A, T=T, alpha=alpha), shape=shape)\n",
    "\n",
    "# Define sliders and button\n",
    "A_slider = widgets.FloatSlider(value=1, min=0, max=1, step=0.01, description='A')\n",
    "T_slider = widgets.IntSlider(value=32, min=3, max=256, step=1, description='T')\n",
    "alpha_slider = widgets.IntSlider(value=0, min=-90, max=90, step=1, description=r'$\\alpha [deg]$')\n",
    "button = widgets.Button(description='Add 2D sin')\n",
    "\n",
    "# Callback function that adds a plane wave to the original img\n",
    "def sin2D_callback(img):\n",
    "    img = img + create_wave(A_slider.value, T_slider.value, alpha_slider.value, deg=True)\n",
    "    # Ignore these lines\n",
    "    view.original[0] = img\n",
    "    view.original[1] = img\n",
    "    return img\n",
    "\n",
    "# Callback function that gets the absolute value of the FT, and takes its log for better visualization\n",
    "def ft_callback(img):\n",
    "    return 10*np.log10(np.abs(fourier(img))+1e-5)\n",
    "\n",
    "# Declare initial plane wave\n",
    "plane_wave = create_wave(A=1, T=32, alpha=0, deg=True)\n",
    "\n",
    "plt.close('all')\n",
    "view = viewer([plane_wave, plane_wave], title=['Sum of patterns', 'Fourier Transform'],\n",
    "              new_widgets=[A_slider, T_slider, alpha_slider, button], \n",
    "              callbacks=[sin2D_callback, ft_callback], widgets=True, subplots=(1, 2))\n",
    "button.click()"
   ]
  },
  {
   "cell_type": "markdown",
   "metadata": {
    "deletable": false,
    "editable": false,
    "kernel": "SoS",
    "nbgrader": {
     "cell_type": "markdown",
     "checksum": "37e6f5685ad641274656968c5bf01be8",
     "grade": false,
     "grade_id": "cell-9f1d3140cb97f16b",
     "locked": true,
     "schema_version": 3,
     "solution": false,
     "task": false
    },
    "user_expressions": []
   },
   "source": [
    "(understanding-the-fourier-transform)=\n",
    "# 2. Understanding the Fourier transform (3 points)\n",
    "[Back to table of contents](#ToC_2_Fourier_transform)\n",
    "\n",
    "Now that we have learned how images are formed and the equivalence of the spatial and the Fourier components, it's time to dig deeper into the FT. As you know, calculating the FT of an image generates a two-dimensional array (image) of complex values, which makes it challenging to find a good visualization. Therefore, we usually extract the **magnitude** and **phase** of the complex numbers, which are much easier to deal with and present useful information. Remember that the magnitude of a complex number $z\\in\\mathbb{C}$ is given by\n",
    "$$|z| = \\sqrt{\\operatorname{Re}(z)^2+\\operatorname{Im}(z)^2}.$$\n",
    "\n",
    "Furthermore, we usually visualize this magnitude in dB, i.e., \n",
    "\n",
    "$$|z|~[\\mathrm{dB}] = 10\\log_{10}\\left(|z|^2\\right).$$\n",
    "\n",
    "One of the reasons for this is that the variations in the magnitude of the Fourier transform generally span very different ranges, from the very small to the very large, and the $\\log(\\cdot)$ transformation allows us to visualize both in the same image.\n",
    "\n",
    "To do this, you will first define the function `magnitude(ft)`, which should return **the magnitude in decibels (`dB`)** of a FT given as an input parameter. For **0.5 points**, complete the function `magnitude(ft)` in the cell below according to the equation given above.\n",
    "\n",
    ":::{hint}\n",
    "Check the Numpy built-in functions for complex numbers, pay attention to the base of the log function you use.\n",
    ":::\n",
    "\n",
    ":::{warning} \n",
    "Using `np.absolute` in this exercise will give you **0 points**! We want you to implement the function yourself.\n",
    ":::"
   ]
  },
  {
   "cell_type": "code",
   "execution_count": null,
   "metadata": {
    "deletable": false,
    "kernel": "SoS",
    "nbgrader": {
     "cell_type": "code",
     "checksum": "e396de6d27009d2c599756739385d40d",
     "grade": false,
     "grade_id": "ans-7078161896540164",
     "locked": false,
     "schema_version": 3,
     "solution": true,
     "task": false
    },
    "tags": []
   },
   "outputs": [],
   "source": [
    "# Function that returns the magnitude of the FT in dB\n",
    "def magnitude(ft):\n",
    "    # Initialize the output to 0\n",
    "    output = None\n",
    "    \n",
    "    # YOUR CODE HERE\n",
    "    \n",
    "    # Return the output\n",
    "    return output"
   ]
  },
  {
   "cell_type": "code",
   "execution_count": null,
   "metadata": {
    "deletable": false,
    "editable": false,
    "kernel": "SoS",
    "nbgrader": {
     "cell_type": "code",
     "checksum": "00e805345db77359473174c568368273",
     "grade": true,
     "grade_id": "grad-aab6c96c21ed9da9",
     "locked": true,
     "points": 0.5,
     "schema_version": 3,
     "solution": false,
     "task": false
    },
    "tags": []
   },
   "outputs": [],
   "source": [
    "# Let's do a sanity check\n",
    "# The complex number used for the test which has a magnitude of ~3 dB\n",
    "z = 1 + 1j\n",
    "# Check that the magnitude function is correct\n",
    "if np.round(magnitude(z), decimals=1) == 3.0:\n",
    "    print(\"Nice, your magnitude function passed the basic sanity check!\")\n",
    "else:\n",
    "    print(\"Something isn't quite right yet.\")"
   ]
  },
  {
   "cell_type": "markdown",
   "metadata": {
    "deletable": false,
    "editable": false,
    "kernel": "SoS",
    "nbgrader": {
     "cell_type": "markdown",
     "checksum": "10d5c7756834a5d1a14359aeb8b0a1e3",
     "grade": false,
     "grade_id": "cell-e83793b000b52116",
     "locked": true,
     "schema_version": 3,
     "solution": false,
     "task": false
    },
    "user_expressions": []
   },
   "source": [
    "Now, we will define a function to calculate the phase of the *FT*. For this we define the function `phase(ft)`, which takes as argument an *FT* and returns its phase.\n",
    "\n",
    "Remember that the phase of a complex number $z$ is given by\n",
    "$$\\angle(z)=\\arctan\\left(\\frac{\\operatorname{Im}(z)}{\\operatorname{Re}(z)}\\right)\\,.$$\n",
    "\n",
    "For **0.5 points**, complete the function `phase(ft)` in the cell below according to the equation given above.\n",
    "\n",
    ":::{hint}\n",
    "Compare [`np.arctan2`](https://numpy.org/doc/stable/reference/generated/numpy.arctan2.html) and [`np.arctan`](https://numpy.org/doc/stable/reference/generated/numpy.arctan.html#numpy.arctan), which one is more convenient to calculate $\\angle(z)$? \n",
    ":::\n",
    "\n",
    ":::{warning}\n",
    "Using `np.angle` in this exercise will give you **0 points**! Implement the function yourself.\n",
    ":::"
   ]
  },
  {
   "cell_type": "code",
   "execution_count": null,
   "metadata": {
    "deletable": false,
    "kernel": "SoS",
    "nbgrader": {
     "cell_type": "code",
     "checksum": "e442f3dd7e813afd8363f146dfee6cc6",
     "grade": false,
     "grade_id": "ans-63a15ac76c7b5d69",
     "locked": false,
     "schema_version": 3,
     "solution": true,
     "task": false
    },
    "tags": []
   },
   "outputs": [],
   "source": [
    "# Function that calculates the phase of complex numbers\n",
    "def phase(ft):\n",
    "    # Initialize output variable\n",
    "    output = None\n",
    "    \n",
    "    # YOUR CODE HERE\n",
    "    \n",
    "    return output"
   ]
  },
  {
   "cell_type": "code",
   "execution_count": null,
   "metadata": {
    "deletable": false,
    "editable": false,
    "kernel": "SoS",
    "nbgrader": {
     "cell_type": "code",
     "checksum": "4750466cf5944962a43a3f987ad678d9",
     "grade": true,
     "grade_id": "grad-9ae7daa14c45d818",
     "locked": true,
     "points": 0.5,
     "schema_version": 3,
     "solution": false,
     "task": false
    },
    "tags": []
   },
   "outputs": [],
   "source": [
    "# Let's do a sanity check\n",
    "# The complex number used for the test which has a phase of pi/4\n",
    "z = 1 + 1j\n",
    "# Check that the magnitude function is correct\n",
    "if phase(z) == np.pi/4:\n",
    "    print(\"Nice, your phase function passed the sanity check!\")\n",
    "else:\n",
    "    print(\"Something isn't quite right yet.\")"
   ]
  },
  {
   "cell_type": "markdown",
   "metadata": {
    "deletable": false,
    "editable": false,
    "kernel": "SoS",
    "nbgrader": {
     "cell_type": "markdown",
     "checksum": "4a89f7dba038a85b4464b599414780cd",
     "grade": false,
     "grade_id": "cell-133e10af0d745e6b",
     "locked": true,
     "schema_version": 3,
     "solution": false,
     "task": false
    },
    "user_expressions": []
   },
   "source": [
    "Now, let's look at the results of the functions you just coded. For this we will apply the *FT* to the image `car`, calculate its magnitude and phase, and visualize the results. \n",
    "\n",
    "Run the next cell to see the magnitude and phase of the *FT* of `car`.\n",
    "\n",
    ":::{tip}\n",
    "If you don't see the phase of the image (or only part of it), use `Ctrl + b` to hide the left sidebar of JupyterLab or lower the zoom of your browser. \n",
    ":::\n",
    "\n",
    "If everything went well you should see:\n",
    "* For the magnitude: a diagonal cross in the center with stars spread over the image, and\n",
    "* For the phase: seemingly random noise, cut by a near vertical line and a few other straight lines."
   ]
  },
  {
   "cell_type": "code",
   "execution_count": null,
   "metadata": {
    "deletable": false,
    "editable": false,
    "kernel": "SoS",
    "nbgrader": {
     "cell_type": "code",
     "checksum": "53d9aa74a2f70e9674d35ca0d2f061e2",
     "grade": false,
     "grade_id": "cell-eaa553653ffc69a1",
     "locked": true,
     "schema_version": 3,
     "solution": false,
     "task": false
    },
    "tags": []
   },
   "outputs": [],
   "source": [
    "# Generate the FT of car\n",
    "car_ft = fourier(car)\n",
    "# Calculate the magnitude\n",
    "car_ft_mag = magnitude(car_ft)\n",
    "# Calculate the phase\n",
    "car_ft_ph = phase(car_ft)\n",
    "# Visualize the two together with the original image\n",
    "plt.close('all')\n",
    "ft_vis = viewer([car, car_ft_mag, car_ft_ph], title=['Car', 'Car FT magnitude', 'Car FT phase'], subplots=(1,3))"
   ]
  },
  {
   "cell_type": "markdown",
   "metadata": {
    "deletable": false,
    "editable": false,
    "nbgrader": {
     "cell_type": "markdown",
     "checksum": "730fcab5017680b1e97dfcb27abc8fb9",
     "grade": false,
     "grade_id": "cell-b50103bf3c82ef43",
     "locked": true,
     "schema_version": 3,
     "solution": false,
     "task": false
    }
   },
   "source": [
    "### Multiple Choice Question\n",
    "\n",
    "The following MCQs will test your understanding of the relationship of an image with its FT **magnitude**. Each is worth **0.5 points**.\n",
    "\n",
    "* Q1: Where do the little stars at different distances from the center in the FT of `car` come from?\n",
    "    1. From the contour of the car.\n",
    "    2. From the driver.\n",
    "    3. From the carpet under the car.\n",
    "    4. From the details of the car (JAGUAR text, doors, steering wheel, etc).\n",
    "    5. From the size of the image.\n",
    "    \n",
    "    \n",
    "* Q2: Where do the two big intersecting lines in the FT of `car` come from? \n",
    "    1. From the contour of the car.\n",
    "    2. From the driver.\n",
    "    3. From the carpet under the car.\n",
    "    4. From the details of the car (JAGUAR text, doors, steering wheel, etc).\n",
    "    5. From the size of the image.\n",
    "\n",
    "In the next cell, modify the variables `answer_one` and `answer_two` to reflect your choices. Then run the cells after that one for a quick sanity check."
   ]
  },
  {
   "cell_type": "code",
   "execution_count": null,
   "metadata": {
    "deletable": false,
    "nbgrader": {
     "cell_type": "code",
     "checksum": "c3534f1021c42c444accecdcf5b220f1",
     "grade": false,
     "grade_id": "cell-55468dd82be1a2e5",
     "locked": false,
     "schema_version": 3,
     "solution": true,
     "task": false
    },
    "tags": []
   },
   "outputs": [],
   "source": [
    "# Assign your answer to this variable\n",
    "answer_one = None\n",
    "answer_two = None\n",
    "# YOUR CODE HERE"
   ]
  },
  {
   "cell_type": "code",
   "execution_count": null,
   "metadata": {
    "deletable": false,
    "editable": false,
    "nbgrader": {
     "cell_type": "code",
     "checksum": "8ed96be61499d85c685b0fa3fcde2b1b",
     "grade": true,
     "grade_id": "cell-f9bea0c2c54031a4",
     "locked": true,
     "points": 0.5,
     "schema_version": 3,
     "solution": false,
     "task": false
    },
    "tags": []
   },
   "outputs": [],
   "source": [
    "if not answer_one in [1, 2, 3, 4, 5]: \n",
    "    print('WARNING!\\nPossible answers are 1, 2, 3, 4 and 5.')"
   ]
  },
  {
   "cell_type": "code",
   "execution_count": null,
   "metadata": {
    "deletable": false,
    "editable": false,
    "nbgrader": {
     "cell_type": "code",
     "checksum": "cd80f60edfbc12dc8d8a8feab63314a4",
     "grade": true,
     "grade_id": "cell-a0936b6732ff8396",
     "locked": true,
     "points": 0.5,
     "schema_version": 3,
     "solution": false,
     "task": false
    },
    "tags": []
   },
   "outputs": [],
   "source": [
    "if not answer_two in [1, 2, 3, 4, 5]: \n",
    "    print('WARNING!\\nPossible answers are 1, 2, 3, 4 and 5.')"
   ]
  },
  {
   "cell_type": "markdown",
   "metadata": {
    "deletable": false,
    "editable": false,
    "nbgrader": {
     "cell_type": "markdown",
     "checksum": "b532e829ecfc74add333ca4b2b61b64b",
     "grade": false,
     "grade_id": "cell-bd6188f82a7ed79d",
     "locked": true,
     "schema_version": 3,
     "solution": false,
     "task": false
    },
    "user_expressions": []
   },
   "source": [
    "(modulation)=\n",
    "## 2.A. Modulation (1 point)\n",
    "[Back to table of contents](#ToC_2_Fourier_transform)\n",
    "\n",
    "\n",
    "In this section we will explore the modulation property of the FT, a property that has wide applications in digital communications. Modulation is mathematically expressed as:\n",
    "\n",
    "$$e^{j\\langle\\textbf{w}_0,\\textbf{x}\\rangle}f(\\textbf{x})\\stackrel{\\mathcal{F}}{\\longleftrightarrow}\\hat{f}(\\textbf{w}-\\textbf{w}_0).$$\n",
    "\n",
    "Basically, performing an element-wise multiplication of an image with a plane wave of frequency $\\textbf{w}_0=\\frac{2\\pi}{T}[\\cos(\\alpha), \\sin(\\alpha)]$, will shift the frequencies of the image by $\\textbf{w}_0$. This is very useful in digital communications, as the image can be encoded and transmitted using $\\textbf{w}_0$, and then decoded back into the original. \n",
    "\n",
    "We already implemented the wave creation. In the next cell, **for 1 point**, you only need to implement the multiplication and Fourier tranformation to finish this function. \n",
    "\n",
    "The input parameters:\n",
    "\n",
    " * `img` : input image,\n",
    " * `T` : the period of the plane wave,\n",
    " * `alpha` : the angle of the plane wave.\n",
    "\n",
    "The function outputs `mod_img` and `mag_ft`, which correspond to the modulated image in the spatial domain and the **magnitude** of its *FT* in dB, respectively. "
   ]
  },
  {
   "cell_type": "code",
   "execution_count": null,
   "metadata": {
    "deletable": false,
    "nbgrader": {
     "cell_type": "code",
     "checksum": "a65136bb13317eedea33c4c47d766ee4",
     "grade": false,
     "grade_id": "cell-4b3229b8b2c360e8",
     "locked": false,
     "schema_version": 3,
     "solution": true,
     "task": false
    },
    "tags": []
   },
   "outputs": [],
   "source": [
    "def modulate(img, T, alpha):\n",
    "    # Declare outputs \n",
    "    mod_img = np.zeros(img.shape)\n",
    "    mag_ft = np.zeros(img.shape)\n",
    "    \n",
    "    # Generate plane wave\n",
    "    plane_wave = create_wave(img.max(), T, alpha, deg=True)\n",
    "    \n",
    "    # YOUR CODE HERE\n",
    "    \n",
    "    return mod_img, mag_ft "
   ]
  },
  {
   "cell_type": "markdown",
   "metadata": {
    "deletable": false,
    "editable": false,
    "nbgrader": {
     "cell_type": "markdown",
     "checksum": "721860104499d14356427c4ed80498dc",
     "grade": false,
     "grade_id": "cell-a27980501c82cc3b",
     "locked": true,
     "schema_version": 3,
     "solution": false,
     "task": false
    }
   },
   "source": [
    "Now run the next cell for a sanity check on your function. Do you realize why the two values we are testing should be $\\pm 255\\times255$?"
   ]
  },
  {
   "cell_type": "code",
   "execution_count": null,
   "metadata": {
    "deletable": false,
    "editable": false,
    "nbgrader": {
     "cell_type": "code",
     "checksum": "e92adfdf53b8e8fcb5cce4403b6edab4",
     "grade": true,
     "grade_id": "cell-ee9658da56294150",
     "locked": true,
     "points": 1,
     "schema_version": 3,
     "solution": false,
     "task": false
    },
    "tags": []
   },
   "outputs": [],
   "source": [
    "mod_img, mag_ft = modulate(car, 64, 90)\n",
    "if mod_img[32, 168] != -255*255:\n",
    "    print('WARNING!\\nThe value in the pixel [32, 168] is not correct!')\n",
    "elif mod_img[64, 147] != 255*255:\n",
    "    print('WARNING!\\nThe value in the pixel [64, 147] is not correct!')\n",
    "else:\n",
    "    print('Good job! Your function passed this initial sanity check.')"
   ]
  },
  {
   "cell_type": "markdown",
   "metadata": {
    "deletable": false,
    "editable": false,
    "nbgrader": {
     "cell_type": "markdown",
     "checksum": "cee3b1d02b3414a11ec05181528cef82",
     "grade": false,
     "grade_id": "cell-21e016a01eebdbde",
     "locked": true,
     "schema_version": 3,
     "solution": false,
     "task": false
    }
   },
   "source": [
    "Great, if you passed the previous sanity check, your function is probably correct. Now it's time for the visual test. In the next cell we have declared 2 sliders, one for the period `T` and one for the angle `alpha` that will define the modulation plane wave. \n",
    "\n",
    "Run the next cell, and make sure that the experimental results match the equation presented in section [2.A. Modulation](#2.A.-Modulation-(1-point)). Go to the menu `Extra Widgets` to play with $T$ and $\\alpha$."
   ]
  },
  {
   "cell_type": "code",
   "execution_count": null,
   "metadata": {
    "deletable": false,
    "editable": false,
    "nbgrader": {
     "cell_type": "code",
     "checksum": "fe93edc4769f94c1f085d520f1061dfe",
     "grade": false,
     "grade_id": "cell-b5885b2ec8cd35d8",
     "locked": true,
     "schema_version": 3,
     "solution": false,
     "task": false
    },
    "tags": []
   },
   "outputs": [],
   "source": [
    "# Declare necessary widgets\n",
    "T_slider = widgets.IntSlider(value=64, min=0, max=128, step=2, description='T')\n",
    "alpha_slider = widgets.IntSlider(value=90, min=-90, max=90, step=5, description='\\u03b1')\n",
    "button = widgets.Button(description='Modulate')\n",
    "\n",
    "# declare the button callback\n",
    "def modulation_callback(img):\n",
    "    T = T_slider.value\n",
    "    alpha = alpha_slider.value\n",
    "    mod_img, _ = modulate(img, T, alpha)\n",
    "    return mod_img\n",
    "\n",
    "def ft_callback(img):\n",
    "    T = T_slider.value\n",
    "    alpha = alpha_slider.value\n",
    "    _, mag_ft = modulate(img, T, alpha)\n",
    "    return mag_ft\n",
    "\n",
    "# Visualize\n",
    "plt.close('all')\n",
    "mod_viewer = viewer([car, car], title=['Modulated car', 'Modulated car FT'], new_widgets=[T_slider, alpha_slider, button], \n",
    "                    callbacks=[modulation_callback, ft_callback], widgets=True, subplots=(1,2))\n",
    "button.click()"
   ]
  },
  {
   "cell_type": "markdown",
   "metadata": {
    "deletable": false,
    "editable": false,
    "kernel": "Python3",
    "nbgrader": {
     "cell_type": "markdown",
     "checksum": "499041d32699ba08506bc3cd5dc1157f",
     "grade": false,
     "grade_id": "cell-fa915af9bcffb903",
     "locked": true,
     "schema_version": 3,
     "solution": false,
     "task": false
    },
    "user_expressions": []
   },
   "source": [
    "(reconstruction-of-an-image)=\n",
    "# 3. Reconstruction of an image (3 points)\n",
    "[Back to table of contents](#ToC_2_Fourier_transform)\n",
    "\n",
    "As you learned in the course, it is possible to reconstruct an image from its Fourier transform by performing the inverse Fourier transform. In the next exercise we will investigate the role that the magnitude and phase of the *FT* has on the reconstruction of an image. For this we first need to create a function that reconstructs an image from its *FT* magnitude (in $\\mathrm{dB}$) and phase. Run the next cell to define the function `reconstruct` and make sure that you understand every line of the code."
   ]
  },
  {
   "cell_type": "code",
   "execution_count": null,
   "metadata": {
    "deletable": false,
    "editable": false,
    "kernel": "SoS",
    "nbgrader": {
     "cell_type": "code",
     "checksum": "6a474ac4f92693ec17714d8dfd280196",
     "grade": false,
     "grade_id": "cell-135e619da9bddb99",
     "locked": true,
     "schema_version": 3,
     "solution": false,
     "task": false
    },
    "tags": []
   },
   "outputs": [],
   "source": [
    "# Function that reconstructs an image from its FT magnitude (in dB) and phase\n",
    "def reconstruct(mag, ph):\n",
    "    # Since the magnitude is in dB we first need to convert it back\n",
    "    mag = 10 ** (mag / 20)\n",
    "    # Now we can restore the complex FT from the magnitude and phase using the polar representation\n",
    "    ft = mag * np.exp(1j * ph)\n",
    "    # Having the complex FT we can simply use the inverse_fourier function that we defined above to reconstruct the image\n",
    "    return inverse_fourier(ft)"
   ]
  },
  {
   "cell_type": "markdown",
   "metadata": {
    "deletable": false,
    "editable": false,
    "kernel": "SoS",
    "nbgrader": {
     "cell_type": "markdown",
     "checksum": "88b8150094cfae8997a791648aa849b1",
     "grade": false,
     "grade_id": "cell-760695d66a5c92a8",
     "locked": true,
     "schema_version": 3,
     "solution": false,
     "task": false
    },
    "user_expressions": []
   },
   "source": [
    "Let's see if the function works. Run the cell below to reconstruct the car image from its magnitude and phase, and visualize the result. \n",
    "\n",
    ":::{important}\n",
    "If the reconstruction is not near perfect, check again your functions `magnitude` and `phase`. You will need both functions to answer the next questions. \n",
    ":::"
   ]
  },
  {
   "cell_type": "code",
   "execution_count": null,
   "metadata": {
    "deletable": false,
    "editable": false,
    "kernel": "SoS",
    "nbgrader": {
     "cell_type": "code",
     "checksum": "fdd0a4b53487acc7de6a592d63306fb7",
     "grade": false,
     "grade_id": "cell-d3de1befc78e32cc",
     "locked": true,
     "schema_version": 3,
     "solution": false,
     "task": false
    },
    "tags": []
   },
   "outputs": [],
   "source": [
    "# Reconstruct the car image\n",
    "car_reconstructed = reconstruct(car_ft_mag, car_ft_ph)\n",
    "# Display the result\n",
    "plt.close('all')\n",
    "ft_rec_vis = viewer([car, car_reconstructed], title=['Original car', 'Reconstructed car'], subplots=(1,2))\n",
    "np.testing.assert_array_almost_equal(car, car_reconstructed, err_msg='Check again your magnitude and phase functions!')"
   ]
  },
  {
   "cell_type": "markdown",
   "metadata": {
    "deletable": false,
    "editable": false,
    "kernel": "SoS",
    "nbgrader": {
     "cell_type": "markdown",
     "checksum": "8e9bd20e43de531dc9d8d26b85a25508",
     "grade": false,
     "grade_id": "cell-725bb93760893450",
     "locked": true,
     "schema_version": 3,
     "solution": false,
     "task": false
    }
   },
   "source": [
    "Since we didn't make any changes to the *FT* before the reconstruction, the reconstructed image should be (almost) identical to the original image (if it's not, you should have seen an error message). \n",
    "\n",
    "For the next excercise we will use the `pens` image in addition to the car image. Run the next cell to visualize it again. Moreover, we will plot its *FT*'s magnitude and phase (browse through the images with the buttons `Next` & `Prev`). This will help you to answer the upcoming questions."
   ]
  },
  {
   "cell_type": "code",
   "execution_count": null,
   "metadata": {
    "deletable": false,
    "editable": false,
    "kernel": "SoS",
    "nbgrader": {
     "cell_type": "code",
     "checksum": "51e991a37294ad90cb1851ca0bbca2a7",
     "grade": false,
     "grade_id": "cell-f2671c4dcbeb39a8",
     "locked": true,
     "schema_version": 3,
     "solution": false,
     "task": false
    }
   },
   "outputs": [],
   "source": [
    "# Generate FT of the pens image\n",
    "pens_ft = fourier(pens)\n",
    "# Extract the magnitude and phase\n",
    "pens_ft_mag = magnitude(pens_ft)\n",
    "pens_ft_ph = phase(pens_ft)\n",
    "\n",
    "# Visualize\n",
    "plt.close('all')\n",
    "pens_vis = viewer([pens, pens_ft_mag, pens_ft_ph], widgets=True)"
   ]
  },
  {
   "cell_type": "markdown",
   "metadata": {
    "deletable": false,
    "editable": false,
    "kernel": "SoS",
    "nbgrader": {
     "cell_type": "markdown",
     "checksum": "b1a155e102d048242ca24085147f8022",
     "grade": false,
     "grade_id": "cell-3632f02d41668d81",
     "locked": true,
     "schema_version": 3,
     "solution": false,
     "task": false
    }
   },
   "source": [
    "Now lets see what happens if we use the magnitude of one image and the phase of another image to do the reconstruction. What do you think will happen? Run the cell below and observe the results. Try to make a conclusion on what type of information is stored in the phase of the *FT*."
   ]
  },
  {
   "cell_type": "code",
   "execution_count": null,
   "metadata": {
    "deletable": false,
    "editable": false,
    "kernel": "SoS",
    "nbgrader": {
     "cell_type": "code",
     "checksum": "c27942798e0d825b27d479d55623f2b7",
     "grade": false,
     "grade_id": "cell-edfa23d685d4fef9",
     "locked": true,
     "schema_version": 3,
     "solution": false,
     "task": false
    }
   },
   "outputs": [],
   "source": [
    "# Reconstruct an image with the magnitude of car and phase of pens\n",
    "car_pens = reconstruct(car_ft_mag, pens_ft_ph)\n",
    "# Reconstruct an image with the magnitude of pens and phase of car\n",
    "pens_car = reconstruct(pens_ft_mag, car_ft_ph)\n",
    "# Visualize the results\n",
    "plt.close('all')\n",
    "rec_comp_vis = viewer([car_pens, pens_car], title=['Magn. = car, Phase = pens', 'Magn. = pens, Phase = car'], subplots=(1,2))"
   ]
  },
  {
   "cell_type": "markdown",
   "metadata": {
    "deletable": false,
    "editable": false,
    "kernel": "SoS",
    "nbgrader": {
     "cell_type": "markdown",
     "checksum": "1c0412e4461e10fb89132ea83a3e9eed",
     "grade": false,
     "grade_id": "cell-ba7b60defd1c42b0",
     "locked": true,
     "schema_version": 3,
     "solution": false,
     "task": false
    },
    "user_expressions": []
   },
   "source": [
    "### Multiple choice question\n",
    "\n",
    "For **0.5 points**, what type of information of the image is stored in the **phase** of the FT that is **not stored** in the magnitude? \n",
    "\n",
    "\n",
    "1. The spatial frequencies contained in the image.\n",
    "2. The light intensity of each pixel.\n",
    "3. The location of objects (i.e. sinusoids) in the image.\n",
    "\n",
    "Modify the variable `answer`in the next cell to reflect your choice. The second cell is for you to check that you have entered a valid answer.\n",
    "\n",
    ":::{hint}\n",
    "If you have doubts, you can go back to the widget right before [section 2](#understanding-the-fourier-transform). Moreover, look carefully at the *periodic patterns* in the two images above.\n",
    ":::"
   ]
  },
  {
   "cell_type": "code",
   "execution_count": null,
   "metadata": {
    "deletable": false,
    "kernel": "SoS",
    "nbgrader": {
     "cell_type": "code",
     "checksum": "1669be8b9f5cd78fa45b864af90576c1",
     "grade": false,
     "grade_id": "ans-7e7c03216cfd90a0",
     "locked": false,
     "schema_version": 3,
     "solution": true,
     "task": false
    }
   },
   "outputs": [],
   "source": [
    "# Assign your answer to this variable\n",
    "answer = None\n",
    "# YOUR CODE HERE"
   ]
  },
  {
   "cell_type": "code",
   "execution_count": null,
   "metadata": {
    "deletable": false,
    "editable": false,
    "kernel": "SoS",
    "nbgrader": {
     "cell_type": "code",
     "checksum": "db9d1a31a20d9bb4fe0cae9322f074b9",
     "grade": true,
     "grade_id": "grad-5da443479b1400ff",
     "locked": true,
     "points": 1,
     "schema_version": 3,
     "solution": false,
     "task": false
    }
   },
   "outputs": [],
   "source": [
    "# Sanity check\n",
    "if not answer in [1, 2, 3]:\n",
    "    print('WARNING!\\nValid answers are 1, 2 or 3.')"
   ]
  },
  {
   "cell_type": "markdown",
   "metadata": {
    "deletable": false,
    "editable": false,
    "kernel": "Python3",
    "nbgrader": {
     "cell_type": "markdown",
     "checksum": "6227e3814c09423e549957fcd0a31bd0",
     "grade": false,
     "grade_id": "cell-9a92d5cbd8420331",
     "locked": true,
     "schema_version": 3,
     "solution": false,
     "task": false
    },
    "user_expressions": []
   },
   "source": [
    "(reconstruction-error)=\n",
    "## 3.A. Reconstruction error (1 point)\n",
    "[Back to table of contents](#ToC_2_Fourier_transform)\n",
    "\n",
    "How many Fourier coefficients do we really need to keep to still have the basic information present in an image? Do all coefficients contribute the same? In order to quantify _how good_ a certain reconstruction is, we will use a metric to assess the quality of the reconstruction.\n",
    "\n",
    "The metric we use is the normalized mean square error (NMSE) in dB. It calculates the difference between an image $f$ of size $K\\times L$ and its reconstruction $g$ normalizes by the total power of $f$.\n",
    "\n",
    "$$\\operatorname{NMSE}_f(g) =  \\frac{\\sum_{k=1}^{K} \\sum_{l=1}^L (g[k,l] - f[k,l])^2}{\\sum_{m=1}^{K} \\sum_{n=1}^L f[m,n]^2}\\mbox{, and } \\operatorname{NMSE}_f(g)~[\\mathrm{dB}] = 10 \\log_{10}\\left(\\operatorname{NMSE}_f(g)\\right).$$\n",
    "\n",
    "This makes it easier for one to observe, for example, when the error has doubled ($+3~\\mathrm{dB}$) or halved ($-3~\\mathrm{dB}$) in plots.\n",
    "\n",
    "For **1 point**, complete the function `nmse(f, g)` in the cell below according to the equation given above, where `f` and `g` are two NumPy arrays of the same shape.\n",
    "\n",
    ":::{warning}\n",
    "Remember that your function should **not use `for` loops** to iterate through images (this will give you $0$ points), and should work for NumPy arrays of any shape.\n",
    ":::"
   ]
  },
  {
   "cell_type": "code",
   "execution_count": null,
   "metadata": {
    "deletable": false,
    "kernel": "SoS",
    "nbgrader": {
     "cell_type": "code",
     "checksum": "38fd67ee7d129dbeb60270ebe95c11b1",
     "grade": false,
     "grade_id": "ans-8dded687cf67f4f1",
     "locked": false,
     "schema_version": 3,
     "solution": true,
     "task": false
    }
   },
   "outputs": [],
   "source": [
    "# Function that calculates the Normalized Mean Square Error in dB\n",
    "def nmse(f, g):\n",
    "    # Declare the output variable\n",
    "    output = None\n",
    "    \n",
    "    # YOUR CODE HERE\n",
    "    \n",
    "    # Return MSE\n",
    "    return output"
   ]
  },
  {
   "cell_type": "code",
   "execution_count": null,
   "metadata": {
    "deletable": false,
    "editable": false,
    "kernel": "SoS",
    "nbgrader": {
     "cell_type": "code",
     "checksum": "8eb99e614626a8f48a45e7367729ff96",
     "grade": true,
     "grade_id": "grad-f43f5970d01e3a71",
     "locked": true,
     "points": 1,
     "schema_version": 3,
     "solution": false,
     "task": false
    }
   },
   "outputs": [],
   "source": [
    "# Sanity check (do not worry about the divide by zero note)\n",
    "if  nmse(impulse, impulse) != -np.infty: \n",
    "    print('The error between two equal images should be zero. In dB -infinity.')\n",
    "# Check your function on the hrct image\n",
    "elif nmse(impulse, 0) != 0:\n",
    "    print('The error of any image and a zero-image should be 1. In dB, 0.')\n",
    "else:\n",
    "    print('Nice, your function seems to work! Do not worry about the divide by zero warning!')"
   ]
  },
  {
   "cell_type": "markdown",
   "metadata": {
    "deletable": false,
    "editable": false,
    "kernel": "SoS",
    "nbgrader": {
     "cell_type": "markdown",
     "checksum": "0407ac4b588a1d64a3f6cbd1595e8bb0",
     "grade": false,
     "grade_id": "cell-0a2def51f8d1b167",
     "locked": true,
     "schema_version": 3,
     "solution": false,
     "task": false
    },
    "user_expressions": []
   },
   "source": [
    "(fourier-components)=\n",
    "## 3.B. Fourier components (1 point)\n",
    "[Back to table of contents](#ToC_2_Fourier_transform)\n",
    "\n",
    "In this section we look into the reconstruction process of an image from part of its Fourier components. This touches a topic that will continue to appear in IP1 and IP2: how much does a given transform compress an image? \n",
    "\n",
    "We define a function `clip_fourier(img, percent)` that reconstructs an image for only `percent`$\\%$ of its Fourier coefficients. If `largest=True`, only the largest are kept, while \n",
    "if `largest=False`, they are excluded and only all the rest are kept. This will illustrate the uneven distribution of information contained in the Fourier components.\n",
    "\n",
    "Run the next cell to define the function `clip_fourier`."
   ]
  },
  {
   "cell_type": "code",
   "execution_count": null,
   "metadata": {
    "deletable": false,
    "editable": false,
    "kernel": "SoS",
    "nbgrader": {
     "cell_type": "code",
     "checksum": "9b35cc3d2e031d16fd585da529da36dc",
     "grade": false,
     "grade_id": "cell-f35ca285f774a8b7",
     "locked": true,
     "schema_version": 3,
     "solution": false,
     "task": false
    }
   },
   "outputs": [],
   "source": [
    " def clip_fourier(img, percent, largest=True, perc=True):\n",
    "    # Get number of coefficients to keep\n",
    "    if perc:\n",
    "        # Extract from percentage\n",
    "        n = np.round(np.prod(img.shape) * percent / 100).astype(int)\n",
    "    else: \n",
    "        # Pass directly\n",
    "        n = percent\n",
    "    # Get ft of img\n",
    "    img_ft = np.fft.fft2(img)\n",
    "    # Get the threshold value. To do this, we order the Fourier coefficients \n",
    "    # from low to high and select the n-to-last ([-n]) coefficient\n",
    "    threshold = np.sort(np.abs(img_ft.flatten()))[-n]\n",
    "    if largest == True:\n",
    "        # Get the inverse Fourier transform of the thresholded Fourier transform\n",
    "        clipped_ift = np.real(np.fft.ifft2((np.abs(img_ft) >= threshold) * img_ft))\n",
    "    else:\n",
    "        # Get the inverse Fourier transform of the thresholded Fourier transform\n",
    "        clipped_ift = np.real(np.fft.ifft2((np.abs(img_ft) < threshold) * img_ft))\n",
    "    return clipped_ift"
   ]
  },
  {
   "cell_type": "markdown",
   "metadata": {
    "deletable": false,
    "editable": false,
    "kernel": "SoS",
    "nbgrader": {
     "cell_type": "markdown",
     "checksum": "9f33cddbab02fab2d64ece089435afb3",
     "grade": false,
     "grade_id": "cell-9445799bbeb15ffe",
     "locked": true,
     "schema_version": 3,
     "solution": false,
     "task": false
    }
   },
   "source": [
    "Let's use the error metric `nmse` defined before to illustrate the difference in information contained in the few largest Fourier components compared to the information contained in the rest. In the cell below we will reconstruct the image `zebra` using: \n",
    " * only the `percent` largest Fourier components, and \n",
    " * using the `100-percent` smallest components. \n",
    "\n",
    "Then we will compare the reconstruction error by applying the `nmse` function defined above with both reconstructions. Run the cell below to see the different reconstruction errors. Play with the variable `percent` and see what happens."
   ]
  },
  {
   "cell_type": "code",
   "execution_count": null,
   "metadata": {
    "kernel": "SoS"
   },
   "outputs": [],
   "source": [
    "import warnings\n",
    "# Suppress traitlets deprecation warning - do not modify\n",
    "warnings.simplefilter(\"ignore\")\n",
    "\n",
    "percent = 20\n",
    "# First, reconstruct zebra using the largest components\n",
    "zebra_largest = clip_fourier(zebra, percent)\n",
    "# Reconstruct zebra using the smallest components\n",
    "zebra_smallest = clip_fourier(zebra, percent, largest=False)\n",
    "# Calculate the errors\n",
    "error_l = nmse(zebra, zebra_largest )\n",
    "error_s = nmse(zebra, zebra_smallest)\n",
    "# Compare the error\n",
    "print(f'The reconstruction error when using the {percent}% largest  components: NMSE = {error_l:.4f}')\n",
    "print(f\"The reconstruction error when using the {100 - percent}% smallest components: NMSE = {error_s:6.4f}\")\n",
    "# Visualize images\n",
    "view = viewer([zebra, zebra_largest, zebra_smallest], \n",
    "              title=['Original', f'{percent}% Largest Components', f'{100-percent}% Smallest Components'], \n",
    "              widgets=True)"
   ]
  },
  {
   "cell_type": "markdown",
   "metadata": {
    "deletable": false,
    "editable": false,
    "kernel": "SoS",
    "nbgrader": {
     "cell_type": "markdown",
     "checksum": "ab028d52c9cd1ba12e48e384a23b27aa",
     "grade": false,
     "grade_id": "cell-af1dad6c7d299b33",
     "locked": true,
     "schema_version": 3,
     "solution": false,
     "task": false
    }
   },
   "source": [
    "In the long run, this type of characteristics of transforms are explored using graphs like the one below, where the NMSE can be seen as a function of the percentage of the largest coefficients kept."
   ]
  },
  {
   "cell_type": "code",
   "execution_count": null,
   "metadata": {
    "deletable": false,
    "editable": false,
    "kernel": "SoS",
    "nbgrader": {
     "cell_type": "code",
     "checksum": "42a398134d662067074ed05990c41398",
     "grade": false,
     "grade_id": "cell-9ee60b5808fea24d",
     "locked": true,
     "schema_version": 3,
     "solution": false,
     "task": false
    }
   },
   "outputs": [],
   "source": [
    "plt.close(\"all\")\n",
    "# Create figure\n",
    "fig = plt.figure(num=f\"SCIPER: {uid}\",figsize=(8,5));\n",
    "# Plot the NMSE vs kept coefficients curve\n",
    "plt.plot(np.arange(.5, 100, 5), [nmse(zebra, clip_fourier(zebra, perc)) for perc in np.arange(.5, 100, 5)], 'bo-');\n",
    "# Labels and titles for clear plotting\n",
    "plt.xlabel(\"Percentage of coefficients kept\"); plt.ylabel(\"NMSE [dB]\"); \n",
    "plt.xticks([0, 20, 40, 60, 80, 100], [f\"{perc}%\" for perc in [0, 20, 40, 60, 80, 100]]);\n",
    "plt.title(\"Reconstructing zebra with the largest Fourier coefs.\")\n",
    "plt.show()"
   ]
  },
  {
   "cell_type": "markdown",
   "metadata": {
    "deletable": false,
    "editable": false,
    "kernel": "Python3",
    "nbgrader": {
     "cell_type": "markdown",
     "checksum": "592e2bbc14e2f2f60c06adfe3bf2c612",
     "grade": false,
     "grade_id": "cell-aca9c2e4d2518fc6",
     "locked": true,
     "schema_version": 3,
     "solution": false,
     "task": false
    },
    "user_expressions": []
   },
   "source": [
    "Now we are going to create a widget to apply the function to an image and dynamically visualize its effect. \n",
    "\n",
    "We will define a slider to choose an integer `n` such that **the number of largest coefficients kept is $2^n$**. \n",
    "\n",
    ":::{note}\n",
    "The visual difference between the reconstructions is only apparent for percentages between $0\\%$ and $2\\%$, and very small steps would be needed. Keep in mind that you are not working with percentages anymore.\n",
    ":::\n",
    "\n",
    "We will also provide a checkbox to switch between the two modes of operation (keeping the largest, or keeping all the rest). Click the button `Apply` to apply `clip_fourier()` with the chosen parameter on the image. Run the next cell and click on `Extra Widgets` to use the widget. Explore the results carefuly."
   ]
  },
  {
   "cell_type": "code",
   "execution_count": null,
   "metadata": {
    "deletable": false,
    "editable": false,
    "kernel": "SoS",
    "nbgrader": {
     "cell_type": "code",
     "checksum": "1bb4c5fdedf4374af232bc3e8cbdb4a7",
     "grade": false,
     "grade_id": "cell-c4b7a812e25017e1",
     "locked": true,
     "schema_version": 3,
     "solution": false,
     "task": false
    }
   },
   "outputs": [],
   "source": [
    "# Declare slider and checkbox\n",
    "n_slider = widgets.IntSlider(value=16, min=0, max=16, step=1, description='n')\n",
    "checkbox = widgets.Checkbox(value=True, description='Use largest components')\n",
    "\n",
    "# Declare btutton\n",
    "button = widgets.Button(description='Apply')\n",
    "\n",
    "# declare the button callback\n",
    "def button_callback(image):\n",
    "    n      = n_slider.value\n",
    "    check  = checkbox.value\n",
    "    output = clip_fourier(image, 2**n, largest=check, perc=False)\n",
    "    return output\n",
    "\n",
    "# declare the button callback\n",
    "def button_callback_fourier(image):\n",
    "    n      = n_slider.value\n",
    "    check  = checkbox.value\n",
    "    output = clip_fourier(image, 2**n, largest=check, perc=False)\n",
    "    output = 10*np.log10(np.abs(np.fft.fftshift(np.fft.fft2(output)))+1e-3)\n",
    "    return output\n",
    "\n",
    "# visualize\n",
    "plt.close('all')\n",
    "cfourier_viewer = viewer([zebra, zebra], title=[\"Clipping the FT\", 'FT of the clipped image'], new_widgets=[n_slider, checkbox, button], callbacks = [button_callback, button_callback_fourier], widgets=True, normalize=True, subplots=(1,2))\n",
    "button.click()"
   ]
  },
  {
   "cell_type": "markdown",
   "metadata": {
    "deletable": false,
    "editable": false,
    "kernel": "Python3",
    "nbgrader": {
     "cell_type": "markdown",
     "checksum": "8b720fada328e8e47c1ad6b4ace700da",
     "grade": false,
     "grade_id": "cell-167b4895c49676c8",
     "locked": true,
     "schema_version": 3,
     "solution": false,
     "task": false
    }
   },
   "source": [
    "### Multiple Choice Question\n",
    "Congratulations! You made it to the end of the notebook. Now you just need to answer these last two MCQ questions (**0.5 points** each).\n",
    "\n",
    "* Q1: How many largest Fourier coefficients are required to start **clearly** noting a zebra in the image?\n",
    "    1. $2^{1}$\n",
    "    2. $2^{4}$\n",
    "    3. $2^{11}$\n",
    "    4. $2^{16}$\n",
    "\n",
    "Modify the variable `answer` to reflect your choice. The second cell will raise an error if you have not answered."
   ]
  },
  {
   "cell_type": "code",
   "execution_count": null,
   "metadata": {
    "deletable": false,
    "kernel": "SoS",
    "nbgrader": {
     "cell_type": "code",
     "checksum": "8876a88072894f67b27f315c31e7338e",
     "grade": false,
     "grade_id": "ans-ee040ab2d1398a93",
     "locked": false,
     "schema_version": 3,
     "solution": true,
     "task": false
    }
   },
   "outputs": [],
   "source": [
    "# assign your answer to this variable\n",
    "answer = None\n",
    "# YOUR CODE HERE"
   ]
  },
  {
   "cell_type": "code",
   "execution_count": null,
   "metadata": {
    "deletable": false,
    "editable": false,
    "kernel": "SoS",
    "nbgrader": {
     "cell_type": "code",
     "checksum": "203a4e079922d52ec2a91415a58aa95f",
     "grade": true,
     "grade_id": "grad-614f5700675a0260",
     "locked": true,
     "points": 0.5,
     "schema_version": 3,
     "solution": false,
     "task": false
    }
   },
   "outputs": [],
   "source": [
    "if not answer in [1, 2, 3, 4]: \n",
    "    print('WARNING!\\nPossible answers are 1, 2, 3 and 4.')"
   ]
  },
  {
   "cell_type": "markdown",
   "metadata": {
    "deletable": false,
    "editable": false,
    "kernel": "Python3",
    "nbgrader": {
     "cell_type": "markdown",
     "checksum": "4afd7e39cf02b4d7bdca943f890d20a4",
     "grade": false,
     "grade_id": "cell-fea792cc3a05b29b",
     "locked": true,
     "schema_version": 3,
     "solution": false,
     "task": false
    }
   },
   "source": [
    "* Q2: How is it possible to reconstruct a non-periodic object such as the zebra (there is only one zebra in the image) in an image from only periodic components?\n",
    "    1. The black and white stripes in the zebra make it possible.\n",
    "    2. The FT assumes that the image is periodic in space.\n",
    "    3. The biggest components of the FT are non-periodic, to account for such features in an image.\n",
    "\n",
    "Modify the variable `answer` to reflect your choice. The second cell will raise an error if you have not answered."
   ]
  },
  {
   "cell_type": "code",
   "execution_count": null,
   "metadata": {
    "deletable": false,
    "kernel": "SoS",
    "nbgrader": {
     "cell_type": "code",
     "checksum": "e02cbb923865a1c12ad140a428731c00",
     "grade": false,
     "grade_id": "ans-9a7c38e4ea3a4322",
     "locked": false,
     "schema_version": 3,
     "solution": true,
     "task": false
    }
   },
   "outputs": [],
   "source": [
    "# Assign your answer to this variable\n",
    "answer = None\n",
    "# YOUR CODE HERE"
   ]
  },
  {
   "cell_type": "code",
   "execution_count": null,
   "metadata": {
    "deletable": false,
    "editable": false,
    "kernel": "SoS",
    "nbgrader": {
     "cell_type": "code",
     "checksum": "bafc5041bfb196b0af8dad218c70fde9",
     "grade": true,
     "grade_id": "grad-08af35ecf1d0b4b8",
     "locked": true,
     "points": 0.5,
     "schema_version": 3,
     "solution": false,
     "task": false
    }
   },
   "outputs": [],
   "source": [
    "if not answer in [1, 2, 3]: \n",
    "    print('WARNING!\\nPossible answers are 1, 2 and 3.')"
   ]
  },
  {
   "cell_type": "markdown",
   "metadata": {
    "deletable": false,
    "editable": false,
    "kernel": "SoS",
    "nbgrader": {
     "cell_type": "markdown",
     "checksum": "dcf0e6de2d06b6994fbc9da4a4eca4bf",
     "grade": false,
     "grade_id": "cell-6deaf74b6ab1ae1f",
     "locked": true,
     "schema_version": 3,
     "solution": false,
     "task": false
    },
    "user_expressions": []
   },
   "source": [
    "Congratulations on finishing the second part of the Pixel-Fourier lab!\n",
    "\n",
    ":::{attention}\n",
    "Make sure to save your notebook (you might want to keep a copy on your personal computer) and upload it to [Moodle](https://moodle.epfl.ch/mod/assign/view.php?id=1157357), in a zip file with the other notebook of this lab.\n",
    "\n",
    "* Keep the name of the notebook as: *2_Fourier_Transform.ipynb*,\n",
    "* Name the zip file: *Pixel_Fourier_lab.zip*.\n",
    ":::"
   ]
  }
 ],
 "metadata": {
  "kernelspec": {
   "display_name": "Python3",
   "language": "python",
   "name": "python3"
  },
  "language_info": {
   "codemirror_mode": {
    "name": "ipython",
    "version": 3
   },
   "file_extension": ".py",
   "mimetype": "text/x-python",
   "name": "python",
   "nbconvert_exporter": "python",
   "pygments_lexer": "ipython3",
   "version": "3.11.5"
  },
  "sos": {
   "kernels": [
    [
     "JavaScript",
     "javascript",
     "JavaScript",
     "#c8e1ae",
     ""
    ],
    [
     "SoS",
     "sos",
     "",
     "",
     "sos"
    ]
   ],
   "panel": {
    "displayed": false,
    "height": 0
   },
   "version": "0.21.9"
  }
 },
 "nbformat": 4,
 "nbformat_minor": 4
}
