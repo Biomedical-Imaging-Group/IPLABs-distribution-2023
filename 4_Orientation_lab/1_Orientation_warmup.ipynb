{
 "cells": [
  {
   "cell_type": "markdown",
   "metadata": {
    "deletable": false,
    "editable": false,
    "kernel": "SoS",
    "nbgrader": {
     "cell_type": "markdown",
     "checksum": "bd4ff77579ffff25b4375cb96eb1f158",
     "grade": false,
     "grade_id": "cell-da500ff8cea1b918",
     "locked": true,
     "schema_version": 3,
     "solution": false,
     "task": false
    }
   },
   "source": [
    "<img src=\"https://www.epfl.ch/about/overview/wp-content/uploads/2020/07/logo-epfl-1024x576.png\" style=\"padding-right:10px;width:140px;float:left\"></td>\n",
    "<h2 style=\"white-space: nowrap\">Image Processing Laboratory Notebooks</h2>\n",
    "<hr style=\"clear:both\">\n",
    "<p style=\"font-size:0.85em; margin:2px; text-align:justify\">\n",
    "This Juypter notebook is part of a series of computer laboratories which are designed\n",
    "to teach image-processing programming; they are running on the EPFL's Noto server. They are the practical complement of the theoretical lectures of the EPFL's Master course <b>Image Processing II</b> \n",
    "(<a href=\"https://moodle.epfl.ch/course/view.php?id=463\">MICRO-512</a>) taught by Dr. D. Sage, Dr. M. Liebling, Prof. M. Unser and Prof. D. Van de Ville.\n",
    "</p>\n",
    "<p style=\"font-size:0.85em; margin:2px; text-align:justify\">\n",
    "The project is funded by the Center for Digital Education and the School of Engineering. It is owned by the <a href=\"http://bigwww.epfl.ch/\">Biomedical Imaging Group</a>. \n",
    "The distribution or the reproduction of the notebook is strictly prohibited without the written consent of the authors.  &copy; EPFL <mark>2024</mark>.\n",
    "</p>\n",
    "<p style=\"font-size:0.85em; margin:0px\"><b>Authors</b>: \n",
    "    <a href=\"mailto:pol.delaguilapla@epfl.ch\">Pol del Aguila Pla</a>, \n",
    "    <a href=\"mailto:kay.lachler@epfl.ch\">Kay L\u00e4chler</a>,\n",
    "    <a href=\"mailto:alejandro.nogueronaramburu@epfl.ch\">Alejandro Noguer\u00f3n Ar\u00e1mburu</a>,\n",
    "    <a href=\"mailto:daniel.sage@epfl.ch\">Daniel Sage</a>.\n",
    "     \n",
    "</p>\n",
    "<hr style=\"clear:both\">\n",
    "<h1>Lab 4.1: Orientation warm-up</h1>\n",
    "<div style=\"background-color:#F0F0F0;padding:4px\">\n",
    "    <p style=\"margin:4px;\"><b>Released</b>: <mark>Thursday February 22, 2024</mark></p>\n",
    "    <p style=\"margin:4px;\"><b>Submission</b>: <span style=\"color:red\"><mark>Monday March 4, 2024</mark></span> (before 11:59PM) on <a href=\"https://moodle.epfl.ch/course/view.php?id=463\">Moodle</a></p>\n",
    "    <p style=\"margin:4px;\"><b>Lab session</b>: <mark>Thursday 29 February in CM 1 2</mark></p>    \n",
    "    <p style=\"margin:4px;\"><b>Related lectures</b>: Chapter 6</p>\n",
    "</div>"
   ]
  },
  {
   "cell_type": "markdown",
   "metadata": {
    "kernel": "SoS"
   },
   "source": [
    "### Student Name: \n",
    "### SCIPER: \n",
    "\n",
    "Double-click on this cell and fill your name and SCIPER number. Then, run the cell below to verify your identity in Noto and set the seed for random results."
   ]
  },
  {
   "cell_type": "code",
   "execution_count": null,
   "metadata": {
    "deletable": false,
    "editable": false,
    "kernel": "SoS",
    "nbgrader": {
     "cell_type": "code",
     "checksum": "164a56e7773f1993ef2c2dcdaa097d74",
     "grade": true,
     "grade_id": "cell-5c658c62e400d791",
     "locked": true,
     "points": 0,
     "schema_version": 3,
     "solution": false,
     "task": false
    }
   },
   "outputs": [],
   "source": [
    "%use sos\n",
    "import getpass\n",
    "# This line recovers your camipro number to mark the images with your ID\n",
    "uid = int(getpass.getuser().split('-')[2]) if len(getpass.getuser().split('-')) > 2 else ord(getpass.getuser()[0])\n",
    "print(f'SCIPER: {uid}')"
   ]
  },
  {
   "cell_type": "markdown",
   "metadata": {
    "deletable": false,
    "editable": false,
    "kernel": "SoS",
    "nbgrader": {
     "cell_type": "markdown",
     "checksum": "22c3ebd03d5888fabb56c3cbd91f48f1",
     "grade": false,
     "grade_id": "cell-b49b50603d5e20e4",
     "locked": true,
     "schema_version": 3,
     "solution": false,
     "task": false
    }
   },
   "source": [
    "## <a name=\"imports_\"></a> Imports\n",
    "In the next cell we import Python libraries we will use throughout the lab, as well as the `ImageViewer` class, created specifically for this course, which provides interactive image visualization based on the `ipywidgets` library. We will import:\n",
    "\n",
    "* [`matplotlib.pyplot`](https://matplotlib.org/3.2.2/api/_as_gen/matplotlib.pyplot.html), to display images,\n",
    "* [`ipywidgets`](https://ipywidgets.readthedocs.io/en/latest/), to make the image display interactive,\n",
    "* [`numpy`](https://numpy.org/doc/stable/reference/index.html), for mathematical operations on arrays,\n",
    "* [`cv2`](https://docs.opencv.org/2.4/index.html), for image processing tasks.\n",
    "\n",
    "We will then load the `ImageViewer` class (see the documentation [here](https://github.com/Biomedical-Imaging-Group/interactive-kit/wiki/Image-Viewer) or run the Python command `help(viewer)` after loading the class).\n",
    "\n",
    "Finally, we load the images you will use in the exercise to test your functions. "
   ]
  },
  {
   "cell_type": "code",
   "execution_count": null,
   "metadata": {
    "deletable": false,
    "editable": false,
    "kernel": "SoS",
    "nbgrader": {
     "cell_type": "code",
     "checksum": "93fcc297f3761a94f4825e2453e58426",
     "grade": false,
     "grade_id": "cell-2ad78c9e60b2be1e",
     "locked": true,
     "schema_version": 3,
     "solution": false,
     "task": false
    }
   },
   "outputs": [],
   "source": [
    "%use sos\n",
    "# Configure plotting as dynamic\n",
    "%matplotlib widget\n",
    "\n",
    "# Import standard required packages for this exercise\n",
    "import matplotlib.pyplot as plt\n",
    "import ipywidgets as widgets\n",
    "import numpy as np\n",
    "import cv2 as cv \n",
    "import scipy.signal\n",
    "from interactive_kit import imviewer as viewer \n",
    "\n",
    "# Load images to be used in this exercise \n",
    "dendrochronology = cv.imread('images/dendrochronolgy.tif', cv.IMREAD_UNCHANGED).astype('float64')"
   ]
  },
  {
   "cell_type": "markdown",
   "metadata": {
    "deletable": false,
    "editable": false,
    "kernel": "Python3",
    "nbgrader": {
     "cell_type": "markdown",
     "checksum": "1f442b5b7658681e37dd43af5767adb5",
     "grade": false,
     "grade_id": "cell-533a9b8829670b28",
     "locked": true,
     "schema_version": 3,
     "solution": false,
     "task": false
    }
   },
   "source": [
    "We also import the JavaScript `ImageAccess` class as `Image`. You can find the documentation of the class [here](https://biomedical-imaging-group.github.io/image-access/)."
   ]
  },
  {
   "cell_type": "code",
   "execution_count": null,
   "metadata": {
    "deletable": false,
    "editable": false,
    "kernel": "JavaScript",
    "nbgrader": {
     "cell_type": "code",
     "checksum": "b31005277e08744d46731bad4cccf967",
     "grade": true,
     "grade_id": "cell-ae9b3932eb838628",
     "locked": true,
     "points": 0,
     "schema_version": 3,
     "solution": false,
     "task": false
    }
   },
   "outputs": [],
   "source": [
    "%use javascript\n",
    "// import image-access as Image\n",
    "var Image = require('image-access')"
   ]
  },
  {
   "cell_type": "markdown",
   "metadata": {
    "deletable": false,
    "editable": false,
    "kernel": "SoS",
    "nbgrader": {
     "cell_type": "markdown",
     "checksum": "93c56c9a0131d7953966dd27156e7667",
     "grade": false,
     "grade_id": "cell-4b72a2bcfd3b306d",
     "locked": true,
     "schema_version": 3,
     "solution": false,
     "task": false
    }
   },
   "source": [
    "# Orientation warm-up (5 points)\n",
    "\n",
    "Lab 4 will introduce you to the implementation of image processing algorithms and systems that rely on directional analysis, i.e., on the orientation features of an image. Note that to obtain orientation features, one mainly uses linear filtering, which was covered in [Lab 2: Digital filtering](./1_Filtering.ipynb) of [Image Processing I](https://moodle.epfl.ch/enrol/index.php?id=522). In this warm-up notebook we take the opportunity for you to (re-)familiarize yourself with the tools we will use in the upcoming labs, like JavaScript, the [`ImageAccess`](https://biomedical-imaging-group.github.io/image-access/) class, Python, the [`ImageViewer`](https://github.com/Biomedical-Imaging-Group/interactive-kit/wiki/Image-Viewer) class, and [`openCV` (cv2)](https://docs.opencv.org/2.4/index.html). Moreover, you will learn some *advanced* or *efficient* filtering techniques. \n",
    "\n",
    "In short, you will implement an efficient approximation of the Gaussian smoothing filter, which you have seen in [Image Processing I](https://moodle.epfl.ch/course/view.php?id=522) and most likely in other subjects. If you didn't take [Image Processing I](https://moodle.epfl.ch/enrol/index.php?id=522) and/or are unsure about some functionalities, be sure to check out [Lab 0: Introductory](./Introductory.ipynb), where all the basic tools are thoroughly introduced. If you still have questions concerning either programming or the lab in general, don't hesitate to contact one of the TAs listed on [Moodle](https://moodle.epfl.ch/course/view.php?id=463).\n",
    "\n",
    "## <a id=\"ToC_1_Orientation_warm_up\"></a>Table of contents\n",
    "1. [Efficient Gaussian smoothing](#1.-Efficient-Gaussian-smoothing)\n",
    "    1. [Generating the box filter sizes](#1.A.-Generating-the-box-filter-sizes-(1-point)) **(1 point)**\n",
    "    2. [Implementation of a separable accumulation box filter](#1.B.-Implementation-of-a-separable-accumulation-box-filter-(4-points)) **(4 points)**\n",
    "\n",
    "<div class=\" alert alert-danger\">\n",
    "    \n",
    "<b>Important:</b> Each cell that contains code begins with <code>%use sos</code> or <code>%use javascript</code>. This indicates if the code in this specific cell should be executed in Python or JavaScript, respectively. Do not change or remove any lines of code that begin with an %. They need to be on the first lines of each cell for everything to work as expected.\n",
    "    \n",
    "</div>"
   ]
  },
  {
   "cell_type": "markdown",
   "metadata": {
    "deletable": false,
    "editable": false,
    "kernel": "Python3",
    "nbgrader": {
     "cell_type": "markdown",
     "checksum": "1baceda8cdc11650e572f23061dc84e3",
     "grade": false,
     "grade_id": "cell-10efff8d480e43f9",
     "locked": true,
     "schema_version": 3,
     "solution": false,
     "task": false
    }
   },
   "source": [
    "# 1. Efficient Gaussian smoothing\n",
    "[Back to table of contents](#ToC_1_Orientation_warm_up)\n",
    "\n",
    "Gaussian smoothing is a fundamental part of many image processing algorithms. It is most often used to suppress noise, which improves the reliability of any further processing. If you took Image Processing I, you already implemented a separable Gaussian smoothing algorithm in [Lab 2: Digital Filtering](./1_Filtering.ipynb), which is provided in the next cell. This function is significantly faster to run than it's non-separable version, but it can still take a pretty long time to complete when using large values of $\\sigma$. Therefore, we will now implement an approximation of the Gaussian smoothing function that has a runtime which is independent of $\\sigma$.\n",
    "\n",
    "First, run the cell below to define the separable Gaussian smoothing function. We'll need it to compare the execution time.\n",
    "<div class=\" alert alert-info\">\n",
    "\n",
    "<b>Note:</b> If you don't remember how the Gaussian filter works, look it up <a href='https://en.wikipedia.org/wiki/Gaussian_blur'>here</a>. In any case, read through the code provided below and make sure you understand what each line is doing.\n",
    "</div>"
   ]
  },
  {
   "cell_type": "code",
   "execution_count": null,
   "metadata": {
    "deletable": false,
    "editable": false,
    "kernel": "JavaScript",
    "nbgrader": {
     "cell_type": "code",
     "checksum": "dd02cf15366d4bfc6a80b2206d13380e",
     "grade": false,
     "grade_id": "cell-c9928143955445bc",
     "locked": true,
     "schema_version": 3,
     "solution": false,
     "task": false
    }
   },
   "outputs": [],
   "source": [
    "%use javascript\n",
    "// function that performs a Gaussian filter with sigma on img\n",
    "function gaussian(img, sigma){\n",
    "    var output = new Image(img.shape());\n",
    "    // mask size (truncate with 3 sigma)\n",
    "    var N = 2* Math.ceil(3*sigma) + 1;\n",
    "    // define mask and fill it's values\n",
    "    var mask =  new Image(1, N); \n",
    "    // initialize sum of values of the mask (for normalization)\n",
    "    var norm = 0;\n",
    "    // precompute values \n",
    "    var C = 1/(Math.sqrt(2*Math.PI)*sigma);\n",
    "    var x_mean = Math.floor(N/2);\n",
    "    var two_variance = 2*Math.pow(sigma,2);\n",
    "    // fill the mask\n",
    "    for(var x = 0; x < N; x++){  \n",
    "        mask.setPixel(x, 0, C * Math.exp( -(Math.pow(x-x_mean, 2) / two_variance)));\n",
    "        norm += mask.getPixel(x,0);\n",
    "    } \n",
    "    // normalize the mask values to sum 1\n",
    "    for(var x = 0; x < N; x++){\n",
    "        mask.setPixel(x,0,mask.getPixel(x,0)/norm);\n",
    "    }\n",
    "    // filter rows\n",
    "    for(var y = 0; y < img.ny; y++){\n",
    "        var row = img.getRow(y);\n",
    "        var new_row = filter1D(row, mask);\n",
    "        output.putRow(y, new_row);\n",
    "    }\n",
    "    // filter columns\n",
    "    for(var x = 0; x < img.nx; x++){\n",
    "        var column = output.getColumn(x);\n",
    "        var new_column = filter1D(column, mask) \n",
    "        output.putColumn(x, new_column);        \n",
    "    }    \n",
    "    return output\n",
    "}\n",
    "\n",
    "// function that applies a 1D filter mask to a row/column\n",
    "function filter1D(img, mask){\n",
    "    // transpose the input variables if necessary (simplify indexing)\n",
    "    if(img.nx == 1){\n",
    "        img.transposeImage();\n",
    "    }\n",
    "    if(mask.nx == 1){\n",
    "        mask.transposeImage();\n",
    "    }\n",
    "    var output = new Image(img.shape());\n",
    "    // perform 1D convolution\n",
    "    for(var x = 0; x < img.nx; x++){\n",
    "        var neigh = img.getNbh(x, 0, mask.nx, 1);\n",
    "        var val = 0;\n",
    "        for(var i = 0; i < neigh.nx; i++){\n",
    "            val += neigh.getPixel(i, 0) * mask.getPixel(mask.nx - 1 - i, 0);\n",
    "        }\n",
    "        output.setPixel(x, 0, val);\n",
    "    }\n",
    "    return output;\n",
    "}"
   ]
  },
  {
   "cell_type": "markdown",
   "metadata": {
    "deletable": false,
    "editable": false,
    "kernel": "JavaScript",
    "nbgrader": {
     "cell_type": "markdown",
     "checksum": "56cfffa8ff784d7ec13399d392402f40",
     "grade": false,
     "grade_id": "cell-8050287e1974edbf",
     "locked": true,
     "schema_version": 3,
     "solution": false,
     "task": false
    }
   },
   "source": [
    "## 1.A. Generating the box filter sizes (1 point)\n",
    "[Back to table of contents](#ToC_1_Orientation_warm_up)\n",
    "\n",
    "In order to approximate Gaussian smoothing, we will perform several filtering steps using differently sized [**box filters**](https://en.wikipedia.org/wiki/Box_blur). A box filter is the most simple low-pass filter one can think of, because its mask is simply a square of constant values that sum to 1. An example of a $3 \\times 3$ box filter mask $h[m,n]$ is\n",
    "\n",
    "$$h[m,n] = \\frac{1}{9} \\begin{bmatrix} 1 & 1 & 1 \\\\ 1 & 1 & 1 \\\\ 1 & 1 & 1 \\end{bmatrix}\\,.$$\n",
    "\n",
    "\n",
    "As you will see later in the course, the box filter is in fact a 2D, scaled B-spline of order $0$, $\\beta^0(x)$. The B-spline of order $n$, $\\beta^{n}(x)$, is obtained by convolving $\\beta^{0}(x)$ with itself $n$ times. It turns out that $\\beta^{n}(x)$ converges towards a Gaussian as $n\\rightarrow\\infty$, and that $\\beta^{2}(x)$ is already a decent approximation of a Gaussian for many applications. \n",
    "\n",
    "More generally, one can approximate a Gaussian blur of any $\\sigma$ by applying several box filters of different sizes successively. We will now explore one such technique proposed in [\\[1\\]](https://www.peterkovesi.com/papers/FastGaussianSmoothing.pdf). Note that this is only one example of the many efficient approximate Gaussian blur techniques out there, and that each will be more or less adequate depending on the application. The proposal is to use $m$ box filters with widths $w_0, w_1, \\dots, w_{m-1}$, respectively, with\n",
    "\n",
    "$$w_i = \\begin{cases}\n",
    "    w_0, & \\text{if } i\\lt \\gamma,\\\\\n",
    "    w_0 + 2,              & \\text{otherwise,}\n",
    "\\end{cases}\\mbox{ where } \\gamma = \\left\\lfloor \\frac{12 \\sigma^2 - mw_0^2 - 4mw_0 - 3 m}{-4w_0 - 4} \\right\\rceil.$$\n",
    "\n",
    "$w_0$ is defined as\n",
    "\n",
    "$$w_0 = \\begin{cases} \n",
    "    \\tilde{w}_0\\,, &\\mbox{if } \\tilde{w}_0 \\mbox{ is odd} \\,, \\\\\n",
    "    \\tilde{w}_0 - 1\\,, & \\mbox{ otherwise,} \n",
    "\\end{cases}\\mbox{ and }\\tilde{w}_0 = \\left\\lfloor \\sqrt{\\frac{12 \\sigma^2}{m}+1} \\right\\rfloor.$$\n",
    "\n",
    "\n",
    "Here, $\\sigma$ is the standard deviation of the Gaussian, $\\lfloor x \\rfloor$ is the floor function (see [`np.floor(x)`](https://numpy.org/doc/stable/reference/generated/numpy.floor.html)) and $\\lfloor x \\rceil$ is the rounding function (see [`np.around(x)`](https://numpy.org/doc/stable/reference/generated/numpy.around.html#numpy.around)), **make sure to use those two functions correctly.**\n",
    "\n",
    "<hr>\n",
    "\n",
    "**For 1 point**, implement the `boxes_for_gauss(sig, m)` function in the Python cell below, that returns a list containing the $m$ box filter sizes $[w_0, \\dots, w_{m-1}]$ calculated according to the equations provided above. The parameters are:\n",
    " * `sig`: The standard deviation of the Gaussian blur to approximate,\n",
    " * `m`: The number of box filters to use. \n",
    " \n",
    "The function returns:\n",
    " * `sizes` (list or NumPy array of length `m`): The sizes of each box filter, sorted from $w_0$ to $w_{m-1}$. \n",
    "\n",
    "[\\[1\\]](https://www.peterkovesi.com/papers/FastGaussianSmoothing.pdf): \"Fast Almost-Gaussian Filtering,\" Peter Kovesi, _2010 IEEE International Conference on Digital Image Computing: Techniques and Applications_, Sydney, NSW, Australia\n",
    "\n",
    "<div class=\"alert alert-info\">\n",
    "\n",
    "<b>Note:</b> You can choose to initialize the output variable <code>sizes</code> as either a list or a numpy array. However, we have taken care of converting it to a numpy array to be compatible with the plotting afterwards.\n",
    "    \n",
    "</div>"
   ]
  },
  {
   "cell_type": "code",
   "execution_count": null,
   "metadata": {
    "deletable": false,
    "kernel": "SoS",
    "nbgrader": {
     "cell_type": "code",
     "checksum": "7db1526816b5e89a441714b2ceef2d2e",
     "grade": false,
     "grade_id": "cell-2deed408ae7dee96",
     "locked": false,
     "schema_version": 3,
     "solution": true,
     "task": false
    }
   },
   "outputs": [],
   "source": [
    "%use sos\n",
    "# Function that returns the box sizes for approximated gaussian filtering\n",
    "def boxes_for_gauss(sig, m):\n",
    "    # Initialize sizes variable\n",
    "    # sizes = [] # To output a list, which can be filled with sizes.append(value)\n",
    "    sizes = np.empty(m) # To output a NumPy array, to be filled with sizes[indices] = value\n",
    "    \n",
    "    # YOUR CODE HERE\n",
    "    \n",
    "    # Don't modify the following line!!\n",
    "    sizes = np.array(sizes)  \n",
    "    \n",
    "    return sizes"
   ]
  },
  {
   "cell_type": "markdown",
   "metadata": {
    "deletable": false,
    "editable": false,
    "kernel": "SoS",
    "nbgrader": {
     "cell_type": "markdown",
     "checksum": "52c6b30139cd0b421e5187bb84e8b6f3",
     "grade": false,
     "grade_id": "cell-8310108c1bb36a05",
     "locked": true,
     "schema_version": 3,
     "solution": false,
     "task": false
    }
   },
   "source": [
    "Run the next cell to define two utility functions `calc_err`and `gen_ideal_gaussian` that will help us to analyze this approach. We will also perform some sanity checks on your `boxes_for_gauss` function. If the sanity check fails, your function is not yet correct. \n",
    "\n",
    "<div class = 'alert alert-danger'>\n",
    "\n",
    "<b>Note:</b> Even if your function passes the sanity check it does not mean that everything is correct: it does not guarantee the points. Make sure to always double check your implementation.\n",
    "</div>\n",
    "\n",
    "The function `calc_err` takes as parameters:\n",
    " * `c`: the box-filter approximation, \n",
    " * `g`: the Gaussian filter, generated by [`scipy.signal.windows.gaussian`](https://docs.scipy.org/doc/scipy/reference/generated/scipy.signal.windows.gaussian.html) and normalized to sum $1$,\n",
    " \n",
    "and returns the *MSE* in dB between the two filters.\n",
    " \n",
    "The function `gen_ideal_gaussian` takes as parameter:\n",
    " * `sig`: The standard deviation of the Gaussian blur,\n",
    " \n",
    "and uses the function [scipy.signal.windows.gaussian](https://docs.scipy.org/doc/scipy/reference/generated/scipy.signal.windows.gaussian.html) to return:\n",
    " * `x_g`: NumPy array indicating the values at which the Gaussian function is evaluated,\n",
    " * `g`: NumPy array with the corresponding values of the (normalized) Gaussian function."
   ]
  },
  {
   "cell_type": "code",
   "execution_count": null,
   "metadata": {
    "deletable": false,
    "editable": false,
    "kernel": "SoS",
    "nbgrader": {
     "cell_type": "code",
     "checksum": "1ca627a2e4da95504f61700eddee1fec",
     "grade": true,
     "grade_id": "cell-0f28c78c36fdc71d",
     "locked": true,
     "points": 1,
     "schema_version": 3,
     "solution": false,
     "task": false
    }
   },
   "outputs": [],
   "source": [
    "%use sos\n",
    "# Function that calculates the MSE (in dB) between the ideal Gaussian impulse response and the impulse response of the box-filter approximation\n",
    "def calc_err(c, g):\n",
    "    # If Gaussian and box-filter approximation are the same size, simply compare them directly\n",
    "    if len(g) == len(c):\n",
    "        g_comp = g\n",
    "        c_comp = c\n",
    "    # If Gaussian is larger, pad the signal of the box-filter approximation with zeros \n",
    "    elif len(g) > len(c):\n",
    "        c_comp = np.zeros(len(g))\n",
    "        c_comp[(abs(len(g)-len(c)))//2:-(abs(len(g)-len(c)))//2] = c\n",
    "        g_comp = g\n",
    "    # Mutatis mutandis if box-filter approximation is larger\n",
    "    else:\n",
    "        g_comp = np.zeros(len(c))\n",
    "        g_comp[(abs(len(g)-len(c)))//2:-(abs(len(g)-len(c)))//2] = g\n",
    "        c_comp = c\n",
    "    # Calculate MSE (in dB) and return result\n",
    "    return 10*np.log10(np.mean((c_comp-g_comp)**2))\n",
    "\n",
    "# Function that generates an ideal Gaussian impulse response with sigma sig\n",
    "def gen_ideal_gaussian(sig):\n",
    "    # Calculate size of gaussian (see Lab 2 or IP1 course notes)\n",
    "    M = 2 * np.ceil(3*sig) + 1\n",
    "    # Get signal and normalize it\n",
    "    g = scipy.signal.windows.gaussian(M, sig)\n",
    "    g = g / np.sum(g)\n",
    "    # Define array with the indices\n",
    "    x_g = np.linspace(-g.shape[0]//2+1, g.shape[0]//2, g.shape[0])\n",
    "    return x_g, g\n",
    "\n",
    "# Perform sanity checks on boxes_for_gauss\n",
    "print(f'boxes_for_gauss(3, 7):\\n>> {boxes_for_gauss(3, 7)}')\n",
    "print(f'\\nboxes_for_gauss(5.4, 9):\\n>> {boxes_for_gauss(5.4, 9)}')\n",
    "sanity_check = True\n",
    "if not len(boxes_for_gauss(3, 7)) == 7:\n",
    "    print('WARNING!\\nThe length of the output list should be equal to m.')\n",
    "    sanity_check = False\n",
    "if np.any(np.array(boxes_for_gauss(3, 7)) % 2 == 0):\n",
    "    print('WARNING!\\nEnsure that the box sizes are always odd.')\n",
    "    sanity_check = False\n",
    "if not np.allclose(boxes_for_gauss(3, 7), [3, 3, 3, 3, 5, 5, 5]):\n",
    "    print(f'WARNING!\\nThe output for boxes_for_gauss(3, 7) should be [3, 3, 3, 3, 5, 5, 5], not {boxes_for_gauss(3, 7)}')\n",
    "    sanity_check = False\n",
    "if not np.allclose(boxes_for_gauss(5.4, 9), [5, 5, 5, 7, 7, 7, 7, 7, 7]):\n",
    "    print(f'The output for boxes_for_gauss(5.4, 9) should be [5, 5, 5, 7, 7, 7, 7, 7, 7], not {boxes_for_gauss(5.4, 9)}')\n",
    "    sanity_check = False\n",
    "if sanity_check:\n",
    "    print('\\nNice, your function passed the sanity checks! That does not necessarily mean that it is entirely correct though.')"
   ]
  },
  {
   "cell_type": "markdown",
   "metadata": {
    "deletable": false,
    "editable": false,
    "kernel": "SoS",
    "nbgrader": {
     "cell_type": "markdown",
     "checksum": "940062209e26d93b0c442d77d100a6cc",
     "grade": false,
     "grade_id": "cell-7ba6b15b019331f9",
     "locked": true,
     "schema_version": 3,
     "solution": false,
     "task": false
    }
   },
   "source": [
    "Now that we have the correct sizes for the box filters and appropriate functions, let's visualize the effect of applying different number of box filters and compare them to the effect of an ideal Gaussian filter. We will also calculate the error between the approximated and the ideal Gaussian impulse responses and visualize it as a function of the number of box filters used. Run the cell below to generate the plots for a certain $\\sigma$ (now set to $4$). \n",
    "<div class=\"alert alert-info\">\n",
    "\n",
    "<b>Note:</b> You can change $\\sigma$ with the slider provided below the figure. If you want, you can also change the maximum number of box passes in the code (now set to $5$). Observe the effect this has on the MSE.\n",
    "</div>"
   ]
  },
  {
   "cell_type": "code",
   "execution_count": null,
   "metadata": {
    "kernel": "SoS"
   },
   "outputs": [],
   "source": [
    "%use sos\n",
    "# Declare slider for sigma\n",
    "sigma_slider = widgets.FloatSlider(value=0.2, min=0.2, max=8, step=0.2, description='\\u03C3', continuous_update=False) \n",
    "\n",
    "# Number of box passes\n",
    "max_nr_passes = 5\n",
    "ns = np.arange(1,max_nr_passes+1)\n",
    "\n",
    "# Initialize figure\n",
    "plt.close('all')\n",
    "fig, axs = plt.subplots(1, 2, figsize=(10, 5))\n",
    "\n",
    "# Plotting function - Callback for slider\n",
    "def plot_approximation(change):\n",
    "    # Get value of sigma, initialize variables of interest and clear axes\n",
    "    sigma = change.new\n",
    "    errors = []\n",
    "    legends = []\n",
    "    axs[0].clear()\n",
    "    axs[1].clear()\n",
    "    # Generate ideal Gaussian impulse response with the desired sigma and plot\n",
    "    x_g, gauss_ideal = gen_ideal_gaussian(sigma)\n",
    "    axs[0].plot(x_g, gauss_ideal,'k')\n",
    "    # Iterate through box filters\n",
    "    for p, n in enumerate(ns):\n",
    "        # Get the size of the boxes to use\n",
    "        boxes = boxes_for_gauss(sigma, n)\n",
    "        # Generate mask and normalize \n",
    "        conv = np.ones(int(boxes[0]))/boxes[0]\n",
    "        # Convolve box filter if necessary and generate new indexes\n",
    "        for i in range(1, len(boxes)):\n",
    "            box = np.ones(int(boxes[i]))/boxes[i]\n",
    "            conv = np.convolve(conv, box)\n",
    "        x_b = np.linspace(-conv.shape[0]//2+1, conv.shape[0]//2, conv.shape[0])\n",
    "        # Calculate error and append to corresponding variable\n",
    "        errors.append(calc_err(conv, gauss_ideal))\n",
    "        # Plot box approximation and add legend\n",
    "        legends.append(f'{n} box passes')\n",
    "        axs[0].plot(x_b, conv, alpha=0.5)\n",
    "    # Format plot\n",
    "    axs[0].legend(['Ideal Gaussian'] + legends); axs[0].set_xlabel('x'); axs[0].set_ylabel('h[n]')\n",
    "    axs[0].set_title(f'Gaussian $\\sigma$={sigma} vs Box filter approximations'); axs[0].grid()\n",
    "    axs[1].plot(ns, errors)\n",
    "    axs[1].set_xlabel('Number of box passes'); axs[1].set_ylabel('MSE [dB]')\n",
    "    axs[1].set_title(f'MSE, Gaussian $\\sigma$={sigma} vs Box filter approximations'); axs[1].grid()\n",
    "    fig.tight_layout()\n",
    "\n",
    "# Didplay widget and link to callback\n",
    "display(sigma_slider)\n",
    "sigma_slider.observe(plot_approximation, 'value')\n",
    "sigma_slider.value = 4"
   ]
  },
  {
   "cell_type": "markdown",
   "metadata": {
    "deletable": false,
    "editable": false,
    "kernel": "SoS",
    "nbgrader": {
     "cell_type": "markdown",
     "checksum": "9647d15cecef466c0058736d8525cea5",
     "grade": false,
     "grade_id": "cell-8c35247b8c60ee54",
     "locked": true,
     "schema_version": 3,
     "solution": false,
     "task": false
    }
   },
   "source": [
    "As you may have observed by setting $\\sigma \\leq 0.6$, this method does not work well for very small values of $\\sigma$ since the box sizes are all 1. However, for values of $\\sigma > 0.6$ it starts delivering good results. To illustrate the performance more clearly, run the next cell which plots the MSE between the approximation and the ideal Gaussian as a function of the standard deviation $\\sigma$, with $\\sigma$ ranging from $0.6$ to $10$. \n",
    "\n",
    "<div class=\"alert alert-info\">\n",
    "\n",
    "<b>Note:</b> You can change the number of box filters used for the approximation using the slider provided below the figure. Observe the effect this has on the MSE.\n",
    "</div>"
   ]
  },
  {
   "cell_type": "code",
   "execution_count": null,
   "metadata": {
    "kernel": "SoS"
   },
   "outputs": [],
   "source": [
    "%use sos\n",
    "# Initialize slider to define the number of box filters to use\n",
    "box_slider = widgets.IntSlider(value=1, min=1, max=12, step=1, description='Number of box passes', continuous_update=False, \n",
    "                               style={'description_width':'initial'}, layout={'width':'400px'}) \n",
    "\n",
    "# Declare array with sigma values to evaluate\n",
    "sigmas = np.linspace(0.5, 10, 1000)\n",
    "\n",
    "# Initialize Matplotlib figure\n",
    "plt.close(\"all\")\n",
    "fig = plt.figure(figsize = (10,6))\n",
    "ax = plt.gca()\n",
    "\n",
    "def plot_mse(change):\n",
    "    # Get the necessary number of box filters, initialize variables and clear axes\n",
    "    n = change.new\n",
    "    ax.clear()\n",
    "    errors = []\n",
    "    # Iterate all sigmas\n",
    "    for sigma in sigmas:\n",
    "        # Get ideal gaussian\n",
    "        _, gauss_ideal = gen_ideal_gaussian(sigma)\n",
    "        # Perform box passes\n",
    "        boxes = boxes_for_gauss(sigma, n)\n",
    "        conv = np.ones(int(boxes[0]))/boxes[0]\n",
    "        for i in range(1, len(boxes)):\n",
    "            box = np.ones(int(boxes[i]))/boxes[i]\n",
    "            conv = np.convolve(conv, box)\n",
    "        # Calculate error and add to errors variable\n",
    "        errors.append(calc_err(conv, gauss_ideal))\n",
    "    ax.plot(sigmas, errors);\n",
    "    ax.set_xlabel('$\\sigma$'); ax.set_ylabel('MSE [dB]')\n",
    "    ax.set_title(f'MSE, {n} box filter approximation vs Gaussian impulse response')\n",
    "    ax.grid()\n",
    "    \n",
    "display(box_slider)\n",
    "box_slider.observe(plot_mse, 'value')\n",
    "box_slider.value = 6"
   ]
  },
  {
   "cell_type": "markdown",
   "metadata": {
    "deletable": false,
    "editable": false,
    "kernel": "Python3",
    "nbgrader": {
     "cell_type": "markdown",
     "checksum": "46d195a16971951d2e418ba8af94c016",
     "grade": false,
     "grade_id": "cell-fc5ca0000e7a6ef1",
     "locked": true,
     "schema_version": 3,
     "solution": false,
     "task": false
    }
   },
   "source": [
    "## 1.B. Implementation of a separable accumulation box filter (4 points)\n",
    "[Back to table of contents](#ToC_1_Orientation_warm_up)\n",
    "\n",
    "Now that we have analyzed the behavior of the box filter approximation method, we're ready to begin with its efficient implementation. Based on the analysis of the MSE, we choose to approximate the Gaussian filter by applying a total of **4** box filters. This offers a good compromise between numerical accuracy and execution time. \n",
    "\n",
    "The reason why we chose the box filter is that we can implement it efficiently so that its execution time does not depend on the size of the filter mask used. To achieve this, you will implement a **separable accumulator**. This is the same filter as the normal box filter, but exploits that the box filter mask is constant to save many computations. It relies on that the content below the mask centered at pixel $x[k]$ and at pixel $x[k+1]$ is nearly the same. The accumulator needs to be filled only for the first output pixel. Then, **for every new pixel, we simply need to add the contribution of the new pixel that is now below the mask and subtract the contribution of the last pixel that is no longer below the mask**. This makes the filter independent of its size: we only need to perform $2$ operations per pixel (besides the very first one in every row/column). A visual representation of an horizontal accumulation box filter of **size 5** using mirroring boundary conditions applied to the first row is given below.\n",
    "\n",
    "<table><tr>\n",
    "<td>\n",
    "  <p align=\"center\" style=\"padding: 0px\">\n",
    "    <img alt=\"Structuring elements\" src=\"images/box_filter_gif_snapshots.png\" width=\"550\"><br>\n",
    "    <em style=\"color: grey\">Visual representation of the accumulation box filter.</em>  \n",
    "  </p>\n",
    "</td>\n",
    "</tr></table>\n",
    "\n",
    "**For 4 points**, implement the JavaScript functions `boxBlurH(img, size)` and `boxBlurV(img, size)` in the cell below, that apply the accumulation box filter of size `size` explained above to the horizontal (H) and vertical (V) axis respectively. Moreover, you will find that we have defined the function `gaussianBlur`, that takes as paremeters:\n",
    "* `img`: Original image as an ImageAccess object,\n",
    "* `boxes`: The size of the box filters to be used to approximate a Gaussian blur. \n",
    " \n",
    "and returns the blurred image. \n",
    "\n",
    "<div class=\"alert alert-info\">\n",
    "\n",
    "<b>Note:</b> Remember that the JS <code>ImageAccess</code> class takes care of the boundary conditions, so you can easily extract pixels at negative indexes or outside the range of the image without issues. See <a href='./Introductory.ipynb'>Lab 0: Introductory</a> and/or the <a href='https://biomedical-imaging-group.github.io/image-access/'>documentation</a> if you need a refresher.\n",
    "</div>"
   ]
  },
  {
   "cell_type": "code",
   "execution_count": null,
   "metadata": {
    "deletable": false,
    "kernel": "JavaScript",
    "nbgrader": {
     "cell_type": "code",
     "checksum": "f6857fd934b9871e9a1b23702cb7f892",
     "grade": false,
     "grade_id": "cell-6ceb8525013be8ce",
     "locked": false,
     "schema_version": 3,
     "solution": true,
     "task": false
    }
   },
   "outputs": [],
   "source": [
    "%use javascript\n",
    "// function that performs the horizontal accumulation box filter\n",
    "function boxBlurH(img, size){\n",
    "    var output = new Image(img.shape());\n",
    "    \n",
    "    // YOUR CODE HERE\n",
    "    \n",
    "    return output;\n",
    "}\n",
    "// function that performs the vertical accumulation box filter\n",
    "function boxBlurV(img, size){\n",
    "    var output = new Image(img.shape());\n",
    "    \n",
    "    // YOUR CODE HERE\n",
    "    \n",
    "    return output;\n",
    "}\n",
    "// Fast gaussian filtering using box filters\n",
    "function gaussBlur(img, boxes){\n",
    "    // perform multiple passes of boxBlur\n",
    "    var output = img.copy();\n",
    "    for(var i=0; i < boxes.length; i++){\n",
    "        output = boxBlurH(output, size=boxes[i]);\n",
    "        output = boxBlurV(output, size=boxes[i]);\n",
    "    }\n",
    "    return output;\n",
    "}"
   ]
  },
  {
   "cell_type": "markdown",
   "metadata": {
    "deletable": false,
    "editable": false,
    "kernel": "JavaScript",
    "nbgrader": {
     "cell_type": "markdown",
     "checksum": "3267b4130ec43c0d2b1b66c68ffe8c2f",
     "grade": false,
     "grade_id": "cell-d182206ba07d639f",
     "locked": true,
     "schema_version": 3,
     "solution": false,
     "task": false
    }
   },
   "source": [
    "Now run the next three cells, which will respectively test `boxFilterH`, `boxFilterV`, and the combination of both on the function `gaussianBlur`. If any of the cells raises an error, make sure to understand the source of it and correct the corresponding function.\n",
    "\n",
    "<div class = 'alert - alert-danger'>\n",
    "\n",
    "<b>Note:</b> Remember that even if the following cells do not raise any error, the points for the functions are not guaranteed! Revise your solutions.\n",
    "</div>"
   ]
  },
  {
   "cell_type": "code",
   "execution_count": null,
   "metadata": {
    "deletable": false,
    "editable": false,
    "kernel": "JavaScript",
    "nbgrader": {
     "cell_type": "code",
     "checksum": "e157fabc053dcc9081766ae08b85d86b",
     "grade": true,
     "grade_id": "cell-959d22fd5430800b",
     "locked": true,
     "points": 1,
     "schema_version": 3,
     "solution": false,
     "task": false
    }
   },
   "outputs": [],
   "source": [
    "%use javascript\n",
    "// perform sanity check on boxFilterH\n",
    "var test_img = new Image(5,5);\n",
    "test_img.setPixel(0, 0, 1);\n",
    "test_img.setPixel(2, 2, 1);\n",
    "test_img.setPixel(4, 4, 1);\n",
    "var Hcomp = new Image([[2/3, 1/3, 0  , 0  , 0  ],\n",
    "                       [0  , 0  , 0  , 0  , 0  ],\n",
    "                       [0  , 1/3, 1/3, 1/3, 0  ],\n",
    "                       [0  , 0  , 0  , 0  , 0  ],\n",
    "                       [0  , 0  , 0  , 1/3, 2/3]]);\n",
    "console.log('Input image:\\n' + test_img.visualize(), '\\nOutput of boxBlurH(test_img, 3):\\n' + boxBlurH(test_img, 3).visualize());\n",
    "if(boxBlurH(test_img, 3).imageCompare(Hcomp) == false){\n",
    "    console.log('WARNING!\\nThe expected output of boxBlurH(test_img, 3) is:\\n' + Hcomp.visualize());\n",
    "}else{\n",
    "    console.log('Well done, your boxBlurH function passed the sanity check.');\n",
    "}"
   ]
  },
  {
   "cell_type": "code",
   "execution_count": null,
   "metadata": {
    "deletable": false,
    "editable": false,
    "kernel": "JavaScript",
    "nbgrader": {
     "cell_type": "code",
     "checksum": "9e3e80ef82868278bea8aa1cadb75d11",
     "grade": true,
     "grade_id": "cell-b3c35f73194b475e",
     "locked": true,
     "points": 1,
     "schema_version": 3,
     "solution": false,
     "task": false
    }
   },
   "outputs": [],
   "source": [
    "%use javascript\n",
    "// perform sanity check on boxFilterV\n",
    "var test_img = new Image(5,5);\n",
    "test_img.setPixel(0, 0, 1);\n",
    "test_img.setPixel(2, 2, 1);\n",
    "test_img.setPixel(4, 4, 1);\n",
    "var Vcomp = new Image([[2/3, 0  , 0  , 0  , 0  ],\n",
    "                       [1/3, 0  , 1/3, 0  , 0  ],\n",
    "                       [0  , 0  , 1/3, 0  , 0  ],\n",
    "                       [0  , 0  , 1/3, 0  , 1/3],\n",
    "                       [0  , 0  , 0  , 0  , 2/3]]);\n",
    "console.log('Intput image:\\n' + test_img.visualize(), '\\nOutput of boxBlurV(test_img, 3):\\n' + boxBlurV(test_img, 3).visualize());\n",
    "if(boxBlurV(test_img, 3).imageCompare(Vcomp) == false){\n",
    "    console.log('WARNING!\\nThe expected output of boxBlurV(test_img, 3) is:\\n' + Vcomp.visualize());\n",
    "}else{\n",
    "    console.log('Well done, your boxBlurV function passed the sanity check.');\n",
    "}"
   ]
  },
  {
   "cell_type": "code",
   "execution_count": null,
   "metadata": {
    "deletable": false,
    "editable": false,
    "kernel": "JavaScript",
    "nbgrader": {
     "cell_type": "code",
     "checksum": "474120061635850fc52de7aed91ab5a3",
     "grade": true,
     "grade_id": "cell-1bef1f267d600d02",
     "locked": true,
     "points": 2,
     "schema_version": 3,
     "solution": false,
     "task": false
    }
   },
   "outputs": [],
   "source": [
    "%use javascript\n",
    "// perform sanity check on gaussBlur which combines both boxBlurH and boxBlurV\n",
    "var test_img = new Image(5,5);\n",
    "test_img.setPixel(0, 0, 1);\n",
    "test_img.setPixel(2, 2, 1);\n",
    "test_img.setPixel(4, 4, 1);\n",
    "var comp = new Image([[ 0.4444444444444444, 0.2222222222222222, 0,                  0,                  0                  ],\n",
    "                      [ 0.2222222222222222, 0.2222222222222222, 0.1111111111111111, 0.1111111111111111, 0                  ],\n",
    "                      [ 0,                  0.1111111111111111, 0.1111111111111111, 0.1111111111111111, 0                  ],\n",
    "                      [ 0,                  0.1111111111111111, 0.1111111111111111, 0.2222222222222222, 0.2222222222222222 ],\n",
    "                      [ 0,                  0,                  0,                  0.2222222222222222, 0.4444444444444444 ]]);\n",
    "console.log('Intput image:\\n' + test_img.visualize(), '\\nOutput of gaussBlur(test_img, [3]):\\n' + gaussBlur(test_img, [3]).visualize());\n",
    "if(gaussBlur(test_img, [3]).imageCompare(comp) == false){\n",
    "    console.log('WARNING!\\nThe expected output of gaussBlur(test_img, [3]) is:\\n' + comp.visualize());\n",
    "}else{\n",
    "    console.log('Good job, your gaussBlur function passed the sanity check.');\n",
    "}"
   ]
  },
  {
   "cell_type": "markdown",
   "metadata": {
    "deletable": false,
    "editable": false,
    "kernel": "JavaScript",
    "nbgrader": {
     "cell_type": "markdown",
     "checksum": "f6070531f6b63fe7e0031486828656da",
     "grade": false,
     "grade_id": "cell-b1e96a7dee854ca1",
     "locked": true,
     "schema_version": 3,
     "solution": false,
     "task": false
    }
   },
   "source": [
    "Now we have everything we need to compare the box filter approximation method to the usual separable Gaussian filter. First, we will compare the runtime of both methods as a function of the standard deviation $\\sigma$ of the Gaussian. Run the next cell to define the $\\sigma$s and generate the corresponding boxes using the `boxes_for_gauss` function you implemented in [Part 1.A.](#1.A.-Generating-the-box-filter-sizes-(1-point)).\n",
    "\n",
    "Change the sigma values if you want, but beware that large sigmas can take a lot of time to run!"
   ]
  },
  {
   "cell_type": "code",
   "execution_count": null,
   "metadata": {
    "kernel": "SoS"
   },
   "outputs": [],
   "source": [
    "%use sos\n",
    "# Declare sigmas and corresponding box filters for comparison\n",
    "sigmas = [0.1, 1, 2, 3, 4, 5, 8]\n",
    "boxes = [boxes_for_gauss(sig, 4).tolist() for sig in sigmas]"
   ]
  },
  {
   "cell_type": "markdown",
   "metadata": {
    "deletable": false,
    "editable": false,
    "kernel": "SoS",
    "nbgrader": {
     "cell_type": "markdown",
     "checksum": "5b8373afa7063fb335ca5be20d967cd9",
     "grade": false,
     "grade_id": "cell-9ac1b586128debea",
     "locked": true,
     "schema_version": 3,
     "solution": false,
     "task": false
    }
   },
   "source": [
    "The cell below runs both smoothing methods for all the $\\sigma$ values defined in the cell above on the image `dendrochronology`, which has a size of $512 \\times 512$ pixels. Run the cell and wait for it to finish, then run the cell below it to visualize the runtime comparison results.\n",
    "\n",
    "<div class=\"alert alert-info\">\n",
    "\n",
    "<b>Remember:</b> A cell is still running if you see <code>In [\\*]</code> in the top-left corner. Once the asterisk (*) changes to a number, the cell has finished running.\n",
    "</div>"
   ]
  },
  {
   "cell_type": "code",
   "execution_count": null,
   "metadata": {
    "deletable": false,
    "editable": false,
    "kernel": "JavaScript",
    "nbgrader": {
     "cell_type": "code",
     "checksum": "3825160b127ff656f6bd1ad0945b8155",
     "grade": false,
     "grade_id": "cell-436e36c33c6e900a",
     "locked": true,
     "schema_version": 3,
     "solution": false,
     "task": false
    }
   },
   "outputs": [],
   "source": [
    "%use javascript\n",
    "%get dendrochronology\n",
    "%get boxes\n",
    "%get sigmas\n",
    "%put time_fast\n",
    "%put time_norm\n",
    "\n",
    "dend_img = new Image(dendrochronology);\n",
    "var errors = [];\n",
    "var time_fast = [];\n",
    "var time_norm = [];\n",
    "// run the Gaussian smoothing for all sigma values and measure the runtime of both methods\n",
    "var message = 'Running for \\u03C3 = ';\n",
    "for(var i = 0; i < boxes.length; i++){\n",
    "    message = message + sigmas[i] + \", \"\n",
    "    process.stdout.write(message + \"...\\r\" );\n",
    "    var startTime = new Date();\n",
    "    var dend_smooth_img = gaussBlur(dend_img, boxes[i]);\n",
    "    var endTime = new Date();\n",
    "    time_fast.push((endTime-startTime)/1000);\n",
    "    var startTime = new Date();\n",
    "    var dend_smooth_norm_img = gaussian(dend_img, sigmas[i]);\n",
    "    var endTime = new Date();\n",
    "    time_norm.push((endTime-startTime)/1000);\n",
    "}\n",
    "message = message.slice(0,-2) + \".     \"\n",
    "console.log(message)\n",
    "console.log('Finished running for all the \\u03C3 values.')"
   ]
  },
  {
   "cell_type": "code",
   "execution_count": null,
   "metadata": {
    "deletable": false,
    "editable": false,
    "kernel": "SoS",
    "nbgrader": {
     "cell_type": "code",
     "checksum": "cc2117ffa1ce499b1811323dc0d6ccb7",
     "grade": false,
     "grade_id": "cell-e6aaeae435751842",
     "locked": true,
     "schema_version": 3,
     "solution": false,
     "task": false
    }
   },
   "outputs": [],
   "source": [
    "%use sos\n",
    "# Plotting the runtime comparison results\n",
    "plt.close('all') \n",
    "plt.figure(figsize=(12, 4))\n",
    "# Plot runtime\n",
    "plt.subplot(121)\n",
    "plt.plot(sigmas, time_norm, marker='o')\n",
    "plt.plot(sigmas, time_fast, marker='s')\n",
    "plt.legend(['Separable Gaussian', 'Accumulation box filters'])\n",
    "plt.xlabel('$\\sigma$'); plt.ylabel('Runtime [s]')\n",
    "plt.grid(); plt.title('Runtime comparison')\n",
    "# Plot improvement factor\n",
    "plt.subplot(122)\n",
    "plt.plot(sigmas, np.array(time_norm)/np.array(time_fast),marker='^')\n",
    "plt.xlabel('$\\sigma$');\n",
    "plt.grid(); plt.title('Speed improvement factor')\n",
    "plt.show()"
   ]
  },
  {
   "cell_type": "markdown",
   "metadata": {
    "deletable": false,
    "editable": false,
    "kernel": "SoS",
    "nbgrader": {
     "cell_type": "markdown",
     "checksum": "3baf6a700b38e8f82b83cb0c6a58c34d",
     "grade": false,
     "grade_id": "cell-5b58a2220a3f0c4e",
     "locked": true,
     "schema_version": 3,
     "solution": false,
     "task": false
    }
   },
   "source": [
    "If you implemented the functions `boxBlurH` and `boxBlurV` correctly, you should see in the plot above that the runtime of the accumulation box filters stays more or less constant, no matter the value of $\\sigma$. On the other hand, the runtime of the separable Gaussian increases linearly with the value of $\\sigma$. If we would have compared the box filters to a non-separable version of the Gaussian filter, then you would probably still be waiting on the results, because the runtime of the non-separable Gaussian increases proportional to $\\sigma^2$. Hopefully you can now clearly see the benefit of this method and why we went through the struggle of implementing it.\n",
    "\n",
    "Finally, we should compare the accuracy of our method to one of the Gaussian blurs provided by the Python library. For this, we first define the sigmas and generate the corresponding boxes with the `boxes_for_gauss` function. Run the cell below to do so."
   ]
  },
  {
   "cell_type": "code",
   "execution_count": null,
   "metadata": {
    "kernel": "SoS"
   },
   "outputs": [],
   "source": [
    "%use sos\n",
    "# Change the sigma values if you want, don't worry about the runtime since we use the approximation method\n",
    "sigmas = [0.5, 1, 1.5, 2, 3, 4, 5, 6, 7, 8, 9, 10, 12, 14, 16, 18, 22, 26, 30]\n",
    "boxes = [boxes_for_gauss(sig, 4).tolist() for sig in sigmas]"
   ]
  },
  {
   "cell_type": "markdown",
   "metadata": {
    "deletable": false,
    "editable": false,
    "kernel": "SoS",
    "nbgrader": {
     "cell_type": "markdown",
     "checksum": "6cec504dd9d0bd095716ef53e6b1fea7",
     "grade": false,
     "grade_id": "cell-cdb40d18fb5f000d",
     "locked": true,
     "schema_version": 3,
     "solution": false,
     "task": false
    }
   },
   "source": [
    "The next cell applies the box filter approximation for all $\\sigma$ values to the `dendrochronology` image and converts the result to Python so that we can compare it to the OpenCV Gaussian blur in the cell below it. Run both cells to see the average error per pixel as a function of $\\sigma$."
   ]
  },
  {
   "cell_type": "code",
   "execution_count": null,
   "metadata": {
    "deletable": false,
    "editable": false,
    "kernel": "JavaScript",
    "nbgrader": {
     "cell_type": "code",
     "checksum": "d3cae5319c7556c3d776ea2fbb88acd0",
     "grade": false,
     "grade_id": "cell-4c06455f0c95f03b",
     "locked": true,
     "schema_version": 3,
     "solution": false,
     "task": false
    }
   },
   "outputs": [],
   "source": [
    "%use javascript\n",
    "%get dendrochronology\n",
    "%get sigmas\n",
    "%get boxes\n",
    "%put outs\n",
    "\n",
    "var outs = [];\n",
    "dend_img = new Image(dendrochronology);\n",
    "var message = 'Running for \\u03C3 = ';\n",
    "for(var i = 0; i < boxes.length; i++){\n",
    "    message = message + sigmas[i] + \", \"\n",
    "    process.stdout.write( message + \"...\\r\" );\n",
    "    var dend_smooth_img = gaussBlur(dend_img, boxes[i]);\n",
    "    outs.push(dend_smooth_img.toArray());\n",
    "}\n",
    "message = message.slice(0,-2) + \".     \"\n",
    "console.log(message)\n",
    "console.log('Finished running for all the \\u03C3 values.')"
   ]
  },
  {
   "cell_type": "code",
   "execution_count": null,
   "metadata": {
    "deletable": false,
    "editable": false,
    "kernel": "SoS",
    "nbgrader": {
     "cell_type": "code",
     "checksum": "fa3f9813ff20c4be777b50dd8b38a471",
     "grade": false,
     "grade_id": "cell-f8312882a86410ce",
     "locked": true,
     "schema_version": 3,
     "solution": false,
     "task": false
    }
   },
   "outputs": [],
   "source": [
    "%use sos\n",
    "# Visualize the average pixel error\n",
    "errs = []\n",
    "outs_cv =  []\n",
    "for i, sigma in enumerate(sigmas):\n",
    "    # Apply OpenCV gaussian blur\n",
    "    outs_cv.append(cv.GaussianBlur(dendrochronology, ksize=(0,0), sigmaX=sigma, borderType=cv.BORDER_REFLECT))\n",
    "    # Calculate average pixel error\n",
    "    errs.append(np.mean(np.abs(outs_cv[i][outs_cv[i] > 0] - np.array(outs[i])[outs_cv[i] > 0])/outs_cv[i][outs_cv[i] > 0]) * 100)\n",
    "# Display result\n",
    "plt.close('all')\n",
    "plt.figure('Average pixel error')\n",
    "plt.plot(sigmas, errs); plt.xlabel('$\\sigma$'); plt.ylabel('Avg pixel error (%)')\n",
    "plt.title('Average error per pixel'); plt.grid()\n",
    "plt.show()"
   ]
  },
  {
   "cell_type": "markdown",
   "metadata": {
    "deletable": false,
    "editable": false,
    "kernel": "SoS",
    "nbgrader": {
     "cell_type": "markdown",
     "checksum": "b03430bc9cf1c59243fa1b6834529cd0",
     "grade": false,
     "grade_id": "cell-60240147405632a8",
     "locked": true,
     "schema_version": 3,
     "solution": false,
     "task": false
    }
   },
   "source": [
    "As you can see, in accordance with the analysis we made in [Part 1.A.](#1.A.-Generating-the-box-filter-sizes), the approximation works very well with large $\\sigma$s. Indeed, the average error per pixel stays below $0.5\\%$, which is absolutely acceptable for most applications.\n",
    "\n",
    "Finally run the cell below to visually compare the smoothed images."
   ]
  },
  {
   "cell_type": "code",
   "execution_count": null,
   "metadata": {
    "kernel": "SoS"
   },
   "outputs": [],
   "source": [
    "%use sos\n",
    "# Change the sigma index to see the result for different sigmas\n",
    "sigma_idx = 7\n",
    "# Give information to user\n",
    "print(f'Average pixel error for \\u03C3 = {sigmas[sigma_idx]}: {errs[sigma_idx]:.4}%')\n",
    "plt.close('all')\n",
    "img_list = [dendrochronology, outs_cv[sigma_idx], np.array(outs)[sigma_idx]]\n",
    "title_list = ['Original Image', f'Gaussian smoothed $\\sigma$={sigmas[sigma_idx]}', f'box filter smoothed $\\sigma$={sigmas[sigma_idx]}']\n",
    "view = viewer(img_list, title=title_list, subplots=(1,3))"
   ]
  },
  {
   "cell_type": "markdown",
   "metadata": {
    "deletable": false,
    "editable": false,
    "kernel": "SoS",
    "nbgrader": {
     "cell_type": "markdown",
     "checksum": "198911ffe48ea64e01c0e65cb2aeee14",
     "grade": false,
     "grade_id": "cell-ce1857a44ba09947",
     "locked": true,
     "schema_version": 3,
     "solution": false,
     "task": false
    }
   },
   "source": [
    "As a final note, as you may have observed during the comparison between your efficient Gaussian smoothing and OpenCV's Gaussian blur, OpenCV's version is still faster than your implementation. To completely understand how OpenCV manages to speed up the Gaussian filter goes beyond the scope of this course, but it has to do with the use low-level programming languages that are able to make use of performance primitives offered by your CPU. Performance primitives are special CPU-specific computational instructions that exploit the CPU's architecture to perform much faster calculations.\n",
    "\n",
    "For simplicity and time reasons, we will use `cv.GaussianBlur` as our Gaussian filter for the upcoming labs. Still, if you ever need to implement a fast Gaussian smoothing and don't have access to a library like OpenCV, you now know how to start."
   ]
  },
  {
   "cell_type": "markdown",
   "metadata": {
    "deletable": false,
    "editable": false,
    "kernel": "SoS",
    "nbgrader": {
     "cell_type": "markdown",
     "checksum": "236ae176d843393d620137e398297649",
     "grade": false,
     "grade_id": "cell-fc840765916678f3",
     "locked": true,
     "schema_version": 3,
     "solution": false,
     "task": false
    }
   },
   "source": [
    "<div class=\"alert alert-success\">\n",
    "\n",
    "Congratulations on finishing this first warm-up lab of IP2! Hopefully you are now familiar with the basic tools we are going to use. Your next step now is to also complete the main first lab, <a href='./2_Feature_detection.ipynb'>Lab 4.2: Feature detection</a>, which is more sophisticated and focuses on actual applications of the algorithms you are going to implement.\n",
    "</div>\n",
    "\n",
    "Make sure to save your notebook (you might want to keep a copy on your personal computer) and upload it to <a href=\"https://moodle.epfl.ch/course/view.php?id=463\">Moodle</a>, **in a zip file with the other notebook of this lab.**\n",
    "\n",
    "* Keep the name of the notebook as: *1_Orientation_warmup.ipynb*,\n",
    "* Name the `zip` file: *Orientation_lab.zip*."
   ]
  }
 ],
 "metadata": {
  "kernelspec": {
   "display_name": "SoS",
   "language": "sos",
   "name": "sos"
  },
  "language_info": {
   "codemirror_mode": "sos",
   "file_extension": ".sos",
   "mimetype": "text/x-sos",
   "name": "sos",
   "nbconvert_exporter": "sos_notebook.converter.SoS_Exporter",
   "pygments_lexer": "sos"
  },
  "notify_time": "10",
  "sos": {
   "kernels": [
    [
     "JavaScript",
     "javascript",
     "JavaScript",
     "#c8e1ae",
     ""
    ],
    [
     "SoS",
     "sos",
     "",
     "",
     "sos"
    ]
   ],
   "panel": {
    "displayed": true,
    "height": 0
   },
   "version": "0.24.4"
  }
 },
 "nbformat": 4,
 "nbformat_minor": 4
}