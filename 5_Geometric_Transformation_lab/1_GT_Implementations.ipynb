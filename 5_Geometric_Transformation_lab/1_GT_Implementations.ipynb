{
 "cells": [
  {
   "cell_type": "markdown",
   "metadata": {
    "deletable": false,
    "editable": false,
    "kernel": "SoS",
    "nbgrader": {
     "cell_type": "markdown",
     "checksum": "300a52d44d252186ee4be27f7ff8eaf7",
     "grade": false,
     "grade_id": "cell-6e01605929eb2f85",
     "locked": true,
     "schema_version": 3,
     "solution": false,
     "task": false
    }
   },
   "source": [
    "<img src=\"https://www.epfl.ch/about/overview/wp-content/uploads/2020/07/logo-epfl-1024x576.png\" style=\"padding-right:10px;width:140px;float:left\"></td>\n",
    "<h2 style=\"white-space: nowrap\">Image Processing Laboratory Notebooks</h2>\n",
    "<hr style=\"clear:both\">\n",
    "<p style=\"font-size:0.85em; margin:2px; text-align:justify\">\n",
    "This Juypter notebook is part of a series of computer laboratories which are designed\n",
    "to teach image-processing programming; they are running on the EPFL's Noto server. They are the practical complement of the theoretical lectures of the EPFL's Master course <b>Image Processing II</b> \n",
    "(<a href=\"https://moodle.epfl.ch/course/view.php?id=463\">MICRO-512</a>) taught by Dr. D. Sage, Dr. M. Liebling, Prof. M. Unser and Prof. D. Van de Ville.\n",
    "</p>\n",
    "<p style=\"font-size:0.85em; margin:2px; text-align:justify\">\n",
    "The project is funded by the Center for Digital Education and the School of Engineering. It is owned by the <a href=\"http://bigwww.epfl.ch/\">Biomedical Imaging Group</a>. \n",
    "The distribution or the reproduction of the notebook is strictly prohibited without the written consent of the authors.  &copy; EPFL <mark>2024</mark>.\n",
    "</p>\n",
    "<p style=\"font-size:0.85em; margin:0px\"><b>Authors</b>: \n",
    "    <a href=\"mailto:pol.delaguilapla@epfl.ch\">Pol del Aguila Pla</a>, \n",
    "    <a href=\"mailto:kay.lachler@epfl.ch\">Kay L\u00e4chler</a>,\n",
    "    <a href=\"mailto:alejandro.nogueronaramburu@epfl.ch\">Alejandro Noguer\u00f3n Ar\u00e1mburu</a>,\n",
    "    <a href=\"mailto:daniel.sage@epfl.ch\">Daniel Sage</a>, and\n",
    "    <a href=\"mailto:kamil.seghrouchni@epfl.ch\">Kamil Seghrouchni</a>.\n",
    "     \n",
    "</p>\n",
    "<hr style=\"clear:both\">\n",
    "<h1>Lab 5.1: Geometric transformation - Implementations</h1>\n",
    "<div style=\"background-color:#F0F0F0;padding:4px\">\n",
    "    <p style=\"margin:4px;\"><b>Released</b>: <mark>Thursday 14th of March, 2024</mark></p>\n",
    "    <p style=\"margin:4px;\"><b>Submission</b>: <mark><span style=\"color:red\">Monday 25th of March 2024</span></mark> (before 11:59PM)\n",
    "    <p style=\"margin:4px;\"><b>Help sessions</b>: <mark>Thursday 21st of March 2024</mark> in CM 1 2</p>\n",
    "    <p style=\"margin:4px;\"><b>Related lectures</b>: Chapter 7</p>\n",
    "</div>"
   ]
  },
  {
   "cell_type": "markdown",
   "metadata": {
    "kernel": "SoS"
   },
   "source": [
    "### Student Name: \n",
    "### SCIPER: \n",
    "\n",
    "Double-click on this cell and fill your name and SCIPER number. Then, run the cell below to verify your identity in Noto and set the seed for random results."
   ]
  },
  {
   "cell_type": "code",
   "execution_count": null,
   "metadata": {
    "deletable": false,
    "editable": false,
    "kernel": "SoS",
    "nbgrader": {
     "cell_type": "code",
     "checksum": "b2a01d4bfa7ec3eaee6f9ed8d77948bb",
     "grade": true,
     "grade_id": "cell-c64b1583e8652a4c",
     "locked": true,
     "points": 0,
     "schema_version": 3,
     "solution": false,
     "task": false
    }
   },
   "outputs": [],
   "source": [
    "%use sos\n",
    "import getpass\n",
    "# This line recovers your camipro number to mark the images with your ID\n",
    "uid = int(getpass.getuser().split('-')[2]) if len(getpass.getuser().split('-')) > 2 else ord(getpass.getuser()[0])\n",
    "print(f'SCIPER: {uid}')"
   ]
  },
  {
   "cell_type": "markdown",
   "metadata": {
    "deletable": false,
    "editable": false,
    "kernel": "SoS",
    "nbgrader": {
     "cell_type": "markdown",
     "checksum": "d122fa746a3ceb21fe8ff50354e9bc98",
     "grade": false,
     "grade_id": "cell-88e06d7165ee73ae",
     "locked": true,
     "schema_version": 3,
     "solution": false,
     "task": false
    }
   },
   "source": [
    "## <a name=\"imports_\"></a> Imports\n",
    "In the next cell we import standard Python libraries that we will use throughout the lab, as well as the following libraries that are required for the exercises:\n",
    "\n",
    "* [`matplotlib.pyplot`](https://matplotlib.org/3.2.2/api/_as_gen/matplotlib.pyplot.html), to display images,\n",
    "* [`ipywidgets`](https://ipywidgets.readthedocs.io/en/latest/), to make the image display interactive,\n",
    "* [`numpy`](https://numpy.org/doc/stable/reference/index.html), for mathematical operations on arrays,\n",
    "* [`openCV` (cv2)](https://docs.opencv.org/2.4/index.html), for image processing tasks,\n",
    "* [`scipy`(scipy)](https://www.scipy.org), also for image processing tasks.\n",
    "\n",
    "We will then load the `ImageViewer()` class as `viewer`. You can find the documentation of the class [here](https://github.com/Biomedical-Imaging-Group/interactive-kit/wiki/Image-Viewer).\n",
    "\n",
    "Finally, we load the images you will use in the exercise to test your functions. "
   ]
  },
  {
   "cell_type": "code",
   "execution_count": null,
   "metadata": {
    "deletable": false,
    "editable": false,
    "kernel": "SoS",
    "nbgrader": {
     "cell_type": "code",
     "checksum": "f99dc9e7b072bcd5f88e7302775acc99",
     "grade": false,
     "grade_id": "cell-95e23a237216d3c1",
     "locked": true,
     "schema_version": 3,
     "solution": false,
     "task": false
    }
   },
   "outputs": [],
   "source": [
    "%use sos\n",
    "# Configure plotting as dynamic\n",
    "%matplotlib widget\n",
    "\n",
    "# Import standard required packages for this exercise\n",
    "import matplotlib.pyplot as plt\n",
    "import numpy as np\n",
    "import cv2 as cv\n",
    "import ipywidgets as widgets\n",
    "from scipy import ndimage\n",
    "from interactive_kit import imviewer as viewer \n",
    "\n",
    "# Load images to be used in this exercise with data type float 64\n",
    "eiffel = cv.imread('images/eiffel.png',cv.IMREAD_UNCHANGED).astype(np.float64)"
   ]
  },
  {
   "cell_type": "markdown",
   "metadata": {
    "deletable": false,
    "editable": false,
    "kernel": "SoS",
    "nbgrader": {
     "cell_type": "markdown",
     "checksum": "360e0ceacb5773ec9f9d04b967dcb865",
     "grade": false,
     "grade_id": "cell-507920664f494e3e",
     "locked": true,
     "schema_version": 3,
     "solution": false,
     "task": false
    }
   },
   "source": [
    "We also import the JavaScript `ImageAccess` class as `Image`. You can find the documentation of the class [here](https://biomedical-imaging-group.github.io/image-access/)."
   ]
  },
  {
   "cell_type": "code",
   "execution_count": null,
   "metadata": {
    "deletable": false,
    "editable": false,
    "kernel": "JavaScript",
    "nbgrader": {
     "cell_type": "code",
     "checksum": "5e5aa2a083cb8f1d091697a27169ab1e",
     "grade": true,
     "grade_id": "cell-11d3920f9c82494c",
     "locked": true,
     "points": 0,
     "schema_version": 3,
     "solution": false,
     "task": false
    }
   },
   "outputs": [],
   "source": [
    "%use javascript\n",
    "%get eiffel\n",
    "// import image-access as Image\n",
    "var Image = require('image-access')"
   ]
  },
  {
   "cell_type": "markdown",
   "metadata": {
    "deletable": false,
    "editable": false,
    "kernel": "JavaScript",
    "nbgrader": {
     "cell_type": "markdown",
     "checksum": "d8cf4aa0e399f9a7213c53d89b704de0",
     "grade": false,
     "grade_id": "cell-b9c5ba8f322e7200",
     "locked": true,
     "schema_version": 3,
     "solution": false,
     "task": false
    }
   },
   "source": [
    "# Geometric transformation - Implementations (15 points)\n",
    "\n",
    "In this laboratory you will learn how to implement geometric transfomations of image data, as well as several interpolators, in a low-level language like JavaScript. You will then use your implemenations for image processing applications. We will focus on geometric transformations of two-dimensional grayscale images, but keep in mind that the same operations can be adapted to color images by treating each color channel as an independent grayscale image.\n",
    "\n",
    "## <a id=\"ToC_1_GT_Implementations\"></a>Table of contents\n",
    "1. [Understanding geometry](#1.-Understanding-geometry)\n",
    "    1. [Rotation of the coordinate frame](#1.A.-Rotation-of-the-coordinate-frame-(1-point)) **(1 point)** \n",
    "    2. [Implementing the geometric transformation](#1.B.-Implementing-the-geometric-transformation-(4-points)) **(4 points)** \n",
    "    3. [Visualizing transformations](#1.C.-Visualizing-transformations)\n",
    "    4. [Geometric transformations in Python](#1.D.-Geometric-transformations-in-Python-(1-point)) **(1 point)**\n",
    "2. [B-spline interpolation scheme and linear interpolation](#2.-B-spline-interpolation-scheme-and-linear-interpolation)\n",
    "    1. [Understanding the method](#2.A.-Understanding-the-method-(1-point)) **(1 point)** \n",
    "    2. [Linear interpolation](#2.B.-Linear-interpolation-(3-points)) **(3 points)** \n",
    "3. [Cubic interpolation](#3.-Cubic-interpolation) \n",
    "    1. [Prefilter](#3.A.-Prefilter-(3-points)) **(3 points)** \n",
    "    2. [Cubic Interpolation](#3.B.-Cubic-interpolation-(2-points)) **(2 points)** \n",
    "    3. [Visual comparison between the three interpolators](#3.C.-Visual-comparison-between-the-three-interpolators) \n",
    "\n",
    "\n",
    "<div class=\" alert alert-danger\">\n",
    "    \n",
    "<b>Important:</b> Each cell that contains code begins with <code>%use sos</code> or <code>%use javascript</code>. This indicates if the code in this specific cell should be written in Python or JavaScript. Do not change or remove any lines of code that begin with an <code>%</code>. They need to be on the first line of each cell!\n",
    "    \n",
    "</div>"
   ]
  },
  {
   "cell_type": "markdown",
   "metadata": {
    "deletable": false,
    "editable": false,
    "kernel": "JavaScript",
    "nbgrader": {
     "cell_type": "markdown",
     "checksum": "3b8a91cd397d992f988ca6f162795415",
     "grade": false,
     "grade_id": "cell-4d93b0cfd62a54bc",
     "locked": true,
     "schema_version": 3,
     "solution": false,
     "task": false
    }
   },
   "source": [
    "### Visualize images\n",
    "Use the next cell to get familiar with the image you are going to be using."
   ]
  },
  {
   "cell_type": "code",
   "execution_count": null,
   "metadata": {
    "deletable": false,
    "editable": false,
    "kernel": "SoS",
    "nbgrader": {
     "cell_type": "code",
     "checksum": "863ed08425367690ad945ddef8b33084",
     "grade": false,
     "grade_id": "cell-d1e2b5e45a98189a",
     "locked": true,
     "schema_version": 3,
     "solution": false,
     "task": false
    }
   },
   "outputs": [],
   "source": [
    "%use sos\n",
    "# Display images\n",
    "\n",
    "plt.close('all')\n",
    "imgs_viewer = viewer(eiffel, widgets=True, hist=True)"
   ]
  },
  {
   "cell_type": "markdown",
   "metadata": {
    "deletable": false,
    "editable": false,
    "kernel": "JavaScript",
    "nbgrader": {
     "cell_type": "markdown",
     "checksum": "30447907f5be1875b1545c4d07c98c7c",
     "grade": false,
     "grade_id": "cell-3d55ce3ab502b3a7",
     "locked": true,
     "schema_version": 3,
     "solution": false,
     "task": false
    }
   },
   "source": [
    "# 1. Understanding geometry \n",
    "[Back to table of contents](#ToC_1_GT_Implementations)\n",
    "\n",
    "In this section we will study the basics of geometric transformations. We will start by understanding how one moves a coordinate frame using a coordinate transformation matrix. Then, we will look at how one obtains the transformed image by iterating through the pixels in the new image and retrieving the value at their corresponding positions in the original image. As you probably remember from the course, the main challenge of geometric transformations is that you have to correctly interpolate the pixel values at new locations. In this section, we will use [*nearest neighbor*](https://en.wikipedia.org/wiki/Nearest-neighbor_interpolation) interpolation. \n",
    "\n",
    "After you learn how to apply a geometric transformation in a pixel-wise fashion, we will show you how to do it with *SciPy* in just a couple of lines, and we will make a direct comparison of your result to *SciPy*'s. \n",
    "\n",
    "## 1.A. Rotation of the coordinate frame (1 point)\n",
    "[Back to table of contents](#ToC_1_GT_Implementations)\n",
    "\n",
    "We parametrize a geometric transformation on a two-dimensional image by 1) the angle of rotation of the coordinate frame $\\alpha$ (by convention, a positive angle is defined in the counter-clockwise direction), 2) the scaling factor $\\rho>0$ (where $\\rho > 1$ increases the size of the image, while $\\rho < 1$ decreases it), and 3) the center of the transformation $\\mathbf{c}=(c_1, c_2)$. Thus, the pixel at position $\\mathbf{u}=(u_1, u_2)$ in the input image gets mapped to the position $\\mathbf{v}=(v_1, v_2)$ in the output image according to\n",
    "\n",
    "$$ (\\mathbf{v}-\\mathbf{c}) = \\mathbf{A}(\\mathbf{u} - \\mathbf{c}) \\Rightarrow \\mathbf{v} = \\mathbf{A}(\\mathbf{u} - \\mathbf{c}) + \\mathbf{c}\\,,$$\n",
    "\n",
    "where $\\mathbf{A}$ contains the effect of both the rotation of the coordinate frame by $\\alpha$ and the scaling factor $\\rho$. \n",
    "\n",
    "<div class = 'alert alert-warning'>\n",
    "\n",
    "<b>Technical note:</b> The convention in image processing is to <b>rotate the coordinate frame</b>, as opposed to rotating a point while keeping the same coordinate frame. In fact, the two operations are the inverse of each other (rotating the coordinate frame by $\\alpha$ will look like rotating the point by $-\\alpha$). Explore the image below and make sure you understand the concept before continuing.\n",
    "</div>\n",
    "\n",
    "<table><tr>\n",
    "<td> \n",
    "  <p align=\"center\" style=\"padding: 10px\">\n",
    "    <img alt=\"Forwarding\" src=\"images/coord_frame_rotation.png\" width=\"500\">\n",
    "    <br>\n",
    "    <em style=\"color: grey\">Visual explanation of coordinate frame rotation (from <a href=\"https://datagenetics.com/blog/august32013/index.html\">here</a>)</em>.\n",
    "  </p> \n",
    "</td>\n",
    "</tr></table>"
   ]
  },
  {
   "cell_type": "markdown",
   "metadata": {
    "deletable": false,
    "editable": false,
    "kernel": "SoS",
    "nbgrader": {
     "cell_type": "markdown",
     "checksum": "e39a4aecb4a54d68f26358fd2ccfe795",
     "grade": false,
     "grade_id": "cell-8d45a3bb7c3ca4cf",
     "locked": true,
     "schema_version": 3,
     "solution": false,
     "task": false
    }
   },
   "source": [
    "### Multiple Choice Question\n",
    "\n",
    "To start the lab and **for 1 point**, answer the following question. \n",
    "\n",
    " * Among the choices below, which $2 \\times 2$ matrix $A$ performs a rotation **of the coordinate frame** of angle $\\alpha$ and a scaling by $\\rho$? \n",
    "    1. $ A = \\rho \\left[\\begin{array}{ccc} \\cos(\\alpha) & \\sin(\\alpha)\\\\ -\\sin(\\alpha) & \\cos(\\alpha) \\end{array}\\right]$,\n",
    "    2. $ A = \\rho \\left[\\begin{array}{ccc} \\cos(\\alpha) & -\\sin(\\alpha)\\\\ \\sin(\\alpha) & \\cos(\\alpha) \\end{array}\\right]$,\n",
    "    3. $A = \\frac{1}{\\rho} \\left[\\begin{array}{ccc} \\cos(\\alpha) & \\sin(\\alpha)\\\\ -\\cos(\\alpha) & \\sin(\\alpha) \\end{array}\\right]$, or\n",
    "    4. $A = \\frac{1}{\\rho}\\left[\\begin{array}{ccc} \\cos(\\alpha) & -\\sin(\\alpha)\\\\ \\sin(\\alpha) & \\cos(\\alpha) \\end{array}\\right]$.\n",
    "    \n",
    "<div class=\" alert alert-info\">\n",
    "\n",
    "**Note:** To answer, change the variable `answer` in the cell below to the number corresponding to your choice. Then run the cell below to check that your answer is valid. \n",
    "</div>"
   ]
  },
  {
   "cell_type": "code",
   "execution_count": null,
   "metadata": {
    "deletable": false,
    "kernel": "SoS",
    "nbgrader": {
     "cell_type": "code",
     "checksum": "4548ebadc6e78188b54ca762ae7ee31f",
     "grade": false,
     "grade_id": "cell-392ef49587bc499a",
     "locked": false,
     "schema_version": 3,
     "solution": true,
     "task": false
    }
   },
   "outputs": [],
   "source": [
    "%use sos\n",
    "# Modify the variable answer\n",
    "answer = None\n",
    "# YOUR CODE HERE"
   ]
  },
  {
   "cell_type": "code",
   "execution_count": null,
   "metadata": {
    "deletable": false,
    "editable": false,
    "kernel": "SoS",
    "nbgrader": {
     "cell_type": "code",
     "checksum": "2eb9e6a718879d6d3b1ae37d175d9834",
     "grade": true,
     "grade_id": "cell-f5447d06a0ffa5ca",
     "locked": true,
     "points": 1,
     "schema_version": 3,
     "solution": false,
     "task": false
    }
   },
   "outputs": [],
   "source": [
    "%use sos\n",
    "# Sanity check\n",
    "if not answer in [1, 2, 3, 4]:\n",
    "    print('WARNING!\\nValid answers are 1, 2, 3 and 4.')"
   ]
  },
  {
   "cell_type": "markdown",
   "metadata": {
    "deletable": false,
    "editable": false,
    "kernel": "SoS",
    "nbgrader": {
     "cell_type": "markdown",
     "checksum": "40f21b2fce127ad45740a150ced86de6",
     "grade": false,
     "grade_id": "cell-7409eab5df046129",
     "locked": true,
     "schema_version": 3,
     "solution": false,
     "task": false
    }
   },
   "source": [
    "## 1.B. Implementing the geometric transformation (4 points)\n",
    "\n",
    "[Back to table of contents](#ToC_1_GT_Implementations)\n",
    "\n",
    "When computing the geometric transformation of an image, one iterates over the pixels of the output image and retrieves the corresponding values from the input image. To know which pixel from the input image corresponds to each pixel of the output image, we need to solve the equation for $\\mathbf{u}$ instead of $\\mathbf{v}$, obtaining\n",
    "\n",
    "$$\\mathbf{u} = A^{-1}(\\mathbf{v}-\\mathbf{c}) + \\mathbf{c}\\,.$$\n",
    "\n",
    "In the next cell, **for 2 points**, complete the JavaScript function `computeMatrix()` which returns the matrix $A^{-1}$ as a $2\\times 2$ `Image` object. \n",
    "\n",
    "`computeMatrix(angleDegrees, scaling)` takes as input parameters\n",
    "* `angleDegrees`: the angle of rotation of the coordinate frame $\\alpha$ (**in degrees**),\n",
    "* `scaling`: the scaling factor $\\rho$,\n",
    "\n",
    "and returns\n",
    "* `Ainv`: an `Image` object containing $A^{-1}$, the inverse of the $2 \\times 2$ transformation matrix $A$.\n",
    "\n",
    "<div class = 'alert alert-info'>\n",
    "\n",
    "<b>Hint:</b> The JavaScript functions <code>Math.sin</code> and <code>Math.cos</code> take as input an angle in <b>radians</b>. You should use of <code>Math.PI</code> when needed, which represents $\\pi$ in JavaScript.\n",
    "    \n",
    "</div>\n",
    "\n",
    "<div class = 'alert alert-info'>\n",
    "\n",
    "<b>Hint:</b> Make sure you don't get confused by the order of the indices in <code>img.setPixel()</code> with respect to the usual ordering in matrices!\n",
    "    \n",
    "</div>"
   ]
  },
  {
   "cell_type": "code",
   "execution_count": null,
   "metadata": {
    "deletable": false,
    "kernel": "JavaScript",
    "nbgrader": {
     "cell_type": "code",
     "checksum": "f6cd2b0528af18c9ec39a87b848c9f9c",
     "grade": false,
     "grade_id": "cell-7b99b55ce308950a",
     "locked": false,
     "schema_version": 3,
     "solution": true,
     "task": false
    }
   },
   "outputs": [],
   "source": [
    "%use javascript\n",
    "// Function that return the inverse of the transformation matrix A\n",
    "function computeMatrix(angleDegrees, scaling){\n",
    "    // Initialize 2x2 image Ainv filled with zeros\n",
    "    var Ainv = new Image(2,2);\n",
    "    \n",
    "    // YOUR CODE HERE\n",
    "    \n",
    "    return Ainv; \n",
    "}"
   ]
  },
  {
   "cell_type": "markdown",
   "metadata": {
    "deletable": false,
    "editable": false,
    "kernel": "JavaScript",
    "nbgrader": {
     "cell_type": "markdown",
     "checksum": "9a840926b7dd8610c967eee821b3b1c0",
     "grade": false,
     "grade_id": "cell-4f1f6954a9687a31",
     "locked": true,
     "schema_version": 3,
     "solution": false,
     "task": false
    }
   },
   "source": [
    "In the next cell, we will run a sanity check for your function `computeMatrix`. We will apply your function on several angles and scale values. If the sanity check fails, try to understand the test and see where the error might come from.\n",
    "\n",
    "<div class = 'alert alert-danger'>\n",
    "\n",
    "<b>Remember:</b> As for all sanity checks, this is <b>NOT</b> a definitive test, and the fact that the cell runs does not guarantee that you will get the points. \n",
    "</div>    "
   ]
  },
  {
   "cell_type": "code",
   "execution_count": null,
   "metadata": {
    "deletable": false,
    "editable": false,
    "kernel": "JavaScript",
    "nbgrader": {
     "cell_type": "code",
     "checksum": "d6a8c8a08e5a07b671b04685a21d6a68",
     "grade": true,
     "grade_id": "cell-447a932a8f343872",
     "locked": true,
     "points": 2,
     "schema_version": 3,
     "solution": false,
     "task": false
    }
   },
   "outputs": [],
   "source": [
    "%use javascript\n",
    "// declare solutions for 0\u00b0 and a scaling of one, and for 90\u00b0 and a scaling of 2.\n",
    "var solution_test1 = new Image([[1, 0], [0, 1]]);\n",
    "var solution_test2 = new Image([[0, -0.5], [0.5, 0]]);\n",
    "\n",
    "// the transformationn with 0\u00b0 angle and unit scale should produce an identity matrix\n",
    "console.log('The inverse matrix for 0\u00b0 rotation with unity scaling is the identity matrix as below.\\nCorrect solution:\\n' + solution_test1.visualize(2) )\n",
    "console.log('Your result:\\n' + computeMatrix(0, 1).visualize(2));\n",
    "var check_error = false;\n",
    "// compare your solution with the reference transformation\n",
    "if(solution_test1.imageCompare(computeMatrix(0, 1)) == false){\n",
    "    console.log('WARNING!\\nYour computeMatrix() function is not yet correct for the first test case.');\n",
    "    check_error = true;\n",
    "}\n",
    "// the transformation with 90\u00b0 angle and scaling of 2 should be an anti-diagonal matrix with values of +/-0.5\n",
    "console.log('The inverse matrix for 9O\u00b0 rotation with a scaling of 2 is anti-diagonal and contains the values +/-0.5 as below.\\nCorrect solution:\\n' + solution_test2.visualize(2))\n",
    "console.log('Your result:\\n' + computeMatrix(90, 2).visualize(2));\n",
    "//Compare your solution with the reference transformation\n",
    "if(solution_test2.imageCompare(computeMatrix(90, 2)) == false){\n",
    "    console.log('WARNING!\\nYour computeMatrix() function is not yet correct for the second test case.');\n",
    "    check_error = true;\n",
    "}\n",
    "if(!check_error){\n",
    "    console.log('Nice, the computeMatrix() function is correct for the two test cases. Make sure to double check everything, however!');\n",
    "}"
   ]
  },
  {
   "cell_type": "markdown",
   "metadata": {
    "deletable": false,
    "editable": false,
    "kernel": "JavaScript",
    "nbgrader": {
     "cell_type": "markdown",
     "checksum": "8d607df7ea8ae8f9d1129434932d940d",
     "grade": false,
     "grade_id": "cell-bed4a1c81e0e8e6a",
     "locked": true,
     "schema_version": 3,
     "solution": false,
     "task": false
    }
   },
   "source": [
    "For some transformations (for example a rotation by $180^\\circ$), each pixel in the output image will correspond to an exact pixel position in the input image. However, most of the time this is not the case and the pixel value of the output image will correspond to a position in the input image that is between two pixels. In this case, we need to interpolate the corresponding value from the pixel values that are around that point. In this first exercise we provide you with a nearest neighbor interpolator. Later on, you will implement more sophisticated methods to interpolate the values. \n",
    "\n",
    "Run the next cell to declare the function `nn_interpolator()` which performs the nearest neighbor interpolation. Conveniently, when one has defined a grid in $\\mathbb{R}^2$, finding the closest grid-point to any given location is as easy as rounding off each coordinate to the closest integer."
   ]
  },
  {
   "cell_type": "code",
   "execution_count": null,
   "metadata": {
    "deletable": false,
    "editable": false,
    "kernel": "JavaScript",
    "nbgrader": {
     "cell_type": "code",
     "checksum": "ee4585b97c0deb968ff40a65c81edd6f",
     "grade": false,
     "grade_id": "cell-6f6dfc1d3546cc2f",
     "locked": true,
     "schema_version": 3,
     "solution": false,
     "task": false
    }
   },
   "outputs": [],
   "source": [
    "%use javascript\n",
    "//  Nearest neighbor interpolator \n",
    "function nn_interpolator(img, x,  y){\n",
    "    return img.getPixel(Math.round(x), Math.round(y), padding='zero');\n",
    "}"
   ]
  },
  {
   "cell_type": "markdown",
   "metadata": {
    "deletable": false,
    "editable": false,
    "kernel": "JavaScript",
    "nbgrader": {
     "cell_type": "markdown",
     "checksum": "db719d7b67ff1a0cd7b8727da13cc7b2",
     "grade": false,
     "grade_id": "cell-7be8dd7fbfa93524",
     "locked": true,
     "schema_version": 3,
     "solution": false,
     "task": false
    }
   },
   "source": [
    "In the next cell, **for 2 points**, complete the function `transform()`, which will perform the complete geometric transformation of the image, taking as parameters\n",
    "* `img`: the original image,\n",
    "* `angle`: the rotation angle in degrees,\n",
    "* `scaling`: the scaling factor,\n",
    "* `c1` and `c2`: the $x$- and $y$-coordinates, respectively, of the center of rotation,\n",
    "* `interpolator`: a string, which for now we will call `'NN'`, to refer to nearest neighbor interpolation,\n",
    "\n",
    "and returning\n",
    "* `out`: the transformed image.\n",
    "\n",
    "In particular, you will need to complete the section of the code that computes the location in the original image, $\\mathbf{u}$, from the inverse transformation matrix $\\mathbf{A^{-1}}$, the center of the transformation $\\mathbf{c}$, and the location in the output image $\\mathbf{v}$, using the formula we specified at the [beginning of this section](#1.B.-Implementing-the-geometric-transformation-(4-points))."
   ]
  },
  {
   "cell_type": "code",
   "execution_count": null,
   "metadata": {
    "deletable": false,
    "kernel": "JavaScript",
    "nbgrader": {
     "cell_type": "code",
     "checksum": "eaa60433553210bf76bfb1014f4c33a5",
     "grade": false,
     "grade_id": "cell-bb81a6a561c82481",
     "locked": false,
     "schema_version": 3,
     "solution": true,
     "task": false
    }
   },
   "outputs": [],
   "source": [
    "%use javascript\n",
    "// Function that rotates and scales an image around a given center point\n",
    "function transform(img, angle, scaling, c1, c2, interpolator){\n",
    "    // Preallocate space for output image\n",
    "    var out = new Image(img.shape());\n",
    "    \n",
    "    // Coefficients for each pixel in the input image (only after cubic spline interpolation)\n",
    "    var coef = (interpolator == 'CUBIC') ? cubicSplineCoefficients(img) : null; \n",
    "    \n",
    "    // Get the inverse of the rotation matrix A\n",
    "    var Ainv = computeMatrix(angle, scaling);\n",
    "    \n",
    "    // Iterate over the positions in the output image v\n",
    "    for(var v1 = 0; v1 < img.nx; v1++){\n",
    "        for(var v2 = 0; v2 < img.ny; v2++){\n",
    "            \n",
    "            // Compute the corresponding position in the input image, u = (u1, u2) from\n",
    "            // the output pixel position v = (v1, v2), Ainv, and the center c = (c1, c2).\n",
    "            var u1 = 0;\n",
    "            var u2 = 0;\n",
    "            \n",
    "            // YOUR CODE HERE\n",
    "            \n",
    "            // Check that the input pixel location is inside the image, otherwise leave the pixel at 0 (default value in out)\n",
    "            if(u1 >= 0 && u2 >= 0 && u1 <= img.nx-1 && u2 <= img.ny-1){\n",
    "                var value = 0; \n",
    "                // Select the interpolator\n",
    "                switch(interpolator){\n",
    "                    case \"NN\": \n",
    "                        value = nn_interpolator(img, u1, u2);\n",
    "                        break;\n",
    "                    case \"LINEAR\":\n",
    "                        value = linear_interpolator(img, u1, u2);\n",
    "                        break ; \n",
    "                    case \"CUBIC\": \n",
    "                        value = cubic_interpolator(coef, u1, u2);\n",
    "                        break ;\n",
    "                }\n",
    "                // set pixel (v1,v2) of the output image to the interpolated value\n",
    "                out.setPixel(v1, v2, value);\n",
    "            }else{\n",
    "                continue;\n",
    "            }\n",
    "        }\n",
    "    }\n",
    "    return out; \n",
    "}"
   ]
  },
  {
   "cell_type": "markdown",
   "metadata": {
    "deletable": false,
    "editable": false,
    "kernel": "JavaScript",
    "nbgrader": {
     "cell_type": "markdown",
     "checksum": "a8453aa3e6838a5892fec70c488bbaa3",
     "grade": false,
     "grade_id": "cell-2d5f4b3c2c860e69",
     "locked": true,
     "schema_version": 3,
     "solution": false,
     "task": false
    }
   },
   "source": [
    "Let's perform a quick sanity check. We will apply your function on a small $5\\times 5$ cross image, then visualize and compare transformations by $0^\\circ$ and scaling factor $2$, and $40^\\circ$ and scaling factor $1.01$, respectively, to see the effect of the nearest neighbor interpolation. Both transformations will be centered at the middle of the image, i.e., $\\mathbf{c}=[2,2]^\\mathrm{T}$. If your cell raises an error, explore the test in detail to see where it might come from."
   ]
  },
  {
   "cell_type": "code",
   "execution_count": null,
   "metadata": {
    "deletable": false,
    "editable": false,
    "kernel": "JavaScript",
    "nbgrader": {
     "cell_type": "code",
     "checksum": "a1a427df09220860588da0713ae64f9a",
     "grade": true,
     "grade_id": "cell-8e9ec38d7ffb0cec",
     "locked": true,
     "points": 2,
     "schema_version": 3,
     "solution": false,
     "task": false
    }
   },
   "outputs": [],
   "source": [
    "%use javascript\n",
    "// Declare the cross image used for testing and visualize\n",
    "var test_cross_image  = new Image ([[0, 0, 1, 0, 0], [0, 0, 1, 0, 0], [1, 1, 1, 1, 1], [0, 0, 1, 0, 0], [0, 0, 1, 0, 0]]);\n",
    "console.log('Cross image:\\n' + test_cross_image .visualize(4) + '\\n---------------\\n')\n",
    "// Test for (angle, scale) = (0, 2) using NN interpolation \n",
    "var solution_test_0 = new Image([[0, 1, 1, 0, 0], [1, 1, 1, 1, 1], [1, 1, 1, 1, 1], [0, 1, 1, 0, 0], [0, 1, 1, 0, 0]]);\n",
    "var result_test_0 = transform(test_cross_image, 0, 2, 2, 2, 'NN');\n",
    "console.log('Correct transformation with NN interpolation, (angle, scale) = (0, 2):\\n' + solution_test_0.visualize(2))\n",
    "console.log('Your result:\\n' + result_test_0.visualize(2));\n",
    "if(solution_test_0.imageCompare(result_test_0) == false){\n",
    "    console.log('WARNING!\\nTest 1 failed. Sorry, the transform() function is not yet correct.');\n",
    "}else{\n",
    "    console.log('Test 1 successful, good job!\\n\\n---------------\\n')\n",
    "}\n",
    "\n",
    "// Test for (angle, scale) = (40, 1.01) using NN interpolation \n",
    "var solution_test_40 = new Image([[0, 0, 0, 0, 0], [0, 1, 0, 1, 0], [0, 0, 1, 0, 0], [0, 1, 0, 1, 0], [0, 0, 0, 0, 0]]);\n",
    "var result_test_40 = transform(test_cross_image, 40, 1.01, 2, 2, 'NN')\n",
    "console.log('Correct transformation with NN interpolation, (angle, scale) = (40, 1):\\n' + solution_test_40.visualize(2)) \n",
    "console.log('Your result:\\n' + result_test_40.visualize(2));\n",
    "if(solution_test_40.imageCompare(result_test_40) == false){\n",
    "    console.log('WARNING!\\nTest 2 failed. Sorry, the transform() function is not yet correct.');\n",
    "}else{\n",
    "    console.log('Test 2 successful, good job!\\n\\n---------------\\n')\n",
    "}"
   ]
  },
  {
   "cell_type": "markdown",
   "metadata": {
    "deletable": false,
    "editable": false,
    "kernel": "JavaScript",
    "nbgrader": {
     "cell_type": "markdown",
     "checksum": "398fb40309e8716c2aca02e4ec560af4",
     "grade": false,
     "grade_id": "cell-becb626eeb200b43",
     "locked": true,
     "schema_version": 3,
     "solution": false,
     "task": false
    }
   },
   "source": [
    "Although the sanity check was not applied to real images, we can already see all sorts of undesirable effects. Let's look at the result on a real image. "
   ]
  },
  {
   "cell_type": "markdown",
   "metadata": {
    "deletable": false,
    "editable": false,
    "kernel": "JavaScript",
    "nbgrader": {
     "cell_type": "markdown",
     "checksum": "c750a847fcdd1a8c4552aaec8dac11c4",
     "grade": false,
     "grade_id": "cell-9fad8292959da5ab",
     "locked": true,
     "schema_version": 3,
     "solution": false,
     "task": false
    }
   },
   "source": [
    "## 1.C. Visualizing transformations\n",
    "[Back to table of contents](#ToC_1_GT_Implementations)\n",
    "\n",
    "To visualize the effect of the whole operation, we will apply the geometric transformation you just coded to the image `eiffel` . We will do so for the following pairs of angles $\\alpha$ and scaling factors $\\rho$: ($\\alpha$ = 0, $\\rho$ = 1), ($\\alpha$ = -20, $\\rho$=1), ($\\alpha$ = 0, $\\rho$ = 0.8), and ($\\alpha$ = 24, $\\rho$ = 2.5), all using the nearest neighbor interpolator.\n",
    "\n",
    "Run the two next cells, which will apply the transform, convert the results to Python and display them with the viewer.\n",
    "\n",
    "<div class = 'alert alert-info'>\n",
    "\n",
    "<b>Note:</b> Did you notice how symmetric was the sanity check from the previous cell? This was necessary, as otherwise, the test image would have been too large. However, it means that certain errors may have not been detected. Use the following cell to check if all the transformations make sense!. \n",
    "</div>"
   ]
  },
  {
   "cell_type": "code",
   "execution_count": null,
   "metadata": {
    "deletable": false,
    "editable": false,
    "kernel": "JavaScript",
    "nbgrader": {
     "cell_type": "code",
     "checksum": "ff4165c7fc1d8c767f81f4cf42f4f3dc",
     "grade": false,
     "grade_id": "cell-ebb2f40c272e8a39",
     "locked": true,
     "schema_version": 3,
     "solution": false,
     "task": false
    }
   },
   "outputs": [],
   "source": [
    "%use javascript\n",
    "%put output_sequence\n",
    "// Declare angles and scales\n",
    "var eiffel_img = new Image(eiffel);\n",
    "var angles = [0,   0,  24,  -20, -20];\n",
    "var scales = [1, 0.8, 2.5,   1,    1];\n",
    "// Compute image centre\n",
    "var c1 = parseInt(eiffel_img.nx/2);\n",
    "var c2 = parseInt(eiffel_img.ny/2);\n",
    "var centers = [[c1, c2], [c1, c2], [c1, c2], [c1, c2], [0, 0]];\n",
    "// Initialize output list\n",
    "var output_sequence = [];\n",
    "// Apply geometric transforms \n",
    "for(var i = 0; i < angles.length; i++){\n",
    "    output_sequence.push(transform(eiffel_img, angles[i], scales[i], centers[i][0], centers[i][1], 'NN').toArray());\n",
    "}\n",
    "console.log('Applied ' + angles.length + ' transforms using NN interpolation.')"
   ]
  },
  {
   "cell_type": "code",
   "execution_count": null,
   "metadata": {
    "deletable": false,
    "editable": false,
    "kernel": "SoS",
    "nbgrader": {
     "cell_type": "code",
     "checksum": "c340a208ec359f546f67be304472e5f5",
     "grade": false,
     "grade_id": "cell-ae73e3846027734f",
     "locked": true,
     "schema_version": 3,
     "solution": false,
     "task": false
    }
   },
   "outputs": [],
   "source": [
    "%use sos\n",
    "# Convert serie of image to numpy arrays and declare viewer parameters\n",
    "image_list = [eiffel] + [np.array(img) for img in output_sequence]\n",
    "title_list = ['Original image', r\"$\\alpha=0^{\\circ},\\rho=1,\\mathbf{c} = (220, 324)$\", \n",
    "              r\"$\\alpha=0^{\\circ},\\rho=0.8,\\mathbf{c} = (220, 324)$\", r\"$\\alpha=24^{\\circ},\\rho=2.5,\\mathbf{c} = (220, 324)$\", \n",
    "              r\"$\\alpha=-20^{\\circ},\\rho=1,\\mathbf{c} = (220, 324)$\", r\"$\\alpha=-20^{\\circ},\\rho=1,\\mathbf{c} = (0, 0)$\"]\n",
    "\n",
    "# Display images\n",
    "plt.close('all')\n",
    "eiffel_viewer = viewer(image_list, title=title_list, widgets=True)"
   ]
  },
  {
   "cell_type": "markdown",
   "metadata": {
    "deletable": false,
    "editable": false,
    "kernel": "SoS",
    "nbgrader": {
     "cell_type": "markdown",
     "checksum": "ee6fb9eec6ecb2d61a47670ccebb3f12",
     "grade": false,
     "grade_id": "cell-2638eeb0a7d4125d",
     "locked": true,
     "schema_version": 3,
     "solution": false,
     "task": false
    }
   },
   "source": [
    "## 1.D. Geometric transformations in Python (1 point)\n",
    "[Back to table of contents](#ToC_1_GT_Implementations)\n",
    "\n",
    "In Python, geometric transformations can be done easily using OpenCV's [`cv.getRotationMatrix2D`](https://docs.opencv.org/3.4/da/d54/group__imgproc__transform.html#gafbbc470ce83812914a70abfb604f4326) and SciPy's [`scipy.ndimage.affine_transform`](https://docs.scipy.org/doc/scipy/reference/generated/scipy.ndimage.affine_transform.html#scipy-ndimage-affine-transform) functions. \n",
    "\n",
    "`cv.getRotationMatrix2D(center, angle, scale)` takes as parameters\n",
    " *  `center`: a tuple containing the center of the transformation $(c_1, c_2)$,\n",
    " *  `angle`: the angle of rotation $\\alpha$, in degrees, and\n",
    " *  `scale`: the scaling factor $\\rho$,\n",
    " \n",
    "and returns\n",
    " *  `M`: a $2 \\times 3$ matrix, where the two first columns contain the rotation matrix, and the last column contains the shifts to be applied after rotating the coordinates $\\mathbf{u}$. In case you are wondering, this is because in most cases the expression we showed you [here](#1.A.-Rotation-of-the-coordinate-frame-(1-point)) is implemented as $\\mathbf{v} = \\mathbf{A}\\mathbf{u} + (\\mathbf{I}-\\mathbf{A}) \\mathbf{c}$, which saves a few computations because one does not need to compute $\\mathbf{u}-\\mathbf{c}$ every time, and $(\\mathbf{I}-\\mathbf{A}) \\mathbf{c}$ is pre-computed and stored in the third column of `M`.\n",
    "\n",
    "`ndimage.affine_transform(img, M, order=3)` takes as parameters\n",
    " *  `img`: the original image,\n",
    " *  `M`: the inverse coordinate transformation matrix, mapping output coordinates to input coordinates, in the same $2\\times 3$ format used by `cv.getRotationMatrix2D`, and\n",
    " *  `order`: the order of the interpolation method to be used (`0` = nearest neighbor, `1` = linear, `3` = cubic, which defaults to `3`),\n",
    " \n",
    "and returns:\n",
    " *  `out`: the transformed image.\n",
    "\n",
    "<div class=\"alert alert-warning\">\n",
    "    \n",
    "<b>Technical Note:</b> It turns out that OpenCV and SciPy use different conventions for image locations: while OpenCV uses $(x,y)$ like our JavaScript functions, SciPy uses $(y,x)$, like in the usual NumPy array indexing. Because of the simple structure in rotation matrices, this implies that instead of producing the transformation matrix, inverting it, and then correcting for different indexing conventions, we can directly create the inverse matrix using <code>cv.getRotationMatrix2D</code> and changing <code>center</code> to $(c_2, c_1)$ and <code>scale</code> to $1/\\rho$. Figuring why this works out is left as an exercise for those interested, and is the type of practical problem one often faces when interfacing tools from excellent, but different, sources. \n",
    "</div>\n",
    "\n",
    "In the cell below, we use these two functions to create an interactive viewer, where you can play around with the angle and scale parameters. You should understand how to use  `cv.getRotationMatrix2D` and `ndimage.affine_transform` together to perform geometric transformations. For this, look at the function `transform_py()` in the cell below and make sure you understand what it is doing.\n",
    "\n",
    "The transformation is still performed using the nearest neighbors interpolator. Run the following two cells to play with the transformations.\n",
    "<div class=\"alert alert-info\">\n",
    "    \n",
    "**Note:** To access the sliders, open the widget pannel and click on *Extra widgets*. Then choose a value for $\\alpha$ and $\\rho$ using the slider. Click on `Apply Transformation` to see the result. If the value of the sliders are hidden, remember that you can access them by scrolling to the right.\n",
    "</div>"
   ]
  },
  {
   "cell_type": "code",
   "execution_count": null,
   "metadata": {
    "deletable": false,
    "editable": false,
    "kernel": "SoS",
    "nbgrader": {
     "cell_type": "code",
     "checksum": "cfaa6f1315aaebee3c3667bad17a739a",
     "grade": false,
     "grade_id": "cell-10ddca898d196adc",
     "locked": true,
     "schema_version": 3,
     "solution": false,
     "task": false
    }
   },
   "outputs": [],
   "source": [
    "%use sos\n",
    "# Define the sliders and button\n",
    "angle_slider = widgets.FloatSlider(value=0, min=-180, max=180, step=.5, description=r'$\\alpha$')\n",
    "rho_slider = widgets.FloatSlider(value=1, min=0.1, max=4.09, step=0.1, description=r'$\\rho$')\n",
    "c1_slider = widgets.IntSlider(value=eiffel.shape[1]//2, min=0, max=eiffel.shape[1], description='$c_1$')\n",
    "c2_slider = widgets.IntSlider(value=eiffel.shape[0]//2, min=0, max=eiffel.shape[0], description='$c_2$')\n",
    "button = widgets.Button(description='Apply transformation')\n",
    "\n",
    "# Rotate and scale callback function \n",
    "def transform_py(image):\n",
    "    # retreive slider values for angle, scale and center\n",
    "    angle = angle_slider.value\n",
    "    scale = rho_slider.value\n",
    "    c1 = c1_slider.value\n",
    "    c2 = c2_slider.value\n",
    "    # Get the rotation matrix and shifts from the angle and the center point\n",
    "    M = cv.getRotationMatrix2D((c2, c1), angle, 1/scale)\n",
    "    # Perform the rotation with nearest neighbor (order=0)\n",
    "    transformed = ndimage.affine_transform(image, M, order=0)\n",
    "    return transformed\n",
    "\n",
    "# Visualize angle and scale effect during transformation\n",
    "plt.close(\"all\")\n",
    "view = viewer([eiffel], title=\"Eiffel tower\", new_widgets=[angle_slider, rho_slider, c1_slider, c2_slider, button], \n",
    "              callbacks=[transform_py], widgets=True)"
   ]
  },
  {
   "cell_type": "markdown",
   "metadata": {
    "deletable": false,
    "editable": false,
    "kernel": "SoS",
    "nbgrader": {
     "cell_type": "markdown",
     "checksum": "c98c9b9138138a41848f93721b3ceb66",
     "grade": false,
     "grade_id": "cell-139f10fa7b992258",
     "locked": true,
     "schema_version": 3,
     "solution": false,
     "task": false
    }
   },
   "source": [
    "Finally, let's test your function `transform()` by comparing the result to the Python implementation. In `ndimage.affine_transform()` we will set `order=0` for nearest neighbor interpolation. Make sure that you ran the [first code cell of part 1.C.](#1.C.-Visualizing-transformations) before running this test."
   ]
  },
  {
   "cell_type": "code",
   "execution_count": null,
   "metadata": {
    "deletable": false,
    "editable": false,
    "kernel": "SoS",
    "nbgrader": {
     "cell_type": "code",
     "checksum": "6e839e50b1622ba57aef7fcc17bb8d23",
     "grade": false,
     "grade_id": "cell-f0eeafaa827c958f",
     "locked": true,
     "schema_version": 3,
     "solution": false,
     "task": false
    }
   },
   "outputs": [],
   "source": [
    "%use sos\n",
    "# Get Python transformation\n",
    "ny, nx = eiffel.shape\n",
    "M = cv.getRotationMatrix2D((ny//2, nx//2), 24, 1/2.5)\n",
    "transformed = ndimage.affine_transform(eiffel, M, order=0)\n",
    "# Check that the two images are identical\n",
    "try:\n",
    "    np.testing.assert_array_almost_equal(transformed, output_sequence[2])\n",
    "    print('Congratulations! Your function gives the same result as some of the most accepted image processing libraries in the world.')\n",
    "except:\n",
    "    print('WARNING!\\nYour transform function does not produce the same output as OpenCV and SciPy ndimage.\\nSomething is not yet correct' +\n",
    "          ' with your code.\\nInspect closely the following images to look for differences.')\n",
    "    plt.close('all')\n",
    "    view = viewer([transformed, np.array(output_sequence[2])], title=[\"SciPy's output (Ground truth)\", 'Your JS output'], widgets=True)"
   ]
  },
  {
   "cell_type": "markdown",
   "metadata": {
    "deletable": false,
    "editable": false,
    "kernel": "SoS",
    "nbgrader": {
     "cell_type": "markdown",
     "checksum": "66b2cc23ac35c242bac944c56065f106",
     "grade": false,
     "grade_id": "cell-49f70bde219f0806",
     "locked": true,
     "schema_version": 3,
     "solution": false,
     "task": false
    }
   },
   "source": [
    "### Multiple Choice Question\n",
    "Use the interactive viewer two cells above to answer the following question **for 1 point**. \n",
    "\n",
    "* What parameters should be used to align the eiffel tower vertically, with the main axis of the tower in the middle of the image while only keeping the upper part (only the region between the second and third platform) of the tower?\n",
    "\n",
    "\n",
    "<div class=\" alert alert-info\">\n",
    "\n",
    "<b>Note:</b> To answer, change the variables <code>alpha</code>, <code>rho</code>, <code>c_1</code> and <code>c_2</code> in the cell below to the values corresponding to your choice. Then run the 4 cells below to check that your answers is valid. \n",
    "</div>"
   ]
  },
  {
   "cell_type": "code",
   "execution_count": null,
   "metadata": {
    "deletable": false,
    "kernel": "SoS",
    "nbgrader": {
     "cell_type": "code",
     "checksum": "3f94e037063384e82d88fc9544539f78",
     "grade": false,
     "grade_id": "cell-a0af8b1ff3486f55",
     "locked": false,
     "schema_version": 3,
     "solution": true,
     "task": false
    }
   },
   "outputs": [],
   "source": [
    "%use sos\n",
    "# Modify the variable answer\n",
    "alpha = None\n",
    "rho = None\n",
    "c_1 = None\n",
    "c_2 = None\n",
    "# YOUR CODE HERE"
   ]
  },
  {
   "cell_type": "code",
   "execution_count": null,
   "metadata": {
    "deletable": false,
    "editable": false,
    "kernel": "SoS",
    "nbgrader": {
     "cell_type": "code",
     "checksum": "5b2ccd153748d7525cb96f1cafcc1cc3",
     "grade": true,
     "grade_id": "cell-d007399269c99426",
     "locked": true,
     "points": 0.25,
     "schema_version": 3,
     "solution": false,
     "task": false
    }
   },
   "outputs": [],
   "source": [
    "%use sos\n",
    "# Sanity check\n",
    "if not (alpha >= -90 and alpha <= 90):\n",
    "    print('WARNING!\\nChoose a suitable range for alpha.')"
   ]
  },
  {
   "cell_type": "code",
   "execution_count": null,
   "metadata": {
    "deletable": false,
    "editable": false,
    "kernel": "SoS",
    "nbgrader": {
     "cell_type": "code",
     "checksum": "9e5491159442fe31d0203ddfd07e87e6",
     "grade": true,
     "grade_id": "cell-42aa04b7c9b7175a",
     "locked": true,
     "points": 0.25,
     "schema_version": 3,
     "solution": false,
     "task": false
    }
   },
   "outputs": [],
   "source": [
    "%use sos\n",
    "# Sanity check\n",
    "if not (rho >= 0 and rho <= 4):\n",
    "    print('WARNING!\\nChoose a suitable range for rho.')"
   ]
  },
  {
   "cell_type": "code",
   "execution_count": null,
   "metadata": {
    "deletable": false,
    "editable": false,
    "kernel": "SoS",
    "nbgrader": {
     "cell_type": "code",
     "checksum": "bbc6f6e278faf90eb4a7e797ceb565ea",
     "grade": true,
     "grade_id": "cell-8c91a3d36f84892e",
     "locked": true,
     "points": 0.25,
     "schema_version": 3,
     "solution": false,
     "task": false
    }
   },
   "outputs": [],
   "source": [
    "%use sos\n",
    "# Sanity check\n",
    "if not (c_1 >= 0 and c_1 <= 440):\n",
    "    print('WARNING!\\nChoose a suitable range for c_1.')"
   ]
  },
  {
   "cell_type": "code",
   "execution_count": null,
   "metadata": {
    "deletable": false,
    "editable": false,
    "kernel": "SoS",
    "nbgrader": {
     "cell_type": "code",
     "checksum": "ea1a5ad4e076bcfacfa17d8d5e157b5c",
     "grade": true,
     "grade_id": "cell-c53681b83a34018b",
     "locked": true,
     "points": 0.25,
     "schema_version": 3,
     "solution": false,
     "task": false
    }
   },
   "outputs": [],
   "source": [
    "%use sos\n",
    "# Sanity check\n",
    "if not (c_2 >= 0 and c_2 <= 690):\n",
    "    print('WARNING!\\nChoose a suitable range for c_1.')"
   ]
  },
  {
   "cell_type": "markdown",
   "metadata": {
    "deletable": false,
    "editable": false,
    "kernel": "SoS",
    "nbgrader": {
     "cell_type": "markdown",
     "checksum": "a0b3c3e1a978d7deb22b47ab5377c071",
     "grade": false,
     "grade_id": "cell-26f47428e2923285",
     "locked": true,
     "schema_version": 3,
     "solution": false,
     "task": false
    }
   },
   "source": [
    "# 2. B-spline interpolation scheme and linear interpolation\n",
    "[Back to table of contents](#ToC_1_GT_Implementations)\n",
    "\n",
    "Now that you know how to transform images by an angle $\\alpha$ and a scaling factor $\\rho$, it is time to think about the quality of the result. As you saw in the first section, nearest neighbor interpolation already gives good results, but can we do better?\n",
    "\n",
    "In this section we will deal with linear interpolation. First you will implement a linear interpolation in JavaScript and then we will once again compare it to the SciPy version, which uses linear interpolation by default.\n",
    "\n",
    "## 2.A. Understanding the method (1 point) \n",
    "[Back to table of contents](#ToC_1_GT_Implementations)\n",
    "\n",
    "To improve the quality of the transformed image, we propose to compute the output image $g(\\mathbf{x})$, where $\\mathbf{x} = (x,y)$, as a weighted sum of shifted two-dimensional B-spline basis functions $\\boldsymbol{\\beta}^n(\\mathbf{x}) = \\beta^n(x) \\beta^n(y)$, i.e.,\n",
    "\n",
    "$$\n",
    "    g(\\mathbf{x})=\\sum_{\\mathbf{k}\\in\\mathbb{Z}^2}c[\\mathbf{k}]\\boldsymbol{\\beta}^n(\\mathbf{x}-\\mathbf{k})\\mbox{, where } \\mathbf{k}=(k_1,k_2)\n",
    "$$\n",
    "\n",
    "is the vector of image indices. \n",
    "<div class=\"alert alert-info\">\n",
    "\n",
    "<b>Note:</b> If you don't remember everything you need to remember about B-splines, revise Chapter 7.2 of your course notes.\n",
    "</div>\n",
    "\n",
    "In this section, we propose to implement a *linear interpolation* $(n = 1)$, while in the next ([Section 3](#3.-Cubic-interpolation)), we will propose to implement a *cubic interpolation*  $(n = 3)$. Note that, as you saw in the course, the basis functions $\\beta^1(x)$ are interpolant, meaning that the coefficients $c[k]$ will simply be the samples of the input image, i.e., $c[k] = s[k]$. However, the basis functions $\\beta^3(x)$ are not interpolant, and a pre-filter is required to compute the coefficients $c[k]$ from the input image $s[k]$.\n",
    "\n",
    "**For 1 point**, answer the following MCQ:\n",
    " * Which are the values at the origin $\\beta^1(0)$ and $\\beta^3(0)$?, which is the size of their support (the set $\\lbrace x\\in\\mathbb{R} : \\beta^n(x)>0 \\rbrace$)?\n",
    "\n",
    "1. $\\beta^1(0) = \\frac{2}{3}$ and its support is of size $4$, and $\\beta^3(0) = 1$ and its support is of size $2$,\n",
    "2. $\\beta^1(0) = 1$ and its support is of size $2$, and $\\beta^3(0) = 1$ and its support is of size $2$,\n",
    "3. $\\beta^1(0) = \\frac{2}{3}$ and its support is of size $4$, and $\\beta^3(0) = \\frac{6}{8}$ and its support is of size $3$,\n",
    "4. $\\beta^1(0) = 1$ and its support is of size $2$, and $\\beta^3(0) = \\frac{2}{3}$ and its support is of size $4$.\n",
    "\n",
    "<div class = 'alert alert-info'>\n",
    "\n",
    "<b>Note:</b> To answer the question, change the value of the variable <code>answer</code> in the next cell. The cell below it is for you to check that your answer is valid. If you have any doubts, go to your course notes.\n",
    "</div>"
   ]
  },
  {
   "cell_type": "code",
   "execution_count": null,
   "metadata": {
    "deletable": false,
    "kernel": "SoS",
    "nbgrader": {
     "cell_type": "code",
     "checksum": "596580d6f96b99a5ad423262ccbd8590",
     "grade": false,
     "grade_id": "cell-9bb4f6074af7676a",
     "locked": false,
     "schema_version": 3,
     "solution": true,
     "task": false
    }
   },
   "outputs": [],
   "source": [
    "%use sos\n",
    "# Modify the variable answer\n",
    "answer = None\n",
    "# YOUR CODE HERE"
   ]
  },
  {
   "cell_type": "code",
   "execution_count": null,
   "metadata": {
    "deletable": false,
    "editable": false,
    "kernel": "SoS",
    "nbgrader": {
     "cell_type": "code",
     "checksum": "b49d20217f15c74d0323b31469b832fa",
     "grade": true,
     "grade_id": "cell-4efd0974ee9e16a9",
     "locked": true,
     "points": 1,
     "schema_version": 3,
     "solution": false,
     "task": false
    }
   },
   "outputs": [],
   "source": [
    "%use sos\n",
    "# Sanity check\n",
    "if not answer in [1, 2, 3, 4]:\n",
    "    print('WARNING!\\nChoose one of 1, 2, 3 or 4.')"
   ]
  },
  {
   "cell_type": "markdown",
   "metadata": {
    "deletable": false,
    "editable": false,
    "kernel": "SoS",
    "nbgrader": {
     "cell_type": "markdown",
     "checksum": "cca1acd2e948ee7f19d693e007045c0f",
     "grade": false,
     "grade_id": "cell-f04142f5fa522792",
     "locked": true,
     "schema_version": 3,
     "solution": false,
     "task": false
    }
   },
   "source": [
    "## 2.B. Linear interpolation (3 points)\n",
    "[Back to table of contents](#ToC_1_GT_Implementations)\n",
    "\n",
    "The image below illustrates how two-dimensional linear interpolation works. In the example, we only have $4$ pixels and we're interpolating the value of the image at the location $(dx,dy)$. In practice, all examples can be reduced to this, since the $4$ neighboring pixels are the only ones that are going to have an effect on the interpolation, and $(dx,dy)$ can be seen as the distances to the integers immediately below the locations $x$ and $y$ of interest.\n",
    "\n",
    "The general procedure is as follows. First, the $2\\times 2$ neighborhood of the image around the wanted location is extracted. For simplicity, we will refer to them as $s[k,l]$, with $k,l=0$ corresponding to the integers immediately below $(x,y)$, and $k,l=1$ corresponding to the integers immediately above $(x,y)$. Then, the $4$ weights to apply to each of them are extracted from the values of $\\beta^1(\\mathbf{x}-(0,0))$, $\\beta^1(\\mathbf{x}-(0,1))$, $\\beta^1(\\mathbf{x}-(1,0))$, and $\\beta^1(\\mathbf{x}-(1,1))$ at the location $\\mathbf{x}=(dx,dy)$.  Finally, because in linear interpolation $c[k]=s[k]$, the interpolation is the linear combination of the four pixels with these weights. \n",
    "\n",
    "<img src=\"images/bilinear_interpolation_showcase.png\" alt=\"Drawing\" style=\"width: 400px;\"/>\n",
    "\n",
    "From $dx$ and $dy$, the weights given by $\\beta^1(\\mathbf{x})$ are, for $k,l\\in\\lbrace 0,1\\rbrace$,\n",
    "\n",
    "$$\n",
    "\\beta^1[k, l]=\n",
    "    \\begin{bmatrix}\n",
    "        (1-dx)(1-dy) & dx(1-dy) \\\\\n",
    "        (1-dx)dy & dxdy\n",
    "    \\end{bmatrix}\n",
    "$$\n",
    "\n",
    "and the interpolated value becomes\n",
    "\n",
    "$$\n",
    "    v = \\sum_{k=0}^{1}\\sum_{l=0}^{1}\\beta^1[k,l]s[k,l]\\,,\n",
    "$$\n",
    "\n",
    "with the convention for $s[k,l]$ explained above.\n",
    "\n",
    "As the first step, **for 1 point**, implement the function `getLinearSpline(dx, dy)` that returns a $2\\times 2$ `Image` object that represents the weight $\\beta^1[k, l]$ for $(dx, dy)\\in[0,1]^2$ in the cell below. For further information, you can look at slides 7-11 amd 7-12 of your [course notes](https://moodle.epfl.ch/pluginfile.php/2749644/mod_resource/content/0/IP-Chap%207_handout.pdf)."
   ]
  },
  {
   "cell_type": "code",
   "execution_count": null,
   "metadata": {
    "deletable": false,
    "kernel": "JavaScript",
    "nbgrader": {
     "cell_type": "code",
     "checksum": "3742e2d4401091f18450ec92a39dd7cd",
     "grade": false,
     "grade_id": "cell-892d6310a86b4034",
     "locked": false,
     "schema_version": 3,
     "solution": true,
     "task": false
    }
   },
   "outputs": [],
   "source": [
    "%use javascript\n",
    "\n",
    "function getLinearSpline(dx, dy){\n",
    "    // Check for correct input parameters\n",
    "    if(dx < 0 || dx > 1 || dy < 0 || dy > 1){\n",
    "        throw new Error(\"Argument for linear B-spline is outside of the expected range [0, 1].\");       \n",
    "    }\n",
    "    // Create the 2x2 Image object\n",
    "    var beta = new Image(2, 2);\n",
    "    \n",
    "    // YOUR CODE HERE\n",
    "    \n",
    "    return beta;\n",
    "}"
   ]
  },
  {
   "cell_type": "markdown",
   "metadata": {
    "deletable": false,
    "editable": false,
    "kernel": "JavaScript",
    "nbgrader": {
     "cell_type": "markdown",
     "checksum": "52e25387456985e2c55b8d4a7844cd5f",
     "grade": false,
     "grade_id": "cell-a4df2cc8e562128a",
     "locked": true,
     "schema_version": 3,
     "solution": false,
     "task": false
    }
   },
   "source": [
    "Before proceeding, we will perform a sanity check as usual. Verify that the output values also make sense to you."
   ]
  },
  {
   "cell_type": "code",
   "execution_count": null,
   "metadata": {
    "deletable": false,
    "editable": false,
    "kernel": "JavaScript",
    "nbgrader": {
     "cell_type": "code",
     "checksum": "e77169490cc181908d590dd87b3cf321",
     "grade": true,
     "grade_id": "cell-1d0d686d8f51e3e8",
     "locked": true,
     "points": 1,
     "schema_version": 3,
     "solution": false,
     "task": false
    }
   },
   "outputs": [],
   "source": [
    "%use javascript\n",
    "// Check some simple interpolation cases\n",
    "var in_values = [[0, 0], [1, 0], [0.5, 0.5], [0.75, 0.25]];\n",
    "var out_values = [[[1, 0], [0, 0]], [[0, 1], [0, 0]], [[0.25, 0.25], [0.25, 0.25]], [[0.188, 0.563], [0.063, 0.188]]];\n",
    "var check_error = false;\n",
    "for(var i = 0; i < in_values.length; i++){\n",
    "    console.log('Linear spline weights for dx=' + in_values[i][0] + ', dy=' + in_values[i][1] + ':')\n",
    "    test_img = getLinearSpline(in_values[i][0], in_values[i][1])\n",
    "    console.log(test_img.visualize())\n",
    "    if(test_img.imageCompare(new Image(out_values[i]), tol=1e-3) == false){\n",
    "        console.log('WARNING!\\nThe result for dx=' + in_values[i][0] + ', dy=' + in_values[i][1] + ' is not correct.\\n' +\n",
    "                    'Expected output:\\n' + (new Image(out_values[i])).visualize() + '---------------\\n');\n",
    "        check_error = true;\n",
    "    }else{\n",
    "        console.log('This is correct.\\n---------------\\n');\n",
    "    }\n",
    "}\n",
    "if(!check_error){\n",
    "    console.log('Nice, the B-splines seem to be correct.')\n",
    "}"
   ]
  },
  {
   "cell_type": "markdown",
   "metadata": {
    "deletable": false,
    "editable": false,
    "kernel": "SoS",
    "nbgrader": {
     "cell_type": "markdown",
     "checksum": "54a6bfc12b4715eba617dd5a0a844eeb",
     "grade": false,
     "grade_id": "cell-94cdc01cfe4cec00",
     "locked": true,
     "schema_version": 3,
     "solution": false,
     "task": false
    }
   },
   "source": [
    "In the next cell, **for 2 points**, implement the function `linear_interpolator()`, which returns the linearly interpolated value at the position $(x,y)$.\n",
    "\n",
    "The function `linear_interpolator(img, x, y)` takes as parameters\n",
    " * `img`: the image to interpolate the value from,\n",
    " * `x`: the x-coordinate at which we want to obtain an interpolated value,\n",
    " * `y`: the y-coordinate at which we want to obtain an interpolated value.\n",
    " \n",
    "The function outputs the linearly interpolated value in the variable `out`.\n",
    "\n",
    "<div class=\"alert alert-info\">\n",
    "\n",
    "**Hints:**\n",
    "* Use the function `getLinearSpline()` you implemented above to obtain the right weights for each of the surrounding pixels.\n",
    "* If you use `img.getNbh(x, y, w, h)` with an **even** width $w$ and height $h$, the returned neighborhood is from $x-\\frac{w}{2}$ to $x+\\frac{w}{2}-1$ and from $y-\\frac{h}{2}$ to $y+\\frac{h}{2}-1$. Make sure that you get the correct pixels for your interpolation!\n",
    "* To get the floor $\\lfloor x \\rfloor$ of a number $x$ in JavaScript, you can use the function `parseInt()`.\n",
    "</div>"
   ]
  },
  {
   "cell_type": "code",
   "execution_count": null,
   "metadata": {
    "deletable": false,
    "kernel": "JavaScript",
    "nbgrader": {
     "cell_type": "code",
     "checksum": "9c85cb99811fbb50b31ef4f6a085d79f",
     "grade": false,
     "grade_id": "cell-3a10c9aa416ee278",
     "locked": false,
     "schema_version": 3,
     "solution": true,
     "task": false
    }
   },
   "outputs": [],
   "source": [
    "%use javascript\n",
    "\n",
    "function linear_interpolator(img, x, y){\n",
    "    var out = 0;\n",
    "    \n",
    "    // YOUR CODE HERE\n",
    "    \n",
    "    return out \n",
    "}"
   ]
  },
  {
   "cell_type": "markdown",
   "metadata": {
    "deletable": false,
    "editable": false,
    "kernel": "JavaScript",
    "nbgrader": {
     "cell_type": "markdown",
     "checksum": "fc7179f9a6c2ec287759d4d265392f7b",
     "grade": false,
     "grade_id": "cell-3ff376fc9fc7f82a",
     "locked": true,
     "schema_version": 3,
     "solution": false,
     "task": false
    }
   },
   "source": [
    "Now run the next cell to perform a sanity check on this function as well."
   ]
  },
  {
   "cell_type": "code",
   "execution_count": null,
   "metadata": {
    "deletable": false,
    "editable": false,
    "kernel": "JavaScript",
    "nbgrader": {
     "cell_type": "code",
     "checksum": "d831c946a5167456342291db5d5d055a",
     "grade": true,
     "grade_id": "cell-9bf6f80d22387767",
     "locked": true,
     "points": 2,
     "schema_version": 3,
     "solution": false,
     "task": false
    }
   },
   "outputs": [],
   "source": [
    "%use javascript \n",
    "// Let's check the linear interpolator \n",
    "var test_linear = new Image([[1,2,3,4,5], [6,7,8,9,10], [11,12,13,14,15]]);\n",
    "var locs = [[3, 1], [1.5, 1.5]];\n",
    "var vals = [9, 10];\n",
    "var check_error = false;\n",
    "console.log('Input image for sanity check:\\n' + test_linear.visualize())\n",
    "for(var i = 0; i < locs.length; i++){\n",
    "    var test_val = linear_interpolator(test_linear, locs[i][0], locs[i][1]);\n",
    "    console.log('Your interpolated value at location (x=' + locs[i][0] + ', y=' + locs[i][1] + ') is ' + test_val + '.');\n",
    "    if(test_val != vals[i]){\n",
    "        console.log('WARNING!\\nThe linear_interpolator is not yet correct. The expected value at location (x=' + \n",
    "                    locs[i][0] + ', y=' + locs[i][1] + ') is ' + vals[i] + '.\\n---------------\\n');\n",
    "        check_error = true;\n",
    "    }else{\n",
    "        console.log('This is correct.\\n---------------\\n')\n",
    "    }\n",
    "}\n",
    "if(!check_error){\n",
    "    console.log('Nice, the linear_interpolator function passed the sanity check!');\n",
    "}"
   ]
  },
  {
   "cell_type": "markdown",
   "metadata": {
    "deletable": false,
    "editable": false,
    "kernel": "JavaScript",
    "nbgrader": {
     "cell_type": "markdown",
     "checksum": "ced5f637a458ce862edd639f9ad7b050",
     "grade": false,
     "grade_id": "cell-4151713db06741ea",
     "locked": true,
     "schema_version": 3,
     "solution": false,
     "task": false
    }
   },
   "source": [
    "In the next two cells, we will compare the output of your `transform` function to the output of `ndimage.affine_tranform` when both are using linear interpolation. Run the two cells to see if your transform function works correctly with linear interpolation.\n",
    "\n",
    "<div class = 'alert alert-info'><b>Note</b>: After running the next two cells, you will see either see a winning message, or you transformed image display with some regions in red. These regions show the differences between your implementation and the Python implementation. Use this info to debug your linear interpolation.\n",
    "</div>"
   ]
  },
  {
   "cell_type": "code",
   "execution_count": null,
   "metadata": {
    "deletable": false,
    "editable": false,
    "kernel": "JavaScript",
    "nbgrader": {
     "cell_type": "code",
     "checksum": "a398ffa96c9360576317c4057e18e5f0",
     "grade": false,
     "grade_id": "cell-db58993cbc3242a2",
     "locked": true,
     "schema_version": 3,
     "solution": false,
     "task": false
    }
   },
   "outputs": [],
   "source": [
    "%use javascript\n",
    "%put transformed_js\n",
    "// JavaScript transformation \n",
    "// Remember that we defined transform(img, angle, scaling, c1, c2, interpolator)\n",
    "var transformed_js = transform(new Image(eiffel), -72, 1.3, 282, 355, interpolator='LINEAR').toArray();"
   ]
  },
  {
   "cell_type": "code",
   "execution_count": null,
   "metadata": {
    "deletable": false,
    "editable": false,
    "kernel": "SoS",
    "nbgrader": {
     "cell_type": "code",
     "checksum": "d02aa4a26808e8e7ea116271cafe3cdd",
     "grade": false,
     "grade_id": "cell-05e4e5b4b72c8f27",
     "locked": true,
     "schema_version": 3,
     "solution": false,
     "task": false
    }
   },
   "outputs": [],
   "source": [
    "%use sos\n",
    "# Python transformation (order=1 corresponds to linear interpolation)\n",
    "M = cv.getRotationMatrix2D(center=(355, 282), angle=-72, scale=1/1.3)\n",
    "transformed = ndimage.affine_transform(eiffel, M, order=1)\n",
    "# Check that the images are identical\n",
    "if np.allclose(transformed, np.array(transformed_js)):\n",
    "    print('Good job! The trasformation with linear interpolation gives the same result as OpenCV.')\n",
    "else:\n",
    "    print('WARNING!\\nThe transformation with linear interpolation is not correct.\\nSee the images below and try to find the source of the error.')\n",
    "    plt.close('all')\n",
    "    title_list = ['Python transformation', 'Your transformation']\n",
    "    view = viewer([transformed, np.array(transformed_js)], title=title_list, widgets=True, subplots=(1,2), compare=True)"
   ]
  },
  {
   "cell_type": "markdown",
   "metadata": {
    "deletable": false,
    "editable": false,
    "kernel": "SoS",
    "nbgrader": {
     "cell_type": "markdown",
     "checksum": "5230928413f84828f2b27111ec1019ea",
     "grade": false,
     "grade_id": "cell-08eb080c98166b62",
     "locked": true,
     "schema_version": 3,
     "solution": false,
     "task": false
    }
   },
   "source": [
    "\n",
    "# 3. Cubic interpolation \n",
    "[Back to table of contents](#ToC_1_GT_Implementations)\n",
    "\n",
    "As you have seen in the previous section, the linear interpolation using linear splines already provides quite good results, but let's try to do better with a cubic interpolation, i.e., using cubic splines. Unlike with linear B-splines, where the coefficients are simply the values of the input image, for the cubic interpolator we will need to implement a prefilter to compute the coefficients $c[\\mathbf{k}]$.\n",
    "\n",
    "## 3.A. Prefilter (3 points)\n",
    "[Back to table of contents](#ToC_1_GT_Implementations)\n",
    "\n",
    "Luckily, the computation of the values $c[\\mathbf{k}]$ from the image $s[\\mathbf{k}]$ is separable. A fast implementation of the one-dimensional prefilter to obtain the coefficients $c[k]$ in the cubic interpolator is obtained by a cascade of recursive filters. This cascade is schematized below, where $c_{0}=6$ and ${a}=\\sqrt{3}-2$:\n",
    "\n",
    "<img src=\"images/diagram.jpg\" alt=\"Drawing\" style=\"width: 500px;\"/>\n",
    "\n",
    "Here, your job will be to implement this one-dimensional filter in the function `recursiveExponentialFilter()` below. \n",
    "\n",
    "Before that, however, run the cell below to define the function `cubicSplineCoefficients()`, which calls `recursiveExponentialFilter()` first over the rows and then over the columns of an image to compute the coefficients $c[\\mathbf{k}]$ of an image $s[\\mathbf{k}]$.\n",
    "\n",
    "There, we also define the functions `initialValueCausal(signal, a)` and `initialValueAntiCausal(signal, a)`, which will help you in your implementation and take as input parameters\n",
    "* `signal`: a one-dimensional `Image` object representing a row/column of an image, and\n",
    "* `a`: the value of $a$ in the diagram above,\n",
    "\n",
    "and return\n",
    "\n",
    "* `out`: the initial value for the causal and anticausal filters, respectively."
   ]
  },
  {
   "cell_type": "code",
   "execution_count": null,
   "metadata": {
    "deletable": false,
    "editable": false,
    "kernel": "JavaScript",
    "nbgrader": {
     "cell_type": "code",
     "checksum": "6c9234de1a76ce3a553c18d53d110161",
     "grade": false,
     "grade_id": "cell-a5d72f75c0ada6a0",
     "locked": true,
     "schema_version": 3,
     "solution": false,
     "task": false
    }
   },
   "outputs": [],
   "source": [
    "%use javascript\n",
    "// Function that returns the 2D cubic spline coefficients by applying the separable pre-filter\n",
    "function cubicSplineCoefficients(img){\n",
    "    var out = new Image(img.shape()); \n",
    "    // Iterate over rows and apply 1D prefilter\n",
    "    for(var y = 0; y < img.ny; y++){\n",
    "        var row = img.getRow(y);\n",
    "        var prow = recursiveExponentialFilter(row);\n",
    "        out.putRow(y, prow); \n",
    "    }\n",
    "    // Iterate over columns and apply 1D prefilter on the result\n",
    "    for(var x = 0; x < img.nx; x++){\n",
    "        var column = out.getColumn(x);\n",
    "        var pcolumn = recursiveExponentialFilter(column);\n",
    "        out.putColumn(x, pcolumn); \n",
    "    }\n",
    "    return out;\n",
    "}\n",
    "\n",
    "// Provided methods that return the appropriate initial values\n",
    "function initialValueCausal(signal, a){\n",
    "    // Set the precision of the initial value\n",
    "    var k0 = Math.min(12, signal.nx); \n",
    "    var polek = a;\n",
    "    // Approximate the initial value with the pixels following the boundary\n",
    "    var v = signal.getPixel(0, 0); \n",
    "    for(k = 1; k < k0; k++){\n",
    "        v += polek * signal.getPixel(k, 0);\n",
    "        polek *= a;\n",
    "    }\n",
    "    return v; \n",
    "}\n",
    "\n",
    "function initialValueAntiCausal(signal, a){\n",
    "    var n =  signal.nx;\n",
    "    return (a / (a * a - 1.0)) * (signal.getPixel(n-1, 0) + a * signal.getPixel(n-2, 0)); \n",
    "}"
   ]
  },
  {
   "cell_type": "markdown",
   "metadata": {
    "deletable": false,
    "editable": false,
    "kernel": "JavaScript",
    "nbgrader": {
     "cell_type": "markdown",
     "checksum": "4d045de9abb50a36b5cc3e81605df1f5",
     "grade": false,
     "grade_id": "cell-a33df8d806ca2ff6",
     "locked": true,
     "schema_version": 3,
     "solution": false,
     "task": false
    }
   },
   "source": [
    "In the next cell, **for 3 points**, implement the function `recursiveExponentialFilter(s)` that performs the one-dimensional recursive filtering on a single row/column. This function has as input parameter:\n",
    "\n",
    "* `s`: a one-dimensional `Image` object representing a single row/column $s[k]$. `s` is of size $1 \\times w$, i.e., it is of width $w$ and height $1$,\n",
    "\n",
    "and returns:\n",
    "\n",
    "* `c`: a one-dimensional `Image` object with the same shape that contains the coefficients $c[k]$ corresponding to the input signal $s[k]$. \n",
    "\n",
    "<div class=\"alert alert-info\">\n",
    "    \n",
    "**Hints:** \n",
    "* $\\operatorname{H}(z) = \\sum_{m=0}^{M-1}b_m z^{-m} \\left/ \\sum_{n=0}^{N-1}a_n z^{-n}\\right.$ is equivalent to $\\sum_{n=0}^{N-1}a_n y[k-n] = \\sum_{m=0}^{M-1}b_m x[k-m]$.\n",
    "* Although exponential filters have an infinite impuse responses (IIR), every value you set when applying the filter contains all the information about the previous (or future) values of the original signal. In practice, then, at each step you only need the last value you set and the value of the input signal at the current position. Revise your course notes for more information. \n",
    "* Use the function `initialValueCausal` to approximate the value of $y[0]$ for the causal filter and `initialValueAntiCausal` to approximate the value of $y[w-1]$ for the anticausal filter.\n",
    "</div>\n",
    "\n",
    "<div class=\"alert alert-warning\">\n",
    "    \n",
    "**Note:** Remember that the method `Image.setPixel()` (and `Image.getPixel()`) **use the convention $(x,y)$ for pixel positions**. Because you are using one-dimensional `Image` objects with a height of 1 element, the second parameter (the $y$ position of the pixel being accessed) should always be 0.\n",
    "</div>"
   ]
  },
  {
   "cell_type": "code",
   "execution_count": null,
   "metadata": {
    "deletable": false,
    "kernel": "JavaScript",
    "nbgrader": {
     "cell_type": "code",
     "checksum": "273384291c6fce3824fb0db6269cc9dd",
     "grade": false,
     "grade_id": "cell-2068389b00349026",
     "locked": false,
     "schema_version": 3,
     "solution": true,
     "task": false
    }
   },
   "outputs": [],
   "source": [
    "%use javascript\n",
    "// Function that computes the cubic coefficients using a recursive exponential filter\n",
    "function recursiveExponentialFilter(s){\n",
    "    // Initialize the coefficients to contain the same values as the input signal\n",
    "    var c = s.copy();\n",
    "    // Extract the signal length (width)\n",
    "    var n = s.nx;\n",
    "    \n",
    "    // YOUR CODE HERE\n",
    "    \n",
    "    return c;\n",
    "}"
   ]
  },
  {
   "cell_type": "markdown",
   "metadata": {
    "deletable": false,
    "editable": false,
    "kernel": "JavaScript",
    "nbgrader": {
     "cell_type": "markdown",
     "checksum": "728616f7190bfd331f0d2e035e6c4974",
     "grade": false,
     "grade_id": "cell-7d8e61b599e95f12",
     "locked": true,
     "schema_version": 3,
     "solution": false,
     "task": false
    }
   },
   "source": [
    "As a sanity check, we will apply your function to an impulse sequence of length 11. Run the next cell to do so."
   ]
  },
  {
   "cell_type": "code",
   "execution_count": null,
   "metadata": {
    "deletable": false,
    "editable": false,
    "kernel": "JavaScript",
    "nbgrader": {
     "cell_type": "code",
     "checksum": "f12b1213a50693a7150971158d7531b3",
     "grade": true,
     "grade_id": "cell-563ca648d4603497",
     "locked": true,
     "points": 3,
     "schema_version": 3,
     "solution": false,
     "task": false
    }
   },
   "outputs": [],
   "source": [
    "%use javascript\n",
    "// Define test image and expected output\n",
    "var impulse = new Image([[0, 0, 0, 0, 0, 1, 0, 0, 0, 0, 0]]);\n",
    "var solution = new Image ([[-0.006, 0.012, -0.042, 0.158, -0.588, 2.196, -0.588, 0.158, -0.042, 0.012, -0.006]]);\n",
    "// Get the coefficients\n",
    "var test = cubicSplineCoefficients(impulse);\n",
    "console.log('Input sequence:\\n' + impulse.visualize())\n",
    "console.log('Your cubic spline coefficients:\\n' + test.visualize())\n",
    "// Compare the output to the solution\n",
    "if(test.imageCompare(solution, tol=1e-3) == false){\n",
    "        console.log(\"WARNING!\\nThe recursive exponential filter is not working properly, the expected cubic spline coefficients are:\\n\" + \n",
    "                    solution.visualize());\n",
    "}\n",
    "else{\n",
    "    console.log('Congratulations! Your implementation passed the sanity check.' +  \n",
    "                '\\nHowever, this is not a guarantee that it works well for any input!')\n",
    "}"
   ]
  },
  {
   "cell_type": "markdown",
   "metadata": {
    "deletable": false,
    "editable": false,
    "kernel": "SoS",
    "nbgrader": {
     "cell_type": "markdown",
     "checksum": "b301e20fc1aa176450513e1a4a775788",
     "grade": false,
     "grade_id": "cell-62e510c05464503c",
     "locked": true,
     "schema_version": 3,
     "solution": false,
     "task": false
    }
   },
   "source": [
    "## 3.B. Cubic interpolation (2 points) \n",
    "\n",
    "[Back to table of contents](#ToC_1_GT_Implementations)\n",
    "\n",
    "Now that we have the correct coefficients, we can complete the `cubic_interpolator()` function below. \n",
    "\n",
    "To simplify your task, however, we provide the function `getCubicSpline(dx, dy)` that returns a $4\\times4$ `Image` object that represents the values of the two-dimensional cubic B-spline $\\beta^3[k, l]$ for some values $dx,dy\\in[0,1]^2$ defined as in [Section 2.B.](#2.B.-Linear-interpolation-(3-points)), and corresponds to your `getLinearSpline()` function but for the case of cubic interpolation. Run the next cell to define this function."
   ]
  },
  {
   "cell_type": "code",
   "execution_count": null,
   "metadata": {
    "deletable": false,
    "editable": false,
    "kernel": "JavaScript",
    "nbgrader": {
     "cell_type": "code",
     "checksum": "e5aec904a1b3513e3e04fbbd014a80ec",
     "grade": false,
     "grade_id": "cell-1588e1377e12d7e0",
     "locked": true,
     "schema_version": 3,
     "solution": false,
     "task": false
    }
   },
   "outputs": [],
   "source": [
    "%use javascript\n",
    "// Function that returns the cubic spline coefficiants as a 4x4 Image object\n",
    "function getCubicSpline(dx, dy){\n",
    "    var out = new Image(4, 4); \n",
    "    // Check input parameters\n",
    "    if(dx < 0 || dx > 1 || dy < 0 || dy > 1){\n",
    "        throw new Error(\"Argument for cubic B-spline is outside of the expected range [0, 1].\");       \n",
    "    }\n",
    "    // Function that calculates the 1D cubic B-spline values\n",
    "    function getV(t){\n",
    "        var v = new Array(4);\n",
    "        v[0] = (1.0-t)**3 / 6.0;\n",
    "        v[1] = (2.0 / 3.0) - 0.5 * t**2 * (2 - t);\n",
    "        v[3] = t**3 / 6.0;\n",
    "        v[2] = 1.0 - v[3] - v[1] - v[0];\n",
    "        return v\n",
    "    }\n",
    "    var vx = getV(dx);\n",
    "    var vy = getV(dy);\n",
    "    // Calculate the 2D cubic spline coefficients\n",
    "    for(var k = 0; k < 4; k++){\n",
    "        for(var l = 0; l < 4; l++){\n",
    "            out.setPixel(k, l, vx[k] * vy[l]);\n",
    "        }\n",
    "    }\n",
    "    return out;\n",
    "}"
   ]
  },
  {
   "cell_type": "markdown",
   "metadata": {
    "deletable": false,
    "editable": false,
    "kernel": "JavaScript",
    "nbgrader": {
     "cell_type": "markdown",
     "checksum": "12e880c2b3eb9c053720f32d93e00c8d",
     "grade": false,
     "grade_id": "cell-d93db6f256a89d93",
     "locked": true,
     "schema_version": 3,
     "solution": false,
     "task": false
    }
   },
   "source": [
    "**For 2 points** implement the method `cubic_interpolator(c, x, y)` in the cell below. This function takes as input parameters\n",
    "\n",
    " * `c`: an `Image` object containing the coefficients $c[\\mathbf{k}]$ calculated by the function `cubicSplineCoefficients()`,\n",
    " * `x`: the x-coordinate at which we want to obtain an interpolated value,\n",
    " * `y`: the y-coordinate at which we want to obtain an interpolated value,\n",
    "\n",
    "and returns\n",
    "\n",
    "* `out`: the interpolated value.\n",
    "\n",
    "<div class=\"alert alert-info\">\n",
    "\n",
    "<b>Hints:</b><ul>\n",
    "<li>Use the function <code>getCubicSpline()</code> provided for you to obtain the cubic spline of size $4 \\times 4$ for each interpolation location.</li>\n",
    "<li>If you need further help, check the advice we gave you just before you implemented <code>linear_interpolator()</code>.</li></ul>\n",
    "</div>"
   ]
  },
  {
   "cell_type": "code",
   "execution_count": null,
   "metadata": {
    "deletable": false,
    "kernel": "JavaScript",
    "nbgrader": {
     "cell_type": "code",
     "checksum": "61aef58302198746bed418fa1c9a7252",
     "grade": false,
     "grade_id": "cell-3d09af47f095a9ad",
     "locked": false,
     "schema_version": 3,
     "solution": true,
     "task": false
    }
   },
   "outputs": [],
   "source": [
    "%use javascript\n",
    "\n",
    "function cubic_interpolator(c, x, y){\n",
    "    var out = 0;\n",
    "    \n",
    "    // YOUR CODE HERE\n",
    "    \n",
    "    return out;\n",
    "}"
   ]
  },
  {
   "cell_type": "markdown",
   "metadata": {
    "deletable": false,
    "editable": false,
    "kernel": "JavaScript",
    "nbgrader": {
     "cell_type": "markdown",
     "checksum": "d470e1e2fce844ae1a840e8b24ad180d",
     "grade": false,
     "grade_id": "cell-bbeffc8f3387b4e5",
     "locked": true,
     "schema_version": 3,
     "solution": false,
     "task": false
    }
   },
   "source": [
    "Now run the next cell perform a quick sanity check as always."
   ]
  },
  {
   "cell_type": "code",
   "execution_count": null,
   "metadata": {
    "deletable": false,
    "editable": false,
    "kernel": "JavaScript",
    "nbgrader": {
     "cell_type": "code",
     "checksum": "8f41ef1fa7fa9de05369b253486fbbc4",
     "grade": true,
     "grade_id": "cell-543ff35e509ade61",
     "locked": true,
     "points": 2,
     "schema_version": 3,
     "solution": false,
     "task": false
    }
   },
   "outputs": [],
   "source": [
    "var test_cubic = new Image([[1, 2, 3, 4, 5], [6, 7, 8, 9, 10], [11, 12, 13, 14, 15]]);\n",
    "console.log('Input image for sanity check:\\n' + test_cubic.visualize());\n",
    "console.log('Your interpolated value at location (x=3, y=1) is ' + cubic_interpolator(test_cubic, 3, 1) + '.');\n",
    "var check_error = false;\n",
    "if(cubic_interpolator(test_cubic, 3, 1) != 9){\n",
    "    console.log('WARNING!\\nThe linear_interpolator is not yet correct. The expected value at location (x=3, y=1) is 9.\\n---------------\\n');\n",
    "    check_error = true;\n",
    "}else{\n",
    "    console.log('This is correct.\\n---------------\\n')\n",
    "}\n",
    "console.log('Your interpolated value at location (x=1.5, y=1.5) is ' + cubic_interpolator(test_cubic, 1.5, 1.5).toPrecision(4) + '.');\n",
    "if(Math.abs(cubic_interpolator(test_cubic, 1.5, 1.5) - 9.896) > 0.001){\n",
    "    console.log('WARNING!\\nThe linear_interpolator is not yet correct. The expected value at location (x=1.5, y=1.5) is 9.896.\\n---------------\\n');\n",
    "    check_error = true;\n",
    "}else{\n",
    "    console.log('This is correct.\\n---------------\\n')\n",
    "}\n",
    "if(!check_error){\n",
    "    console.log('Nice, the cubic_interpolator function passed the sanity check!');\n",
    "}"
   ]
  },
  {
   "cell_type": "markdown",
   "metadata": {
    "deletable": false,
    "editable": false,
    "kernel": "JavaScript",
    "nbgrader": {
     "cell_type": "markdown",
     "checksum": "ca521077f628ba34a99969374e4627f5",
     "grade": false,
     "grade_id": "cell-21d26925748a4df8",
     "locked": true,
     "schema_version": 3,
     "solution": false,
     "task": false
    }
   },
   "source": [
    "Once again, run the next two cells to compare your implementation with the one from Python again.\n",
    "\n",
    "<div class = 'alert alert-info'><b>Note</b>: After running the next two cells, you will see either see a winning message, or you transformed image display with some regions in red. These regions show the differences between your implementation and the Python implementation. Use this info to debug your cubic interpolation.\n",
    "</div>"
   ]
  },
  {
   "cell_type": "code",
   "execution_count": null,
   "metadata": {
    "deletable": false,
    "editable": false,
    "kernel": "JavaScript",
    "nbgrader": {
     "cell_type": "code",
     "checksum": "476222bc9aa1d3aaab2973d5e335ae8f",
     "grade": false,
     "grade_id": "cell-1ca39288068614f6",
     "locked": true,
     "schema_version": 3,
     "solution": false,
     "task": false
    }
   },
   "outputs": [],
   "source": [
    "%use javascript\n",
    "%put transformed_js\n",
    "// JavaScript transformation\n",
    "var transformed_js = transform(new Image(eiffel), 45, 0.8, 150, 250, 'CUBIC').toArray();"
   ]
  },
  {
   "cell_type": "code",
   "execution_count": null,
   "metadata": {
    "deletable": false,
    "editable": false,
    "kernel": "SoS",
    "nbgrader": {
     "cell_type": "code",
     "checksum": "075cebe0b369efc46d4c0cf29bb6d621",
     "grade": false,
     "grade_id": "cell-f8e129e2b63b56b6",
     "locked": true,
     "schema_version": 3,
     "solution": false,
     "task": false
    }
   },
   "outputs": [],
   "source": [
    "%use sos\n",
    "# Python transformation\n",
    "M = cv.getRotationMatrix2D((250, 150), 45, 1/0.8)\n",
    "transformed = ndimage.affine_transform(eiffel, M, order=3)\n",
    "# Check that the difference is less than 0.1% (boundary issues caused by different implementations of the exponential filters)\n",
    "if np.count_nonzero(transformed.astype(np.int) - np.array(transformed_js, dtype=np.int))/np.size(transformed) < 1e-3:\n",
    "    print('Good job! The trasformation with cubic interpolation is correct.')\n",
    "else:\n",
    "    print('WARNING!\\nThe transformation with cubic interpolation is not yet correct.\\nCheck the images to try to find the source of the error.')\n",
    "    plt.close('all')\n",
    "    viewer([transformed, np.array(transformed_js)], title=['SciPy (Ground truth)', 'JS'], widgets=True, compare=True)"
   ]
  },
  {
   "cell_type": "markdown",
   "metadata": {
    "deletable": false,
    "editable": false,
    "kernel": "SoS",
    "nbgrader": {
     "cell_type": "markdown",
     "checksum": "0150106713b21d54cebf50238ed586b2",
     "grade": false,
     "grade_id": "cell-d91902320b35e83e",
     "locked": true,
     "schema_version": 3,
     "solution": false,
     "task": false
    }
   },
   "source": [
    "Now, we are sorry about the difficulty of computing the coefficients $c[\\mathbf{k}]$ and then applying cubic interpolation. You should not forget about this step! As Micha\u00ebl Unser wrote when presenting his work to reinsure the importance of the pre-filter and the applications of the cubic spline:\n",
    "\n",
    "<table><tr>\n",
    "<td> \n",
    "  <p align=\"center\" style=\"padding: 50px\">\n",
    "    <em style=\"font-weight: bold\">It is worth mentioning that many authors in image processing leave out the essential prefitering step [...]. This has a catastrophic effect on performance and perpetuates the incorrect belief that high-order B-spline interpolation results in increased image blurring.</em>\n",
    "    <br> <br>\n",
    "    <em style=\"color: grey;padding-left: 100px\">M. Unser, \"Splines: a perfect fit for signal and image processing,\" in IEEE Signal Processing Magazine, vol. 16, no. 6, pp. 22-38, Nov. 1999, DOI: <a href=\"https://ieeexplore.ieee.org/abstract/document/799930\">10.1109/79.799930</a></em>.\n",
    "  </p> \n",
    "</td>\n",
    "</tr></table>\n",
    " \n",
    "As a quick demonstration, run the next cell where we will plot a transformation with and without the prefilter. Zoom into the high frequency regions to see the blurring caused by lack of knowledge!"
   ]
  },
  {
   "cell_type": "code",
   "execution_count": null,
   "metadata": {
    "deletable": false,
    "editable": false,
    "kernel": "SoS",
    "nbgrader": {
     "cell_type": "code",
     "checksum": "913fbc0123024580effcd322dbfd0675",
     "grade": false,
     "grade_id": "cell-a88484326fdf6223",
     "locked": true,
     "schema_version": 3,
     "solution": false,
     "task": false
    }
   },
   "outputs": [],
   "source": [
    "%use sos\n",
    "# Get transformations\n",
    "M = cv.getRotationMatrix2D((590, 100), 35, 1/1.5)\n",
    "transformed_prefilt = ndimage.affine_transform(eiffel, M, order=3)\n",
    "transformed_no_prefilt = ndimage.affine_transform(eiffel, M, order=3, prefilter = False)\n",
    "\n",
    "# Visualize\n",
    "plt.close('all')\n",
    "view = viewer([transformed_prefilt, transformed_no_prefilt], title=['Prefiltered (Ground truth)', 'Not prefiltered (Wrong)'], \n",
    "              widgets=True, subplots=(1,2), joint_zoom=True)"
   ]
  },
  {
   "cell_type": "markdown",
   "metadata": {
    "ExecuteTime": {
     "end_time": "2021-03-06T13:38:34.574752Z",
     "start_time": "2021-03-06T13:38:34.446Z"
    },
    "deletable": false,
    "editable": false,
    "kernel": "SoS",
    "nbgrader": {
     "cell_type": "markdown",
     "checksum": "2161c4f317a357d82570db15506a3309",
     "grade": false,
     "grade_id": "cell-743478f44b3e5aab",
     "locked": true,
     "schema_version": 3,
     "solution": false,
     "task": false
    }
   },
   "source": [
    "## 3.C. Visual comparison between the three interpolators\n",
    "[Back to table of contents](#ToC_1_GT_Implementations)\n",
    "\n",
    "Finally, let us have a quick look at the difference between the three types of interpolators. Run the two cells below to apply the same transformation with the three different interpolators you implemented in this lab and visualize them. This is mostly for you to see the value in what you have been doing in this last section. In the second part of this lab, we will also compare the three interpolation methods numerically in order to see what we gain from a more complex interpolation.\n",
    "<div class='alert alert-info'>\n",
    "\n",
    "**Note:** Feel free to change the parameters of the transformation to see different results.\n",
    "</div>"
   ]
  },
  {
   "cell_type": "code",
   "execution_count": null,
   "metadata": {
    "kernel": "JavaScript"
   },
   "outputs": [],
   "source": [
    "%use javascript\n",
    "%put transformed_nn transformed_lin transformed_cub\n",
    "// Define the transformation parameters\n",
    "var angle = 30;\n",
    "var scaling = 4.2;\n",
    "var cx = 245;\n",
    "var cy = 360;\n",
    "\n",
    "// Perform transformation with the three different interpolators\n",
    "var eiffel_img = new Image(eiffel);\n",
    "var transformed_nn = transform(eiffel_img, angle, scaling, cx, cy, interpolator='NN').toArray();\n",
    "var transformed_lin = transform(eiffel_img, angle, scaling, cx, cy, interpolator='LINEAR').toArray();\n",
    "var transformed_cub = transform(eiffel_img, angle, scaling, cx, cy, interpolator='CUBIC').toArray();"
   ]
  },
  {
   "cell_type": "code",
   "execution_count": null,
   "metadata": {
    "deletable": false,
    "editable": false,
    "kernel": "SoS",
    "nbgrader": {
     "cell_type": "code",
     "checksum": "119a0db1a32e2a9a407580956015e682",
     "grade": false,
     "grade_id": "cell-d42f4994b2da95fa",
     "locked": true,
     "schema_version": 3,
     "solution": false,
     "task": false
    }
   },
   "outputs": [],
   "source": [
    "%use sos\n",
    "# Visualize the results\n",
    "plt.close('all')\n",
    "view = viewer([np.array(transformed_nn), np.array(transformed_lin), np.array(transformed_cub)], \n",
    "              title=['Nearest neighbor', 'Linear', 'Cubic'], subplots=(2,2), joint_zoom=True, widgets=True)"
   ]
  },
  {
   "cell_type": "markdown",
   "metadata": {
    "deletable": false,
    "editable": false,
    "kernel": "SoS",
    "nbgrader": {
     "cell_type": "markdown",
     "checksum": "39a8925e9c3af038595d74ceb515b59c",
     "grade": false,
     "grade_id": "cell-1150870c2691a9bd",
     "locked": true,
     "schema_version": 3,
     "solution": false,
     "task": false
    }
   },
   "source": [
    "<div class=\"alert alert-success\">\n",
    "    \n",
    "<p><b>Congratulations on finishing the first part of the geometric transformation lab!</b></p>\n",
    "<p>\n",
    "Make sure to save your notebook (you might want to keep a copy on your personal computer) and upload it to <a href=\"https://moodle.epfl.ch/mod/assign/view.php?id=1146081\">Moodle</a>, in a zip file with other notebook of this lab.\n",
    "</p>\n",
    "</div>\n",
    "\n",
    "* Keep the name of the notebook as: *1_GT_Implementations.ipynb*,\n",
    "* Name the zip file: *Geometric_Transformation_lab.zip*."
   ]
  }
 ],
 "metadata": {
  "kernelspec": {
   "display_name": "SoS",
   "language": "sos",
   "name": "sos"
  },
  "language_info": {
   "codemirror_mode": "sos",
   "file_extension": ".sos",
   "mimetype": "text/x-sos",
   "name": "sos",
   "nbconvert_exporter": "sos_notebook.converter.SoS_Exporter",
   "pygments_lexer": "sos"
  },
  "sos": {
   "kernels": [
    [
     "JavaScript",
     "javascript",
     "JavaScript",
     "#c8e1ae",
     ""
    ],
    [
     "SoS",
     "sos",
     "",
     "",
     "sos"
    ]
   ],
   "panel": {
    "displayed": true,
    "height": 0
   },
   "version": "0.23.4"
  },
  "toc": {
   "base_numbering": 1,
   "nav_menu": {},
   "number_sections": false,
   "sideBar": true,
   "skip_h1_title": false,
   "title_cell": "Table of Contents",
   "title_sidebar": "Contents",
   "toc_cell": false,
   "toc_position": {},
   "toc_section_display": true,
   "toc_window_display": false
  }
 },
 "nbformat": 4,
 "nbformat_minor": 4
}