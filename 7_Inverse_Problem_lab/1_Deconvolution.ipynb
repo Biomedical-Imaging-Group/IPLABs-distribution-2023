{
 "cells": [
  {
   "cell_type": "markdown",
   "id": "1c14aa93-8a8e-439b-85c4-afa70060c74a",
   "metadata": {
    "execution": {
     "iopub.execute_input": "2024-01-23T14:17:33.745658Z",
     "iopub.status.busy": "2024-01-23T14:17:33.744444Z",
     "iopub.status.idle": "2024-01-23T14:17:33.777425Z",
     "shell.execute_reply": "2024-01-23T14:17:33.775301Z",
     "shell.execute_reply.started": "2024-01-23T14:17:33.745577Z"
    },
    "tags": []
   },
   "source": [
    "<img src=\"https://www.epfl.ch/about/overview/wp-content/uploads/2020/07/logo-epfl-1024x576.png\" style=\"padding-right:10px;width:140px;float:left\"></td>\n",
    "<h2 style=\"white-space: nowrap\">Image Processing Laboratory Notebooks</h2>\n",
    "<hr style=\"clear:both\">\n",
    "<p style=\"font-size:0.85em; margin:2px; text-align:justify\">\n",
    "This Juypter notebook is part of a series of computer laboratories which are designed\n",
    "to teach image-processing programming; they are running on the EPFL's Noto server. They are the practical complement of the theoretical lectures of the EPFL's Master course <b>Image Processing II</b> \n",
    "(<a href=\"https://moodle.epfl.ch/course/view.php?id=463\">MICRO-512</a>) taught by Dr. D. Sage, Prof. M. Unser and Prof. D. Van de Ville.\n",
    "</p>\n",
    "<p style=\"font-size:0.85em; margin:2px; text-align:justify\">\n",
    "The project is funded by the Center for Digital Education and the School of Engineering. It is owned by the <a href=\"http://bigwww.epfl.ch/\">Biomedical Imaging Group</a>. \n",
    "The distribution or the reproduction of the notebook is strictly prohibited without the written consent of the authors.  &copy; EPFL 2024.\n",
    "</p>\n",
    "<p style=\"font-size:0.85em; margin:0px\"><b>Authors</b>: \n",
    "    <a href=\"mailto:sebastien.herbreteau@epfl.ch\">Sébastien Herbreteau</a> and\n",
    "    <a href=\"mailto:daniel.sage@epfl.ch\">Daniel Sage</a>.\n",
    "     \n",
    "</p>\n",
    "<hr style=\"clear:both\">\n",
    "<h1>Lab 7.1: Deconvolution  </h1>\n",
    "<div style=\"background-color:#F0F0F0;padding:4px\">\n",
    "    <p style=\"margin:4px;\"><b>Released</b>: Thursday May 23, 2024</p>\n",
    "    <p style=\"margin:4px;\"><b>Submission</b>: <span style=\"color:red\">Monday June 3, 2024</span> (before 11:59PM) on <a href=\"https://moodle.epfl.ch/course/view.php?id=463\">Moodle</a></p>\n",
    "    <p style=\"margin:4px;\"><b>Total number of points</b>: 21</p>\n",
    "    <p style=\"margin:4px;\"><b>Helps session</b>: 10:15 - 12:00, Thursday May 30, 2024 in CM 2</p>     \n",
    "    <p style=\"margin:4px;\"><b>Related lectures</b>: Chapters 9 and 10</p>\n",
    "</div>"
   ]
  },
  {
   "cell_type": "markdown",
   "id": "6050f734-1859-4804-a0cc-b4b96f187106",
   "metadata": {
    "execution": {
     "iopub.execute_input": "2024-01-23T14:19:35.889088Z",
     "iopub.status.busy": "2024-01-23T14:19:35.888019Z",
     "iopub.status.idle": "2024-01-23T14:19:35.914636Z",
     "shell.execute_reply": "2024-01-23T14:19:35.911941Z",
     "shell.execute_reply.started": "2024-01-23T14:19:35.889006Z"
    },
    "tags": []
   },
   "source": [
    "Double-click on this cell, fill your name and SCIPER number below to verify your identity in Noto and set the seed for random results.\n",
    ":::{attention} Please write down your name and SCIPER! \n",
    "### Student Name: \n",
    "### SCIPER: \n",
    ":::"
   ]
  },
  {
   "cell_type": "code",
   "execution_count": null,
   "id": "f55aed92-1fd0-43d9-ba0a-72deb2ce1a29",
   "metadata": {
    "tags": []
   },
   "outputs": [],
   "source": [
    "import getpass\n",
    "# This line recovers your camipro number to mark the images with your ID\n",
    "uid = int(getpass.getuser().split('-')[2]) if len(getpass.getuser().split('-')) > 2 else ord(getpass.getuser()[0])\n",
    "print(f'SCIPER: {uid}')"
   ]
  },
  {
   "cell_type": "markdown",
   "id": "60903fb6-3830-48d1-9ce4-ce7a46337679",
   "metadata": {},
   "source": [
    "## <a name=\"imports_\"></a> Imports\n",
    "In the next cell we import Python libraries we will use throughout the lab."
   ]
  },
  {
   "cell_type": "code",
   "execution_count": null,
   "id": "40152c33-030c-4d18-9fa4-34773d7dae49",
   "metadata": {
    "tags": []
   },
   "outputs": [],
   "source": [
    "# Import standard required packages for this exercise\n",
    "import matplotlib.pyplot as plt\n",
    "import ipywidgets as widgets\n",
    "import numpy as np\n",
    "import skimage\n",
    "from interactive_kit import imviewer as viewer\n",
    "\n",
    "# Configure plotting as dynamic\n",
    "%matplotlib widget"
   ]
  },
  {
   "cell_type": "markdown",
   "id": "102816e7-f754-4ec5-9b30-88e0119198cd",
   "metadata": {},
   "source": [
    "# Deconvolution (14 points)\n",
    "\n",
    "In this lab, you will study deconvolution algorithms. You will implement by yourself simple deconvolution approaches, and explore more regularization techniques with Pyxu in the second lab.\n",
    "\n",
    "## <a id=\"ToC_1_NN\"></a>Table of contents\n",
    "1. [Inverse filtering](#1.-Inverse-filtering)\n",
    "    1. [Reproducing blur on a test image](#1.A.-Reproducing-blur-on-a-test-image) **(2 points)**\n",
    "    2. [Revealing the identity of the blurred celebrity](#1.B.-Revealing-the-identity-of-the-blurred-celebrity)  **(2 points)**\n",
    "    3. [Robustness to mirror padding](#1.C.-Robustness-to-mirror-padding) **(1 point)**\n",
    "2. [Regularization](#2.-Regularization)\n",
    "    1. [Tikhonov regularization](#2.A.-Tikhonov-regularization) **(5 points)**\n",
    "    2. [Wavelet regularization](#2.B.-Wavelet-regularization) **(4 points)**\n",
    "    3. [TV regularization](#2.C.-TV-regularization) **(optional - 0 point)**"
   ]
  },
  {
   "cell_type": "markdown",
   "id": "7cc16dfb-90f4-4f3a-bda4-18093e8d2107",
   "metadata": {
    "execution": {
     "iopub.execute_input": "2024-01-23T14:59:40.751681Z",
     "iopub.status.busy": "2024-01-23T14:59:40.750727Z",
     "iopub.status.idle": "2024-01-23T14:59:40.767061Z",
     "shell.execute_reply": "2024-01-23T14:59:40.764102Z",
     "shell.execute_reply.started": "2024-01-23T14:59:40.751608Z"
    },
    "tags": []
   },
   "source": [
    "## 1. Inverse filtering\n",
    "[Back to table of contents](#ToC_1_NN)"
   ]
  },
  {
   "cell_type": "markdown",
   "id": "1b563a7d-1184-4a09-ad11-e32d3fe911b8",
   "metadata": {},
   "source": [
    "In order to preserve the identity of a (famous) person in an image $s$, a naive software engineer at a Big Tech company decides to blur the entire image $s$ with a centered Gaussian kernel, denoted $h$. In other words, the corruption model he uses is simply: $$y = h * s\\,,$$\n",
    "where $s$ is the true signal, $h$ is the blurring kernel (with **periodic padding**) and $y$ the corrupted image. The blurred image $y$ is available at `images/blurred.tif`.\n",
    "\n",
    "Before revealing the identity of the person in `blurred.tif` in part [1.B](#1.B.-Revealing-the-identity-of-the-blurred-celebrity), you are going to experiment first with the test image `einstein.tif`."
   ]
  },
  {
   "cell_type": "markdown",
   "id": "5cffae95-b5c7-4992-97cf-4de355d2f34d",
   "metadata": {},
   "source": [
    "### 1.A. Reproducing blur on a test image\n",
    "[Back to table of contents](#ToC_1_NN)"
   ]
  },
  {
   "cell_type": "markdown",
   "id": "8a68c1ad-972c-4685-bfb7-02aa3169a45e",
   "metadata": {},
   "source": [
    "For **1 point**, complete the function `filtering_periodic` that implements the operation $h * s$ with periodic padding **using 2D discrete Fourier transform (DFT)** and test it with the test image of Albert Einstein (`images/einstein.tif`) and the given centered Gaussian kernel $h$ with standard deviation $\\sigma_h=20$. You should use the NumPy functions `np.fft.fft2` and `np.fft.ifft2`.\n",
    "\n",
    "The function `filtering_periodic` takes as inputs\n",
    " * `s`: the input image, \n",
    " * `h`: the centered kernel of size $(2k+1)\\times(2k+1)$,\n",
    " \n",
    "and returns `y`, the filtered image of the same size as `s`.\n",
    "\n",
    "<div class=\"alert alert-info\">\n",
    "<b>Hint:</b> you may want to use the given function <code>kernel_to_image</code> below.\n",
    "</div>\n",
    "    \n",
    "<div class=\"alert alert-danger\">\n",
    "<b>Beware:</b> <code>filtering_periodic</code> must output an image with pixels in $\\mathbb{R}$ (not in $\\mathbb{C}$).\n",
    "</div>"
   ]
  },
  {
   "cell_type": "code",
   "execution_count": null,
   "id": "8c27260e-7b71-4824-930c-258b522f3889",
   "metadata": {
    "tags": []
   },
   "outputs": [],
   "source": [
    "def get_2D_Gaussian_kernel(sigma_h):\n",
    "    \"\"\" Returns a centered Gaussian kernel h of size (2k+1)*(2k+1) \"\"\"\n",
    "    k = int(np.ceil(3*sigma_h))\n",
    "    kernel_h_1D = np.exp(-np.arange(-k, k+1)**2 / (2 * sigma_h**2))\n",
    "    kernel_h_1D /= kernel_h_1D.sum() # normalization so that the sum of the coefficients equals 1\n",
    "    kernel_h_2D = kernel_h_1D.reshape(-1, 1) @ kernel_h_1D.reshape(1, -1)\n",
    "    return kernel_h_2D\n",
    "    \n",
    "def kernel_to_image(h, s):\n",
    "    \"\"\" Converts the kernel h of size (2k+1)x(2k+1) to an image of the same size as s, denoted h_ext, \n",
    "    so that the relation h * s = y <=> DFT(h_ext) .* DFT(s) = DFT(y) holds \"\"\"\n",
    "    h_ext = np.zeros(s.shape)\n",
    "    k = h.shape[0] // 2\n",
    "    h_ext[:(2*k+1), :(2*k+1)] = h\n",
    "    return np.roll(h_ext, (-k, -k), axis=(0, 1))\n",
    "    \n",
    "def filtering_periodic(s, h):\n",
    "    \"\"\" Returns h * s \"\"\"\n",
    "    y = None\n",
    "    # YOUR CODE HERE\n",
    "    return y"
   ]
  },
  {
   "cell_type": "code",
   "execution_count": null,
   "id": "fd469f7c-5a38-47c9-b511-082308045991",
   "metadata": {
    "tags": []
   },
   "outputs": [],
   "source": [
    "# Import Einstein image\n",
    "einstein = skimage.io.imread('images/einstein.tif').astype(np.float64)\n",
    "\n",
    "# Display result\n",
    "sigma_h = 20\n",
    "kernel_h_2D = get_2D_Gaussian_kernel(sigma_h)\n",
    "blurred_einstein = filtering_periodic(einstein, kernel_h_2D)\n",
    "plt.close('all')\n",
    "view = viewer([einstein, blurred_einstein, kernel_h_2D], widgets=True, hist=False, axis=True, cmap='gray')"
   ]
  },
  {
   "cell_type": "markdown",
   "id": "a4b08e4b-f9b2-45d8-ac27-2e048142e11a",
   "metadata": {
    "tags": []
   },
   "source": [
    "Although it may seem that the person has been anonymized, this way of corrupting data is not safe as it is completely reversible as long as the Gaussian kernel $h$ is known. For **1 point**, implement the function `inverse_filtering_periodic` **using 2D discrete Fourier transform (DFT)** that recovers the true signal $s$ from its corrupted version $y$.\n",
    "\n",
    "\n",
    "The function `inverse_filtering_periodic` takes as inputs\n",
    " * `y`: the input corrupted image, \n",
    " * `h`: the centered kernel of size $(2k+1)\\times(2k+1)$,\n",
    " \n",
    "and returns `s`, the original image of the same size as `y`."
   ]
  },
  {
   "cell_type": "code",
   "execution_count": null,
   "id": "ed3d3052-27ad-4cf1-beb9-c7ba1188d5a7",
   "metadata": {
    "tags": []
   },
   "outputs": [],
   "source": [
    "def inverse_filtering_periodic(y, h):\n",
    "    \"\"\" Returns s such that y = h * s \"\"\"\n",
    "    s = None\n",
    "    # YOUR CODE HERE\n",
    "    return s\n",
    "\n",
    "deblurred_einstein = inverse_filtering_periodic(blurred_einstein, kernel_h_2D)\n",
    "absolute_error = np.abs(deblurred_einstein - einstein) # due to numerical errors\n",
    "plt.close('all')\n",
    "view = viewer([deblurred_einstein, absolute_error], widgets=True, hist=False, axis=True, cmap='gray')"
   ]
  },
  {
   "cell_type": "code",
   "execution_count": null,
   "id": "798409a2-cd97-45be-aa9a-0616d5a1e2a3",
   "metadata": {
    "tags": []
   },
   "outputs": [],
   "source": [
    "# Perform sanity check on a random image\n",
    "s_random = np.random.rand(40, 40)\n",
    "h_random = np.random.rand(5, 5)\n",
    "if np.allclose(inverse_filtering_periodic(filtering_periodic(s_random, h_random), h_random), s_random) \\\n",
    "    and np.max(np.abs(np.imag(filtering_periodic(s_random, h_random)))) == 0 \\\n",
    "    and np.max(np.abs(np.imag(inverse_filtering_periodic(s_random, h_random)))) == 0:\n",
    "    print('Congratulations! Your code seems to be working.') \n",
    "else:\n",
    "    print('WARNING!\\nYour code is not correct!') "
   ]
  },
  {
   "cell_type": "markdown",
   "id": "2a38d907-0b95-4ce7-b4e5-3529bae23469",
   "metadata": {
    "execution": {
     "iopub.execute_input": "2024-01-26T13:41:08.279841Z",
     "iopub.status.busy": "2024-01-26T13:41:08.279367Z",
     "iopub.status.idle": "2024-01-26T13:41:08.287120Z",
     "shell.execute_reply": "2024-01-26T13:41:08.285755Z",
     "shell.execute_reply.started": "2024-01-26T13:41:08.279809Z"
    },
    "tags": []
   },
   "source": [
    "### 1.B. Revealing the identity of the blurred celebrity\n",
    "[Back to table of contents](#ToC_1_NN)"
   ]
  },
  {
   "cell_type": "markdown",
   "id": "df93c10b-2bda-4eaa-9160-957f82777268",
   "metadata": {},
   "source": [
    "For **2 points**, using the function `inverse_filtering_periodic`, reveal the identity of the blurred person at `images/blurred.tif`, given that the standard deviation $\\sigma_h$ of the Gaussian kernel used for corruption is **an integer**. \n",
    "\n",
    "<div class=\"alert alert-info\">\n",
    "<b>Hint:</b> supply a list of potential $\\sigma_h$ (stored in <code>list_sigmas</code>), run the deconvolution for each $\\sigma_h$ and store the images in <code>list_deblurred_images</code>.\n",
    "</div>"
   ]
  },
  {
   "cell_type": "code",
   "execution_count": null,
   "id": "df4887eb-009e-45d2-a934-64255cb4a032",
   "metadata": {
    "tags": []
   },
   "outputs": [],
   "source": [
    "blurred_person = skimage.io.imread('images/blurred.tif').astype(np.float64)\n",
    "\n",
    "list_sigmas = [0]\n",
    "list_deblurred_images = [blurred_person]\n",
    "\n",
    "# YOUR CODE HERE\n",
    "\n",
    "plt.close('all')\n",
    "view = viewer(list_deblurred_images, title=[str(elt) for elt in list_sigmas], widgets=True, hist=False, axis=True, cmap='gray')"
   ]
  },
  {
   "cell_type": "markdown",
   "id": "13d5f23d-c679-4b84-971e-34ba796cfac4",
   "metadata": {
    "execution": {
     "iopub.execute_input": "2024-01-26T14:04:58.810489Z",
     "iopub.status.busy": "2024-01-26T14:04:58.810248Z",
     "iopub.status.idle": "2024-01-26T14:04:58.820921Z",
     "shell.execute_reply": "2024-01-26T14:04:58.820024Z",
     "shell.execute_reply.started": "2024-01-26T14:04:58.810465Z"
    },
    "tags": []
   },
   "source": [
    "In the next cell, assign to the variable `sigma_blur` the standard deviation used for blurring the hidden person."
   ]
  },
  {
   "cell_type": "code",
   "execution_count": null,
   "id": "840157e5-b74a-4bb7-a8d5-69486f15ff1e",
   "metadata": {
    "tags": []
   },
   "outputs": [],
   "source": [
    "# Standard deviation used for blurring the hidden celebrity\n",
    "sigma_blur = None\n",
    "# YOUR CODE HERE"
   ]
  },
  {
   "cell_type": "code",
   "execution_count": null,
   "id": "474d0fcc-b801-4523-a6da-7d7170872344",
   "metadata": {
    "tags": []
   },
   "outputs": [],
   "source": [
    "# Perform sanity check on sigma_blur\n",
    "if not (0 < sigma_blur < 50 or np.round(sigma_blur) != sigma_blur): \n",
    "    print('WARNING!\\nThe selected standard deviation is not really reasonable.')"
   ]
  },
  {
   "cell_type": "markdown",
   "id": "3a979435-b549-41f3-b647-affd7bb70632",
   "metadata": {},
   "source": [
    "### 1.C. Robustness to mirror padding\n",
    "[Back to table of contents](#ToC_1_NN)"
   ]
  },
  {
   "cell_type": "markdown",
   "id": "e19c3a90-99c6-4fe9-8f6e-b9526b6b29ff",
   "metadata": {},
   "source": [
    "For **1 point**, **using the function** `filtering_periodic`, implement the function `filtering_mirror` that filters the input image with a mirror padding (a.k.a. reflect padding) and observe that the function `inverse_filtering_periodic` defined above does not work for deblurring with this specific padding. \n",
    "\n",
    "The function `filtering_mirror` takes as inputs\n",
    " * `s`: the input image, \n",
    " * `h`: the centered kernel of size $(2k+1)\\times(2k+1)$,\n",
    " \n",
    "and returns `y`, the filtered image with mirror padding of the same size as `s`.\n",
    "\n",
    "$\\Rightarrow$ Inverse filtering is not robust to a slight change in the padding mode!\n",
    "\n",
    "\n",
    "<div class=\"alert alert-info\">\n",
    "<b>Hint:</b> You may want to use the function <code>np.pad</code> with reflect mode.\n",
    "</div>"
   ]
  },
  {
   "cell_type": "code",
   "execution_count": null,
   "id": "d12564d5-1c83-4cb5-8f10-42ada31aa89c",
   "metadata": {
    "tags": []
   },
   "outputs": [],
   "source": [
    "def filtering_mirror(s, h):\n",
    "    \"\"\" Returns h * s with mirror padding \"\"\" \n",
    "    y = None\n",
    "    # YOUR CODE HERE\n",
    "    return y"
   ]
  },
  {
   "cell_type": "code",
   "execution_count": null,
   "id": "a4da7ec5-31ed-44f7-ba5d-8b91a0ae0eae",
   "metadata": {
    "tags": []
   },
   "outputs": [],
   "source": [
    "blurred_einstein_mirror = filtering_mirror(einstein, kernel_h_2D)\n",
    "deblurred_einstein_mirror = inverse_filtering_periodic(blurred_einstein_mirror, kernel_h_2D)\n",
    "plt.close('all')\n",
    "view = viewer([deblurred_einstein_mirror, blurred_einstein_mirror], widgets=True, hist=False, axis=True, cmap='gray')"
   ]
  },
  {
   "cell_type": "markdown",
   "id": "52dea979-caff-4351-8f8e-c2372d4aa7e3",
   "metadata": {},
   "source": [
    "## 2. Regularization\n",
    "[Back to table of contents](#ToC_1_NN)"
   ]
  },
  {
   "cell_type": "markdown",
   "id": "f4c71605-b3f5-4cac-9c8b-4aebf309a48c",
   "metadata": {},
   "source": [
    "In order to make it more difficult for potential attackers, the engineer decides to add white Gaussian noise $n \\sim \\mathcal{N}(0, \\sigma_n^2 I)$ to the corruption model (still periodic padding):\n",
    "$$y = h * s + n\\,,$$\n",
    "with $\\sigma_n = 1$ (almost imperceptible noise). \n",
    "\n",
    "Observe that the function `inverse_filtering_periodic` defined above is not enough to recover the true signal $s$.\n",
    "\n",
    "$\\Rightarrow$ Inverse filtering is not robust to the addition of a weak noise!"
   ]
  },
  {
   "cell_type": "code",
   "execution_count": null,
   "id": "dce79d2c-1b07-4361-832b-44a83f1b7fe5",
   "metadata": {
    "tags": []
   },
   "outputs": [],
   "source": [
    "np.random.seed(1234) # for reproductibility, do not modify\n",
    "blurred_einstein = filtering_periodic(einstein, kernel_h_2D) \n",
    "blurred_and_weakly_noisy_einstein = blurred_einstein + 1.0 * np.random.randn(*einstein.shape)\n",
    "recovered_einstein = inverse_filtering_periodic(blurred_and_weakly_noisy_einstein, kernel_h_2D)\n",
    "plt.close('all')\n",
    "view = viewer([blurred_einstein, blurred_and_weakly_noisy_einstein, recovered_einstein], widgets=True, hist=False, axis=True, cmap='gray')"
   ]
  },
  {
   "cell_type": "markdown",
   "id": "435eb914-0492-4463-8d81-b9054c88776d",
   "metadata": {},
   "source": [
    "To tackle this problem, the least-squares method consists in solving:\n",
    "$$s^\\ast = \\arg \\min_s J_{\\text{LS}}(s, y)\\,,$$\n",
    "where $J_{\\text{LS}}(s, y) = \\|h * s - y\\|_2^2$. Note that, in this case, the least-squares solution coincides with the maximum-likelihood (ML) estimation solution. However, from a global perspective, ML deconvolution is ill-posed. It is better to constrain the solution by imposing explicit regularization constraints:\n",
    "$$s^\\ast_\\lambda = \\arg \\min_s J_{\\text{LS}}(s,y) + \\lambda J_\\text{reg}(s)\\,,$$\n",
    "where $\\lambda \\geq 0$ is an hyperparameter."
   ]
  },
  {
   "cell_type": "markdown",
   "id": "8ef73508-ac6b-4167-a744-db5920bbb75f",
   "metadata": {},
   "source": [
    "### 2.A. Tikhonov regularization\n",
    "[Back to table of contents](#ToC_1_NN)"
   ]
  },
  {
   "cell_type": "markdown",
   "id": "e9ccbf56-d8ca-45df-ab13-dd5ffa01faf3",
   "metadata": {
    "execution": {
     "iopub.execute_input": "2024-01-26T15:55:54.278044Z",
     "iopub.status.busy": "2024-01-26T15:55:54.275379Z",
     "iopub.status.idle": "2024-01-26T15:55:54.395696Z",
     "shell.execute_reply": "2024-01-26T15:55:54.391828Z",
     "shell.execute_reply.started": "2024-01-26T15:55:54.277909Z"
    },
    "tags": []
   },
   "source": [
    "In one of its simplest form, Tikhonov regularization is obtained with $J_\\text{reg}(s) = \\|Ls\\|_2^2$ where $L$ is the Laplacian operator that penalizes oscillations.  For **2 points**, complete the function `solve_tikhonov` that computes the **formal solution** $s^\\ast_\\lambda$ using **discrete Fourier transform (DFT)**.\n",
    "\n",
    "\n",
    "The function `solve_tikhonov` takes as inputs\n",
    " * `y`: the input corrupted image, \n",
    " * `h`: the centered kernel of size $(2k+1)\\times(2k+1)$,\n",
    " * `lam` (scalar): the hyperparameter $\\lambda \\geq 0$, \n",
    " \n",
    "and returns `solution`, the formal solution $s^\\ast_\\lambda$.\n",
    "\n",
    "\n",
    "<div class=\"alert alert-info\">\n",
    "<b>Hints:</b>\n",
    "    \n",
    "1. The gradient of $J_{\\text{LS}}(s,y) + \\lambda J_\\text{reg}(s)$ with regard to $s$ is equal to $2( (H^\\top H + \\lambda L^\\top L) s -  H^\\top y)$ where $H$ is the matrix formulation of convolution with kernel $h$ (in the discretized forward model). **Set it to zero to get the linear system for which $s^\\ast_\\lambda$ is solution**, then go to Fourier.\n",
    "    \n",
    "2. For the sake of simplicity, we use the $3 \\times 3$ Laplacian operator, defined as $Ls = l * s$ with $$l = \\begin{pmatrix} 0 & 1 & 0 \\\\\n",
    "1 & -4 & 1 \\\\\n",
    "0 & 1 & 0 \\\\\n",
    "\\end{pmatrix}\\,.$$\n",
    "    \n",
    "3. Since all convolutions have symmetric kernels, $H^\\top = H$ and $L^\\top = L$.\n",
    "</div>"
   ]
  },
  {
   "cell_type": "code",
   "execution_count": null,
   "id": "3b0bfba9-a317-4a85-98eb-e2fd6063282c",
   "metadata": {
    "tags": []
   },
   "outputs": [],
   "source": [
    "def solve_tikhonov(y, h, lam):\n",
    "    \"\"\" Returns the formal solution s_\\lambda^\\ast \"\"\"\n",
    "    solution = None\n",
    "    # YOUR CODE HERE\n",
    "    return solution"
   ]
  },
  {
   "cell_type": "code",
   "execution_count": null,
   "id": "d870a429",
   "metadata": {},
   "outputs": [],
   "source": [
    "# Perform sanity check for solve_tikhonov\n",
    "np.random.seed(5678) # for reproductibility, do not modify\n",
    "y_sanity_check = np.random.rand(16, 16)\n",
    "h_sanity_check = np.array([[0.05, 0.1, 0.05], [0.1, 0.4, 0.1], [0.05, 0.1, 0.05]])\n",
    "lam_sanity_check = 1e-1\n",
    "solution_sanity_check = np.array([[0.43401456, 0.37066355, 0.47667136, 0.5514082 ],\n",
    "       [0.56186321, 0.42420904, 0.5007256 , 0.49477319],\n",
    "       [0.62218151, 0.43939143, 0.53553075, 0.53750101],\n",
    "       [0.58575311, 0.47531916, 0.54754149, 0.59132934]])\n",
    "if np.allclose(solution_sanity_check, solve_tikhonov(y_sanity_check, h_sanity_check, lam_sanity_check)[:4, :4]):\n",
    "    print('Congratulations! Your function \"solve_tikhonov\" seems to be working.') \n",
    "else:\n",
    "    print('WARNING!\\nYour function \"solve_tikhonov\" is not correct!')"
   ]
  },
  {
   "cell_type": "markdown",
   "id": "cf142fe1-d739-43ba-872f-87058844b267",
   "metadata": {},
   "source": [
    "Observe the effet of the regularization hyperparameter $\\lambda$ for deblurring Einstein image $y$.\n",
    "\n",
    "<div class = 'alert alert-success'> <b>Reminder:</b> <code>Extra Widgets</code> needs to be clicked to see the effect of deconvolution with <code>IntSlider</code>.\n",
    "</div>"
   ]
  },
  {
   "cell_type": "code",
   "execution_count": null,
   "id": "9e5bb00f-f31a-4ebc-847a-68140920123a",
   "metadata": {
    "tags": []
   },
   "outputs": [],
   "source": [
    "# Declare slider\n",
    "reg_slider = widgets.IntSlider(value=-8, min=-8, max=8, step=1, description='lam = 10^x')\n",
    "activation_button = widgets.Button(description='Regularize')\n",
    "\n",
    "# Declare callback\n",
    "def callback(img):\n",
    "    reg = reg_slider.value\n",
    "    output = solve_tikhonov(img, kernel_h_2D, 10**reg)\n",
    "    return output\n",
    "\n",
    "plt.close('all')\n",
    "view = viewer(blurred_and_weakly_noisy_einstein, new_widgets=[reg_slider, activation_button], callbacks=[callback], widgets=True)"
   ]
  },
  {
   "cell_type": "markdown",
   "id": "cff75f29-4d70-40d9-a9d5-28c46bb8f81d",
   "metadata": {},
   "source": [
    "The **signal to noise ratio** (SNR), expressed in decibels (dB), is defined between a ground truth image $s$ and its recovered version $\\hat{s}$ as follows:\n",
    "    $$\\operatorname{SNR}(s,\\hat{s}) = 10 \\log_{10} \\left(\\frac{\\sum_{i} s_i^2}{\\sum_{i} (s_i - \\hat{s}_i)^2}\\right)\\,.$$\n",
    "Complete the function `SNR` below that implements it. The function `SNR` takes as inputs\n",
    "\n",
    " * `s`: the ground truth image, \n",
    " * `s_hat`: the estimated image, \n",
    " \n",
    "and returns `snr` (float), the signal to noise ratio."
   ]
  },
  {
   "cell_type": "code",
   "execution_count": null,
   "id": "3466250b-138f-42d8-9e69-865d13973f27",
   "metadata": {
    "tags": []
   },
   "outputs": [],
   "source": [
    "def SNR(s, s_hat):\n",
    "    snr = None\n",
    "    # YOUR CODE HERE\n",
    "    return snr"
   ]
  },
  {
   "cell_type": "code",
   "execution_count": null,
   "id": "60ee2a97-234b-43c2-aefe-2c1334cf1a6a",
   "metadata": {
    "tags": []
   },
   "outputs": [],
   "source": [
    "# Sanity check for the function SNR\n",
    "s1 = np.linspace(0.8, 1, 10).reshape(-1, 1) @ np.linspace(0.9, 1, 10).reshape(1, -1)\n",
    "s2 = np.linspace(0.85, 1, 10).reshape(-1, 1) @ np.linspace(0.99, 1, 10).reshape(1, -1)\n",
    "if np.allclose(SNR(s1, s2), 21.58120) and np.allclose(SNR(s2, s1), 22.20615):\n",
    "    print('Congratulations! Your function \"SNR\" seems to be working.') \n",
    "else:\n",
    "    print('WARNING!\\nYour function \"SNR\" is not correct!')"
   ]
  },
  {
   "cell_type": "markdown",
   "id": "fbaf965a-ef95-4cb4-9eca-15459e70bd0f",
   "metadata": {},
   "source": [
    "For **1 point** answer the following MCQ:\n",
    "\n",
    "* Among the following values of $\\lambda$, which one maximizes the SNR between $s$ and $s^\\ast_\\lambda$ ?\n",
    "1. $\\lambda = 10^{-6}$\n",
    "2. $\\lambda = 10^{-4}$\n",
    "3. $\\lambda = 10^{-2}$\n",
    "4. $\\lambda = 10^{0}$\n",
    "5. $\\lambda = 10^{2}$\n",
    "6. $\\lambda = 10^{4}$\n",
    "7. $\\lambda = 10^{6}$\n",
    "\n",
    "Use the next cell to experiment or confirm your hypothesis and then modify the variable `answer` in the cell right after it to reflect your choices. "
   ]
  },
  {
   "cell_type": "code",
   "execution_count": null,
   "id": "cd1b2427-f68e-4d85-935c-8492195c98d3",
   "metadata": {
    "tags": []
   },
   "outputs": [],
   "source": [
    "# YOUR CODE HERE"
   ]
  },
  {
   "cell_type": "code",
   "execution_count": null,
   "id": "8b09cf89-095d-4e12-b4e6-c53c4ff6cf32",
   "metadata": {
    "tags": []
   },
   "outputs": [],
   "source": [
    "# Assign your answer to this variable\n",
    "answer = None\n",
    "# YOUR CODE HERE"
   ]
  },
  {
   "cell_type": "code",
   "execution_count": null,
   "id": "1753e7d9-bfa4-455e-990a-9d602630c3c9",
   "metadata": {
    "tags": []
   },
   "outputs": [],
   "source": [
    "if not answer in list(range(1, 8)): \n",
    "    print('WARNING!\\nPossible answers are integers between 1 and 7.')"
   ]
  },
  {
   "cell_type": "markdown",
   "id": "25f059c3-cafa-4a01-a12a-86f4d3f4937c",
   "metadata": {},
   "source": [
    "#### Behavior at the limits"
   ]
  },
  {
   "cell_type": "markdown",
   "id": "d4b0760b-5b91-4fde-a431-5bb90523660f",
   "metadata": {},
   "source": [
    "**For 1 point**, answer the following MCQ:\n",
    "* What is the SNR of the least-squares solution, i.e. when $\\lambda=0$ (rounded to the nearest integer) ? (**1 point**)\n",
    "1. $-514$ dB\n",
    "2. $-414$ dB\n",
    "3. $-314$ dB\n",
    "4. $-214$ dB\n",
    "5. $-114$ dB\n",
    "6. $0$ dB\n",
    "7. $14$ dB\n",
    "\n",
    "Modify the variable `answer` in the next cell to reflect your choices. "
   ]
  },
  {
   "cell_type": "code",
   "execution_count": null,
   "id": "f01cccb3-d371-4d6d-a1cc-e86a1101a5c6",
   "metadata": {
    "tags": []
   },
   "outputs": [],
   "source": [
    "# Assign your answer to this variable\n",
    "answer = None\n",
    "# YOUR CODE HERE"
   ]
  },
  {
   "cell_type": "code",
   "execution_count": null,
   "id": "568ff1bc-c89e-4638-8cf4-31e2809849ab",
   "metadata": {
    "tags": []
   },
   "outputs": [],
   "source": [
    "if not answer in list(range(1, 8)): \n",
    "    print('WARNING!\\nPossible answers are integers between 1 and 7.')"
   ]
  },
  {
   "cell_type": "markdown",
   "id": "85d3438d-06f4-4cec-babc-5eee6462ba7c",
   "metadata": {},
   "source": [
    "**For 1 point** answer the following MCQ:\n",
    "* What is $s_\\lambda^\\ast$ when $\\lambda$ tends to infinity ? \n",
    "\n",
    "**Note:** $\\mathbf{0}$ and $\\mathbf{1}$ denote the all-zeros vector and the all-ones vector of the same size as $y$, respectively.\n",
    "\n",
    "1. $y$\n",
    "2. $\\mathbf{0}$\n",
    "3. $\\mathbf{1}$\n",
    "4. $Hy$\n",
    "5. $H \\mathbf{1}$\n",
    "6. $\\operatorname{mean}(y) \\mathbf{1}$\n",
    "7. $\\operatorname{median}(y) \\mathbf{1}$\n",
    "\n",
    "Modify the variable `answer` in the next cell to reflect your choices. "
   ]
  },
  {
   "cell_type": "code",
   "execution_count": null,
   "id": "ee64e3ca-7d83-4e31-968d-03a2710fcc28",
   "metadata": {
    "tags": []
   },
   "outputs": [],
   "source": [
    "# Assign your answer to this variable\n",
    "answer = None\n",
    "# YOUR CODE HERE"
   ]
  },
  {
   "cell_type": "code",
   "execution_count": null,
   "id": "71fe1769-529a-4354-9704-6061e0e662f3",
   "metadata": {
    "tags": []
   },
   "outputs": [],
   "source": [
    "if not answer in list(range(1, 8)): \n",
    "    print('WARNING!\\nPossible answers are integers between 1 and 7.')"
   ]
  },
  {
   "cell_type": "markdown",
   "id": "5eaa72fb-a812-4d26-907b-542fa9c23229",
   "metadata": {},
   "source": [
    "### 2.B. Wavelet regularization\n",
    "[Back to table of contents](#ToC_1_NN)"
   ]
  },
  {
   "cell_type": "markdown",
   "id": "febaecfd-26f5-49ec-b67f-3ef0d056d6ed",
   "metadata": {},
   "source": [
    "Wavelet regularization is obtained by setting $J_\\text{reg}(s) = \\|W s\\|_1$ where $W$ is a suitable wavelet transform (favors \"sparse\" solutions). For the sake of simplicity, we propose to use Haar wavelets, for which the transform and the inverse transform are given below (scale=3 by default, do not modify it)."
   ]
  },
  {
   "cell_type": "code",
   "execution_count": null,
   "id": "cb9dc2d8-8c57-440a-b81b-a71c6b1ebbaa",
   "metadata": {
    "tags": []
   },
   "outputs": [],
   "source": [
    "def transform_wavelet_haar(img, scale=3):\n",
    "    if scale==0:\n",
    "        return img\n",
    "    h, w = img.shape\n",
    "    img_transform = np.zeros_like(img)\n",
    "    a, b, c, d = img[::2, ::2], img[1::2, ::2], img[::2, 1::2], img[1::2, 1::2]\n",
    "    img_transform[:h//2, :w//2] = transform_wavelet_haar((a + b + c + d) / 2, scale=scale-1)\n",
    "    img_transform[:h//2, w//2:] = (a + b - c - d) / 2\n",
    "    img_transform[h//2:, :w//2] = (a - b + c - d) / 2\n",
    "    img_transform[h//2:, w//2:] = (a - b - c + d) / 2\n",
    "    return img_transform"
   ]
  },
  {
   "cell_type": "code",
   "execution_count": null,
   "id": "11f1d40e-fa1b-495a-8d61-ea093f47584b",
   "metadata": {
    "tags": []
   },
   "outputs": [],
   "source": [
    "def inverse_transform_wavelet_haar(img, scale=3):\n",
    "    if scale==0:\n",
    "        return img\n",
    "    h, w = img.shape\n",
    "    img_transform = np.zeros_like(img)\n",
    "    a, b, c, d = inverse_transform_wavelet_haar(img[:h//2, :w//2], scale=scale-1), img[:h//2, w//2:], img[h//2:, :w//2], img[h//2:, w//2:]\n",
    "    img_transform[::2, ::2] =  (a + b + c + d) / 2\n",
    "    img_transform[1::2, ::2] = (a + b - c - d) / 2\n",
    "    img_transform[::2, 1::2] = (a - b + c - d) / 2\n",
    "    img_transform[1::2, 1::2] = (a - b - c + d) / 2\n",
    "    return img_transform"
   ]
  },
  {
   "cell_type": "code",
   "execution_count": null,
   "id": "3d411ded-1924-4423-960e-1764e70dc344",
   "metadata": {
    "tags": []
   },
   "outputs": [],
   "source": [
    "# Display of those functions\n",
    "w_transform = transform_wavelet_haar(einstein)\n",
    "inv_w_transform = inverse_transform_wavelet_haar(w_transform)\n",
    "plt.close('all')\n",
    "view = viewer([w_transform, inv_w_transform], widgets=True, hist=False, axis=True, cmap='gray')"
   ]
  },
  {
   "cell_type": "markdown",
   "id": "ab7ee23d",
   "metadata": {},
   "source": [
    "**Optimization with Iterative Soft-Thresholding Algorithm (ISTA)**: \n",
    "\n",
    "**ISTA** (Figueiredo-Nowak, 2003) is a special case of the **Proximal Gradient Descent** algorithm (a.k.a. Forward-backward splitting algorithm, Combettes-Wajs, 2005) which is summarized here, for the sake of completeness. General optimization problem:\n",
    "\n",
    "$$s^\\ast = \\arg \\min_s f(s) + g(s)$$\n",
    "with $f$ convex and differentiable with $L$-Lipschitz continuous gradient and $g$ convex, not necessarily differentiable.\n",
    "\n",
    "The solution by **Proximal Gradient Descent** is given by repeating:\n",
    "$$\n",
    "\\left\\{\n",
    "    \\begin{array}{ll}\n",
    "        z^{(n)} &= s^{(n-1)} - \\gamma \\nabla f (s^{(n-1)}) \\quad \\text{(gradient step)} \\\\\n",
    "        s^{(n)} &= \\operatorname{prox}_{\\gamma g}(z^{(n)}) \\quad \\quad \\quad \\quad \\text{(proximal step)}\n",
    "    \\end{array}\n",
    "\\right.\n",
    "$$\n",
    "with fixed step size $\\gamma \\leq 1/L$ and where the proximal operator is defined as:\n",
    "$$\\operatorname{prox}_{g}(z) = \\arg \\min_s \\frac{1}{2} \\| z - s\\|_2^2 + g(s)\\,.$$\n",
    "\n",
    "<div class = 'alert alert-success'>\n",
    "<b> Reminder: </b>In the case of <b>wavelet regularization</b>, we have for <b>ISTA</b>:\n",
    "<div class = 'alert alert-info'> \n",
    "    \n",
    "* $f(s) = \\frac{1}{2}J_{\\text{LS}}(s, y) \\quad \\Rightarrow  \\quad \\nabla f(s) =  H^T (H s - y)$,\n",
    "* $g(s) = \\lambda \\|W s\\|_1  \\quad \\Rightarrow  \\quad \\operatorname{prox}_{\\gamma g}(z) = W^\\top \\operatorname{soft\\_threshold}(W z, \\gamma \\lambda)$. \n",
    "</div> \n",
    "</div>"
   ]
  },
  {
   "cell_type": "markdown",
   "id": "c8e295b7-344b-47cc-9a58-bfaf7abe51b6",
   "metadata": {
    "execution": {
     "iopub.execute_input": "2024-01-31T15:40:41.560429Z",
     "iopub.status.busy": "2024-01-31T15:40:41.559638Z",
     "iopub.status.idle": "2024-01-31T15:40:41.591694Z",
     "shell.execute_reply": "2024-01-31T15:40:41.588850Z",
     "shell.execute_reply.started": "2024-01-31T15:40:41.560363Z"
    },
    "tags": []
   },
   "source": [
    "For **2 points**, complete the function `solve_wavelet` using the **Iterative Soft-Thresholding Algorithm (ISTA)**  to solve:\n",
    "    $$s^\\ast_\\lambda = \\arg \\min_s J_{\\text{LS}}(s,y) + 2 \\lambda J_\\text{reg}(s) = \\arg \\min_s \\frac{1}{2} \\|h * s - y\\|_2^2 + \\lambda  \\|W s\\|_1\\,,$$\n",
    "where $\\lambda \\geq 0$ is an hyperparameter.\n",
    "\n",
    "The function `solve_wavelet` takes as inputs\n",
    " * `y`: the input corrupted image, \n",
    " * `h`: the centered kernel of size $(2k+1)\\times(2k+1)$,\n",
    " * `lam` (scalar): the hyperparameter $\\lambda \\geq 0$, \n",
    " * `nb_iterations` (int): fixed to 50 (do not modify), \n",
    " \n",
    "and returns `solution`, the formal solution $s^\\ast_\\lambda$.\n",
    "\n",
    "<div class=\"alert alert-danger\">\n",
    "    <b>Note:</b> The number of iterations is arbirarily set to $50$, even if the algorithm has not fully converged (do not modify it).\n",
    "</div>\n",
    "\n",
    "<div class=\"alert alert-info\">\n",
    "<b>Hint:</b> you will need to implement the soft thresholding function first:\n",
    "$$\\operatorname{soft\\_threshold}(x, \\tau) = \\left\\{\n",
    "    \\begin{array}{ll}\n",
    "        x - \\tau, & \\text{ if } x > \\tau \\\\\n",
    "        x + \\tau, & \\text{ if } x < -\\tau \\\\\n",
    "        0, & \\text{ otherwise }\n",
    "    \\end{array}\n",
    "\\right.$$\n",
    "</div>"
   ]
  },
  {
   "cell_type": "markdown",
   "id": "ba1af7d7",
   "metadata": {},
   "source": [
    "The function `soft_threshold` takes as inputs\n",
    " * `x`: a numpy array, \n",
    " * `tau` (float): a threshold $\\tau$, \n",
    " \n",
    "and returns the numpy array `x_thresholded`, where every elements of `x` have been soft-thresholded with threshold `tau`."
   ]
  },
  {
   "cell_type": "code",
   "execution_count": null,
   "id": "539bf36e-4e89-4da6-a8b8-c86221bfac9e",
   "metadata": {
    "tags": []
   },
   "outputs": [],
   "source": [
    "def soft_threshold(x, tau):\n",
    "    x_thresholded = None\n",
    "    # YOUR CODE HERE\n",
    "    return x_thresholded"
   ]
  },
  {
   "cell_type": "code",
   "execution_count": null,
   "id": "43d3930e-8fd6-4a5a-bbb7-1635102c57d9",
   "metadata": {
    "tags": []
   },
   "outputs": [],
   "source": [
    "# Perform sanity check for soft_threshold\n",
    "x_sanity_check = np.linspace(-2, 2, 11)\n",
    "y_sanity_check = np.array([-1.,-0.6,-0.2,0.,0.,0.,0.,0.,0.2,0.6,1.])\n",
    "if np.allclose(soft_threshold(x_sanity_check, 1.0), y_sanity_check):\n",
    "    print('Congratulations! Your function \"soft_threshold\" seems to be working.') \n",
    "else:\n",
    "    print('WARNING!\\nYour function \"soft_threshold\" is not correct!')"
   ]
  },
  {
   "cell_type": "code",
   "execution_count": null,
   "id": "43fde1db-2ff7-41ad-9050-5b254b208f79",
   "metadata": {
    "tags": []
   },
   "outputs": [],
   "source": [
    "def solve_wavelet(y, h, lam, nb_iterations=50):\n",
    "    s = y # initialization\n",
    "    L = 1.0 # Lipschitz constant of data term\n",
    "    gamma = 1/L\n",
    "    for _ in range(nb_iterations):\n",
    "        # YOUR CODE HERE\n",
    "    solution = s\n",
    "    return solution"
   ]
  },
  {
   "cell_type": "code",
   "execution_count": null,
   "id": "4ef25a7f",
   "metadata": {},
   "outputs": [],
   "source": [
    "# Perform sanity check for solve_wavelet\n",
    "np.random.seed(5678) # for reproductibility, do not modify\n",
    "y_sanity_check = np.random.rand(16, 16)\n",
    "h_sanity_check = np.array([[0.05, 0.1, 0.05], [0.1, 0.4, 0.1], [0.05, 0.1, 0.05]])\n",
    "lam_sanity_check = 1e-1\n",
    "solution_sanity_check = np.array([[0.46400174, 0.3931575, 0.43877703, 0.4990272],\n",
    "       [0.54464673, 0.4738025, 0.4990272, 0.43877703],\n",
    "       [0.87161648, 0.11777555, 0.49469602, 0.49469602],\n",
    "       [0.87161648, 0.11777555, 0.49469602, 0.49469602]])\n",
    "if np.allclose(solution_sanity_check, solve_wavelet(y_sanity_check, h_sanity_check, lam_sanity_check)[:4, :4]):\n",
    "    print('Congratulations! Your function \"solve_wavelet\" seems to be working.') \n",
    "else:\n",
    "    print('WARNING!\\nYour function \"solve_wavelet\" is not correct!')"
   ]
  },
  {
   "cell_type": "markdown",
   "id": "bd340b66-69ff-4180-8760-84792e46a365",
   "metadata": {
    "execution": {
     "iopub.execute_input": "2024-01-31T15:13:03.689458Z",
     "iopub.status.busy": "2024-01-31T15:13:03.688594Z",
     "iopub.status.idle": "2024-01-31T15:13:03.703935Z",
     "shell.execute_reply": "2024-01-31T15:13:03.701680Z",
     "shell.execute_reply.started": "2024-01-31T15:13:03.689388Z"
    },
    "tags": []
   },
   "source": [
    "Observe the effet of the regularization hyperparameter $\\lambda$ for deblurring Einstein image $y$.\n",
    "\n",
    "<div class=\"alert alert-danger\">\n",
    "<b>Beware:</b> <code>solve_wavelet</code> takes about 5 seconds for 50 iterations.\n",
    "</div>"
   ]
  },
  {
   "cell_type": "code",
   "execution_count": null,
   "id": "3b80efdb-9369-4af7-85f7-868d51fda777",
   "metadata": {
    "tags": []
   },
   "outputs": [],
   "source": [
    "# Declare slider\n",
    "reg_slider = widgets.IntSlider(value=-3, min=-3, max=8, step=1, description='lam = 10^x')\n",
    "activation_button = widgets.Button(description='Regularize (wait 5s)')\n",
    "\n",
    "# Declare callback\n",
    "def callback(img):\n",
    "    reg = reg_slider.value\n",
    "    output = solve_wavelet(img, kernel_h_2D, 10**reg)\n",
    "    return output\n",
    "\n",
    "plt.close('all')\n",
    "view = viewer(blurred_and_weakly_noisy_einstein, new_widgets=[reg_slider, activation_button], callbacks=[callback], widgets=True)"
   ]
  },
  {
   "cell_type": "markdown",
   "id": "8c272b84-a27c-44c4-902b-a40f6c72f9ed",
   "metadata": {},
   "source": [
    "For **1 point**, answer the following MCQ:\n",
    "* Among the following values of $\\lambda$, which one maximizes the SNR between $s$ and $s^\\ast_\\lambda$ according to the ISTA algorithm (number of iterations fixed to 50) ? \n",
    "1. $\\lambda = 10^{-1}$\n",
    "2. $\\lambda = 1$\n",
    "3. $\\lambda = 10^{1}$\n",
    "4. $\\lambda = 10^{2}$\n",
    "5. $\\lambda = 10^{3}$\n",
    "6. $\\lambda = 10^{4}$\n",
    "7. $\\lambda = 10^{5}$\n",
    "\n",
    "Use the next cell to experiment or confirm your hypothesis and then modify the variable `answer` in the cell right after it to reflect your choices.  "
   ]
  },
  {
   "cell_type": "code",
   "execution_count": null,
   "id": "e87f9aab-2367-4a09-8c93-48fa2bba3e1d",
   "metadata": {
    "tags": []
   },
   "outputs": [],
   "source": [
    "# YOUR CODE HERE"
   ]
  },
  {
   "cell_type": "code",
   "execution_count": null,
   "id": "7fe63354-4a5a-4c91-b7a8-4b5a5ef574c7",
   "metadata": {
    "tags": []
   },
   "outputs": [],
   "source": [
    "# Assign your answer to this variable\n",
    "answer = None\n",
    "# YOUR CODE HERE"
   ]
  },
  {
   "cell_type": "code",
   "execution_count": null,
   "id": "98684235-ed75-4d20-baa5-aacab771cdc9",
   "metadata": {
    "tags": []
   },
   "outputs": [],
   "source": [
    "if not answer in list(range(1, 8)): \n",
    "    print('WARNING!\\nPossible answers are integers between 1 and 7.')"
   ]
  },
  {
   "cell_type": "markdown",
   "id": "16f5e6c2-9f52-466f-aa2c-455b23ad4d80",
   "metadata": {},
   "source": [
    "#### Behavior at the limits"
   ]
  },
  {
   "cell_type": "markdown",
   "id": "d15ef2f2-7b5c-4055-a32e-c8af23757dae",
   "metadata": {
    "execution": {
     "iopub.execute_input": "2024-03-20T09:58:29.354808Z",
     "iopub.status.busy": "2024-03-20T09:58:29.354008Z",
     "iopub.status.idle": "2024-03-20T09:58:29.373023Z",
     "shell.execute_reply": "2024-03-20T09:58:29.370176Z",
     "shell.execute_reply.started": "2024-03-20T09:58:29.354742Z"
    },
    "tags": []
   },
   "source": [
    "**For 1 point** answer the following MCQ:\n",
    "* What is $s_\\lambda^\\ast$ when $\\lambda$ tends to infinity ? \n",
    "\n",
    "**Note:** $\\mathbf{0}$ and $\\mathbf{1}$ denote the all-zeros vector and the all-ones vector of the same size as $y$, respectively.\n",
    "\n",
    "1. $y$\n",
    "2. $\\mathbf{0}$\n",
    "3. $\\mathbf{1}$\n",
    "4. $Hy$\n",
    "5. $H \\mathbf{1}$\n",
    "6. $\\operatorname{mean}(y) \\mathbf{1}$\n",
    "7. $\\operatorname{median}(y) \\mathbf{1}$\n",
    "\n",
    "Modify the variable `answer` in the next cell to reflect your choices. "
   ]
  },
  {
   "cell_type": "code",
   "execution_count": null,
   "id": "7377b617-4e3a-4023-bb80-fcc9a75f3e2f",
   "metadata": {
    "tags": []
   },
   "outputs": [],
   "source": [
    "# Assign your answer to this variable\n",
    "answer = None\n",
    "# YOUR CODE HERE"
   ]
  },
  {
   "cell_type": "code",
   "execution_count": null,
   "id": "38f0bb05-0c2d-4602-89ea-a4aa0d2ab34f",
   "metadata": {
    "tags": []
   },
   "outputs": [],
   "source": [
    "if not answer in list(range(1, 8)): \n",
    "    print('WARNING!\\nPossible answers are integers between 1 and 7.')"
   ]
  },
  {
   "cell_type": "markdown",
   "id": "7192b81a-3af1-4ae7-b0eb-fdc38538dabb",
   "metadata": {},
   "source": [
    "### 2.C. TV regularization \n",
    "[Back to table of contents](#ToC_1_NN)"
   ]
  },
  {
   "cell_type": "markdown",
   "id": "160baf45-87f4-41b8-882c-a87152ebbf10",
   "metadata": {},
   "source": [
    "Another very popular type of regularization is the Total variation regularization $J_{\\text{TV}}(s) = \\lambda \\| \\nabla s\\|_1$, which favors piecewise-constant solutions. Complete the function `solve_tv` using the **Proximal Gradient Descent** algorithm  to solve:\n",
    "    $$s^\\ast_\\lambda = \\arg \\min_s \\frac{1}{2} \\|h * s - y\\|_2^2 + \\lambda  \\| \\nabla s\\|_1\\,,$$\n",
    "where $\\lambda \\geq 0$ is an hyperparameter.\n",
    "\n",
    "The function `solve_tv` takes as inputs\n",
    " * `y`: the input corrupted image, \n",
    " * `h`: the centered kernel of size $(2k+1)\\times(2k+1)$,\n",
    " * `lam` (scalar): the hyperparameter $\\lambda \\geq 0$, \n",
    " * `nb_iterations` (int): fixed to 100 (do not modify), \n",
    " \n",
    "and returns `solution`, the formal solution $s^\\ast_\\lambda$.\n",
    "\n",
    "<div class=\"alert alert-info\">\n",
    "<b>Hint:</b> use the function <a href=\"https://scikit-image.org/docs/stable/api/skimage.restoration.html#skimage.restoration.denoise_tv_chambolle\"><code>skimage.restoration.denoise_tv_chambolle</code></a> with the correct <code>weight</code> parameter for computing the proximal step as there exists no closed-form expression.\n",
    "</div>\n",
    "    \n",
    "<div class=\"alert alert-danger\">\n",
    "<b>Beware:</b> since <a href=\"https://scikit-image.org/docs/stable/api/skimage.restoration.html#skimage.restoration.denoise_tv_chambolle\"><code>skimage.restoration.denoise_tv_chambolle</code></a> is also an iterative function, the algorithm may take some time.\n",
    "</div>"
   ]
  },
  {
   "cell_type": "code",
   "execution_count": null,
   "id": "64b44065-e696-4357-909b-e6bb7c20db6c",
   "metadata": {
    "tags": []
   },
   "outputs": [],
   "source": [
    "def solve_tv(y, h, lam, nb_iterations=100):\n",
    "    s = y # initialization\n",
    "    L = 1.0 # Lipschitz constant of data term\n",
    "    gamma = 1/L\n",
    "    for _ in range(nb_iterations):\n",
    "        # YOUR CODE HERE\n",
    "    solution = s\n",
    "    return solution"
   ]
  },
  {
   "cell_type": "code",
   "execution_count": null,
   "id": "456761b6",
   "metadata": {},
   "outputs": [],
   "source": [
    "# Perform sanity check for solve_tv\n",
    "np.random.seed(5678) # for reproductibility, do not modify\n",
    "y_sanity_check = np.random.rand(16, 16)\n",
    "h_sanity_check = np.array([[0.05, 0.1, 0.05], [0.1, 0.4, 0.1], [0.05, 0.1, 0.05]])\n",
    "lam_sanity_check = 5e-2\n",
    "solution_sanity_check = np.array([[0.37104013, 0.21921995, 0.39198927, 0.49997054],\n",
    "       [0.5447789 , 0.48547633, 0.51157949, 0.50653231],\n",
    "       [0.57900974, 0.46908567, 0.51937762, 0.52004448],\n",
    "       [0.66397081, 0.46555742, 0.52212   , 0.57628085]])\n",
    "if np.allclose(solution_sanity_check, solve_tv(y_sanity_check, h_sanity_check, lam_sanity_check)[:4, :4]):\n",
    "    print('Congratulations! Your function \"solve_tv\" seems to be working.') \n",
    "else:\n",
    "    print('WARNING!\\nYour function \"solve_tv\" is not correct!')"
   ]
  },
  {
   "cell_type": "markdown",
   "id": "fbf89729-59c7-4f63-aa66-fb3bebf5315d",
   "metadata": {},
   "source": [
    "Observe the effet of the regularization with hyperparameter $\\lambda = 10^{-1}$ for deblurring Einstein image $y$.\n",
    "\n",
    "<div class=\"alert alert-danger\">\n",
    "    <b>Beware:</b> <code>solve_tv</code> takes about 20 seconds for 100 iterations.\n",
    "</div>"
   ]
  },
  {
   "cell_type": "code",
   "execution_count": null,
   "id": "10d80d99-1467-4c73-8067-cb9335d06d11",
   "metadata": {
    "tags": []
   },
   "outputs": [],
   "source": [
    "lam = 1e-1\n",
    "recovered_einstein = solve_tv(blurred_and_weakly_noisy_einstein, kernel_h_2D, lam, nb_iterations=100)"
   ]
  },
  {
   "cell_type": "code",
   "execution_count": null,
   "id": "0ff1ade0-f5bd-4ed0-93c8-aab0ed3bbfe9",
   "metadata": {
    "tags": []
   },
   "outputs": [],
   "source": [
    "plt.close('all')\n",
    "view = viewer([recovered_einstein, blurred_and_weakly_noisy_einstein], widgets=True, hist=False, axis=True, cmap='gray')"
   ]
  },
  {
   "cell_type": "markdown",
   "id": "60a015f0-a451-4d28-977d-7aa9bbece473",
   "metadata": {},
   "source": [
    "#### Behavior at the limits"
   ]
  },
  {
   "cell_type": "markdown",
   "id": "d8987408-3720-4be8-ae18-265241b188fd",
   "metadata": {
    "execution": {
     "iopub.execute_input": "2024-03-20T10:03:53.781352Z",
     "iopub.status.busy": "2024-03-20T10:03:53.780456Z",
     "iopub.status.idle": "2024-03-20T10:03:53.799268Z",
     "shell.execute_reply": "2024-03-20T10:03:53.796778Z",
     "shell.execute_reply.started": "2024-03-20T10:03:53.781280Z"
    },
    "tags": []
   },
   "source": [
    "Answer the following MCQ:\n",
    "* What is $s_\\lambda^\\ast$ when $\\lambda$ tends to infinity ? \n",
    "\n",
    "**Note:** $\\mathbf{0}$ and $\\mathbf{1}$ denote the all-zeros vector and the all-ones vector of the same size as $y$, respectively.\n",
    "\n",
    "1. $y$\n",
    "2. $\\mathbf{0}$\n",
    "3. $\\mathbf{1}$\n",
    "4. $Hy$\n",
    "5. $H \\mathbf{1}$\n",
    "6. $\\operatorname{mean}(y) \\mathbf{1}$\n",
    "7. $\\operatorname{median}(y) \\mathbf{1}$\n",
    "\n",
    "Modify the variable `answer` in the next cell to reflect your choices. "
   ]
  },
  {
   "cell_type": "code",
   "execution_count": null,
   "id": "07a46761-b3ac-4235-8ef9-4df76e4daae6",
   "metadata": {
    "tags": []
   },
   "outputs": [],
   "source": [
    "# Assign your answer to this variable\n",
    "answer = None\n",
    "# YOUR CODE HERE"
   ]
  },
  {
   "cell_type": "code",
   "execution_count": null,
   "id": "0170452a-8129-403a-a6d8-83fbd9f39118",
   "metadata": {
    "tags": []
   },
   "outputs": [],
   "source": [
    "if not answer in list(range(1, 8)): \n",
    "    print('WARNING!\\nPossible answers are integers between 1 and 7.')"
   ]
  },
  {
   "cell_type": "markdown",
   "id": "b2fd5076-3b07-4273-9107-ce1072cb8e40",
   "metadata": {},
   "source": [
    "Solving inverse problems by adding a term of regularization is powerful but requires implementing a specific optimization algorithm for each form of the regularizer and the forward operator. In the second part of this lab, we are going to see that the library Pyxu, developed at EPFL, may be helpful for this. "
   ]
  }
 ],
 "metadata": {
  "kernelspec": {
   "display_name": "Python 3 (ipykernel)",
   "language": "python",
   "name": "python3"
  },
  "language_info": {
   "codemirror_mode": {
    "name": "ipython",
    "version": 3
   },
   "file_extension": ".py",
   "mimetype": "text/x-python",
   "name": "python",
   "nbconvert_exporter": "python",
   "pygments_lexer": "ipython3",
   "version": "3.9.6"
  }
 },
 "nbformat": 4,
 "nbformat_minor": 5
}
