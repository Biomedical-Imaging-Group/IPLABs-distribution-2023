{
 "cells": [
  {
   "cell_type": "markdown",
   "id": "b9a6afb1-a4d2-4de8-b3bf-d7a7ea0fa7b5",
   "metadata": {},
   "source": [
    "<img src=\"https://www.epfl.ch/about/overview/wp-content/uploads/2020/07/logo-epfl-1024x576.png\" style=\"padding-right:10px;width:140px;float:left\"></td>\n",
    "<h2 style=\"white-space: nowrap\">Image Processing Laboratory Notebooks</h2>\n",
    "<hr style=\"clear:both\">\n",
    "<p style=\"font-size:0.85em; margin:2px; text-align:justify\">\n",
    "This Juypter notebook is part of a series of computer laboratories which are designed\n",
    "to teach image-processing programming; they are running on the EPFL's Noto server. They are the practical complement of the theoretical lectures of the EPFL's Master course <b>Image Processing II</b> \n",
    "(<a href=\"https://moodle.epfl.ch/course/view.php?id=463\">MICRO-512</a>) taught by Dr. D. Sage, Prof. M. Unser and Prof. D. Van de Ville.\n",
    "</p>\n",
    "<p style=\"font-size:0.85em; margin:2px; text-align:justify\">\n",
    "The project is funded by the Center for Digital Education and the School of Engineering. It is owned by the <a href=\"http://bigwww.epfl.ch/\">Biomedical Imaging Group</a>. \n",
    "The distribution or the reproduction of the notebook is strictly prohibited without the written consent of the authors.  &copy; EPFL 2024.\n",
    "</p>\n",
    "<p style=\"font-size:0.85em; margin:0px\"><b>Authors</b>: \n",
    "    <a href=\"mailto:sebastien.herbreteau@epfl.ch\">Sébastien Herbreteau</a> and <a href=\"mailto:daniel.sage@epfl.ch\">Daniel Sage</a>.\n",
    "     \n",
    "</p>\n",
    "<hr style=\"clear:both\">\n",
    "<h1>Lab 7.2:  Introduction to Pyxu </h1>\n",
    "<div style=\"background-color:#F0F0F0;padding:4px\">\n",
    "    <p style=\"margin:4px;\"><b>Released</b>: Thursday May 23, 2024</p>\n",
    "    <p style=\"margin:4px;\"><b>Submission</b>: <span style=\"color:red\">Monday June 3, 2024</span> (before 11:59PM) on <a href=\"https://moodle.epfl.ch/course/view.php?id=463\">Moodle</a></p>\n",
    "    <p style=\"margin:4px;\"><b>Total number of points</b>: 21</p>\n",
    "    <p style=\"margin:4px;\"><b>Helps session</b>: 10:15 - 12:00, Thursday May 30, 2024 in CM 2</p>     \n",
    "    <p style=\"margin:4px;\"><b>Related lectures</b>: Chapters 9 and 10</p>\n",
    "</div>"
   ]
  },
  {
   "cell_type": "markdown",
   "id": "1b41114c-4611-4a26-aa12-c900fea4cfb0",
   "metadata": {
    "execution": {
     "iopub.execute_input": "2024-03-21T13:43:39.133574Z",
     "iopub.status.busy": "2024-03-21T13:43:39.132803Z",
     "iopub.status.idle": "2024-03-21T13:43:39.157114Z",
     "shell.execute_reply": "2024-03-21T13:43:39.154987Z",
     "shell.execute_reply.started": "2024-03-21T13:43:39.133502Z"
    },
    "tags": []
   },
   "source": [
    "Double-click on this cell, fill your name and SCIPER number below to verify your identity in Noto and set the seed for random results.\n",
    ":::{attention} Please write down your name and SCIPER! \n",
    "### Student Name: \n",
    "### SCIPER: \n",
    ":::"
   ]
  },
  {
   "cell_type": "code",
   "execution_count": null,
   "id": "6655955b-9bef-4016-9272-9dcbe1601dc8",
   "metadata": {
    "tags": []
   },
   "outputs": [],
   "source": [
    "import getpass\n",
    "# This line recovers your camipro number to mark the images with your ID\n",
    "uid = int(getpass.getuser().split('-')[2]) if len(getpass.getuser().split('-')) > 2 else ord(getpass.getuser()[0])\n",
    "print(f'SCIPER: {uid}')"
   ]
  },
  {
   "cell_type": "markdown",
   "id": "7db7e09b-463d-44e3-a353-8040f6b00677",
   "metadata": {},
   "source": [
    "## <a name=\"imports_\"></a> Imports\n",
    "In the next cell we import Python libraries we will use throughout the lab."
   ]
  },
  {
   "cell_type": "code",
   "execution_count": null,
   "id": "c3ea6cd1-65a9-4774-8baa-3abcd98ddc74",
   "metadata": {
    "tags": []
   },
   "outputs": [],
   "source": [
    "# Import standard required packages for this exercise\n",
    "import matplotlib.pyplot as plt\n",
    "import ipywidgets as widgets\n",
    "import numpy as np\n",
    "import skimage\n",
    "from interactive_kit import imviewer as viewer\n",
    "\n",
    "import pyxu\n",
    "from pyxu.operator import Convolve, DiagonalOp, PositiveL1Norm, SquaredL2Norm, L1Norm, Gradient, PositiveOrthant\n",
    "from pyxu.opt.solver import PGD\n",
    "from pyxu.operator.interop import from_source\n",
    "from pyxu.opt.stop import MaxIter\n",
    "\n",
    "# Configure plotting as dynamic\n",
    "%matplotlib widget"
   ]
  },
  {
   "cell_type": "markdown",
   "id": "62716288-1564-4f67-a4f5-6dbddd2a7b15",
   "metadata": {
    "execution": {
     "iopub.execute_input": "2024-04-04T16:44:12.129630Z",
     "iopub.status.busy": "2024-04-04T16:44:12.128698Z",
     "iopub.status.idle": "2024-04-04T16:44:12.144461Z",
     "shell.execute_reply": "2024-04-04T16:44:12.141695Z",
     "shell.execute_reply.started": "2024-04-04T16:44:12.129555Z"
    },
    "tags": []
   },
   "source": [
    "# Introduction to Pyxu (7 points)\n",
    "\n",
    "## <a id=\"ToC_2_NN\"></a>Table of contents\n",
    "1. [Pyxu in a Nutshell](#1.-Pyxu-in-a-Nutshell) **(0 point)**\n",
    "2. [Hands-on Pyxu with TV regularization](#2.-Hands-on-Pyxu-with-TV-regularization) **(3 points)**\n",
    "3. [Application: tomographic reconstruction](#3.-Application:-tomographic-reconstruction) **(4 points)**"
   ]
  },
  {
   "cell_type": "markdown",
   "id": "1ea2d3b8-3985-44da-bc71-42dc84a22b60",
   "metadata": {},
   "source": [
    "## 1. Pyxu in a Nutshell\n",
    "[Back to table of contents](#ToC_2_NN)"
   ]
  },
  {
   "cell_type": "markdown",
   "id": "0c61ec32-a3bc-4eda-975a-fdb0884e8683",
   "metadata": {},
   "source": [
    "<a href=\"https://pyxu-org.github.io/\">Pyxu</a> is an open-source computational imaging software framework for Python 3, developed at EPFL. It is based on **operators**. When we talk about a **forward operator** in computational imaging or signal processing, we are describing a transformation that takes an input (often some form of data or signal) and produces an output (often some form of measurement or transformed data). Complex  **operators** can be constructed by composing Pyxu's fundamental building blocks via the following set of arithmetic operations:\n",
    "```python\n",
    ">> op1 + op2 # Addition of two operators\n",
    ">> op1 * op2 # Composition of two operators\n",
    ">> op ** 3   # Exponentiation of an operator\n",
    ">> 4 * op # Scaling\n",
    "```\n",
    "\n",
    "#### Defining operators for the forward model\n",
    "\n",
    "In the case of inverse problems in imaging, **operators** are used to define the forward model. More precisely, consider the situation where we have at our disposal a measurement $y$ which is the realization of a forward model $\\Phi(s)$ where $s$ is to be determined. The function $\\Phi$ is described in Pyxu via **forward operators**. For example, if $\\Phi$ describes a convolution followed by partial masking, we would write for example:"
   ]
  },
  {
   "cell_type": "code",
   "execution_count": null,
   "id": "90de63ad-2a1c-4f3f-aef6-aaee50b9a1f8",
   "metadata": {
    "tags": []
   },
   "outputs": [],
   "source": [
    "kernel = skimage.io.imread('images/psf_movement.tif').astype(np.float64)\n",
    "# Operator convolution for a 512x512 image\n",
    "Conv = Convolve(arg_shape=(512, 512), kernel=kernel, center=(kernel.shape[0]//2, kernel.shape[1]//2), mode=\"reflect\")\n",
    "\n",
    "np.random.seed(1234) # for reproductibility, do not modify\n",
    "mask = np.random.binomial(n=1, p=0.95, size=(512, 512))\n",
    "# Operator of partial masking for a 512x512 image\n",
    "Mask = DiagonalOp(mask.ravel()) # operators only accept vectorized inputs\n",
    "\n",
    "# Compose operators\n",
    "Phi = Mask * Conv"
   ]
  },
  {
   "cell_type": "markdown",
   "id": "7eb6270b-7a97-4c21-b879-d5d0cab6fd63",
   "metadata": {},
   "source": [
    "Thus defined, $\\Phi$ is an **operator** which can be applied to any image of size $512 \\times 512$, in particular the image from the previous notebook.\n",
    "\n",
    "<div class=\"alert alert-danger\">\n",
    "    <b>Beware</b>: in the world of Pyxu, operators accept only vectorized inputs (method <code>.ravel()</code> in NumPy).\n",
    "</div>"
   ]
  },
  {
   "cell_type": "code",
   "execution_count": null,
   "id": "b9f2dae8-97d8-4f71-8c6d-d60c8de75267",
   "metadata": {
    "tags": []
   },
   "outputs": [],
   "source": [
    "einstein = skimage.io.imread('images/einstein.tif').astype(np.float64)\n",
    "masked_and_blurred_einstein = Phi(einstein.ravel()).reshape(einstein.shape)\n",
    "np.random.seed(1234) # for reproductibility, do not modify\n",
    "masked_and_blurred_and_noisy_einstein = masked_and_blurred_einstein + 10 * np.random.randn(*masked_and_blurred_einstein.shape)\n",
    "\n",
    "plt.close('all')\n",
    "view = viewer([masked_and_blurred_einstein, masked_and_blurred_and_noisy_einstein, einstein, kernel], widgets=True, hist=False, axis=True, cmap='gray')"
   ]
  },
  {
   "cell_type": "markdown",
   "id": "3233acce-ed47-430a-b628-c45d3c03c823",
   "metadata": {},
   "source": [
    "#### Defining operators for the data-fidelity term\n",
    "\n",
    "The data-fidelity term is associated with the forward model. Here data-fidelity is expressed in terms of a squared $\\ell_2$ norm."
   ]
  },
  {
   "cell_type": "code",
   "execution_count": null,
   "id": "56d384d1-be91-4e80-8140-a156256cc292",
   "metadata": {
    "tags": []
   },
   "outputs": [],
   "source": [
    "np.random.seed(1234) # for reproductibility, do not modify\n",
    "y = masked_and_blurred_and_noisy_einstein\n",
    "sl2 = SquaredL2Norm(dim=y.size) # defines the loss \\| . \\|_2^2\n",
    "sl2 = sl2.asloss(y.ravel()) # defines the loss \\| . - y \\|_2^2\n",
    "F = sl2 * Phi # defines the data-fidelity loss \\| \\Phi(.) - y \\|_2^2"
   ]
  },
  {
   "cell_type": "markdown",
   "id": "84507649-2836-46e0-b216-53c8157a2df2",
   "metadata": {},
   "source": [
    "#### Defining operators for the regularization terms\n",
    "\n",
    "To deal with ill-posed problems, it is common practice to add regularization terms to the optimization problem to be solved, which favor certain behaviors of the solution. Once again, regularization terms are also defined by **operators** in Pyxu. For example, if one wants to define a $\\ell_1$ norm penalization to promote sparsity with hyperparameter $\\lambda$, one would write:"
   ]
  },
  {
   "cell_type": "code",
   "execution_count": null,
   "id": "cafe53db-a6ea-4568-bca4-ed006576d325",
   "metadata": {
    "tags": []
   },
   "outputs": [],
   "source": [
    "lam = 1e2\n",
    "G = lam * L1Norm(dim=y.size)"
   ]
  },
  {
   "cell_type": "markdown",
   "id": "a6b615bb-dc6b-4abd-b3d5-b7bcb263162a",
   "metadata": {},
   "source": [
    "#### Solvers"
   ]
  },
  {
   "cell_type": "markdown",
   "id": "49504ccf-54ae-4a95-b959-7e97263c238e",
   "metadata": {},
   "source": [
    "Pyxu offers multiple solvers for which an exhaustive list can be found <a href=\"https://pyxu-org.github.io/api/opt.solver.html\">here</a>. Among them is the <a href=\"https://pyxu-org.github.io/api/opt.solver.html#pyxu.opt.solver.PGD\">**Proximal Gradient Descent (PGD)**</a> solver which was introduced in the previous notebook. Note that Pyxu automatically computes upper bounds of the maximum eigenvalue \n",
    " of composite operators, which is useful for automatically choosing suitable step sizes in optimisation algorithms (done under the hood by Pyxu's algorithmic suite).\n",
    " \n",
    "<div class=\"alert alert-info\">\n",
    "<b>Note:</b> As mentionned in the <a href=\"https://pyxu-org.github.io/api/opt.solver.html#pyxu.opt.solver.PGD\">documentation</a>, for the solver <code>PGD</code>, $f$ should be convex and differentiable with $L$-Lipschitz continuous gradient and $g$ should be convex, not necessarily differentiable, with a simple proximal operator. This is the case here since the proximal operator of the $\\ell_1$ norm can be computed exactly with the soft threshold. \n",
    "</div>"
   ]
  },
  {
   "cell_type": "code",
   "execution_count": null,
   "id": "37062cae-cf44-4f8f-8437-612599eaf6bb",
   "metadata": {
    "tags": []
   },
   "outputs": [],
   "source": [
    " # Define the solver\n",
    "solver = PGD(f=F, g=G, show_progress=False) \n",
    "\n",
    "# Solve the optimization problem\n",
    "solver.fit(x0=np.zeros(y.ravel().shape), stop_crit=MaxIter(50)) # initialization: all-zeros vector; number of iterations fixed to 100\n",
    "\n",
    "# Get the solution and reshape to the original size\n",
    "s_opt = solver.solution().reshape(y.shape)"
   ]
  },
  {
   "cell_type": "code",
   "execution_count": null,
   "id": "912eb3b6-f693-480d-bd2c-edb434c550da",
   "metadata": {
    "tags": []
   },
   "outputs": [],
   "source": [
    "plt.close('all')\n",
    "view = viewer([s_opt, y], widgets=True, hist=False, axis=True, cmap='gray')"
   ]
  },
  {
   "cell_type": "markdown",
   "id": "19cd946a-c11d-4c86-b5fc-a3694f07f342",
   "metadata": {},
   "source": [
    "<div class=\"alert alert-info\">\n",
    "    <b>Note:</b> Unsurprisingly, the resulting image is of poor quality as promoting sparsity is not appropriate for this kind of image.\n",
    "</div>"
   ]
  },
  {
   "cell_type": "markdown",
   "id": "d5168819-47c0-4372-a32e-76ac89f19afd",
   "metadata": {},
   "source": [
    "## 2. Hands-on Pyxu with TV regularization\n",
    "[Back to table of contents](#ToC_2_NN)"
   ]
  },
  {
   "cell_type": "markdown",
   "id": "ca5acde7-886e-462b-80de-2d6013d95238",
   "metadata": {},
   "source": [
    "For **2 points**, using Pyxu and the **Proximal Gradient Descent** algorithm, compute the solution to the following optimization problem **under positivity constraints**:\n",
    "$$s_\\lambda^\\ast = \\arg \\min_{s \\geq \\mathbf{0}} \\| \\Phi(s) - y \\|_2^2 + \\lambda \\| \\nabla s \\|_2^2$$\n",
    "where $\\lambda=0.05$, $\\Phi$ is the function defined in the previous section (convolution with psf of movement followed by partial masking) and $y$ is the blurred, masked and noisy Einstein. Pay attention that, contrary to the previous notebook, the squared $\\ell_2$ norm was chosen to ensure differentiability.\n",
    "\n",
    "<div class=\"alert alert-danger\">\n",
    "    <b>Beware:</b> For reasons of time, stop the algorithm after 50 iterations and take the $y$ vector as initialization (the algorithm should finish in less than 45 seconds).\n",
    "</div>\n",
    "\n",
    "<div class=\"alert alert-info\">\n",
    "    <b>Hints:</b> \n",
    "    \n",
    "1. You may want to use the operators <a href=\"https://pyxu-org.github.io/api/operator/func.html#pyxu.operator.PositiveOrthant\">PositiveOrthant</a> and <a href=\"https://pyxu-org.github.io/api/operator/linop.html#pyxu.operator.Gradient\">Gradient</a> with directions equal to (0, 1).\n",
    "\n",
    "2. Be careful with the output dimension of the Gradient operator. \n",
    "\n",
    "3. Be careful with the terms dedicated to the `f` argument of the solver `PGD` and those dedicated to the `g` argument.\n",
    "</div>"
   ]
  },
  {
   "cell_type": "code",
   "execution_count": null,
   "id": "725c4b11-863a-4676-840f-8019230ecab3",
   "metadata": {
    "tags": []
   },
   "outputs": [],
   "source": [
    "lam = 5e-2 # Regularization parameter\n",
    "\n",
    "# Define the operators\n",
    "# YOUR CODE HERE\n",
    "\n",
    "# Define and fit the solver\n",
    "# YOUR CODE HERE\n",
    "\n",
    "# Get solution\n",
    "s_opt = None\n",
    "# YOUR CODE HERE\n",
    "\n",
    "\n",
    "# Define and fit the solver\n",
    "plt.close('all')\n",
    "view = viewer([s_opt, y], widgets=True, hist=False, axis=True, cmap='gray')"
   ]
  },
  {
   "cell_type": "markdown",
   "id": "812fd1b7-780e-44d9-8c33-5fb3a5491711",
   "metadata": {
    "execution": {
     "iopub.execute_input": "2024-03-27T11:24:40.992117Z",
     "iopub.status.busy": "2024-03-27T11:24:40.990999Z",
     "iopub.status.idle": "2024-03-27T11:24:41.006305Z",
     "shell.execute_reply": "2024-03-27T11:24:41.004267Z",
     "shell.execute_reply.started": "2024-03-27T11:24:40.992035Z"
    },
    "tags": []
   },
   "source": [
    "**For 1 point**, answer the following MCQ:\n",
    "* What is the SNR of the solution found with Pyxu ? (**1 point**)\n",
    "1. $20.08$ dB\n",
    "2. $21.08$ dB\n",
    "3. $22.08$ dB\n",
    "4. $23.08$ dB\n",
    "5. $24.08$ dB\n",
    "6. $25.08$ dB\n",
    "7. $26.08$ dB "
   ]
  },
  {
   "cell_type": "markdown",
   "id": "08420226",
   "metadata": {},
   "source": [
    "<div class=\"alert alert-info\">\n",
    "<b>Hint:</b> You may use the next cell to use or redefine the SNR function that you implemented in the first notebook.\n",
    "</div>"
   ]
  },
  {
   "cell_type": "code",
   "execution_count": null,
   "id": "d54e6944-b5b2-4473-9e17-84e71f2f689e",
   "metadata": {
    "tags": []
   },
   "outputs": [],
   "source": [
    "# YOUR CODE HERE"
   ]
  },
  {
   "cell_type": "markdown",
   "id": "c5de62d7",
   "metadata": {},
   "source": [
    "Modify the variable `answer` in the next cell to reflect your choices."
   ]
  },
  {
   "cell_type": "code",
   "execution_count": null,
   "id": "3b8f32f0-57ed-4c49-ab78-3684cea501f3",
   "metadata": {
    "tags": []
   },
   "outputs": [],
   "source": [
    "# Assign your answer to this variable\n",
    "answer = None\n",
    "# YOUR CODE HERE"
   ]
  },
  {
   "cell_type": "code",
   "execution_count": null,
   "id": "71b59a0c-2d22-41de-8b2f-837d120fa958",
   "metadata": {
    "tags": []
   },
   "outputs": [],
   "source": [
    "if not answer in list(range(1, 8)): \n",
    "    print('WARNING!\\nPossible answers are integers between 1 and 7.')"
   ]
  },
  {
   "cell_type": "markdown",
   "id": "976e64fa-a4ea-4e1f-93a3-10b0c4d9e5c2",
   "metadata": {},
   "source": [
    "## 3. Application: tomographic reconstruction\n",
    "[Back to table of contents](#ToC_2_NN)"
   ]
  },
  {
   "cell_type": "markdown",
   "id": "17b7ab38-075e-4192-bed0-839a706f2c12",
   "metadata": {},
   "source": [
    "Tomographic reconstruction is a computational process used in imaging sciences to reconstruct 2D or 3D images from a series of projections captured at different angles. \n",
    "\n",
    "The fundamental principle behind tomographic reconstruction is the Radon transform, mapping a function in 2D or 3D space to a set of line integrals. In the context of medical imaging, these line integrals represent the attenuation of X-rays as they pass through a human body. By capturing these attenuations from various angles, it is possible to reconstruct a cross-sectional image of the internal structure."
   ]
  },
  {
   "cell_type": "markdown",
   "id": "96a9b9c4-0292-408c-bda2-95e9a53fb2d0",
   "metadata": {
    "execution": {
     "iopub.execute_input": "2024-03-27T14:37:59.792510Z",
     "iopub.status.busy": "2024-03-27T14:37:59.790907Z",
     "iopub.status.idle": "2024-03-27T14:37:59.819295Z",
     "shell.execute_reply": "2024-03-27T14:37:59.816569Z",
     "shell.execute_reply.started": "2024-03-27T14:37:59.792384Z"
    },
    "tags": []
   },
   "source": [
    "The process typically involves the following steps:\n",
    "\n",
    "- Data Acquisition: Projection data is gathered from different angles, typically by rotating the X-ray source and detector around the object being imaged. The acquired projection data are then ‘smeared’ back across the imaging field for each angle (back-projection). The data representation that stacks 1D projections of an object at various angles is called a sinogram.\n",
    "\n",
    "- Reconstruction: Various algorithms, such as Filtered Back-Projection (FBP) or iterative methods, are used to compute the original image from the smeared data. However, due to the non-idealities inherent to the tomographic setup, regularization is often useful to reconstruct the original object."
   ]
  },
  {
   "cell_type": "markdown",
   "id": "70c9cebe-c208-48ea-b598-61402c47f157",
   "metadata": {},
   "source": [
    "### Generating ideal sinogram (simulation of real data acquisition)"
   ]
  },
  {
   "cell_type": "markdown",
   "id": "4a994c71-4f97-4830-9d68-2942b5d5adfa",
   "metadata": {},
   "source": [
    "Given an image (for example `images/MRI.png`), we can simulate the real data acquisition process using the Radon transform (the Pyxu operators `Radon` and its inverse `InvRadon` are given below). In this example, projection data is gathered from 360 angles around the brain. The result is an ideal sinogram."
   ]
  },
  {
   "cell_type": "code",
   "execution_count": null,
   "id": "967f9e30-dfb8-4720-aa07-cef4e3017d0f",
   "metadata": {
    "tags": []
   },
   "outputs": [],
   "source": [
    "# Import brain image\n",
    "phantom = skimage.io.imread('images/MRI.png').astype(np.float64)[::4, ::4] / 255 # downsampling for speed issues (128x128 image)\n",
    "nb_angles = 360"
   ]
  },
  {
   "cell_type": "code",
   "execution_count": null,
   "id": "10819ac2-ecc2-44e0-b973-4d6336696e4a",
   "metadata": {
    "tags": []
   },
   "outputs": [],
   "source": [
    "# Radon Operator \n",
    "Radon = from_source(cls=pyxu.abc.LinOp,\n",
    "                    shape=(phantom.shape[0]*nb_angles, phantom.size),\n",
    "                    apply=lambda _, arr: skimage.transform.radon(arr.reshape(phantom.shape),\n",
    "                                                   theta=np.linspace(0, 180, nb_angles),\n",
    "                                                   circle=True).ravel(),\n",
    "                    adjoint=lambda _, arr: skimage.transform.iradon(arr.reshape(phantom.shape[0], nb_angles),\n",
    "                                                      filter_name=None,\n",
    "                                                      circle=True).ravel(),\n",
    "                    vectorize=[\"apply\", \"adjoint\"],\n",
    "                    vmethod=\"scan\",\n",
    "                    enforce_precision=[\"apply\", \"adjoint\"])\n",
    "\n",
    "# Inverse Radon Operator\n",
    "InvRadon = from_source(cls=pyxu.abc.LinOp,\n",
    "                    shape=(phantom.size, phantom.shape[0]*nb_angles),\n",
    "                    apply=lambda _, arr: skimage.transform.iradon(arr.reshape(phantom.shape[0], nb_angles),\n",
    "                                                      filter_name=\"hamming\",\n",
    "                                                      circle=True).ravel())"
   ]
  },
  {
   "cell_type": "code",
   "execution_count": null,
   "id": "2256aac3-afb4-4eaf-bdf4-0ab0665f1d4d",
   "metadata": {
    "tags": []
   },
   "outputs": [],
   "source": [
    "# Compute ideal sinogram\n",
    "ideal_sino = Radon(phantom.ravel()).reshape(phantom.shape[0], nb_angles)\n",
    "\n",
    "plt.close('all')\n",
    "view = viewer([phantom, ideal_sino], widgets=True, hist=False, axis=True, cmap='gray')"
   ]
  },
  {
   "cell_type": "markdown",
   "id": "474c600e-988d-44ad-b8d8-90c07fd0919b",
   "metadata": {},
   "source": [
    "### Reconstruction with Filtered Back-Projection (FBP)"
   ]
  },
  {
   "cell_type": "markdown",
   "id": "2d19bc28-4361-4ce7-98e8-9777a571f04f",
   "metadata": {},
   "source": [
    "In the ideal case, the reconstructed object can be well recovered from its sinogram using the algorithm of Filtered Back-Projection, implemented through the given Pyxu operator `InvRadon`."
   ]
  },
  {
   "cell_type": "code",
   "execution_count": null,
   "id": "75f27a67-f414-44a0-b0de-a9d0a9cb8234",
   "metadata": {
    "tags": []
   },
   "outputs": [],
   "source": [
    "ideal_fbp = InvRadon(ideal_sino.ravel()).reshape(phantom.shape)\n",
    "\n",
    "plt.close('all')\n",
    "view = viewer([ideal_fbp, phantom, ideal_fbp - phantom], title=[\"Ideal FBP\", \"Phantom\", \"Difference\"], widgets=True, hist=False, axis=True, cmap='gray')"
   ]
  },
  {
   "cell_type": "markdown",
   "id": "25b6d625-c972-4196-b4e3-026098cac34c",
   "metadata": {},
   "source": [
    "### Reconstruction from a non-ideal sinogram"
   ]
  },
  {
   "cell_type": "markdown",
   "id": "356bfa94-d601-4a86-8042-c7b209c41083",
   "metadata": {},
   "source": [
    "However, in practice, the process of acquisition deviates from the assumptions usually made by traditional Radon transform models. The complexities of the studied setup in this example include:\n",
    "\n",
    "- Detector Width: Detectors feature non-negligible widths, hence perform tube integrals in place of line integrals assumed by the Radon transform. This results in a blurring effect in the sinogram.\n",
    "\n",
    "- Probabilistic Element: There’s a chance that detector pixels might malfunction during each scan, introducing missing values in the sinogram.\n",
    "\n",
    "- X-ray Beam Intensity: The X-ray beam’s intensity tapers towards the edges, causing a similar tapering effect in the sinogram, which complicates the application of the standard Radon transform."
   ]
  },
  {
   "cell_type": "markdown",
   "id": "703252c3-050f-4f94-a37b-c345f9d00d00",
   "metadata": {},
   "source": [
    "Each of the perturbations are described with Pyxu by the following operators:"
   ]
  },
  {
   "cell_type": "code",
   "execution_count": null,
   "id": "c98edb30-095c-4b5b-ae91-e24bd0efd406",
   "metadata": {
    "tags": []
   },
   "outputs": [],
   "source": [
    "# Detector Width\n",
    "kernel = np.ones((3, 1)); kernel /= kernel.sum()\n",
    "Blur1D = Convolve(arg_shape=ideal_sino.shape, kernel=kernel, center=(kernel.shape[0]//2, kernel.shape[1]//2), mode=\"reflect\")\n",
    "\n",
    "# Probabilisic Element\n",
    "np.random.seed(1234) # for reproductibility, do not modify\n",
    "mask = np.random.binomial(n=1, p=0.99, size=ideal_sino.shape)\n",
    "Mask = DiagonalOp(mask.ravel())\n",
    "\n",
    "# X-ray beam intensity\n",
    "taper = np.hamming(ideal_sino.shape[0]).reshape(-1, 1).repeat(ideal_sino.shape[1], axis=1)\n",
    "BeamIntensity = DiagonalOp(taper.ravel())\n",
    "\n",
    "# Compose all operators\n",
    "Phi = BeamIntensity * Mask * Blur1D * Radon"
   ]
  },
  {
   "cell_type": "code",
   "execution_count": null,
   "id": "ab33cf84-545f-4fe9-9afd-b2a5c25e1d84",
   "metadata": {
    "tags": []
   },
   "outputs": [],
   "source": [
    "non_ideal_sino = Phi(phantom.ravel()).reshape(ideal_sino.shape)\n",
    "\n",
    "plt.close('all')\n",
    "view = viewer([non_ideal_sino, ideal_sino], widgets=True, hist=False, axis=True, cmap='gray')"
   ]
  },
  {
   "cell_type": "markdown",
   "id": "6cfe06cd-19f8-4a1b-b6c7-c86b9285d399",
   "metadata": {},
   "source": [
    "#### Naive application of Filtered-Back Projection"
   ]
  },
  {
   "cell_type": "markdown",
   "id": "20cda551-c35b-4234-9fcc-4ed9ffa1e1b8",
   "metadata": {},
   "source": [
    "**For 1 point** answer the following MCQ:\n",
    "* What is the SNR of naive application of Filtered-Back Projection to the non-ideal sinogram ? (**1 point**)\n",
    "1. $1.15$ dB\n",
    "2. $2.15$ dB\n",
    "3. $3.15$ dB\n",
    "4. $4.15$ dB\n",
    "5. $5.15$ dB\n",
    "6. $6.15$ dB\n",
    "7. $7.15$ dB\n",
    "\n",
    "Use the next cell to compute it."
   ]
  },
  {
   "cell_type": "code",
   "execution_count": null,
   "id": "ac3030e4-6d05-4a5d-ad5b-678b691eecb5",
   "metadata": {
    "tags": []
   },
   "outputs": [],
   "source": [
    "non_ideal_fbp = None\n",
    "# YOUR CODE HERE\n",
    "\n",
    "plt.close('all')\n",
    "view = viewer([non_ideal_fbp, phantom, non_ideal_fbp - phantom], title=[\"Non-ideal FBP\", \"Phantom\", \"Difference\"], widgets=True, hist=False, axis=True, cmap='gray')"
   ]
  },
  {
   "cell_type": "markdown",
   "id": "6e0b41c5",
   "metadata": {},
   "source": [
    "Modify the variable `answer` in the next cell to reflect your choices. "
   ]
  },
  {
   "cell_type": "code",
   "execution_count": null,
   "id": "b6b6d191-343f-4ba5-b397-82a00e65ccc5",
   "metadata": {
    "tags": []
   },
   "outputs": [],
   "source": [
    "# Assign your answer to this variable\n",
    "answer = None\n",
    "# YOUR CODE HERE"
   ]
  },
  {
   "cell_type": "code",
   "execution_count": null,
   "id": "c6f931a2-d0af-49fe-adae-571d8e0945e3",
   "metadata": {
    "tags": []
   },
   "outputs": [],
   "source": [
    "if not answer in list(range(1, 8)): \n",
    "    print('WARNING!\\nPossible answers are integers between 1 and 7.')"
   ]
  },
  {
   "cell_type": "markdown",
   "id": "a8ad74f9-3d8f-4081-9265-feb322f94d0b",
   "metadata": {},
   "source": [
    "#### Leveraging Pyxu for regularization"
   ]
  },
  {
   "cell_type": "markdown",
   "id": "d0c29a6e-554b-4c94-a5f3-cea61203b2dc",
   "metadata": {},
   "source": [
    "For **2 points**, solve the reconstruction problem **under positive constraints**:\n",
    "$$s^\\ast = \\arg \\min_{s \\geq 0} \\| \\Phi(s) - y \\|_2^2 + \\lambda  \\| s \\|_1 + \\mu \\| \\nabla s \\|_2^2$$\n",
    "with $\\lambda=1$ and $\\mu=10^{-4}$, and where $y$ represents the non-ideal sinogram and $\\Phi$ is the composition of the radon transform followed by all the three perturbations defined previously. To do so, use the **Proximal Gradient Descent** solver from Pyxu with gradient step size equal to $10^{-3}$.\n",
    "\n",
    "<div class=\"alert alert-danger\">\n",
    "<b>Beware:</b> For reasons of time, stop the algorithm after 200 iterations and take the all-zeros vector as initialization (<b>takes about 3 minutes</b>).\n",
    "</div>\n",
    "\n",
    "<div class=\"alert alert-info\">\n",
    "<b>Hints:</b> \n",
    "    \n",
    "1. You may want to use the operator <a href=\"https://pyxu-org.github.io/api/operator/func.html#pyxu.operator.PositiveOrthant\">PositiveL1Norm</a>.\n",
    "\n",
    "2. The gradient step size is defined with argument `tau` in the method `fit`.\n",
    "</div>"
   ]
  },
  {
   "cell_type": "code",
   "execution_count": null,
   "id": "9006432e-cc49-43e5-bd38-ba93e61dfbc4",
   "metadata": {
    "tags": []
   },
   "outputs": [],
   "source": [
    "y = non_ideal_sino\n",
    "lam = 1.0 # Regularization parameter\n",
    "mu = 1e-4 # Regularization parameter\n",
    "\n",
    "# Define the operators\n",
    "# YOUR CODE HERE\n",
    "\n",
    "\n",
    "# Define and fit the solver with all-zeros vector as initialization\n",
    "# YOUR CODE HERE\n",
    "\n",
    "\n",
    "# Get solution\n",
    "s_opt = None\n",
    "# YOUR CODE HERE\n",
    "\n",
    "# Display the solution and observe the differences between all the estimators of the phantom image\n",
    "plt.close('all')\n",
    "view = viewer([s_opt, non_ideal_fbp, ideal_fbp, phantom], title=[\"Pyxu solution\", \"Non-ideal FBP\", \"Ideal FBP\", \"Phantom\"], widgets=True, hist=False, axis=True, cmap='gray')"
   ]
  },
  {
   "cell_type": "markdown",
   "id": "33bfc9b6-497a-4536-8366-3afc266bdec5",
   "metadata": {
    "execution": {
     "iopub.execute_input": "2024-04-04T16:42:20.332715Z",
     "iopub.status.busy": "2024-04-04T16:42:20.331875Z",
     "iopub.status.idle": "2024-04-04T16:42:20.349047Z",
     "shell.execute_reply": "2024-04-04T16:42:20.345752Z",
     "shell.execute_reply.started": "2024-04-04T16:42:20.332643Z"
    },
    "tags": []
   },
   "source": [
    "For **1 point** answer the following MCQ:\n",
    "* What is the SNR of the reconstructed image ? (**1 point**)\n",
    "1. $1.76$ dB\n",
    "2. $2.76$ dB\n",
    "3. $3.76$ dB\n",
    "4. $4.76$ dB\n",
    "5. $5.76$ dB\n",
    "6. $6.76$ dB\n",
    "7. $7.76$ dB\n",
    "\n",
    "Use the next cell to compute it. "
   ]
  },
  {
   "cell_type": "code",
   "execution_count": null,
   "id": "2f873a9c-7812-4b48-ade2-637b6b64c75a",
   "metadata": {
    "tags": []
   },
   "outputs": [],
   "source": [
    "# YOUR CODE HERE"
   ]
  },
  {
   "cell_type": "markdown",
   "id": "904a4f3f",
   "metadata": {},
   "source": [
    "Modify the variable `answer` in the next cell to reflect your choices."
   ]
  },
  {
   "cell_type": "code",
   "execution_count": null,
   "id": "2f6c0198-6735-443b-9a9c-53080fa2b586",
   "metadata": {
    "tags": []
   },
   "outputs": [],
   "source": [
    "# Assign your answer to this variable\n",
    "answer = None\n",
    "# YOUR CODE HERE"
   ]
  },
  {
   "cell_type": "code",
   "execution_count": null,
   "id": "0966b510-b1eb-441b-899c-121c663700ce",
   "metadata": {
    "tags": []
   },
   "outputs": [],
   "source": [
    "if not answer in list(range(1, 8)): \n",
    "    print('WARNING!\\nPossible answers are integers between 1 and 7.')"
   ]
  }
 ],
 "metadata": {
  "kernelspec": {
   "display_name": "Python 3 (ipykernel)",
   "language": "python",
   "name": "python3"
  },
  "language_info": {
   "codemirror_mode": {
    "name": "ipython",
    "version": 3
   },
   "file_extension": ".py",
   "mimetype": "text/x-python",
   "name": "python",
   "nbconvert_exporter": "python",
   "pygments_lexer": "ipython3",
   "version": "3.9.6"
  }
 },
 "nbformat": 4,
 "nbformat_minor": 5
}
