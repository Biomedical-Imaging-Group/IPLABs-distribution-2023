{
 "cells": [
  {
   "cell_type": "markdown",
   "metadata": {
    "deletable": false,
    "editable": false,
    "kernel": "SoS",
    "nbgrader": {
     "cell_type": "markdown",
     "checksum": "1e405befb6974ee65f3793b5267220d2",
     "grade": false,
     "grade_id": "cell-2f137ed5983c4fea",
     "locked": true,
     "schema_version": 3,
     "solution": false,
     "task": false
    },
    "user_expressions": []
   },
   "source": [
    "```{image} https://www.epfl.ch/about/overview/wp-content/uploads/2020/07/logo-epfl-1024x576.png \n",
    ":width: 140px\n",
    ":align: left\n",
    "```\n",
    "## Image Processing Laboratory Notebooks\n",
    "---\n",
    "\n",
    "This Juypter notebook is part of a series of computer laboratories which are designed\n",
    "to teach image-processing programming; they are running on the EPFL's Noto server. They are the practical complement of the theoretical lectures of the EPFL's Master course \n",
    "[**MICRO-511 Image Processing I**](https://moodle.epfl.ch/course/view.php?id=522) taught by Prof. M. Unser and Prof. D. Van de Ville.\n",
    "\n",
    "The project is funded by the Center for Digital Education and the School of Engineering. It is owned by the [Biomedical Imaging Group](http://bigwww.epfl.ch/). \n",
    "The distribution or the reproduction of the notebook is strictly prohibited without the written consent of the authors.  &copy; EPFL 2023.\n",
    "\n",
    "**Authors**: \n",
    "    [Pol del Aguila Pla](mailto:pol.delaguilapla@epfl.ch), \n",
    "    [Kay L\u00e4chler](mailto:kay.lachler@epfl.ch),\n",
    "    [Alejandro Noguer\u00f3n Ar\u00e1mburu](mailto:alejandro.nogueronaramburu@epfl.ch),\n",
    "    [Yan Liu](mailto:yan.liu@epfl.ch), and\n",
    "    [Daniel Sage](mailto:daniel.sage@epfl.ch).\n",
    "    \n",
    "---\n",
    "\n",
    "# Lab 2.1: Filtering\n",
    "**Released**: Thursday November 9, 2023\n",
    "\n",
    "**Submission**: Monday November 20, 2023 before 23:59 on [Moodle](https://moodle.epfl.ch/course/view.php?id=522)\n",
    "\n",
    "**Grade weight**: Lab 2 (16 points), 10% of the overall grade\n",
    "\n",
    "**Related lectures**: Chapter 3"
   ]
  },
  {
   "cell_type": "markdown",
   "metadata": {
    "kernel": "SoS",
    "user_expressions": []
   },
   "source": [
    "Double-click on this cell, fill your name and SCIPER number below to verify your identity in Noto and set the seed for random results.\n",
    ":::{attention} Please write down your name and SCIPER! \n",
    "### Student Name: \n",
    "### SCIPER: \n",
    ":::"
   ]
  },
  {
   "cell_type": "code",
   "execution_count": null,
   "metadata": {
    "deletable": false,
    "editable": false,
    "kernel": "SoS",
    "nbgrader": {
     "cell_type": "code",
     "checksum": "181db843e2a8484c104865f047736fe1",
     "grade": true,
     "grade_id": "cell-5808010fef9a8499",
     "locked": true,
     "points": 0,
     "schema_version": 3,
     "solution": false,
     "task": false
    }
   },
   "outputs": [],
   "source": [
    "%use sos\n",
    "import getpass\n",
    "# This line recovers your camipro number to mark the images with your ID\n",
    "uid = int(getpass.getuser().split('-')[2]) if len(getpass.getuser().split('-')) > 2 else ord(getpass.getuser()[0])\n",
    "print(f'SCIPER: {uid}')"
   ]
  },
  {
   "cell_type": "markdown",
   "metadata": {
    "deletable": false,
    "editable": false,
    "kernel": "SoS",
    "nbgrader": {
     "cell_type": "markdown",
     "checksum": "1ee50848e919882773fc21f38dd8d8c9",
     "grade": false,
     "grade_id": "cell-22d02ae9386542b4",
     "locked": true,
     "schema_version": 3,
     "solution": false,
     "task": false
    },
    "user_expressions": []
   },
   "source": [
    "(imports)=\n",
    "### Imports\n",
    "Run the next two cell to import the libraries and load the images that we will use throughout the lab."
   ]
  },
  {
   "cell_type": "code",
   "execution_count": null,
   "metadata": {
    "deletable": false,
    "editable": false,
    "kernel": "SoS",
    "nbgrader": {
     "cell_type": "code",
     "checksum": "80b4c41406e4a0d42a28a16fea81b676",
     "grade": false,
     "grade_id": "cell-e71e32bb6c3077e0",
     "locked": true,
     "schema_version": 3,
     "solution": false,
     "task": false
    }
   },
   "outputs": [],
   "source": [
    "%use sos\n",
    "# Configure plotting as dynamic\n",
    "%matplotlib widget\n",
    "\n",
    "# Import standard required packages for this exercise\n",
    "import matplotlib.pyplot as plt\n",
    "import numpy as np\n",
    "import skimage.io as io\n",
    "import scipy.ndimage as ndi\n",
    "import ipywidgets as widgets\n",
    "from interactive_kit import imviewer as viewer\n",
    "\n",
    "# Load images to be used in this exercise \n",
    "bikesgray = io.imread('images/bikesgray.tif').astype('float64')\n",
    "camera = io.imread('images/camera-16bits.tif').astype('float64')\n",
    "spots = io.imread('images/spots.tif').astype('float64')"
   ]
  },
  {
   "cell_type": "code",
   "execution_count": null,
   "metadata": {
    "deletable": false,
    "editable": false,
    "kernel": "JavaScript",
    "nbgrader": {
     "cell_type": "code",
     "checksum": "b3f097108e2f58a285db9e17a4f2cedd",
     "grade": true,
     "grade_id": "cell-c6c746246d09f0e7",
     "locked": true,
     "points": 0,
     "schema_version": 3,
     "solution": false,
     "task": false
    }
   },
   "outputs": [],
   "source": [
    "%use javascript\n",
    "%get bikesgray camera spots\n",
    "// import ImageAccess as Image\n",
    "var Image = require('image-access')"
   ]
  },
  {
   "cell_type": "markdown",
   "metadata": {
    "deletable": false,
    "editable": false,
    "kernel": "SoS",
    "nbgrader": {
     "cell_type": "markdown",
     "checksum": "41d1e8238c85db905d973ddb1ae7c595",
     "grade": false,
     "grade_id": "cell-4b72a2bcfd3b306d",
     "locked": true,
     "schema_version": 3,
     "solution": false,
     "task": false
    },
    "user_expressions": []
   },
   "source": [
    "# Filtering (9 points)\n",
    "\n",
    "In this lab you will review the basics of digital image filtering: how to implement a convolution (the main ingredient of filtering), separable and nonseparable filters, filter design and boundary conditions. The goal is to fully understand the filtering algorithm at a pixel-by-pixel level by implementing it in JavaScript, and at the same time to learn the standard tools to use filtering in professional image-processing libraries in Python.\n",
    "\n",
    "(ToC_1_Filtering)=\n",
    "# Table of contents\n",
    "1. [Edge detection](#edge-detection)\n",
    "    1. [Separable implementation](#separable-implementation) (**2 points**)\n",
    "    2. [Nonseparable implementation](#non-separable-implementation) (**1 point**)\n",
    "    3. [Comparison: Separable vs Nonseparable](#comparison-separable-vs-non-separable) \n",
    "    4. [Edge detection in Python](#edge-detection-in-python)\n",
    "2. [Implementation and classification of digital filters](#implementation-and-classification-of-digital-filters) (**6 points**)\n",
    "    1. [Mask A](#mask-a)\n",
    "    2. [Mask B](#mask-b)\n",
    "    3. [Mask C](#mask-c)\n",
    "    4. [Mask D](#mask-d)\n",
    "    5. [Mask E](#mask-e)\n",
    "    6. [Mask F](#mask-f)\n"
   ]
  },
  {
   "cell_type": "markdown",
   "metadata": {
    "deletable": false,
    "editable": false,
    "kernel": "SoS",
    "nbgrader": {
     "cell_type": "markdown",
     "checksum": "5e3249bfe8fd3007656e24a133e128a4",
     "grade": false,
     "grade_id": "cell-74e9fa45faa39321",
     "locked": true,
     "schema_version": 3,
     "solution": false,
     "task": false
    }
   },
   "source": [
    "### Visualize images\n",
    "Display and get familiar with the images."
   ]
  },
  {
   "cell_type": "code",
   "execution_count": null,
   "metadata": {
    "deletable": false,
    "editable": false,
    "kernel": "SoS",
    "nbgrader": {
     "cell_type": "code",
     "checksum": "99c431acbfc92bf048a54266b6f57874",
     "grade": false,
     "grade_id": "cell-ef12174b159775db",
     "locked": true,
     "schema_version": 3,
     "solution": false,
     "task": false
    }
   },
   "outputs": [],
   "source": [
    "%use sos\n",
    "# Declare image_list for ImageViewer\n",
    "image_list = [bikesgray, camera, spots]\n",
    "\n",
    "imgs_viewer = viewer(image_list, widgets=True, hist=True)"
   ]
  },
  {
   "cell_type": "markdown",
   "metadata": {
    "deletable": false,
    "editable": false,
    "kernel": "JavaScript",
    "nbgrader": {
     "cell_type": "markdown",
     "checksum": "ec484c9a6f3950628368088e9b147c05",
     "grade": false,
     "grade_id": "cell-197bf6fba6c8591a",
     "locked": true,
     "schema_version": 3,
     "solution": false,
     "task": false
    },
    "tags": [],
    "user_expressions": []
   },
   "source": [
    "(edge-detection)=\n",
    "# 1. Edge detection (3 points)\n",
    "[Back to table of contents](#ToC_1_Filtering)\n",
    "\n",
    "In this part of the lab, we will review one of the most basic image processing operation, edge detection. Moreover, we will use this filter to review the concepts of convolution and correlation. As you might remember from the course, edge detection algorithms try to detect sharp intensity differences between neighbouring pixels. A common vertical-edge detector (detecting changes in the $x$ direction) is the Sobel filter, represented by the impulse response\n",
    "\n",
    "$$h[m,n] = \n",
    "\\begin{bmatrix}\n",
    "    -1 & 0 & 1 \\\\\n",
    "    -2 & 0 & 2 \\\\\n",
    "    -1 & 0 & 1\n",
    "\\end{bmatrix}\\,.$$\n",
    "\n",
    "If pixels surrounding a given pixel position all have a similar value, the output at that pixel will have a value close to zero after applying the mask. On the other hand, if there is a big difference in the values of the left and right columns, this likely indicates some kind of vertical edge and consequently the output at that location will have either a highly positive or highly negative intensity.  \n",
    "\n",
    "As you saw in the lecture, there are filters that you can implement in a separable way, and filters that you cannot. Since the separable way is the most efficient one, you should develop the ability to recognize filters that are separable and implement them as such. Go through the next sections to implement both methods!"
   ]
  },
  {
   "cell_type": "markdown",
   "metadata": {
    "deletable": false,
    "editable": false,
    "kernel": "Python3",
    "nbgrader": {
     "cell_type": "markdown",
     "checksum": "6db8e251bcc0e2639fdc4628a4532cd9",
     "grade": false,
     "grade_id": "cell-cf84e8455a646681",
     "locked": true,
     "schema_version": 3,
     "solution": false,
     "task": false
    },
    "user_expressions": []
   },
   "source": [
    "(separable-implementation)=\n",
    "## 1.A. Separable implementation (2 points)\n",
    "[Back to table of contents](#ToC_1_Filtering)\n",
    "\n",
    "In this subsection, you are going to modify the function `filterSeparable`, that we provide to implement the separable version of the filter. This function is based on the function `filter1D` (also declared in the next cell), which takes as input a row/column of the image and a 1D mask and performs a 1D convolution. Recall that separable filters are divided into two 1D masks (`mx` and `my` in the code below). \n",
    "\n",
    "In the next cell, **for 1 point** complete the function `filterSeparable` by implementing the column filtering. The row filtering is provided and can be used as a reference."
   ]
  },
  {
   "cell_type": "code",
   "execution_count": null,
   "metadata": {
    "deletable": false,
    "kernel": "JavaScript",
    "nbgrader": {
     "cell_type": "code",
     "checksum": "ac16d768b3eb32d59109f6132310e634",
     "grade": false,
     "grade_id": "cell-91d7512eab988bf2",
     "locked": false,
     "schema_version": 3,
     "solution": true,
     "task": false
    }
   },
   "outputs": [],
   "source": [
    "%use javascript\n",
    "\n",
    "// function that performs a separable convolution on img using two 1D masks mx and my\n",
    "function filterSeparable(img, mx, my){\n",
    "    // initialize output Image, of the same shape as the input\n",
    "    var output = new Image(img.shape());\n",
    "    \n",
    "    // iterate through every row \n",
    "    for(var y = 0; y < img.ny; y++){\n",
    "        // extract row\n",
    "        var row = img.getRow(y);\n",
    "        // apply filter\n",
    "        var new_row = filter1D(row, mx)\n",
    "        // set column in output variable\n",
    "        output.putRow(y, new_row);    \n",
    "    }\n",
    "    // iterate through every column\n",
    "    for(var x = 0; x < img.nx; x++){\n",
    "        // filter the columns\n",
    "        \n",
    "        // extract column, apply filter and set\n",
    "        // YOUR CODE HERE\n",
    "        \n",
    "    }\n",
    "    return output\n",
    "}\n",
    "\n",
    "// function that applies a 1D filter\n",
    "function filter1D(img, mask){\n",
    "    // transpose the input variables if necessary\n",
    "    if(img.nx == 1){\n",
    "        img.transposeImage();\n",
    "    }\n",
    "    if(mask.nx == 1){\n",
    "        mask.transposeImage();\n",
    "    }\n",
    "    // create the output image\n",
    "    var output = new Image(img.shape());\n",
    "    // iterate through all pixels\n",
    "    for(var x = 0; x < img.nx; x++){\n",
    "        // get the neighbourhood around position x\n",
    "        var neigh = img.getNbh(x, 0, mask.nx, 1);\n",
    "        // declare a variable to store the values of the convolution. \n",
    "        var val = 0;\n",
    "        // iterate through the neighbourhood\n",
    "        for(var i = 0; i < neigh.nx; i++){\n",
    "            // perform convolution\n",
    "            val += neigh.getPixel(i, 0) * mask.getPixel(mask.nx - 1 - i, 0);\n",
    "        }\n",
    "        // set value in output array\n",
    "        output.setPixel(x, 0, val);\n",
    "    }\n",
    "    return output\n",
    "}"
   ]
  },
  {
   "cell_type": "markdown",
   "metadata": {
    "deletable": false,
    "editable": false,
    "kernel": "JavaScript",
    "nbgrader": {
     "cell_type": "markdown",
     "checksum": "9be6bd0c8ef7b2d0ea2ba225426e459b",
     "grade": false,
     "grade_id": "cell-a01e57b63a6a2aee",
     "locked": true,
     "schema_version": 3,
     "solution": false,
     "task": false
    }
   },
   "source": [
    "### 1D masks\n",
    "\n",
    "Now, before testing your separable implementation, **for 1 point**, code the 1D masks `mask_x` and `mask_y` in the cell below that corresponds to the separable version of the vertical-edge detection filter presented [at the beginning of this section](#1.-Edge-detection-(3-points))."
   ]
  },
  {
   "cell_type": "code",
   "execution_count": null,
   "metadata": {
    "deletable": false,
    "kernel": "JavaScript",
    "nbgrader": {
     "cell_type": "code",
     "checksum": "764716fae29447511eecf746dbedc993",
     "grade": false,
     "grade_id": "cell-39c4339868e3faa2",
     "locked": false,
     "schema_version": 3,
     "solution": true,
     "task": false
    }
   },
   "outputs": [],
   "source": [
    "%use javascript\n",
    "%put mask_x mask_y\n",
    "// change the masks to the correct value \n",
    "var mask_x = [0, 0, 0];\n",
    "var mask_y = [0, 0, 0];\n",
    "\n",
    "// YOUR CODE HERE\n",
    "\n",
    "// convert the masks to Image objects\n",
    "var mask_x_img = new Image([mask_x]);\n",
    "var mask_y_img = new Image([mask_y]);"
   ]
  },
  {
   "cell_type": "markdown",
   "metadata": {
    "deletable": false,
    "editable": false,
    "kernel": "JavaScript",
    "nbgrader": {
     "cell_type": "markdown",
     "checksum": "31ebbb4a462743e1de0768cf6c948e04",
     "grade": false,
     "grade_id": "cell-efe1520723ad9c74",
     "locked": true,
     "schema_version": 3,
     "solution": false,
     "task": false
    },
    "user_expressions": []
   },
   "source": [
    "Now, run the next cell for a quick sanity check on your function `filterSeparable` and on your $1$D masks. We will convolve an impulse with your $1$D masks, and the result should be exactly the filter that we presented [at the beginning of the section](#edge-detection)."
   ]
  },
  {
   "cell_type": "code",
   "execution_count": null,
   "metadata": {
    "deletable": false,
    "editable": false,
    "kernel": "JavaScript",
    "nbgrader": {
     "cell_type": "code",
     "checksum": "701fcf63398ddcc5a1b100af7e4c3333",
     "grade": true,
     "grade_id": "cell-f0edc6838129ae12",
     "locked": true,
     "points": 1,
     "schema_version": 3,
     "solution": false,
     "task": false
    }
   },
   "outputs": [],
   "source": [
    "%use javascript\n",
    "// again let's do a sanity check with an impulse image\n",
    "var impulse = new Image([[0, 0, 0], [0, 1, 0], [0, 0, 0]]);\n",
    "// declare correct 2D mask\n",
    "var mask = new Image([[-1, 0, 1], [-2, 0, 2], [-1, 0, 1]]);\n",
    "// the result of a convolution with an impulse image should be the mask itself\n",
    "console.log('Convolving by an impulse should return the original 2D mask.\\nMask:\\n' + mask.visualize() )\n",
    "console.log('Result:\\n' + filterSeparable(impulse, mask_x_img, mask_y_img).visualize(), '\\n');\n",
    "\n",
    "// First we check your masks with a low tolerance\n",
    "if(filterSeparable(impulse, mask_x_img, mask_y_img).imageCompare(mask, tol=1e-12) == false){\n",
    "    // Repeat with high tolerance\n",
    "    if(filterSeparable(impulse, mask_x_img, mask_y_img).imageCompare(mask, tol=1e-4) == false){\n",
    "    console.log('WARNING!!!\\nSorry it looks like the separable filter or the 1D masks are not yet correct.');\n",
    "    }else{\n",
    "        console.log('WARNING!!!\\nYour masks are almost correct, but the accuracy does not seem quite enough...');\n",
    "}}else{\n",
    "    console.log('The separable filter and the 1D masks have passed this sanity check!');\n",
    "}"
   ]
  },
  {
   "cell_type": "markdown",
   "metadata": {
    "deletable": false,
    "editable": false,
    "kernel": "JavaScript",
    "nbgrader": {
     "cell_type": "markdown",
     "checksum": "feeebaecbe5aa158d131d4a4eda91c2e",
     "grade": false,
     "grade_id": "cell-cbc3f7362589bdc4",
     "locked": true,
     "schema_version": 3,
     "solution": false,
     "task": false
    }
   },
   "source": [
    "Now run the next cell to apply the function to three real images."
   ]
  },
  {
   "cell_type": "code",
   "execution_count": null,
   "metadata": {
    "deletable": false,
    "editable": false,
    "kernel": "JavaScript",
    "nbgrader": {
     "cell_type": "code",
     "checksum": "23f41855a74ca9f9593e447de8acc734",
     "grade": true,
     "grade_id": "cell-371402cb11573886",
     "locked": true,
     "points": 1,
     "schema_version": 3,
     "solution": false,
     "task": false
    }
   },
   "outputs": [],
   "source": [
    "%use javascript\n",
    "%get bikesgray spots camera\n",
    "// Apply function on images\n",
    "var vedge_bike_s = filterSeparable(new Image(bikesgray), mask_x_img, mask_y_img).toArray();\n",
    "var vedge_spots_s = filterSeparable(new Image(spots), mask_x_img, mask_y_img).toArray();\n",
    "var vedge_camera_s = filterSeparable(new Image(camera), mask_x_img, mask_y_img).toArray();"
   ]
  },
  {
   "cell_type": "markdown",
   "metadata": {
    "deletable": false,
    "editable": false,
    "kernel": "JavaScript",
    "nbgrader": {
     "cell_type": "markdown",
     "checksum": "082513eff173af909bc0366db9efef9e",
     "grade": false,
     "grade_id": "cell-5dd51236de517c9f",
     "locked": true,
     "schema_version": 3,
     "solution": false,
     "task": false
    }
   },
   "source": [
    "Run the next one to visualize the results."
   ]
  },
  {
   "cell_type": "code",
   "execution_count": null,
   "metadata": {
    "deletable": false,
    "editable": false,
    "kernel": "SoS",
    "nbgrader": {
     "cell_type": "code",
     "checksum": "0e5602bb0eb121e22847dad0509fde7d",
     "grade": false,
     "grade_id": "cell-664065187b4a1db7",
     "locked": true,
     "schema_version": 3,
     "solution": false,
     "task": false
    }
   },
   "outputs": [],
   "source": [
    "%use sos\n",
    "%get vedge_bike_s vedge_camera_s vedge_spots_s --from javascript\n",
    "# Declare the image list\n",
    "image_list_sep = [vedge_bike_s, vedge_camera_s, vedge_spots_s]\n",
    "title_list = ['Bike - Vertical edges', 'Camera - Vertical edges', 'Spots - Vertical edges']\n",
    "\n",
    "# Make sure that the images are numpy arrays and not lists\n",
    "for i, image in enumerate(image_list_sep):\n",
    "    image_list_sep[i] = np.array(image)\n",
    "\n",
    "plt.close('all')\n",
    "vedge_s_viewer = viewer(image_list_sep, title=title_list, widgets=True)"
   ]
  },
  {
   "cell_type": "markdown",
   "metadata": {
    "deletable": false,
    "editable": false,
    "kernel": "JavaScript",
    "nbgrader": {
     "cell_type": "markdown",
     "checksum": "4064a461e70ba65cff02828376e1d59d",
     "grade": false,
     "grade_id": "cell-6dbf92312a1ff865",
     "locked": true,
     "schema_version": 3,
     "solution": false,
     "task": false
    },
    "user_expressions": []
   },
   "source": [
    "(non-separable-implementation)=\n",
    "## 1.B. Nonseparable implementation (1 point)\n",
    "[Back to table of contents](#ToC_1_Filtering)\n",
    "\n",
    "In this section, we will implement a 2D convolution function for filters that are not separable. We will test it on the following nonseparable mask:\n",
    "\n",
    "$$\\begin{bmatrix}\n",
    "        -3  & 1 & 3 \\\\\n",
    "        -10 & 1 & 10 \\\\\n",
    "        -3  & 1 & 3\n",
    "    \\end{bmatrix}.$$\n",
    "In the next cell we provide such a function `filterNonSeparable` that takes as input `img` and `mask`. This function however confuses correlation with convolution. **For 1 point**, find the mistake and correct it in the cell below.\n",
    "\n",
    ":::{hint}\n",
    "* The two-dimensional convolution between two images $h$ and $f$ is given by\n",
    "$$(h \\ast f)[x,y] = \\sum_{m \\in \\mathbb{Z}}\\sum_{n \\in \\mathbb{Z}}f[m,n]h[x-m,y-n]$$\n",
    "* You can find inspiration from the previous function `filter1D`.\n",
    ":::"
   ]
  },
  {
   "cell_type": "code",
   "execution_count": null,
   "metadata": {
    "kernel": "JavaScript"
   },
   "outputs": [],
   "source": [
    "%use javascript\n",
    "\n",
    "// function that performs a convolution on the two input parameters img and mask\n",
    "function filterNonSeparable(img, mask){\n",
    "    // create output Image, of the same shape as the input\n",
    "    var output = new Image(img.shape());\n",
    "    // iterate through every pixel\n",
    "    for(var x = 0; x < img.nx; x++){  \n",
    "        for(var y = 0; y < img.ny; y++){\n",
    "            // get neighbourhood with the size of mask of current position\n",
    "            var neigh = img.getNbh(x, y, mask.nx, mask.ny)\n",
    "            // perform convolution\n",
    "            var val = 0;\n",
    "            for(var k = 0; k < mask.nx; k++){\n",
    "                for(var l = 0; l < mask.ny; l++){\n",
    "                    val += neigh.getPixel(k, l) * mask.getPixel(k, l);\n",
    "                }\n",
    "            }\n",
    "            // assign value on output image\n",
    "            output.setPixel(x, y, val)\n",
    "        }\n",
    "    }\n",
    "    return output\n",
    "}"
   ]
  },
  {
   "cell_type": "markdown",
   "metadata": {
    "deletable": false,
    "editable": false,
    "kernel": "JavaScript",
    "nbgrader": {
     "cell_type": "markdown",
     "checksum": "0767c8475a4cd2d7527fb6ad12658bb1",
     "grade": false,
     "grade_id": "cell-1bf275d12cc9758b",
     "locked": true,
     "schema_version": 3,
     "solution": false,
     "task": false
    }
   },
   "source": [
    "Run the next cell to perform a sanity check (convolution of the mask with an impulse image)."
   ]
  },
  {
   "cell_type": "code",
   "execution_count": null,
   "metadata": {
    "deletable": false,
    "editable": false,
    "kernel": "JavaScript",
    "nbgrader": {
     "cell_type": "code",
     "checksum": "04f62047cdb878536f6076e77cba53af",
     "grade": true,
     "grade_id": "cell-1dabd588ee42d0a0",
     "locked": true,
     "points": 0.5,
     "schema_version": 3,
     "solution": false,
     "task": false
    }
   },
   "outputs": [],
   "source": [
    "%use javascript\n",
    "\n",
    "// Sanity check with a simple 3x3 impulse image\n",
    "var impulse = new Image([[0, 0, 0], [0, 1, 0], [0, 0, 0]]);\n",
    "// declare mask\n",
    "var mask = new Image([[-3, 1, 3],[-10, 1, 10],[-3, 1, 3]])\n",
    "var nonsymmetric_mask = new Image([[1, 2, 3],[4, 5, 6],[7, 8, 9]]);\n",
    "// check the result\n",
    "console.log('Convolving by an impulse should return the unchanged mask.\\nMask:\\n' + mask.visualize() )\n",
    "console.log('\\n' + nonsymmetric_mask.visualize())\n",
    "console.log('Symmetric Result:\\n' + filterNonSeparable(impulse, mask).visualize());\n",
    "console.log('Nonsymmetric Result:\\n' + filterNonSeparable(impulse, nonsymmetric_mask).visualize());\n",
    "if(filterNonSeparable(impulse, mask).imageCompare(mask) == false){\n",
    "    console.log('\\nWARNING!!!\\nThe function `filterNonSeparable` still provides an incorrect output.\\n')\n",
    "}else{\n",
    "    console.log('It seems that the function works with a symmetric mask.')\n",
    "    if (filterNonSeparable(impulse, nonsymmetric_mask).imageCompare(nonsymmetric_mask) == false){\n",
    "        console.log('\\nWARNING!!!\\nIt seems that the function does not work with a nonsymmetric mask however.\\n')\n",
    "    }\n",
    "    else{\n",
    "        console.log('It seems that the function also works with a nonsymmetric mask')\n",
    "    }\n",
    "}"
   ]
  },
  {
   "cell_type": "markdown",
   "metadata": {
    "deletable": false,
    "editable": false,
    "kernel": "JavaScript",
    "nbgrader": {
     "cell_type": "markdown",
     "checksum": "d752fe6385894abe87472ec827f621bb",
     "grade": false,
     "grade_id": "cell-d4b757e2b974576f",
     "locked": true,
     "schema_version": 3,
     "solution": false,
     "task": false
    }
   },
   "source": [
    "### Applying the function\n",
    "\n",
    "Run the next cell to apply the `filterNonSeparable` function with the mask given above to the images `bikesgray`, `camera` and `spots`. "
   ]
  },
  {
   "cell_type": "code",
   "execution_count": null,
   "metadata": {
    "deletable": false,
    "editable": false,
    "kernel": "JavaScript",
    "nbgrader": {
     "cell_type": "code",
     "checksum": "827422db97df4044a579451ccaae5908",
     "grade": true,
     "grade_id": "cell-43d01fbb15e5a663",
     "locked": true,
     "points": 0.5,
     "schema_version": 3,
     "solution": false,
     "task": false
    }
   },
   "outputs": [],
   "source": [
    "%use javascript\n",
    "%get bikesgray camera spots\n",
    "\n",
    "// apply nonseparable filter\n",
    "var vedge_bike_nons   = filterNonSeparable(new Image(bikesgray), mask).toArray();\n",
    "var vedge_spots_nons  = filterNonSeparable(new Image(spots),     mask).toArray();\n",
    "var vedge_camera_nons = filterNonSeparable(new Image(camera),    mask).toArray();"
   ]
  },
  {
   "cell_type": "markdown",
   "metadata": {
    "deletable": false,
    "editable": false,
    "kernel": "JavaScript",
    "nbgrader": {
     "cell_type": "markdown",
     "checksum": "a16f3f9cacccda83a5e3145d8120130e",
     "grade": false,
     "grade_id": "cell-eaf895c6a9a0fe0a",
     "locked": true,
     "schema_version": 3,
     "solution": false,
     "task": false
    }
   },
   "source": [
    "### Visualize the results\n",
    "In the next cell we will visualize the results of edge detection. "
   ]
  },
  {
   "cell_type": "code",
   "execution_count": null,
   "metadata": {
    "deletable": false,
    "editable": false,
    "kernel": "SoS",
    "nbgrader": {
     "cell_type": "code",
     "checksum": "28184dc5db4d28fa43630251903e4737",
     "grade": false,
     "grade_id": "cell-737f3f5d40ce108a",
     "locked": true,
     "schema_version": 3,
     "solution": false,
     "task": false
    }
   },
   "outputs": [],
   "source": [
    "%use sos\n",
    "%get vedge_bike_nons vedge_camera_nons vedge_spots_nons --from javascript\n",
    "\n",
    "# Declare parameters for viewer\n",
    "image_list_nons = [vedge_bike_nons, vedge_camera_nons, vedge_spots_nons]\n",
    "title_list = ['Bike - Vertical edges', 'Camera - Vertical edges', 'Spots - Vertical edges']\n",
    "\n",
    "# Make sure that the images are numpy arrays and not lists\n",
    "for image in range(len(image_list_nons)):\n",
    "    image_list_nons[image] = np.array(image_list_nons[image])\n",
    "\n",
    "vedge_nons_viewer = viewer(image_list_nons, title=title_list, widgets=True)"
   ]
  },
  {
   "cell_type": "markdown",
   "metadata": {
    "deletable": false,
    "editable": false,
    "kernel": "Python3",
    "nbgrader": {
     "cell_type": "markdown",
     "checksum": "d8a76c31a72b7e6868268db88023accd",
     "grade": false,
     "grade_id": "cell-c52bb35862da59d5",
     "locked": true,
     "schema_version": 3,
     "solution": false,
     "task": false
    },
    "user_expressions": []
   },
   "source": [
    "(comparison-separable-vs-non-separable)=\n",
    "## 1.C. Comparison: Separable vs Nonseparable\n",
    "[Back to table of contents](#ToC_1_Filtering)\n",
    "\n",
    "Are the results of the the separable and nonseparable implementations of a separable filter the same? If both your implementations are correct, the difference should be negligible. \n",
    "\n",
    "Run the next cell to apply your nonseparable implementation to the images `bikesgray`, `camera` and `spots`, using the Sobel filter at the [beginning of this section](#edge-detection). "
   ]
  },
  {
   "cell_type": "code",
   "execution_count": null,
   "metadata": {
    "deletable": false,
    "editable": false,
    "kernel": "JavaScript",
    "nbgrader": {
     "cell_type": "code",
     "checksum": "0ab21bbfb3ee79652abeb6ba51b5e764",
     "grade": false,
     "grade_id": "cell-8c6f523d67db39a0",
     "locked": true,
     "schema_version": 3,
     "solution": false,
     "task": false
    }
   },
   "outputs": [],
   "source": [
    "%use javascript\n",
    "%get bikesgray camera spots\n",
    "\n",
    "var mask = new Image([[-1, 0, 1],[-2, 0, 2],[-1, 0, 1]]);\n",
    "\n",
    "// apply Non separable filter\n",
    "var vedge_bike_nons   = filterNonSeparable(new Image(bikesgray), mask).toArray();\n",
    "var vedge_spots_nons  = filterNonSeparable(new Image(spots),     mask).toArray();\n",
    "var vedge_camera_nons = filterNonSeparable(new Image(camera),    mask).toArray();"
   ]
  },
  {
   "cell_type": "markdown",
   "metadata": {
    "deletable": false,
    "editable": false,
    "kernel": "Python3",
    "nbgrader": {
     "cell_type": "markdown",
     "checksum": "410cd283ffd0b0bdac4085007e55f9d0",
     "grade": false,
     "grade_id": "cell-6d5e3fa0a8ade391",
     "locked": true,
     "schema_version": 3,
     "solution": false,
     "task": false
    },
    "user_expressions": []
   },
   "source": [
    "Now, go ahead and do some exploration! Try to plot some of the images next to each other, look at the two histograms, zoom into different areas of the three images, and see if they are truly equal. There are several tests you can do to measure the equality of both implementations. You can even take the difference between the two images and visualize it (`image1 - image2`), or you can use the different functions provided by NumPy to compare arrays (see [numpy.testing.assert_array_equal](https://numpy.org/doc/stable/reference/generated/numpy.testing.assert_array_equal.html) and [numpy.testing.assert_array_almost_equal](https://numpy.org/doc/stable/reference/generated/numpy.testing.assert_array_almost_equal.html)).\n",
    "\n",
    "\n",
    "Use the next blank cell to do any necessary exploration! Note that we have gotten the filtered images from the JavaScript kernel, put them in a list called `image_list_nons` and ensured that they are NumPy arrays."
   ]
  },
  {
   "cell_type": "code",
   "execution_count": null,
   "metadata": {
    "deletable": false,
    "kernel": "SoS",
    "nbgrader": {
     "cell_type": "code",
     "checksum": "9e82844a6eb8f61591ee3ca2d533e310",
     "grade": false,
     "grade_id": "cell-cf3ac27ebe1266d6",
     "locked": false,
     "schema_version": 3,
     "solution": true,
     "task": false
    }
   },
   "outputs": [],
   "source": [
    "%use sos\n",
    "%get vedge_bike_nons vedge_camera_nons vedge_spots_nons --from javascript\n",
    "\n",
    "# Declare parameters for viewer\n",
    "image_list_nons = [vedge_bike_nons, vedge_camera_nons, vedge_spots_nons]\n",
    "title_list = ['Bike - Vertical edges', 'Camera - Vertical edges', 'Spots - Vertical edges']\n",
    "\n",
    "# Make sure that the images are numpy arrays and not lists\n",
    "for image in range(len(image_list_nons)):\n",
    "    image_list_nons[image] = np.array(image_list_nons[image])\n",
    "\n",
    "# YOUR CODE HERE"
   ]
  },
  {
   "cell_type": "markdown",
   "metadata": {
    "deletable": false,
    "editable": false,
    "kernel": "Python3",
    "nbgrader": {
     "cell_type": "markdown",
     "checksum": "7b8353a45286c0268298cd5d6164a803",
     "grade": false,
     "grade_id": "cell-89cfd0072f776104",
     "locked": true,
     "schema_version": 3,
     "solution": false,
     "task": false
    },
    "user_expressions": []
   },
   "source": [
    "(edge-detection-in-python)=\n",
    "## 1.D. Edge detection in Python\n",
    "[Back to table of contents](#ToC_1_Filtering)\n",
    "\n",
    "In Python, the two functions `filterNonSeparable` and `filterSeparable` you implemented correspond to [`convolve`](https://docs.scipy.org/doc/scipy/reference/generated/scipy.ndimage.convolve.html) and [`convolve1d`](https://docs.scipy.org/doc/scipy/reference/generated/scipy.ndimage.convolve1d.html) from the [`scipy.ndimage`](https://docs.scipy.org/doc/scipy/reference/ndimage.html) library. We will compare your implementation with them. Read the documentation of `convolve` and `convolve1d` and pay attention to the usage of these two functions in the next cell as you will use these functions in the next section.\n",
    "\n",
    "If you did everything correctly in the [section on nonseparable implementation](#non-separable-implementation) and the [section on separable implementation](#separable-implementation), the next cell will display a winning message. Otherwise, it will plot your images with the regions that differ from the correct answer highlighted in red, this should give you a clue on where you might have gone wrong. For this purpose we will use the function [`np.allclose`](https://numpy.org/doc/stable/reference/generated/numpy.allclose.html), a standard NumPy comparison tool. Furthermore, you can uncomment the final line to visualize the four edge detections we have so far.\n",
    "\n",
    ":::{note}\n",
    "In this lab we have been using `float64` ($64$-bit floating point) as the `dtype` (which stands for *data type*) of the images (look at the [Imports section](#imports). This `dtype` is the most versatile, and since the `dtype` of the output array is the same (by default) as the dtype of the input array, we don't really need to mind the `output` parameter right now. \n",
    "\n",
    "However, it is also very common to store images and work with them as `np.uint8` (8-bit unsigned integer, which as you should know spans the range $[0, 255]$). Nonetheless we know that the gradient can take large positive and negative values, so an [unsigned integer](https://en.wikipedia.org/wiki/Integer_(computer_science)) is not the right type. If you don't realize why, do a quick experiment: declare a NumPy Array of length one, of data type `'uint8'`, and assign a value outside of the range $[0, 255]$ (e.g. `np.array([300], dtype = 'uint8')`). Perform a few operations and see what happens.\n",
    "\n",
    "If at some point you need to work with integers (e.g. to save memory or to increase performance), because we know that the result will still be an integer -the mask only contains integers- you can choose `np.int32` (32-bit signed integers). \n",
    "This is something that you will have to keep in mind constantly when working with images, and that can be the source of many bugs.\n",
    ":::"
   ]
  },
  {
   "cell_type": "code",
   "execution_count": null,
   "metadata": {
    "kernel": "SoS"
   },
   "outputs": [],
   "source": [
    "%use sos \n",
    "# Define the 2D mask\n",
    "mask = np.array([[-1, 0, 1],[-2, 0, 2],[-1, 0, 1]])\n",
    "# Apply nonseparable implementation with 2D mask\n",
    "vedge_ndi = ndi.convolve(bikesgray, mask, output=np.int32)\n",
    "\n",
    "# Apply separable implementation - we use mask_x and mask_y you defined in the exercise before\n",
    "# filter the columns\n",
    "vedge_ndi_s = ndi.convolve1d(bikesgray, mask_y, axis=0, output=np.float64)\n",
    "# filter the rows\n",
    "vedge_ndi_s = ndi.convolve1d(vedge_ndi_s, mask_x, axis=1, output=np.float64)\n",
    "\n",
    "# Visualize if necessary\n",
    "plt.close('all')\n",
    "if np.allclose(vedge_ndi, vedge_bike_nons):\n",
    "    print('Your nonseparable implementation is correct!')\n",
    "else :\n",
    "    print('Review your nonseparable JS implementation!')\n",
    "    viewer([np.array(vedge_bike_nons), vedge_ndi], title=['JS nonseparable', 'Python nonseparable'], compare=True)\n",
    "\n",
    "if np.allclose(vedge_ndi_s, vedge_bike_s):\n",
    "    print('Congratulations!\\nYour separable filter is correct!')\n",
    "else :\n",
    "    print('Review your separable JS implementation!\\\n",
    "           \\nThe problem could be either on your 1D masks, or on the implementation itself. The previous sanity checks and the red areas should guide you.')\n",
    "    viewer([np.array(vedge_bike_s), vedge_ndi_s], title=['JS separable', 'Python separable'], compare=True)\n",
    "\n",
    "# Uncomment the following line to visualize the four edge detections we have done so far\n",
    "# vedge_viewer = viewer([np.array(vedge_bike_nons), vedge_ndi, np.array(vedge_bike_s), vedge_ndi_s], title=['JS nonseparable', 'Python nonseparable', 'JS separable', 'Python separable'], subplots=(2,2))"
   ]
  },
  {
   "cell_type": "markdown",
   "metadata": {
    "deletable": false,
    "editable": false,
    "kernel": "SoS",
    "nbgrader": {
     "cell_type": "markdown",
     "checksum": "cedf569bbb605b20cc3229f23c5db10e",
     "grade": false,
     "grade_id": "cell-88ed9417d9374ead",
     "locked": true,
     "schema_version": 3,
     "solution": false,
     "task": false
    },
    "user_expressions": []
   },
   "source": [
    "(implementation-and-classification-of-digital-filters)=\n",
    "# 2. Implementation and classification of digital filters (6 points)\n",
    "[Back to table of contents](#ToC_1_Filtering)\n",
    "\n",
    "In this exercise, we will practice the implementation and classification of masks or digital filters. Moreover, you will practice separable and nonseparable implementations in Python. You will implement 6 functions in Python that correspon to 6 different digital filters. Each of them takes an input image and outputs the filtered version of it. You need to\n",
    "* hard code the mask inside the function,\n",
    "* apply the filtering using either `convolve` and `convolve1d`, depending on if the filter is separable.\n",
    "\n",
    "**If a mask is separable and you don't implement it as such, you will not get the point. You should always use `convolve` for nonseparable filters and `convolve1d` for separable ones.**\n",
    "Implementing each function is worth **0.5** points, classifing their visual effect is worth **0.5** points. \n",
    "\n",
    "You can define 1D and 2D filters as 1D and 2D numpy arrays, e.g.\n",
    "```python\n",
    "mask = np.array([1, 2])\n",
    "```\n",
    "```python\n",
    "mask = np.array([[ 1,  2], \n",
    "                 [ 6,  7]])\n",
    "```\n",
    "\n",
    ":::{note}Note on the separability of filters\n",
    "Some filters, in particular simple edge detector filters can intuitively be recognized as separable. Furthermore, their $1\\mathrm{D}$ masks can also be intuitively found. From these $1\\mathrm{D}$ masks, a simple test consists in taking the outer product between them, which should result in the original filter. However, there is a more systematic approach.\n",
    "\n",
    "As you should know, any matrix $\\mathbf{\\mathrm{M}}\\in\\mathbb{R}^{m\\times n}$ can be factorized into its components $\\mathbf{\\mathrm{USV^{T}}}$ by Singular Value Decomposition, where $\\mathbf{\\mathrm{U}}\\in\\mathbb{R}^{m\\times m}$, $\\mathbf{\\mathrm{S}}\\in\\mathbb{R}^{\\min(m, n)\\times \\min(m, n)}$ corresponds to a diagonal matrix with the singular values of $\\mathbf{\\mathrm{M}}$, and $\\mathbf{\\mathrm{V}}\\in\\mathbb{R}^{n\\times n}$. It follows from the definition of the matrix product that if only one singular value is larger than zero, the filter is separable.\n",
    "\n",
    "Nonetheless, for simple filters, we still recommend you to use the *intuitive* filters. If you want to extract the filters using SVD, you can use the [`svd`](https://numpy.org/doc/stable/reference/generated/numpy.linalg.svd.html) function of the NumPy Linear Algebra package. We leave you the task of extracting the actual $1\\mathrm{D}$ masks from it.\n",
    ":::"
   ]
  },
  {
   "cell_type": "markdown",
   "metadata": {
    "deletable": false,
    "editable": false,
    "kernel": "SoS",
    "nbgrader": {
     "cell_type": "markdown",
     "checksum": "320a50f6dce3be38147908aef478f77e",
     "grade": false,
     "grade_id": "cell-25f8efa499cc3a13",
     "locked": true,
     "schema_version": 3,
     "solution": false,
     "task": false
    },
    "user_expressions": []
   },
   "source": [
    "(mask-a)=\n",
    "## 2.A. Mask A\n",
    "[Back to table of contents](#ToC_1_Filtering)\n",
    "\n",
    "```python3\n",
    "    [ 0,  0,  1,  0,  0]\n",
    "    [ 0,  1,  2,  1,  0]\n",
    "A = [ 1,  2,-16,  2,  1]\n",
    "    [ 0,  1,  2,  1,  0]\n",
    "    [ 0,  0,  1,  0,  0]\n",
    "```"
   ]
  },
  {
   "cell_type": "code",
   "execution_count": null,
   "metadata": {
    "deletable": false,
    "kernel": "SoS",
    "nbgrader": {
     "cell_type": "code",
     "checksum": "c298d25b55cb52bcf21751e508886873",
     "grade": false,
     "grade_id": "cell-a49df00199c666c4",
     "locked": false,
     "schema_version": 3,
     "solution": true,
     "task": false
    }
   },
   "outputs": [],
   "source": [
    "%use sos\n",
    "\n",
    "# Function that filters img with the mask A\n",
    "def filter_A(img):\n",
    "    output = img.copy()\n",
    "    \n",
    "    # Filter the image with mask A    \n",
    "    # YOUR CODE HERE\n",
    "    \n",
    "    return output"
   ]
  },
  {
   "cell_type": "markdown",
   "metadata": {
    "deletable": false,
    "editable": false,
    "kernel": "SoS",
    "nbgrader": {
     "cell_type": "markdown",
     "checksum": "38f38225b64c885af348a81ad4c92ae3",
     "grade": false,
     "grade_id": "cell-94a0847393c20373",
     "locked": true,
     "schema_version": 3,
     "solution": false,
     "task": false
    },
    "user_expressions": []
   },
   "source": [
    "Run the next cell to visualize the result of applying `filter_A` to the image `bikesgray`. "
   ]
  },
  {
   "cell_type": "code",
   "execution_count": null,
   "metadata": {
    "deletable": false,
    "editable": false,
    "kernel": "SoS",
    "nbgrader": {
     "cell_type": "code",
     "checksum": "9004b631e96b7b5d04a9759b2a0a0ce6",
     "grade": true,
     "grade_id": "cell-1ff60c4e8ad4a813",
     "locked": true,
     "points": 0.5,
     "schema_version": 3,
     "solution": false,
     "task": false
    }
   },
   "outputs": [],
   "source": [
    "%use sos\n",
    "# Apply the function\n",
    "bikesgray_A = filter_A(bikesgray)\n",
    "# Visualize the result\n",
    "plt.close('all')\n",
    "vis_A = viewer([bikesgray, bikesgray_A], title=['Original', 'Convolved with filter A'], subplots=(1,2))"
   ]
  },
  {
   "cell_type": "markdown",
   "metadata": {
    "deletable": false,
    "editable": false,
    "kernel": "SoS",
    "nbgrader": {
     "cell_type": "markdown",
     "checksum": "e2505a5335a823acbcadba42f68bc78a",
     "grade": false,
     "grade_id": "cell-8685fc2ecdf287cb",
     "locked": true,
     "schema_version": 3,
     "solution": false,
     "task": false
    }
   },
   "source": [
    "**For 0.5 points** answer the following MCQ:\n",
    "\n",
    "* Which of the following keywords best describes the visual effect of this filter?\n",
    "\n",
    "1. isotropic blurring, or\n",
    "2. vertical blurring, or\n",
    "3. horizontal blurring, or\n",
    "4. diagonal blurring, or\n",
    "5. sharpening, or\n",
    "6. vertical-edge detection, or\n",
    "7. horizontal-edge detection, or\n",
    "8. diagonal edge detection, or\n",
    "9. reveal edges and details in any directions (by a Laplacian filter), or\n",
    "10. it has not effect."
   ]
  },
  {
   "cell_type": "code",
   "execution_count": null,
   "metadata": {
    "deletable": false,
    "kernel": "SoS",
    "nbgrader": {
     "cell_type": "code",
     "checksum": "0f7345dbe970dd48259855c43841c0b8",
     "grade": false,
     "grade_id": "cell-5447a7b75c32f43d",
     "locked": false,
     "schema_version": 3,
     "solution": true,
     "task": false
    }
   },
   "outputs": [],
   "source": [
    "%use sos\n",
    "# Assign your answer to this variable\n",
    "answer = None\n",
    "# YOUR CODE HERE"
   ]
  },
  {
   "cell_type": "code",
   "execution_count": null,
   "metadata": {
    "deletable": false,
    "editable": false,
    "kernel": "SoS",
    "nbgrader": {
     "cell_type": "code",
     "checksum": "274fc45d45bce868cbc82b1663617057",
     "grade": true,
     "grade_id": "cell-1aae516709224dc8",
     "locked": true,
     "points": 0.5,
     "schema_version": 3,
     "solution": false,
     "task": false
    }
   },
   "outputs": [],
   "source": [
    "%use sos\n",
    "# Sanity check\n",
    "if not answer in list(range(1,11)):\n",
    "    print('WARNING!\\nAnswer one of 1, 2, 3, 4, 5, 6, 7, 8, 9 or 10.')"
   ]
  },
  {
   "cell_type": "markdown",
   "metadata": {
    "deletable": false,
    "editable": false,
    "kernel": "SoS",
    "nbgrader": {
     "cell_type": "markdown",
     "checksum": "f040c257d8aa6bc7bfca93cda55fb3e3",
     "grade": false,
     "grade_id": "cell-d287c24b60062255",
     "locked": true,
     "schema_version": 3,
     "solution": false,
     "task": false
    },
    "user_expressions": []
   },
   "source": [
    "(mask-b)=\n",
    "## 2.B. Mask B\n",
    "[Back to table of contents](#ToC_1_Filtering)\n",
    "\n",
    "```python3\n",
    "    [ 0,  1,  2,  1,  0]\n",
    "    [ 0,  1,  2,  1,  0]\n",
    "B = [ 0,  1,  2,  1,  0]\n",
    "    [ 0,  1,  2,  1,  0]\n",
    "    [ 0,  1,  2,  1,  0]\n",
    "```"
   ]
  },
  {
   "cell_type": "code",
   "execution_count": null,
   "metadata": {
    "deletable": false,
    "kernel": "SoS",
    "nbgrader": {
     "cell_type": "code",
     "checksum": "77fc44d8ca4d073186d338a59cc18e74",
     "grade": false,
     "grade_id": "cell-ea68ff81d2e30188",
     "locked": false,
     "schema_version": 3,
     "solution": true,
     "task": false
    }
   },
   "outputs": [],
   "source": [
    "%use sos\n",
    "\n",
    "# Function that filters img with the mask B\n",
    "def filter_B(img):\n",
    "    output = img.copy()\n",
    "    \n",
    "    # Filter the image with mask B    \n",
    "    # YOUR CODE HERE\n",
    "    \n",
    "    return output"
   ]
  },
  {
   "cell_type": "markdown",
   "metadata": {
    "deletable": false,
    "editable": false,
    "kernel": "SoS",
    "nbgrader": {
     "cell_type": "markdown",
     "checksum": "7d532563fe86aa6ce9b9c94fd8bbce83",
     "grade": false,
     "grade_id": "cell-3caffb4abde56d6a",
     "locked": true,
     "schema_version": 3,
     "solution": false,
     "task": false
    }
   },
   "source": [
    "Run the next cell to visualize the result of applying `filter_B` to the image `bikesgray`."
   ]
  },
  {
   "cell_type": "code",
   "execution_count": null,
   "metadata": {
    "deletable": false,
    "editable": false,
    "kernel": "SoS",
    "nbgrader": {
     "cell_type": "code",
     "checksum": "e5007b6b62ffb34cf7c5df2464771372",
     "grade": true,
     "grade_id": "cell-4bd2f074776e8c20",
     "locked": true,
     "points": 0.5,
     "schema_version": 3,
     "solution": false,
     "task": false
    }
   },
   "outputs": [],
   "source": [
    "%use sos\n",
    "# Apply the function\n",
    "bikesgray_B = filter_B(bikesgray)\n",
    "# Visualize the result\n",
    "plt.close('all')\n",
    "vis_B = viewer([bikesgray, bikesgray_B], title=['Original', 'Filtered with mask B'], subplots=(1,2))"
   ]
  },
  {
   "cell_type": "markdown",
   "metadata": {
    "deletable": false,
    "editable": false,
    "kernel": "SoS",
    "nbgrader": {
     "cell_type": "markdown",
     "checksum": "b6e8085d81248497381eecf25593017e",
     "grade": false,
     "grade_id": "cell-b1fd0c4867b8446f",
     "locked": true,
     "schema_version": 3,
     "solution": false,
     "task": false
    }
   },
   "source": [
    "**For 0.5 points** answer the following MCQ:\n",
    "\n",
    "* Which of the following keywords best describes the visual effect of this filter?\n",
    "\n",
    "1. isotropic blurring, or\n",
    "2. vertical blurring, or\n",
    "3. horizontal blurring, or\n",
    "4. diagonal blurring, or\n",
    "5. sharpening, or\n",
    "6. vertical-edge detection, or\n",
    "7. horizontal-edge detection, or\n",
    "8. diagonal edge detection, or\n",
    "9. reveal edges and details in any directions (by a Laplacian filter), or\n",
    "10. it has not effect."
   ]
  },
  {
   "cell_type": "code",
   "execution_count": null,
   "metadata": {
    "deletable": false,
    "kernel": "SoS",
    "nbgrader": {
     "cell_type": "code",
     "checksum": "aab9e1b215ce5a4bc943f3119d8c5e0d",
     "grade": false,
     "grade_id": "cell-28826dd8aeee4fbd",
     "locked": false,
     "schema_version": 3,
     "solution": true,
     "task": false
    }
   },
   "outputs": [],
   "source": [
    "%use sos\n",
    "# Assign your answer to this variable\n",
    "answer = None\n",
    "# YOUR CODE HERE"
   ]
  },
  {
   "cell_type": "code",
   "execution_count": null,
   "metadata": {
    "deletable": false,
    "editable": false,
    "kernel": "SoS",
    "nbgrader": {
     "cell_type": "code",
     "checksum": "8a76d77a7bea5a8d0f6a4c95e18b2a97",
     "grade": true,
     "grade_id": "cell-69d785a8379b181c",
     "locked": true,
     "points": 0.5,
     "schema_version": 3,
     "solution": false,
     "task": false
    }
   },
   "outputs": [],
   "source": [
    "%use sos\n",
    "# Sanity check\n",
    "if not answer in list(range(1,11)):\n",
    "    print('WARNING!\\nAnswer one of 1, 2, 3, 4, 5, 6, 7, 8, 9 or 10.')"
   ]
  },
  {
   "cell_type": "markdown",
   "metadata": {
    "deletable": false,
    "editable": false,
    "kernel": "SoS",
    "nbgrader": {
     "cell_type": "markdown",
     "checksum": "6c99f6921d88592e70b00c45a2708554",
     "grade": false,
     "grade_id": "cell-f92cafcf93a0db16",
     "locked": true,
     "schema_version": 3,
     "solution": false,
     "task": false
    },
    "user_expressions": []
   },
   "source": [
    "(mask-c)=\n",
    "## 2.C. Mask C\n",
    "[Back to table of contents](#ToC_1_Filtering)\n",
    "\n",
    "```python3\n",
    "    [-1,  -1,  -1,  -1,  -1]\n",
    "    [-2,  -2,  -2,  -2,  -2]\n",
    "C = [ 0,   0,   0,   0,   0]\n",
    "    [ 2,   2,   2,   2,   2]\n",
    "    [ 1,   1,   1,   1,   1]\n",
    "```"
   ]
  },
  {
   "cell_type": "code",
   "execution_count": null,
   "metadata": {
    "deletable": false,
    "kernel": "SoS",
    "nbgrader": {
     "cell_type": "code",
     "checksum": "d4ebd0e91eebae1225254a0ecdee77fe",
     "grade": false,
     "grade_id": "cell-272af542af1aac69",
     "locked": false,
     "schema_version": 3,
     "solution": true,
     "task": false
    }
   },
   "outputs": [],
   "source": [
    "%use sos\n",
    "\n",
    "# Function that filters img with the mask C\n",
    "def filter_C(img):\n",
    "    output = img.copy()\n",
    "    \n",
    "    # Filter the image with mask C\n",
    "    \n",
    "    # YOUR CODE HERE\n",
    "    \n",
    "    return output"
   ]
  },
  {
   "cell_type": "markdown",
   "metadata": {
    "deletable": false,
    "editable": false,
    "kernel": "SoS",
    "nbgrader": {
     "cell_type": "markdown",
     "checksum": "55d764b8c000eed8a8b59844d2b98708",
     "grade": false,
     "grade_id": "cell-94d15031d58549ee",
     "locked": true,
     "schema_version": 3,
     "solution": false,
     "task": false
    }
   },
   "source": [
    "Run the next cell to visualize the result of applying `filter_C` to the image `bikesgray`."
   ]
  },
  {
   "cell_type": "code",
   "execution_count": null,
   "metadata": {
    "deletable": false,
    "editable": false,
    "kernel": "SoS",
    "nbgrader": {
     "cell_type": "code",
     "checksum": "d1bcca621f7486c8e77a949703a245b2",
     "grade": true,
     "grade_id": "cell-912e231be098ed1c",
     "locked": true,
     "points": 0.5,
     "schema_version": 3,
     "solution": false,
     "task": false
    }
   },
   "outputs": [],
   "source": [
    "%use sos\n",
    "# Apply the function\n",
    "bikesgray_C = filter_C(bikesgray)\n",
    "# Visualize the result\n",
    "plt.close('all')\n",
    "vis_C = viewer([bikesgray, bikesgray_C], title=['Original', 'Filtered with mask C'], subplots=(1,2))"
   ]
  },
  {
   "cell_type": "markdown",
   "metadata": {
    "deletable": false,
    "editable": false,
    "kernel": "SoS",
    "nbgrader": {
     "cell_type": "markdown",
     "checksum": "69e06a7677987c516ebb354798f9b9ee",
     "grade": false,
     "grade_id": "cell-91f9deee1a55bd99",
     "locked": true,
     "schema_version": 3,
     "solution": false,
     "task": false
    }
   },
   "source": [
    "**For 0.5 points** answer the following MCQ:\n",
    "\n",
    "* Which of the following keywords best describes the visual effect of this filter?\n",
    "\n",
    "1. isotropic blurring, or\n",
    "2. vertical blurring, or\n",
    "3. horizontal blurring, or\n",
    "4. diagonal blurring, or\n",
    "5. sharpening, or\n",
    "6. vertical-edge detection, or\n",
    "7. horizontal-edge detection, or\n",
    "8. diagonal edge detection, or\n",
    "9. reveal edges and details in any directions (by a Laplacian filter), or\n",
    "10. it has not effect."
   ]
  },
  {
   "cell_type": "code",
   "execution_count": null,
   "metadata": {
    "deletable": false,
    "kernel": "SoS",
    "nbgrader": {
     "cell_type": "code",
     "checksum": "ac5e56905c80dafc1a3a5a932dacbaa7",
     "grade": false,
     "grade_id": "cell-f16ee02c059ed28a",
     "locked": false,
     "schema_version": 3,
     "solution": true,
     "task": false
    }
   },
   "outputs": [],
   "source": [
    "%use sos\n",
    "# Assign your answer to this variable\n",
    "answer = None\n",
    "# YOUR CODE HERE"
   ]
  },
  {
   "cell_type": "code",
   "execution_count": null,
   "metadata": {
    "deletable": false,
    "editable": false,
    "kernel": "SoS",
    "nbgrader": {
     "cell_type": "code",
     "checksum": "1ccee61ac1dad52684d7c03f30c0853d",
     "grade": true,
     "grade_id": "cell-6186de8d22151933",
     "locked": true,
     "points": 0.5,
     "schema_version": 3,
     "solution": false,
     "task": false
    }
   },
   "outputs": [],
   "source": [
    "%use sos\n",
    "# Sanity check\n",
    "if not answer in list(range(1,11)):\n",
    "    print('WARNING!\\nAnswer one of 1, 2, 3, 4, 5, 6, 7, 8, 9 or 10.')"
   ]
  },
  {
   "cell_type": "markdown",
   "metadata": {
    "deletable": false,
    "editable": false,
    "kernel": "SoS",
    "nbgrader": {
     "cell_type": "markdown",
     "checksum": "d418b7429bcdc01be21c9ffda4f83b53",
     "grade": false,
     "grade_id": "cell-43a53842332bbb66",
     "locked": true,
     "schema_version": 3,
     "solution": false,
     "task": false
    },
    "user_expressions": []
   },
   "source": [
    "(mask-d)=\n",
    "## 2.D. Mask D\n",
    "[Back to table of contents](#ToC_1_Filtering)\n",
    "\n",
    "```python3\n",
    "    [-1,  -4,  -6,  -4, -1]\n",
    "    [-4, -16, -24, -16, -4]\n",
    "D = [-6, -24, 476, -24, -6]\n",
    "    [-4, -16, -24, -16, -4]\n",
    "    [-1,  -4,  -6,  -4, -1]\n",
    "```"
   ]
  },
  {
   "cell_type": "code",
   "execution_count": null,
   "metadata": {
    "deletable": false,
    "kernel": "SoS",
    "nbgrader": {
     "cell_type": "code",
     "checksum": "f867f64598ca848fd55a61a1153e1281",
     "grade": false,
     "grade_id": "cell-4ab67e5043c326fc",
     "locked": false,
     "schema_version": 3,
     "solution": true,
     "task": false
    }
   },
   "outputs": [],
   "source": [
    "%use sos\n",
    "\n",
    "# Function that filters img with the mask D\n",
    "def filter_D(img):\n",
    "    output = img.copy()\n",
    "    \n",
    "    # Filter the image with mask D\n",
    "    \n",
    "    # YOUR CODE HERE\n",
    "    \n",
    "    return output"
   ]
  },
  {
   "cell_type": "markdown",
   "metadata": {
    "deletable": false,
    "editable": false,
    "kernel": "SoS",
    "nbgrader": {
     "cell_type": "markdown",
     "checksum": "b66a6da2992fcafb581bef614429edce",
     "grade": false,
     "grade_id": "cell-c647c16bf1a486a2",
     "locked": true,
     "schema_version": 3,
     "solution": false,
     "task": false
    }
   },
   "source": [
    "Run the next cell to visualize the result of applying `filter_D` to the image `bikesgray`."
   ]
  },
  {
   "cell_type": "code",
   "execution_count": null,
   "metadata": {
    "deletable": false,
    "editable": false,
    "kernel": "SoS",
    "nbgrader": {
     "cell_type": "code",
     "checksum": "d7a609f5464a8f823640c06fd77a4818",
     "grade": true,
     "grade_id": "cell-cc68125ec3aea436",
     "locked": true,
     "points": 0.5,
     "schema_version": 3,
     "solution": false,
     "task": false
    }
   },
   "outputs": [],
   "source": [
    "%use sos\n",
    "# Apply the function\n",
    "bikesgray_D = filter_D(bikesgray)\n",
    "# Visualize the result\n",
    "plt.close('all')\n",
    "vis_D = viewer([bikesgray, bikesgray_D], title=['Original', 'Filtered with mask D'], subplots=(1,2))"
   ]
  },
  {
   "cell_type": "markdown",
   "metadata": {
    "kernel": "SoS"
   },
   "source": [
    "**For 0.5 points** answer the following MCQ:\n",
    "\n",
    "* Which of the following keywords best describes the visual effect of this filter?\n",
    "\n",
    "1. isotropic blurring, or\n",
    "2. vertical blurring, or\n",
    "3. horizontal blurring, or\n",
    "4. diagonal blurring, or\n",
    "5. sharpening, or\n",
    "6. vertical-edge detection, or\n",
    "7. horizontal-edge detection, or\n",
    "8. diagonal edge detection, or\n",
    "9. reveal edges and details in any directions (by a Laplacian filter), or\n",
    "10. it has not effect."
   ]
  },
  {
   "cell_type": "code",
   "execution_count": null,
   "metadata": {
    "deletable": false,
    "kernel": "SoS",
    "nbgrader": {
     "cell_type": "code",
     "checksum": "d04a63a648c6b9a16259c8289661b874",
     "grade": false,
     "grade_id": "cell-deab1ba862c2eff9",
     "locked": false,
     "schema_version": 3,
     "solution": true,
     "task": false
    }
   },
   "outputs": [],
   "source": [
    "%use sos\n",
    "# Assign your answer to this variable\n",
    "answer = None\n",
    "# YOUR CODE HERE"
   ]
  },
  {
   "cell_type": "code",
   "execution_count": null,
   "metadata": {
    "deletable": false,
    "editable": false,
    "kernel": "SoS",
    "nbgrader": {
     "cell_type": "code",
     "checksum": "baa4ac6bfb9272bf88c04452c10ea95b",
     "grade": true,
     "grade_id": "cell-8e4a71699dc0e13a",
     "locked": true,
     "points": 0.5,
     "schema_version": 3,
     "solution": false,
     "task": false
    }
   },
   "outputs": [],
   "source": [
    "%use sos\n",
    "# Sanity check\n",
    "if not answer in list(range(1,11)):\n",
    "    print('WARNING!\\nAnswer one of 1, 2, 3, 4, 5, 6, 7, 8, 9 or 10.')"
   ]
  },
  {
   "cell_type": "markdown",
   "metadata": {
    "deletable": false,
    "editable": false,
    "kernel": "SoS",
    "nbgrader": {
     "cell_type": "markdown",
     "checksum": "d1fedd21e31102a085545ded22fb177c",
     "grade": false,
     "grade_id": "cell-f2e72c21bcc037a0",
     "locked": true,
     "schema_version": 3,
     "solution": false,
     "task": false
    },
    "user_expressions": []
   },
   "source": [
    "(mask-e)=\n",
    "## 2.E. Mask E\n",
    "[Back to table of contents](#ToC_1_Filtering)\n",
    "\n",
    "```python3\n",
    "    [1, 1, 1, 1, 1]\n",
    "    [1, 1, 1, 1, 1]\n",
    "E = [1, 1, 1, 1, 1]\n",
    "    [1, 1, 1, 1, 1]\n",
    "    [1, 1, 1, 1, 1]\n",
    "```"
   ]
  },
  {
   "cell_type": "code",
   "execution_count": null,
   "metadata": {
    "deletable": false,
    "kernel": "SoS",
    "nbgrader": {
     "cell_type": "code",
     "checksum": "03b6f232887702f119d30ab64e29d8d5",
     "grade": false,
     "grade_id": "cell-173cb71050c2c7e1",
     "locked": false,
     "schema_version": 3,
     "solution": true,
     "task": false
    }
   },
   "outputs": [],
   "source": [
    "%use sos\n",
    "\n",
    "# Function that filters img with the mask E\n",
    "def filter_E(img):\n",
    "    output = img.copy()\n",
    "    \n",
    "    # Filter the image with mask E\n",
    "    \n",
    "    # YOUR CODE HERE\n",
    "    \n",
    "    return output"
   ]
  },
  {
   "cell_type": "markdown",
   "metadata": {
    "deletable": false,
    "editable": false,
    "kernel": "SoS",
    "nbgrader": {
     "cell_type": "markdown",
     "checksum": "c2b34a7dc79f864e4c89a7ad327fc30a",
     "grade": false,
     "grade_id": "cell-7a9854133b2bfe83",
     "locked": true,
     "schema_version": 3,
     "solution": false,
     "task": false
    }
   },
   "source": [
    "Run the next cell to visualize the result of applying `filter_E` to the image `bikesgray`."
   ]
  },
  {
   "cell_type": "code",
   "execution_count": null,
   "metadata": {
    "deletable": false,
    "editable": false,
    "kernel": "SoS",
    "nbgrader": {
     "cell_type": "code",
     "checksum": "3d0f6b89ec2b749c1a750d05fe4a9f36",
     "grade": true,
     "grade_id": "cell-817aa10b2ac7c506",
     "locked": true,
     "points": 0.5,
     "schema_version": 3,
     "solution": false,
     "task": false
    }
   },
   "outputs": [],
   "source": [
    "%use sos\n",
    "# Apply the function\n",
    "bikesgray_E = filter_E(bikesgray)\n",
    "# Visualize the result\n",
    "plt.close('all')\n",
    "vis_E = viewer([bikesgray, bikesgray_E], title=['Original', 'Filtered with mask E'], subplots=(1,2))"
   ]
  },
  {
   "cell_type": "markdown",
   "metadata": {
    "deletable": false,
    "editable": false,
    "kernel": "SoS",
    "nbgrader": {
     "cell_type": "markdown",
     "checksum": "012d0af383fc344d1f681627d9061fe1",
     "grade": false,
     "grade_id": "cell-88f79d21ec289e43",
     "locked": true,
     "schema_version": 3,
     "solution": false,
     "task": false
    }
   },
   "source": [
    "**For 0.5 points** answer the following MCQ:\n",
    "\n",
    "* Which of the following keywords best describes the visual effect of this filter?\n",
    "\n",
    "1. isotropic blurring, or\n",
    "2. vertical blurring, or\n",
    "3. horizontal blurring, or\n",
    "4. diagonal blurring, or\n",
    "5. sharpening, or\n",
    "6. vertical-edge detection, or\n",
    "7. horizontal-edge detection, or\n",
    "8. diagonal edge detection, or\n",
    "9. reveal edges and details in any directions (by a Laplacian filter), or\n",
    "10. it has not effect."
   ]
  },
  {
   "cell_type": "code",
   "execution_count": null,
   "metadata": {
    "deletable": false,
    "kernel": "SoS",
    "nbgrader": {
     "cell_type": "code",
     "checksum": "6df200c727963a1845e485592890d72d",
     "grade": false,
     "grade_id": "cell-2b64f5ff98234834",
     "locked": false,
     "schema_version": 3,
     "solution": true,
     "task": false
    }
   },
   "outputs": [],
   "source": [
    "%use sos\n",
    "# Assign your answer to this variable\n",
    "answer = None\n",
    "# YOUR CODE HERE"
   ]
  },
  {
   "cell_type": "code",
   "execution_count": null,
   "metadata": {
    "deletable": false,
    "editable": false,
    "kernel": "SoS",
    "nbgrader": {
     "cell_type": "code",
     "checksum": "9b7b6df8d5997561f314acae012e76ab",
     "grade": true,
     "grade_id": "cell-59c47107eb0e8e63",
     "locked": true,
     "points": 0.5,
     "schema_version": 3,
     "solution": false,
     "task": false
    }
   },
   "outputs": [],
   "source": [
    "%use sos\n",
    "# Sanity check\n",
    "if not answer in list(range(1,11)):\n",
    "    print('WARNING!\\nAnswer one of 1, 2, 3, 4, 5, 6, 7, 8, 9 or 10.')"
   ]
  },
  {
   "cell_type": "markdown",
   "metadata": {
    "deletable": false,
    "editable": false,
    "kernel": "SoS",
    "nbgrader": {
     "cell_type": "markdown",
     "checksum": "8004f4adc0deb9ab6f4f3599623fc777",
     "grade": false,
     "grade_id": "cell-888fd31f6fc28437",
     "locked": true,
     "schema_version": 3,
     "solution": false,
     "task": false
    },
    "user_expressions": []
   },
   "source": [
    "(mask-f)=\n",
    "## 2.F. Mask F\n",
    "[Back to table of contents](#ToC_1_Filtering)\n",
    "\n",
    "```python3\n",
    "    [ 0, -1, -1,  0,  0]\n",
    "    [-1, -1,  0,  0,  0]\n",
    "F = [-1,  0,  0,  0,  1]\n",
    "    [ 0,  0,  0,  1,  1]\n",
    "    [ 0,  0,  1,  1,  0]\n",
    "```"
   ]
  },
  {
   "cell_type": "code",
   "execution_count": null,
   "metadata": {
    "deletable": false,
    "kernel": "SoS",
    "nbgrader": {
     "cell_type": "code",
     "checksum": "1854e57c3447261f09a9b3a2240cc738",
     "grade": false,
     "grade_id": "cell-5dfdcf7403d7e9d2",
     "locked": false,
     "schema_version": 3,
     "solution": true,
     "task": false
    }
   },
   "outputs": [],
   "source": [
    "%use sos\n",
    "\n",
    "# Function that filters img with the mask F\n",
    "def filter_F(img):\n",
    "    output = img.copy()\n",
    "    \n",
    "    # Filter the image with mask F\n",
    "    \n",
    "    # YOUR CODE HERE\n",
    "    \n",
    "    return output"
   ]
  },
  {
   "cell_type": "markdown",
   "metadata": {
    "deletable": false,
    "editable": false,
    "kernel": "SoS",
    "nbgrader": {
     "cell_type": "markdown",
     "checksum": "7c144aa393ad5d5c7f42a03fb769017e",
     "grade": false,
     "grade_id": "cell-f4360dff7751e4a4",
     "locked": true,
     "schema_version": 3,
     "solution": false,
     "task": false
    }
   },
   "source": [
    "Run the next cell to visualize the result of applying `filter_F` to the image `bikesgray`."
   ]
  },
  {
   "cell_type": "code",
   "execution_count": null,
   "metadata": {
    "deletable": false,
    "editable": false,
    "kernel": "SoS",
    "nbgrader": {
     "cell_type": "code",
     "checksum": "ae103176f4334a8feb9a18da74df432c",
     "grade": true,
     "grade_id": "cell-89ecfa2af17122fe",
     "locked": true,
     "points": 0.5,
     "schema_version": 3,
     "solution": false,
     "task": false
    }
   },
   "outputs": [],
   "source": [
    "%use sos\n",
    "# Apply the function\n",
    "bikesgray_F = filter_F(bikesgray)\n",
    "# Visualize the result\n",
    "plt.close('all')\n",
    "vis_F = viewer([bikesgray, bikesgray_F], title=['Original', 'Filtered with mask F'], subplots=(1,2))"
   ]
  },
  {
   "cell_type": "markdown",
   "metadata": {
    "deletable": false,
    "editable": false,
    "kernel": "SoS",
    "nbgrader": {
     "cell_type": "markdown",
     "checksum": "9bd9c7f3c38f642fed7a13fe895f3d34",
     "grade": false,
     "grade_id": "cell-bcff8dcd8ce012f8",
     "locked": true,
     "schema_version": 3,
     "solution": false,
     "task": false
    }
   },
   "source": [
    "**For 0.5 points** answer the following MCQ:\n",
    "\n",
    "* Which of the following keywords best describes the visual effect of this filter?\n",
    "\n",
    "1. isotropic blurring, or\n",
    "2. vertical blurring, or\n",
    "3. horizontal blurring, or\n",
    "4. diagonal blurring, or\n",
    "5. sharpening, or\n",
    "6. vertical-edge detection, or\n",
    "7. horizontal-edge detection, or\n",
    "8. diagonal edge detection, or\n",
    "9. reveal edges and details in any directions (by a Laplacian filter), or\n",
    "10. it has not effect."
   ]
  },
  {
   "cell_type": "code",
   "execution_count": null,
   "metadata": {
    "deletable": false,
    "kernel": "SoS",
    "nbgrader": {
     "cell_type": "code",
     "checksum": "93c51cd4382b5efb11a67618d3541e73",
     "grade": false,
     "grade_id": "cell-a4ac97cd58f978dc",
     "locked": false,
     "schema_version": 3,
     "solution": true,
     "task": false
    }
   },
   "outputs": [],
   "source": [
    "%use sos\n",
    "# Assign your answer to this variable\n",
    "answer = None\n",
    "# YOUR CODE HERE"
   ]
  },
  {
   "cell_type": "code",
   "execution_count": null,
   "metadata": {
    "deletable": false,
    "editable": false,
    "kernel": "SoS",
    "nbgrader": {
     "cell_type": "code",
     "checksum": "dde13d659aad57972ded9dadb9e21c4d",
     "grade": true,
     "grade_id": "cell-0ba30a28ab95dad2",
     "locked": true,
     "points": 0.5,
     "schema_version": 3,
     "solution": false,
     "task": false
    }
   },
   "outputs": [],
   "source": [
    "%use sos\n",
    "# Sanity check\n",
    "if not answer in list(range(1,11)):\n",
    "    print('WARNING!\\nAnswer one of 1, 2, 3, 4, 5, 6, 7, 8, 9 or 10.')"
   ]
  },
  {
   "cell_type": "markdown",
   "metadata": {
    "deletable": false,
    "editable": false,
    "kernel": "SoS",
    "nbgrader": {
     "cell_type": "markdown",
     "checksum": "76f24af29096197de9e4e1c318403e61",
     "grade": false,
     "grade_id": "cell-f70cad8711869b8e",
     "locked": true,
     "schema_version": 3,
     "solution": false,
     "task": false
    },
    "user_expressions": []
   },
   "source": [
    "Congratulations on finishing the first part of the Filtering lab!\n",
    "\n",
    ":::{attention}\n",
    "Make sure to save your notebook (you might want to keep a copy on your personal computer) and upload it to [Moodle](https://moodle.epfl.ch/mod/assign/view.php?id=1157357), in a zip file with the other notebook of this lab.\n",
    "\n",
    "* Keep the name of the notebook as: *1_Filtering.ipynb*,\n",
    "* Name the zip file: *Filtering_lab.zip*.\n",
    ":::"
   ]
  }
 ],
 "metadata": {
  "kernelspec": {
   "display_name": "SoS",
   "language": "sos",
   "name": "sos"
  },
  "language_info": {
   "codemirror_mode": "sos",
   "file_extension": ".sos",
   "mimetype": "text/x-sos",
   "name": "sos",
   "nbconvert_exporter": "sos_notebook.converter.SoS_Exporter",
   "pygments_lexer": "sos"
  },
  "sos": {
   "kernels": [
    [
     "JavaScript",
     "javascript",
     "JavaScript",
     "#c8e1ae",
     ""
    ],
    [
     "SoS",
     "sos",
     "",
     "",
     "sos"
    ]
   ],
   "panel": {
    "displayed": false,
    "height": 0
   },
   "version": "0.23.4"
  }
 },
 "nbformat": 4,
 "nbformat_minor": 4
}