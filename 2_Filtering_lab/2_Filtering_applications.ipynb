{
 "cells": [
  {
   "cell_type": "markdown",
   "metadata": {
    "deletable": false,
    "editable": false,
    "kernel": "SoS",
    "nbgrader": {
     "cell_type": "markdown",
     "checksum": "21f47e94cdadadc83cb1d78fd19e0dae",
     "grade": false,
     "grade_id": "cell-2f137ed5983c4fea",
     "locked": true,
     "schema_version": 3,
     "solution": false,
     "task": false
    },
    "user_expressions": []
   },
   "source": [
    "```{image} https://www.epfl.ch/about/overview/wp-content/uploads/2020/07/logo-epfl-1024x576.png \n",
    ":width: 140px\n",
    ":align: left\n",
    "```\n",
    "## Image Processing Laboratory Notebooks\n",
    "---\n",
    "\n",
    "This Juypter notebook is part of a series of computer laboratories which are designed\n",
    "to teach image-processing programming; they are running on the EPFL's Noto server. They are the practical complement of the theoretical lectures of the EPFL's Master course \n",
    "[**MICRO-511 Image Processing I**](https://moodle.epfl.ch/course/view.php?id=522) taught by Prof. M. Unser and Prof. D. Van de Ville.\n",
    "\n",
    "The project is funded by the Center for Digital Education and the School of Engineering. It is owned by the [Biomedical Imaging Group](http://bigwww.epfl.ch/). \n",
    "The distribution or the reproduction of the notebook is strictly prohibited without the written consent of the authors.  &copy; EPFL 2023.\n",
    "\n",
    "**Authors**: \n",
    "    [Pol del Aguila Pla](mailto:pol.delaguilapla@epfl.ch), \n",
    "    [Kay L\u00e4chler](mailto:kay.lachler@epfl.ch),\n",
    "    [Alejandro Noguer\u00f3n Ar\u00e1mburu](mailto:alejandro.nogueronaramburu@epfl.ch),\n",
    "    [Yan Liu](mailto:yan.liu@epfl.ch), and\n",
    "    [Daniel Sage](mailto:daniel.sage@epfl.ch).\n",
    "    \n",
    "---\n",
    "\n",
    "# Lab 2.2: Filtering Applications\n",
    "**Released**: Thursday November 9, 2023\n",
    "\n",
    "**Submission**: Monday November 20, 2023 before 23:59 on [Moodle](https://moodle.epfl.ch/course/view.php?id=522)\n",
    "\n",
    "**Grade weight**: Lab 2 (16 points), 10% of the overall grade\n",
    "\n",
    "**Related lectures**: Chapter 3"
   ]
  },
  {
   "cell_type": "markdown",
   "metadata": {
    "kernel": "SoS",
    "user_expressions": []
   },
   "source": [
    "Double-click on this cell, fill your name and SCIPER number below to verify your identity in Noto and set the seed for random results.\n",
    ":::{attention} Please write down your name and SCIPER! \n",
    "### Student Name: \n",
    "### SCIPER: \n",
    ":::"
   ]
  },
  {
   "cell_type": "code",
   "execution_count": null,
   "metadata": {
    "deletable": false,
    "editable": false,
    "kernel": "SoS",
    "nbgrader": {
     "cell_type": "code",
     "checksum": "181db843e2a8484c104865f047736fe1",
     "grade": true,
     "grade_id": "cell-5808010fef9a8499",
     "locked": true,
     "points": 0,
     "schema_version": 3,
     "solution": false,
     "task": false
    }
   },
   "outputs": [],
   "source": [
    "%use sos\n",
    "import getpass\n",
    "# This line recovers your camipro number to mark the images with your ID\n",
    "uid = int(getpass.getuser().split('-')[2]) if len(getpass.getuser().split('-')) > 2 else ord(getpass.getuser()[0])\n",
    "print(f'SCIPER: {uid}')"
   ]
  },
  {
   "cell_type": "markdown",
   "metadata": {
    "deletable": false,
    "editable": false,
    "kernel": "SoS",
    "nbgrader": {
     "cell_type": "markdown",
     "checksum": "69105e65cd59fbce5abd8ab5dec9b5f9",
     "grade": false,
     "grade_id": "cell-22d02ae9386542b4",
     "locked": true,
     "schema_version": 3,
     "solution": false,
     "task": false
    }
   },
   "source": [
    "### <a name=\"imports_\"></a> Imports\n",
    "In the next cells we import the libraries and load the images that we will use throughout the lab."
   ]
  },
  {
   "cell_type": "code",
   "execution_count": null,
   "metadata": {
    "deletable": false,
    "editable": false,
    "kernel": "SoS",
    "nbgrader": {
     "cell_type": "code",
     "checksum": "f141caca12fa824b1c470ca1e39638c2",
     "grade": false,
     "grade_id": "cell-e71e32bb6c3077e0",
     "locked": true,
     "schema_version": 3,
     "solution": false,
     "task": false
    }
   },
   "outputs": [],
   "source": [
    "%use sos\n",
    "# Configure plotting as dynamic\n",
    "%matplotlib widget\n",
    "\n",
    "# Import standard required packages for this exercise\n",
    "import matplotlib.pyplot as plt\n",
    "import numpy as np\n",
    "import skimage.io as io \n",
    "import ipywidgets as widgets\n",
    "import skimage\n",
    "from skimage import filters\n",
    "from interactive_kit import imviewer as viewer\n",
    "\n",
    "# Load images to be used in this exercise \n",
    "bikesgray = io.imread('images/bikesgray.tif').astype('float64')\n",
    "camera = io.imread('images/camera-16bits.tif').astype('float64')\n",
    "spots = io.imread('images/spots.tif').astype('float64')\n",
    "hela = io.imread('images/hela-DIC.tif').astype('float64')"
   ]
  },
  {
   "cell_type": "code",
   "execution_count": null,
   "metadata": {
    "deletable": false,
    "editable": false,
    "kernel": "JavaScript",
    "nbgrader": {
     "cell_type": "code",
     "checksum": "4ec2f105d4591df15745f8f8096cbcee",
     "grade": true,
     "grade_id": "cell-c6c746246d09f0e7",
     "locked": true,
     "points": 0,
     "schema_version": 3,
     "solution": false,
     "task": false
    }
   },
   "outputs": [],
   "source": [
    "%use javascript\n",
    "%get bikesgray camera spots\n",
    "// import IPLabImageAccess as Image\n",
    "var Image = require('image-access')"
   ]
  },
  {
   "cell_type": "markdown",
   "metadata": {
    "deletable": false,
    "editable": false,
    "kernel": "SoS",
    "nbgrader": {
     "cell_type": "markdown",
     "checksum": "c8218d4b71aba681c2c7fea53aff70dd",
     "grade": false,
     "grade_id": "cell-4b72a2bcfd3b306d",
     "locked": true,
     "schema_version": 3,
     "solution": false,
     "task": false
    },
    "user_expressions": []
   },
   "source": [
    "# Filtering applications (7 points)\n",
    "\n",
    "After the first part of the lab, we expect you to feel comfortable with the basics of filtering. In this part we will look in detail at the implementation of a Gaussian filter, as well as some of its direct applications. Gaussian filters are known to be near-optimal smoothing filters, and represent perhaps the most used preprocessing step in image processing to improve robustness in a workflow and to denoise images.\n",
    "\n",
    "(ToC_2_FilteringApplications)=\n",
    "## Table of contents\n",
    "1. [Gaussian filter](#gaussian-filter)\n",
    "    1. [Implementation of a 2D Gaussian filter](#implementation-of-a-gaussian-filter) (**4 points**)\n",
    "    2. [Gaussian filter in Python](#gaussian-filter-in-python)\n",
    "2. [Application: Segmentation of a DIC](#application-segmentation-of-a-dic)\n",
    "    1. [Implementation](#implementation) (**3 points**)\n",
    "    2. [Understanding the effect of the parameters](#understanding-the-effect-of-the-parameters)"
   ]
  },
  {
   "cell_type": "markdown",
   "metadata": {
    "deletable": false,
    "editable": false,
    "kernel": "SoS",
    "nbgrader": {
     "cell_type": "markdown",
     "checksum": "1d7289ebb9ea5f1f51fd46e5e2e6ff56",
     "grade": false,
     "grade_id": "cell-74e9fa45faa39321",
     "locked": true,
     "schema_version": 3,
     "solution": false,
     "task": false
    }
   },
   "source": [
    "### Visualize images\n",
    "Get familiar with the images that you are going to use by running the next cell."
   ]
  },
  {
   "cell_type": "code",
   "execution_count": null,
   "metadata": {
    "deletable": false,
    "editable": false,
    "kernel": "SoS",
    "nbgrader": {
     "cell_type": "code",
     "checksum": "8cc2af63673d8585f158fc22c56e6467",
     "grade": false,
     "grade_id": "cell-fe1a26f8c6df6294",
     "locked": true,
     "schema_version": 3,
     "solution": false,
     "task": false
    }
   },
   "outputs": [],
   "source": [
    "%use sos\n",
    "# Declare image_list for ImageViewer\n",
    "image_list = [bikesgray, camera, spots]\n",
    "\n",
    "imgs_viewer = viewer(image_list, widgets=True, hist=True)"
   ]
  },
  {
   "cell_type": "markdown",
   "metadata": {
    "deletable": false,
    "editable": false,
    "kernel": "Python3",
    "nbgrader": {
     "cell_type": "markdown",
     "checksum": "33037e06ead36b0eafd61eebfd288cd5",
     "grade": false,
     "grade_id": "cell-727e084ec8969cc3",
     "locked": true,
     "schema_version": 3,
     "solution": false,
     "task": false
    },
    "user_expressions": []
   },
   "source": [
    "(gaussian-filter)=\n",
    "# 1. Gaussian filter (4 points)\n",
    "[Back to table of contents](#ToC_2_FilteringApplications)\n",
    "\n",
    "An [isotropic 2D Gaussian](https://en.wikipedia.org/wiki/Multivariate_normal_distribution) is\n",
    "\n",
    "$$h_\\sigma(x,y) = \\frac{1}{2\\pi\\sigma^2}\\exp\\left(-\\frac{x^2 + y^2}{2\\sigma^2}\\right) \\overset{\\mathrm{separability}}{=} \\frac{1}{\\sqrt{2\\pi}\\sigma}\\exp\\left(-\\frac{x^2}{2\\sigma^2}\\right) \\frac{1}{\\sqrt{2\\pi}\\sigma}\\exp\\left(-\\frac{ y^2}{2\\sigma^2}\\right) \\,,$$\n",
    "\n",
    "where $\\sigma$ is the standard deviation and controls the smoothing strength.\n",
    "\n",
    "In this section you will implement a 2D Gaussian filter with impulse response $h_{\\sigma}[m,n]$, which discretizes $h_\\sigma(x,y)$ between $[-\\lceil3\\sigma\\rceil,\\lceil 3\\sigma\\rceil]$ in $x$ and $y$. Here, $\\lceil x \\rceil$ refers to the smallest integer larger than a given $x\\in\\mathbb{R}$. Additionally, choose the size of the filter to be $N = 2\\lceil 3\\sigma \\rceil+1$ (hence, $N$ is always odd), and ensure the impulse response adds up to $1$, using appropriate normalization."
   ]
  },
  {
   "cell_type": "markdown",
   "metadata": {
    "deletable": false,
    "editable": false,
    "kernel": "Python3",
    "nbgrader": {
     "cell_type": "markdown",
     "checksum": "d03de2b66992e09682bdf2b471cd30a3",
     "grade": false,
     "grade_id": "cell-4ee31adda2ebf52a",
     "locked": true,
     "schema_version": 3,
     "solution": false,
     "task": false
    },
    "user_expressions": []
   },
   "source": [
    "(implementation-of-a-gaussian-filter)=\n",
    "## 1.A. Implementation of a 2D Gaussian filter (4 points)\n",
    "[Back to table of contents](#ToC_2_FilteringApplications)\n",
    "\n",
    "For **3 points**, implement the function `gaussian(img, sigma)` that convolves an image with a Gaussian filter using a **separable implementation** in JavaScript. Take advantage of the `filter1D` function from lab 2.1 that we have copied here for you in the next cell.\n",
    "\n",
    ":::{hint}\n",
    "* You can use [Math library](https://developer.mozilla.org/en-US/docs/Web/JavaScript/Reference/Global_Objects/Math) to access different mathematical functions.\n",
    "* The first argument to the `Image` constructor is the **height** and the second is the **width**: `new Image(height, width)` or `new Image([height, width])`. Feel free to go back to Lab 0 to review the basic usage of the ImageAccess class.\n",
    ":::"
   ]
  },
  {
   "cell_type": "code",
   "execution_count": null,
   "metadata": {
    "deletable": false,
    "kernel": "JavaScript",
    "nbgrader": {
     "cell_type": "code",
     "checksum": "b6f7a1e82645da620c68e60d21dc377c",
     "grade": false,
     "grade_id": "cell-6afcfd812f79ebb9",
     "locked": false,
     "schema_version": 3,
     "solution": true,
     "task": false
    }
   },
   "outputs": [],
   "source": [
    "%use javascript\n",
    "// function that performs a gaussian filter with sigma on img\n",
    "function gaussian(img, sigma){\n",
    "    // declare output variable\n",
    "    var output = new Image(img.shape());\n",
    "    \n",
    "    // Define normalized mask\n",
    "    // YOUR CODE HERE\n",
    "    \n",
    "    // Filter using separable implementation (hint: your mask should be 1D)\n",
    "    // You can use the filter1D function defined below\n",
    "    // YOUR CODE HERE\n",
    "    return output\n",
    "}\n",
    "\n",
    "// function that applies a 1D filter\n",
    "function filter1D(img, mask){\n",
    "    // transpose the input variables if necessary\n",
    "    if(img.nx == 1){\n",
    "        img.transposeImage();\n",
    "    }\n",
    "    if(mask.nx == 1){\n",
    "        mask.transposeImage();\n",
    "    }\n",
    "    // create the output image\n",
    "    var output = new Image(img.shape());\n",
    "    // iterate through all pixels\n",
    "    for(var x = 0; x < img.nx; x++){\n",
    "        // get the neighbourhood around position x\n",
    "        var neigh = img.getNbh(x, 0, mask.nx, 1);\n",
    "        // declare a variable to store the values of the convolution. \n",
    "        var val = 0;\n",
    "        // iterate through the neighbourhood\n",
    "        for(var i = 0; i < neigh.nx; i++){\n",
    "            // perform convolution\n",
    "            val += neigh.getPixel(i, 0) * mask.getPixel(mask.nx - 1 - i, 0);\n",
    "        }\n",
    "        // set value in output array\n",
    "        output.setPixel(x, 0, val);\n",
    "    }\n",
    "    return output\n",
    "}"
   ]
  },
  {
   "cell_type": "markdown",
   "metadata": {
    "deletable": false,
    "editable": false,
    "kernel": "JavaScript",
    "nbgrader": {
     "cell_type": "markdown",
     "checksum": "d8e25714ca40f3b326f35de7f0411eee",
     "grade": false,
     "grade_id": "cell-6e545f157757b7dd",
     "locked": true,
     "schema_version": 3,
     "solution": false,
     "task": false
    }
   },
   "source": [
    "We have designed a quick test for you to evaluate your method, applying it to a $3 \\times 3$ impulse image. Run the following cell and check that your output has all the desired properties of a Gaussian."
   ]
  },
  {
   "cell_type": "code",
   "execution_count": null,
   "metadata": {
    "deletable": false,
    "editable": false,
    "kernel": "JavaScript",
    "nbgrader": {
     "cell_type": "code",
     "checksum": "5692ba215490b7fc7efb024e46717c18",
     "grade": true,
     "grade_id": "cell-60827fde3a4cfda5",
     "locked": true,
     "points": 2,
     "schema_version": 3,
     "solution": false,
     "task": false
    }
   },
   "outputs": [],
   "source": [
    "%use javascript\n",
    "// define the impulse image\n",
    "var impulse = new Image([[0, 0, 0], [0, 1, 0], [0, 0, 0]]);\n",
    "\n",
    "// apply filter to previously defined impulse\n",
    "var impulse_gaussian = gaussian(impulse, 0.5);\n",
    "\n",
    "// look at result, verify that it has the properties of a Gaussian\n",
    "console.log('Your impulse Gaussian:\\n' + impulse_gaussian.visualize());\n",
    "\n",
    "// this assertion checks proper behaviour: that the center is the maximum, and that two pixels in equivalent positions have the same values.\n",
    "if(impulse_gaussian.getPixel(1, 1) < impulse_gaussian.getPixel(1, 2) || impulse_gaussian.getPixel(1, 0) !== impulse_gaussian.getPixel(1, 2)){\n",
    "    console.log('WARNING!!!\\nThere are still some mistakes with your implementation! Look at the sanity checks to understand the mistakes');\n",
    "}else{\n",
    "    console.log('The symmetry of the Gaussian seems good.');\n",
    "}\n",
    "\n",
    "// check normalization\n",
    "var sum = 0\n",
    "for(var x = 0; x < impulse_gaussian.nx; x++){\n",
    "    for (var y = 0; y < impulse_gaussian.ny; y++){\n",
    "        sum += impulse_gaussian.getPixel(x, y);\n",
    "    }\n",
    "}\n",
    "if(Math.abs(sum - 1) > 1e-5){\n",
    "    console.log(\"WARNING!!\\nNormalization not correct\");\n",
    "}else{\n",
    "    console.log(\"Well done! The output sums up to approximately 1.\");\n",
    "}"
   ]
  },
  {
   "cell_type": "markdown",
   "metadata": {
    "deletable": false,
    "editable": false,
    "kernel": "Python3",
    "nbgrader": {
     "cell_type": "markdown",
     "checksum": "ea069d36b6fddd01a215558c07b912f2",
     "grade": false,
     "grade_id": "cell-55250fb304b56fbb",
     "locked": true,
     "schema_version": 3,
     "solution": false,
     "task": false
    },
    "user_expressions": []
   },
   "source": [
    "Now that you have tested your Gaussian filter, you can apply it to the image `bikesgray`. Use different values of $\\sigma$ (you can change it in the next cell). Look at the evolution of the mean and the standard deviation (you can get them from the statistics box in the `viewer`, or you can use the functions `np.mean` and `np.std`). Then, answer the two multiple choice questions.\n",
    "\n",
    "Run and modify the two following cells to apply Gaussian filters with different $\\sigma$ values to `bikesgray` and view the result. \n",
    "\n",
    ":::{important} \n",
    "Don't forget to change $\\sigma$ to a normal (small) value after your exploration!\n",
    ":::"
   ]
  },
  {
   "cell_type": "code",
   "execution_count": null,
   "metadata": {
    "kernel": "JavaScript"
   },
   "outputs": [],
   "source": [
    "%use javascript\n",
    "%put bikesgray_gaussian1 bikesgray_gaussian5\n",
    "\n",
    "// apply filter to Image object. To try different sigma values, change the variables or declare more. \n",
    "var bikesgray_gaussian1 = gaussian(new Image(bikesgray), 1).toArray()\n",
    "var bikesgray_gaussian5 = gaussian(new Image(bikesgray), 5).toArray()"
   ]
  },
  {
   "cell_type": "code",
   "execution_count": null,
   "metadata": {
    "kernel": "SoS"
   },
   "outputs": [],
   "source": [
    "%use sos\n",
    "\n",
    "# Declare parameters for ImageViewer. If you want to visualize more sigma values, update the previous cell and these lists accordingly\n",
    "image_list_blur = [bikesgray, bikesgray_gaussian1, bikesgray_gaussian5]\n",
    "title_list_blur = ['Original', 'Sigma: 1', 'Sigma: 5']\n",
    "# Make sure that the object used is a numpy array\n",
    "for i in range(len(image_list_blur)):\n",
    "    image_list_blur[i] = np.array(image_list_blur[i])\n",
    "\n",
    "# To allow a direct comparison of the images.\n",
    "plt.close('all')\n",
    "blurred_bikesgray_viewer = viewer(image_list_blur, title=title_list_blur, hist=True)"
   ]
  },
  {
   "cell_type": "markdown",
   "metadata": {
    "deletable": false,
    "editable": false,
    "kernel": "Python3",
    "nbgrader": {
     "cell_type": "markdown",
     "checksum": "ee8fd3751fc08d58194eb43639245038",
     "grade": false,
     "grade_id": "cell-ad335badddb0d387",
     "locked": true,
     "schema_version": 3,
     "solution": false,
     "task": false
    }
   },
   "source": [
    "### Multiple Choice Question\n",
    "\n",
    "After modifying the two cells above and visualizing the results, answer the next two questions (worth **0.5 points** each).\n",
    "\n",
    "* Q1: How would you expect the Fourier transform of an image to change after applying a Gaussian filter?\n",
    "    1. It will show lower values for higher frequencies.\n",
    "    2. It will show higher values for higher frequencies.\n",
    "    3. It will show lower values for lower frequencies.\n",
    "    4. It will not change.\n",
    "\n",
    "\n",
    "* Q2: What will be the output image when $\\sigma\\rightarrow \\infty$? What type of filter would that be?\n",
    "    1. An image equal to the original. It would be an all-pass filter.\n",
    "    2. A constant image. It would be a high-pass filter.\n",
    "    3. A 2D Gaussian. It would be a band-pass filter.\n",
    "    4. A constant image. It would be a low-pass filter.\n",
    "\n",
    "Modify the variables `answer_one` and `answer_two` in the next cell to match your choices. The second and third cells are for you to make sure that your answer is in the valid range (they should not raise any error)."
   ]
  },
  {
   "cell_type": "code",
   "execution_count": null,
   "metadata": {
    "deletable": false,
    "kernel": "SoS",
    "nbgrader": {
     "cell_type": "code",
     "checksum": "32a9b32c3392f858306ebd5a37335037",
     "grade": false,
     "grade_id": "cell-d31ab4ed244354b6",
     "locked": false,
     "schema_version": 3,
     "solution": true,
     "task": false
    }
   },
   "outputs": [],
   "source": [
    "%use sos\n",
    "# Modify these variables\n",
    "answer_one = None\n",
    "answer_two = None\n",
    "# YOUR CODE HERE"
   ]
  },
  {
   "cell_type": "code",
   "execution_count": null,
   "metadata": {
    "deletable": false,
    "editable": false,
    "kernel": "SoS",
    "nbgrader": {
     "cell_type": "code",
     "checksum": "7160f7a10ef35e2d6a28ea8a78230b9e",
     "grade": true,
     "grade_id": "cell-798aea71d77a0954",
     "locked": true,
     "points": 0.5,
     "schema_version": 3,
     "solution": false,
     "task": false
    }
   },
   "outputs": [],
   "source": [
    "%use sos\n",
    "# Sanity test\n",
    "if not answer_one in [1, 2, 3, 4]:\n",
    "    print('WARNING!\\nAnswer one of 1, 2, 3 or 4.')"
   ]
  },
  {
   "cell_type": "code",
   "execution_count": null,
   "metadata": {
    "deletable": false,
    "editable": false,
    "kernel": "SoS",
    "nbgrader": {
     "cell_type": "code",
     "checksum": "4a81512f0a7bec47e5b282c4ac4df153",
     "grade": true,
     "grade_id": "cell-54c9fa3efc0ce756",
     "locked": true,
     "points": 0.5,
     "schema_version": 3,
     "solution": false,
     "task": false
    }
   },
   "outputs": [],
   "source": [
    "%use sos\n",
    "# Sanity test\n",
    "if not answer_two in [1, 2, 3, 4]:\n",
    "    print('WARNING!\\nAnswer one of 1, 2, 3 or 4.')"
   ]
  },
  {
   "cell_type": "markdown",
   "metadata": {
    "deletable": false,
    "editable": false,
    "kernel": "Python3",
    "nbgrader": {
     "cell_type": "markdown",
     "checksum": "0f1336d849f53fb9414a0d1bcbccdda0",
     "grade": false,
     "grade_id": "cell-ab3b2bafff5869b1",
     "locked": true,
     "schema_version": 3,
     "solution": false,
     "task": false
    },
    "user_expressions": []
   },
   "source": [
    "(gaussian-filter-in-python)=\n",
    "## 1.B. Gaussian filter in Python\n",
    "[Back to table of contents](#ToC_2_FilteringApplications)\n",
    "\n",
    "There are several implementations of Gaussian filters in Python. In this section, we will use the `scikit-image` implementation [`skimage.filters.gaussian()`](https://scikit-image.org/docs/dev/api/skimage.filters.html#skimage.filters.gaussian). This function is a wrapper around the SciPy ndimage function [`scipy.ndi.gaussian_filter()`](https://docs.scipy.org/doc/scipy/reference/generated/scipy.ndimage.gaussian_filter.html), feel free to check both documentations to inform yourself.\n",
    "\n",
    "Here is an example of how to use it:\n",
    "\n",
    "```python\n",
    "output = skimage.filters.gaussian(input, sigma=10, mode='reflect', truncate=3, preserve_range=True)\n",
    "```\n",
    "The above line specifies that we apply on the `input` image a Gaussian filter with $\\sigma=10$, reflective boundary condition, truncated to $3\\sigma$ range and keep the original range of values of `input`.\n",
    "\n",
    "\n",
    "In the next cells, we will apply it to the image `bikesgray` and compare it to your implementation. Run the next cell to get a blurred version of bikesgray."
   ]
  },
  {
   "cell_type": "code",
   "execution_count": null,
   "metadata": {
    "deletable": false,
    "editable": false,
    "kernel": "SoS",
    "nbgrader": {
     "cell_type": "code",
     "checksum": "2b549b11f8c96f4cfe79787e9ce7d6c7",
     "grade": false,
     "grade_id": "cell-96a61b2fe62e1965",
     "locked": true,
     "schema_version": 3,
     "solution": false,
     "task": false
    }
   },
   "outputs": [],
   "source": [
    "%use sos\n",
    "# Apply Gaussian filtering in python\n",
    "bikesgray_gaussian_skimage = skimage.filters.gaussian(bikesgray, sigma=10 , mode='reflect', truncate=3, preserve_range=True)\n",
    "gaussian_viewer = viewer(bikesgray_gaussian_skimage)"
   ]
  },
  {
   "cell_type": "markdown",
   "metadata": {
    "deletable": false,
    "editable": false,
    "kernel": "Python3",
    "nbgrader": {
     "cell_type": "markdown",
     "checksum": "73ddfd7e2b5f17fd08e44e13fd3f1100",
     "grade": false,
     "grade_id": "cell-7bd5fa00998f0187",
     "locked": true,
     "schema_version": 3,
     "solution": false,
     "task": false
    }
   },
   "source": [
    "Now, we will compare it to your implementation in JavaScript to make sure that they are equivalent (up to errors on the order of $10^{-14}$). For this, we call the `gaussian` function you implemented with the image bikesgray, also for $\\sigma = 10$. \n",
    "\n",
    "Run the next cell to get the variable `bikesgray_gaussian10`, and the one below it to make the comparison in Python. Note that, if the images are not the same, an `ImageViewer` will pop up, showing you in red the regions that differ the most. If necessary, you can use this information to try to find your mistakes. "
   ]
  },
  {
   "cell_type": "code",
   "execution_count": null,
   "metadata": {
    "deletable": false,
    "editable": false,
    "kernel": "JavaScript",
    "nbgrader": {
     "cell_type": "code",
     "checksum": "1e0e4643e6b62fc0616409e983ae7086",
     "grade": false,
     "grade_id": "cell-ea846baf9848b17b",
     "locked": true,
     "schema_version": 3,
     "solution": false,
     "task": false
    }
   },
   "outputs": [],
   "source": [
    "%use javascript\n",
    "%put bikesgray_gaussian10\n",
    "// apply filter to Image object\n",
    "var bikesgray_gaussian10 = gaussian(new Image(bikesgray), 10).toArray()"
   ]
  },
  {
   "cell_type": "markdown",
   "metadata": {
    "deletable": false,
    "editable": false,
    "kernel": "JavaScript",
    "nbgrader": {
     "cell_type": "markdown",
     "checksum": "8e0dcf2215ad12e8c8204d3bee9e3557",
     "grade": false,
     "grade_id": "cell-fa5028dc9b008544",
     "locked": true,
     "schema_version": 3,
     "solution": false,
     "task": false
    }
   },
   "source": [
    "Now we will look at the results of the Python code and your code, and at their differences. Look at the range of values in the histogram to verify the scale of the differences."
   ]
  },
  {
   "cell_type": "code",
   "execution_count": null,
   "metadata": {
    "deletable": false,
    "editable": false,
    "kernel": "SoS",
    "nbgrader": {
     "cell_type": "code",
     "checksum": "9913160b00e5c5fe7554f76a28919c04",
     "grade": true,
     "grade_id": "cell-fbc96337ae903689",
     "locked": true,
     "points": 1,
     "schema_version": 3,
     "solution": false,
     "task": false
    }
   },
   "outputs": [],
   "source": [
    "%use sos\n",
    "# Make sure that the one imported from JavaScript is a numpy array\n",
    "bikesgray_gaussian10 = np.array(bikesgray_gaussian10)\n",
    "\n",
    "# Declare parameters of viewer\n",
    "image_list = [bikesgray_gaussian10, bikesgray_gaussian_skimage, np.abs(bikesgray_gaussian_skimage - bikesgray_gaussian10)]\n",
    "title_list = ['JS', 'Skimage', 'Difference']\n",
    "\n",
    "# We call the viewer with clip_range = [0, 1] to compare the difference with respect to the originals\n",
    "plt.close('all')\n",
    "if not np.allclose(bikesgray_gaussian10, bikesgray_gaussian_skimage):\n",
    "    print('The results of your Gaussian filter do not match Skimage results! Look at the red areas in the viewer to see where you might have gone wrong.')\n",
    "    skimage_gaussian_viewer = viewer([bikesgray_gaussian10, bikesgray_gaussian_skimage], title=['JS', 'Skimage'], widgets=True, compare=True)\n",
    "else :\n",
    "    print('Seems like your Gaussian filter is correct!')"
   ]
  },
  {
   "cell_type": "markdown",
   "metadata": {
    "deletable": false,
    "editable": false,
    "kernel": "Python3",
    "nbgrader": {
     "cell_type": "markdown",
     "checksum": "1741245294c18a5e17989ef13e53b290",
     "grade": false,
     "grade_id": "cell-26518388ae85f79c",
     "locked": true,
     "schema_version": 3,
     "solution": false,
     "task": false
    },
    "user_expressions": []
   },
   "source": [
    "# 2. Application: Segmentation of a DIC (3 points)\n",
    "[Back to table of contents](#ToC_2_FilteringApplications)\n",
    "\n",
    "Now that you have implemented several filters and you master the concepts behind digital filtering, we are going to lead you in a real application of Gaussian filtering. In this application, you will work on an image of *DIC Microscopy*, and you will use Gaussian filters to estimate the *local standard deviation*.\n",
    "\n",
    "<div class = 'alert alert-info'>\n",
    "<b>About the technique</b>: <a href='https://en.wikipedia.org/wiki/Differential_interference_contrast_microscopy'>Differential interference contrast (DIC) microscopy</a> is a <i>label-free</i> microscopy technique used to visualize transparent samples. It gains informantion about the optical path length of the sample through interferometry, which allows it to <b>detect the shape of a transparent sample</b> in ways that traditional microscopy cannot. It produces <b>shadow-like and reflection-like structures. Uniform regions in the sample will produce uniform values, whereas regions with high variations will present variations in the values</b>. However, if we want to detect where in the image is our sample and separate it from the rest of the image, it is impossible to do so using simple thresholding. A classical solution is to <b>threshold the local standard deviation of the input image</b>. With proper values of threshold $t$ and of standard deviation $\\sigma$, the sample will be completely extracted from the background.\n",
    "</div> \n",
    "\n",
    "Take a look at the detailed workflow of *DIC Segementation* in the next figure.\n",
    "<table><tr><td>\n",
    "<p align=\"center\" style=\"padding: 10px\">\n",
    "<img src=\"images/DIC_segmentation_workflow.jpg\" width=\"600\"><br>\n",
    "<em style=\"color: grey\">Segmentation of a DIC workflow: A Gaussian filter is applied to the original image <i><b>f</b></i>, to obtain the local mean <i><b>m</b></i>. Then the local $\\sigma$ <i><b>s</b></i> is obtained by substracting <i><b>f-m</b></i>, and applying the square, a Gaussian and the square root operators. The final image is constructed by placing <i><b>f</b></i> in the red and green channels, and the thresholded <i><b>s</b></i> in the blue channel.</em></p> </td></tr></table>\n",
    "\n",
    "## 2.A. Implementation (3 points)\n",
    "[Back to table of contents](#ToC_2_FilteringApplications)\n",
    "\n",
    "We propose to implement the algorithm sketched in the previous figure. It displays **in the blue channel the thresholded local standard deviation, and in the red and green channels the original image**. The two parameters $\\sigma$ and $t$ are given as inputs of the workflow. For this you will write the functions `local_mean`, `local_std` and `segment_dic`. **Each of <i>m</i>, <i>s</i> and the final image will give you $1$ point for a total of $3$**. \n",
    "\n",
    "`local_mean(img, sigma)` takes as parameters: \n",
    " * `img`: The original DIC Microscopy image, and \n",
    " * `sigma`: The standard deviation to use during Gaussian filtering.\n",
    "\n",
    "It returns the local mean (**<i>m</i> in the diagram**).\n",
    "\n",
    "`local_std(img, mean, sigma)` takes as parameters:\n",
    " * `img`: The original DIC Microscopy image,\n",
    " * `mean`: The local mean of the original DIC Microscopy image, and \n",
    " * `sigma`: The standard deviation to use during Gaussian filtering. \n",
    " \n",
    "It returns the local $\\sigma$ (**<i>s</i> in the diagram**).\n",
    "\n",
    "Finally, `segment_dic(img, std, t)` takes as parameters:\n",
    " * `img`: The original DIC Microscopy image,\n",
    " * `std`: The local $\\sigma$ of the original DIC Microscopy image, and \n",
    " * `t`: The threshold, in the range $[0, 255]$.\n",
    " \n",
    "And returns the segmented image.\n",
    " \n",
    "<div class = 'alert alert-success '>\n",
    "<b>Hints</b>:<ul><li>Remember to keep the final image in the range $[0, 255]$.</li><li>To assign a grayscale $(m\\times n)$ image <code>grayscale_img</code> to a channel <code>channel</code> of an RGB image you can simply do <code>RGB_img[:, :, channel] = graysale_img</code>.</li><li>Use the comments in the function <code>segment_dic</code> to guide your solution.</li></ul></div>\n",
    "\n",
    "<div class=\"alert alert-warning\">\n",
    "  <b>Technical notes and requirements</b>:<ul><li>For RGB images, matplotlib requires the data to be in the range <i>[0, 1]</i> for images of data type <code>float</code>, and between <i>[0, 255]</i> for images of data type <code>int</code>. When working with RGB images, make sure to cast your output to one of these data types (e.g. <code>output = output.astype(int)</code>) and range. In the following cell we cast the datatype for you, but <b>you have to make sure that the range is the appropriate</b>.</li><li>in Section <a href=\"#1.B.-Gaussian-filter-in-Python\">1.B.</a> we presented you the <code>scikit-image</code> implementation of the Gaussian filter, which is simple and clear ($2$ strong points of SciKit-Image). However, as you will see later, OpenCV and SciPy tend to be faster (e.g., SciKit-Image's implementation is actualy just a wrapper around SciPy's), and have different strong points. Of course we will accept any correct implementation, but we encourage you to find <a href='https://docs.opencv.org/4.x/d4/d86/group__imgproc__filter.html#gaabe8c836e97159a9193fb0b11ac52cf1'>OpenCV</a>'s and <a href='https://docs.scipy.org/doc/scipy/reference/generated/scipy.ndimage.gaussian_filter.html'>SciPy</a>'s implementations (documentation in links) and use the one you prefer! <b>Make sure you use the correct parameters, like <code>preserve_range = True</code> option (or equivalent), truncating the filter at $3\\sigma$ (so $N = 2\\lceil 3\\sigma \\rceil+1$), and using <code>'reflect'</code> or equivalent boundary conditions.</b></li></ul>\n",
    "</div>\n",
    "\n",
    "Complete the $3$ functions in the next $3$ cells. "
   ]
  },
  {
   "cell_type": "code",
   "execution_count": null,
   "metadata": {
    "deletable": false,
    "kernel": "SoS",
    "nbgrader": {
     "cell_type": "code",
     "checksum": "7b1d63d4c78fb229142c8c410a07429f",
     "grade": false,
     "grade_id": "cell-835c229325ae7f17",
     "locked": false,
     "schema_version": 3,
     "solution": true,
     "task": false
    }
   },
   "outputs": [],
   "source": [
    "%use sos\n",
    "\n",
    "# Complete local_mean to calculate the local mean\n",
    "def local_mean(img, sigma):\n",
    "    mean = np.zeros(img.shape)\n",
    "    \n",
    "    # Calculate local mean\n",
    "    # YOUR CODE HERE\n",
    "    return mean"
   ]
  },
  {
   "cell_type": "code",
   "execution_count": null,
   "metadata": {
    "deletable": false,
    "kernel": "SoS",
    "nbgrader": {
     "cell_type": "code",
     "checksum": "12ec0a2c7ea94a938bba4182be80ca5a",
     "grade": false,
     "grade_id": "cell-5529c11f6be46b47",
     "locked": false,
     "schema_version": 3,
     "solution": true,
     "task": false
    }
   },
   "outputs": [],
   "source": [
    "%use sos\n",
    "\n",
    "# Complete local_std to calculate the local standard deviation\n",
    "def local_std(img, mean, sigma):\n",
    "    s = np.zeros(img.shape)\n",
    "    \n",
    "    # Estimate local standard deviation\n",
    "    # YOUR CODE HERE\n",
    "    return s"
   ]
  },
  {
   "cell_type": "code",
   "execution_count": null,
   "metadata": {
    "deletable": false,
    "kernel": "SoS",
    "nbgrader": {
     "cell_type": "code",
     "checksum": "5d09f15ae807c6e0f3443706a7c521a9",
     "grade": false,
     "grade_id": "cell-f1dac4ab7fb71c05",
     "locked": false,
     "schema_version": 3,
     "solution": true,
     "task": false
    }
   },
   "outputs": [],
   "source": [
    "%use sos\n",
    "\n",
    "# Complete segment_dic, that normalizes, binarizes and builds an RGB image \n",
    "def segment_dic(img, std, t):\n",
    "    # Declare an image with three channels of the same size as the original\n",
    "    M, N = img.shape\n",
    "    output = np.zeros((M, N, 3))\n",
    "    \n",
    "    # Normalize std to range [0, 255]\n",
    "    # YOUR CODE HERE\n",
    "    \n",
    "    # Apply thresholding to std\n",
    "    # YOUR CODE HERE\n",
    "    \n",
    "    # Assign thresholded std to blue (2) channel, and original image to red (0) and green (1) channels\n",
    "    # YOUR CODE HERE\n",
    "    \n",
    "    # We make sure to have an int type (this operation floors all elements of the output)\n",
    "    output = output.astype(int)\n",
    "    return output"
   ]
  },
  {
   "cell_type": "markdown",
   "metadata": {
    "deletable": false,
    "editable": false,
    "kernel": "SoS",
    "nbgrader": {
     "cell_type": "markdown",
     "checksum": "42963c65ff2ce375f83892f411da9734",
     "grade": false,
     "grade_id": "cell-cb03bd6c68182ba9",
     "locked": true,
     "schema_version": 3,
     "solution": false,
     "task": false
    }
   },
   "source": [
    "Before visualizing the segmentation, we will run a few sanity checks. In the next cell, we will test that:\n",
    " * the output is correctly normalized, \n",
    " * the channels are indeed the binarized standard deviation (blue channel) and original image (red and green channels)\n",
    " * the standard deviation is correct (using a $3\\times 3$ test image)."
   ]
  },
  {
   "cell_type": "code",
   "execution_count": null,
   "metadata": {
    "deletable": false,
    "editable": false,
    "kernel": "SoS",
    "nbgrader": {
     "cell_type": "code",
     "checksum": "4cae6d8585c9c363dccd1cdf2d06f85a",
     "grade": true,
     "grade_id": "cell-cbdfe2ac6ca45d9c",
     "locked": true,
     "points": 1,
     "schema_version": 3,
     "solution": false,
     "task": false
    },
    "tags": []
   },
   "outputs": [],
   "source": [
    "%use sos\n",
    "# Here we will test on the real image, `hela` the local mean and std\n",
    "mean = local_mean(hela, 1)\n",
    "std = local_std(hela, mean, 1)\n",
    "segmented_hela = segment_dic(hela, std, 10)\n",
    "\n",
    "# First we test for normalization\n",
    "if not segmented_hela.min() == 0:\n",
    "    print(f'WARNING!\\nYour minimum value is not correct (it should be 0, instead of {segmented_hela.min()})')\n",
    "elif not segmented_hela.max() == 255:\n",
    "    print(f'WARNING!\\nYour maximum value is not correct (it should be 255, instead of {segmented_hela.max()})')\n",
    "else :\n",
    "    print(f'Well done! Your output seems correctly normalized.')\n",
    "\n",
    "# Now for binarization\n",
    "if not len(np.unique(segmented_hela[:, :, 2])) == 2:\n",
    "    print(f'WARNING!\\nYour blue channel should have 2 values, instead of {len(np.unique(segmented_hela[:, :, 2]))}.')\n",
    "\n",
    "# Now we will check the correctness of the standard deviation with a 3x3 impulse.\n",
    "impulse = np.array([[0, 0, 0], [0, 255, 0], [0, 0, 0]])\n",
    "\n",
    "# Apply your function\n",
    "impulse_mean = local_mean(impulse, 1)\n",
    "impulse_std = local_std(impulse, impulse_mean, 1)\n",
    "segmented_impulse = segment_dic(impulse, impulse_std, 10)\n",
    "\n",
    "# We inspect the blue channel\n",
    "blue_correct = np.array([[  0, 255,   0],[255, 255, 255],[  0, 255,   0]])\n",
    "if not np.count_nonzero(segmented_impulse[:,:,2] - blue_correct) == 0:\n",
    "    print('WARNING!\\nYour standard deviation does not seem to be correct!')\n",
    "else :\n",
    "    print('Good job! Your implementation passed this initial sanity check.')"
   ]
  },
  {
   "cell_type": "markdown",
   "metadata": {
    "deletable": false,
    "editable": false,
    "kernel": "SoS",
    "nbgrader": {
     "cell_type": "markdown",
     "checksum": "38b7035b00f79300ec9d7794717ba437",
     "grade": false,
     "grade_id": "cell-4d3763f89b2ff05d",
     "locked": true,
     "schema_version": 3,
     "solution": false,
     "task": false
    }
   },
   "source": [
    "Now that we have some sanity checks on the segmentation, we will visualize the local mean and $\\sigma$. Make sure to understand both plots! Ask yourself, *what does the local mean represent? What does the local $\\sigma$ represent? How do you relate your workflow with the [definition](https://en.wikipedia.org/wiki/Standard_deviation#Uncorrected_sample_standard_deviation) of the standard deviation $\\sigma$?* \n",
    "\n",
    "Run the next cell to visualize them. "
   ]
  },
  {
   "cell_type": "code",
   "execution_count": null,
   "metadata": {
    "deletable": false,
    "editable": false,
    "kernel": "SoS",
    "nbgrader": {
     "cell_type": "code",
     "checksum": "c5603f87c8aa6d885bd59f632bd5d0e4",
     "grade": true,
     "grade_id": "cell-2e07d3a05a5aad1c",
     "locked": true,
     "points": 1,
     "schema_version": 3,
     "solution": false,
     "task": false
    }
   },
   "outputs": [],
   "source": [
    "%use sos\n",
    "# Here we will test plot the local mean and std\n",
    "mean = local_mean(hela, 5)\n",
    "std = local_std(hela, mean, 5)\n",
    "segmented_hela = segment_dic(hela, std, 10)\n",
    "\n",
    "segment_dic_viewer = viewer([hela, mean, std, segmented_hela], title=['Original', 'Mean', 'Standard Dev'], cmap='viridis', widgets=True, hist=True)"
   ]
  },
  {
   "cell_type": "markdown",
   "metadata": {
    "deletable": false,
    "editable": false,
    "kernel": "SoS",
    "nbgrader": {
     "cell_type": "markdown",
     "checksum": "a53682fb0c54bf5508ba620357a4e023",
     "grade": false,
     "grade_id": "cell-0f9e3a9b20ef166f",
     "locked": true,
     "schema_version": 3,
     "solution": false,
     "task": false
    },
    "user_expressions": []
   },
   "source": [
    "(understanding-the-effect-of-the-parameters)=\n",
    "## 2.B. Understanding the effect of the parameters\n",
    "[Back to table of contents](#ToC_2_FilteringApplications)\n",
    "\n",
    "Hopefully, you agree that not a lot of extra information can be extracted from the mean (indeed, it's *just* a Gaussian filtering). But how about the standard deviation? If you implemented the workflow correctly, you should see that it really separates the area of interest from the rest. Let's now look at the role of the two parameters $\\sigma$ and $t$. \n",
    "\n",
    ":::{note}\n",
    "So far, we have not discussed the effects of $\\sigma$ and of $t$. We have blindly been using $1$ and $10$ respectively. But what constitutes an appropriate parameter? In the next cell, we prepared an interactive viewer with two sliders in the `Extra widgets` menu: \n",
    "* The first one will control $\\sigma$\n",
    "* The second one will control `t`. \n",
    "\n",
    "Use the button `Segment` to see the effect of the parameters!\n",
    ":::"
   ]
  },
  {
   "cell_type": "code",
   "execution_count": null,
   "metadata": {
    "deletable": false,
    "editable": false,
    "kernel": "SoS",
    "nbgrader": {
     "cell_type": "code",
     "checksum": "3801ff3e5521151dc46a6d88d1daeb76",
     "grade": true,
     "grade_id": "cell-946182dbd422578b",
     "locked": true,
     "points": 1,
     "schema_version": 3,
     "solution": false,
     "task": false
    }
   },
   "outputs": [],
   "source": [
    "%use sos\n",
    "# Here we will test plot the local mean and std\n",
    "mean = local_mean(hela, 1)\n",
    "std = local_std(hela, mean, 1)\n",
    "segmented_hela = segment_dic(hela, std, 10)\n",
    "\n",
    "sigma_slider = widgets.FloatSlider(value=1, min=0.1, max=5, step=0.1, description='$\\sigma_1$')\n",
    "# sigma_slider = widgets.FloatSlider(value=1, min=0.5, max=10.0, step=0.5, description='\\u03c3\\u2081:')\n",
    "t_slider = widgets.FloatSlider(value=10, min=1, max=255, step=0.1, description='t')\n",
    "button = widgets.Button(description = 'Segment')\n",
    "\n",
    "def segment_callback(img):\n",
    "    sigma = sigma_slider.value\n",
    "    t = t_slider.value\n",
    "    \n",
    "    mean = local_mean(hela, sigma)\n",
    "    std = local_std(hela, mean, sigma)\n",
    "    segmented_hela = segment_dic(hela, std, t)\n",
    "    return segmented_hela\n",
    "\n",
    "segment_dic_viewer = viewer(hela, title=['Segmentation'], new_widgets=[sigma_slider, t_slider, button], callbacks=[segment_callback], widgets=True)\n",
    "button.click()"
   ]
  },
  {
   "cell_type": "markdown",
   "metadata": {
    "deletable": false,
    "editable": false,
    "kernel": "SoS",
    "nbgrader": {
     "cell_type": "markdown",
     "checksum": "e0af832acd00b82cfd6a17da6eca663d",
     "grade": false,
     "grade_id": "cell-150b621dbb22fc35",
     "locked": true,
     "schema_version": 3,
     "solution": false,
     "task": false
    },
    "user_expressions": []
   },
   "source": [
    "Congratulations on finishing the second part of the Filtering lab!\n",
    "\n",
    ":::{attention}\n",
    "Make sure to save your notebook (you might want to keep a copy on your personal computer) and upload it to [Moodle](https://moodle.epfl.ch/mod/assign/view.php?id=1157357), in a zip file with the other notebook of this lab.\n",
    "\n",
    "* Keep the name of the notebook as: *2_Filtering_Applications.ipynb*,\n",
    "* Name the zip file: *Filtering_lab.zip*.\n",
    ":::"
   ]
  }
 ],
 "metadata": {
  "kernelspec": {
   "display_name": "SoS",
   "language": "sos",
   "name": "sos"
  },
  "language_info": {
   "codemirror_mode": "sos",
   "file_extension": ".sos",
   "mimetype": "text/x-sos",
   "name": "sos",
   "nbconvert_exporter": "sos_notebook.converter.SoS_Exporter",
   "pygments_lexer": "sos"
  },
  "sos": {
   "kernels": [
    [
     "JavaScript",
     "javascript",
     "JavaScript",
     "#c8e1ae",
     ""
    ],
    [
     "SoS",
     "sos",
     "",
     "",
     "sos"
    ]
   ],
   "panel": {
    "displayed": false,
    "height": 0
   },
   "version": "0.23.4"
  }
 },
 "nbformat": 4,
 "nbformat_minor": 4
}