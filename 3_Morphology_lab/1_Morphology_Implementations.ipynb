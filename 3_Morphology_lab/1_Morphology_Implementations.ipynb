{
 "cells": [
  {
   "cell_type": "markdown",
   "id": "00f36b37",
   "metadata": {
    "deletable": false,
    "editable": false,
    "kernel": "SoS",
    "nbgrader": {
     "cell_type": "markdown",
     "checksum": "853f51c24fd3a8636b52f6f2373ed4fa",
     "grade": false,
     "grade_id": "cell-b6591427419686a3",
     "locked": true,
     "schema_version": 3,
     "solution": false,
     "task": false
    }
   },
   "source": [
    "<img src=\"https://www.epfl.ch/about/overview/wp-content/uploads/2020/07/logo-epfl-1024x576.png\" style=\"padding-right:10px;width:140px;float:left\"></td>\n",
    "<h2 style=\"white-space: nowrap\">Image Processing Laboratory Notebooks</h2>\n",
    "<hr style=\"clear:both\">\n",
    "<p style=\"font-size:0.85em; margin:2px; text-align:justify\">\n",
    "This Juypter notebook is part of a series of computer laboratories which are designed\n",
    "to teach image-processing programming; they are running on the EPFL's Noto server. They are the practical complement of the theoretical lectures of the EPFL's Master course <b>Image Processing I</b> \n",
    "(<a href=\"https://moodle.epfl.ch/course/view.php?id=522\">MICRO-511</a>) taught by Prof. M. Unser and Prof. D. Van de Ville.\n",
    "</p>\n",
    "<p style=\"font-size:0.85em; margin:2px; text-align:justify\">\n",
    "The project is funded by the Center for Digital Education and the School of Engineering. It is owned by the <a href=\"http://bigwww.epfl.ch/\">Biomedical Imaging Group</a>. \n",
    "The distribution or the reproduction of the notebook is strictly prohibited without the written consent of the authors.  &copy; EPFL <mark>2023</mark>.\n",
    "</p>\n",
    "<p style=\"font-size:0.85em; margin:0px\"><b>Authors</b>: \n",
    "    <a href=\"mailto:pol.delaguilapla@epfl.ch\">Pol del Aguila Pla</a>, \n",
    "    <a href=\"mailto:kay.lachler@epfl.ch\">Kay L\u00e4chler</a>,\n",
    "    <a href=\"mailto:alejandro.nogueronaramburu@epfl.ch\">Alejandro Noguer\u00f3n Ar\u00e1mburu</a>, and\n",
    "    <a href=\"mailto:daniel.sage@epfl.ch\">Daniel Sage</a>.\n",
    "</p>\n",
    "<hr style=\"clear:both\">\n",
    "<h1>Lab 3.1: Morphology</h1>\n",
    "<div style=\"background-color:#F0F0F0;padding:4px\">\n",
    "    <p style=\"margin:4px;\"><b>Released</b>: <mark>Thursday December 14, 2023</mark></p>\n",
    "    <p style=\"margin:4px;\"><b>Submission</b>: <mark><span style=\"color:red\">Monday December 25, 2023</span></mark> (before 11:59PM) on <a href=\"https://moodle.epfl.ch/course/view.php?id=522\">Moodle</a></p>\n",
    "    <p style=\"margin:4px;\"><b>Grade weight</b>: Lab 3 (<mark>18</mark> points), 10% of the overall grade</p>\n",
    "    <p style=\"margin:4px;\"><b>Related lectures</b>: Chapter 4.3</p> \n",
    "</div>"
   ]
  },
  {
   "cell_type": "markdown",
   "id": "8822d6d1",
   "metadata": {
    "kernel": "SoS"
   },
   "source": [
    "### Student Name: \n",
    "### SCIPER: \n",
    "\n",
    "Double-click on this cell and fill your name and SCIPER number. Then, run the cell below to verify your identity in Noto and set the seed for random results."
   ]
  },
  {
   "cell_type": "code",
   "execution_count": null,
   "id": "f8a861c7",
   "metadata": {
    "deletable": false,
    "editable": false,
    "kernel": "SoS",
    "nbgrader": {
     "cell_type": "code",
     "checksum": "ffa6bde7561dda36f72e6bbae910e2c9",
     "grade": true,
     "grade_id": "cell-8074a1c8b63bfc5f",
     "locked": true,
     "points": 0,
     "schema_version": 3,
     "solution": false,
     "task": false
    }
   },
   "outputs": [],
   "source": [
    "%use sos\n",
    "import getpass\n",
    "# This line recovers your camipro number to mark the images with your ID\n",
    "uid = int(getpass.getuser().split('-')[2]) if len(getpass.getuser().split('-')) > 2 else ord(getpass.getuser()[0])\n",
    "print(f'SCIPER: {uid}')"
   ]
  },
  {
   "cell_type": "markdown",
   "id": "57bf452b",
   "metadata": {
    "deletable": false,
    "editable": false,
    "kernel": "SoS",
    "nbgrader": {
     "cell_type": "markdown",
     "checksum": "577f06b6d95827ee4fc73379241b13b2",
     "grade": false,
     "grade_id": "cell-736900d1f22aedd3",
     "locked": true,
     "schema_version": 3,
     "solution": false,
     "task": false
    }
   },
   "source": [
    "## Imports"
   ]
  },
  {
   "cell_type": "code",
   "execution_count": null,
   "id": "e13b5f3a",
   "metadata": {
    "deletable": false,
    "editable": false,
    "kernel": "SoS",
    "nbgrader": {
     "cell_type": "code",
     "checksum": "639717189ff9af799001487a6db36edf",
     "grade": false,
     "grade_id": "cell-6a3d462fee959db9",
     "locked": true,
     "schema_version": 3,
     "solution": false,
     "task": false
    }
   },
   "outputs": [],
   "source": [
    "%use sos\n",
    "# Configure plotting as dynamic\n",
    "%matplotlib widget\n",
    "\n",
    "# Import required packages for this lab\n",
    "import matplotlib.pyplot as plt\n",
    "import ipywidgets as widgets\n",
    "import numpy as np\n",
    "import skimage\n",
    "import skimage.io as io\n",
    "from interactive_kit import imviewer as viewer \n",
    "\n",
    "# Load images to be used in this lab \n",
    "plate = io.imread('images/plate.tif')\n",
    "butterfly = io.imread('images/butterfly-graylevel.tif')"
   ]
  },
  {
   "cell_type": "code",
   "execution_count": null,
   "id": "306ab571",
   "metadata": {
    "deletable": false,
    "editable": false,
    "kernel": "JavaScript",
    "nbgrader": {
     "cell_type": "code",
     "checksum": "0f2785ffec3fa7a9c2926de796ffb50a",
     "grade": true,
     "grade_id": "cell-a72f1c6b8785bb42",
     "locked": true,
     "points": 0,
     "schema_version": 3,
     "solution": false,
     "task": false
    }
   },
   "outputs": [],
   "source": [
    "%use javascript\n",
    "// import image-access as Image\n",
    "var Image = require('image-access')"
   ]
  },
  {
   "cell_type": "markdown",
   "id": "a0dc8b3c",
   "metadata": {
    "deletable": false,
    "editable": false,
    "kernel": "JavaScript",
    "nbgrader": {
     "cell_type": "markdown",
     "checksum": "d01ae2abbffb8be4c49525ba75b2374a",
     "grade": false,
     "grade_id": "cell-5e89c74dc515a578",
     "locked": true,
     "schema_version": 3,
     "solution": false,
     "task": false
    }
   },
   "source": [
    "# Morphology Implementations (13 points)\n",
    "\n",
    "In the first part of this laboratory you will learn:\n",
    "1. how to implement several morphological filters in a low-level language JavaScript, and\n",
    "\n",
    "2. how to apply them in image processing applications using morphology module of [`scikit-image`](https://scikit-image.org/docs/dev/api/skimage.morphology.html).\n",
    "\n",
    "We will focus mainly on 2D gray-level morphology, but keep in mind that the same operations can easily be adapted to color images by treating each color channel as an independent gray-level image.\n",
    "\n",
    "## <a id=\"ToC_1_Morphology\"></a>Table of contents\n",
    "1. [Structuring elements](#1.-Structuring-elements-(3-points)) (**3 points**)\n",
    "    1. [Square](#1.A.-Square-structuring-element)\n",
    "    2. [Cross](#1.B.-Cross-structuring-element)\n",
    "    3. [Disc](#1.C.-Disc-structuring-element)\n",
    "    4. [Diagonal line](#1.D.-Diagonal-structuring-element)\n",
    "2. [Debugging](#2.-Debugging-(1-point)) (**1 point**)\n",
    "3. [Morphological filters](#3.-Morphological-filters-(8-points)) (**8 points**)\n",
    "    1. [Erosion](#3.A.-Erosion)\n",
    "    2. [Dilation](#3.B.-Dilation)\n",
    "    3. [Median](#3.C.-Median-filter)\n",
    "    4. [Opening](#3.D.-Opening)\n",
    "    5. [Closing](#3.E.-Closing)\n",
    "    6. [Gradient](#3.F.-Gradient-filter)\n",
    "    7. [Top-hat](#3.G.-Top-hat-filter)\n",
    "    8. [Bottom-hat](#3.H.-Bottom-hat-filter)\n",
    "4. [Understanding morphology](#4.-Understanding-morphology-(1-point)) (**1 point**)\n",
    "    1. [Operators](#4.A.-Operators)\n",
    "    2. [Exploration](#4.B.-Structuring-elements)\n",
    "\n",
    "\n",
    "# 1. Structuring elements (3 points)\n",
    "[Back to table of contents](#ToC_1_Morphology)\n",
    "\n",
    "As you have seen in the course, a structuring element (here in the code abbreviated as `strel`) can be discribed by a **binary image consisting of a foreground and a background, which are represented with `true` (or $1$) and `false` (or $0$)**, respectively. They are used in morphological filters such as dilation, erosion, opening, closing and all others that are derived from those.  \n",
    "\n",
    "Your task is to implement 3 different structuring elements, namely a cross, a disc and a diagonal line, by completing the following three functions `cross(n)`, `disc(n)` and `diag(n)` (**each worth 1 point**). **Here, we assume $n$ odd**. We provide a function `square(n)` that implements a square structuring element for your reference.\n",
    "\n",
    "* \"cross\" contains a horizontal and a vertical line that meet in the center of the square, both with a single-pixel width. \n",
    "* \"disc\" contains elements which are inside a circle tangent to the frame of the $n \\times n$ square. \n",
    "* \"diag\" contains a $1$-pixel wide line that starts in the bottom-left corner and ends in the top-right. \n",
    "\n",
    "The images below show an example of how the different elements should look with a size of $9 \\times 9$.\n",
    "\n",
    "<center><img alt=\"Structuring elements\" src=\"images/Structuring_elements_showcase.png\" width=\"500\"></center>\n",
    "\n",
    "\n",
    "## 1.A. Square structuring element\n",
    "[Back to table of contents](#ToC_1_Morphology)\n",
    "\n",
    "The next cell provides the example function `square(n)`, which **returns a square of size $n \\times n$ filled with $1$s**."
   ]
  },
  {
   "cell_type": "code",
   "execution_count": null,
   "id": "325173ae",
   "metadata": {
    "deletable": false,
    "editable": false,
    "kernel": "JavaScript",
    "nbgrader": {
     "cell_type": "code",
     "checksum": "c4a309960ffa47ae401198edd97ad5b9",
     "grade": false,
     "grade_id": "cell-b0eac8e0997b6aaf",
     "locked": true,
     "schema_version": 3,
     "solution": false,
     "task": false
    }
   },
   "outputs": [],
   "source": [
    "%use javascript\n",
    "// function that takes as input an integer n and returns an n x n image of '1's\n",
    "function square(n){ \n",
    "    // declare the output image\n",
    "    var output = new Image(n, n);\n",
    "    // iterate through each pixel\n",
    "    for(var x = 0; x < n; x++){  \n",
    "        for(var y = 0; y < n; y++){\n",
    "            // assign pixel value at location (x,y) to '1'\n",
    "            output.setPixel(x, y, 1);\n",
    "        }\n",
    "    }\n",
    "    return output;\n",
    "}"
   ]
  },
  {
   "cell_type": "markdown",
   "id": "4952c2e9",
   "metadata": {
    "deletable": false,
    "editable": false,
    "kernel": "JavaScript",
    "nbgrader": {
     "cell_type": "markdown",
     "checksum": "3f8afbe0c1d157a44a8fb2d603139d93",
     "grade": false,
     "grade_id": "cell-578f207cb853109a",
     "locked": true,
     "schema_version": 3,
     "solution": false,
     "task": false
    }
   },
   "source": [
    "The next cell runs the function `square(n)` and stores the result in the variable `strel_square`, which is converted to Python using the method <code>.toArray()</code>, in order to display it in another cell. Feel free to experiment with the size passed to the function and observe the results."
   ]
  },
  {
   "cell_type": "code",
   "execution_count": null,
   "id": "b41a0cec",
   "metadata": {
    "kernel": "JavaScript"
   },
   "outputs": [],
   "source": [
    "%use javascript\n",
    "%put strel_square\n",
    "// runs the function you implemented above and converts the Image object to an array\n",
    "// feel free to change the size passed to this function and observe the result\n",
    "var strel_square = square(9).toArray();"
   ]
  },
  {
   "cell_type": "markdown",
   "id": "dcf3a75b",
   "metadata": {
    "deletable": false,
    "editable": false,
    "kernel": "JavaScript",
    "nbgrader": {
     "cell_type": "markdown",
     "checksum": "7d1327e6ab4a94be728ba5086c4d27c1",
     "grade": false,
     "grade_id": "cell-60486afdf7ddb892",
     "locked": true,
     "schema_version": 3,
     "solution": false,
     "task": false
    }
   },
   "source": [
    "Run the next cell to use Python to display the structuring element as an image.\n",
    "\n",
    "<div class = 'alert alert-info'>\n",
    "    \n",
    "<b>Note:</b> Throughout the lab, we will reuse the following general cell structure: \n",
    "<ol><li>Function/Code,</li> \n",
    "<li>Running the function, </li>\n",
    "<li>Display/evaluate the results</li></ol>\n",
    "\n",
    "We will not give a detailed description every time and we will let you do more and more on your own as we progress.\n",
    "</div>"
   ]
  },
  {
   "cell_type": "code",
   "execution_count": null,
   "id": "f5f66837",
   "metadata": {
    "deletable": false,
    "editable": false,
    "kernel": "SoS",
    "nbgrader": {
     "cell_type": "code",
     "checksum": "deb18795b85e97c9a1eeee994b546dc8",
     "grade": false,
     "grade_id": "cell-c9d1631cbc2e1901",
     "locked": true,
     "schema_version": 3,
     "solution": false,
     "task": false
    }
   },
   "outputs": [],
   "source": [
    "%use sos\n",
    "# Display the binary image with a title and numerated pixel grid\n",
    "plt.close('all')\n",
    "disp_square = viewer(np.array(strel_square), title=f'Square structuring element of size {np.shape(strel_square)}', \n",
    "                     clip_range=[0, 1], axis=True, pixel_grid=True, cmap='viridis')"
   ]
  },
  {
   "cell_type": "markdown",
   "id": "4dfc83b6",
   "metadata": {
    "deletable": false,
    "editable": false,
    "kernel": "SoS",
    "nbgrader": {
     "cell_type": "markdown",
     "checksum": "5ee00b73a4ffbe4f91395b9671d5dde4",
     "grade": false,
     "grade_id": "cell-4207dec4e112d305",
     "locked": true,
     "schema_version": 3,
     "solution": false,
     "task": false
    }
   },
   "source": [
    "When working in Python, we can use the `skimage.morphology` module to generate structuring elements (or ['footprints'](https://scikit-image.org/docs/dev/auto_examples/numpy_operations/plot_structuring_elements.html#sphx-glr-auto-examples-numpy-operations-plot-structuring-elements-py) as the module calls them) and perform image processing tasks. The output structuring elements are nothing but a Numpy array. Therefore, we can also define them by ourselves if we don't want to use the built-in functions or if the elements we want are not provided in `skimage.morphology`.\n",
    "\n",
    "For example, a $9 \\times 9$ square can be defined as in the cell below."
   ]
  },
  {
   "cell_type": "code",
   "execution_count": null,
   "id": "a5cb06a6",
   "metadata": {
    "deletable": false,
    "editable": false,
    "kernel": "SoS",
    "nbgrader": {
     "cell_type": "code",
     "checksum": "70afaf663daeb50bdf429f2c4038aed2",
     "grade": false,
     "grade_id": "cell-d3e82a436f97a67d",
     "locked": true,
     "schema_version": 3,
     "solution": false,
     "task": false
    }
   },
   "outputs": [],
   "source": [
    "%use sos\n",
    "strel_square_custom = np.ones((9,9))"
   ]
  },
  {
   "cell_type": "markdown",
   "id": "1c2cae3a",
   "metadata": {
    "deletable": false,
    "editable": false,
    "kernel": "SoS",
    "nbgrader": {
     "cell_type": "markdown",
     "checksum": "3017b66a7288c8922d4a1d30ea4421dd",
     "grade": false,
     "grade_id": "cell-c8ef8fc3a2ba41c9",
     "locked": true,
     "schema_version": 3,
     "solution": false,
     "task": false
    }
   },
   "source": [
    "or we can use [`skimage.morphology.square(width)`](https://scikit-image.org/docs/dev/api/skimage.morphology.html#skimage.morphology.square), which outputs a square structuring element of width (and height) `width`.\n",
    "\n",
    "Run the next cell to get the same $9 \\times 9$ square we defined above."
   ]
  },
  {
   "cell_type": "code",
   "execution_count": null,
   "id": "520561a9",
   "metadata": {
    "deletable": false,
    "editable": false,
    "kernel": "SoS",
    "nbgrader": {
     "cell_type": "code",
     "checksum": "47fc2a718765b151f5f81904f02fb997",
     "grade": false,
     "grade_id": "cell-4a684f8d93a49acc",
     "locked": true,
     "schema_version": 3,
     "solution": false,
     "task": false
    }
   },
   "outputs": [],
   "source": [
    "%use sos\n",
    "strel_square_sk = skimage.morphology.square(width=9)"
   ]
  },
  {
   "cell_type": "markdown",
   "id": "7e36a150",
   "metadata": {
    "deletable": false,
    "editable": false,
    "kernel": "SoS",
    "nbgrader": {
     "cell_type": "markdown",
     "checksum": "55442762c5cd507a8fa9154ed477b694",
     "grade": false,
     "grade_id": "cell-f6323c71dbfb6768",
     "locked": true,
     "schema_version": 3,
     "solution": false,
     "task": false
    }
   },
   "source": [
    "We can compare the three structuring elements (JS, NumPy, skimage). We can do this either visually by providing the `ImageViewer` class with a list of images and titles, as in the cell below.\n",
    "\n",
    "<div class = 'alert alert-info'>\n",
    "\n",
    "<b>Note</b>: <ul>\n",
    "    <li>If you changed the size of the JS structuring element, change it back to $9$ and rerun for the following comparisons. </li>\n",
    "    <li>If the right-most image is only partially visible, make sure to close the file browser tab on the left by clicking on the folder symbol. </li>\n",
    "    </ul>\n",
    "</div>"
   ]
  },
  {
   "cell_type": "code",
   "execution_count": null,
   "id": "1950f8ff",
   "metadata": {
    "deletable": false,
    "editable": false,
    "kernel": "SoS",
    "nbgrader": {
     "cell_type": "code",
     "checksum": "2755ec42eeaec91d83f5ab8374a58395",
     "grade": false,
     "grade_id": "cell-16627fe89819dca2",
     "locked": true,
     "schema_version": 3,
     "solution": false,
     "task": false
    }
   },
   "outputs": [],
   "source": [
    "%use sos\n",
    "\n",
    "# Close existing figures to release memory\n",
    "plt.close('all')\n",
    "# Display the three structuring elemnts side by side to compare them\n",
    "disp_square = viewer([np.array(strel_square), strel_square_custom, strel_square_sk], title=['JavaScript', 'Custom numpy array', 'skimage'], \n",
    "                     subplots=(1,3), clip_range=[0, 1], cmap='viridis', axis=True, pixel_grid=True)"
   ]
  },
  {
   "cell_type": "markdown",
   "id": "9055a4b3",
   "metadata": {
    "deletable": false,
    "editable": false,
    "kernel": "SoS",
    "nbgrader": {
     "cell_type": "markdown",
     "checksum": "bbbf20df6f2ec93a77bbe543e0e00f34",
     "grade": false,
     "grade_id": "cell-f947e8994a4ecd0e",
     "locked": true,
     "schema_version": 3,
     "solution": false,
     "task": false
    }
   },
   "source": [
    "Or we can compare numerically, to make sure all the implementations provide the exact same result by using the `assert` statement, as in the cell below.\n",
    "\n",
    "<div class=\"alert alert-info\">\n",
    "\n",
    "<b>Note</b>: <a href=\"https://numpy.org/doc/stable/reference/generated/numpy.allclose.html\"><code>np.allclose(arr1, arr2)</code></a> returns <code>True</code> if <code>arr1</code> and <code>arr2</code> are equal to a certain tolerance.\n",
    "</div>"
   ]
  },
  {
   "cell_type": "code",
   "execution_count": null,
   "id": "e24f4508",
   "metadata": {
    "deletable": false,
    "editable": false,
    "kernel": "SoS",
    "nbgrader": {
     "cell_type": "code",
     "checksum": "32ce5a8a0bc4e0e6a0b7eb84968dd192",
     "grade": false,
     "grade_id": "cell-d36ea3600d5e7f1a",
     "locked": true,
     "schema_version": 3,
     "solution": false,
     "task": false
    }
   },
   "outputs": [],
   "source": [
    "%use sos\n",
    "# Compare the JS version to the custom numpy array by substracting one from the other and then counting the number of non-zero pixels, which should be 0\n",
    "assert np.allclose(strel_square, strel_square_custom), 'The JS and NumPy version do not agree.'\n",
    "# Compare the JS version to the skimage version in the same way\n",
    "assert np.allclose(strel_square, strel_square_sk), 'The JS and skimage version do not agree.'\n",
    "print('Indeed, the three structuring elements are exactly the same.')"
   ]
  },
  {
   "cell_type": "markdown",
   "id": "6c47b5a4",
   "metadata": {
    "deletable": false,
    "editable": false,
    "kernel": "SoS",
    "nbgrader": {
     "cell_type": "markdown",
     "checksum": "76c0966ae9c58d0816cacbf1b1d65086",
     "grade": false,
     "grade_id": "cell-159162149fe66449",
     "locked": true,
     "schema_version": 3,
     "solution": false,
     "task": false
    }
   },
   "source": [
    "## 1.B. Cross structuring element\n",
    "[Back to table of contents](#ToC_1_Morphology)\n",
    "\n",
    "Now it's your turn! In the cell below, **for 1 point**, complete the code in JavaScript to implement the `cross(n)` function."
   ]
  },
  {
   "cell_type": "code",
   "execution_count": null,
   "id": "5586f2f9",
   "metadata": {
    "deletable": false,
    "kernel": "JavaScript",
    "nbgrader": {
     "cell_type": "code",
     "checksum": "94402136eca54618679d2055b13b4be1",
     "grade": false,
     "grade_id": "cell-3f3fd87a6aa4c7fa",
     "locked": false,
     "schema_version": 3,
     "solution": true,
     "task": false
    }
   },
   "outputs": [],
   "source": [
    "%use javascript\n",
    "\n",
    "// function that takes as input an integer n and returns the cross structuring element of size (n x n)\n",
    "function cross(n){ \n",
    "    // declare output image\n",
    "    var output = new Image(n, n);\n",
    "    \n",
    "    // YOUR CODE HERE\n",
    "    \n",
    "    return output;\n",
    "}"
   ]
  },
  {
   "cell_type": "code",
   "execution_count": null,
   "id": "3bb24562",
   "metadata": {
    "kernel": "JavaScript"
   },
   "outputs": [],
   "source": [
    "%use javascript\n",
    "%put strel_cross\n",
    "// runs the function you implemented above and converts the Image object to an array\n",
    "// feel free to change the size passed to this function and observe the result\n",
    "var strel_cross = cross(9).toArray();"
   ]
  },
  {
   "cell_type": "code",
   "execution_count": null,
   "id": "38a2cfa7",
   "metadata": {
    "deletable": false,
    "editable": false,
    "kernel": "SoS",
    "nbgrader": {
     "cell_type": "code",
     "checksum": "8c1f1d525c6f5cdbf3b49a1994501102",
     "grade": false,
     "grade_id": "cell-c435ef8ce9a53d7f",
     "locked": true,
     "schema_version": 3,
     "solution": false,
     "task": false
    }
   },
   "outputs": [],
   "source": [
    "%use sos\n",
    "# Display the binary image with a title and numbered pixel grid\n",
    "plt.close('all')\n",
    "disp_cross = viewer(np.array(strel_cross), title=f'Cross structuring element of size {np.shape(strel_cross)}', \n",
    "                    axis=True, pixel_grid=True, cmap='viridis', clip_range=[0, 1])"
   ]
  },
  {
   "cell_type": "markdown",
   "id": "1266bbb9",
   "metadata": {
    "deletable": false,
    "editable": false,
    "kernel": "SoS",
    "nbgrader": {
     "cell_type": "markdown",
     "checksum": "423839c7120c842c1d5f4e7f7c665a63",
     "grade": false,
     "grade_id": "cell-dec611c84655fed8",
     "locked": true,
     "schema_version": 3,
     "solution": false,
     "task": false
    }
   },
   "source": [
    "Skimage doesn't provide a built-in function to generate a cross. However, in Python, we have several ways to do it. A straightforward one is to generate an array of zeros and use advanced indexing to set the middle row/column to $1$. We have dfined such a function in the cell below. "
   ]
  },
  {
   "cell_type": "code",
   "execution_count": null,
   "id": "a5973877-a977-4754-8934-af96ecc44124",
   "metadata": {
    "kernel": "SoS"
   },
   "outputs": [],
   "source": [
    "def cross(n):\n",
    "    output = np.zeros((n, n))\n",
    "    output[n//2, :] = 1\n",
    "    output[:, n//2] = 1\n",
    "    output = output.astype(np.uint8)\n",
    "    return output"
   ]
  },
  {
   "cell_type": "code",
   "execution_count": null,
   "id": "8f04f9a2",
   "metadata": {
    "kernel": "SoS"
   },
   "outputs": [],
   "source": [
    "%use sos\n",
    "# Generate the cross structuring element using cross(n) - feel free to play with the size passed to this function\n",
    "strel_cross_custom = cross(n=9)\n",
    "\n",
    "# Display it\n",
    "plt.close('all')\n",
    "disp_cross_custom = viewer(strel_cross_custom, title=f'Python cross of size {np.shape(strel_cross_custom)}', \n",
    "                       axis=True, pixel_grid=True, cmap='viridis', clip_range=[0, 1])"
   ]
  },
  {
   "cell_type": "markdown",
   "id": "24d24c59",
   "metadata": {
    "deletable": false,
    "editable": false,
    "kernel": "SoS",
    "nbgrader": {
     "cell_type": "markdown",
     "checksum": "8263a55c21d0a3f1683e7d01152da355",
     "grade": false,
     "grade_id": "cell-b16e23c8e7865f26",
     "locked": true,
     "schema_version": 3,
     "solution": false,
     "task": false
    }
   },
   "source": [
    "The following cell tests if the Python and JavaScript structuring elements are identical. To make sure you pass the test, **verify that both are of the same size**!\n",
    "\n",
    "<div class = 'alert alert-danger'>\n",
    "\n",
    "<b>Note:</b> Throughout this section, we will give you the freedom to choose the size of the JS and the skimage structuring element. However, if you do change it, make sure to change it back to the original for the following comparisons. This is true for every exercise. When you hand in your notebook, <b>all comparison cells should run without any error.</b>\n",
    "</div>"
   ]
  },
  {
   "cell_type": "code",
   "execution_count": null,
   "id": "bb106f56",
   "metadata": {
    "deletable": false,
    "editable": false,
    "kernel": "JavaScript",
    "nbgrader": {
     "cell_type": "code",
     "checksum": "9fab86b8a4f46e445ad8bdf9bf3a886f",
     "grade": true,
     "grade_id": "cell-fd58f6b68f1c01d9",
     "locked": true,
     "points": 1,
     "schema_version": 3,
     "solution": false,
     "task": false
    }
   },
   "outputs": [],
   "source": [
    "%use javascript\n",
    "%get strel_cross_custom\n",
    "// Make a small test on the size of the structuring elements\n",
    "if(Image.arrayCompare(Image.shape(strel_cross), Image.shape(strel_cross_custom)) == false){\n",
    "    console.log('WARNING!\\nThe size of the two structuring elements is not the same:\\nstrel_cross = (' + Image.shape(strel_cross) + '), strel_cross_custom = (' + Image.shape(strel_cross_custom) + ')\\n');\n",
    "} \n",
    "// Now on their pixelwise equality\n",
    "if(Image.arrayCompare(strel_cross, strel_cross_custom) == false){\n",
    "    console.log('WARNING!\\nThe two structuring elements are not the same. Look at the difference between the two images above and try to find what you are doing wrong.\\n');\n",
    "}else{\n",
    "    // If everything is ok, print a victory message\n",
    "    console.log(\"Yes! The crosses are identical.\");}"
   ]
  },
  {
   "cell_type": "markdown",
   "id": "33677120",
   "metadata": {
    "deletable": false,
    "editable": false,
    "kernel": "JavaScript",
    "nbgrader": {
     "cell_type": "markdown",
     "checksum": "5381b453b07fcbff304414d2de601fa5",
     "grade": false,
     "grade_id": "cell-25b6a2b7a93ab270",
     "locked": true,
     "schema_version": 3,
     "solution": false,
     "task": false
    }
   },
   "source": [
    "## 1.C. Disc structuring element \n",
    "[Back to table of contents](#ToC_1_Morphology)\n",
    "\n",
    "In the cell below, **for 1 point**, complete the code in JavaScript to implement the `disc(n)` function."
   ]
  },
  {
   "cell_type": "code",
   "execution_count": null,
   "id": "69be693f",
   "metadata": {
    "deletable": false,
    "kernel": "JavaScript",
    "nbgrader": {
     "cell_type": "code",
     "checksum": "fd2daa758837c1ae28b1c0db9547333c",
     "grade": false,
     "grade_id": "cell-e464b5c0f69e8891",
     "locked": false,
     "schema_version": 3,
     "solution": true,
     "task": false
    }
   },
   "outputs": [],
   "source": [
    "%use javascript\n",
    "\n",
    "// function that takes as input an integer n and returns the disc structuring element of size (n x n)\n",
    "function disc(n){ \n",
    "    // Declare output image\n",
    "    var output = new Image(n, n);\n",
    "    \n",
    "    // YOUR CODE HERE\n",
    "    \n",
    "    return output;\n",
    "}"
   ]
  },
  {
   "cell_type": "code",
   "execution_count": null,
   "id": "c621110c",
   "metadata": {
    "kernel": "JavaScript"
   },
   "outputs": [],
   "source": [
    "%use javascript\n",
    "%put strel_disc\n",
    "// runs the function you implemented above and converts the Image object to an array\n",
    "// feel free to change the size passed to this function and observe the result\n",
    "var strel_disc = disc(9).toArray();"
   ]
  },
  {
   "cell_type": "code",
   "execution_count": null,
   "id": "ac54cee5",
   "metadata": {
    "deletable": false,
    "editable": false,
    "kernel": "SoS",
    "nbgrader": {
     "cell_type": "code",
     "checksum": "6c6b92ab4b48c9a0745c8f9de77e3937",
     "grade": false,
     "grade_id": "cell-f11f360381ff60f4",
     "locked": true,
     "schema_version": 3,
     "solution": false,
     "task": false
    }
   },
   "outputs": [],
   "source": [
    "%use sos\n",
    "# Display the binary image with a title and numerated pixel grid\n",
    "plt.close('all')\n",
    "disp_disc = viewer(np.array(strel_disc), title=f'Disc structuring element of size {np.shape(strel_disc)}', \n",
    "                   axis=True, pixel_grid=True, cmap='viridis', clip_range=[0, 1])"
   ]
  },
  {
   "cell_type": "markdown",
   "id": "83f973f0",
   "metadata": {
    "deletable": false,
    "editable": false,
    "kernel": "SoS",
    "nbgrader": {
     "cell_type": "markdown",
     "checksum": "16e90ec11315ec26415b88f0c412cb26",
     "grade": false,
     "grade_id": "cell-7641b12ffd8c88d1",
     "locked": true,
     "schema_version": 3,
     "solution": false,
     "task": false
    }
   },
   "source": [
    "Skimage provides a function `skimage.morphology.disk(radius)` to generate a disc structuring element of radius=`radius`. Run the cell below to generate a disc of size $9\\times9$."
   ]
  },
  {
   "cell_type": "code",
   "execution_count": null,
   "id": "c30505fe",
   "metadata": {
    "deletable": false,
    "editable": false,
    "kernel": "SoS",
    "nbgrader": {
     "cell_type": "code",
     "checksum": "ccd3324ecd1c4ea518570def73a9f3d7",
     "grade": false,
     "grade_id": "cell-077429006653fcce",
     "locked": true,
     "schema_version": 3,
     "solution": false,
     "task": false
    }
   },
   "outputs": [],
   "source": [
    "%use sos\n",
    "# to genenrate a disk of size n, use radius=n//2\n",
    "strel_disc_sk = skimage.morphology.disk(radius=4)\n",
    "# Display the result\n",
    "plt.close('all')\n",
    "disp_strel_disc_sk = viewer(strel_disc_sk, title='Skimage\\'s disc', pixel_grid=True, axis=True, cmap='viridis')"
   ]
  },
  {
   "cell_type": "markdown",
   "id": "6ac5e261",
   "metadata": {
    "deletable": false,
    "editable": false,
    "kernel": "SoS",
    "nbgrader": {
     "cell_type": "markdown",
     "checksum": "7332de016ff2cc64518f66bd7bd972fe",
     "grade": false,
     "grade_id": "cell-4f88423d0ac74cf0",
     "locked": true,
     "schema_version": 3,
     "solution": false,
     "task": false
    }
   },
   "source": [
    "<a name=\"disc_function\"></a>\n",
    "\n",
    "Alternatively, we can also create our own function in Python to generate a disc structuring element by using the [lambda function](https://numpy.org/doc/stable/reference/generated/numpy.fromfunction.html) to avoid for-loops.\n",
    "For the scope of this lab you do not need to understand the <code>lambda</code> function. However, we do recommend you to go through the documentation and to completely understand the following cell, it will improve your programming skills!\n",
    "\n",
    "Run the next cell to declare the function `disc(n)`."
   ]
  },
  {
   "cell_type": "code",
   "execution_count": null,
   "id": "4834b70c",
   "metadata": {
    "deletable": false,
    "editable": false,
    "kernel": "SoS",
    "nbgrader": {
     "cell_type": "code",
     "checksum": "4880f2302e6fc57e3717b44495545d07",
     "grade": false,
     "grade_id": "cell-c72ce7d47e3834d6",
     "locked": true,
     "schema_version": 3,
     "solution": false,
     "task": false
    }
   },
   "outputs": [],
   "source": [
    "%use sos\n",
    "# Function that generates a disc structuring element in python\n",
    "def disc(n):\n",
    "    # Define the function of a circle as a lambda function\n",
    "    circle_func = lambda i, j: ((i - n//2)**2 + (j - n//2)**2) <= (n//2)**2\n",
    "    # Set all elements of the array that are inside the circle of diameter n to 1 - np.uint8\n",
    "    output = np.fromfunction(circle_func, shape=(n,n)).astype(np.uint8)\n",
    "    # Return the structuring element\n",
    "    return output"
   ]
  },
  {
   "cell_type": "markdown",
   "id": "e715a6c0",
   "metadata": {
    "deletable": false,
    "editable": false,
    "kernel": "SoS",
    "nbgrader": {
     "cell_type": "markdown",
     "checksum": "b6874c5cc016fe7d35bb510bb947c15a",
     "grade": false,
     "grade_id": "cell-52056eb7f3878ef7",
     "locked": true,
     "schema_version": 3,
     "solution": false,
     "task": false
    }
   },
   "source": [
    "Now run the next one to declare a circular structuring element. Feel free to change `n`, and look at the effect."
   ]
  },
  {
   "cell_type": "code",
   "execution_count": null,
   "id": "28aaff4b",
   "metadata": {
    "kernel": "SoS"
   },
   "outputs": [],
   "source": [
    "%use sos\n",
    "# Here we generate a disc structuring element with python by calling the function implemented above\n",
    "strel_disc_python = disc(9)\n",
    "# And display it\n",
    "plt.close('all')\n",
    "disp_disc = viewer(strel_disc_python, title=f'Python disc of size {np.shape(strel_disc_python)}', \n",
    "                   pixel_grid=True, axis=True, cmap='viridis')"
   ]
  },
  {
   "cell_type": "markdown",
   "id": "bf4cf934",
   "metadata": {
    "deletable": false,
    "editable": false,
    "kernel": "SoS",
    "nbgrader": {
     "cell_type": "markdown",
     "checksum": "64fa727e12d725fb019ea00b1de63d20",
     "grade": false,
     "grade_id": "cell-b06a45ee40cbdb4e",
     "locked": true,
     "schema_version": 3,
     "solution": false,
     "task": false
    }
   },
   "source": [
    "Now run the cell below to compare your implementation in JS with the Python implementation."
   ]
  },
  {
   "cell_type": "code",
   "execution_count": null,
   "id": "a2e0652f",
   "metadata": {
    "deletable": false,
    "editable": false,
    "kernel": "JavaScript",
    "nbgrader": {
     "cell_type": "code",
     "checksum": "e35a3d34ae78a4cb1c2e3c48ecd29867",
     "grade": true,
     "grade_id": "cell-b40adc07eb643693",
     "locked": true,
     "points": 1,
     "schema_version": 3,
     "solution": false,
     "task": false
    }
   },
   "outputs": [],
   "source": [
    "%use javascript\n",
    "%get strel_disc_python\n",
    "// This cell tests if the two tructuring elements (JavaScript and Python) are identical, which they should be\n",
    "if(Image.arrayCompare(Image.shape(strel_disc), Image.shape(strel_disc_python)) == false){\n",
    "    console.log('WARNING!\\nThe size of the two structuring elements is not the same:\\nstrel_cross = (' + Image.shape(strel_disc) + '), strel_cross_cv = (' + Image.shape(strel_disc_python) + ')\\n');\n",
    "}\n",
    "if(Image.arrayCompare(strel_disc, strel_disc_python) == false){\n",
    "    console.log('WARNING!\\nThe two structuring elements are not the same. Look at the difference between the two images above and try to find what you are doing wrong.\\n');\n",
    "}else{\n",
    "    // If they are, we print a victory message\n",
    "    console.log(\"Well done! Your disc is the same as skimage.\");}"
   ]
  },
  {
   "cell_type": "markdown",
   "id": "familiar-hawaiian",
   "metadata": {
    "deletable": false,
    "editable": false,
    "kernel": "JavaScript",
    "nbgrader": {
     "cell_type": "markdown",
     "checksum": "59aab657bf6ef4b3974d3627ef97d721",
     "grade": false,
     "grade_id": "cell-d5a07dacc77fa792",
     "locked": true,
     "schema_version": 3,
     "solution": false,
     "task": false
    }
   },
   "source": [
    "## 1.D. Diagonal structuring element \n",
    "[Back to table of contents](#ToC_1_Morphology)\n",
    "\n",
    "In the cell below, **for 1 point**, complete the code in JavaScript to implement the function `diag(n)`, that returns a **diagonal line that goes from the bottom-left corner to the top-right corner**, as shown in the image at the [beginning of the section](#1.-Structuring-elements-(3-points)). "
   ]
  },
  {
   "cell_type": "code",
   "execution_count": null,
   "id": "sound-rough",
   "metadata": {
    "deletable": false,
    "kernel": "JavaScript",
    "nbgrader": {
     "cell_type": "code",
     "checksum": "08d2667156d19a81db62a081040687ff",
     "grade": false,
     "grade_id": "cell-e96acd5fb79c48e6",
     "locked": false,
     "schema_version": 3,
     "solution": true,
     "task": false
    }
   },
   "outputs": [],
   "source": [
    "%use javascript\n",
    "\n",
    "// function that takes as input an integer n and returns the diagonal structuring element of size (n x n)\n",
    "function diag(n){ \n",
    "    // declare output image\n",
    "    var output = new Image(n, n);\n",
    "    \n",
    "    // YOUR CODE HERE\n",
    "    \n",
    "    return output;\n",
    "}"
   ]
  },
  {
   "cell_type": "code",
   "execution_count": null,
   "id": "legitimate-lesbian",
   "metadata": {
    "kernel": "JavaScript"
   },
   "outputs": [],
   "source": [
    "%use javascript\n",
    "%put strel_diag\n",
    "// Get an array of a diagonal strel - feel free to change the size and observe the result\n",
    "var strel_diag = diag(9).toArray();"
   ]
  },
  {
   "cell_type": "code",
   "execution_count": null,
   "id": "considerable-victim",
   "metadata": {
    "deletable": false,
    "editable": false,
    "kernel": "SoS",
    "nbgrader": {
     "cell_type": "code",
     "checksum": "33f0498c91b7bde9d9a9974647bb6431",
     "grade": false,
     "grade_id": "cell-8c88ed3f55dfde0c",
     "locked": true,
     "schema_version": 3,
     "solution": false,
     "task": false
    }
   },
   "outputs": [],
   "source": [
    "%use sos\n",
    "# Display the binary image with a title and numerated pixel grid\n",
    "plt.close('all')\n",
    "disp_disc = viewer(np.array(strel_diag), title=f'Diagonal structuring element of size {np.shape(strel_diag)}', \n",
    "                   axis=True, pixel_grid=True, cmap='viridis', clip_range=[0, 1])"
   ]
  },
  {
   "cell_type": "markdown",
   "id": "faced-platform",
   "metadata": {
    "deletable": false,
    "editable": false,
    "kernel": "JavaScript",
    "nbgrader": {
     "cell_type": "markdown",
     "checksum": "35957547c69f72364afaef6004a95d70",
     "grade": false,
     "grade_id": "cell-18c3bd47b2147426",
     "locked": true,
     "schema_version": 3,
     "solution": false,
     "task": false
    }
   },
   "source": [
    "The diagonal structuring element is not available in skimage. However, we can still generate it quite easily using NumPy functions. Run the cell below to create and display a diagonal line. In it, we have used [`np.ones`](https://numpy.org/doc/stable/reference/generated/numpy.ones.html), [`np.diag`](https://numpy.org/doc/stable/reference/generated/numpy.diag.html) and [`np.flip`](https://numpy.org/doc/stable/reference/generated/numpy.flip.html), in that order, to arrive at the result. You can also change the size of the structuring element and see the result. \n",
    "\n",
    "<div class = 'alert alert-info'>\n",
    "<b>Note</b>: How comfortable do you feel with NumPy at this point in the course? Ignore the following cell for a second, and try to figure out on your own how to generate the structuring element yourself!\n",
    "</div>"
   ]
  },
  {
   "cell_type": "code",
   "execution_count": null,
   "id": "generic-rubber",
   "metadata": {
    "kernel": "SoS"
   },
   "outputs": [],
   "source": [
    "%use sos\n",
    "# Function that takes as input an integer n and returns the diagonal structuring element of size (n x n) \n",
    "def diag(n):\n",
    "    return np.flip(np.diag(np.ones(n, dtype='uint8')), axis=0)\n",
    "\n",
    "strel_diag_python = diag(9)\n",
    "\n",
    "plt.close('all')\n",
    "diag_view = viewer(strel_diag_python, title=f'Python diagonal of size {np.shape(strel_diag_python)}', \n",
    "                   pixel_grid=True, axis=True, cmap='viridis')"
   ]
  },
  {
   "cell_type": "code",
   "execution_count": null,
   "id": "japanese-centre",
   "metadata": {
    "deletable": false,
    "editable": false,
    "kernel": "JavaScript",
    "nbgrader": {
     "cell_type": "code",
     "checksum": "b899d27bb41e5d01c604fc814ed6a19b",
     "grade": true,
     "grade_id": "cell-d01ebbff60f22257",
     "locked": true,
     "points": 1,
     "schema_version": 3,
     "solution": false,
     "task": false
    }
   },
   "outputs": [],
   "source": [
    "%use javascript\n",
    "%get strel_diag_python\n",
    "// Make a small test on the size of the structuring elements\n",
    "if(Image.arrayCompare(Image.shape(strel_diag_python), Image.shape(strel_diag)) == false){\n",
    "    console.log('WARNING!\\nThe size of the two structuring elements is not the same:\\nstrel_diag = (' + Image.shape(strel_diag) + '), strel_diag = (' + Image.shape(strel_diag) + ')\\n');\n",
    "} \n",
    "// Now on their pixelwise equality\n",
    "if(Image.arrayCompare(strel_diag_python, strel_diag) == false){\n",
    "    console.log('WARNING!\\nThe two structuring elements are not the same. Look at the difference between the two images above and try to find what you are doing wrong.\\n');\n",
    "}else{\n",
    "    // If everything is ok, print a victory message\n",
    "    console.log(\"Good job! The diagonal structuring elements are identical.\");}"
   ]
  },
  {
   "cell_type": "markdown",
   "id": "96a159ae",
   "metadata": {
    "deletable": false,
    "editable": false,
    "kernel": "JavaScript",
    "nbgrader": {
     "cell_type": "markdown",
     "checksum": "8d4ff6e876747be86f610272d95aea44",
     "grade": false,
     "grade_id": "cell-97208c9f31214ac0",
     "locked": true,
     "schema_version": 3,
     "solution": false,
     "task": false
    }
   },
   "source": [
    "# 2. Debugging (1 point)\n",
    "[Back to table of contents](#ToC_1_Morphology)\n",
    "\n",
    "This section is the introduction to implementing morphological operators. The provided function `dilateBug` in the next cell is supposed to perform a dilation operation on an image, using a square structuring element of size $3 \\times 3$. While **all the JavaScript syntax is correct, there is one bug in the implementation of `dilateBug`**. **For 1 point** inspect the code below, fix this bug, and explore the cells below to run the function on the images `plate` and `butterfly` to see the result. If you have trouble, it might be a good idea to look at the incorrect output of the function first."
   ]
  },
  {
   "cell_type": "code",
   "execution_count": null,
   "id": "ce3c798c",
   "metadata": {
    "kernel": "JavaScript"
   },
   "outputs": [],
   "source": [
    "%use javascript\n",
    "\n",
    "// function that dilates a structure with a (3 x 3) square. Original contains two bugs.\n",
    "function dilateBug(img){ \n",
    "    var output = new Image(img.shape());\n",
    "    // the structuring element b should be a 3x3 square\n",
    "    var b = square(3);\n",
    "\n",
    "    // loop through every pixel of the image\n",
    "    for(var x = 0; x < img.nx; x++){\n",
    "        for(var y = 0; y < img.ny; y++){\n",
    "            // extract the 3x3 neighbourhood around pixel (x,y)\n",
    "            var neigh = img.getNbh(x, y, 3, 3);\n",
    "            // initializing the maximum value to 0\n",
    "            var valmax = 0;\n",
    "            // loop through every pixel of the neighbourhood\n",
    "            for(var k = 0; k < 3; k++){\n",
    "                for(var l = 0; l < 3; l++){\n",
    "                    // check if the structuring element is either 'true' or '1' at the pixel location\n",
    "                    if(b.getPixel(k, l) == true || b.getPixel(k, l) == 1){\n",
    "                        // calculate new maximum value\n",
    "                        valmax = Math.max(neigh.getPixel(k, l), valmax);\n",
    "                    }\n",
    "                }\n",
    "            }\n",
    "            // set the pixel at location (x,y) to the calculated maximum value\n",
    "           img.setPixel(x, y, valmax);\n",
    "        }\n",
    "    }    \n",
    "    \n",
    "    return output;\n",
    "}"
   ]
  },
  {
   "cell_type": "markdown",
   "id": "987593cc",
   "metadata": {
    "deletable": false,
    "editable": false,
    "kernel": "JavaScript",
    "nbgrader": {
     "cell_type": "markdown",
     "checksum": "2649ff5414859afac7563bfe8d01abab",
     "grade": false,
     "grade_id": "cell-d204e70f82195506",
     "locked": true,
     "schema_version": 3,
     "solution": false,
     "task": false
    }
   },
   "source": [
    "Run the next cell to apply the function `dilateBug()` to both images and put the result in Python."
   ]
  },
  {
   "cell_type": "code",
   "execution_count": null,
   "id": "6ca528b5",
   "metadata": {
    "deletable": false,
    "editable": false,
    "kernel": "JavaScript",
    "nbgrader": {
     "cell_type": "code",
     "checksum": "64592f774f0c0c97e1f523068fdea4af",
     "grade": false,
     "grade_id": "cell-5833d27f9e984cf3",
     "locked": true,
     "schema_version": 3,
     "solution": false,
     "task": false
    }
   },
   "outputs": [],
   "source": [
    "%use javascript\n",
    "%get plate\n",
    "%get butterfly\n",
    "%put dilated_plate\n",
    "%put dilated_butterfly\n",
    "\n",
    "// convert the images to Image objects\n",
    "var plate_img = new Image(plate);\n",
    "var butterfly_img = new Image(butterfly);\n",
    "// run dilateBug for the plate image\n",
    "var dilated_plate = dilateBug(plate_img).toArray();\n",
    "// run dilateBug for the butterfly image\n",
    "var dilated_butterfly = dilateBug(butterfly_img).toArray();"
   ]
  },
  {
   "cell_type": "markdown",
   "id": "039ef817",
   "metadata": {
    "deletable": false,
    "editable": false,
    "kernel": "JavaScript",
    "nbgrader": {
     "cell_type": "markdown",
     "checksum": "f76736a94b6f1d3ecfbe839b50de8921",
     "grade": false,
     "grade_id": "cell-6a55075a0fd75642",
     "locked": true,
     "schema_version": 3,
     "solution": false,
     "task": false
    }
   },
   "source": [
    "Run the next cell to see the result of your version of `dilateBug`, as well as the difference between the original and your result. You should be able to test visually whether you fixed the bugs succesfully."
   ]
  },
  {
   "cell_type": "code",
   "execution_count": null,
   "id": "8eb93d06",
   "metadata": {
    "deletable": false,
    "editable": false,
    "kernel": "SoS",
    "nbgrader": {
     "cell_type": "code",
     "checksum": "ac49fc7a153c8ea5aeb9641e9fab1f9c",
     "grade": false,
     "grade_id": "cell-b969f696635ee2fd",
     "locked": true,
     "schema_version": 3,
     "solution": false,
     "task": false
    }
   },
   "outputs": [],
   "source": [
    "%use sos\n",
    "# Defining the images and their titles\n",
    "images = [plate, np.array(dilated_plate),  butterfly, np.array(dilated_butterfly)]\n",
    "titles = ['Original plate', 'Dilated plate', 'Original butterfly', 'Dilated butterfly']\n",
    "# Close all previous figures to release memory\n",
    "plt.close('all')\n",
    "# Display the images with their titles (you can pass lists of images and titles as arguments)\n",
    "disp_dilateBug = viewer(images, title=titles, subplots=(2,2))"
   ]
  },
  {
   "cell_type": "markdown",
   "id": "403eff61",
   "metadata": {
    "deletable": false,
    "editable": false,
    "kernel": "SoS",
    "nbgrader": {
     "cell_type": "markdown",
     "checksum": "4c65bdf8c5c9e39776c1d6e4afd7f89f",
     "grade": false,
     "grade_id": "cell-09b5e4f8c62218b1",
     "locked": true,
     "schema_version": 3,
     "solution": false,
     "task": false
    }
   },
   "source": [
    "If you're unsure about the result, it's always a good idea to test a function on an input to which we know the output. For example, we know that if we dilate a white horizontal ($1$-pixel height) line in a black background with a $3 \\times 3$ square, the result should be a rectangle ($3$-pixel height), right? So let's try it... Run the cells below to create the test image and apply the function `dilateBug` on it."
   ]
  },
  {
   "cell_type": "code",
   "execution_count": null,
   "id": "21d37d75",
   "metadata": {
    "deletable": false,
    "editable": false,
    "kernel": "SoS",
    "nbgrader": {
     "cell_type": "code",
     "checksum": "3ece6304705c24e737182400e53f3267",
     "grade": false,
     "grade_id": "cell-c7fff9c332f49f80",
     "locked": true,
     "schema_version": 3,
     "solution": false,
     "task": false
    }
   },
   "outputs": [],
   "source": [
    "%use sos\n",
    "%put line_image --to javascript\n",
    "# To define the image with a line in the center, we initialize a 9x9 image of zeros\n",
    "line_image = np.zeros((5, 11))\n",
    "# and insert the flat line of 1s\n",
    "line_image[2, 2:9] = 1\n",
    "# Let's see how it looks\n",
    "img_line_image = viewer(line_image, title='Horizontal line sorrounded by zeros', pixel_grid=True, axis=True)"
   ]
  },
  {
   "cell_type": "code",
   "execution_count": null,
   "id": "4edc2983",
   "metadata": {
    "deletable": false,
    "editable": false,
    "kernel": "JavaScript",
    "nbgrader": {
     "cell_type": "code",
     "checksum": "8ebc94df4bc1d6dc1dddfda1829c7872",
     "grade": true,
     "grade_id": "cell-e314e1d9ac926ee8",
     "locked": true,
     "points": 1,
     "schema_version": 3,
     "solution": false,
     "task": false
    }
   },
   "outputs": [],
   "source": [
    "%use javascript\n",
    "%put dilated_line\n",
    "// run the function dilateBug on the line image\n",
    "var dilated_line = dilateBug(new Image(line_image)).toArray();"
   ]
  },
  {
   "cell_type": "markdown",
   "id": "3949bb3d",
   "metadata": {
    "deletable": false,
    "editable": false,
    "kernel": "JavaScript",
    "nbgrader": {
     "cell_type": "markdown",
     "checksum": "09006596c360c63f98e3d2f12b2a8f49",
     "grade": false,
     "grade_id": "cell-24ac6f90a97ce54f",
     "locked": true,
     "schema_version": 3,
     "solution": false,
     "task": false
    }
   },
   "source": [
    "As mentioned above, the result should be a rectangle of **height $3$** and **width $9$**, in an otherwise black image. If this isn't the case, there might still be a bug in the `dilateBug` function above."
   ]
  },
  {
   "cell_type": "code",
   "execution_count": null,
   "id": "df29a2ad",
   "metadata": {
    "deletable": false,
    "editable": false,
    "kernel": "SoS",
    "nbgrader": {
     "cell_type": "code",
     "checksum": "7b41d9c98697fab84190d253b8f3e8c7",
     "grade": false,
     "grade_id": "cell-861b1b47da245c92",
     "locked": true,
     "schema_version": 3,
     "solution": false,
     "task": false
    }
   },
   "outputs": [],
   "source": [
    "%use sos\n",
    "# Display the result of the eroded square\n",
    "plt.close('all')\n",
    "img_eroded_square = viewer(np.array(dilated_line), title='dilateBug() on horizontal line', pixel_grid=True, axis=True, clip_range=[0, 1])"
   ]
  },
  {
   "cell_type": "markdown",
   "id": "5e6f6341",
   "metadata": {
    "deletable": false,
    "editable": false,
    "kernel": "SoS",
    "nbgrader": {
     "cell_type": "markdown",
     "checksum": "71dcd393b135e4ea50d7c014caf343ef",
     "grade": false,
     "grade_id": "cell-4e10f23e2d1e2313",
     "locked": true,
     "schema_version": 3,
     "solution": false,
     "task": false
    }
   },
   "source": [
    "# 3. Morphological filters (8 points)\n",
    "[Back to table of contents](#ToC_1_Morphology)\n",
    "\n",
    "In this part you are asked to implement the morphological filters given in the table below. Click on their names for a quick link to where you have to implement them, and on [Back to table](#3.-Morphological-filters-(9-points)) to come back here.\n",
    "\n",
    "| $\\text{Filter}$ | $\\text{Function}$ | $\\text{Definition / Mathematical notation}$   |\n",
    "|------------|---------------|----------------------------------------------------------|\n",
    "| [Erosion](#3.A.-Erosion)              (3.A) | `erosion()`   | $f \\ominus b$                                            |\n",
    "| [Dilation](#3.B.-Dilation)            (3.B) | `dilation()`  | $f \\oplus b$                                             |\n",
    "| [Median](#3.C.-Median-filter)         (3.C) | `median()`    | $\\mathrm{MED}(f, b)$                                     |\n",
    "| [Open](#3.D.-Opening)                 (3.D) | `open()`      | $f \\circ b = (f \\ominus b) \\oplus b$                     |\n",
    "| [Close](#3.E.-Closing)                (3.E) | `close()`     | $f \\bullet b = (f \\oplus b) \\ominus b$                   |\n",
    "| [Gradient](#3.F.-Gradient-filter)     (3.F) | `gradient()`  | $\\bigtriangledown (f, b) = (f \\oplus b) - (f \\ominus b)$ |\n",
    "| [Top-hat](#3.G.-Top-hat-filter)       (3.G) | `topHat()`    | $\\mathrm{TH}(f, b) = f - (f \\circ b)$                    |\n",
    "| [Bottom-hat](#3.H.-Bottom-hat-filter) (3.H) | `bottomHat()` | $\\mathrm{BH}(f, b) = (f \\bullet b) - f$                  |\n",
    "\n",
    "Each function is worth **1 point**. \n",
    "<div class=\"alert alert-info\">\n",
    "You will start by implementing the most basic morphological filters: <code>erosion(), dilation(), and median()</code> in JavaScript and compare them to the skimage equivalents. The rest will be implemented in <b>Python</b>. The results of your implementation will be shown on the images <code>plate</code> and <code>butterfly</code>.\n",
    "</div>\n",
    "\n",
    "## 3.A. Erosion\n",
    "[Back to table of contents](#ToC_1_Morphology)<br>\n",
    "[Back to morphological operators table](#3.-Morphological-filters-(9-points))\n",
    "\n",
    "In the cell below, **for 1 point**, complete the code in JavaScript to implement `erosion(img, b)` that applies erosion on `img` using structuring element `b`.\n",
    "\n",
    "<div class=\"alert alert-info\">\n",
    "    \n",
    "<b>Hint</b>:\n",
    "    <ul>\n",
    "        <li>All the structuring elements are symmetric and of an odd size, so you don't need to worry about reflecting them.</li>\n",
    "        <li>You can use <code>Number.MAX_VALUE</code> to get the highest number possible in JavaScript.</li>\n",
    "    </ul>\n",
    "</div>"
   ]
  },
  {
   "cell_type": "code",
   "execution_count": null,
   "id": "f52f7d8e",
   "metadata": {
    "deletable": false,
    "kernel": "JavaScript",
    "nbgrader": {
     "cell_type": "code",
     "checksum": "fb27fba706f7ae7320e1b97497a7f17a",
     "grade": false,
     "grade_id": "cell-b698947bfc8c9028",
     "locked": false,
     "schema_version": 3,
     "solution": true,
     "task": false
    }
   },
   "outputs": [],
   "source": [
    "%use javascript\n",
    "\n",
    "// function that performs an erosion on the image 'img' using the structuring element 'b'\n",
    "function erosion(img, b){\n",
    "    // declaring the output image\n",
    "    var output = new Image(img.shape());\n",
    "    \n",
    "    // YOUR CODE HERE\n",
    "    \n",
    "    return output;\n",
    "}\n",
    "\n",
    "// here we declare the structuring element\n",
    "var b = square(5); // Feel free to change it to your liking (using the functions implemented in part 1) and observe the results."
   ]
  },
  {
   "cell_type": "markdown",
   "id": "70d7df0f",
   "metadata": {
    "deletable": false,
    "editable": false,
    "kernel": "JavaScript",
    "nbgrader": {
     "cell_type": "markdown",
     "checksum": "72381bc0660456489dca24c400da8f1f",
     "grade": false,
     "grade_id": "cell-cba79a838ca12d5a",
     "locked": true,
     "schema_version": 3,
     "solution": false,
     "task": false
    }
   },
   "source": [
    "Run the next cell to apply the `erosion()` function to the images `plate` and `butterfly`."
   ]
  },
  {
   "cell_type": "code",
   "execution_count": null,
   "id": "755d3fcd",
   "metadata": {
    "deletable": false,
    "editable": false,
    "kernel": "JavaScript",
    "nbgrader": {
     "cell_type": "code",
     "checksum": "3e97d1188bf99cfe7f75135aa6e24f06",
     "grade": true,
     "grade_id": "cell-21d43a1c248c63b5",
     "locked": true,
     "points": 1,
     "schema_version": 3,
     "solution": false,
     "task": false
    }
   },
   "outputs": [],
   "source": [
    "%use javascript\n",
    "%put plate_erosion\n",
    "%put butterfly_erosion\n",
    "\n",
    "// running the operation and converting the images back to python\n",
    "var plate_erosion = erosion(new Image(plate), b).toArray();\n",
    "var butterfly_erosion = erosion(new Image(butterfly), b).toArray();"
   ]
  },
  {
   "cell_type": "markdown",
   "id": "2a2f9fad",
   "metadata": {
    "deletable": false,
    "editable": false,
    "kernel": "JavaScript",
    "nbgrader": {
     "cell_type": "markdown",
     "checksum": "de82e88b80d68dfccf36b99c972063ed",
     "grade": false,
     "grade_id": "cell-51962977d084973e",
     "locked": true,
     "schema_version": 3,
     "solution": false,
     "task": false
    }
   },
   "source": [
    "Run the next cell to visualize the results."
   ]
  },
  {
   "cell_type": "code",
   "execution_count": null,
   "id": "93fd5efb",
   "metadata": {
    "deletable": false,
    "editable": false,
    "kernel": "SoS",
    "nbgrader": {
     "cell_type": "code",
     "checksum": "e61d8f0444511a424feb9df7707519d8",
     "grade": false,
     "grade_id": "cell-9c8f765ad3a91eb6",
     "locked": true,
     "schema_version": 3,
     "solution": false,
     "task": false
    }
   },
   "outputs": [],
   "source": [
    "%use sos\n",
    "# Declare the lists of images and titles for the display\n",
    "images = [plate, butterfly, np.array(plate_erosion), np.array(butterfly_erosion)]\n",
    "image_names = ['plate', 'butterfly', 'plate eroded', 'butterfly eroded']\n",
    "\n",
    "# Display all 4 images\n",
    "plt.close('all')\n",
    "erosion_results = viewer(images, title=image_names, subplots=(2,2))"
   ]
  },
  {
   "cell_type": "markdown",
   "id": "9b2e79b6",
   "metadata": {
    "deletable": false,
    "editable": false,
    "kernel": "SoS",
    "nbgrader": {
     "cell_type": "markdown",
     "checksum": "fb3889ab4ae995190715314bc173a377",
     "grade": false,
     "grade_id": "cell-9b9c5eda77570ca6",
     "locked": true,
     "schema_version": 3,
     "solution": false,
     "task": false
    }
   },
   "source": [
    "Skimage has implemented the function [`skimage.morphology.erosion(image, footprint)`](https://scikit-image.org/docs/dev/api/skimage.morphology.html#skimage.morphology.erosion), which erodes an image with the specified structuring element `footprint`.\n",
    "<div class=\"alert alert-info\">\n",
    "    \n",
    "<b>Notes</b>: \n",
    "You can use the <code>Compare</code> button in the <code>Options</code> menu of the viewer to compare the images visually. If the two images are not equal, you will see the differences in red (red areas mean that those pixels do not match).  \n",
    "</div>\n",
    "\n",
    "Run the next cell to erode `plate` with skimage. Note that we will be using the square structuring element of size $5\\times5$ for the demonstrations in this section. Feel free to change the shape or size of the structuring element, but don't worry! in [section 4](#4.-Understanding-Morphology-(1-point)) you will get a chance to experiment with different sizes/shapes."
   ]
  },
  {
   "cell_type": "code",
   "execution_count": null,
   "id": "ff668bfe",
   "metadata": {
    "kernel": "SoS"
   },
   "outputs": [],
   "source": [
    "%use sos\n",
    "# Lets erode the plate image with skimage to see if the results are the same\n",
    "# Define structuring element - feel free to change it, but it should be the same as in JavaScript for the comparison to make sense!\n",
    "b = skimage.morphology.square(width=5)\n",
    "# Erode plate\n",
    "plate_erosion_sk = skimage.morphology.erosion(plate, footprint=b)\n",
    "\n",
    "# Compare the two versions visually\n",
    "plt.close('all')\n",
    "erosion_comp = viewer([np.array(plate_erosion), plate_erosion_sk], title=['JS eroded plate', 'Skimage eroded plate'], subplots=(1,2), widgets=True)\n",
    "\n",
    "# And numerically\n",
    "if not np.allclose(plate_erosion, plate_erosion_sk):\n",
    "    print('WARNING!\\nThe eroded images are not identical. Make sure you used the same structuring elements for both functions.')\n",
    "else:\n",
    "    print('Nice! Your erosion function gives the same result as skimage on the plate image.')"
   ]
  },
  {
   "cell_type": "markdown",
   "id": "6a10ce44",
   "metadata": {
    "deletable": false,
    "editable": false,
    "kernel": "SoS",
    "nbgrader": {
     "cell_type": "markdown",
     "checksum": "587f7ac2487547365a12bdc04ca71e1b",
     "grade": false,
     "grade_id": "cell-de1a7e37367a247a",
     "locked": true,
     "schema_version": 3,
     "solution": false,
     "task": false
    }
   },
   "source": [
    "## 3.B. Dilation\n",
    "[Back to table of contents](#ToC_1_Morphology)<br>\n",
    "[Back to morphological operators table](#3.-Morphological-filters-(9-points))\n",
    "\n",
    "In the cell below, **for 1 point**, complete the code in JavaScript to implement the `dilation(img, b)`."
   ]
  },
  {
   "cell_type": "code",
   "execution_count": null,
   "id": "b9c796ca",
   "metadata": {
    "deletable": false,
    "kernel": "JavaScript",
    "nbgrader": {
     "cell_type": "code",
     "checksum": "8b6bffc156dc79fad57f719249784e11",
     "grade": false,
     "grade_id": "cell-579e901fd9e404a7",
     "locked": false,
     "schema_version": 3,
     "solution": true,
     "task": false
    }
   },
   "outputs": [],
   "source": [
    "%use javascript\n",
    "\n",
    "// function that performs a dilation on the image 'img' using the structuring element 'b'\n",
    "function dilation(img, b) {\n",
    "    // declaring the output image\n",
    "    var output = new Image(img.shape());\n",
    "    \n",
    "    // YOUR CODE HERE\n",
    "    \n",
    "    return output;\n",
    "}\n",
    "\n",
    "// Here we declare the structuring element\n",
    "var b = square(5); // Feel free to change it to your liking (using the functions implemented in part 1) and observe the results."
   ]
  },
  {
   "cell_type": "markdown",
   "id": "c4f87ca1",
   "metadata": {
    "deletable": false,
    "editable": false,
    "kernel": "JavaScript",
    "nbgrader": {
     "cell_type": "markdown",
     "checksum": "dc9d0beef1ad9cfb1ed778f39a363995",
     "grade": false,
     "grade_id": "cell-5893ad3c4c2ed8fd",
     "locked": true,
     "schema_version": 3,
     "solution": false,
     "task": false
    }
   },
   "source": [
    "Now run the next two cells to dilate the images `plate` and `butterfly` and see the results. "
   ]
  },
  {
   "cell_type": "code",
   "execution_count": null,
   "id": "52277c0f",
   "metadata": {
    "deletable": false,
    "editable": false,
    "kernel": "JavaScript",
    "nbgrader": {
     "cell_type": "code",
     "checksum": "6781468c73e5a0e5e9a9138a3e04c2bb",
     "grade": true,
     "grade_id": "cell-6fb4c81fc36d7715",
     "locked": true,
     "points": 1,
     "schema_version": 3,
     "solution": false,
     "task": false
    }
   },
   "outputs": [],
   "source": [
    "%use javascript\n",
    "%put plate_dilation\n",
    "%put butterfly_dilation\n",
    "\n",
    "// running the operation and converting the images back to python\n",
    "var plate_dilation = dilation(new Image(plate), b).toArray();\n",
    "var butterfly_dilation = dilation(new Image(butterfly), b).toArray();"
   ]
  },
  {
   "cell_type": "code",
   "execution_count": null,
   "id": "194804f0",
   "metadata": {
    "deletable": false,
    "editable": false,
    "kernel": "SoS",
    "nbgrader": {
     "cell_type": "code",
     "checksum": "86a999a726a071db4894d01a17c61c61",
     "grade": false,
     "grade_id": "cell-0bac65912e0690e3",
     "locked": true,
     "schema_version": 3,
     "solution": false,
     "task": false
    }
   },
   "outputs": [],
   "source": [
    "%use sos\n",
    "# Define the image and title lists for the visualization\n",
    "images = [plate, butterfly, np.array(plate_dilation), np.array(butterfly_dilation)]\n",
    "image_names = ['plate', 'butterfly', 'plate dilated', 'butterfly dilated']\n",
    "\n",
    "# Display the results\n",
    "plt.close('all')\n",
    "dilation_results = viewer(images, title=image_names, subplots=(2,2))"
   ]
  },
  {
   "cell_type": "markdown",
   "id": "474cb143",
   "metadata": {
    "deletable": false,
    "editable": false,
    "kernel": "SoS",
    "nbgrader": {
     "cell_type": "markdown",
     "checksum": "4f0b87dbe97f636f29310711b467b609",
     "grade": false,
     "grade_id": "cell-46d40cc0bc22d496",
     "locked": true,
     "schema_version": 3,
     "solution": false,
     "task": false
    }
   },
   "source": [
    "As we did for the erosion, in Python we can use [`skimage.morphology.dilation(image, footprint)`](https://scikit-image.org/docs/stable/api/skimage.morphology.html#skimage.morphology.dilation) to dilate an image `image` with a structuring element `footprint`.  Run the cells below to compare your implementation to the one of skimage."
   ]
  },
  {
   "cell_type": "code",
   "execution_count": null,
   "id": "afb34e84",
   "metadata": {
    "kernel": "SoS"
   },
   "outputs": [],
   "source": [
    "%use sos\n",
    "# Lets dilate the plate image using skimage\n",
    "# Define the structuring element \n",
    "b = skimage.morphology.square(width=5)\n",
    "# Dilate plate\n",
    "plate_dilation_sk = skimage.morphology.dilation(plate, footprint=b)\n",
    "\n",
    "# And compare the two versions visually\n",
    "plt.close('all')\n",
    "dilation_comp = viewer([np.array(plate_dilation), plate_dilation_sk], title=['JS dilated plate', 'Skimage dilated plate'], subplots=(1,2), widgets=True)\n",
    "\n",
    "# And compare numerically\n",
    "if not np.allclose(plate_dilation, plate_dilation_sk):\n",
    "    print('WARNING!\\nThe dilated images are not identical. Make sure you used the same structuring elements for both functions.')\n",
    "else:\n",
    "    print(\"That's it! Your dilation function produces the same result as Skimage on the plate image.\")"
   ]
  },
  {
   "cell_type": "markdown",
   "id": "acaed143",
   "metadata": {
    "deletable": false,
    "editable": false,
    "kernel": "SoS",
    "nbgrader": {
     "cell_type": "markdown",
     "checksum": "ef774b07689dfe5b991ef0671350c604",
     "grade": false,
     "grade_id": "cell-dabb15a32f1583ae",
     "locked": true,
     "schema_version": 3,
     "solution": false,
     "task": false
    }
   },
   "source": [
    "## 3.C. Median filter\n",
    "[Back to table of contents](#ToC_1_Morphology)<br>\n",
    "[Back to morphological operators table](#3.-Morphological-filters-(9-points))\n",
    "\n",
    "In the cell below, **for 1 point**, complete the code in JavaScript to implement the `median()` filter.\n",
    "\n",
    "<div class=\" alert alert-info\">\n",
    "<b>Hint:</b> You can use <code>nbh.sort(b)</code> to get a sorted (low to high) 1D <code>Image</code> object of the pixels in <code>nbh</code> that are under the <code>True</code> values of the structuring element <code>b</code>. The sorted <code>Image</code> object consists of just one row, so the length of the sorted numbers is given by <code>sorted_img.nx</code>. Example: use <code>sorted_img.getPixel(2, 0)</code> to extract the $3^\\text{rd}$ smallest value.\n",
    "</div>"
   ]
  },
  {
   "cell_type": "code",
   "execution_count": null,
   "id": "a8020193",
   "metadata": {
    "deletable": false,
    "kernel": "JavaScript",
    "nbgrader": {
     "cell_type": "code",
     "checksum": "ffa4016398334fd7a0e315fcef933b3d",
     "grade": false,
     "grade_id": "cell-5ebf21f52475c4c4",
     "locked": false,
     "schema_version": 3,
     "solution": true,
     "task": false
    }
   },
   "outputs": [],
   "source": [
    "%use javascript\n",
    "\n",
    "// function that performs a median on the image 'img' using the structuring element 'b'\n",
    "function median(img, b) {\n",
    "    // declaring the output image\n",
    "    var output = new Image(img.shape());\n",
    "    \n",
    "    // YOUR CODE HERE\n",
    "    \n",
    "    return output;\n",
    "}\n",
    "\n",
    "// here we declare the structuring element\n",
    "var b = square(5); // Feel free to change it to your liking (using the functions implemented in part 1) and observe the results."
   ]
  },
  {
   "cell_type": "code",
   "execution_count": null,
   "id": "3c899777",
   "metadata": {
    "deletable": false,
    "editable": false,
    "kernel": "JavaScript",
    "nbgrader": {
     "cell_type": "code",
     "checksum": "1fad3b8a792c141b90ad309e5f903ed2",
     "grade": true,
     "grade_id": "cell-c95ec9a6f366cb23",
     "locked": true,
     "points": 1,
     "schema_version": 3,
     "solution": false,
     "task": false
    }
   },
   "outputs": [],
   "source": [
    "%use javascript\n",
    "%put plate_median\n",
    "%put butterfly_median\n",
    "\n",
    "// running the operation and converting the images back to python\n",
    "var plate_median = median(new Image(plate), b).toArray();\n",
    "var butterfly_median = median(new Image(butterfly), b).toArray();"
   ]
  },
  {
   "cell_type": "code",
   "execution_count": null,
   "id": "72c6312d",
   "metadata": {
    "deletable": false,
    "editable": false,
    "kernel": "SoS",
    "nbgrader": {
     "cell_type": "code",
     "checksum": "304bb0ff2c0b4e453369d18ae283a73f",
     "grade": false,
     "grade_id": "cell-47c4ec318dd919bd",
     "locked": true,
     "schema_version": 3,
     "solution": false,
     "task": false
    }
   },
   "outputs": [],
   "source": [
    "%use sos\n",
    "# Define the lists of names and images for visualization\n",
    "images = [plate, butterfly, np.array(plate_median), np.array(butterfly_median)]\n",
    "image_names = ['plate', 'butterfly', 'plate median', 'butterfly median']\n",
    "\n",
    "# Display the results\n",
    "plt.close('all')\n",
    "median_results = viewer(images, title=image_names, subplots=(2,2))"
   ]
  },
  {
   "cell_type": "markdown",
   "id": "35c8620f",
   "metadata": {
    "deletable": false,
    "editable": false,
    "kernel": "SoS",
    "nbgrader": {
     "cell_type": "markdown",
     "checksum": "ac94ecd3d76186009692fba416259f85",
     "grade": false,
     "grade_id": "cell-b23fc78175923ac3",
     "locked": true,
     "schema_version": 3,
     "solution": false,
     "task": false
    }
   },
   "source": [
    "To apply a median filter to an image `image` with a structuring element `b` using skimage , we can use [`skimage.filters.rank.median(plate, footprint=b)`](https://scikit-image.org/docs/stable/api/skimage.filters.rank.html#skimage.filters.rank.median).\n",
    "\n",
    "Run the cell below to compare your median to the skimage median. Feel free to play with the parameter `n`!"
   ]
  },
  {
   "cell_type": "code",
   "execution_count": null,
   "id": "d8059d95",
   "metadata": {
    "kernel": "SoS"
   },
   "outputs": [],
   "source": [
    "%use sos\n",
    "# Lets apply the median to the plate image\n",
    "# Define the structuring element\n",
    "b = skimage.morphology.square(width=5)\n",
    "# Run the operation\n",
    "plate_median_sk = skimage.filters.rank.median(plate, footprint=b)\n",
    "# Compare the two versions visually\n",
    "plt.close('all')\n",
    "median_comp = viewer([np.array(plate_median), plate_median_sk], title=['JS median filtered plate', 'Skimage median filtered plate'], subplots=(1,2), compare=True)\n",
    "\n",
    "# And numerically\n",
    "if not np.allclose(plate_dilation, plate_dilation_sk):\n",
    "    print('WARNING!\\nThe dilated images are not identical. Make sure you used the same structuring elements for both functions.')\n",
    "else:\n",
    "    print(\"That's it! Your dilation function produces the same result as Skimage on the plate image.\")"
   ]
  },
  {
   "cell_type": "markdown",
   "id": "b5ada2ee",
   "metadata": {
    "deletable": false,
    "editable": false,
    "kernel": "SoS",
    "nbgrader": {
     "cell_type": "markdown",
     "checksum": "d6be25b8736d6c560e0859ffb5f2d7eb",
     "grade": false,
     "grade_id": "cell-3af47a94c6939446",
     "locked": true,
     "schema_version": 3,
     "solution": false,
     "task": false
    }
   },
   "source": [
    "<div class=\"alert alert-info\">\n",
    "So far all the morphological filters that we have not implemented yet are simple combinations of those that we have implemented. Since the idea of this lab is for you to understand how morphological filters work and not to write down an unnecessary amount of <code>for</code> loops in JavaScript, <b>we will now switch to only using Python for the rest of the lab</b>.\n",
    "</div>"
   ]
  },
  {
   "cell_type": "markdown",
   "id": "649f5b12",
   "metadata": {
    "deletable": false,
    "editable": false,
    "kernel": "SoS",
    "nbgrader": {
     "cell_type": "markdown",
     "checksum": "d57432bbfb17119c0e620e1607a36b92",
     "grade": false,
     "grade_id": "cell-1d93f01863d53eee",
     "locked": true,
     "schema_version": 3,
     "solution": false,
     "task": false
    }
   },
   "source": [
    "## 3.D. Opening\n",
    "[Back to table of contents](#ToC_1_Morphology)<br>\n",
    "[Back to morphological operators table](#3.-Morphological-filters-(9-points))\n",
    "\n",
    "In the cell below, **for 1 point**, implement the `open()` function using **only** the [`skimage.morphology.erosion()`](https://scikit-image.org/docs/dev/api/skimage.morphology.html#skimage.morphology.erosion) and [`skimage.morphology.dilation()`](https://scikit-image.org/docs/stable/api/skimage.morphology.html#skimage.morphology.dilation) functions presented above."
   ]
  },
  {
   "cell_type": "code",
   "execution_count": null,
   "id": "6d754ea2",
   "metadata": {
    "deletable": false,
    "kernel": "SoS",
    "nbgrader": {
     "cell_type": "code",
     "checksum": "2c39d8544757fc04992c4049640dfbf9",
     "grade": false,
     "grade_id": "cell-4a3156f8ff78a64c",
     "locked": false,
     "schema_version": 3,
     "solution": true,
     "task": false
    }
   },
   "outputs": [],
   "source": [
    "%use sos\n",
    "\n",
    "# Function that performs an opening on the image 'img' using the structuring element 'b'\n",
    "def opening(img, b):\n",
    "    # Declaring the output image\n",
    "    AoB = np.zeros(img.shape)\n",
    "    \n",
    "    # YOUR CODE HERE\n",
    "    \n",
    "    return AoB\n",
    "\n",
    "# Here we declare the structuring element\n",
    "b = skimage.morphology.square(width=5) # Feel free to change it to your liking (using the functions presented in part 1) and observe the results.\n",
    "\n",
    "# Apply the function to two images\n",
    "plate_open = opening(plate, b)\n",
    "butterfly_open = opening(butterfly, b)\n",
    "\n",
    "# and also display the result\n",
    "# Define the lists of images and titles\n",
    "images = [plate, butterfly, plate_open, butterfly_open]\n",
    "image_names = ['plate', 'butterfly', 'plate opened', 'butterfly opened']\n",
    "# Visualize them\n",
    "plt.close('all')\n",
    "open_results = viewer(images, title=image_names, subplots=(2,2))"
   ]
  },
  {
   "cell_type": "markdown",
   "id": "informational-graduation",
   "metadata": {
    "deletable": false,
    "editable": false,
    "kernel": "SoS",
    "nbgrader": {
     "cell_type": "markdown",
     "checksum": "5f5511ede9e8399011cdebb4e3cfef1e",
     "grade": false,
     "grade_id": "cell-172b83595af5ae22",
     "locked": true,
     "schema_version": 3,
     "solution": false,
     "task": false
    }
   },
   "source": [
    "Now compare your `opening` function to the one that skimage provides: [`skimage.morphology.opening(image, footprint)`](https://scikit-image.org/docs/stable/api/skimage.morphology.html#skimage.morphology.opening). "
   ]
  },
  {
   "cell_type": "code",
   "execution_count": null,
   "id": "f41a19c5",
   "metadata": {
    "deletable": false,
    "editable": false,
    "kernel": "SoS",
    "nbgrader": {
     "cell_type": "code",
     "checksum": "d7686dbe3dc1d44a7e0feb047674189e",
     "grade": true,
     "grade_id": "cell-0da69cec582cf770",
     "locked": true,
     "points": 1,
     "schema_version": 3,
     "solution": false,
     "task": false
    }
   },
   "outputs": [],
   "source": [
    "%use sos\n",
    "# Perform the opening on plate with skimage using the same structuring element b\n",
    "plate_open_sk = skimage.morphology.opening(plate, b)\n",
    "# Compare the two versions\n",
    "if not np.allclose(plate_open, plate_open_sk): \n",
    "    print('WARNING!\\nSorry, your opening does not match the opening of skimage.')\n",
    "else:\n",
    "    print(\"Great! Your opening gives the same result as skimage on the plate image.\")"
   ]
  },
  {
   "cell_type": "markdown",
   "id": "2fe1a69b",
   "metadata": {
    "deletable": false,
    "editable": false,
    "kernel": "SoS",
    "nbgrader": {
     "cell_type": "markdown",
     "checksum": "96cbb1a409398706f942a86bf27bff61",
     "grade": false,
     "grade_id": "cell-ad5f6e5c697e9a04",
     "locked": true,
     "schema_version": 3,
     "solution": false,
     "task": false
    }
   },
   "source": [
    "## 3.E. Closing\n",
    "[Back to table of contents](#ToC_1_Morphology)<br>\n",
    "[Back to morphological operators table](#3.-Morphological-filters-(9-points))\n",
    "\n",
    "In the cell below, **for 1 point**, implement the `closing()` function using **only** the [`skimage.morphology.erosion()`](https://scikit-image.org/docs/dev/api/skimage.morphology.html#skimage.morphology.erosion) and [`skimage.morphology.dilation()`](https://scikit-image.org/docs/stable/api/skimage.morphology.html#skimage.morphology.dilation) functions presented above."
   ]
  },
  {
   "cell_type": "code",
   "execution_count": null,
   "id": "7df9bbfd",
   "metadata": {
    "deletable": false,
    "kernel": "SoS",
    "nbgrader": {
     "cell_type": "code",
     "checksum": "5bb9ea2249687a2d798b767d5cc7b005",
     "grade": false,
     "grade_id": "cell-f626a2ec96ebc51d",
     "locked": false,
     "schema_version": 3,
     "solution": true,
     "task": false
    }
   },
   "outputs": [],
   "source": [
    "%use sos\n",
    "\n",
    "# Function that performs a closing on the image 'img' using the structuring element 'b'\n",
    "def closing(img, b):\n",
    "    # Declaring the output image\n",
    "    AcB = np.zeros(img.shape)\n",
    "    \n",
    "    # YOUR CODE HERE\n",
    "    \n",
    "    return AcB\n",
    "\n",
    "# Here we declare the structuring element\n",
    "b = skimage.morphology.square(width=5) # Feel free to change it to your liking (using the functions discussed and implemented in part 1) and observe the results.\n",
    "\n",
    "# Directly run the function on the two images since we do not need to convert any variables between JavaScript and Python\n",
    "plate_close = closing(plate, b)\n",
    "butterfly_close = closing(butterfly, b)\n",
    "\n",
    "# and also display the result\n",
    "# Define the lists of images and titles\n",
    "images = [plate, butterfly, plate_close, butterfly_close]\n",
    "image_names = ['plate', 'butterfly', 'plate closed', 'butterfly closed']\n",
    "# Visualize them\n",
    "plt.close('all')\n",
    "close_results = viewer(images, title=image_names, subplots=(2,2))"
   ]
  },
  {
   "cell_type": "markdown",
   "id": "4fed5f92",
   "metadata": {
    "deletable": false,
    "editable": false,
    "kernel": "SoS",
    "nbgrader": {
     "cell_type": "markdown",
     "checksum": "0c5b0141ce9e8e36100eb59b94f00716",
     "grade": false,
     "grade_id": "cell-4dec89f4fea01aaa",
     "locked": true,
     "schema_version": 3,
     "solution": false,
     "task": false
    }
   },
   "source": [
    "Now compare your `closing` function to the one that skimage provides: [`skimage.morphology.closing(image, footprint)`](https://scikit-image.org/docs/stable/api/skimage.morphology.html#skimage.morphology.closing). "
   ]
  },
  {
   "cell_type": "code",
   "execution_count": null,
   "id": "371bf7f6",
   "metadata": {
    "deletable": false,
    "editable": false,
    "kernel": "SoS",
    "nbgrader": {
     "cell_type": "code",
     "checksum": "8c40cf687fb42347fa9e9696ba879472",
     "grade": true,
     "grade_id": "cell-1a28aac365abc508",
     "locked": true,
     "points": 1,
     "schema_version": 3,
     "solution": false,
     "task": false
    }
   },
   "outputs": [],
   "source": [
    "%use sos\n",
    "# Perform the closing on plate with skimage using the same structuring element b\n",
    "plate_close_sk = skimage.morphology.closing(plate, footprint=b)\n",
    "# Compare the two versions\n",
    "if not np.allclose(plate_close, plate_close_sk): \n",
    "    print('Sorry, your closing is not quite right.')\n",
    "else:\n",
    "    print(\"Great! Your closing gives the same result as skimage on the plate image.\")"
   ]
  },
  {
   "cell_type": "markdown",
   "id": "5372b63e",
   "metadata": {
    "deletable": false,
    "editable": false,
    "kernel": "SoS",
    "nbgrader": {
     "cell_type": "markdown",
     "checksum": "d1e0ccfb4c895a98037c297c2381f976",
     "grade": false,
     "grade_id": "cell-f0a6fef0f8d27e7a",
     "locked": true,
     "schema_version": 3,
     "solution": false,
     "task": false
    }
   },
   "source": [
    "## 3.F. Gradient filter\n",
    "[Back to table of contents](#ToC_1_Morphology)<br>\n",
    "[Back to morphological operators table](#3.-Morphological-filters-(9-points))\n",
    "\n",
    "In the cell below, **for 1 point**, implement the `gradient()` function using **only** the [`skimage.morphology.erosion()`](https://scikit-image.org/docs/dev/api/skimage.morphology.html#skimage.morphology.erosion) and [`skimage.morphology.dilation()`](https://scikit-image.org/docs/stable/api/skimage.morphology.html#skimage.morphology.dilation) functions presented above and basic arithmetics (`+`,`-`,`*`, or `/`).\n",
    "<div class=\" alert alert-info\">\n",
    "\n",
    "<b>Hint:</b> Remember that in Python you can add/subtract whole images simply by using the $+/-$ operators, without the need to iterate with <code>for</code> loops.\n",
    "</div>"
   ]
  },
  {
   "cell_type": "code",
   "execution_count": null,
   "id": "c5cf1323",
   "metadata": {
    "deletable": false,
    "kernel": "SoS",
    "nbgrader": {
     "cell_type": "code",
     "checksum": "f3d974d24be65643081ccb5a0308d03e",
     "grade": false,
     "grade_id": "cell-20a7cf25a17ed5f9",
     "locked": false,
     "schema_version": 3,
     "solution": true,
     "task": false
    }
   },
   "outputs": [],
   "source": [
    "%use sos\n",
    "\n",
    "# function that performs a gradient on the image 'img' using the structuring element 'b'\n",
    "def gradient(img, b):\n",
    "    # declaring the output image\n",
    "    grad = np.zeros(img.shape)\n",
    "    \n",
    "    # YOUR CODE HERE\n",
    "    \n",
    "    return grad\n",
    "\n",
    "# here we declare the structuring element\n",
    "b = skimage.morphology.square(width=5) # Feel free to change it to your liking (using the functions discussed and implemented in part 1) and observe the results.\n",
    "\n",
    "# directly run the function on the two images since we do not need to convert any variables between JavaScript and Python\n",
    "plate_gradient = gradient(plate, b)\n",
    "butterfly_gradient = gradient(butterfly, b)\n",
    "\n",
    "# and also display the result\n",
    "# define the lists of images and titles\n",
    "images = [plate, butterfly, plate_gradient, butterfly_gradient]\n",
    "image_names = ['plate', 'butterfly', 'plate gradient', 'butterfly gradient']\n",
    "# visualize them\n",
    "plt.close('all')\n",
    "gradient_results = viewer(images, title=image_names, subplots=(2,2))"
   ]
  },
  {
   "cell_type": "markdown",
   "id": "f6c43ab0",
   "metadata": {
    "deletable": false,
    "editable": false,
    "kernel": "SoS",
    "nbgrader": {
     "cell_type": "markdown",
     "checksum": "6918187cd9342333dfe5c096a64cf84a",
     "grade": false,
     "grade_id": "cell-e3ce93735defe559",
     "locked": true,
     "schema_version": 3,
     "solution": false,
     "task": false
    }
   },
   "source": [
    "Now compare your `gradient` function to the one that skimage provides: [`skimage.filters.rank.gradient(image, footprint)`](https://scikit-image.org/docs/stable/api/skimage.filters.rank.html#skimage.filters.rank.gradient). "
   ]
  },
  {
   "cell_type": "code",
   "execution_count": null,
   "id": "973d9298",
   "metadata": {
    "deletable": false,
    "editable": false,
    "kernel": "SoS",
    "nbgrader": {
     "cell_type": "code",
     "checksum": "730ec67d96979f30a0e4bc28d0ca603c",
     "grade": true,
     "grade_id": "cell-62263e7f5d93f84d",
     "locked": true,
     "points": 1,
     "schema_version": 3,
     "solution": false,
     "task": false
    }
   },
   "outputs": [],
   "source": [
    "%use sos\n",
    "# Perform the gradient on plate with skimage using the same structuring element b\n",
    "plate_gradient_sk = skimage.filters.rank.gradient(plate, footprint=b)\n",
    "# Compare the two versions\n",
    "if not np.allclose(plate_gradient, plate_gradient_sk): \n",
    "    print('WARNING!\\nSorry, your gradient is not quite right.')\n",
    "else:\n",
    "    print(\"Great! Your gradient operator produces the same result as skimage on the plate image.\")"
   ]
  },
  {
   "cell_type": "markdown",
   "id": "6b6d9b36",
   "metadata": {
    "deletable": false,
    "editable": false,
    "kernel": "SoS",
    "nbgrader": {
     "cell_type": "markdown",
     "checksum": "0f263cbb04bc37bbaff9015795f6fece",
     "grade": false,
     "grade_id": "cell-c019cb2d2166872f",
     "locked": true,
     "schema_version": 3,
     "solution": false,
     "task": false
    }
   },
   "source": [
    "## 3.G. Top-hat filter\n",
    "[Back to table of contents](#ToC_1_Morphology)<br>\n",
    "[Back to morphological operators table](#3.-Morphological-filters-(9-points))\n",
    "\n",
    "In the cell below, **for 1 point**, implement the `topHat()` function by using **only** the skimage functions we have seen in Tasks [3.A.](#3.A.-Erosion) to [3.E.](#3.E.-Closing)."
   ]
  },
  {
   "cell_type": "code",
   "execution_count": null,
   "id": "1d57c257",
   "metadata": {
    "deletable": false,
    "kernel": "SoS",
    "nbgrader": {
     "cell_type": "code",
     "checksum": "029b4438e2130e8992da8cfa9966ca0a",
     "grade": false,
     "grade_id": "cell-ab50f97670ebd9c8",
     "locked": false,
     "schema_version": 3,
     "solution": true,
     "task": false
    }
   },
   "outputs": [],
   "source": [
    "%use sos\n",
    "\n",
    "# function that performs a topHat on the image 'img' using the structuring element 'b'\n",
    "def topHat(img, b):\n",
    "    # declaring the output image\n",
    "    tophat = np.zeros(img.shape)\n",
    "    \n",
    "    # YOUR CODE HERE\n",
    "\n",
    "    return tophat\n",
    "    \n",
    "# here we declare the structuring element\n",
    "b = skimage.morphology.square(width=5) # Feel free to change it to your liking (using the functions discussed and implemented in part 1) and observe the results.\n",
    "\n",
    "# directly run the function on the two images since we do not need to convert any variables between JavaScript and Python\n",
    "plate_tophat = topHat(plate, b)\n",
    "butterfly_tophat = topHat(butterfly, b)\n",
    "\n",
    "# and also display the result\n",
    "# define the lists of images and titles\n",
    "images = [plate, butterfly, plate_tophat, butterfly_tophat]\n",
    "image_names = ['plate', 'butterfly', 'plate tophat', 'butterfly tophat']\n",
    "# visualize them\n",
    "plt.close('all')\n",
    "tophat_results = viewer(images, title=image_names, subplots=(2,2))"
   ]
  },
  {
   "cell_type": "markdown",
   "id": "4ae8440e",
   "metadata": {
    "deletable": false,
    "editable": false,
    "kernel": "SoS",
    "nbgrader": {
     "cell_type": "markdown",
     "checksum": "04510462f4c71ed46d26d74d22f06637",
     "grade": false,
     "grade_id": "cell-8de2843c8c026c06",
     "locked": true,
     "schema_version": 3,
     "solution": false,
     "task": false
    }
   },
   "source": [
    "Now compare your `topHat` function to the one that skimage provides: [`skimage.morphology.white_tophat(image, footprint)`](https://scikit-image.org/docs/stable/api/skimage.morphology.html#skimage.morphology.white_tophat). "
   ]
  },
  {
   "cell_type": "code",
   "execution_count": null,
   "id": "5495406e",
   "metadata": {
    "deletable": false,
    "editable": false,
    "kernel": "SoS",
    "nbgrader": {
     "cell_type": "code",
     "checksum": "1b2acc3d1f92a77b2379802b73e438c6",
     "grade": true,
     "grade_id": "cell-7cda138a01715fea",
     "locked": true,
     "points": 1,
     "schema_version": 3,
     "solution": false,
     "task": false
    }
   },
   "outputs": [],
   "source": [
    "%use sos\n",
    "# Perform the top hat on plate with skimage using the same structuring element b\n",
    "plate_tophat_sk = skimage.morphology.white_tophat(plate, footprint=b)\n",
    "# Compare the two versions\n",
    "if not np.allclose(plate_tophat, plate_tophat_sk): \n",
    "    print('Sorry, your topHat filter is not quite right.')\n",
    "else :\n",
    "    print(\"Great! Your topHat operator produces the same result as skimage on the plate image.\")"
   ]
  },
  {
   "cell_type": "markdown",
   "id": "a1c4a295",
   "metadata": {
    "deletable": false,
    "editable": false,
    "kernel": "SoS",
    "nbgrader": {
     "cell_type": "markdown",
     "checksum": "b97ca5f1ac9a6bb19ef66ad84cb6979c",
     "grade": false,
     "grade_id": "cell-d0eb6af2c6c4c363",
     "locked": true,
     "schema_version": 3,
     "solution": false,
     "task": false
    }
   },
   "source": [
    "## 3.H. Bottom-hat filter\n",
    "[Back to table of contents](#ToC_1_Morphology)<br>\n",
    "[Back to morphological operators table](#3.-Morphological-filters-(9-points))\n",
    "\n",
    "In the cell below, **for 1 point**, implement the `bottomHat()` function by using **only** the skimage functions we have seen in Tasks [3.A.](#3.A.-Erosion) to [3.E.](#3.E.-Closing)."
   ]
  },
  {
   "cell_type": "code",
   "execution_count": null,
   "id": "30b0b9a8",
   "metadata": {
    "deletable": false,
    "kernel": "SoS",
    "nbgrader": {
     "cell_type": "code",
     "checksum": "9c029fadef05dab6adb3a767de0ef4e2",
     "grade": false,
     "grade_id": "cell-4c6cdaffcf578030",
     "locked": false,
     "schema_version": 3,
     "solution": true,
     "task": false
    }
   },
   "outputs": [],
   "source": [
    "%use sos\n",
    "\n",
    "# function that performs a bottomHat on the image 'img' using the structuring element 'b'\n",
    "def bottomHat(img, b):\n",
    "    # declaring the output image\n",
    "    bottomhat = np.zeros(img.shape)\n",
    "    \n",
    "    # YOUR CODE HERE\n",
    "    \n",
    "    return bottomhat\n",
    "\n",
    "# here we declare the structuring element\n",
    "b = skimage.morphology.square(width=5) # Feel free to change it to your liking (using the functions discussed and implemented in part 1) and observe the results.\n",
    "\n",
    "# directly run the function on the two images since we do not need to convert any variables between JavaScript and Python\n",
    "plate_bottomhat = bottomHat(plate, b)\n",
    "butterfly_bottomhat = bottomHat(butterfly, b)\n",
    "\n",
    "# and also display the result\n",
    "# define the lists of images and titles\n",
    "images = [plate, butterfly, plate_bottomhat, butterfly_bottomhat]\n",
    "image_names = ['plate', 'butterfly', 'plate bottomHat', 'butterfly bottomHat']\n",
    "# visualize them\n",
    "plt.close('all')\n",
    "bottomhat_results = viewer(images, title=image_names, subplots=(2,2))"
   ]
  },
  {
   "cell_type": "markdown",
   "id": "51dabb3e",
   "metadata": {
    "deletable": false,
    "editable": false,
    "kernel": "SoS",
    "nbgrader": {
     "cell_type": "markdown",
     "checksum": "043de5351c670aef45dfa22979721437",
     "grade": false,
     "grade_id": "cell-518880b8bb2d0f4c",
     "locked": true,
     "schema_version": 3,
     "solution": false,
     "task": false
    }
   },
   "source": [
    "Now compare your `bottomHat` function to the one that skimage provides: [`skimage.morphology.black_tophat(image, footprint)`](https://scikit-image.org/docs/stable/api/skimage.morphology.html#skimage.morphology.black_tophat). "
   ]
  },
  {
   "cell_type": "code",
   "execution_count": null,
   "id": "87d3e7d3",
   "metadata": {
    "deletable": false,
    "editable": false,
    "kernel": "SoS",
    "nbgrader": {
     "cell_type": "code",
     "checksum": "0c497dbb985a8288eeb79260b8cd7f0e",
     "grade": true,
     "grade_id": "cell-bbb096ddf97323e0",
     "locked": true,
     "points": 1,
     "schema_version": 3,
     "solution": false,
     "task": false
    }
   },
   "outputs": [],
   "source": [
    "%use sos\n",
    "# Perform the bottom hat on plate with skimage using the same structuring element b\n",
    "plate_bottomhat_sk = skimage.morphology.black_tophat(plate, footprint=b)\n",
    "# Compare the two versions\n",
    "if not np.allclose(plate_bottomhat, plate_bottomhat_sk): \n",
    "    print('Sorry, your bottomHat filter is not quite right.')\n",
    "else:\n",
    "    print(\"Great! Your bottomHat operator produces the same result as skimage on the plate image.\")"
   ]
  },
  {
   "cell_type": "markdown",
   "id": "53ececba",
   "metadata": {
    "deletable": false,
    "editable": false,
    "kernel": "SoS",
    "nbgrader": {
     "cell_type": "markdown",
     "checksum": "f695aeb74fb6a945431721d39cd55394",
     "grade": false,
     "grade_id": "cell-c8687b3a41846a07",
     "locked": true,
     "schema_version": 3,
     "solution": false,
     "task": false
    }
   },
   "source": [
    "# 4. Understanding morphology (1 point)\n",
    "[Back to table of contents](#ToC_1_Morphology)\n",
    "\n",
    "Now that you understand how to apply morphological operators, and how to use the skimage implementations, we will try to understand the effects of both the operators and the structuring elements. You might want to spend some time in this section, as it will help you for the second part of the lab!\n",
    "\n",
    "## 4.A. Operators\n",
    "[Back to table of contents](#ToC_1_Morphology)\n",
    "\n",
    "Which of following statements are correct? Here, $N\\times$ Function(`name`, $n$) refers to composing a function $N$ times with the structuring element given by `name` with size $n\\times n$.\n",
    "\n",
    "1. The results of $3 \\times$ Dilation(Square, 3) and Dilation(Square, 7) are the same.\n",
    "2. The results of $3 \\times$ Close(Disc, 5) and Close(Disc, 5) are the same.\n",
    "3. The results of TopHat(Cross, 3) and TopHat(Disc, 3) are the same.\n",
    "4. The results of $3 \\times$ Open(Cross, 3) and Open(Cross, 7) are the same.\n",
    "\n",
    "You can use the next cell to compare the different propositions by modifying the existing code and inserting your own.\n",
    "\n",
    "<div class=\"alert alert-info\">\n",
    "\n",
    "<b>Note</b>:<ul> \n",
    "<li>For the structuring element <code>Disc</code>, <code>n</code> refers to the size of the Numpy array that reprents this element, not the radius of the disk as in the function <code>skimage.morphology.disk()</code>.</li>\n",
    "<li>You can use all the <b>Python</b> tools that you have seen previously to answer the questions. </li>\n",
    "<li>You will not be graded on the code below, but only on the answers.</li>\n",
    "</ul>\n",
    "</div>"
   ]
  },
  {
   "cell_type": "code",
   "execution_count": null,
   "id": "bb8d01da",
   "metadata": {
    "deletable": false,
    "kernel": "SoS",
    "nbgrader": {
     "cell_type": "code",
     "checksum": "7363359a7af766d6bf003952d73f5d6f",
     "grade": false,
     "grade_id": "cell-7b32a5fc70b07851",
     "locked": false,
     "schema_version": 3,
     "solution": true,
     "task": false
    }
   },
   "outputs": [],
   "source": [
    "%use sos\n",
    "# We use the plate image, feel free to use any other image\n",
    "modified_1 = plate\n",
    "modified_2 = plate\n",
    "\n",
    "# Apply the morphological operators\n",
    "\n",
    "# YOUR CODE HERE\n",
    "\n",
    "# Display the two modified images as well as their difference\n",
    "images = [modified_1, modified_2, modified_2.astype(int) - modified_1.astype(int)]\n",
    "titles = ['Operation 1', 'Operation 2', 'Difference']\n",
    "\n",
    "plt.close('all')\n",
    "operation_comparison = viewer(images, title=titles, subplots=(2,2))"
   ]
  },
  {
   "cell_type": "markdown",
   "id": "cce27487",
   "metadata": {
    "deletable": false,
    "editable": false,
    "kernel": "SoS",
    "nbgrader": {
     "cell_type": "markdown",
     "checksum": "3b6c3931d246e75ec2af4dd12327b6c3",
     "grade": false,
     "grade_id": "cell-7c17939f5490b3ea",
     "locked": true,
     "schema_version": 3,
     "solution": false,
     "task": false
    }
   },
   "source": [
    "<div class=\"alert alert-danger\">\n",
    "\n",
    "In the next cell, <b>for 0.25 points</b> per statement, assign <code>True</code> to the statements you think are correct and assign <code>False</code> to the statements you think are incorrect. The following cells are for you to check that your answers are valid.\n",
    "</div>"
   ]
  },
  {
   "cell_type": "code",
   "execution_count": null,
   "id": "84bf54b9",
   "metadata": {
    "deletable": false,
    "kernel": "SoS",
    "nbgrader": {
     "cell_type": "code",
     "checksum": "302f3d84e05e6d2c115b40cfacc102bb",
     "grade": false,
     "grade_id": "cell-863731643536b4e1",
     "locked": false,
     "schema_version": 3,
     "solution": true,
     "task": false
    }
   },
   "outputs": [],
   "source": [
    "%use sos\n",
    "# Example: 'statement_0 = True' or 'statement_0 = False'\n",
    "statement_1 = None\n",
    "statement_2 = None\n",
    "statement_3 = None\n",
    "statement_4 = None\n",
    "\n",
    "# YOUR CODE HERE"
   ]
  },
  {
   "cell_type": "code",
   "execution_count": null,
   "id": "f5253cc6",
   "metadata": {
    "deletable": false,
    "editable": false,
    "kernel": "SoS",
    "nbgrader": {
     "cell_type": "code",
     "checksum": "c287b3f4f57ea866464cd0cb50f8f655",
     "grade": true,
     "grade_id": "cell-9b0855ccfb4ed380",
     "locked": true,
     "points": 0.25,
     "schema_version": 3,
     "solution": false,
     "task": false
    }
   },
   "outputs": [],
   "source": [
    "%use sos\n",
    "# Perform sanity check on statement_1\n",
    "if not statement_1 in [True, False]: \n",
    "    print('WARNING!\\nAssign either True or False to statement_1.')"
   ]
  },
  {
   "cell_type": "code",
   "execution_count": null,
   "id": "f405b794",
   "metadata": {
    "deletable": false,
    "editable": false,
    "kernel": "SoS",
    "nbgrader": {
     "cell_type": "code",
     "checksum": "39cabcf2f319dc3c7da5082d974216a8",
     "grade": true,
     "grade_id": "cell-df9bbd08e20f4929",
     "locked": true,
     "points": 0.25,
     "schema_version": 3,
     "solution": false,
     "task": false
    }
   },
   "outputs": [],
   "source": [
    "%use sos\n",
    "# Perform sanity check on statement_2\n",
    "if not statement_2 in [True, False]: \n",
    "    print('WARNING!\\nAssign either True or False to statement_2.')"
   ]
  },
  {
   "cell_type": "code",
   "execution_count": null,
   "id": "baaa1c13",
   "metadata": {
    "deletable": false,
    "editable": false,
    "kernel": "SoS",
    "nbgrader": {
     "cell_type": "code",
     "checksum": "f04d6a4582fda20e6c3f59d6dd32e78b",
     "grade": true,
     "grade_id": "cell-3a39da38342ced34",
     "locked": true,
     "points": 0.25,
     "schema_version": 3,
     "solution": false,
     "task": false
    }
   },
   "outputs": [],
   "source": [
    "%use sos\n",
    "# Perform sanity check on statement_3\n",
    "if not statement_3 in [True, False]:\n",
    "    print('WARNING!\\nAssign either True or False to statement_3.')"
   ]
  },
  {
   "cell_type": "code",
   "execution_count": null,
   "id": "44995d9d",
   "metadata": {
    "deletable": false,
    "editable": false,
    "kernel": "SoS",
    "nbgrader": {
     "cell_type": "code",
     "checksum": "c54bd21694bd2b2b39e68a964401df99",
     "grade": true,
     "grade_id": "cell-7a8acd8de9348181",
     "locked": true,
     "points": 0.25,
     "schema_version": 3,
     "solution": false,
     "task": false
    }
   },
   "outputs": [],
   "source": [
    "%use sos\n",
    "# Perform sanity check on statement_4\n",
    "if not statement_4 in [True, False]: \n",
    "    print('WARNING!\\nAssign either True or False to statement_4.')"
   ]
  },
  {
   "cell_type": "markdown",
   "id": "bored-installation",
   "metadata": {
    "deletable": false,
    "editable": false,
    "kernel": "SoS",
    "nbgrader": {
     "cell_type": "markdown",
     "checksum": "c66988618bc843aa472a4b45d00a7405",
     "grade": false,
     "grade_id": "cell-b28c2c93e8f54c5a",
     "locked": true,
     "schema_version": 3,
     "solution": false,
     "task": false
    }
   },
   "source": [
    "## 4.B. Exploration\n",
    "[Back to table of contents](#ToC_1_Morphology)\n",
    "\n",
    "Now it's time to combine different types of structuring elements and morphological operators that you have coded before and explore their effects on images!  Run the next cell to create a `viewer` with `Extra Widgets` that conatin\n",
    " * dropdown menus to select the the operator and the shape of the structuring element, and \n",
    " * a slider to select the size of the structuring element. \n",
    " \n",
    " You can also change the image to `butterfly` in the code."
   ]
  },
  {
   "cell_type": "code",
   "execution_count": null,
   "id": "combined-diversity",
   "metadata": {
    "kernel": "SoS"
   },
   "outputs": [],
   "source": [
    "%use sos\n",
    "# The image to use (plate or butterfly)\n",
    "img = plate\n",
    "# Declare size_slider, shape_menu and button\n",
    "shape_menu = widgets.Dropdown(options=['Square', 'Disc', 'Cross', 'Diagonal'], value='Square', description='Shape')\n",
    "op_menu = widgets.Dropdown(options=['Erosion', 'Dilation', 'Opening', 'Closing', 'Gradient', 'Top-hat', 'Bottom-hat', 'Median'], value='Erosion', description='Operator')\n",
    "size_slider = widgets.IntSlider(value=5, min=1, max=35, step=2, description='n')\n",
    "\n",
    "button = widgets.Button(description='Apply')\n",
    "\n",
    "# Define the callback function of the button\n",
    "def morph_callback(image):\n",
    "    # define structuring element\n",
    "    \n",
    "    def _cross(n):\n",
    "        output = np.zeros((n, n))\n",
    "        output[n//2, :] = 1\n",
    "        output[:, n//2] = 1\n",
    "        output = output.astype(np.uint8)\n",
    "        return output\n",
    "    \n",
    "    n = size_slider.value\n",
    "    strel_name = shape_menu.value\n",
    "    strel_funs = {\n",
    "        'Square': skimage.morphology.square, \n",
    "        'Disc': lambda n: skimage.morphology.disk(n//2), \n",
    "        'Cross': _cross, \n",
    "        'Diagonal': lambda n: np.fliplr(np.eye(n, dtype=np.uint8))\n",
    "    }\n",
    "    strel  = strel_funs[strel_name](n)\n",
    "    \n",
    "    # apply morphological operation\n",
    "    morph_name = op_menu.value\n",
    "    morph_funs = {\n",
    "        'Erosion': skimage.morphology.erosion, \n",
    "        'Dilation': skimage.morphology.dilation, \n",
    "        'Opening': skimage.morphology.opening,\n",
    "        'Closing': skimage.morphology.closing, \n",
    "        'Gradient': skimage.filters.rank.gradient, \n",
    "        'Top-hat': skimage.morphology.white_tophat, \n",
    "        'Bottom-hat': skimage.morphology.black_tophat, \n",
    "        'Median': skimage.filters.rank.median\n",
    "    }\n",
    "    result = morph_funs[morph_name](image, strel)\n",
    "    return result\n",
    "\n",
    "\n",
    "# Display the image with the extra slider functionality\n",
    "plt.close('all')\n",
    "plate_display = viewer(img, title=\"Morphological operators test\", new_widgets=[op_menu, shape_menu, size_slider, button], \n",
    "                       callbacks=[morph_callback], widgets=True)"
   ]
  },
  {
   "cell_type": "markdown",
   "id": "consistent-workplace",
   "metadata": {
    "deletable": false,
    "editable": false,
    "kernel": "SoS",
    "nbgrader": {
     "cell_type": "markdown",
     "checksum": "4e0afdfcecbc9cbf38f2aca8633bcaaa",
     "grade": false,
     "grade_id": "cell-6266f45a229e068b",
     "locked": true,
     "schema_version": 3,
     "solution": false,
     "task": false
    }
   },
   "source": [
    "As you can see, the results of the `erosion` and `dilation` operations closely follow the shape of the structuring element used, and therefore, the effect is also visible on the other operators that build on them. As you can also see, this can determine de quality of the shape of an object in an image after applying a morphological operation. "
   ]
  },
  {
   "cell_type": "markdown",
   "id": "a5b5486f",
   "metadata": {
    "deletable": false,
    "editable": false,
    "kernel": "SoS",
    "nbgrader": {
     "cell_type": "markdown",
     "checksum": "906b09f09f24e4e6f8aa3951e4ed05b9",
     "grade": false,
     "grade_id": "cell-31d4995724575c96",
     "locked": true,
     "schema_version": 3,
     "solution": false,
     "task": false
    }
   },
   "source": [
    "<div class=\"alert alert-success\">\n",
    "\n",
    "Congratulations on finishing this first part of the Morphology lab! Hopefully you are now familiar with the basic tools needed to perform morphological operations. Your next step now is to also complete the second part of the lab, [Lab 3.2: Morphology Applications](./2_Morphology_Applications.ipynb), in which you will apply the basic tools you've learned in this part, to create interesting and useful image processing applications.\n",
    "</div>\n",
    "\n",
    "Make sure to save your notebook (you might want to keep a copy on your personal computer) and upload it to <a href=\"https://moodle.epfl.ch/course/view.php?id=522\">Moodle</a>, <b>in a zip file with the second part of this lab</b>.\n",
    "</p>\n",
    "\n",
    "* Keep the name of the notebook as *1_Morphology_Implementations.ipynb*!\n",
    "* Name the `zip` file *Morphology_lab.zip*."
   ]
  }
 ],
 "metadata": {
  "kernelspec": {
   "display_name": "SoS",
   "language": "sos",
   "name": "sos"
  },
  "language_info": {
   "codemirror_mode": "sos",
   "file_extension": ".sos",
   "mimetype": "text/x-sos",
   "name": "sos",
   "nbconvert_exporter": "sos_notebook.converter.SoS_Exporter",
   "pygments_lexer": "sos"
  },
  "sos": {
   "kernels": [
    [
     "JavaScript",
     "javascript",
     "JavaScript",
     "#c8e1ae",
     ""
    ],
    [
     "SoS",
     "sos",
     "",
     "",
     "sos"
    ]
   ],
   "panel": {
    "displayed": false,
    "height": 0
   },
   "version": "0.23.4"
  }
 },
 "nbformat": 4,
 "nbformat_minor": 5
}