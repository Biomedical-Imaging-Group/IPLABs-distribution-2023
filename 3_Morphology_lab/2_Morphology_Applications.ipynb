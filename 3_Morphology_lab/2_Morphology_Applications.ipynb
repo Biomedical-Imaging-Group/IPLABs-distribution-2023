{
 "cells": [
  {
   "cell_type": "markdown",
   "id": "bae2e93b",
   "metadata": {
    "deletable": false,
    "editable": false,
    "nbgrader": {
     "cell_type": "markdown",
     "checksum": "5e43fdaaa36358582ba2fc557618a0a5",
     "grade": false,
     "grade_id": "cell-4b36c5a00b4b9cb8",
     "locked": true,
     "schema_version": 3,
     "solution": false,
     "task": false
    }
   },
   "source": [
    "<img src=\"https://www.epfl.ch/about/overview/wp-content/uploads/2020/07/logo-epfl-1024x576.png\" style=\"padding-right:10px;width:140px;float:left\"></td>\n",
    "<h2 style=\"white-space: nowrap\">Image Processing Laboratory Notebooks</h2>\n",
    "<hr style=\"clear:both\">\n",
    "<p style=\"font-size:0.85em; margin:2px; text-align:justify\">\n",
    "This Juypter notebook is part of a series of computer laboratories which are designed\n",
    "to teach image-processing programming; they are running on the EPFL's Noto server. They are the practical complement of the theoretical lectures of the EPFL's Master course <b>Image Processing I</b> \n",
    "(<a href=\"https://moodle.epfl.ch/course/view.php?id=522\">MICRO-511</a>) taught by Prof. M. Unser and Prof. D. Van de Ville.\n",
    "</p>\n",
    "<p style=\"font-size:0.85em; margin:2px; text-align:justify\">\n",
    "The project is funded by the Center for Digital Education and the School of Engineering. It is owned by the <a href=\"http://bigwww.epfl.ch/\">Biomedical Imaging Group</a>. \n",
    "The distribution or the reproduction of the notebook is strictly prohibited without the written consent of the authors.  &copy; EPFL <mark>2023</mark>.\n",
    "</p>\n",
    "<p style=\"font-size:0.85em; margin:0px\"><b>Authors</b>: \n",
    "    <a href=\"mailto:pol.delaguilapla@epfl.ch\">Pol del Aguila Pla</a>, \n",
    "    <a href=\"mailto:kay.lachler@epfl.ch\">Kay L\u00e4chler</a>,\n",
    "    <a href=\"mailto:alejandro.nogueronaramburu@epfl.ch\">Alejandro Noguer\u00f3n Ar\u00e1mburu</a>, and\n",
    "    <a href=\"mailto:daniel.sage@epfl.ch\">Daniel Sage</a>.\n",
    "</p>\n",
    "<hr style=\"clear:both\">\n",
    "<h1>Lab 3.1: Morphology</h1>\n",
    "<div style=\"background-color:#F0F0F0;padding:4px\">\n",
    "    <p style=\"margin:4px;\"><b>Released</b>: <mark>Thursday December 14, 2023</mark></p>\n",
    "    <p style=\"margin:4px;\"><b>Submission</b>: <mark><span style=\"color:red\">Monday December 25, 2023</span></mark> (before 11:59PM) on <a href=\"https://moodle.epfl.ch/course/view.php?id=522\">Moodle</a></p>\n",
    "    <p style=\"margin:4px;\"><b>Grade weight</b>: Lab 3 (<mark>18</mark> points), 10% of the overall grade</p> \n",
    "    <p style=\"margin:4px;\"><b>Related lectures</b>: Chapter 4.3</p> \n",
    "</div>"
   ]
  },
  {
   "cell_type": "markdown",
   "id": "14c169b9",
   "metadata": {},
   "source": [
    "### Student Name: \n",
    "### SCIPER: \n",
    "\n",
    "Double-click on this cell and fill your name and SCIPER number. Then, run the cell below to verify your identity in Noto and set the seed for random results."
   ]
  },
  {
   "cell_type": "code",
   "execution_count": null,
   "id": "04a0e46c",
   "metadata": {
    "deletable": false,
    "editable": false,
    "nbgrader": {
     "cell_type": "code",
     "checksum": "b1f5638af4edbef2b0e437b898121084",
     "grade": true,
     "grade_id": "cell-0357262b88ff7887",
     "locked": true,
     "points": 0,
     "schema_version": 3,
     "solution": false,
     "task": false
    }
   },
   "outputs": [],
   "source": [
    "import getpass\n",
    "# This line recovers your camipro number to mark the images with your ID\n",
    "uid = int(getpass.getuser().split('-')[2]) if len(getpass.getuser().split('-')) > 2 else ord(getpass.getuser()[0])\n",
    "print(f'SCIPER: {uid}')"
   ]
  },
  {
   "cell_type": "markdown",
   "id": "9f9a71aa",
   "metadata": {
    "deletable": false,
    "editable": false,
    "nbgrader": {
     "cell_type": "markdown",
     "checksum": "ef069b996a99a457a5c68b41aedf6ff8",
     "grade": false,
     "grade_id": "cell-1ede0a6ff6902060",
     "locked": true,
     "schema_version": 3,
     "solution": false,
     "task": false
    }
   },
   "source": [
    "## Imports"
   ]
  },
  {
   "cell_type": "code",
   "execution_count": null,
   "id": "eeea3956",
   "metadata": {
    "deletable": false,
    "editable": false,
    "nbgrader": {
     "cell_type": "code",
     "checksum": "8fbd482d884369991e44710499cfc56a",
     "grade": false,
     "grade_id": "cell-45d3a06c97ab6032",
     "locked": true,
     "schema_version": 3,
     "solution": false,
     "task": false
    }
   },
   "outputs": [],
   "source": [
    "# Configure plotting as dynamic\n",
    "%matplotlib widget\n",
    "\n",
    "# Import standard required packages for this exercise\n",
    "import matplotlib.pyplot as plt\n",
    "import ipywidgets as widgets\n",
    "import numpy as np\n",
    "import skimage\n",
    "\n",
    "from interactive_kit import imviewer as viewer\n",
    "\n",
    "# Load images to be used in this lab\n",
    "from skimage import io\n",
    "test_contact = io.imread('images/test-contact.tif')\n",
    "test_scratch = io.imread('images/test-scratch.tif')\n",
    "test_img = io.imread('images/test-skeleton.tif')\n",
    "hela = io.imread('images/hela.tif')\n",
    "christmas = io.imread('images/christmas-tree.tif')\n",
    "hela = io.imread('images/hela.tif')"
   ]
  },
  {
   "cell_type": "markdown",
   "id": "0ab782c1",
   "metadata": {
    "deletable": false,
    "editable": false,
    "nbgrader": {
     "cell_type": "markdown",
     "checksum": "05f0ede88c7df7a02cd49b36ddab1885",
     "grade": false,
     "grade_id": "cell-984305f1f67f676f",
     "locked": true,
     "schema_version": 3,
     "solution": false,
     "task": false
    }
   },
   "source": [
    "Now run the next cell to re-declare the functions that create different types of structuring elements from the first part of this lab. "
   ]
  },
  {
   "cell_type": "code",
   "execution_count": null,
   "id": "8eca0969",
   "metadata": {
    "deletable": false,
    "editable": false,
    "nbgrader": {
     "cell_type": "code",
     "checksum": "6d74e7fceb5e45655a31d91fdef8005e",
     "grade": false,
     "grade_id": "cell-ba11055e428314cc",
     "locked": true,
     "schema_version": 3,
     "solution": false,
     "task": false
    }
   },
   "outputs": [],
   "source": [
    "def square(n):\n",
    "    return np.ones((n, n)).astype(np.uint8)\n",
    "\n",
    "def disc(n):\n",
    "    # Define the function of a circle as a lambda function\n",
    "    circle_func = lambda i, j: ((i - n//2)**2 + (j - n//2)**2) <= (n//2)**2\n",
    "    # Set all elements of the array that are inside the circle of diamater n to 1\n",
    "    output = np.fromfunction(circle_func, shape=(n,n)).astype(np.uint8)\n",
    "    # Return the structuring element\n",
    "    return output\n",
    "\n",
    "def cross(n):\n",
    "    output = np.zeros((n, n))\n",
    "    output[n//2, :] = 1\n",
    "    output[:, n//2] = 1\n",
    "    output = output.astype(np.uint8)\n",
    "    return output\n",
    "\n",
    "def diag(n):\n",
    "    return np.flip(np.diag(np.ones(n, dtype='uint8')), axis=0)"
   ]
  },
  {
   "cell_type": "markdown",
   "id": "b26ca3e3",
   "metadata": {
    "deletable": false,
    "editable": false,
    "nbgrader": {
     "cell_type": "markdown",
     "checksum": "08ee3a38eabee076cdf1803872e185b9",
     "grade": false,
     "grade_id": "cell-a46fea629915a31b",
     "locked": true,
     "schema_version": 3,
     "solution": false,
     "task": false
    }
   },
   "source": [
    "# Morphology Applications (5 points)\n",
    "In the previous part of the lab, you looked in detail at the pixel-wise implementation of morphological operations. In this second part, we will look at the applications of these operations, and how they are used in image processing workflows using skimage. **This notebook is purely in Python**.\n",
    "\n",
    "## <a id=\"ToC_2_Morphology\"></a>Table of contents\n",
    "\n",
    "1. [Direct applications](#1.-Direct-applications-(3-points)) (**3 points**)\n",
    "    1. [Disconnecting round objects](#1.A.-Disconnecting-round-objects)\n",
    "    2. [Detecting horizontal lines](#1.B.-Detecting-horizontal-lines)\n",
    "    3. [Combining morphological filters](#1.C.-Combining-morphological-filters)\n",
    "2. [Lantu\u00e9joul's skeleton](#2.-Lantu\u00e9joul's-skeleton-(1-point)) (**1 point**)\n",
    "    1. [Implementing skeletonize](#2.A.-Implementing-skeletonize)\n",
    "    2. [Testing skeletonize](#2.B.-Testing-skeletonize)\n",
    "3. [Distance from border](#3.-Distance-from-border-(1-point)) (**1 point**)\n",
    "4. [Cartoonize your picture!](#4.-Cartoonize-your-picture!)\n",
    "\n",
    "# 1. Direct applications (2 points)\n",
    "[Back to table of contents](#ToC_2_Morphology)\n",
    "\n",
    "For the tasks in this section 1.A and 1.B, choose **only one** of the morphological operators presented in [the first part of the lab](./1_Morphology_Implementations.ipynb#3.-Morphological-filters-(9-points)), with a suitable structuring elment of a suitable size.\n",
    "If the resulting image is not binary, apply a threshold operation (e.g. using [`np.where()`](https://numpy.org/doc/stable/reference/generated/numpy.where.html)) with an appropriate threshold value to get a binary image of values $0$ or $255$ (use `image.astype(uint8)` to convert the data type).\n",
    "\n",
    "\n",
    "## 1.A. Disconnecting round objects\n",
    "[Back to table of contents](#ToC_2_Morphology)\n",
    "\n",
    "In the image `test_contact`, **for 1 point**, disconnect the roundish white objects while keeping at least 1 white pixel per roundish object.\n",
    "\n",
    "<table><tr>\n",
    "<td>\n",
    "  <p align=\"center\" style=\"padding: 0px\">\n",
    "    <img alt=\"test-contact showcase\" src=\"images/test-contact_showcase.png\" width=\"500\"><br>\n",
    "  <em style=\"color: grey\">Using only one morphological operator, you can separate all the roundish objects, as shown above.</em>\n",
    "  </p>\n",
    "</td>\n",
    "</tr></table>\n",
    "\n",
    "Run the next cell to visualize the original image. Then insert your code into the function `disconnect`, to specify the morphological operation and the structuring element to use.\n",
    "\n",
    "<div class=\"alert alert-info\">\n",
    "<b>Hints</b>: <ul><li>In this exercise you don't need to explicitly threshold anything because the original image is already binary.</li><li>Remember to try the different parameters of a morphological operation! For example, you can change the operator, the size and the type of a structural element.</li></ul>\n",
    "</div>"
   ]
  },
  {
   "cell_type": "code",
   "execution_count": null,
   "id": "4d38f544",
   "metadata": {
    "deletable": false,
    "editable": false,
    "nbgrader": {
     "cell_type": "code",
     "checksum": "1de5fe118299bbb5f6f7f6feffde39c2",
     "grade": false,
     "grade_id": "cell-e0ed9fc025254b43",
     "locked": true,
     "schema_version": 3,
     "solution": false,
     "task": false
    }
   },
   "outputs": [],
   "source": [
    "plt.close('all')\n",
    "img_vis = viewer(test_contact)"
   ]
  },
  {
   "cell_type": "code",
   "execution_count": null,
   "id": "0c9e097a",
   "metadata": {
    "deletable": false,
    "nbgrader": {
     "cell_type": "code",
     "checksum": "5bc38217b09f1d56488b3a1f2c17e4d0",
     "grade": false,
     "grade_id": "cell-52f068f1b6dd035e",
     "locked": false,
     "schema_version": 3,
     "solution": true,
     "task": false
    }
   },
   "outputs": [],
   "source": [
    "# Function that performs a single morphological operation with some structuring element of size n\n",
    "def disconnect(img, n):\n",
    "    # Initialize output\n",
    "    output = np.zeros(img.shape)\n",
    "    \n",
    "    # YOUR CODE HERE\n",
    "\n",
    "    return output"
   ]
  },
  {
   "cell_type": "markdown",
   "id": "d604c750",
   "metadata": {
    "deletable": false,
    "editable": false,
    "nbgrader": {
     "cell_type": "markdown",
     "checksum": "936c00e853b86e7d185bf2c1f6e65abd",
     "grade": false,
     "grade_id": "cell-96f4870b892776d7",
     "locked": true,
     "schema_version": 3,
     "solution": false,
     "task": false
    }
   },
   "source": [
    "Run the next cell to check that the result only consists of binary values **(object = 255, background = 0)** using [`np.unique()`](https://numpy.org/doc/stable/reference/generated/numpy.unique.html)."
   ]
  },
  {
   "cell_type": "code",
   "execution_count": null,
   "id": "dfd2e165",
   "metadata": {
    "deletable": false,
    "editable": false,
    "nbgrader": {
     "cell_type": "code",
     "checksum": "be893cece13dd4886bee6115fe711308",
     "grade": true,
     "grade_id": "cell-6a1a37a40368ca60",
     "locked": true,
     "points": 0.5,
     "schema_version": 3,
     "solution": false,
     "task": false
    }
   },
   "outputs": [],
   "source": [
    "# Check that the output is binary\n",
    "check_bin = disconnect(test_contact, 25)\n",
    "if not np.all(np.unique(check_bin)==[0,255]):\n",
    "    print('WARNING!\\nThe output is not binary with values {0, 255}.')\n",
    "else:\n",
    "    print(\"Good, the output is binary with values {0,255}.\")"
   ]
  },
  {
   "cell_type": "markdown",
   "id": "2cd359dc",
   "metadata": {
    "deletable": false,
    "editable": false,
    "nbgrader": {
     "cell_type": "markdown",
     "checksum": "819c568348eaf1f06f5c8700f891ba36",
     "grade": false,
     "grade_id": "cell-c2953488964bc857",
     "locked": true,
     "schema_version": 3,
     "solution": false,
     "task": false
    }
   },
   "source": [
    "To make it easy for you to find the right size of the structuring element, we will add an interactive slider to the image display using the `ImageViewer` class. Run the next cell to use the interactive widget.\n",
    "<div class=\"alert alert-info\">\n",
    "\n",
    "<b>Note:</b> To use the slider, click the the button <code>Extra Widgets</code>. Then you can adjust the size of the structuring element with the slider and click the button <code>Disconnect</code> to apply the <code>disconnect()</code> function with the currently selected size on the original image.\n",
    "</div>"
   ]
  },
  {
   "cell_type": "code",
   "execution_count": null,
   "id": "96603c9f",
   "metadata": {
    "deletable": false,
    "editable": false,
    "nbgrader": {
     "cell_type": "code",
     "checksum": "af53d46885ad05418df573726f740c92",
     "grade": false,
     "grade_id": "cell-96040339ea58f076",
     "locked": true,
     "schema_version": 3,
     "solution": false,
     "task": false
    }
   },
   "outputs": [],
   "source": [
    "# Instantiate the size slider\n",
    "size_slider = widgets.IntSlider(value=25, min=0, max=50, step=1, description='n')\n",
    "# Instantiate the diconnect button\n",
    "button = widgets.Button(description = 'Disconnect')\n",
    "\n",
    "# Define the callback function of the button\n",
    "def button_callback(image):\n",
    "    # run the disconnect function on the image with the size indicated by the slider\n",
    "    output = disconnect(image, n=size_slider.value)\n",
    "    return output\n",
    "\n",
    "# Display the image with the extra slider functionality\n",
    "plt.close('all')\n",
    "test_contact_display = viewer(test_contact, title=\"Disconnect test_contact\", new_widgets=[size_slider, button], callbacks=[button_callback], widgets=True)"
   ]
  },
  {
   "cell_type": "markdown",
   "id": "5c5fd7ce",
   "metadata": {
    "deletable": false,
    "editable": false,
    "nbgrader": {
     "cell_type": "markdown",
     "checksum": "0e564866aaa4c4c0ab00ae509dad53d5",
     "grade": false,
     "grade_id": "cell-31ad6800d5e94e37",
     "locked": true,
     "schema_version": 3,
     "solution": false,
     "task": false
    }
   },
   "source": [
    "In the following cell, assign `n` with the size of the structuring element you think works best for this task. This number may be different depending on the structuring element you used in the `disconnect()` function."
   ]
  },
  {
   "cell_type": "code",
   "execution_count": null,
   "id": "39b3a24b",
   "metadata": {
    "deletable": false,
    "nbgrader": {
     "cell_type": "code",
     "checksum": "281497167b8d84b6e3bec27ad1477a96",
     "grade": false,
     "grade_id": "cell-112de17bf3b23060",
     "locked": false,
     "schema_version": 3,
     "solution": true,
     "task": false
    }
   },
   "outputs": [],
   "source": [
    "# Assign the size of the structuring element\n",
    "n = None\n",
    "# YOUR CODE HERE"
   ]
  },
  {
   "cell_type": "code",
   "execution_count": null,
   "id": "ed099102",
   "metadata": {
    "deletable": false,
    "editable": false,
    "nbgrader": {
     "cell_type": "code",
     "checksum": "1fa1bcecf74e5fd9ac1baa29fbb8dc14",
     "grade": true,
     "grade_id": "cell-f9e638a4e2ff790d",
     "locked": true,
     "points": 0.5,
     "schema_version": 3,
     "solution": false,
     "task": false
    }
   },
   "outputs": [],
   "source": [
    "# Perform a sanity check on n\n",
    "if not 0 < n < 50: \n",
    "    print('WARNING!\\nThe chosen size doesn\\'t really make sense.')"
   ]
  },
  {
   "cell_type": "markdown",
   "id": "11fe11e5",
   "metadata": {
    "deletable": false,
    "editable": false,
    "nbgrader": {
     "cell_type": "markdown",
     "checksum": "7dba7071341f9e8a31b9b57c1f455fd3",
     "grade": false,
     "grade_id": "cell-8e2687aedf28dfd0",
     "locked": true,
     "schema_version": 3,
     "solution": false,
     "task": false
    }
   },
   "source": [
    "## 1.B. Detecting horizontal lines\n",
    "[Back to table of contents](#ToC_2_Morphology)\n",
    "\n",
    "In the image `test_scratch`, **for 1 point**, detect the horizontal white lines of thickness of 1 or more pixels.\n",
    "\n",
    "<table><tr>\n",
    "<td>\n",
    "  <p align=\"center\" style=\"padding: 0px\">\n",
    "    <img alt=\"test-scratch showcase\" src=\"images/test-scratch_showcase.png\" width=\"500\"><br>\n",
    "<em style=\"color: grey\">With <b>only one</b> morphological operation and a binarization, you can extract the second image from the first one.</em>\n",
    "  </p>\n",
    "</td>\n",
    "</tr></table>\n",
    "\n",
    "Run the next cell to visualize the original image, then insert your code into the function `detect_hlines(img, n, threshold)` to specify the morphological operator, the structuring element and the binary threshold to use."
   ]
  },
  {
   "cell_type": "code",
   "execution_count": null,
   "id": "0413c587",
   "metadata": {
    "deletable": false,
    "editable": false,
    "nbgrader": {
     "cell_type": "code",
     "checksum": "a3d07c5b77d95f14e30c6769204adae8",
     "grade": false,
     "grade_id": "cell-2d528e24be41a9ea",
     "locked": true,
     "schema_version": 3,
     "solution": false,
     "task": false
    }
   },
   "outputs": [],
   "source": [
    "plt.close('all')\n",
    "img_vis = viewer(test_scratch)"
   ]
  },
  {
   "cell_type": "code",
   "execution_count": null,
   "id": "d16106f6",
   "metadata": {
    "deletable": false,
    "nbgrader": {
     "cell_type": "code",
     "checksum": "6424f24257a0a28c8fd90641b8148010",
     "grade": false,
     "grade_id": "cell-3220ffe25e21b44a",
     "locked": false,
     "schema_version": 3,
     "solution": true,
     "task": false
    }
   },
   "outputs": [],
   "source": [
    "# Function that performs a single morphological filter with some structuring element of size n followed by thresholding \n",
    "def detect_hlines(img, n, threshold):\n",
    "    # Initialize output\n",
    "    output = np.zeros(img.shape)\n",
    "    \n",
    "    # YOUR CODE HERE\n",
    "\n",
    "    return output"
   ]
  },
  {
   "cell_type": "markdown",
   "id": "8be55f31",
   "metadata": {
    "deletable": false,
    "editable": false,
    "nbgrader": {
     "cell_type": "markdown",
     "checksum": "23b2e4b56353ab7e5553ef7f06848aac",
     "grade": false,
     "grade_id": "cell-3803ee0491265c9f",
     "locked": true,
     "schema_version": 3,
     "solution": false,
     "task": false
    }
   },
   "source": [
    "Run the next cell to check that the result only consists of binary values **(object = 255, background = 0)** using [`np.unique()`](https://numpy.org/doc/stable/reference/generated/numpy.unique.html)."
   ]
  },
  {
   "cell_type": "code",
   "execution_count": null,
   "id": "3cbe55fd",
   "metadata": {},
   "outputs": [],
   "source": [
    "# You can enter any values that work for you for the size and threshold\n",
    "n = 3\n",
    "threshold = 125\n",
    "\n",
    "# Check that the output is binary\n",
    "check_bin = detect_hlines(test_scratch, n, threshold)\n",
    "if not (len(np.unique(check_bin)) == 2 and np.allclose(np.unique(check_bin), [0, 255])):\n",
    "    print('WARNING!\\nThe output is not binary with values {0, 255}. Your output consists of the following values:\\n' + \n",
    "          str(np.unique(check_bin)))\n",
    "else:\n",
    "    print(\"Good, the output is binary with values {0, 255}.\")"
   ]
  },
  {
   "cell_type": "markdown",
   "id": "0474b346",
   "metadata": {
    "deletable": false,
    "editable": false,
    "nbgrader": {
     "cell_type": "markdown",
     "checksum": "bc12a6a101532d69346eddc3ce01df0f",
     "grade": false,
     "grade_id": "cell-88d419f99cb6fe8d",
     "locked": true,
     "schema_version": 3,
     "solution": false,
     "task": false
    }
   },
   "source": [
    "Again, we will make it easier for you to select the appropriate size and threshold values by adding an extra widget to the image display. Run the next cell to use the interactive widget."
   ]
  },
  {
   "cell_type": "code",
   "execution_count": null,
   "id": "1794b132",
   "metadata": {
    "deletable": false,
    "editable": false,
    "nbgrader": {
     "cell_type": "code",
     "checksum": "c99032cd71787fa0d6c52d3e35746447",
     "grade": true,
     "grade_id": "cell-ef015512ff3ac0c8",
     "locked": true,
     "points": 0.5,
     "schema_version": 3,
     "solution": false,
     "task": false
    }
   },
   "outputs": [],
   "source": [
    "# Instantiate the size slider\n",
    "size_slider = widgets.IntSlider(value=25, min=0, max=50, step=1, description='n')\n",
    "# Instantiate the threshold slider\n",
    "thresh_slider = widgets.IntSlider(value=125, min=0, max=255, step=1, description='threshold')\n",
    "# Instantiate the diconnect button\n",
    "button = widgets.Button(description='Detect H-lines')\n",
    "\n",
    "# Define the callback function of the button\n",
    "def button_callback(image):\n",
    "    # Run the disconnect function on the image with the size indicated by the slider\n",
    "    output = detect_hlines(image, n=size_slider.value, threshold=thresh_slider.value)\n",
    "    return output\n",
    "\n",
    "# Display the image with the extra slider functionality\n",
    "plt.close('all')\n",
    "test_scratch_display = viewer(test_scratch, title=\"Detect horizontal lines\", new_widgets=[size_slider, thresh_slider, button], \n",
    "                              callbacks=[button_callback], widgets=True)"
   ]
  },
  {
   "cell_type": "markdown",
   "id": "c03d8ee7",
   "metadata": {
    "deletable": false,
    "editable": false,
    "nbgrader": {
     "cell_type": "markdown",
     "checksum": "61b46a15d2041041cb67401971b0afa3",
     "grade": false,
     "grade_id": "cell-65146e1ddafae9ba",
     "locked": true,
     "schema_version": 3,
     "solution": false,
     "task": false
    }
   },
   "source": [
    "In the following cell, assign `n` with the size of the structuring element and `threshold` with the threshold you think works best for this task."
   ]
  },
  {
   "cell_type": "code",
   "execution_count": null,
   "id": "07e641c2",
   "metadata": {
    "deletable": false,
    "nbgrader": {
     "cell_type": "code",
     "checksum": "93199a2ddd3d05bcdbbd6d591ae98105",
     "grade": false,
     "grade_id": "cell-2bd4d147ab70feb1",
     "locked": false,
     "schema_version": 3,
     "solution": true,
     "task": false
    }
   },
   "outputs": [],
   "source": [
    "# Assign your values here\n",
    "n = None\n",
    "threshold = None\n",
    "\n",
    "# YOUR CODE HERE"
   ]
  },
  {
   "cell_type": "code",
   "execution_count": null,
   "id": "2cd80742",
   "metadata": {
    "deletable": false,
    "editable": false,
    "nbgrader": {
     "cell_type": "code",
     "checksum": "19cdf12c8fa6d24af8059ee227e9f2cb",
     "grade": true,
     "grade_id": "cell-308ff1b4718436c7",
     "locked": true,
     "points": 0.25,
     "schema_version": 3,
     "solution": false,
     "task": false
    }
   },
   "outputs": [],
   "source": [
    "# Perform a sanity check on n\n",
    "if not 0 < n < 50: \n",
    "    print('The chosen size doesn\\'t really make sense.')"
   ]
  },
  {
   "cell_type": "code",
   "execution_count": null,
   "id": "c0359f15",
   "metadata": {
    "deletable": false,
    "editable": false,
    "nbgrader": {
     "cell_type": "code",
     "checksum": "5ed01750715161752229c95ee78b58ba",
     "grade": true,
     "grade_id": "cell-4412a2b9b2ce1e53",
     "locked": true,
     "points": 0.25,
     "schema_version": 3,
     "solution": false,
     "task": false
    }
   },
   "outputs": [],
   "source": [
    "# Perform a sanity check on threshold\n",
    "if not 0 < threshold < 255: \n",
    "    print('The chosen threshold does not really make sense.')"
   ]
  },
  {
   "cell_type": "markdown",
   "id": "672f3118",
   "metadata": {
    "deletable": false,
    "editable": false,
    "nbgrader": {
     "cell_type": "markdown",
     "checksum": "9317aaa4ec188a8e3e321cb48b5668ea",
     "grade": false,
     "grade_id": "cell-164aa8889d4921d4",
     "locked": true,
     "schema_version": 3,
     "solution": false,
     "task": false
    }
   },
   "source": [
    "## 1.C. Combining morphological filters\n",
    "[Back to table of contents](#ToC_2_Morphology)\n",
    "\n",
    "In this section, you can use **one or several** of the morphological operators followed by a threshold operation. **For 1 point**, detect **the 23 round white objects of diameter $20 \\pm 4$ pixels (the smaller round objects)** in the image `test_scratch`. Try to preserve their original shapes. Select an appropriate threshold value to get a binary image.\n",
    "\n",
    "<table><tr>\n",
    "<td>\n",
    "  <p align=\"center\" style=\"padding: 0px\">\n",
    "    <img alt=\"test-scratch round showcase\" src=\"images/test-scratch_round_showcase.png\" width=\"500\"><br>\n",
    "      <em style=\"color: grey\">Using morphological operations, you can get the image on the right from the image on the left.</em>\n",
    "  </p>\n",
    "</td>\n",
    "</tr></table>\n",
    "\n",
    "Insert your code into the function `detect_round(img)`.\n",
    "\n",
    "<div class=\"alert alert-success\">\n",
    "<b>Hints:</b> <ul><li>Because you can use as many operators as you like with different structuring elements of multiple sizes, it would be too complicated to generate interactive sliders for all of them. That means you need to <b>hard-code the sizes of the structuring elements and the threshold value directly into the code</b> and change them by hand to find the a combination that works for you.</li><li>Design your workflow thinking in terms of simple tasks! For example, what kind of features do you want to keep or get rid of, and what size are they? The effect of each of the operators can be summerized in a effect, e.g. getting rid of big objects.</li></ul>\n",
    "</div>"
   ]
  },
  {
   "cell_type": "code",
   "execution_count": null,
   "id": "7ec316a5-7ac4-4a56-ac03-6710d514df39",
   "metadata": {
    "deletable": false,
    "nbgrader": {
     "cell_type": "code",
     "checksum": "0afeeb7c133941f48f00c2eb8380e718",
     "grade": false,
     "grade_id": "cell-a05a32c8ba7a69e2",
     "locked": false,
     "schema_version": 3,
     "solution": true,
     "task": false
    }
   },
   "outputs": [],
   "source": [
    "# Function that detects roundish white objects of diamater 20 +/- 4 pixels\n",
    "def detect_round(img):\n",
    "    # Initialize the output image\n",
    "    output = np.zeros(img.shape)\n",
    "    \n",
    "    # YOUR CODE HERE\n",
    "    \n",
    "    return output\n",
    "\n",
    "# Run the function on the image test_scratch\n",
    "test_scratch_modified = detect_round(test_scratch)\n",
    "\n",
    "# Display the images\n",
    "plt.close('all')\n",
    "images = [test_scratch, test_scratch_modified]\n",
    "titles = ['Original', 'Round objects detected']\n",
    "\n",
    "test_round_viewer = viewer(images, title=titles, subplots=(1,2))"
   ]
  },
  {
   "cell_type": "markdown",
   "id": "7e14b042",
   "metadata": {
    "deletable": false,
    "editable": false,
    "nbgrader": {
     "cell_type": "markdown",
     "checksum": "5ce1397c1f26ea5eb7e4c355913312ad",
     "grade": false,
     "grade_id": "cell-b98b9790bc3f4f72",
     "locked": true,
     "schema_version": 3,
     "solution": false,
     "task": false
    }
   },
   "source": [
    "Run the next cell to check that your image is binary."
   ]
  },
  {
   "cell_type": "code",
   "execution_count": null,
   "id": "d5f63e55",
   "metadata": {
    "deletable": false,
    "editable": false,
    "nbgrader": {
     "cell_type": "code",
     "checksum": "d10c04d540ef82394fac018a28b9b30c",
     "grade": true,
     "grade_id": "cell-ba0025e55e36fca4",
     "locked": true,
     "points": 0.3,
     "schema_version": 3,
     "solution": false,
     "task": false
    }
   },
   "outputs": [],
   "source": [
    "# Check if the image consists of only one value\n",
    "if len(np.unique(detect_round(test_scratch))) == 1:\n",
    "       print(f\"WARNING!\\nYour image consists of one value: {np.unique(detect_round(test_scratch))}. You probably made a mistake in your code.\\n\")\n",
    "# Check if the image is binary\n",
    "if len(np.unique(detect_round(test_scratch))) != 2:\n",
    "       print(f\"WARNING!\\nYour image is not binary, it still consists of {len(np.unique(detect_round(test_scratch)))} different values. Check your thresholding operation.\")\n",
    "else:\n",
    "    print(f'Good, the image is binary.')"
   ]
  },
  {
   "cell_type": "code",
   "execution_count": null,
   "id": "affected-interest",
   "metadata": {
    "deletable": false,
    "editable": false,
    "nbgrader": {
     "cell_type": "code",
     "checksum": "486734b2f4c67a07694ab4fbba9d4446",
     "grade": true,
     "grade_id": "cell-6cced6faec74c07d",
     "locked": true,
     "points": 0.4,
     "schema_version": 3,
     "solution": false,
     "task": false
    }
   },
   "outputs": [],
   "source": [
    "# Check that the lower binary value is 0\n",
    "if np.unique(detect_round(test_scratch))[0] != 0: \n",
    "    print(f\"The lower binary value should be 0, not {np.unique(detect_round(test_scratch))[0]}.\")\n",
    "else:\n",
    "    print(f'The lower binary value is correct.')"
   ]
  },
  {
   "cell_type": "code",
   "execution_count": null,
   "id": "significant-soldier",
   "metadata": {
    "deletable": false,
    "editable": false,
    "nbgrader": {
     "cell_type": "code",
     "checksum": "bb577a7539f0756860b5036d9aebcedc",
     "grade": true,
     "grade_id": "cell-a706e6cad6619427",
     "locked": true,
     "points": 0.3,
     "schema_version": 3,
     "solution": false,
     "task": false
    }
   },
   "outputs": [],
   "source": [
    "# Check that the upper binary value is 255\n",
    "if np.unique(detect_round(test_scratch))[1] != 255: \n",
    "    print(f\"The upper binary value should be 255, not {np.unique(detect_round(test_scratch))[1]}.\")\n",
    "else:\n",
    "    # Print victory message\n",
    "    print(f'The upper binary value is correct.')"
   ]
  },
  {
   "cell_type": "markdown",
   "id": "frequent-merit",
   "metadata": {
    "deletable": false,
    "editable": false,
    "nbgrader": {
     "cell_type": "markdown",
     "checksum": "688b1ede0a7bbbc50abebe41d17a5292",
     "grade": false,
     "grade_id": "cell-46e395cfacc61df1",
     "locked": true,
     "schema_version": 3,
     "solution": false,
     "task": false
    }
   },
   "source": [
    "# 2. Lantu\u00e9joul's skeleton (1 point)\n",
    "[Back to table of contents](#ToC_2_Morphology)\n",
    "\n",
    "In this section we're going to implement a 2D skeletonizing algorithm, Lantu\u00e9joul's algorithm. This process is commonly used in handwritten text recognition, fingerprint validation and [raster-to-vector](https://en.wikipedia.org/wiki/Image_tracing) conversion. It is an iterative erosion procedure that gives an approximation of the skeleton of an object. The input is a binary image (object = 255, background = 0). The output is also a binary image (skeleton = 255, background = 0).\n",
    "\n",
    "<table><tr>\n",
    "<td>\n",
    "  <p align=\"center\" style=\"padding: 0px\">\n",
    "    <img alt=\"skeletonize showcase\" src=\"images/skeletonize_showcase.png\" width=\"500\"><br>\n",
    "<em style=\"color: grey\">Lantu\u00e9joul's algorithm: original image (left) and simple Lantu\u00e9joul's algorithm (right).</em> \n",
    "  </p>\n",
    "</td>\n",
    "</tr></table>\n",
    "\n",
    "The algorithm can be summarized as follows:\n",
    "<hr>\n",
    "while the image is not completely eroded:\n",
    "\n",
    "<ol>\n",
    "    <li>start from $n=1$</li>\n",
    "    <li>apply erosion with a $3\\times3$ cross element to get an eroded image $e_n$</li>\n",
    "    <li>apply tophat with a $3\\times3$ square element to $e_n$ to get the $n^{th}$ skeleton $s_n$</li>\n",
    "    <li>take the union of $s_n$ with previous ones: $\\mathrm{skel} =s_n \\cup (s_{n-1} \\cup s_{n-2} \\cup \\ldots \\cup s_1)$</li>  \n",
    "    <li>$n=n+1$</li>\n",
    "</ol>\n",
    "print(n)\n",
    "<hr>\n",
    "\n",
    "## 2.A. Implementing skeletonize\n",
    "[Back to table of contents](#ToC_2_Morphology)\n",
    "\n",
    "**For 1 point**, complete the function `skeletonize` that implements the above process and that writes the counter $n$ in the console to indicate **in total** how many skeletons have been used. Test your code on the image `test_skeleton`.\n",
    "\n",
    "<div class=\"alert alert-info\">\n",
    "\n",
    "<b>Hints</b>: <ul><li>You can use <a href=\"https://numpy.org/doc/stable/reference/generated/numpy.count_nonzero.html\"><code>np.count_nonzero(img)</code></a> to get the number of non-zero pixels in <code>img</code>.</li>\n",
    "\n",
    "<li>The correct way to get the union of two images is to use <a href=\"https://numpy.org/doc/stable/reference/generated/numpy.bitwise_or.html\"><code>np.bitwise_or(img_1, img_2)</code></a></li></ul>\n",
    "</div>\n",
    "\n",
    "<div class=\"alert alert-warning\">\n",
    "<b>Beware:</b> If you don't set the correct stopping condition in the while loop, it can run forever and block the execution of all other code. The cell should generate its output in a few seconds, otherwise it is likely that you created an infinite loop. If this happens you can click on <code>Kernel</code> in the toolbar on top and select <code>Interrupt</code> to stop the infinite loop. After that you can adjust your code and rerun the cell.\n",
    "\n",
    "</div>"
   ]
  },
  {
   "cell_type": "code",
   "execution_count": null,
   "id": "annual-swaziland",
   "metadata": {
    "deletable": false,
    "nbgrader": {
     "cell_type": "code",
     "checksum": "dff5559b2010cbd169c984a7469b138f",
     "grade": false,
     "grade_id": "cell-6d0d6f86725d0f79",
     "locked": false,
     "schema_version": 3,
     "solution": true,
     "task": false
    },
    "tags": []
   },
   "outputs": [],
   "source": [
    "# Function that takes as input a binary image and returns its skeleton\n",
    "def skeletonize(img):\n",
    "    # Defining the output image (an array of zeros with the same shape as the input image of type 'uint8')\n",
    "    output = np.zeros(img.shape, np.uint8)\n",
    "    \n",
    "    # YOUR CODE HERE\n",
    "    return output\n",
    "    \n",
    "# Run the function on the test image\n",
    "test_skeleton = skeletonize(test_img)\n",
    "    \n",
    "# Define the lists of images and names\n",
    "images = [test_img, test_skeleton]\n",
    "titles = ['Original', 'Skeleton']\n",
    "\n",
    "# Display the images\n",
    "plt.close('all')\n",
    "skeletonize_viewer = viewer(images, title=titles, subplots=(1,2))"
   ]
  },
  {
   "cell_type": "markdown",
   "id": "secondary-conducting",
   "metadata": {
    "deletable": false,
    "editable": false,
    "nbgrader": {
     "cell_type": "markdown",
     "checksum": "cfaff108bc44806795ff2eca69c60d6b",
     "grade": false,
     "grade_id": "cell-edd85cd03984a27e",
     "locked": true,
     "schema_version": 3,
     "solution": false,
     "task": false
    }
   },
   "source": [
    "Run the cell below to verify that the output of your function is binary."
   ]
  },
  {
   "cell_type": "code",
   "execution_count": null,
   "id": "industrial-england",
   "metadata": {
    "deletable": false,
    "editable": false,
    "nbgrader": {
     "cell_type": "code",
     "checksum": "1d706125583b123f3b25b6fb4bde222e",
     "grade": true,
     "grade_id": "cell-e9bb165d95c6d36c",
     "locked": true,
     "points": 0.8,
     "schema_version": 3,
     "solution": false,
     "task": false
    }
   },
   "outputs": [],
   "source": [
    "# Check that the output is binary\n",
    "if (len(np.unique(test_skeleton)) != 2 or \n",
    "    np.max(np.unique(test_skeleton)) != 255 or \n",
    "    np.min(np.unique(test_skeleton)) != 0): \n",
    "    print('WARNING!\\nThe output is not binary with values {0, 255}.')\n",
    "else:\n",
    "    print('Good, the output is binary.')"
   ]
  },
  {
   "cell_type": "markdown",
   "id": "curious-mainstream",
   "metadata": {
    "deletable": false,
    "editable": false,
    "nbgrader": {
     "cell_type": "markdown",
     "checksum": "53f5ba05390db27b89a1a22a95c11ff1",
     "grade": false,
     "grade_id": "cell-fe0bba76c48a72dc",
     "locked": true,
     "schema_version": 3,
     "solution": false,
     "task": false
    }
   },
   "source": [
    "## 2.B. Testing skeletonize\n",
    "[Back to table of contents](#ToC_2_Morphology)\n",
    "\n",
    "Apply your function `skeletonize` on the `christmas` image and display the result using the `viewer` by running the next cell.\n",
    "\n",
    "<div class='alert alert-info'>\n",
    "<b>Hint</b>: If you implemented <code>skeletonize</code> correctly, you should see <b>exactly</b> $1700$ white pixels.\n",
    "</div>"
   ]
  },
  {
   "cell_type": "code",
   "execution_count": null,
   "id": "subjective-flash",
   "metadata": {
    "deletable": false,
    "nbgrader": {
     "cell_type": "code",
     "checksum": "6570a57e65bb9ef7fd641a224f91ca63",
     "grade": false,
     "grade_id": "cell-aeb87fc307044b89",
     "locked": false,
     "schema_version": 3,
     "solution": true,
     "task": false
    }
   },
   "outputs": [],
   "source": [
    "# YOUR CODE HERE"
   ]
  },
  {
   "cell_type": "markdown",
   "id": "controlling-appreciation",
   "metadata": {
    "deletable": false,
    "editable": false,
    "nbgrader": {
     "cell_type": "markdown",
     "checksum": "e4a207c2c074d291e01d152cebbe9dfc",
     "grade": false,
     "grade_id": "cell-7d0ae1df33a11f7a",
     "locked": true,
     "schema_version": 3,
     "solution": false,
     "task": false
    }
   },
   "source": [
    "In the next cell, assign to the variable `N` the number of iterations it took to generate the skeleton of the `christmas` image."
   ]
  },
  {
   "cell_type": "code",
   "execution_count": null,
   "id": "damaged-science",
   "metadata": {
    "deletable": false,
    "nbgrader": {
     "cell_type": "code",
     "checksum": "35fb113b9cd9c4509a2d4fd920b6f777",
     "grade": false,
     "grade_id": "cell-68d409b9a55e113c",
     "locked": false,
     "schema_version": 3,
     "solution": true,
     "task": false
    }
   },
   "outputs": [],
   "source": [
    "# Number of erosions to skeletonize the image\n",
    "N = None\n",
    "# YOUR CODE HERE"
   ]
  },
  {
   "cell_type": "code",
   "execution_count": null,
   "id": "celtic-guest",
   "metadata": {
    "deletable": false,
    "editable": false,
    "nbgrader": {
     "cell_type": "code",
     "checksum": "b4e3a3e9ef57778d5b1f692edd0b5012",
     "grade": true,
     "grade_id": "cell-4113a5b3d0191a03",
     "locked": true,
     "points": 0.2,
     "schema_version": 3,
     "solution": false,
     "task": false
    }
   },
   "outputs": [],
   "source": [
    "# Perform sanity check on n\n",
    "if not 0 < N < 200: \n",
    "    print('WARNING!\\nThe selected number of erosions is not really reasonable.')"
   ]
  },
  {
   "cell_type": "markdown",
   "id": "84a14d0a",
   "metadata": {
    "deletable": false,
    "editable": false,
    "nbgrader": {
     "cell_type": "markdown",
     "checksum": "347e4592aff8660cdea9a8abdc70b982",
     "grade": false,
     "grade_id": "cell-dc99b89f47946f93",
     "locked": true,
     "schema_version": 3,
     "solution": false,
     "task": false
    }
   },
   "source": [
    "# 3. Distance map (1 point)\n",
    "[Back to table of contents](#ToC_2_Morphology)\n",
    "\n",
    "In this exercise we want to create an algorithm that can determine the distance of each pixel of an object to its nearest border. The input to this algorithm will be a binary image (object = $255$, background = $0$), like in the last exercise, and the output will be a distance map `M`, where the value of each pixel corresponds to the distance of this pixel to the background. \n",
    "\n",
    "In other words, the distance of a pixel is defined as the number of iterations needed to erode the image until the value of this pixel becomes $0$.\n",
    "This means that background pixels (value = 0) will always have a distance of 0; the outermost pixels of an object will have distance 1; the second-outermost pixels a distance of 2 and so on. \n",
    "\n",
    "In the next cell, **for 1 point**, complete the function `distance_border_map`, that takes as parameter a binary image `img`, and returns the distance map `M` of the same size as `img`.\n",
    "This function erodes the input image with a **disc structuring element of size $3\\times3$** and simultaneously builds up the distance map `M` until there are only background pixels (value = 0) remaining. An example of the expected distance map is given below:\n",
    "\n",
    "<table><tr>\n",
    "<td>\n",
    "  <p align=\"center\" style=\"padding: 0px\">\n",
    "    <img alt=\"distance_from_center_showcase\" src=\"images/distance_from_center_showcase.png\" width=\"400\"><br>\n",
    "<em style=\"color: grey\">Tracking the erosions it takes to erase a pixel, you can build a distance map.</em>\n",
    "  </p>\n",
    "</td>\n",
    "</tr></table>\n",
    "\n"
   ]
  },
  {
   "cell_type": "code",
   "execution_count": null,
   "id": "outer-hearts",
   "metadata": {
    "deletable": false,
    "nbgrader": {
     "cell_type": "code",
     "checksum": "26d88addb9d4ff7ea5aca36e9182e4cb",
     "grade": false,
     "grade_id": "cell-9b2247dc07851621",
     "locked": false,
     "schema_version": 3,
     "solution": true,
     "task": false
    }
   },
   "outputs": [],
   "source": [
    "def distance_from_border(img):\n",
    "    # Check that the input image is binary\n",
    "    if not (np.unique(img) == np.array([0, 255])).all(): \n",
    "        raise ValueError('img should only contain the values {0, 255}.')\n",
    "        \n",
    "    # Distance map\n",
    "    M = np.zeros(img.shape)\n",
    "    \n",
    "    # YOUR CODE HERE\n",
    "    \n",
    "    return M"
   ]
  },
  {
   "cell_type": "markdown",
   "id": "productive-square",
   "metadata": {
    "deletable": false,
    "editable": false,
    "nbgrader": {
     "cell_type": "markdown",
     "checksum": "949148268a1093531f7c27f57fa5bbf9",
     "grade": false,
     "grade_id": "cell-b814dc504886b794",
     "locked": true,
     "schema_version": 3,
     "solution": false,
     "task": false
    }
   },
   "source": [
    "Now run the next cell. It will apply your function on the image `hela` and test that the result has continuous values in the range $[0, max]$, where $max$ is the highest value in the result. Moreover, it will visualize the result.\n",
    "\n",
    "<div class='alert alert-info'>\n",
    "<b>Notes</b>: <ul>\n",
    "    <li>You can change the colormap of the viewer in the <code>Options</code> menu for better visualization of the distance map!</li>\n",
    "    <li>Reflect on the highest value on the image! For example, it for sure should not be larger than the largest dimension in the image.</li>\n",
    "    </ul>\n",
    "</div>"
   ]
  },
  {
   "cell_type": "code",
   "execution_count": null,
   "id": "awful-spelling",
   "metadata": {
    "deletable": false,
    "editable": false,
    "nbgrader": {
     "cell_type": "code",
     "checksum": "50d76f085a9c9b4b88cb9060ff386031",
     "grade": true,
     "grade_id": "cell-e778b0fffcfc4dec",
     "locked": true,
     "points": 1,
     "schema_version": 3,
     "solution": false,
     "task": false
    }
   },
   "outputs": [],
   "source": [
    "# First we apply distance_from_border to hela\n",
    "hela_dist_map = distance_from_border(hela)\n",
    "\n",
    "if not np.array_equal(np.unique(hela_dist_map), np.arange(int(np.max(hela_dist_map)) + 1)):\n",
    "    print(f'WARNING!!!\\nYour function does not have uniform values between 0 and the maximum of the distance map ({np.max(hela_dist_map)})')\n",
    "else:\n",
    "    print('Good job! The result of your function seems to make sense.')\n",
    "\n",
    "plt.close('all')\n",
    "viewer([hela, hela_dist_map], title=['Original', 'Distance map'], subplots=(1,2))"
   ]
  },
  {
   "cell_type": "markdown",
   "id": "7a1f27d6",
   "metadata": {
    "deletable": false,
    "editable": false,
    "nbgrader": {
     "cell_type": "markdown",
     "checksum": "d445ba4748edd3f248c9c03d998e32e1",
     "grade": false,
     "grade_id": "cell-075b4f01463bebdd",
     "locked": true,
     "schema_version": 3,
     "solution": false,
     "task": false
    }
   },
   "source": [
    "\n",
    "# 4. Cartoonize your picture!\n",
    "[Back to table of contents](#ToC_2_Morphology)\n",
    "\n",
    "Choose a natural picture of your choice from the internet or from your own collection (it shouldn't be too large, otherwise the operations will take a long time) or simply the RGB _natural_image.jpg_ we provide here. \n",
    "\n",
    "<div class='alert alert-info'>\n",
    "    Remember that the morphological operators from skimage only work on binary or grayscale images. However, we can treat each channel of the RGB image as a grayscale image, perform the same operations on each them, and combine the three channels again to get the output image! In the cell below, you will find an example how to do this.\n",
    "    </div>"
   ]
  },
  {
   "cell_type": "code",
   "execution_count": null,
   "id": "7fecb39e",
   "metadata": {
    "deletable": false,
    "nbgrader": {
     "cell_type": "code",
     "checksum": "af71a17c1ae0d897a945a1e13c1d680b",
     "grade": false,
     "grade_id": "cell-7540803b2cc4254d",
     "locked": false,
     "schema_version": 3,
     "solution": true,
     "task": false
    }
   },
   "outputs": [],
   "source": [
    "# YOUR CODE HERE"
   ]
  },
  {
   "cell_type": "markdown",
   "id": "77d98d8e-82af-476f-afad-4a062b1e7854",
   "metadata": {},
   "source": [
    "Now it's time to build your own workflow! In the next cell, be creative in the combination of morphological operators, arithmetic operators, and threshold operations to give a cartoon effect to your picture! You can also make it look like a painting or give it a distortion effect, explore the possibilities! Feel free to share your artwork on the Moodle forum of this course!"
   ]
  },
  {
   "cell_type": "code",
   "execution_count": null,
   "id": "b0a93357-33aa-4a09-bbca-fa04ee8031e4",
   "metadata": {},
   "outputs": [],
   "source": []
  },
  {
   "cell_type": "markdown",
   "id": "d21e66b8",
   "metadata": {
    "deletable": false,
    "editable": false,
    "nbgrader": {
     "cell_type": "markdown",
     "checksum": "f39dc9600f3780446d9fa0d0fa7900e6",
     "grade": false,
     "grade_id": "cell-adca9f63f132bfa9",
     "locked": true,
     "schema_version": 3,
     "solution": false,
     "task": false
    }
   },
   "source": [
    "<div class=\"alert alert-success\">\n",
    "    Congratulations on finishing the Morphology lab!\n",
    "</div>\n",
    "    \n",
    "Make sure to save your notebook (you might want to keep a copy on your personal computer) and upload it to <a href=\"https://moodle.epfl.ch/mod/assign/view.php?id=1123107\">Moodle</a>, <b>in a zip file with the first part of this lab</b>.\n",
    "</p>\n",
    "\n",
    "* Keep the name of the notebook as *2_Morphology_Applications.ipynb*!\n",
    "* Name the `zip` file *Morphology_lab.zip*."
   ]
  }
 ],
 "metadata": {
  "kernelspec": {
   "display_name": "Python",
   "language": "python",
   "name": "python3"
  },
  "language_info": {
   "codemirror_mode": {
    "name": "ipython",
    "version": 3
   },
   "file_extension": ".py",
   "mimetype": "text/x-python",
   "name": "python",
   "nbconvert_exporter": "python",
   "pygments_lexer": "ipython3",
   "version": "3.8.10"
  }
 },
 "nbformat": 4,
 "nbformat_minor": 5
}