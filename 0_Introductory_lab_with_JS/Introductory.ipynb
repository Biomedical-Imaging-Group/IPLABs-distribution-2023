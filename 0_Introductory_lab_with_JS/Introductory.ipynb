{
 "cells": [
  {
   "cell_type": "markdown",
   "metadata": {
    "deletable": false,
    "editable": false,
    "kernel": "SoS",
    "nbgrader": {
     "cell_type": "markdown",
     "checksum": "f6db293683b952497b164674548a9ebf",
     "grade": false,
     "grade_id": "cell-2e535e03686402e2_2022",
     "locked": true,
     "schema_version": 3,
     "solution": false,
     "task": false
    },
    "tags": [],
    "user_expressions": []
   },
   "source": [
    "```{image} https://www.epfl.ch/about/overview/wp-content/uploads/2020/07/logo-epfl-1024x576.png \n",
    ":width: 140px\n",
    ":align: left\n",
    "```\n",
    "## Image Processing Laboratory Notebooks\n",
    "---\n",
    "\n",
    "This Juypter notebook is part of a series of computer laboratories which are designed\n",
    "to teach image-processing programming; they are running on the EPFL's Noto server. They are the practical complement of the theoretical lectures of the EPFL's Master course \n",
    "[**MICRO-511 Image Processing I**](https://moodle.epfl.ch/course/view.php?id=522) taught by Prof. M. Unser and Prof. D. Van de Ville.\n",
    "\n",
    "The project is funded by the Center for Digital Education and the School of Engineering. It is owned by the [Biomedical Imaging Group](http://bigwww.epfl.ch/). \n",
    "The distribution or the reproduction of the notebook is strictly prohibited without the written consent of the authors.  &copy; EPFL 2023.\n",
    "\n",
    "**Authors**: \n",
    "    [Pol del Aguila Pla](mailto:pol.delaguilapla@epfl.ch), \n",
    "    [Kay Lächler](mailto:kay.lachler@epfl.ch),\n",
    "    [Alejandro Noguerón Arámburu](mailto:alejandro.nogueronaramburu@epfl.ch),\n",
    "    [Yan Liu](mailto:yan.liu@epfl.ch), and\n",
    "    [Daniel Sage](mailto:daniel.sage@epfl.ch).\n",
    "    \n",
    "---\n",
    "# Lab 0: Introduction\n",
    "**Released**: Thursday September 28, 2023"
   ]
  },
  {
   "cell_type": "markdown",
   "metadata": {
    "kernel": "SoS",
    "user_expressions": []
   },
   "source": [
    "Double-click on this cell, fill your name and SCIPER number below to verify your identity in Noto and set the seed for random results.\n",
    ":::{attention} Please write down your name and SCIPER! \n",
    "### Student Name: \n",
    "### SCIPER: \n",
    ":::"
   ]
  },
  {
   "cell_type": "code",
   "execution_count": null,
   "metadata": {
    "deletable": false,
    "editable": false,
    "kernel": "SoS",
    "nbgrader": {
     "cell_type": "code",
     "checksum": "58cbcb50560de105f9140f998773ed86",
     "grade": true,
     "grade_id": "cell-136865f50e6e2d19_2022",
     "locked": true,
     "points": 0,
     "schema_version": 3,
     "solution": false,
     "task": false
    },
    "tags": []
   },
   "outputs": [],
   "source": [
    "%use sos\n",
    "import getpass\n",
    "# This line recovers your camipro number to mark the images with your ID\n",
    "uid = int(getpass.getuser().split('-')[2]) if len(getpass.getuser().split('-')) > 2 else ord(getpass.getuser()[0])\n",
    "print(f'SCIPER: {uid}')"
   ]
  },
  {
   "cell_type": "markdown",
   "metadata": {
    "deletable": false,
    "editable": false,
    "kernel": "SoS",
    "nbgrader": {
     "cell_type": "markdown",
     "checksum": "45b9b936a1b762318a60aebf2972deb5",
     "grade": false,
     "grade_id": "cell-b9a8b7f1d8e767c8_2022",
     "locked": true,
     "schema_version": 3,
     "solution": false,
     "task": false
    },
    "user_expressions": []
   },
   "source": [
    "# Introduction\n",
    "\n",
    "This introductory lab will guide you through the tools that you will need for the labs. \n",
    "\n",
    "\n",
    "(toc)=\n",
    "## Table of contents\n",
    "\n",
    "1. [Introduction to Jupyter notebooks](#intro-to-notebooks) \n",
    "    1. [Cellular structure](#cellular-structure)\n",
    "    2. [The SoS kernel](#sos)\n",
    "2. [Python and JavaScript](#python-js)\n",
    "    1. [Basic Python programming](#basic-python)\n",
    "        1. [NumPy](#np)\n",
    "        2. [Matplotlib](#mpl)\n",
    "    2. [Basic Javascript programming](#basic-js)\n",
    "    3. [Python vs JavaScript speed comparison](#python-js-speed)\n",
    "3. [Javascript image-access class](#image-access) \n",
    "4. [Python Image Viewer](#python-image-viewer)\n",
    "    1. [Creation of a viewer](#creation-of-a-viewer)\n",
    "    2. [Using widgets](#using-widgets) \n",
    "    3. [User-defined widgets](#user-defined-widgets)\n",
    "    4. [Programmatic customization](#programmatic-customization)\n",
    "    5. [Try it yourself!](#4.5-try-it-yourself) \n",
    "5. [Image processing in Python](#image-processing-in-python)\n",
    "    1. [Examples](#examples)\n",
    "    2. [Try it yourself!](#5.2-try-it-yourself) "
   ]
  },
  {
   "cell_type": "markdown",
   "metadata": {
    "deletable": false,
    "editable": false,
    "kernel": "SoS",
    "nbgrader": {
     "cell_type": "markdown",
     "checksum": "5b76eff0abb78ad5e8ed920abc3f94c9",
     "grade": false,
     "grade_id": "cell-a9911fea2f23c3ab_2022",
     "locked": true,
     "schema_version": 3,
     "solution": false,
     "task": false
    },
    "user_expressions": []
   },
   "source": [
    "(intro-to-notebooks)=\n",
    "# 1. Introduction to Jupyter notebooks\n",
    "(cellular-structure)=\n",
    "## 1.A. Cellular structure\n",
    "[Back to table of contents](#toc)\n",
    "\n",
    "A Jupyter notebook consists of cells that contain either code snippets with their results or text. The cellular structure of Jupyter notebooks allows us to run small snippets of code one after the other, go back and forth between, or check intermediate results between them. \n",
    "\n",
    ":::{note} If you declare some variable in a cell, this variable will be available in all other cells that use the same programming language, irrespective of the location of the cell. \n",
    ":::\n",
    "Let's look at an example. Read the description of the cells below and run them as instructed."
   ]
  },
  {
   "cell_type": "markdown",
   "metadata": {
    "deletable": false,
    "editable": false,
    "kernel": "SoS",
    "nbgrader": {
     "cell_type": "markdown",
     "checksum": "0c8958238ac8659091e53c4394cf05d3",
     "grade": false,
     "grade_id": "cell-5e1dff4a7d4037af_2022",
     "locked": true,
     "schema_version": 3,
     "solution": false,
     "task": false
    },
    "user_expressions": []
   },
   "source": [
    "In this first cell we declare a variable `a` and assign it the value $5$. Run it."
   ]
  },
  {
   "cell_type": "code",
   "execution_count": null,
   "metadata": {
    "deletable": false,
    "editable": false,
    "kernel": "SoS",
    "nbgrader": {
     "cell_type": "code",
     "checksum": "2563443cfc584e0b1720972f6a060bf5",
     "grade": false,
     "grade_id": "cell-d3eece0ac887379b_2022",
     "locked": true,
     "schema_version": 3,
     "solution": false,
     "task": false
    }
   },
   "outputs": [],
   "source": [
    "%use sos\n",
    "# cell 1\n",
    "# this is our variable\n",
    "a = 5"
   ]
  },
  {
   "cell_type": "markdown",
   "metadata": {
    "deletable": false,
    "editable": false,
    "kernel": "Python3",
    "nbgrader": {
     "cell_type": "markdown",
     "checksum": "932b5b1491f988b84e4a411cf06f0d1a",
     "grade": false,
     "grade_id": "cell-5674e519bb6533a8_2022",
     "locked": true,
     "schema_version": 3,
     "solution": false,
     "task": false
    }
   },
   "source": [
    "In the second cell we print the value of `a`. If you run it just after the cell above, it should print \"The value of a is 5\". Run it."
   ]
  },
  {
   "cell_type": "code",
   "execution_count": null,
   "metadata": {
    "deletable": false,
    "editable": false,
    "kernel": "SoS",
    "nbgrader": {
     "cell_type": "code",
     "checksum": "1b0f5cc072746414ad00c3d45b2623fb",
     "grade": false,
     "grade_id": "cell-0b3e58366b94423b_2022",
     "locked": true,
     "schema_version": 3,
     "solution": false,
     "task": false
    }
   },
   "outputs": [],
   "source": [
    "%use sos\n",
    "# cell 2\n",
    "# here we print the value of a\n",
    "print(f\"The value of a is {a}\")"
   ]
  },
  {
   "cell_type": "markdown",
   "metadata": {
    "deletable": false,
    "editable": false,
    "kernel": "Python3",
    "nbgrader": {
     "cell_type": "markdown",
     "checksum": "d350d0450e737e3e46df21159bef5aa4",
     "grade": false,
     "grade_id": "cell-e21122a5c72a1c66_2022",
     "locked": true,
     "schema_version": 3,
     "solution": false,
     "task": false
    }
   },
   "source": [
    "Then, in the third cell, we modify `a` by adding $2$ to it. Run it."
   ]
  },
  {
   "cell_type": "code",
   "execution_count": null,
   "metadata": {
    "deletable": false,
    "editable": false,
    "kernel": "SoS",
    "nbgrader": {
     "cell_type": "code",
     "checksum": "5e51f8eaec4b1201b420032fe12457ad",
     "grade": false,
     "grade_id": "cell-b64be8c1a57a3151_2022",
     "locked": true,
     "schema_version": 3,
     "solution": false,
     "task": false
    }
   },
   "outputs": [],
   "source": [
    "%use sos\n",
    "# cell 3\n",
    "# add two to a\n",
    "a = a + 2"
   ]
  },
  {
   "cell_type": "markdown",
   "metadata": {
    "deletable": false,
    "editable": false,
    "kernel": "Python3",
    "nbgrader": {
     "cell_type": "markdown",
     "checksum": "fbbae9c22206b2edee3ab7d1a5fca4b3",
     "grade": false,
     "grade_id": "cell-1eb9f7b8a262e747_2022",
     "locked": true,
     "schema_version": 3,
     "solution": false,
     "task": false
    },
    "user_expressions": []
   },
   "source": [
    "Now run _cell 2_ again: the value of `a` has been modified, even though _cell 2_ is located above _cell 3_ in our notebook. Now run _cell 1_ again, where we set `a=5`, and `a` will be $5$ in all cells again. \n",
    "This shows the **global** impact every single cell has on the notebook. "
   ]
  },
  {
   "cell_type": "markdown",
   "metadata": {
    "deletable": false,
    "editable": false,
    "kernel": "SoS",
    "nbgrader": {
     "cell_type": "markdown",
     "checksum": "fe6c31844bf61e0680f191c8ef374a24",
     "grade": false,
     "grade_id": "cell-0630236608fb807a_2022",
     "locked": true,
     "schema_version": 3,
     "solution": false,
     "task": false
    },
    "user_expressions": []
   },
   "source": [
    ":::{note} If at any point the kernel should crash for whatever reason, you can restart it by clicking on the button `Kernel` in the toolbar on top and then click on `Restart Kernel...`. Once the kernel is restarted, you will need to run all necessary cells again to regain the working environment you had before. A good practice to test that there are no errors in the notebook is to click `Restart and Run All Cells...` once you have finished a notebook. This will run all the cells from top to bottom and only stop if an error occurs.\n",
    ":::"
   ]
  },
  {
   "cell_type": "markdown",
   "metadata": {
    "deletable": false,
    "editable": false,
    "kernel": "Python3",
    "nbgrader": {
     "cell_type": "markdown",
     "checksum": "ccc4e7b9af806eb2ea65fd4075258b4c",
     "grade": false,
     "grade_id": "cell-16a5a7cbab049cb9_2022",
     "locked": true,
     "schema_version": 3,
     "solution": false,
     "task": false
    },
    "user_expressions": []
   },
   "source": [
    "(sos)=\n",
    "## 1.B. The SoS kernel\n",
    "[Back to table of contents](#toc)\n",
    "\n",
    "The [SoS](https://vatlab.github.io/sos-docs/) kernel allows for programming with different languages. It is indicated by the line `%use sos` at the beginning of each cell which you should not delete or modify.\n",
    "\n",
    "You only need to know that:\n",
    "- `%use sos` indicates that a cell is written in Python,\n",
    "- `%use javascript` indicates that a cell is written in JavaScript,\n",
    "- `%put var_name ` converts the variable `var_name` from JavaScript to Python\n",
    "- `%get var_name ` converts the variable `var_name` from Python to JavaScript\n",
    "\n",
    "The keywords above are called _magics_ and they always need to be on the first lines of code with nothing in-between them. \n",
    "\n",
    "Follow an instructional video below by Kay Lächler, one of the student developers."
   ]
  },
  {
   "cell_type": "markdown",
   "metadata": {
    "deletable": false,
    "editable": false,
    "kernel": "SoS",
    "nbgrader": {
     "cell_type": "markdown",
     "checksum": "ca6b8772d5a003f4f452afa861190167",
     "grade": false,
     "grade_id": "KayYouTube-1_2022",
     "locked": true,
     "schema_version": 3,
     "solution": false,
     "task": false
    },
    "user_expressions": []
   },
   "source": [
    ":::{iframe} https://www.youtube-nocookie.com/embed/5XPVnavkgyY\n",
    ":width: 80%\n",
    ":::"
   ]
  },
  {
   "cell_type": "markdown",
   "metadata": {
    "deletable": false,
    "editable": false,
    "kernel": "Python3",
    "nbgrader": {
     "cell_type": "markdown",
     "checksum": "29f9e0d78ae54a6059dd3176ce3c13cd",
     "grade": false,
     "grade_id": "cell-a22d6141d4f737a2_2022",
     "locked": true,
     "schema_version": 3,
     "solution": false,
     "task": false
    }
   },
   "source": [
    "First, we declare some variable `my_var` in python."
   ]
  },
  {
   "cell_type": "code",
   "execution_count": null,
   "metadata": {
    "deletable": false,
    "editable": false,
    "kernel": "SoS",
    "nbgrader": {
     "cell_type": "code",
     "checksum": "3b54af0ce1df5e10e3cf91853d868225",
     "grade": false,
     "grade_id": "cell-62aba6b3168b0cc9_2022",
     "locked": true,
     "schema_version": 3,
     "solution": false,
     "task": false
    }
   },
   "outputs": [],
   "source": [
    "%use sos\n",
    "# This is our variable, let's initialize it to 0\n",
    "my_var = 0"
   ]
  },
  {
   "cell_type": "markdown",
   "metadata": {
    "deletable": false,
    "editable": false,
    "kernel": "Python3",
    "nbgrader": {
     "cell_type": "markdown",
     "checksum": "056478b30752ffa55cae4a90fd7f4839",
     "grade": false,
     "grade_id": "cell-f8fbd6bc0b53a15d_2022",
     "locked": true,
     "schema_version": 3,
     "solution": false,
     "task": false
    }
   },
   "source": [
    "Next, we want to modify this variable in JavaScript, so we define a JavaScript cell to do that. Run the next cell **without modifying it**, and see if you understand the resulting error."
   ]
  },
  {
   "cell_type": "code",
   "execution_count": null,
   "metadata": {
    "kernel": "JavaScript"
   },
   "outputs": [],
   "source": [
    "%use javascript\n",
    "// %get my_var \n",
    "// %put my_var\n",
    "\n",
    "// try to modify the python variable without converting it to JavaScript first\n",
    "my_var = my_var + 5"
   ]
  },
  {
   "cell_type": "markdown",
   "metadata": {
    "deletable": false,
    "editable": false,
    "kernel": "Python3",
    "nbgrader": {
     "cell_type": "markdown",
     "checksum": "40e91249e15c64d4ff1f4ce628f087cb",
     "grade": false,
     "grade_id": "cell-4846011ee28359c2_2022",
     "locked": true,
     "schema_version": 3,
     "solution": false,
     "task": false
    }
   },
   "source": [
    "Now, let's do it properly. Uncomment (remove the  `//`) the second and the third lines. These lines import the variable  from python using `%get my_var `.\n",
    "Once all the code in the cell has been executed, `my_var` will be convert it back to python using `%put my_var `. "
   ]
  },
  {
   "cell_type": "markdown",
   "metadata": {
    "deletable": false,
    "editable": false,
    "kernel": "JavaScript",
    "nbgrader": {
     "cell_type": "markdown",
     "checksum": "2c2491d225b513c10e86d7563b4c20e0",
     "grade": false,
     "grade_id": "cell-7f76e0d3fc09b77e_2022",
     "locked": true,
     "schema_version": 3,
     "solution": false,
     "task": false
    }
   },
   "source": [
    "If we now print the value of `my_var` in Python, it should be 5."
   ]
  },
  {
   "cell_type": "code",
   "execution_count": null,
   "metadata": {
    "deletable": false,
    "editable": false,
    "kernel": "SoS",
    "nbgrader": {
     "cell_type": "code",
     "checksum": "6b65f7973784daecdb609637222409ea",
     "grade": false,
     "grade_id": "cell-7c2d76a265a29fb9_2022",
     "locked": true,
     "schema_version": 3,
     "solution": false,
     "task": false
    }
   },
   "outputs": [],
   "source": [
    "%use sos\n",
    "# Print the value of the python variable my_var\n",
    "print(f'The value of my_var is {my_var}')"
   ]
  },
  {
   "cell_type": "markdown",
   "metadata": {
    "deletable": false,
    "editable": false,
    "kernel": "SoS",
    "nbgrader": {
     "cell_type": "markdown",
     "checksum": "c7bbe83549dba5c715d0b030b54303b4",
     "grade": false,
     "grade_id": "cell-e1be27e06ffa6d52_2022",
     "locked": true,
     "schema_version": 3,
     "solution": false,
     "task": false
    },
    "user_expressions": []
   },
   "source": [
    "(python-js)=\n",
    "# 2. Python and JavaScript\n",
    "[Back to table of contents](#toc)\n",
    "\n",
    "_Python_ is a high-level language with many great libraries with built-in image processing algorithms. You will learn how to apply the different image processing methods to images using the fastest and most standard tools and visualize the results. \n",
    "_JavaScript_ is a fairly low-level programming language, fit for implementing image processing algorithms by accessing each pixel in an image. You will understand how image processing methods work in detail, pixel by pixel.\n",
    "\n",
    "\n",
    "In these notebooks, you will usually implement every method **once** in JavaScript to understand how it works. Then, apply the same method in Python using existing  libraries. In many cases, you will also design workflows for different image processing applications in Python.\n",
    "\n",
    "    \n",
    ":::{note}If you are already familiar with [Python](python.org) and the [NumPy](numpy.org) and [Matplotlib](matplotlib.org) libraries, you can jump to Section [2.B.](#2.B.-Basic-JavaScript-programming).\n",
    ":::\n",
    "\n",
    "(basic-python)=\n",
    "## 2.A. Basic Python programming\n",
    "[Back to table of contents](#toc)\n",
    "\n",
    "There are three basic types of variables  in Python:\n",
    "```python\n",
    "# Numbers\n",
    "my_var = 2\n",
    "my_var = 5.2\n",
    "# Strings\n",
    "my_var = 'Either use single quotes'\n",
    "my_var = \"or use double quotes\"\n",
    "# Boolean\n",
    "my_var = True\n",
    "my_var = False\n",
    "```\n",
    "Every variable can hold every type of data, so we don't need to specify the type at initialization.\n",
    "\n",
    "We can have lists of several items:\n",
    "```python\n",
    "# List of numbers\n",
    "my_list = [2.5, 7, 3.3]\n",
    "# List of strings\n",
    "my_list = ['E.T.', 'phone', 'home']\n",
    "# List of booleans\n",
    "my_list = [True, True, False]\n",
    "```\n",
    "Lists are 0-indexed and can be accessed with square brackets:\n",
    "```python\n",
    "# Set the 3rd element of my_list to 5\n",
    "my_list[2] = 5\n",
    "# Retrieve the 2nd element of my_list\n",
    "new_var = my_list[1]\n",
    "```\n",
    "Similarly we can make tuples, which are just like lists, but their values cannot be modified after they have been initialized:\n",
    "```python\n",
    "# This is a tuple of three numbers\n",
    "my_tuple = (3, 8.6, 4)\n",
    "# Access to a tuple is similar to lists\n",
    "new_var = my_tuple[1]\n",
    "# But we cannot write to a tuple!\n",
    "```\n",
    "For numbers we have the following basic operators:\n",
    "```python\n",
    "# Define the two variables\n",
    "a = 5\n",
    "b = 2\n",
    "# Addition\n",
    "a + b\n",
    ">> 7\n",
    "# Subtraction\n",
    "a - b\n",
    ">> 3\n",
    "# Multiplication\n",
    "a * b\n",
    ">> 10\n",
    "# Division\n",
    "a / b\n",
    ">> 2.5\n",
    "# Integer division\n",
    "a // b\n",
    ">> 2\n",
    "# Modulo (remainder of integer division)\n",
    "a % b\n",
    ">> 1\n",
    "# Power\n",
    "a ** b\n",
    ">> 25\n",
    "```\n",
    "We can have conditional statements\n",
    "```python\n",
    "if a < b:\n",
    "    # printing is done with the print function\n",
    "    print('a is smaller than b')\n",
    "else:\n",
    "    print('a is bigger than or equal to b')\n",
    "```\n",
    "<div class=\"alert alert-info\">\n",
    "\n",
    ":::{attention} Indentation is important in Python. Writing a conditional statement, a loop, a function, etc., without an indent (`Tab`) raises an error.\n",
    ":::\n",
    "\n",
    "with the following comparison operators:\n",
    "```python\n",
    "<  # Smaller than\n",
    "<= # Smaller or equal\n",
    ">  # Bigger than\n",
    ">= # Bigger than or equal to\n",
    "== # Equal to\n",
    "!= # Not equal to\n",
    "```\n",
    "A `for` loop is declared as:\n",
    "```python\n",
    "# Note: range(n) creates numbers from 0 to n-1\n",
    "for i in range(10):\n",
    "    # Another for loop inside the for loop - we call this 'nested for loops'\n",
    "    for j in range(10):\n",
    "        # We can also have formatted strings indicated by a preceeding 'f', where the number i is inserted into the string\n",
    "        print(f'Loop iteration number {j}')\n",
    "```\n",
    "\n",
    "Similarly a `while` loop:\n",
    "```python\n",
    "i = 0\n",
    "while i < 10:\n",
    "    print(f'Loop iteration number {i}')\n",
    "    i = i + 1\n",
    "```\n",
    "And finally, a function can be defined using the `def` keyword:\n",
    "```python\n",
    "# A function that adds two numbers and returns the result\n",
    "def addition(a, b):\n",
    "    # Add the numbers\n",
    "    result = a + b\n",
    "    # Return the result\n",
    "    return result\n",
    "\n",
    "# Run the function\n",
    "addition(5, 10)\n",
    ">> 15\n",
    "```\n",
    "\n",
    "Experiment with Python in the cell below. Learn to do the simple things that come to mind and take the chance to explore all of the options above."
   ]
  },
  {
   "cell_type": "code",
   "execution_count": null,
   "metadata": {
    "kernel": "SoS"
   },
   "outputs": [],
   "source": [
    "%use sos\n"
   ]
  },
  {
   "cell_type": "markdown",
   "metadata": {
    "deletable": false,
    "editable": false,
    "kernel": "Python3",
    "nbgrader": {
     "cell_type": "markdown",
     "checksum": "5b782be88bea135ef5afeb416b4b0e41",
     "grade": false,
     "grade_id": "cell-e4d90f9cb5c796d2_2022",
     "locked": true,
     "schema_version": 3,
     "solution": false,
     "task": false
    },
    "user_expressions": []
   },
   "source": [
    "(np)=\n",
    "### 2.A.a. NumPy\n",
    "[Back to table of contents](#toc)\n",
    "\n",
    "[NumPy](https://NumPy.org/) library provides multidimensional matrix/array processing tools. Most image processing libraries in Python use NumPy arrays to represent images. \n",
    "\n",
    "It is best practice to import the NumPy library as `np`, to avoid typing `numpy` every time. This also makes the code more readable. Run the cell below to import NumPy."
   ]
  },
  {
   "cell_type": "code",
   "execution_count": null,
   "metadata": {
    "deletable": false,
    "editable": false,
    "kernel": "SoS",
    "nbgrader": {
     "cell_type": "code",
     "checksum": "c4158afebdad758d724aba07142d2caf",
     "grade": false,
     "grade_id": "cell-ce837d96b7456876_2022",
     "locked": true,
     "schema_version": 3,
     "solution": false,
     "task": false
    }
   },
   "outputs": [],
   "source": [
    "%use sos\n",
    "# Import the NumPy library\n",
    "import numpy as np"
   ]
  },
  {
   "cell_type": "markdown",
   "metadata": {
    "deletable": false,
    "editable": false,
    "kernel": "Python3",
    "nbgrader": {
     "cell_type": "markdown",
     "checksum": "c03ec74406b15edc2c158b363d0e9778",
     "grade": false,
     "grade_id": "cell-30b31e8a8d08364c_2022",
     "locked": true,
     "schema_version": 3,
     "solution": false,
     "task": false
    }
   },
   "source": [
    "To create a new NumPy array filled with zeros we can use `np.zeros`. It requires the size of the array we want to get as a tuple `(height, width)`. Run the cell below to see an example.\n",
    "\n",
    "Optionally, we can specify the internal numerical [type](https://NumPy.org/devdocs/user/basics.types.html) of the array. For example, one can use 8-bit unsigned integers (`np.uint8`). This type is convenient for 8-bit images, as the resulting array will occupy less memory than with other types, such as `np.float32` or `np.float64`. For most of the labs, you will not need to mind the numerical type of your variables: it adapts automatically to represent what you are storing in each instance."
   ]
  },
  {
   "cell_type": "code",
   "execution_count": null,
   "metadata": {
    "deletable": false,
    "editable": false,
    "kernel": "SoS",
    "nbgrader": {
     "cell_type": "code",
     "checksum": "014293c4dc4db0c8cc1ca38f71fc864d",
     "grade": false,
     "grade_id": "cell-f077efe2cb4faf8c_2022",
     "locked": true,
     "schema_version": 3,
     "solution": false,
     "task": false
    }
   },
   "outputs": [],
   "source": [
    "%use sos\n",
    "# A NumPy array of size 5x10 with numerical type \"unsigned 8-bit integer\"\n",
    "my_arr = np.zeros((5,10), dtype=np.uint8)\n",
    "# Print the result\n",
    "print(my_arr)"
   ]
  },
  {
   "cell_type": "markdown",
   "metadata": {
    "deletable": false,
    "editable": false,
    "kernel": "Python3",
    "nbgrader": {
     "cell_type": "markdown",
     "checksum": "62f9f2ccb8a1451a5051b10dafc41de4",
     "grade": false,
     "grade_id": "cell-4796a0e2be34dab4_2022",
     "locked": true,
     "schema_version": 3,
     "solution": false,
     "task": false
    },
    "user_expressions": []
   },
   "source": [
    "NumPy arrays can be accessed using the same notation used for lists, but with an index for every dimension. \n",
    "<div class=\"alert alert-warning\">\n",
    "    \n",
    ":::{attention} In NumPy arrays, the first index specifies the row (y-axis location), not the x-axis location, while the second index specifies the column (x-axis location), not the y-axis location.\n",
    ":::"
   ]
  },
  {
   "cell_type": "code",
   "execution_count": null,
   "metadata": {
    "deletable": false,
    "editable": false,
    "kernel": "SoS",
    "nbgrader": {
     "cell_type": "code",
     "checksum": "91ded84d1958ef5f9cbd1bc5448ab792",
     "grade": false,
     "grade_id": "cell-da2800ea53561941_2022",
     "locked": true,
     "schema_version": 3,
     "solution": false,
     "task": false
    }
   },
   "outputs": [],
   "source": [
    "%use sos\n",
    "# Set the value at the Yth row, Xth column to 1\n",
    "my_arr[3, 7] = 1\n",
    "print(my_arr)"
   ]
  },
  {
   "cell_type": "markdown",
   "metadata": {
    "deletable": false,
    "editable": false,
    "kernel": "Python3",
    "nbgrader": {
     "cell_type": "markdown",
     "checksum": "1945ce2b6b397bd2773f491a2ef416c6",
     "grade": false,
     "grade_id": "cell-53ef809fcb84d0a5_2022",
     "locked": true,
     "schema_version": 3,
     "solution": false,
     "task": false
    }
   },
   "source": [
    "We can also use *slicing* `:` to determine whole regions of the array to read or assign. "
   ]
  },
  {
   "cell_type": "code",
   "execution_count": null,
   "metadata": {
    "deletable": false,
    "editable": false,
    "kernel": "SoS",
    "nbgrader": {
     "cell_type": "code",
     "checksum": "dcec73f1b4a3d6f26663b81a4fb75a36",
     "grade": false,
     "grade_id": "cell-49d3e13d428598d2_2022",
     "locked": true,
     "schema_version": 3,
     "solution": false,
     "task": false
    }
   },
   "outputs": [],
   "source": [
    "%use sos\n",
    "# Insert a rectangle with the upper left corner at (Y_1,X_1) and the lower right corner at (Y_2,X_2)\n",
    "my_arr[:3, 2:6] = 1\n",
    "print(my_arr)"
   ]
  },
  {
   "cell_type": "markdown",
   "metadata": {
    "deletable": false,
    "editable": false,
    "kernel": "Python3",
    "nbgrader": {
     "cell_type": "markdown",
     "checksum": "08ebcc127d566e5341bfbbca5c1c1405",
     "grade": false,
     "grade_id": "cell-bf84faf67987733f_2022",
     "locked": true,
     "schema_version": 3,
     "solution": false,
     "task": false
    }
   },
   "source": [
    "As you can see in the code, in slicing, we define an interval of numbers by `<lower_limit>:<upper_limit + 1>`. If one of the limits is not specified, it is interpreted as _from the beginning_ or _to the end_. Note that the lower limit is inclusive, while the upper limit is exclusive.\n",
    "\n",
    "Using slicing we can also extract patches of an array to create new arrays. Run the example below and see its effect."
   ]
  },
  {
   "cell_type": "code",
   "execution_count": null,
   "metadata": {
    "deletable": false,
    "editable": false,
    "kernel": "SoS",
    "nbgrader": {
     "cell_type": "code",
     "checksum": "b2fbcbbb8df900db4780a805faa675c0",
     "grade": false,
     "grade_id": "cell-eae2626368bd79a4_2022",
     "locked": true,
     "schema_version": 3,
     "solution": false,
     "task": false
    }
   },
   "outputs": [],
   "source": [
    "%use sos\n",
    "# Let's extract the rectangle that we created\n",
    "my_rect = my_arr[:3, 2:6]\n",
    "# Note: '\\n' creates a new line when printing\n",
    "print(f'Original array: \\n{my_arr}\\n\\nExtracted patch: \\n{my_rect}')"
   ]
  },
  {
   "cell_type": "markdown",
   "metadata": {
    "deletable": false,
    "editable": false,
    "kernel": "Python3",
    "nbgrader": {
     "cell_type": "markdown",
     "checksum": "0635b8db42efa41dcde10286c58c5948",
     "grade": false,
     "grade_id": "cell-5a5a1dcc6cfa9a76_2022",
     "locked": true,
     "schema_version": 3,
     "solution": false,
     "task": false
    }
   },
   "source": [
    "Using NumPy arrays, we can easily perform the basic operations element-wise on all elements of one or several arrays (). Run the cell below to define a random array to work with."
   ]
  },
  {
   "cell_type": "code",
   "execution_count": null,
   "metadata": {
    "deletable": false,
    "editable": false,
    "kernel": "SoS",
    "nbgrader": {
     "cell_type": "code",
     "checksum": "7d9c46298825e3109a4c45feb0588fc5",
     "grade": false,
     "grade_id": "cell-a2f9f9b6b634798d_2022",
     "locked": true,
     "schema_version": 3,
     "solution": false,
     "task": false
    }
   },
   "outputs": [],
   "source": [
    "%use sos\n",
    "# First we define an array of size 5x5 filled with random integers from 0 to 10\n",
    "np.random.seed(uid)\n",
    "rand_array = np.random.randint(low=0, high=10, size=(5,5))\n",
    "print(f'Initial array:\\n{rand_array}')"
   ]
  },
  {
   "cell_type": "markdown",
   "metadata": {
    "deletable": false,
    "editable": false,
    "kernel": "Python3",
    "nbgrader": {
     "cell_type": "markdown",
     "checksum": "b521b36348cb8fa80cb5f93b2156829d",
     "grade": false,
     "grade_id": "cell-d7e238fb8cd255eb_2022",
     "locked": true,
     "schema_version": 3,
     "solution": false,
     "task": false
    }
   },
   "source": [
    "We can perform any operation with a scalar for all elements of the array at the same time by using the array as if it was a variable with a single number. Run the example below and make sure you understand its results."
   ]
  },
  {
   "cell_type": "code",
   "execution_count": null,
   "metadata": {
    "deletable": false,
    "editable": false,
    "kernel": "SoS",
    "nbgrader": {
     "cell_type": "code",
     "checksum": "49d5ed3bef383d5819dcedadd5abdf38",
     "grade": false,
     "grade_id": "cell-2ca351336e812cdb_2022",
     "locked": true,
     "schema_version": 3,
     "solution": false,
     "task": false
    }
   },
   "outputs": [],
   "source": [
    "%use sos\n",
    "# Add 2 to all elements\n",
    "rand_array = rand_array + 2\n",
    "print(f'rand_array + 2:\\n{rand_array}\\n')\n",
    "# Divide all elements of the resulting array by 2\n",
    "rand_array = rand_array / 2\n",
    "print(f'rand_array / 2:\\n{rand_array}')"
   ]
  },
  {
   "cell_type": "markdown",
   "metadata": {
    "deletable": false,
    "editable": false,
    "kernel": "Python3",
    "nbgrader": {
     "cell_type": "markdown",
     "checksum": "19e590541c6076667223ec4a1dbb0884",
     "grade": false,
     "grade_id": "cell-866f1219a1f9eeae_2022",
     "locked": true,
     "schema_version": 3,
     "solution": false,
     "task": false
    }
   },
   "source": [
    "Similarly, we can use expressions with multiple arrays of the same size and any of the basic operators: the calculation will be made on the co-positioned elements of the different arrays. Run the example below and make sure you understand its results."
   ]
  },
  {
   "cell_type": "code",
   "execution_count": null,
   "metadata": {
    "deletable": false,
    "editable": false,
    "kernel": "SoS",
    "nbgrader": {
     "cell_type": "code",
     "checksum": "ea9eee811f4b5c29a2856b476141cb93",
     "grade": false,
     "grade_id": "cell-b97066e03289b821_2022",
     "locked": true,
     "schema_version": 3,
     "solution": false,
     "task": false
    }
   },
   "outputs": [],
   "source": [
    "%use sos\n",
    "# Let's initialize two new random arrays\n",
    "rand_array_1 = np.random.randint(low=0, high=10, size=(5,5))\n",
    "rand_array_2 = np.random.randint(low=0, high=10, size=(5,5))\n",
    "print(f'Array 1:\\n{rand_array_1}\\n\\nArray 2:\\n{rand_array_2}')\n",
    "# We can for example add them together\n",
    "added_arrays = rand_array_1 + rand_array_2\n",
    "print(f'\\nArray 1 + Array 2:\\n{added_arrays}')\n",
    "# Or multiply them\n",
    "multiplied_arrays = rand_array_1 * rand_array_2\n",
    "print(f'\\nArray 1 * Array 2:\\n{multiplied_arrays}')"
   ]
  },
  {
   "cell_type": "markdown",
   "metadata": {
    "deletable": false,
    "editable": false,
    "kernel": "Python3",
    "nbgrader": {
     "cell_type": "markdown",
     "checksum": "15b9deaaac6f2c834d9ac0a8451a2323",
     "grade": false,
     "grade_id": "cell-47e447e5bdfa224c_2022",
     "locked": true,
     "schema_version": 3,
     "solution": false,
     "task": false
    }
   },
   "source": [
    "We can also perform _advanced indexing_ of NumPy arrays: we can provide a [boolean](https://en.wikipedia.org/wiki/Boolean_data_type) array as the index and extract/modify only the values that are specified as `True`. An application of this form of indexing could be to take the multiplied array from the previous cell and set all its elements that are larger than $25$ to $100$. Run the example below and make sure you understand its results."
   ]
  },
  {
   "cell_type": "code",
   "execution_count": null,
   "metadata": {
    "deletable": false,
    "editable": false,
    "kernel": "SoS",
    "nbgrader": {
     "cell_type": "code",
     "checksum": "001e868035c805ca06fb9eeb2995775d",
     "grade": false,
     "grade_id": "cell-973825d59429848c_2022",
     "locked": true,
     "schema_version": 3,
     "solution": false,
     "task": false
    }
   },
   "outputs": [],
   "source": [
    "%use sos\n",
    "# First print the multiplied array as a reference\n",
    "print(f'Multiplied array:\\n{multiplied_arrays}')\n",
    "# Create the boolean array that contains true at every location, where the multiplied array has a value bigger than 25\n",
    "boolean_array = multiplied_arrays > 25\n",
    "print(f'\\nBoolean array:\\t(Multiplied array > 25)\\n{boolean_array}')\n",
    "# Now we can use this array to index the multiplied array and set all elements indicated by True to 100\n",
    "multiplied_arrays[boolean_array] = 100\n",
    "print(f'\\nMultiplied array with all elements > 25 set to 100:\\n{multiplied_arrays}')"
   ]
  },
  {
   "cell_type": "markdown",
   "metadata": {
    "deletable": false,
    "editable": false,
    "kernel": "SoS",
    "nbgrader": {
     "cell_type": "markdown",
     "checksum": "e39fd7cea2e629a5e89a3eab3acc779d",
     "grade": false,
     "grade_id": "cell-4712f202350db163_2022",
     "locked": true,
     "schema_version": 3,
     "solution": false,
     "task": false
    }
   },
   "source": [
    "Note that you can also create the boolean array in place, without explicitly declaring an additional variable. Run the cell below and see the difference with the preceeding cell. We will reuse the variable `multiplied_arrays`, and set all elements smaller than $20$ to $1$."
   ]
  },
  {
   "cell_type": "code",
   "execution_count": null,
   "metadata": {
    "deletable": false,
    "editable": false,
    "kernel": "SoS",
    "nbgrader": {
     "cell_type": "code",
     "checksum": "5ff5901b76096f8cdb5551ac977d3a31",
     "grade": false,
     "grade_id": "cell-747e1bc2df5df1ea_2022",
     "locked": true,
     "schema_version": 3,
     "solution": false,
     "task": false
    }
   },
   "outputs": [],
   "source": [
    "%use sos\n",
    "# We get the array we have, and index only the elements smaller than 20.\n",
    "multiplied_arrays[multiplied_arrays < 20] = 1\n",
    "print(f'\\nMultiplied array with all elements < 20 set to 1:\\n{multiplied_arrays}')"
   ]
  },
  {
   "cell_type": "markdown",
   "metadata": {
    "deletable": false,
    "editable": false,
    "kernel": "Python3",
    "nbgrader": {
     "cell_type": "markdown",
     "checksum": "222b128f39fc38c306aa114b65f8bc54",
     "grade": false,
     "grade_id": "cell-be7bf7e3189461ba_2022",
     "locked": true,
     "schema_version": 3,
     "solution": false,
     "task": false
    },
    "user_expressions": []
   },
   "source": [
    "(mpl)=\n",
    "### 2.A.b. Matplotlib\n",
    "[Back to table of contents](#toc)\n",
    "\n",
    "[Matplotlib](https://matplotlib.org/), specifically, [PyPlot module](https://matplotlib.org/stable/api/_as_gen/matplotlib.pyplot.html#module-matplotlib.pyplot) allows us to load images as NumPy arrays, and visualize NumPy arrays as images. \n",
    " \n",
    "\n",
    "It is best practice to import the module as `plt`."
   ]
  },
  {
   "cell_type": "code",
   "execution_count": null,
   "metadata": {
    "deletable": false,
    "editable": false,
    "kernel": "SoS",
    "nbgrader": {
     "cell_type": "code",
     "checksum": "0d8540c7e84b6aad86555cca7bab5c46",
     "grade": false,
     "grade_id": "cell-b188c66487c5d957_2022",
     "locked": true,
     "schema_version": 3,
     "solution": false,
     "task": false
    }
   },
   "outputs": [],
   "source": [
    "%use sos\n",
    "# Set the image display to be interactive \n",
    "%matplotlib widget\n",
    "# Import pyplot\n",
    "import matplotlib.pyplot as plt"
   ]
  },
  {
   "cell_type": "markdown",
   "metadata": {
    "deletable": false,
    "editable": false,
    "kernel": "Python3",
    "nbgrader": {
     "cell_type": "markdown",
     "checksum": "03cecb027014dca4ccff362312f72088",
     "grade": false,
     "grade_id": "cell-058c6f8138099c92_2022",
     "locked": true,
     "schema_version": 3,
     "solution": false,
     "task": false
    }
   },
   "source": [
    "The only functionality you really need to know is how to load images using `plt.imread`:"
   ]
  },
  {
   "cell_type": "code",
   "execution_count": null,
   "metadata": {
    "deletable": false,
    "editable": false,
    "kernel": "SoS",
    "nbgrader": {
     "cell_type": "code",
     "checksum": "f382b4d23173f7ebf53f183ccacb649e",
     "grade": false,
     "grade_id": "cell-587750934f09ea2b_2022",
     "locked": true,
     "schema_version": 3,
     "solution": false,
     "task": false
    }
   },
   "outputs": [],
   "source": [
    "%use sos\n",
    "# Load an example image located at 'images/epfl.tif'\n",
    "example_img = plt.imread('images/epfl.tif')\n",
    "# Then, we can check the image is really a NumPy array\n",
    "type(example_img)"
   ]
  },
  {
   "cell_type": "markdown",
   "metadata": {
    "deletable": false,
    "editable": false,
    "kernel": "Python3",
    "nbgrader": {
     "cell_type": "markdown",
     "checksum": "caba9281d02c5aee7490c71525e11802",
     "grade": false,
     "grade_id": "cell-aca8d89f9fcfb961_2022",
     "locked": true,
     "schema_version": 3,
     "solution": false,
     "task": false
    }
   },
   "source": [
    "To see the image, use `plt.imshow`. In these labs, however, you will use the [imviewer](#4.-Python-Image-Viewer) class provided by us, which adds extra functionality on top of `plt.imshow`."
   ]
  },
  {
   "cell_type": "code",
   "execution_count": null,
   "metadata": {
    "deletable": false,
    "editable": false,
    "kernel": "SoS",
    "nbgrader": {
     "cell_type": "code",
     "checksum": "ede8b2e1c3f62c1ec5219ab7525ada7d",
     "grade": false,
     "grade_id": "cell-61e6c4d19aa3190f_2022",
     "locked": true,
     "schema_version": 3,
     "solution": false,
     "task": false
    }
   },
   "outputs": [],
   "source": [
    "%use sos\n",
    "# When using plt.imshow we first need to declare a new figure\n",
    "plt.figure()\n",
    "# Then we add the image to the figure\n",
    "plt.imshow(example_img, cmap='gray')\n",
    "# Give it a title\n",
    "plt.title(f\"Example Image - SCIPER: {int(getpass.getuser().split('-')[2]) if len(getpass.getuser().split('-')) > 2 else ord(getpass.getuser()[0])}\")\n",
    "# And finally we make sure it is displayed on the screen\n",
    "plt.show()"
   ]
  },
  {
   "cell_type": "markdown",
   "metadata": {
    "deletable": false,
    "editable": false,
    "kernel": "Python3",
    "nbgrader": {
     "cell_type": "markdown",
     "checksum": "1822e467ee825cbffd89c4ff5de36688",
     "grade": false,
     "grade_id": "cell-7fc8419efb7f6993_2022",
     "locked": true,
     "schema_version": 3,
     "solution": false,
     "task": false
    },
    "user_expressions": []
   },
   "source": [
    "Experiment with Python, NumPy and Matplotlib in the empty cell below. Learn to do the simple things that come to mind and take the chance to explore all of the options above. If you need some inspiration, follow the instructional video below by Kay.\n",
    "\n",
    ":::{iframe} https://www.youtube-nocookie.com/embed/oewtZoQb2gY\n",
    ":width: 80%\n",
    ":::"
   ]
  },
  {
   "cell_type": "code",
   "execution_count": null,
   "metadata": {
    "kernel": "SoS"
   },
   "outputs": [],
   "source": [
    "%use sos\n"
   ]
  },
  {
   "cell_type": "markdown",
   "metadata": {
    "deletable": false,
    "editable": false,
    "kernel": "Python3",
    "nbgrader": {
     "cell_type": "markdown",
     "checksum": "238de1412e963783eb60abf3bf0eddbf",
     "grade": false,
     "grade_id": "cell-fa0e0f4c0446e183_2022",
     "locked": true,
     "schema_version": 3,
     "solution": false,
     "task": false
    },
    "user_expressions": []
   },
   "source": [
    "(basic-js)=\n",
    "## 2.B. Basic JavaScript programming\n",
    "[Back to table of contents](#toc)\n",
    "\n",
    "If you are already familiar with JavaScript, you can jump to Section [2.C.](#2.C.-Python-and-JavaScript-speed-comparison)\n",
    "\n",
    "\n",
    "To declare a variable in JavaScript one uses the `var` statement. There are three basic types of variables:\n",
    "```javascript\n",
    "// numbers\n",
    "var my_var = 2;\n",
    "var my_var = 5.2;\n",
    "// strings\n",
    "var my_var = 'Either use single quotes';\n",
    "var my_var = \"or use double quotes\";\n",
    "// boolean\n",
    "var my_var = true;\n",
    "var my_var = false;\n",
    "```\n",
    "Every variable can hold every type of data, so we don't need to specify the type at initialization.\n",
    "<div class=\"alert alert-info\">\n",
    "\n",
    ":::{note} In JavaScript, every line should be terminated with a semicolon `;`.\n",
    ":::\n",
    "\n",
    "We can have arrays of several items. There are two equivalent ways of constructing an array, the first one is:\n",
    "```javascript\n",
    "// list of numbers\n",
    "var my_array = [2.5, 7, 3.3];\n",
    "// list of strings\n",
    "var my_array = ['E.T.', 'phone', 'home'];\n",
    "// list of booleans\n",
    "var my_array = [true, true, false];\n",
    "```\n",
    "\n",
    "And the second one is:\n",
    "```javascript\n",
    "// list of numbers\n",
    "var my_array = new Array(2.5, 7, 3.3);\n",
    "// list of strings\n",
    "var my_array = new Array('E.T.', 'phone', 'home');\n",
    "// list of booleans\n",
    "var my_array = new Array(true, true, false);\n",
    "```\n",
    "\n",
    "\n",
    "\n",
    ":::{note} With the second approach, you are explicitly calling the _constructor_ of the class Array (in other words, the function that creates new Arrays). Consequently, you need to use the keyword `new`. We will see this also in Section [3](#3.-Javascript-image-access-class) with the class we have prepared for you to process images simply with JavaScript.\n",
    ":::\n",
    "\n",
    "Arrays are 0-indexed and can be accessed with square brackets:\n",
    "```javascript\n",
    "// set the 3rd element of my_list to 5\n",
    "my_array[2] = 5;\n",
    "// retrieve the 2nd element of my_list\n",
    "var new_var = my_array[1];\n",
    "```\n",
    "Contrary to Python, tuples do not exist in JavaScript.\n",
    "\n",
    "For numbers we have the following basic operators:\n",
    "```javascript\n",
    "// define the two variables\n",
    "var a = 5;\n",
    "var b = 2;\n",
    "// addition\n",
    "a + b;\n",
    ">> 7\n",
    "// subtraction\n",
    "a - b;\n",
    ">> 3\n",
    "// multiplication\n",
    "a * b;\n",
    ">> 10\n",
    "// division\n",
    "a / b;\n",
    ">> 2.5\n",
    "// integer division can be emulated through\n",
    "parseInt(a / b);\n",
    ">> 2\n",
    "// modulo (remainder of the integer division)\n",
    "a % b;\n",
    ">> 1\n",
    "// power\n",
    "a ** b;\n",
    ">> 25\n",
    "```\n",
    "We can have conditional statements\n",
    "```javascript\n",
    "if(a < b){\n",
    "    // printing in JS is done with console.log\n",
    "    console.log('a is smaller than b');\n",
    "}else{\n",
    "    console.log('a is bigger than b');\n",
    "}\n",
    "```\n",
    "\n",
    "    \n",
    ":::{attention}Indentation is not important in JavaScript but curly brackets `{}` are. Yet as good practice, we still recommend you to indent properly as it makes your code easier to read. To write a conditional statement, a loop, a function, etc., use curly brackets to define the beginning and end of each block of code. \n",
    ":::\n",
    "\n",
    "with the following comparison operators:\n",
    "```javascript\n",
    "<  // smaller than\n",
    "<= // smaller or equal\n",
    ">  // bigger than\n",
    ">= // bigger or equal\n",
    "== // equal\n",
    "!= // not equal\n",
    "```\n",
    "A `for` loop is declared as:\n",
    "```javascript\n",
    "for(var i = 0; i < 10; i++){\n",
    "    // another for loop inside the for loop\n",
    "    for(var j = 0; j < 10; i++){\n",
    "        // we can concatenate strings and numbers using the + operator\n",
    "        console.log('Loop iteration number ' + j);\n",
    "    }\n",
    "}\n",
    "```\n",
    "Similarly a `while` loop:\n",
    "```javascript\n",
    "var i = 0;\n",
    "while(i < 10){\n",
    "    console.log('Loop iteration number ' + i);\n",
    "    i++; // increment i by one\n",
    "}\n",
    "```\n",
    "\n",
    "And finally, a function can be defined using the `function` keyword:\n",
    "```javascript\n",
    "// a function that adds two numbers and returns the result\n",
    "function addition(a, b){\n",
    "    // Add the numbers\n",
    "    var result = a + b;\n",
    "    // Return the result\n",
    "    return result;\n",
    "}\n",
    "\n",
    "// run the function\n",
    "addition(5, 10);\n",
    ">> 15\n",
    "```\n",
    "\n",
    "Experiment with JavaScript in the cells below. Learn to do the simple things that come to mind and take the chance to explore all of the options above. If you want to visualize what you try out, use the cell further below, Python, and SoS to play around."
   ]
  },
  {
   "cell_type": "code",
   "execution_count": null,
   "metadata": {
    "kernel": "JavaScript"
   },
   "outputs": [],
   "source": [
    "%use javascript"
   ]
  },
  {
   "cell_type": "code",
   "execution_count": null,
   "metadata": {
    "kernel": "SoS"
   },
   "outputs": [],
   "source": [
    "%use sos"
   ]
  },
  {
   "cell_type": "markdown",
   "metadata": {
    "deletable": false,
    "editable": false,
    "kernel": "Python3",
    "nbgrader": {
     "cell_type": "markdown",
     "checksum": "ece51c502335c52afe43f26a85852193",
     "grade": false,
     "grade_id": "cell-10466714977d481b_2022",
     "locked": true,
     "schema_version": 3,
     "solution": false,
     "task": false
    },
    "user_expressions": []
   },
   "source": [
    "(python-js-speed)=\n",
    "## 2.C. Python vs JavaScript speed comparison\n",
    "[Back to table of contents](#toc)\n",
    "\n",
    "As mentioned before, JavaScript will mainly be used to implement pixel-level algorithms, which require nested `for` loops. To illustrate why this is necessary, we'll compare the time it takes for both Python and JavaScript to perform a zero-padded convolution implemented using nested `for` loops.\n",
    "\n",
    "The two-dimensional convolution between two images `h` and `f` is given by\n",
    "$$(h \\ast f)[k,l] = \\sum_{m \\in \\mathbb{Z}}\\sum_{n \\in \\mathbb{Z}}f[m,n]h[k-m,l-n]$$\n",
    "Don't worry, you don't need to know how that works right now, you'll see this in Chapter _3.2_ of the course. But it's safe to say that the convolution is a very important operation for image processing, which is why we'll use it for this demonstration.\n",
    "\n",
    "First let's define a Python function to generate a Gaussian kernel, which we will use as one of the images for the convolution. Run the cell below to define this function and obtain and visualize the Gaussian impulse response."
   ]
  },
  {
   "cell_type": "code",
   "execution_count": null,
   "metadata": {
    "deletable": false,
    "editable": false,
    "kernel": "SoS",
    "nbgrader": {
     "cell_type": "code",
     "checksum": "f81d27b24c70ad3da2a97d497b7709e8",
     "grade": false,
     "grade_id": "cell-b2d70fae2813497d_2022",
     "locked": true,
     "schema_version": 3,
     "solution": false,
     "task": false
    },
    "tags": []
   },
   "outputs": [],
   "source": [
    "%use sos\n",
    "# Imports and definitions, in case you skipped the previous parts\n",
    "%matplotlib widget\n",
    "import numpy as np\n",
    "import matplotlib.pyplot as plt\n",
    "import getpass\n",
    "\n",
    "# Function that creates a Gaussian convolutional kernel based on the input parameters\n",
    "def gaussian_kernel(sig, length):\n",
    "    # Generate the 1D grid-points\n",
    "    ax = np.linspace(-(length - 1) / 2., (length - 1) / 2., length)\n",
    "    # Generate the 2D grid-points created by ax x ax\n",
    "    xx, yy = np.meshgrid(ax, ax)\n",
    "    # Calculate the Gaussian kernel (up to proportionality constant)\n",
    "    kernel = np.exp(-0.5 * (np.square(xx) + np.square(yy)) / np.square(sig))\n",
    "    # Normalize the kernel to sum 1 and return it\n",
    "    return kernel / np.sum(kernel)\n",
    "\n",
    "# Get a Gaussian kernel\n",
    "ker = gaussian_kernel(sig=3, length=5)\n",
    "# Show the result\n",
    "plt.figure()\n",
    "plt.imshow(ker, cmap='gray')\n",
    "plt.title(f\"Gaussian kernel - SCIPER: {int(getpass.getuser().split('-')[2]) if len(getpass.getuser().split('-')) > 2 else ord(getpass.getuser()[0])}\")\n",
    "plt.show()"
   ]
  },
  {
   "cell_type": "markdown",
   "metadata": {
    "deletable": false,
    "editable": false,
    "kernel": "Python3",
    "nbgrader": {
     "cell_type": "markdown",
     "checksum": "98c553e3fcc009344f2eef11b81c0ec5",
     "grade": false,
     "grade_id": "cell-1371f4274da82709_2022",
     "locked": true,
     "schema_version": 3,
     "solution": false,
     "task": false
    }
   },
   "source": [
    "From the implementation above you can learn how to use NumPy functions such as [`np.linspace`](https://numpy.org/doc/stable/reference/generated/numpy.linspace.html), [`np.meshgrid`](https://numpy.org/doc/stable/reference/generated/numpy.meshgrid.html), [`np.exp`](https://numpy.org/doc/stable/reference/generated/numpy.exp.html), [`np.square`](https://numpy.org/doc/stable/reference/generated/numpy.square.html) and [`np.sum`](https://numpy.org/doc/stable/reference/generated/numpy.sum.html) (click on any of the links to go to the documentation). Try them out at the end of the Python section if you are curious! Otherwise, don't worry, this example will always be here for you.\n",
    "\n",
    "Now that we have the Gaussian kernel ready, let's define the JavaScript convolution function. Run the cell below to define it."
   ]
  },
  {
   "cell_type": "code",
   "execution_count": null,
   "metadata": {
    "deletable": false,
    "editable": false,
    "kernel": "JavaScript",
    "nbgrader": {
     "cell_type": "code",
     "checksum": "95b4c7713fba4fda095f08b099d57640",
     "grade": false,
     "grade_id": "cell-303faecf42fd795f_2022",
     "locked": true,
     "schema_version": 3,
     "solution": false,
     "task": false
    },
    "tags": []
   },
   "outputs": [],
   "source": [
    "%use javascript\n",
    "// function that convolves img with kernel\n",
    "function convolution(img, kernel){\n",
    "    // initialize the output image as a copy of the input image\n",
    "    var smoothed_img = [...img];\n",
    "    // compute the kernel offset\n",
    "    const k_offset = Math.floor(kernel.length / 2);\n",
    "    const l_offset = Math.floor(kernel[0].length / 2);\n",
    "    // perform zero-padded convolution\n",
    "    for(i = 0; i < img.length; i++){\n",
    "        for(j = 0; j < img[0].length; j++){\n",
    "            // compute output for pixel i, j. \n",
    "            // zero-padding: extend the image with zeros beyond its boundaries.\n",
    "            smoothed_img[i][j] = 0;\n",
    "            for(k = 0; k < kernel.length; k++){\n",
    "                for(l = 0; l < kernel[0].length; l++){\n",
    "                    // compute evaluation points to enforce boundary\n",
    "                    var x = k - k_offset + i;\n",
    "                    var y = l - l_offset + j;\n",
    "                    // increment if appropriate (if outside the image, don't increment, there are zeros)\n",
    "                    if((x < img.length) && (x > 0) && (y < img[0].length) && (y > 0)){\n",
    "                        smoothed_img[i][j] += img[x][y] * kernel[k][l]; \n",
    "                    } \n",
    "                }\n",
    "            }\n",
    "        }\n",
    "    }\n",
    "    // return the output image\n",
    "    return smoothed_img;\n",
    "}"
   ]
  },
  {
   "cell_type": "markdown",
   "metadata": {
    "deletable": false,
    "editable": false,
    "kernel": "JavaScript",
    "nbgrader": {
     "cell_type": "markdown",
     "checksum": "4a52ab0f8310d4c7cada17ba6f08a106",
     "grade": false,
     "grade_id": "cell-f036bdacaef21fc9_2022",
     "locked": true,
     "schema_version": 3,
     "solution": false,
     "task": false
    },
    "user_expressions": []
   },
   "source": [
    "From the implementation above, you can learn useful JavaScript functions like `Math.floor`. Nonetheless, some of the tricks we had to use will not be necessary for you. For example, the lines\n",
    "```javascript\n",
    "var smoothed_img = [...img];\n",
    "k < kernel.length;\n",
    "l < kernel[0].length;\n",
    "```\n",
    "will be much more intuitive to implement using our class [image-access](#3.-Javascript-image-access-class) below, so do not worry about them. \n",
    "\n",
    "Now, let's define the Python convolution function. Run the cell below to define it."
   ]
  },
  {
   "cell_type": "code",
   "execution_count": null,
   "metadata": {
    "deletable": false,
    "editable": false,
    "kernel": "SoS",
    "nbgrader": {
     "cell_type": "code",
     "checksum": "b3a9b633c8bad240070d0bfa9cdcf9d1",
     "grade": false,
     "grade_id": "cell-e191e97fa374f116_2022",
     "locked": true,
     "schema_version": 3,
     "solution": false,
     "task": false
    },
    "tags": []
   },
   "outputs": [],
   "source": [
    "%use sos\n",
    "# Function that convolves img with kernel\n",
    "def convolution(img, kernel):\n",
    "    # Initialize output image as an empty image\n",
    "    smoothed_img = np.zeros(img.shape)\n",
    "    # Compute the kernel offset\n",
    "    k_offset = kernel.shape[0] // 2\n",
    "    l_offset = kernel.shape[1] // 2\n",
    "    # Perform zero-padded convolution\n",
    "    for i in range(img.shape[0]):\n",
    "        for j in range(img.shape[1]):\n",
    "            # Compute output for pixel i, j. \n",
    "            # Zero-padding: extend the image with zeros beyond its boundaries.\n",
    "            for k in range(kernel.shape[0]):\n",
    "                for l in range(kernel.shape[1]):\n",
    "                    # Compute evaluation points to enforce boundary\n",
    "                    x = k - k_offset + i\n",
    "                    y = l - l_offset + j\n",
    "                    # Increment if appropriate (if outside the image, don't increment, there are zeros)\n",
    "                    if (x < img.shape[0]) and (x > 0) and (y < img.shape[1]) and (y > 0):\n",
    "                        smoothed_img[i, j] += img[x, y] * kernel[k, l]\n",
    "    # Return the output image\n",
    "    return smoothed_img"
   ]
  },
  {
   "cell_type": "markdown",
   "metadata": {
    "deletable": false,
    "editable": false,
    "kernel": "Python3",
    "nbgrader": {
     "cell_type": "markdown",
     "checksum": "ed7cb72874f7435d42bf6a4495ac159b",
     "grade": false,
     "grade_id": "cell-6f9f98ef0b8b5a5c_2022",
     "locked": true,
     "schema_version": 3,
     "solution": false,
     "task": false
    },
    "user_expressions": []
   },
   "source": [
    "From the implementation above, you can learn useful NumPy functions like [`np.zeros`](https://numpy.org/doc/stable/reference/generated/numpy.zeros.html), or properties like [`img.shape`](https://numpy.org/doc/stable/reference/generated/numpy.ndarray.shape.html), when `img` is a NumPy array. As always, feel free to try them out now at the end of the Python section!\n",
    "\n",
    "Now, we load an image and transfer it to JavaScript, together with the Gaussian kernel we defined before in Python. In this way, we will be able to test the JavaScript function we implemented. Run the cell below to load the image, display it, and transfer the image and the Gaussian kernel to Javascript."
   ]
  },
  {
   "cell_type": "code",
   "execution_count": null,
   "metadata": {
    "deletable": false,
    "editable": false,
    "kernel": "SoS",
    "nbgrader": {
     "cell_type": "code",
     "checksum": "e65238b9433971fad4d2f9cd6919fa95",
     "grade": false,
     "grade_id": "cell-9dbac2d14194e3bc_2022",
     "locked": true,
     "schema_version": 3,
     "solution": false,
     "task": false
    },
    "tags": []
   },
   "outputs": [],
   "source": [
    "%use sos\n",
    "%put hrct --to javascript\n",
    "%put ker --to javascript\n",
    "# Load the hrct image\n",
    "hrct = plt.imread('images/hrct.tif')\n",
    "# Display it\n",
    "plt.figure()\n",
    "plt.imshow(hrct, cmap='gray')\n",
    "plt.title(f\"HRCT - SCIPER: {int(getpass.getuser().split('-')[2]) if len(getpass.getuser().split('-')) > 2 else ord(getpass.getuser()[0])}\")\n",
    "plt.show()"
   ]
  },
  {
   "cell_type": "markdown",
   "metadata": {
    "deletable": false,
    "editable": false,
    "kernel": "Python3",
    "nbgrader": {
     "cell_type": "markdown",
     "checksum": "1f4a10c639595450add8b69b544d73a6",
     "grade": false,
     "grade_id": "cell-31b4493edc8e57f2_2022",
     "locked": true,
     "schema_version": 3,
     "solution": false,
     "task": false
    }
   },
   "source": [
    "Now, we are ready to run the convolution in JavaScript and measure the time it takes. Run the cell below to do it."
   ]
  },
  {
   "cell_type": "code",
   "execution_count": null,
   "metadata": {
    "deletable": false,
    "editable": false,
    "kernel": "JavaScript",
    "nbgrader": {
     "cell_type": "code",
     "checksum": "68ce5a2b3ca8428db364213242d0440a",
     "grade": false,
     "grade_id": "cell-10f3e0873a27082f_2022",
     "locked": true,
     "schema_version": 3,
     "solution": false,
     "task": false
    },
    "tags": []
   },
   "outputs": [],
   "source": [
    "%use javascript\n",
    "%put convolved_hrct_js\n",
    "%put js_time \n",
    "// get the starting time in miliseconds\n",
    "var start = new Date();\n",
    "\n",
    "// run the convolution\n",
    "var convolved_hrct_js = convolution(hrct, ker);\n",
    "\n",
    "// get the ending time in miliseconds\n",
    "var end = new Date();\n",
    "\n",
    "// calculate the elapsed time in miliseconds\n",
    "var js_time = end - start\n",
    "\n",
    "// display the elapsed time\n",
    "console.log('The JavaScript convolution took ' + js_time + ' miliseconds to run.');"
   ]
  },
  {
   "cell_type": "markdown",
   "metadata": {
    "deletable": false,
    "editable": false,
    "kernel": "JavaScript",
    "nbgrader": {
     "cell_type": "markdown",
     "checksum": "0855eac88959c07085ed4aceed65f5dc",
     "grade": false,
     "grade_id": "cell-11187968593763a9_2022",
     "locked": true,
     "schema_version": 3,
     "solution": false,
     "task": false
    },
    "user_expressions": []
   },
   "source": [
    "Now, we do the same for the implementation of the convolution in Python. Run the cell below to do it.\n",
    "\n",
    ":::{hint}You can go grab a drink while this is running... As you may have noticed, in a Jupyter Notebook a cell is still running if inside the square brackets in the top left corner of the cell you see an asterisk `[*]` instead of a number.\n",
    ":::\n",
    "\n",
    ":::{note}\n",
    "To measure the time in Python we will import the `time` module.\n",
    ":::"
   ]
  },
  {
   "cell_type": "code",
   "execution_count": null,
   "metadata": {
    "deletable": false,
    "editable": false,
    "kernel": "SoS",
    "nbgrader": {
     "cell_type": "code",
     "checksum": "d516dd9ba3ac615a38d64d3299ea10a9",
     "grade": false,
     "grade_id": "cell-17e8197315f2c971_2022",
     "locked": true,
     "schema_version": 3,
     "solution": false,
     "task": false
    }
   },
   "outputs": [],
   "source": [
    "%use sos\n",
    "import time\n",
    "\n",
    "# Get starting time in seconds\n",
    "start = time.time()\n",
    "\n",
    "# Run the convolution\n",
    "convolved_hrct_jpython = convolution(hrct, ker)\n",
    "\n",
    "# Get the ending time seconds\n",
    "end = time.time()\n",
    "\n",
    "# Calculate the elapsed time in miliseconds\n",
    "python_time = round((end - start)*1000)\n",
    "\n",
    "# Display the elapsed time\n",
    "print(f'The Python convolution took {python_time} miliseconds to run.');\n",
    "print(f'That makes JavaScript around {round(python_time/js_time)} times faster than Python for this implementation.')"
   ]
  },
  {
   "cell_type": "markdown",
   "metadata": {
    "deletable": false,
    "editable": false,
    "kernel": "Python3",
    "nbgrader": {
     "cell_type": "markdown",
     "checksum": "de35b4f6cd7d0df67baefb319742efa9",
     "grade": false,
     "grade_id": "cell-abfe855d445e584a_2022",
     "locked": true,
     "schema_version": 3,
     "solution": false,
     "task": false
    },
    "user_expressions": []
   },
   "source": [
    "Hopefully, you can understand from this illustration that standard Python is not made for pixel-level algorithms with nested `for` loops. This justifies the use of JavaScript for such implementations. Just so you can actually see the result of the function we just ran, run the next cell to see it.\n",
    "\n",
    ":::{attention} Languages that allow [**vectorization**](https://en.wikipedia.org/wiki/Automatic_vectorization) like Python (through the NumPy library) and MATLAB allow operations to be performed on whole arrays. This is much simpler to code and as fast as a `for` loop in a low-level programming language. That is exactly the point of using Python, and in general, **using `for` loops to iterate through images will not be allowed during the labs**, even if your result is correct.\n",
    ":::"
   ]
  },
  {
   "cell_type": "code",
   "execution_count": null,
   "metadata": {
    "deletable": false,
    "editable": false,
    "kernel": "SoS",
    "nbgrader": {
     "cell_type": "code",
     "checksum": "6821d12806514064611d94d2c4cf589b",
     "grade": false,
     "grade_id": "cell-994c6d876b8b98ce_2022",
     "locked": true,
     "schema_version": 3,
     "solution": false,
     "task": false
    }
   },
   "outputs": [],
   "source": [
    "%use sos\n",
    "plt.figure()\n",
    "plt.imshow(convolved_hrct_jpython, cmap='gray')\n",
    "plt.title(f\"HRCT convolved with a Gaussian kernel - SCIPER: {int(getpass.getuser().split('-')[2]) if len(getpass.getuser().split('-')) > 2 else ord(getpass.getuser()[0])}\")\n",
    "plt.show()"
   ]
  },
  {
   "cell_type": "markdown",
   "metadata": {
    "deletable": false,
    "editable": false,
    "kernel": "Python3",
    "nbgrader": {
     "cell_type": "markdown",
     "checksum": "158051844d9d1a859a8036260eb503f9",
     "grade": false,
     "grade_id": "cell-ac81610fb26a58e4_2022",
     "locked": true,
     "schema_version": 3,
     "solution": false,
     "task": false
    },
    "user_expressions": []
   },
   "source": [
    "(image-access)=\n",
    "# 3. Javascript image-access class\n",
    "[Back to table of contents](#toc)\n",
    "\n",
    "While JavaScript offers the big advantage of fast nested `for` loops for pixel-by-pixel programming, it also comes with a downside. It does not offer convenient array/image processing libraries like Python. To make things easier, we created our own JavaScript class, [`image-access`](https://github.com/Biomedical-Imaging-Group/image-access/wiki).\n",
    "Every `image-access` object is a container for an image and provides easy-to-use methods for pixel access that take care of boundary conditions. \n",
    "\n",
    "In all upcoming labs, we will import the `image-access` class as `Image`. Run the JavaScript cell below to do it."
   ]
  },
  {
   "cell_type": "code",
   "execution_count": null,
   "metadata": {
    "deletable": false,
    "editable": false,
    "kernel": "JavaScript",
    "nbgrader": {
     "cell_type": "code",
     "checksum": "ecf576eecfe3e58536e3571df8f2c76d",
     "grade": true,
     "grade_id": "cell-6e236bcfb6aba184_2022",
     "locked": true,
     "points": 0,
     "schema_version": 3,
     "solution": false,
     "task": false
    }
   },
   "outputs": [],
   "source": [
    "%use javascript\n",
    "var Image = require('image-access')"
   ]
  },
  {
   "cell_type": "markdown",
   "metadata": {
    "deletable": false,
    "editable": false,
    "kernel": "Python3",
    "nbgrader": {
     "cell_type": "markdown",
     "checksum": "71274ab7ce44429f26a24d8c92dfb3de",
     "grade": false,
     "grade_id": "cell-8c7592f2d338d86d_2022",
     "locked": true,
     "schema_version": 3,
     "solution": false,
     "task": false
    }
   },
   "source": [
    "An `Image` object of dimensions `height` $\\times$ `width` can be created with\n",
    "```javascript\n",
    "var img = new Image(height, width);\n",
    "```\n",
    "\n",
    "Optionally, `height` and `width` can be provided as a single array `[height, width]`. This makes it easy to create an image with the same dimensions as an existing image by using the `shape` method, for example\n",
    "```javascript\n",
    "var img = new Image(an_existing_image.shape());\n",
    "```\n",
    "\n",
    "By default, the image is initialized to $0$ for every pixel, unless specified by the `init_value` attribute of the `options` object\n",
    "\n",
    "```javascript\n",
    "var options = {};\n",
    "options.init_value = 255;\n",
    "var img = new Image(height, width, options);\n",
    "```\n",
    "\n",
    "If we want to create an RGB image, we specify the `rgb` attribute in the `options` object to `true`\n",
    "```javascript\n",
    "var options = {};\n",
    "options.rgb = true;\n",
    "var img = new Image(height, width, options);\n",
    "```\n",
    "\n",
    "An `Image` object can also be created from an existing JavaScript array, by simply passing it as a single argument\n",
    "```javascript\n",
    "var img = new Image(an_existing_array);\n",
    "```\n",
    "This is useful, for example, to create an `Image` object from a Python NumPy array converted to Javascript.\n",
    "\n",
    "We now look at how to use the basic functionalities in the class. The most important operations are the `img.setPixel` and `img.getPixel` methods, exactly as their names suggest\n",
    "\n",
    "* The `img.setPixel(x, y, value)` method can be used to set the pixel at location `(x,y)` to a specific `value`:\n",
    "```javascript\n",
    "// here we set the pixel (3,5) of img to 255\n",
    "img.setPixel(3, 5, 255);\n",
    "```\n",
    "* The `img.getPixel(x, y)` method can be used to retrieve the value of the pixel at location `(x,y)`:\n",
    "```javascript\n",
    "// here we retrieve the pixel (3,5) of img\n",
    "var pixel = img.getPixel(3, 5);\n",
    "```\n",
    "By default, the `setPixel` and `getPixel` methods will use _mirroring_ boundary conditions to provide values for pixels outside the image range. \n",
    "\n",
    "The height and width of an `Image` object can be retrieved either using using the `img.shape()` method, which returns a list `[height, width]` or, more conveniently, with `img.nx` and `img.ny`.\n",
    "```javascript\n",
    "// retrieve height and width of the image as a list\n",
    "height_and_width_list = img.shape();\n",
    "// get only the width\n",
    "width = img.nx;\n",
    "// get only the height\n",
    "height = img.ny;\n",
    "```\n",
    "This second option is very useful when setting the limits in `for` loops. <br><br>\n",
    "\n",
    "We can extract the neighbourhood of size `width` $\\times$ `height` around the pixel at location `(x,y)`, using the `img.getNbh(x, y, width, height)` method:\n",
    "```javascript\n",
    "// extracting the 3x3 neighbourhood around pixel (12,7)\n",
    "nbh = img.getNbh(12, 7, 3, 3);\n",
    "```\n",
    "By default, the method will use _mirroring_ boundary conditions, just like the `getPixel` and `setPixel` methods.\n",
    "\n",
    "Finally, if we need to convert an `Image` object to a simple JavaScript array, we can do it with the `img.toArray()` method, for example\n",
    "```javascript\n",
    "// convert the Image object to a JavaScript array\n",
    "img_array = img.toArray();\n",
    "```\n",
    "This will be necessary, for example, to convert the image to Python."
   ]
  },
  {
   "cell_type": "markdown",
   "metadata": {
    "deletable": false,
    "editable": false,
    "kernel": "Python3",
    "nbgrader": {
     "cell_type": "markdown",
     "checksum": "e558bbdd79b70278e19e84fd7d0fa080",
     "grade": false,
     "grade_id": "cell-96b2fcb8caace8fb_2022",
     "locked": true,
     "schema_version": 3,
     "solution": false,
     "task": false
    }
   },
   "source": [
    "Create a new `Image` object called `img`, of size $50 \\times 50$, and set the pixels at locations $(x=10, y=20)$, $(x=15, y=30)$ and $(x=40, y=7)$ to $255$."
   ]
  },
  {
   "cell_type": "code",
   "execution_count": null,
   "metadata": {
    "deletable": false,
    "kernel": "JavaScript",
    "nbgrader": {
     "cell_type": "code",
     "checksum": "79772a49cd22579fcaf6fbfe941975f5",
     "grade": false,
     "grade_id": "cell-779a0057e28178dd_2022",
     "locked": false,
     "schema_version": 3,
     "solution": true,
     "task": false
    }
   },
   "outputs": [],
   "source": [
    "%use javascript\n",
    "%put img \n",
    "\n",
    "// create a new Image object named img of size 50 x 50\n",
    "// YOUR CODE HERE\n",
    "\n",
    "// set the pixel at location (x=10,y=20) to 255\n",
    "// YOUR CODE HERE\n",
    "// set the pixel at location (x=15,y=30) to 255\n",
    "// YOUR CODE HERE\n",
    "// set the pixel at location (x=40,y=7) to 255\n",
    "// YOUR CODE HERE"
   ]
  },
  {
   "cell_type": "markdown",
   "metadata": {
    "deletable": false,
    "editable": false,
    "kernel": "JavaScript",
    "nbgrader": {
     "cell_type": "markdown",
     "checksum": "e5bdfd038ecd0b7e30ed471147399f6a",
     "grade": false,
     "grade_id": "cell-78a9d8a6b13169b5_2022",
     "locked": true,
     "schema_version": 3,
     "solution": false,
     "task": false
    }
   },
   "source": [
    "Run the cell below to (partially) check if you did the right thing."
   ]
  },
  {
   "cell_type": "code",
   "execution_count": null,
   "metadata": {
    "deletable": false,
    "editable": false,
    "kernel": "JavaScript",
    "nbgrader": {
     "cell_type": "code",
     "checksum": "c954202518511b7b24f4165d87ce4f37",
     "grade": true,
     "grade_id": "cell-e5d66a3787cd6867_2022",
     "locked": true,
     "points": 2,
     "schema_version": 3,
     "solution": false,
     "task": false
    }
   },
   "outputs": [],
   "source": [
    "%use javascript\n",
    "if((img.nx != 50) || (img.ny != 50)){\n",
    "    throw new Error(\"The image size is not correct.\");\n",
    "}else{console.log('Good job! Your image has the correct size.')}\n",
    "\n",
    "if(img.getPixel(40, 7) != 255){\n",
    "    throw new Error(\"The pixel at location (x=40, y=7) should have value 255.\")\n",
    "}else{console.log('Good job! The pixel at (x=40, y=7) was properly set.')}\n"
   ]
  },
  {
   "cell_type": "markdown",
   "metadata": {
    "deletable": false,
    "editable": false,
    "kernel": "JavaScript",
    "nbgrader": {
     "cell_type": "markdown",
     "checksum": "d572b7e38dfa6112909833a43db9ce1b",
     "grade": false,
     "grade_id": "cell-fbd9aeeb0e432a18_2022",
     "locked": true,
     "schema_version": 3,
     "solution": false,
     "task": false
    },
    "user_expressions": []
   },
   "source": [
    "Experiment with the `image-access` class in the empty cell below. Learn to do the simple things that come to mind and take the chance to explore all of the options above. If you need some inspiration, follow the instructional video below  by one of our TAs Stan.\n",
    "\n",
    ":::{iframe} https://www.youtube-nocookie.com/embed/03BrgZlBIsE\n",
    ":width: 80%\n",
    ":::"
   ]
  },
  {
   "cell_type": "code",
   "execution_count": null,
   "metadata": {
    "kernel": "JavaScript"
   },
   "outputs": [],
   "source": [
    "%use javascript\n",
    "var I = new Image(5,5);\n",
    "console.log(I.getNbh(2,2,3,3).visualize())"
   ]
  },
  {
   "cell_type": "markdown",
   "metadata": {
    "deletable": false,
    "editable": false,
    "kernel": "SoS",
    "nbgrader": {
     "cell_type": "markdown",
     "checksum": "43a3686c76333ea9f2ba4ca975c9ed68",
     "grade": false,
     "grade_id": "cell-53a3a2270cb0e9e9_2022",
     "locked": true,
     "schema_version": 3,
     "solution": false,
     "task": false
    },
    "user_expressions": []
   },
   "source": [
    "(python-image-viewer)=\n",
    "# 4. Python Image Viewer\n",
    "[Back to table of contents](#toc)\n",
    "\n",
    "To ease image visualization and manipulation, we have developed a library, the `imviewer` class, which you will use throughout the labs.\n",
    "Before using the class, be sure to check the documentation [wiki](https://github.com/Biomedical-Imaging-Group/interactive-kit/wiki/Image-Viewer). \n",
    "\n",
    "The `imviewer` runs without explicitly importing any external libraries. However, we will import the library `Ipywidgets` ([see documentation](https://ipywidgets.readthedocs.io/en/latest/)) to allow for interactive visualization. You will even use it to add your own functions to the viewer's interface! \n",
    "\n",
    "How to import`imviewer`: \n",
    "```python\n",
    "%matplotlib widget\n",
    "from interactive_kit import imviewer as viewer\n",
    "```\n",
    "  \n",
    "Run the cell below to import the viewer and load the images we will work with."
   ]
  },
  {
   "cell_type": "code",
   "execution_count": null,
   "metadata": {
    "deletable": false,
    "editable": false,
    "kernel": "SoS",
    "nbgrader": {
     "cell_type": "code",
     "checksum": "253acd6d204d2005813c7b58a6bce0d6",
     "grade": false,
     "grade_id": "cell-7428d86ca38a5846_2022",
     "locked": true,
     "schema_version": 3,
     "solution": false,
     "task": false
    }
   },
   "outputs": [],
   "source": [
    "%use sos\n",
    "# Configure plotting as dynamic\n",
    "%matplotlib widget\n",
    "# Import required packages for this exercise\n",
    "import numpy as np\n",
    "import matplotlib.pyplot as plt\n",
    "import ipywidgets as widgets\n",
    "# Import imviewer\n",
    "from interactive_kit import imviewer as viewer\n",
    "\n",
    "# Import images\n",
    "car   = plt.imread('images/car_pad.tif')\n",
    "hrct  = plt.imread('images/hrct.tif')\n",
    "hands = plt.imread('images/hands.tif')\n",
    "plate = plt.imread('images/plate.tif')\n",
    "boats = plt.imread('images/boats.tif')"
   ]
  },
  {
   "cell_type": "markdown",
   "metadata": {
    "deletable": false,
    "editable": false,
    "kernel": "SoS",
    "nbgrader": {
     "cell_type": "markdown",
     "checksum": "6d70cdc027f3f5cd9c0b6a3ee65b82a6",
     "grade": false,
     "grade_id": "cell-657e3cbdc0448d7f_2022",
     "locked": true,
     "schema_version": 3,
     "solution": false,
     "task": false
    },
    "user_expressions": []
   },
   "source": [
    "(creation-of-a-viewer)=\n",
    "## 4.A. Creation of a viewer\n",
    "[Back to table of contents](#toc)\n",
    "\n",
    "Follow an instructional video below by Alejandro Noguerón Arámburu, one of the student developers. He will guide you and exemplify the use of the viewer.\n",
    "\n",
    ":::{iframe} https://www.youtube-nocookie.com/embed/OKYy3C0MCm0\n",
    ":width: 80%\n",
    ":::"
   ]
  },
  {
   "cell_type": "code",
   "execution_count": null,
   "metadata": {
    "deletable": false,
    "editable": false,
    "kernel": "SoS",
    "nbgrader": {
     "cell_type": "code",
     "checksum": "12bd9fae271ba4ff2f86313a33abd598",
     "grade": false,
     "grade_id": "cell-8c66520f78de83a7_2022",
     "locked": true,
     "schema_version": 3,
     "solution": false,
     "task": false
    }
   },
   "outputs": [],
   "source": [
    "%use sos\n",
    "\n",
    "# Declare image list\n",
    "first_list = [hands, plate, car, hrct]\n",
    "# Declare titles (only two)\n",
    "title_list = ['Hands', 'Plate']\n",
    "# First we close all matplotlib existing figures to improve performance\n",
    "plt.close('all')\n",
    "# Call the image viewer with the image list as first argument. The rest of the arguments are optional\n",
    "first_viewer = viewer(first_list, title=title_list, widgets=True, hist=True, axis=True, cmap='spring')"
   ]
  },
  {
   "cell_type": "markdown",
   "metadata": {
    "deletable": false,
    "editable": false,
    "kernel": "Python3",
    "nbgrader": {
     "cell_type": "markdown",
     "checksum": "3121cdd76cb0f7c940de19521f918914",
     "grade": false,
     "grade_id": "cell-a5e4b682445f2497_2022",
     "locked": true,
     "schema_version": 3,
     "solution": false,
     "task": false
    },
    "user_expressions": []
   },
   "source": [
    "To create an `imviewer` object, you simply call the function `viewer` and assign it a variable name. Ideally, the variable should be self-explanatory and end with the word *viewer* to avoid confusion (for example, `first_viewer` as above). Some of the most importante features of a `viewer` are:\n",
    "\n",
    "**The colorbar option of the viewer is currently not working**\n",
    "\n",
    "* **Images**: The same viewer can load many images at once. In this example, it was created with $4$ images. By default, you can switch between the images using the buttons `Prev` and `Next` on the widgets panel.\n",
    "* **Titles**: You can give the viewer titles for each image, which will be shown immediately above it. If you do not provide a title for some images, the variable name will be shown by default. In this example, only $2$ were given.\n",
    "* **Customization**: Several of the class' functionalities (e.g., `widgets`, `hist`, `axis`) can be enabled from the beginning. A user can later turn them off using the widgets or [calling methods](#prog_customization) of the object. \n",
    "* **Colormap**: The colormap to be used can be set from the start with the parameter `cmap = colormap`, where `colormap` is a string that specifies the desired colormap. It can be dynamically changed using `Options` and choosing one of the supported colormaps in the drop-down menu. \n",
    "* **Statistics**: On the lower part of the widget panel, the image statistics of the area of the image being displayed are shown. If you use the button with a little square at the left of the images to zoom into a selected region, you will see the statistics are updated in real time. You can also use the button with crossed double-arrows to pan through the image at a specific level of zoom. You can always use the button *Reset* to see the whole image again.\n",
    "\n",
    ":::{warning} The statistics displayed in the `imviewer` objects are rounded to the second decimal. If you need an exact statistic, use the functions [`np.mean`](https://numpy.org/doc/stable/reference/generated/numpy.mean.html) or [`np.std`](https://numpy.org/doc/stable/reference/generated/numpy.std.html) on the images (NumPy arrays) directly.\n",
    ":::\n",
    "\n",
    "* **Histogram**: Besides the normal *counts* vs *value* bars in a histogram, you will see a black line. This line represents *input* vs *output* intensity values. This line changes its position and slope if you change the brightness and contrast of the image. All pixel values that are to the left of the point where the line touches the bottom have the minimum intensity, and all that are to the right of the point where the line touches the top have the maximum intensity, and the ones that are in-between those two points have an intensity that is linearly scaled between the maximum and minumum value.\n",
    "\n",
    "* **Display mode**: There are several options to display a list of images\n",
    "    * Default display: Display only one image at a time, and use the buttons `Next` and `Prev` to browse the different images. \n",
    "    * Set `subplots=(m, n)`: Arrange the images in an $m \\times n$ grid."
   ]
  },
  {
   "cell_type": "markdown",
   "metadata": {
    "deletable": false,
    "editable": false,
    "kernel": "SoS",
    "nbgrader": {
     "cell_type": "markdown",
     "checksum": "d33a93b8344ac0215a73544c9c374b6e",
     "grade": false,
     "grade_id": "cell-8968f2ec659eabd8_2022",
     "locked": true,
     "schema_version": 3,
     "solution": false,
     "task": false
    },
    "user_expressions": []
   },
   "source": [
    "(using-widgets)=\n",
    "## 4.B. Using widgets\n",
    "[Back to table of contents](#toc)\n",
    "\n",
    "If you just want a quick visualization, you can call the `imviewer` with the image you want to display (or list of images). All the parameters will be set to their default values (`cmap = 'gray'`, single image mode, all the features set to off), but you can use the widgets to change this. Run the next cell to see all the default values. Go through all the widgets and explore their options while going through the explanatory cell below."
   ]
  },
  {
   "cell_type": "code",
   "execution_count": null,
   "metadata": {
    "deletable": false,
    "editable": false,
    "kernel": "SoS",
    "nbgrader": {
     "cell_type": "code",
     "checksum": "85cfe8e3271185567adfdecf4d97ff2d",
     "grade": false,
     "grade_id": "cell-4c9a9ee49d9b0563_2022",
     "locked": true,
     "schema_version": 3,
     "solution": false,
     "task": false
    }
   },
   "outputs": [],
   "source": [
    "%use sos\n",
    "# In order to keep the memory load on Noto low, we will generally close all figures before continuing.\n",
    "# This means that the previous viewers are no longer interactive!\n",
    "# But you can run their cell again if you need to.\n",
    "plt.close('all')\n",
    "\n",
    "# Declare image list\n",
    "second_list = [hrct, hands, car]\n",
    "# Call the image viewer with minimal arguments\n",
    "second_viewer = viewer(second_list)"
   ]
  },
  {
   "cell_type": "markdown",
   "metadata": {
    "deletable": false,
    "editable": false,
    "kernel": "SoS",
    "nbgrader": {
     "cell_type": "markdown",
     "checksum": "a879391458482ae687cc8c9c6097e7c7",
     "grade": false,
     "grade_id": "cell-84bfec4cb677badb_2022",
     "locked": true,
     "schema_version": 3,
     "solution": false,
     "task": false
    }
   },
   "source": [
    "Your first view consists of:\n",
    "* A **toolbar** with series of buttons at the left, which serve to control the dynamic environment. If you hover your mouse in the buttons, wou will see what each button does:\n",
    "    * *Three horizontal lines*: Hide the toolbar\n",
    "    * *House*: Reset the zoom of the images. \n",
    "    * *Cross with arrows*: Pan through an image. Click on it, then click on the image, hold and drag to pan through the axis.\n",
    "    * *Square*: Zoom. Click on it, then click on the image, hold and drag to create a rectangular area. Release to zoom to the region.\n",
    "    * *Floppy disk*: Take screenshot of figure and save in PNG format. \n",
    "* The **figure** holding the images (one figure is holding all the images). You can change the size of a figure using the small gray triangle (bottom-right corner). If you hover your cursor over the triangle, you will see it change to a two-sided arrow. By clicking on it you will be able to adjust the figure size.\n",
    "* A **button** with the legend *Show Widgets*. Click on it and it will take you to the widget main menu. \n",
    "\n",
    "In the widgets main menu you will see the following widgets:\n",
    "* **Brightness and Contrast** Slider: In this menu you will be able to change the color scaling of the image through a slider, given in percentages of the original maximum and minimum intensities.\n",
    "* **Show Histogram** Button: Show or hide the histograms of the images.\n",
    "* **Options** Button: It will take you to the options menu, where you will be able to show or hide the axis and change the colormap.\n",
    "* **Reset** Button: This will reset the all the parameters to the default state (colormap, brightness/contrast ect.), while the _House Button_ on the top left only resets the display area of the viewer and doesn't change any parameters.\n",
    "* **Stats** Textbox: Here you will see the mean, the standard deviation, the range of values and the size of the image. Mean, standard deviation and range of values will be updated when you zoom to a region. "
   ]
  },
  {
   "cell_type": "markdown",
   "metadata": {
    "deletable": false,
    "editable": false,
    "kernel": "SoS",
    "nbgrader": {
     "cell_type": "markdown",
     "checksum": "817845ee7aa2929b26775a7ffe2a04bc",
     "grade": false,
     "grade_id": "cell-9ea67aac7563d95e_2022",
     "locked": true,
     "schema_version": 3,
     "solution": false,
     "task": false
    }
   },
   "source": [
    "### Multiple choice question\n",
    "\n",
    "Answer the following question using the viewer that you just defined.\n",
    "\n",
    "In the image `car`, what is the mean value of **the carpet that the car is standing on**? \n",
    "Hint: Zoom into several regions that are not too close to the edge nor to the car.\n",
    "\n",
    "1. Around 40\n",
    "2. Around 60 \n",
    "3. Around 80\n",
    "\n",
    "In the following cell, modify the variable `answer` to your actual answer, e.g., `answer=1`, `answer=2`, or `answer=3`."
   ]
  },
  {
   "cell_type": "code",
   "execution_count": null,
   "metadata": {
    "deletable": false,
    "kernel": "SoS",
    "nbgrader": {
     "cell_type": "code",
     "checksum": "fb5f7561710122b9b37748e8d1b9ed31",
     "grade": false,
     "grade_id": "cell-40970ade3d3b9d3e_2022",
     "locked": false,
     "schema_version": 3,
     "solution": true,
     "task": false
    }
   },
   "outputs": [],
   "source": [
    "%use sos\n",
    "# Assign your answer to this variable\n",
    "answer = None\n",
    "\n",
    "# YOUR CODE HERE"
   ]
  },
  {
   "cell_type": "code",
   "execution_count": null,
   "metadata": {
    "deletable": false,
    "editable": false,
    "kernel": "SoS",
    "nbgrader": {
     "cell_type": "code",
     "checksum": "1897ff8a9e96d2a2ad1a29a81c1e19a4",
     "grade": true,
     "grade_id": "cell-9db1b31c6c9f4ebb_2022",
     "locked": true,
     "points": 1,
     "schema_version": 3,
     "solution": false,
     "task": false
    }
   },
   "outputs": [],
   "source": [
    "%use sos\n",
    "# Let's do a sanity check - check that the answer is one of the possible choices\n",
    "assert answer in [1, 2, 3], \"Select one of the answers: 1, 2 or 3.\"\n"
   ]
  },
  {
   "cell_type": "markdown",
   "metadata": {
    "deletable": false,
    "editable": false,
    "kernel": "Python3",
    "nbgrader": {
     "cell_type": "markdown",
     "checksum": "9524f417cf5502b5c8847b892e878abe",
     "grade": false,
     "grade_id": "cell-cadfd7977fd0c514_2022",
     "locked": true,
     "schema_version": 3,
     "solution": false,
     "task": false
    },
    "user_expressions": []
   },
   "source": [
    "(user-defined-widgets)=\n",
    "## 4.C. User defined widgets\n",
    "[Back to table of contents](#toc)\n",
    "\n",
    "`imviewer` allows you to create a function in a Jupyter notebook, and apply it simultaneously to all images within your `imviewer` object for a set of slider values. The function you create will take as parameters:\n",
    "* an image (`NumPy array`), and \n",
    "* one or more numerical values.\n",
    "\n",
    "\n",
    "In the next cells, you will see a very basic example. We will apply a pixel-wise operation on the image `car`: all the pixels with a value below a treshold (given in $\\%$) will be set to the *maximum* value. \n",
    "\n",
    "First, we define the thresholding function `your_function`. Run the next cell to define it."
   ]
  },
  {
   "cell_type": "code",
   "execution_count": null,
   "metadata": {
    "deletable": false,
    "editable": false,
    "kernel": "SoS",
    "nbgrader": {
     "cell_type": "code",
     "checksum": "a678ab330ef3f65569c4ac0f89473a3b",
     "grade": false,
     "grade_id": "cell-55a5bc0c6ea1421e_2022",
     "locked": true,
     "schema_version": 3,
     "solution": false,
     "task": false
    }
   },
   "outputs": [],
   "source": [
    "%use sos\n",
    "# Define your function\n",
    "def your_function(image, threshold):    \n",
    "    # We make a copy of the original, where we will apply our threshold.\n",
    "    output = np.copy(image)\n",
    "    # For greater flexibility, we will get the value as a percentage of the maximum\n",
    "    value = threshold * 0.01 * np.amax(image)\n",
    "    # Apply threshold\n",
    "    output[image < value] = np.amax(image)\n",
    "    return output"
   ]
  },
  {
   "cell_type": "markdown",
   "metadata": {
    "deletable": false,
    "editable": false,
    "kernel": "Python3",
    "nbgrader": {
     "cell_type": "markdown",
     "checksum": "a4305b6cfcec25483e5549b69e603588",
     "grade": false,
     "grade_id": "cell-14964870466b5936_2022",
     "locked": true,
     "schema_version": 3,
     "solution": false,
     "task": false
    },
    "user_expressions": []
   },
   "source": [
    "Besides defining your function, you need to define the corresponding slider(s), a button to run `your_function` with the sliders' values, and the specific function that will run `your_function` i.e., the slider's _callback_ function.\n",
    "\n",
    ":::{note} Although this is rather abstract, the example will make it clear. We will use an integer slider in the range $[0,100]$ `widgets.IntSlider`, a button that clearly specifies what our function does `widgets.Button`, and a callback function `callback` that calls `your_function` with the slider's value as threshold. Run the next cell, click the button *Extra Widgets*, and try different values. Remember to click on `Apply Threshold`!\n",
    ":::\n",
    "    \n",
    "If you want some guidance, follow an instructional video below by Alejandro.\n",
    "\n",
    ":::{iframe} https://www.youtube-nocookie.com/embed/__JXopJPLxQ\n",
    ":width: 80%\n",
    ":::"
   ]
  },
  {
   "cell_type": "code",
   "execution_count": null,
   "metadata": {
    "deletable": false,
    "editable": false,
    "kernel": "SoS",
    "nbgrader": {
     "cell_type": "code",
     "checksum": "b5838637ae4940389a18cb0390d643a7",
     "grade": false,
     "grade_id": "cell-e2ea67738f143d53_2022",
     "locked": true,
     "schema_version": 3,
     "solution": false,
     "task": false
    }
   },
   "outputs": [],
   "source": [
    "%use sos\n",
    "# close all open figures\n",
    "plt.close('all')\n",
    "\n",
    "# Declare slider\n",
    "threshold_slider = widgets.IntSlider(value=0, min=0, max=100, step=1, \n",
    "                                     description='Threshold', continuous_update=False)\n",
    "\n",
    "# Declare button with meaningful description\n",
    "activation_button = widgets.Button(description='Apply Threshold')\n",
    "\n",
    "# Declare callback\n",
    "def callback(img):\n",
    "    # Get slider value\n",
    "    threshold = threshold_slider.value\n",
    "    # Call your function\n",
    "    output = your_function(img, threshold)\n",
    "    return output\n",
    "\n",
    "# Call viewer, passing the widget and callback separately as lists\n",
    "threshold_viewer = viewer(car, new_widgets=[threshold_slider, activation_button], callbacks=[callback], widgets=True)"
   ]
  },
  {
   "cell_type": "markdown",
   "metadata": {
    "deletable": false,
    "editable": false,
    "kernel": "SoS",
    "nbgrader": {
     "cell_type": "markdown",
     "checksum": "15582f6f13dddb326671b51073b7529d",
     "grade": false,
     "grade_id": "cell-0804c94b19bd4813_2022",
     "locked": true,
     "schema_version": 3,
     "solution": false,
     "task": false
    },
    "user_expressions": []
   },
   "source": [
    "(programmatic-customization)=\n",
    "## 4.D. Programmatic customization\n",
    "[Back to table of contents](#toc)\n",
    "\n",
    "Most options can be modified either through widgets or in code. Run the following cells. In the first one, we will create the object `car_viewer`, which displays the image `car`. By running the next cells, one by one, we will produce changes on the `car_viewer` without interacting with it directly. "
   ]
  },
  {
   "cell_type": "code",
   "execution_count": null,
   "metadata": {
    "deletable": false,
    "editable": false,
    "kernel": "SoS",
    "nbgrader": {
     "cell_type": "code",
     "checksum": "7f100bc65de72a747d849992f2ea36c8",
     "grade": false,
     "grade_id": "cell-0adc06240b7fb8f6_2022",
     "locked": true,
     "schema_version": 3,
     "solution": false,
     "task": false
    }
   },
   "outputs": [],
   "source": [
    "%use sos\n",
    "plt.close('all')\n",
    "car_viewer = viewer(car)"
   ]
  },
  {
   "cell_type": "code",
   "execution_count": null,
   "metadata": {
    "deletable": false,
    "editable": false,
    "kernel": "SoS",
    "nbgrader": {
     "cell_type": "code",
     "checksum": "7f556f1bec1d116e94280bf121b55f04",
     "grade": false,
     "grade_id": "cell-1b8d66f801e17ad6_2022",
     "locked": true,
     "schema_version": 3,
     "solution": false,
     "task": false
    }
   },
   "outputs": [],
   "source": [
    "%use sos\n",
    "car_viewer.set_axis(axis=True)"
   ]
  },
  {
   "cell_type": "code",
   "execution_count": null,
   "metadata": {
    "deletable": false,
    "editable": false,
    "kernel": "SoS",
    "nbgrader": {
     "cell_type": "code",
     "checksum": "9a3f00baf2dfd8d4cdd8ae38da3c781e",
     "grade": false,
     "grade_id": "cell-0e6236013e5c3ce0_2022",
     "locked": true,
     "schema_version": 3,
     "solution": false,
     "task": false
    }
   },
   "outputs": [],
   "source": [
    "%use sos\n",
    "car_viewer.set_widgets(widgets=True)"
   ]
  },
  {
   "cell_type": "code",
   "execution_count": null,
   "metadata": {
    "deletable": false,
    "editable": false,
    "kernel": "SoS",
    "nbgrader": {
     "cell_type": "code",
     "checksum": "82b05f464e37bde8d3a3b04e2ad06c5e",
     "grade": false,
     "grade_id": "cell-a207084db8f17ffe_2022",
     "locked": true,
     "schema_version": 3,
     "solution": false,
     "task": false
    }
   },
   "outputs": [],
   "source": [
    "%use sos\n",
    "car_viewer.set_colormap(colormap='viridis')"
   ]
  },
  {
   "cell_type": "code",
   "execution_count": null,
   "metadata": {
    "deletable": false,
    "editable": false,
    "kernel": "SoS",
    "nbgrader": {
     "cell_type": "code",
     "checksum": "060ba906548924ab713f3dd779096d2e",
     "grade": false,
     "grade_id": "cell-1421c5cef26871ee_2022",
     "locked": true,
     "schema_version": 3,
     "solution": false,
     "task": false
    }
   },
   "outputs": [],
   "source": [
    "%use sos\n",
    "car_viewer.show_histogram(hist=True)"
   ]
  },
  {
   "cell_type": "code",
   "execution_count": null,
   "metadata": {
    "deletable": false,
    "editable": false,
    "kernel": "SoS",
    "nbgrader": {
     "cell_type": "code",
     "checksum": "2893a42f2197bd05383777d8a8ddeb97",
     "grade": false,
     "grade_id": "cell-2de4a3a7d51d3081_2022",
     "locked": true,
     "schema_version": 3,
     "solution": false,
     "task": false
    }
   },
   "outputs": [],
   "source": [
    "%use sos\n",
    "car_viewer.set_axis(axis=False)"
   ]
  },
  {
   "cell_type": "markdown",
   "metadata": {
    "deletable": false,
    "editable": false,
    "kernel": "SoS",
    "nbgrader": {
     "cell_type": "markdown",
     "checksum": "5b4d1be9d8339eca3aa2968dfd577475",
     "grade": false,
     "grade_id": "cell-c3d11e9258b772d6_2022",
     "locked": true,
     "schema_version": 3,
     "solution": false,
     "task": false
    },
    "user_expressions": []
   },
   "source": [
    "(4.5-try-it-yourself)=\n",
    "## 4.E. Try it yourself!\n",
    "[Back to table of contents](#toc)\n",
    "\n",
    "### Creating an imviewer\n",
    "Create in the next cell a viewer object with the following characteristics (do it with code, on one or several lines):\n",
    "* The first image should be `hrct` and the second `plate`,\n",
    "* The titles are left as default,\n",
    "* The colormap is set to `'inferno'`,\n",
    "* The axis are set to `False`,\n",
    "* Only a single image at a time is displayed.\n",
    "\n",
    "Store your object in the variable `exercise_viewer`."
   ]
  },
  {
   "cell_type": "code",
   "execution_count": null,
   "metadata": {
    "deletable": false,
    "kernel": "SoS",
    "nbgrader": {
     "cell_type": "code",
     "checksum": "c7a3506b84f2fb166f702abe627f38d4",
     "grade": false,
     "grade_id": "cell-7c287f72627b42ee_2022",
     "locked": false,
     "schema_version": 3,
     "solution": true,
     "task": false
    }
   },
   "outputs": [],
   "source": [
    "%use sos\n",
    "plt.close('all')\n",
    "exercise_viewer = None\n",
    "# YOUR CODE HERE"
   ]
  },
  {
   "cell_type": "markdown",
   "metadata": {
    "deletable": false,
    "editable": false,
    "kernel": "SoS",
    "nbgrader": {
     "cell_type": "markdown",
     "checksum": "589ae283fb6c08900ea5447462284813",
     "grade": false,
     "grade_id": "cell-2bdd59455d4932c7_2022",
     "locked": true,
     "schema_version": 3,
     "solution": false,
     "task": false
    }
   },
   "source": [
    "If you want to check the state of your `imviewer` object, you can check [the documentation](https://github.com/Biomedical-Imaging-Group/interactive-kit/wiki/Image-Viewer) and explore the attributes. See the two examples in the next cell. Both should show that there are indeed two images. The second one is in the form of an assertion (it will produce an error if the condition is not met), to let you know if your viewer is in the right direction."
   ]
  },
  {
   "cell_type": "code",
   "execution_count": null,
   "metadata": {
    "deletable": false,
    "editable": false,
    "kernel": "SoS",
    "nbgrader": {
     "cell_type": "code",
     "checksum": "e72290e3e57d9111c787aaf712c042f9",
     "grade": true,
     "grade_id": "cell-18c524bc087e7f47_2022",
     "locked": true,
     "points": 1,
     "schema_version": 3,
     "solution": false,
     "task": false
    }
   },
   "outputs": [],
   "source": [
    "%use sos\n",
    "# Sanity check\n",
    "assert exercise_viewer.number_images == 2, f'Your viewer should have 2 images! Instead it has {exercise_viewer.number_images}.'\n",
    "print('Well done! Your viewer seems to be working.')"
   ]
  },
  {
   "cell_type": "markdown",
   "metadata": {
    "deletable": false,
    "editable": false,
    "kernel": "Python3",
    "nbgrader": {
     "cell_type": "markdown",
     "checksum": "c3087fc189c805f0cf31e75c613f4aa9",
     "grade": false,
     "grade_id": "cell-c9740827ae01cf09_2022",
     "locked": true,
     "schema_version": 3,
     "solution": false,
     "task": false
    }
   },
   "source": [
    "### Threshold operation\n",
    "\n",
    "Now you will program a function and add a slider to apply this function to the image (see Section [4.C.](#4.C.-User-defined-widgets)).\n",
    "\n",
    "Your first task is to define a function `range_function(img, rmin, rmax)` that will only **keep** pixel values inside a range of values $[r_{\\mathrm{min}}, r_{\\mathrm{max}}]$ ($r_{\\mathrm{min}}$ and $r_{\\mathrm{max}}$ included), while the values outside this range will be set to $0$.\n",
    "You will apply it on the image `car`, so `rmin` and `rmax` should be between $0$ and $255$. Define this function in the following cell. \n",
    "\n",
    "<div class=\"alert alert-info\">\n",
    "  \n",
    "<b>Note: </b> Use boolean indexing of the NumPy array `img`, as in the thresholding example, to perform the necessary operations.\n",
    "</div>"
   ]
  },
  {
   "cell_type": "code",
   "execution_count": null,
   "metadata": {
    "deletable": false,
    "kernel": "SoS",
    "nbgrader": {
     "cell_type": "code",
     "checksum": "c1e4585f365c9df8154dff123d548888",
     "grade": false,
     "grade_id": "cell-f7d3dd947484c706_2022",
     "locked": false,
     "schema_version": 3,
     "solution": true,
     "task": false
    }
   },
   "outputs": [],
   "source": [
    "%use sos\n",
    "# Define your function\n",
    "def range_function(img, rmin, rmax):    \n",
    "    # Best practices are creating a copy. You don't wanna mess the original.\n",
    "    output = np.copy(img)\n",
    "    # set the pixels of output that are smaller than rmin or bigger than rmax to 0\n",
    "    # YOUR CODE HERE\n",
    "    return output"
   ]
  },
  {
   "cell_type": "markdown",
   "metadata": {
    "deletable": false,
    "editable": false,
    "kernel": "Python3",
    "nbgrader": {
     "cell_type": "markdown",
     "checksum": "7adaf929b3d952f937478df7ee3b9a05",
     "grade": false,
     "grade_id": "cell-3be6645cb0bdcfa7_2022",
     "locked": true,
     "schema_version": 3,
     "solution": false,
     "task": false
    },
    "user_expressions": []
   },
   "source": [
    "You can test your function with the following cell. In it, we define a linear array `test_array` that is formed by the integers from 0 to 255 in ascending order, using the method [NumPy.arange](https://NumPy.org/doc/stable/reference/generated/NumPy.arange.html). Then, we apply your function with the range $[100, 199]$ to it. There should be exactly $100$ elements that were not set to $0$. If the cell runs smoothly, your implementation is probably correct.\n",
    ":::{note} The function `np.count_nonzero(arr)` counts the number of elements in `arr` that are not zero.\n",
    ":::"
   ]
  },
  {
   "cell_type": "code",
   "execution_count": null,
   "metadata": {
    "deletable": false,
    "editable": false,
    "kernel": "SoS",
    "nbgrader": {
     "cell_type": "code",
     "checksum": "c81a7300fef85a9fb0c39aa48d9cf503",
     "grade": true,
     "grade_id": "cell-d32bcff0667c88a9_2022",
     "locked": true,
     "points": 1,
     "schema_version": 3,
     "solution": false,
     "task": false
    }
   },
   "outputs": [],
   "source": [
    "%use sos\n",
    "test_array = np.arange(0, 256)\n",
    "assert np.count_nonzero(range_function(test_array, 100, 199)) == 100, 'Your implementation is not yet correct.'\n",
    "print('Congratulations! Your function is correct.')\n"
   ]
  },
  {
   "cell_type": "markdown",
   "metadata": {
    "deletable": false,
    "editable": false,
    "kernel": "Python3",
    "nbgrader": {
     "cell_type": "markdown",
     "checksum": "0f6121260fbcb366badbdb91cfca54a4",
     "grade": false,
     "grade_id": "cell-3f34bb973b3d4d00_2022",
     "locked": true,
     "schema_version": 3,
     "solution": false,
     "task": false
    }
   },
   "source": [
    "Declare the necessary widgets to control this function (slider(s) and a button, as well as the button's callback function). Use one `IntRangeSlider` ([see doc](https://ipywidgets.readthedocs.io/en/latest/examples/Widget%20List.html#IntRangeSlider)). When you get the value of this slider (by calling `IntRangeSlider.value`), you get a list with two elements corresponding to the minimum and the maximum value of the range. You can use these values to call your function (`range_slider.value[0]` and `range_slider.value[1]` if `range_slider` has been defined as an `IntRangeSlider` widget). \n",
    "\n",
    "Use the next cell to declare your widgets (store the slider in the variable `range_slider`, your button on `range_button` and your callback on `range_callback(img)`)"
   ]
  },
  {
   "cell_type": "code",
   "execution_count": null,
   "metadata": {
    "deletable": false,
    "kernel": "SoS",
    "nbgrader": {
     "cell_type": "code",
     "checksum": "3ead6103052cb36c63f59bcd54b89ee0",
     "grade": false,
     "grade_id": "cell-a4cde69b86b888bf_2022",
     "locked": false,
     "schema_version": 3,
     "solution": true,
     "task": false
    }
   },
   "outputs": [],
   "source": [
    "%use sos\n",
    "# Declare the slider \n",
    "range_slider = None\n",
    "# YOUR CODE HERE\n",
    "\n",
    "# Declare the button\n",
    "range_button = None\n",
    "# YOUR CODE HERE\n",
    "\n",
    "# Declare the callback\n",
    "def range_callback(img):\n",
    "    # Define output\n",
    "    output = None\n",
    "    \n",
    "    # Get slider value\n",
    "    # YOUR CODE HERE\n",
    "    \n",
    "    # Call your function, e.g., output = range_function(img, ...)\n",
    "    # YOUR CODE HERE\n",
    "    \n",
    "    return output"
   ]
  },
  {
   "cell_type": "markdown",
   "metadata": {
    "deletable": false,
    "editable": false,
    "kernel": "Python3",
    "nbgrader": {
     "cell_type": "markdown",
     "checksum": "a738f9f8183912a8a41968c823d0747f",
     "grade": false,
     "grade_id": "cell-abf2c178c0bb354b_2022",
     "locked": true,
     "schema_version": 3,
     "solution": false,
     "task": false
    }
   },
   "source": [
    "Now we will create an `imviewer` using your widgets. Explore the results of your function (click the button *Extra Widgets*), explore different values and see if you implemented it correctly."
   ]
  },
  {
   "cell_type": "code",
   "execution_count": null,
   "metadata": {
    "deletable": false,
    "editable": false,
    "kernel": "SoS",
    "nbgrader": {
     "cell_type": "code",
     "checksum": "bcfef384f027ec71a742818273033d8e",
     "grade": true,
     "grade_id": "cell-fa45b07997e9a3be_2022",
     "locked": true,
     "points": 1,
     "schema_version": 3,
     "solution": false,
     "task": false
    }
   },
   "outputs": [],
   "source": [
    "%use sos\n",
    "# Call viewer, passing the widget and callback separately as lists, e.g., range_viewer = viewer(car, ...)\n",
    "plt.close('all')\n",
    "range_viewer = viewer(car, new_widgets=[range_slider, range_button], callbacks=[range_callback], widgets=True)"
   ]
  },
  {
   "cell_type": "markdown",
   "metadata": {
    "deletable": false,
    "editable": false,
    "kernel": "Python3",
    "nbgrader": {
     "cell_type": "markdown",
     "checksum": "36fc7efd8f5bd6697bafcf4da658ed11",
     "grade": false,
     "grade_id": "cell-664b2e3212e77d83_2022",
     "locked": true,
     "schema_version": 3,
     "solution": false,
     "task": false
    },
    "tags": [],
    "user_expressions": []
   },
   "source": [
    "(image-processing-in-python)=\n",
    "# 5. Image processing in Python\n",
    "[Back to table of contents](#toc)\n",
    "\n",
    "Throughout this course we will focus on one most common image processing library\n",
    "[**`scikit-image`**](https://scikit-image.org/).\n",
    "\n",
    "Scikit stands for SciPy Toolkits, it is developed specifically for image-processing tasks. These toolkits are add-on packages for SciPy. They have become very well known and have a large community of users and developers. \n",
    "\n",
    "Follow a short instructional video below by Alejandro and Stan on how to check the documentation this library.\n",
    "\n",
    ":::{iframe} https://www.youtube-nocookie.com/embed/e1rsEUgDDko\n",
    ":width: 80%\n",
    ":::"
   ]
  },
  {
   "cell_type": "markdown",
   "metadata": {
    "deletable": false,
    "editable": false,
    "kernel": "SoS",
    "nbgrader": {
     "cell_type": "markdown",
     "checksum": "da82e1e80591c81a3abf8f14eed4e46b",
     "grade": false,
     "grade_id": "cell-5ab320cdc58bb6a4_2022",
     "locked": true,
     "schema_version": 3,
     "solution": false,
     "task": false
    }
   },
   "source": [
    "Just as with `NumPy` (`np`) or `matplotlib.pyplot` (`plt`), there is a standard abbreviation to import this library. "
   ]
  },
  {
   "cell_type": "code",
   "execution_count": null,
   "metadata": {
    "deletable": false,
    "editable": false,
    "kernel": "SoS",
    "nbgrader": {
     "cell_type": "code",
     "checksum": "9a1d619989fe53f1091e01e9afb80294",
     "grade": false,
     "grade_id": "cell-b6c2cf1a70404c3c_2022",
     "locked": true,
     "schema_version": 3,
     "solution": false,
     "task": false
    }
   },
   "outputs": [],
   "source": [
    "%use sos\n",
    "# Scikit-image\n",
    "import skimage"
   ]
  },
  {
   "cell_type": "markdown",
   "metadata": {
    "deletable": false,
    "editable": false,
    "kernel": "Python3",
    "nbgrader": {
     "cell_type": "markdown",
     "checksum": "12d8117584a92b9fd97786c88f7073aa",
     "grade": false,
     "grade_id": "cell-0cb660a1ec41ba44_2022",
     "locked": true,
     "schema_version": 3,
     "solution": false,
     "task": false
    },
    "user_expressions": []
   },
   "source": [
    "(examples)=\n",
    "# 5.A. Examples\n",
    "[Back to table of contents](#toc)\n",
    "\n",
    "Now we will go through two very basic operations: rotation and edge detection for you to get familiar with scikit-image. We will show you the basic syntax. For the full list of parameters and options, go to the official documentation of each function. \n"
   ]
  },
  {
   "cell_type": "markdown",
   "metadata": {
    "deletable": false,
    "editable": false,
    "kernel": "Python3",
    "nbgrader": {
     "cell_type": "markdown",
     "checksum": "4c4ebe9f85c9abe085b9f2725108cebc",
     "grade": false,
     "grade_id": "cell-79ce99f7a56c697c_2022",
     "locked": true,
     "schema_version": 3,
     "solution": false,
     "task": false
    }
   },
   "source": [
    "### Rotation in Scikit Image\n",
    "\n",
    "The basic syntax of the function for grayscale images is  (see [the documentation](https://scikit-image.org/docs/stable/api/skimage.transform.html?highlight=rotate#skimage.transform.rotate)):\n",
    "```python\n",
    "output = skimage.transform.rotate(image, angle, resize=False, center=None, mode='reflect', preserve_range=True)\n",
    "```\n",
    "\n",
    "The parameters are:\n",
    "* `input`: The source image, \n",
    "* `angle`: Rotation angle in degrees,\n",
    "* `resize`: Specify whether to resize the image to contain the full original. Defaults to `False`,\n",
    "* `center`: Specifies the center of rotation. The order is (columns, rows),\n",
    "* `mode`: Specify boundary conditions (see the last example). \n",
    "\n",
    "\n",
    "We will apply sciki-image's rotation to `car` for an angle of $60^\\circ$ with the center of rotation at $(50, 50)$. Run the next cell to see the result. Modify the cell and experiment with the different parameters."
   ]
  },
  {
   "cell_type": "code",
   "execution_count": null,
   "metadata": {
    "kernel": "SoS"
   },
   "outputs": [],
   "source": [
    "%use sos\n",
    "# First, we import the module transform\n",
    "from skimage import transform\n",
    "\n",
    "# Now we apply operation\n",
    "rot_car_skimage = skimage.transform.rotate(car, angle=60, resize=False, center=(50, 50), mode='reflect', preserve_range=True)\n",
    "\n",
    "# And visualize\n",
    "plt.close('all')\n",
    "skimage_rotate_viewer = viewer([car, rot_car_skimage], title=['Original', 'Rotated'], subplots=(1,2))"
   ]
  },
  {
   "cell_type": "markdown",
   "metadata": {
    "deletable": false,
    "editable": false,
    "kernel": "Python3",
    "nbgrader": {
     "cell_type": "markdown",
     "checksum": "ba6c7dcb5a3e0d1ed6a0973dd51f3a5f",
     "grade": false,
     "grade_id": "cell-733a7afa84c2df9c_2022",
     "locked": true,
     "schema_version": 3,
     "solution": false,
     "task": false
    }
   },
   "source": [
    "### Edge Detection in Scikit Image\n",
    "\n",
    "The basic syntax of the Sobel filter for grayscale images is  (see [the documentation](https://scikit-image.org/docs/dev/api/skimage.filters.html#skimage.filters.sobel)):\n",
    "\n",
    "```python\n",
    "output = skimage.filters.sobel(image, axis=None, mode='reflect')\n",
    "```\n",
    "\n",
    "The parameters are:\n",
    "* `image`: The source image, \n",
    "* `axis`: If given, compute the axis in the specified direction. If `None`, the magnitude of the gradient is calculated,\n",
    "* `mode`: Specify boundary conditions (see example above). \n",
    "\n",
    "\n",
    "Run the next cell to apply Scikit-Image Sobel filter on the image `plate`. Modify the cell and play with the different values and with different images."
   ]
  },
  {
   "cell_type": "code",
   "execution_count": null,
   "metadata": {
    "kernel": "SoS"
   },
   "outputs": [],
   "source": [
    "%use sos\n",
    "# First, we import the module filters\n",
    "from skimage import filters\n",
    "\n",
    "# Apply filter\n",
    "plate_edges_skimage = skimage.filters.sobel(plate, axis=None, mode='reflect')\n",
    "\n",
    "# Visualize\n",
    "plt.close('all')\n",
    "skimage_edge_viewer = viewer([plate, plate_edges_skimage], title=['Original', 'Edges'], subplots=(1,2))"
   ]
  },
  {
   "cell_type": "markdown",
   "metadata": {
    "deletable": false,
    "editable": false,
    "kernel": "Python3",
    "nbgrader": {
     "cell_type": "markdown",
     "checksum": "26ade8de63ff76bdc9983400919f8d4f",
     "grade": false,
     "grade_id": "cell-0ba867cc74367641_2022",
     "locked": true,
     "schema_version": 3,
     "solution": false,
     "task": false
    },
    "user_expressions": []
   },
   "source": [
    "(5.2-try-it-yourself)=\n",
    "## 5.B. Try it yourself!\n",
    "[Back to table of contents](#toc)\n",
    "\n",
    "Complete the function `gaussian_blur`, which implements a **Gaussian smoothing** on the given input image. Set\n",
    "* the standard deviation of the Gaussian kernel to be $5$,\n",
    "* boundary conditions to be reflective, and\n",
    "* keep the original range of values.\n",
    "\n",
    ":::{attention} In python it's important to always specify the parameter names when using a function. Only this way, you can be sure that you set the correct parameters. For example, don't use `skimage.filters.sobel(plate, None, 'reflect')`, but instead use `skimage.filters.sobel(plate, axis=None, mode='reflect')`.\n",
    ":::"
   ]
  },
  {
   "cell_type": "code",
   "execution_count": null,
   "metadata": {
    "deletable": false,
    "kernel": "SoS",
    "nbgrader": {
     "cell_type": "code",
     "checksum": "521869661d9516a44aa56bb01e109f0e",
     "grade": false,
     "grade_id": "cell-3aad12f740231a32_2022",
     "locked": false,
     "schema_version": 3,
     "solution": true,
     "task": false
    }
   },
   "outputs": [],
   "source": [
    "%use sos\n",
    "# Function that applies a Gaussian blur\n",
    "def gaussian_blur(img):\n",
    "    out = np.zeros(img.shape)\n",
    "    \n",
    "    # YOUR CODE HERE\n",
    "    \n",
    "    return out"
   ]
  },
  {
   "cell_type": "code",
   "execution_count": null,
   "metadata": {
    "deletable": false,
    "editable": false,
    "kernel": "SoS",
    "nbgrader": {
     "cell_type": "code",
     "checksum": "9beab941790e8489d3283769099b913f",
     "grade": true,
     "grade_id": "cell-1919408b3ba0b1c7_2022",
     "locked": true,
     "points": 2,
     "schema_version": 3,
     "solution": false,
     "task": false
    }
   },
   "outputs": [],
   "source": [
    "%use sos\n",
    "# Visualize \n",
    "plt.close('all')\n",
    "gaussian_viewer = viewer([boats, gaussian_blur(boats)], title=['Original', 'Blurred'], subplots=(1,2))"
   ]
  },
  {
   "cell_type": "markdown",
   "metadata": {
    "deletable": false,
    "editable": false,
    "kernel": "SoS",
    "nbgrader": {
     "cell_type": "markdown",
     "checksum": "5e59325df47d160023e4694f62bb77b1",
     "grade": false,
     "grade_id": "cell-f73b5f5675b1f46e_2022",
     "locked": true,
     "schema_version": 3,
     "solution": false,
     "task": false
    },
    "user_expressions": []
   },
   "source": [
    "Congratulations on finishing this first lab of IP1!\n",
    "\n",
    "\n",
    ":::{attention}\n",
    "Make sure to save your notebook (you might want to keep a copy on your personal computer) and submit it on Moodle before the deadline. Check the [Moodle](https://moodle.epfl.ch/course/view.php?id=522) page of the course for detailed instructions of submission. **Please do not rename the notebook!**\n",
    ":::"
   ]
  }
 ],
 "metadata": {
  "kernelspec": {
   "display_name": "SoS",
   "language": "sos",
   "name": "sos"
  },
  "language_info": {
   "codemirror_mode": "sos",
   "file_extension": ".sos",
   "mimetype": "text/x-sos",
   "name": "sos",
   "nbconvert_exporter": "sos_notebook.converter.SoS_Exporter",
   "pygments_lexer": "sos"
  },
  "sos": {
   "kernels": [
    [
     "JavaScript",
     "javascript",
     "JavaScript",
     "#c8e1ae",
     ""
    ],
    [
     "SoS",
     "sos",
     "",
     "",
     "sos"
    ]
   ],
   "panel": {
    "displayed": false,
    "height": 0
   },
   "version": "0.24.4"
  }
 },
 "nbformat": 4,
 "nbformat_minor": 4
}
